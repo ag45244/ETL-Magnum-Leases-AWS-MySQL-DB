{
 "cells": [
  {
   "cell_type": "code",
   "execution_count": 1,
   "metadata": {},
   "outputs": [],
   "source": [
    "import pandas as pd\n",
    "import os\n",
    "\n",
    "from IPython.core.interactiveshell import InteractiveShell\n",
    "InteractiveShell.ast_node_interactivity = \"all\""
   ]
  },
  {
   "cell_type": "markdown",
   "metadata": {},
   "source": [
    "# Read Source Data, Clean, and Prepare for Tables"
   ]
  },
  {
   "cell_type": "code",
   "execution_count": 2,
   "metadata": {},
   "outputs": [
    {
     "data": {
      "text/plain": [
       "['etl.py',\n",
       " '.DS_Store',\n",
       " 'Scratch Sheet Script - Clean Source Data & Test ETL & QC.ipynb',\n",
       " 'Images',\n",
       " 'SQL Files',\n",
       " '__pycache__',\n",
       " 'readme.md',\n",
       " '.gitignore',\n",
       " 'datamap_config.py',\n",
       " 'db_config.py',\n",
       " '.ipynb_checkpoints',\n",
       " 'dataclean.py',\n",
       " 'main.py',\n",
       " 'Source Data - Excel File']"
      ]
     },
     "execution_count": 2,
     "metadata": {},
     "output_type": "execute_result"
    }
   ],
   "source": [
    "os.listdir()"
   ]
  },
  {
   "cell_type": "markdown",
   "metadata": {},
   "source": [
    "### Creating Dynamic FileName based on Location"
   ]
  },
  {
   "cell_type": "code",
   "execution_count": 3,
   "metadata": {},
   "outputs": [
    {
     "data": {
      "text/plain": [
       "'Test R&R & Magnum Master - BLM Leases.xlsx'"
      ]
     },
     "execution_count": 3,
     "metadata": {},
     "output_type": "execute_result"
    }
   ],
   "source": [
    "#filtering out temp system files on mac\n",
    "srcfile = list(filter(lambda x: 'ds_store' not in x.lower(), os.listdir('Source Data - Excel File/Test Data')))[0]\n",
    "srcfile"
   ]
  },
  {
   "cell_type": "markdown",
   "metadata": {},
   "source": [
    "### Dictionary to hold parsing keys"
   ]
  },
  {
   "cell_type": "code",
   "execution_count": 4,
   "metadata": {},
   "outputs": [],
   "source": [
    "srcParse = {\n",
    "'sheet_name': 'MASTER',\n",
    "'header': 9,\n",
    "'cols': 'A:AF'    \n",
    "}"
   ]
  },
  {
   "cell_type": "code",
   "execution_count": 5,
   "metadata": {
    "scrolled": true
   },
   "outputs": [],
   "source": [
    "srcData = pd.read_excel('Source Data - Excel File/Test Data/{}'.format(srcfile), header = srcParse['header'], usecols=srcParse['cols'])"
   ]
  },
  {
   "cell_type": "code",
   "execution_count": 90,
   "metadata": {},
   "outputs": [],
   "source": [
    "srcData = pd.read_excel('Source Data - Excel File/Master - BLM Leases.xlsx', header = srcParse['header'], usecols=srcParse['cols'])\n",
    "\n",
    "\n"
   ]
  },
  {
   "cell_type": "code",
   "execution_count": 91,
   "metadata": {},
   "outputs": [
    {
     "data": {
      "text/html": [
       "<div>\n",
       "<style scoped>\n",
       "    .dataframe tbody tr th:only-of-type {\n",
       "        vertical-align: middle;\n",
       "    }\n",
       "\n",
       "    .dataframe tbody tr th {\n",
       "        vertical-align: top;\n",
       "    }\n",
       "\n",
       "    .dataframe thead th {\n",
       "        text-align: right;\n",
       "    }\n",
       "</style>\n",
       "<table border=\"1\" class=\"dataframe\">\n",
       "  <thead>\n",
       "    <tr style=\"text-align: right;\">\n",
       "      <th></th>\n",
       "      <th>LEASE NO.</th>\n",
       "      <th>PLOTTED</th>\n",
       "      <th>GRANTEE</th>\n",
       "      <th>SALE DATE</th>\n",
       "      <th>EFFECTIVE DATE OF LEASE</th>\n",
       "      <th>EXPIRATION DATE</th>\n",
       "      <th>ACRES</th>\n",
       "      <th>COUNTY</th>\n",
       "      <th>ST</th>\n",
       "      <th>STATUS/COMMENTS</th>\n",
       "      <th>EXPIRATION YEAR</th>\n",
       "      <th>TOWNSHIP</th>\n",
       "      <th>RANGE</th>\n",
       "      <th>DESCRIPTION I</th>\n",
       "      <th>DESCRIPTION II</th>\n",
       "      <th>DESCRIPTION III</th>\n",
       "      <th>PARCEL NO</th>\n",
       "      <th>DUE AT SALE</th>\n",
       "      <th>DUE AFTER SALE (REFUNDED)</th>\n",
       "      <th>TOTAL  PAID</th>\n",
       "      <th>AMOUNT OF RENTAL</th>\n",
       "      <th>YEARS RENEWED</th>\n",
       "      <th>RENTALS PAID UP TO DATE</th>\n",
       "      <th>TOTAL INVESTMENT (BONUS + RENTALS)</th>\n",
       "      <th>Estimated Bonus $/Acre</th>\n",
       "      <th>UA %</th>\n",
       "      <th>RA%</th>\n",
       "      <th>KA%</th>\n",
       "      <th>RECORDED LEASE</th>\n",
       "      <th>DATE FILED (OVERRIDE)</th>\n",
       "      <th>% OF OVERRIDES</th>\n",
       "      <th>Assignment of ORRI</th>\n",
       "    </tr>\n",
       "  </thead>\n",
       "  <tbody>\n",
       "    <tr>\n",
       "      <th>0</th>\n",
       "      <td>TXNM096140</td>\n",
       "      <td>NO</td>\n",
       "      <td>R&amp;R Royalty</td>\n",
       "      <td>1995-10-19 00:00:00</td>\n",
       "      <td>1995-12-01 00:00:00</td>\n",
       "      <td>2005-12-01</td>\n",
       "      <td>NaN</td>\n",
       "      <td>MONTGOMERY</td>\n",
       "      <td>TX</td>\n",
       "      <td>Expired 2005</td>\n",
       "      <td>2005.0</td>\n",
       "      <td>NaN</td>\n",
       "      <td>NaN</td>\n",
       "      <td>ASSIGNMENT REC'D FROM DAN</td>\n",
       "      <td>TRACTS J22, J22A, J22B</td>\n",
       "      <td>NaN</td>\n",
       "      <td>NaN</td>\n",
       "      <td>NaN</td>\n",
       "      <td>790.5</td>\n",
       "      <td>790.50</td>\n",
       "      <td>NaN</td>\n",
       "      <td>10.0</td>\n",
       "      <td>0.0</td>\n",
       "      <td>790.50</td>\n",
       "      <td>0.000000</td>\n",
       "      <td></td>\n",
       "      <td>NaN</td>\n",
       "      <td>NaN</td>\n",
       "      <td>NaN</td>\n",
       "      <td>NaN</td>\n",
       "      <td>NaN</td>\n",
       "      <td>NaN</td>\n",
       "    </tr>\n",
       "    <tr>\n",
       "      <th>1</th>\n",
       "      <td>NaN</td>\n",
       "      <td>NaN</td>\n",
       "      <td>NaN</td>\n",
       "      <td>NaN</td>\n",
       "      <td>NaN</td>\n",
       "      <td>NaT</td>\n",
       "      <td>NaN</td>\n",
       "      <td>NaN</td>\n",
       "      <td>NaN</td>\n",
       "      <td>NaN</td>\n",
       "      <td>NaN</td>\n",
       "      <td>NaN</td>\n",
       "      <td>NaN</td>\n",
       "      <td>NaN</td>\n",
       "      <td>NaN</td>\n",
       "      <td>NaN</td>\n",
       "      <td>NaN</td>\n",
       "      <td>NaN</td>\n",
       "      <td>NaN</td>\n",
       "      <td>NaN</td>\n",
       "      <td>NaN</td>\n",
       "      <td>NaN</td>\n",
       "      <td>NaN</td>\n",
       "      <td>NaN</td>\n",
       "      <td>NaN</td>\n",
       "      <td>NaN</td>\n",
       "      <td>NaN</td>\n",
       "      <td>NaN</td>\n",
       "      <td>NaN</td>\n",
       "      <td>NaN</td>\n",
       "      <td>NaN</td>\n",
       "      <td>NaN</td>\n",
       "    </tr>\n",
       "    <tr>\n",
       "      <th>2</th>\n",
       "      <td>TXNM103231</td>\n",
       "      <td>NO</td>\n",
       "      <td>R&amp;R Royalty</td>\n",
       "      <td>1999-05-13 00:00:00</td>\n",
       "      <td>1999-07-01 00:00:00</td>\n",
       "      <td>2009-07-01</td>\n",
       "      <td>NaN</td>\n",
       "      <td>HOUSTON</td>\n",
       "      <td>TX</td>\n",
       "      <td>Expired 2009 - Bought from Dan Gonzales</td>\n",
       "      <td>2009.0</td>\n",
       "      <td>NaN</td>\n",
       "      <td>NaN</td>\n",
       "      <td>SAM HOUSTON NATL FOREST</td>\n",
       "      <td>ASSIGNMENT REC'D FROM DAN</td>\n",
       "      <td>NaN</td>\n",
       "      <td>NaN</td>\n",
       "      <td>NaN</td>\n",
       "      <td>1253.5</td>\n",
       "      <td>1253.50</td>\n",
       "      <td>NaN</td>\n",
       "      <td>10.0</td>\n",
       "      <td>0.0</td>\n",
       "      <td>1253.50</td>\n",
       "      <td>0.000000</td>\n",
       "      <td>0.5</td>\n",
       "      <td>NaN</td>\n",
       "      <td>NaN</td>\n",
       "      <td>NaN</td>\n",
       "      <td>NaN</td>\n",
       "      <td>NaN</td>\n",
       "      <td>NaN</td>\n",
       "    </tr>\n",
       "    <tr>\n",
       "      <th>3</th>\n",
       "      <td>NaN</td>\n",
       "      <td>NaN</td>\n",
       "      <td>NaN</td>\n",
       "      <td>NaN</td>\n",
       "      <td>NaN</td>\n",
       "      <td>NaT</td>\n",
       "      <td>NaN</td>\n",
       "      <td>NaN</td>\n",
       "      <td>NaN</td>\n",
       "      <td>NaN</td>\n",
       "      <td>NaN</td>\n",
       "      <td>NaN</td>\n",
       "      <td>NaN</td>\n",
       "      <td>NaN</td>\n",
       "      <td>NaN</td>\n",
       "      <td>NaN</td>\n",
       "      <td>NaN</td>\n",
       "      <td>NaN</td>\n",
       "      <td>NaN</td>\n",
       "      <td>NaN</td>\n",
       "      <td>NaN</td>\n",
       "      <td>NaN</td>\n",
       "      <td>NaN</td>\n",
       "      <td>NaN</td>\n",
       "      <td>NaN</td>\n",
       "      <td>NaN</td>\n",
       "      <td>NaN</td>\n",
       "      <td>NaN</td>\n",
       "      <td>NaN</td>\n",
       "      <td>NaN</td>\n",
       "      <td>NaN</td>\n",
       "      <td>NaN</td>\n",
       "    </tr>\n",
       "    <tr>\n",
       "      <th>4</th>\n",
       "      <td>TXNM091527</td>\n",
       "      <td>NO</td>\n",
       "      <td>R&amp;R Royalty</td>\n",
       "      <td>1993-07-21 00:00:00</td>\n",
       "      <td>1993-09-01 00:00:00</td>\n",
       "      <td>2003-09-01</td>\n",
       "      <td>NaN</td>\n",
       "      <td>KLEBERG</td>\n",
       "      <td>TX</td>\n",
       "      <td>Expired 2003 | Bid Refunded</td>\n",
       "      <td>2003.0</td>\n",
       "      <td>NaN</td>\n",
       "      <td>NaN</td>\n",
       "      <td>KINGSVILLE NAS</td>\n",
       "      <td>J MINDIOLOA SURVEY</td>\n",
       "      <td>LOTS &amp; TRACTS IN SEC 23 &amp; 30</td>\n",
       "      <td>NaN</td>\n",
       "      <td>NaN</td>\n",
       "      <td>4200</td>\n",
       "      <td>4200.00</td>\n",
       "      <td>NaN</td>\n",
       "      <td>10.0</td>\n",
       "      <td>0.0</td>\n",
       "      <td>4200.00</td>\n",
       "      <td>0.000000</td>\n",
       "      <td>0.5</td>\n",
       "      <td>NaN</td>\n",
       "      <td>NaN</td>\n",
       "      <td>NaN</td>\n",
       "      <td>NaN</td>\n",
       "      <td>NaN</td>\n",
       "      <td>NaN</td>\n",
       "    </tr>\n",
       "    <tr>\n",
       "      <th>5</th>\n",
       "      <td>NaN</td>\n",
       "      <td>NaN</td>\n",
       "      <td>NaN</td>\n",
       "      <td>NaN</td>\n",
       "      <td>NaN</td>\n",
       "      <td>NaT</td>\n",
       "      <td>NaN</td>\n",
       "      <td>NaN</td>\n",
       "      <td>NaN</td>\n",
       "      <td>NaN</td>\n",
       "      <td>NaN</td>\n",
       "      <td>NaN</td>\n",
       "      <td>NaN</td>\n",
       "      <td>NaN</td>\n",
       "      <td>NaN</td>\n",
       "      <td>NaN</td>\n",
       "      <td>NaN</td>\n",
       "      <td>NaN</td>\n",
       "      <td>NaN</td>\n",
       "      <td>NaN</td>\n",
       "      <td>NaN</td>\n",
       "      <td>NaN</td>\n",
       "      <td>NaN</td>\n",
       "      <td>NaN</td>\n",
       "      <td>NaN</td>\n",
       "      <td>NaN</td>\n",
       "      <td>NaN</td>\n",
       "      <td>NaN</td>\n",
       "      <td>NaN</td>\n",
       "      <td>NaN</td>\n",
       "      <td>NaN</td>\n",
       "      <td>NaN</td>\n",
       "    </tr>\n",
       "    <tr>\n",
       "      <th>6</th>\n",
       "      <td>TXNM102849</td>\n",
       "      <td>NO</td>\n",
       "      <td>R&amp;R Royalty</td>\n",
       "      <td>1999-04-21 00:00:00</td>\n",
       "      <td>1999-06-01 00:00:00</td>\n",
       "      <td>2009-06-01</td>\n",
       "      <td>NaN</td>\n",
       "      <td>KLEBERG</td>\n",
       "      <td>TX</td>\n",
       "      <td>Expired 2009</td>\n",
       "      <td>2009.0</td>\n",
       "      <td>NaN</td>\n",
       "      <td>NaN</td>\n",
       "      <td>TEXAS A&amp;M UNIVERSITY</td>\n",
       "      <td>LOTS 2-8, BLK 5, KING ADDITION-EX 47.75 A</td>\n",
       "      <td>NaN</td>\n",
       "      <td>9904002</td>\n",
       "      <td>42612.5</td>\n",
       "      <td>0</td>\n",
       "      <td>42612.50</td>\n",
       "      <td>NaN</td>\n",
       "      <td>10.0</td>\n",
       "      <td>0.0</td>\n",
       "      <td>42612.50</td>\n",
       "      <td>0.000000</td>\n",
       "      <td>0.5</td>\n",
       "      <td>NaN</td>\n",
       "      <td>NaN</td>\n",
       "      <td>NaN</td>\n",
       "      <td>NaN</td>\n",
       "      <td>NaN</td>\n",
       "      <td>NaN</td>\n",
       "    </tr>\n",
       "    <tr>\n",
       "      <th>7</th>\n",
       "      <td>NaN</td>\n",
       "      <td>NaN</td>\n",
       "      <td>NaN</td>\n",
       "      <td>NaN</td>\n",
       "      <td>NaN</td>\n",
       "      <td>NaT</td>\n",
       "      <td>NaN</td>\n",
       "      <td>NaN</td>\n",
       "      <td>NaN</td>\n",
       "      <td>NaN</td>\n",
       "      <td>NaN</td>\n",
       "      <td>NaN</td>\n",
       "      <td>NaN</td>\n",
       "      <td>NaN</td>\n",
       "      <td>NaN</td>\n",
       "      <td>NaN</td>\n",
       "      <td>NaN</td>\n",
       "      <td>NaN</td>\n",
       "      <td>NaN</td>\n",
       "      <td>NaN</td>\n",
       "      <td>NaN</td>\n",
       "      <td>NaN</td>\n",
       "      <td>NaN</td>\n",
       "      <td>NaN</td>\n",
       "      <td>NaN</td>\n",
       "      <td>NaN</td>\n",
       "      <td>NaN</td>\n",
       "      <td>NaN</td>\n",
       "      <td>NaN</td>\n",
       "      <td>NaN</td>\n",
       "      <td>NaN</td>\n",
       "      <td>NaN</td>\n",
       "    </tr>\n",
       "    <tr>\n",
       "      <th>8</th>\n",
       "      <td>TXNM103276</td>\n",
       "      <td>NO</td>\n",
       "      <td>R&amp;R Royalty</td>\n",
       "      <td>1999-07-21 00:00:00</td>\n",
       "      <td>1999-09-01 00:00:00</td>\n",
       "      <td>2009-09-01</td>\n",
       "      <td>NaN</td>\n",
       "      <td>HOUSTON</td>\n",
       "      <td>TX</td>\n",
       "      <td>Expired 2009 -  sold</td>\n",
       "      <td>2009.0</td>\n",
       "      <td>NaN</td>\n",
       "      <td>NaN</td>\n",
       "      <td>DAVY CROCKETT NATL FOREST</td>\n",
       "      <td>TRACT K-1g</td>\n",
       "      <td>NaN</td>\n",
       "      <td>9907041</td>\n",
       "      <td>1744.5</td>\n",
       "      <td>0</td>\n",
       "      <td>1744.50</td>\n",
       "      <td>NaN</td>\n",
       "      <td>10.0</td>\n",
       "      <td>0.0</td>\n",
       "      <td>1744.50</td>\n",
       "      <td>0.000000</td>\n",
       "      <td>0.5</td>\n",
       "      <td>NaN</td>\n",
       "      <td>NaN</td>\n",
       "      <td>NaN</td>\n",
       "      <td>NaN</td>\n",
       "      <td>NaN</td>\n",
       "      <td>NaN</td>\n",
       "    </tr>\n",
       "    <tr>\n",
       "      <th>9</th>\n",
       "      <td>TXNM103277</td>\n",
       "      <td>NO</td>\n",
       "      <td>R&amp;R Royalty</td>\n",
       "      <td>1999-07-21 00:00:00</td>\n",
       "      <td>1999-09-01 00:00:00</td>\n",
       "      <td>2009-09-01</td>\n",
       "      <td>NaN</td>\n",
       "      <td>HOUSTON</td>\n",
       "      <td>TX</td>\n",
       "      <td>Expired 2009 -  sold</td>\n",
       "      <td>2009.0</td>\n",
       "      <td>NaN</td>\n",
       "      <td>NaN</td>\n",
       "      <td>DAVY CROCKETT NATL FOREST</td>\n",
       "      <td>TRACT K-1h PARCEL #1</td>\n",
       "      <td>SEE EXHIBIT K FOR M&amp;B</td>\n",
       "      <td>9907042</td>\n",
       "      <td>1436.5</td>\n",
       "      <td>0</td>\n",
       "      <td>1436.50</td>\n",
       "      <td>NaN</td>\n",
       "      <td>10.0</td>\n",
       "      <td>0.0</td>\n",
       "      <td>1436.50</td>\n",
       "      <td>0.000000</td>\n",
       "      <td>0.5</td>\n",
       "      <td>NaN</td>\n",
       "      <td>NaN</td>\n",
       "      <td>NaN</td>\n",
       "      <td>NaN</td>\n",
       "      <td>NaN</td>\n",
       "      <td>NaN</td>\n",
       "    </tr>\n",
       "    <tr>\n",
       "      <th>10</th>\n",
       "      <td>TXNM103278</td>\n",
       "      <td>NO</td>\n",
       "      <td>R&amp;R Royalty</td>\n",
       "      <td>1999-07-21 00:00:00</td>\n",
       "      <td>1999-09-01 00:00:00</td>\n",
       "      <td>2009-09-01</td>\n",
       "      <td>NaN</td>\n",
       "      <td>HOUSTON</td>\n",
       "      <td>TX</td>\n",
       "      <td>Expired 2009 -  sold</td>\n",
       "      <td>2009.0</td>\n",
       "      <td>NaN</td>\n",
       "      <td>NaN</td>\n",
       "      <td>DAVY CROCKETT NATL FOREST</td>\n",
       "      <td>TRACT K-1i</td>\n",
       "      <td>NaN</td>\n",
       "      <td>9907043</td>\n",
       "      <td>2265</td>\n",
       "      <td>0</td>\n",
       "      <td>2265.00</td>\n",
       "      <td>NaN</td>\n",
       "      <td>10.0</td>\n",
       "      <td>0.0</td>\n",
       "      <td>2265.00</td>\n",
       "      <td>0.000000</td>\n",
       "      <td>0.5</td>\n",
       "      <td>NaN</td>\n",
       "      <td>NaN</td>\n",
       "      <td>NaN</td>\n",
       "      <td>NaN</td>\n",
       "      <td>NaN</td>\n",
       "      <td>NaN</td>\n",
       "    </tr>\n",
       "    <tr>\n",
       "      <th>11</th>\n",
       "      <td>TXNM103285</td>\n",
       "      <td>NO</td>\n",
       "      <td>R&amp;R Royalty</td>\n",
       "      <td>1999-07-21 00:00:00</td>\n",
       "      <td>1999-09-01 00:00:00</td>\n",
       "      <td>2009-09-01</td>\n",
       "      <td>NaN</td>\n",
       "      <td>HOUSTON</td>\n",
       "      <td>TX</td>\n",
       "      <td>Expired 2009 -  sold</td>\n",
       "      <td>2009.0</td>\n",
       "      <td>NaN</td>\n",
       "      <td>NaN</td>\n",
       "      <td>DAVY CROCKETT NATL FOREST</td>\n",
       "      <td>TRACT K-6</td>\n",
       "      <td>NaN</td>\n",
       "      <td>9907052</td>\n",
       "      <td>565</td>\n",
       "      <td>0</td>\n",
       "      <td>565.00</td>\n",
       "      <td>NaN</td>\n",
       "      <td>10.0</td>\n",
       "      <td>0.0</td>\n",
       "      <td>565.00</td>\n",
       "      <td>0.000000</td>\n",
       "      <td>0.5</td>\n",
       "      <td>NaN</td>\n",
       "      <td>NaN</td>\n",
       "      <td>NaN</td>\n",
       "      <td>NaN</td>\n",
       "      <td>NaN</td>\n",
       "      <td>NaN</td>\n",
       "    </tr>\n",
       "    <tr>\n",
       "      <th>12</th>\n",
       "      <td>TXNM103286</td>\n",
       "      <td>NO</td>\n",
       "      <td>R&amp;R Royalty</td>\n",
       "      <td>1999-07-21 00:00:00</td>\n",
       "      <td>1999-09-01 00:00:00</td>\n",
       "      <td>2009-09-01</td>\n",
       "      <td>NaN</td>\n",
       "      <td>HOUSTON</td>\n",
       "      <td>TX</td>\n",
       "      <td>Expired 2009 -  sold</td>\n",
       "      <td>2009.0</td>\n",
       "      <td>NaN</td>\n",
       "      <td>NaN</td>\n",
       "      <td>DAVY CROCKETT NATL FOREST</td>\n",
       "      <td>TRACT K-18</td>\n",
       "      <td>NaN</td>\n",
       "      <td>9907053</td>\n",
       "      <td>162.5</td>\n",
       "      <td>0</td>\n",
       "      <td>162.50</td>\n",
       "      <td>NaN</td>\n",
       "      <td>10.0</td>\n",
       "      <td>0.0</td>\n",
       "      <td>162.50</td>\n",
       "      <td>0.000000</td>\n",
       "      <td>0.5</td>\n",
       "      <td>NaN</td>\n",
       "      <td>NaN</td>\n",
       "      <td>NaN</td>\n",
       "      <td>NaN</td>\n",
       "      <td>NaN</td>\n",
       "      <td>NaN</td>\n",
       "    </tr>\n",
       "    <tr>\n",
       "      <th>13</th>\n",
       "      <td>TXNM103287</td>\n",
       "      <td>NO</td>\n",
       "      <td>R&amp;R Royalty</td>\n",
       "      <td>1999-07-21 00:00:00</td>\n",
       "      <td>1999-09-01 00:00:00</td>\n",
       "      <td>2009-09-01</td>\n",
       "      <td>NaN</td>\n",
       "      <td>HOUSTON</td>\n",
       "      <td>TX</td>\n",
       "      <td>Expired 2009 -  sold</td>\n",
       "      <td>2009.0</td>\n",
       "      <td>NaN</td>\n",
       "      <td>NaN</td>\n",
       "      <td>DAVY CROCKETT NATL FOREST</td>\n",
       "      <td>TRACT K-31</td>\n",
       "      <td>NaN</td>\n",
       "      <td>9907055</td>\n",
       "      <td>585</td>\n",
       "      <td>0</td>\n",
       "      <td>585.00</td>\n",
       "      <td>NaN</td>\n",
       "      <td>10.0</td>\n",
       "      <td>0.0</td>\n",
       "      <td>585.00</td>\n",
       "      <td>0.000000</td>\n",
       "      <td>0.5</td>\n",
       "      <td>NaN</td>\n",
       "      <td>NaN</td>\n",
       "      <td>NaN</td>\n",
       "      <td>NaN</td>\n",
       "      <td>NaN</td>\n",
       "      <td>NaN</td>\n",
       "    </tr>\n",
       "    <tr>\n",
       "      <th>14</th>\n",
       "      <td>TXNM103288</td>\n",
       "      <td>NO</td>\n",
       "      <td>R&amp;R Royalty</td>\n",
       "      <td>1999-07-21 00:00:00</td>\n",
       "      <td>1999-09-01 00:00:00</td>\n",
       "      <td>2009-09-01</td>\n",
       "      <td>NaN</td>\n",
       "      <td>HOUSTON</td>\n",
       "      <td>TX</td>\n",
       "      <td>Expired 2009 -  sold</td>\n",
       "      <td>2009.0</td>\n",
       "      <td>NaN</td>\n",
       "      <td>NaN</td>\n",
       "      <td>DAVY CROCKETT NATL FOREST</td>\n",
       "      <td>TRACT K-119</td>\n",
       "      <td>NaN</td>\n",
       "      <td>9907056</td>\n",
       "      <td>204.5</td>\n",
       "      <td>0</td>\n",
       "      <td>204.50</td>\n",
       "      <td>NaN</td>\n",
       "      <td>10.0</td>\n",
       "      <td>0.0</td>\n",
       "      <td>204.50</td>\n",
       "      <td>0.000000</td>\n",
       "      <td>0.5</td>\n",
       "      <td>NaN</td>\n",
       "      <td>NaN</td>\n",
       "      <td>NaN</td>\n",
       "      <td>NaN</td>\n",
       "      <td>NaN</td>\n",
       "      <td>NaN</td>\n",
       "    </tr>\n",
       "    <tr>\n",
       "      <th>15</th>\n",
       "      <td>TXNM103292</td>\n",
       "      <td>NO</td>\n",
       "      <td>R&amp;R Royalty</td>\n",
       "      <td>1999-07-21 00:00:00</td>\n",
       "      <td>1999-09-01 00:00:00</td>\n",
       "      <td>2009-09-01</td>\n",
       "      <td>NaN</td>\n",
       "      <td>SABINE</td>\n",
       "      <td>TX</td>\n",
       "      <td>Expired 2009</td>\n",
       "      <td>2009.0</td>\n",
       "      <td>NaN</td>\n",
       "      <td>NaN</td>\n",
       "      <td>SABINE NATL FOREST</td>\n",
       "      <td>TRACT S1Av</td>\n",
       "      <td>NaN</td>\n",
       "      <td>9907061</td>\n",
       "      <td>3004.5</td>\n",
       "      <td>0</td>\n",
       "      <td>3004.50</td>\n",
       "      <td>NaN</td>\n",
       "      <td>10.0</td>\n",
       "      <td>0.0</td>\n",
       "      <td>3004.50</td>\n",
       "      <td>0.000000</td>\n",
       "      <td>0.5</td>\n",
       "      <td>NaN</td>\n",
       "      <td>NaN</td>\n",
       "      <td>NaN</td>\n",
       "      <td>NaN</td>\n",
       "      <td>NaN</td>\n",
       "      <td>NaN</td>\n",
       "    </tr>\n",
       "    <tr>\n",
       "      <th>16</th>\n",
       "      <td>TXNM103293</td>\n",
       "      <td>NO</td>\n",
       "      <td>R&amp;R Royalty</td>\n",
       "      <td>1999-07-21 00:00:00</td>\n",
       "      <td>1999-09-01 00:00:00</td>\n",
       "      <td>2009-09-01</td>\n",
       "      <td>NaN</td>\n",
       "      <td>SABINE</td>\n",
       "      <td>TX</td>\n",
       "      <td>Expired 2009</td>\n",
       "      <td>2009.0</td>\n",
       "      <td>NaN</td>\n",
       "      <td>NaN</td>\n",
       "      <td>SABINE NATL FOREST</td>\n",
       "      <td>TRACT S-1Bb</td>\n",
       "      <td>SEE EXHIBIT L FOR M&amp;B</td>\n",
       "      <td>9907062</td>\n",
       "      <td>4457</td>\n",
       "      <td>0</td>\n",
       "      <td>4457.00</td>\n",
       "      <td>NaN</td>\n",
       "      <td>10.0</td>\n",
       "      <td>0.0</td>\n",
       "      <td>4457.00</td>\n",
       "      <td>0.000000</td>\n",
       "      <td>0.5</td>\n",
       "      <td>NaN</td>\n",
       "      <td>NaN</td>\n",
       "      <td>NaN</td>\n",
       "      <td>NaN</td>\n",
       "      <td>NaN</td>\n",
       "      <td>NaN</td>\n",
       "    </tr>\n",
       "    <tr>\n",
       "      <th>17</th>\n",
       "      <td>TXNM103296</td>\n",
       "      <td>NO</td>\n",
       "      <td>R&amp;R Royalty</td>\n",
       "      <td>1999-07-21 00:00:00</td>\n",
       "      <td>1999-09-01 00:00:00</td>\n",
       "      <td>2009-09-01</td>\n",
       "      <td>NaN</td>\n",
       "      <td>SAN AUGUSTINE</td>\n",
       "      <td>TX</td>\n",
       "      <td>Expired 2009</td>\n",
       "      <td>2009.0</td>\n",
       "      <td>NaN</td>\n",
       "      <td>NaN</td>\n",
       "      <td>ANGELINA NATL FOREST</td>\n",
       "      <td>TRACT A-22a PARCEL #2</td>\n",
       "      <td>NaN</td>\n",
       "      <td>9907072</td>\n",
       "      <td>603.5</td>\n",
       "      <td>0</td>\n",
       "      <td>603.50</td>\n",
       "      <td>NaN</td>\n",
       "      <td>10.0</td>\n",
       "      <td>0.0</td>\n",
       "      <td>603.50</td>\n",
       "      <td>0.000000</td>\n",
       "      <td>0.5</td>\n",
       "      <td>NaN</td>\n",
       "      <td>NaN</td>\n",
       "      <td>NaN</td>\n",
       "      <td>NaN</td>\n",
       "      <td>NaN</td>\n",
       "      <td>NaN</td>\n",
       "    </tr>\n",
       "    <tr>\n",
       "      <th>18</th>\n",
       "      <td>TXNM103297</td>\n",
       "      <td>NO</td>\n",
       "      <td>R&amp;R Royalty</td>\n",
       "      <td>1999-07-21 00:00:00</td>\n",
       "      <td>1999-09-01 00:00:00</td>\n",
       "      <td>2009-09-01</td>\n",
       "      <td>NaN</td>\n",
       "      <td>SAN AUGUSTINE</td>\n",
       "      <td>TX</td>\n",
       "      <td>Expired 2009</td>\n",
       "      <td>2009.0</td>\n",
       "      <td>NaN</td>\n",
       "      <td>NaN</td>\n",
       "      <td>ANGELINA NATL FOREST</td>\n",
       "      <td>TRACT A-22d</td>\n",
       "      <td>NaN</td>\n",
       "      <td>9907073</td>\n",
       "      <td>911.5</td>\n",
       "      <td>0</td>\n",
       "      <td>911.50</td>\n",
       "      <td>NaN</td>\n",
       "      <td>10.0</td>\n",
       "      <td>0.0</td>\n",
       "      <td>911.50</td>\n",
       "      <td>0.000000</td>\n",
       "      <td>0.5</td>\n",
       "      <td>NaN</td>\n",
       "      <td>NaN</td>\n",
       "      <td>NaN</td>\n",
       "      <td>NaN</td>\n",
       "      <td>NaN</td>\n",
       "      <td>NaN</td>\n",
       "    </tr>\n",
       "    <tr>\n",
       "      <th>19</th>\n",
       "      <td>TXNM103301</td>\n",
       "      <td>NO</td>\n",
       "      <td>R&amp;R Royalty</td>\n",
       "      <td>1999-07-21 00:00:00</td>\n",
       "      <td>1999-09-01 00:00:00</td>\n",
       "      <td>2009-09-01</td>\n",
       "      <td>NaN</td>\n",
       "      <td>SAN AUGUSTINE/SABINE</td>\n",
       "      <td>TX</td>\n",
       "      <td>Expired 2009</td>\n",
       "      <td>2009.0</td>\n",
       "      <td>NaN</td>\n",
       "      <td>NaN</td>\n",
       "      <td>SABINE NATL FOREST</td>\n",
       "      <td>TRACT S-1An</td>\n",
       "      <td>NaN</td>\n",
       "      <td>9907081</td>\n",
       "      <td>3774.5</td>\n",
       "      <td>0</td>\n",
       "      <td>3774.50</td>\n",
       "      <td>NaN</td>\n",
       "      <td>10.0</td>\n",
       "      <td>0.0</td>\n",
       "      <td>3774.50</td>\n",
       "      <td>0.000000</td>\n",
       "      <td>0.5</td>\n",
       "      <td>NaN</td>\n",
       "      <td>NaN</td>\n",
       "      <td>NaN</td>\n",
       "      <td>NaN</td>\n",
       "      <td>NaN</td>\n",
       "      <td>NaN</td>\n",
       "    </tr>\n",
       "    <tr>\n",
       "      <th>20</th>\n",
       "      <td>TXNM103314</td>\n",
       "      <td>NO</td>\n",
       "      <td>R&amp;R Royalty</td>\n",
       "      <td>1999-07-21 00:00:00</td>\n",
       "      <td>1999-09-01 00:00:00</td>\n",
       "      <td>2009-09-01</td>\n",
       "      <td>NaN</td>\n",
       "      <td>HOUSTON</td>\n",
       "      <td>TX</td>\n",
       "      <td>Expired 2009 -  sold</td>\n",
       "      <td>2009.0</td>\n",
       "      <td>NaN</td>\n",
       "      <td>NaN</td>\n",
       "      <td>DAVY CROCKETT NATL FOREST</td>\n",
       "      <td>TRACT K-1a-II PARCEL #1</td>\n",
       "      <td>SEE EXHIBIT G FOR M&amp;B</td>\n",
       "      <td>9907035</td>\n",
       "      <td>3898.5</td>\n",
       "      <td>0</td>\n",
       "      <td>3898.50</td>\n",
       "      <td>NaN</td>\n",
       "      <td>10.0</td>\n",
       "      <td>0.0</td>\n",
       "      <td>3898.50</td>\n",
       "      <td>0.000000</td>\n",
       "      <td>0.5</td>\n",
       "      <td>NaN</td>\n",
       "      <td>NaN</td>\n",
       "      <td>NaN</td>\n",
       "      <td>NaN</td>\n",
       "      <td>NaN</td>\n",
       "      <td>NaN</td>\n",
       "    </tr>\n",
       "    <tr>\n",
       "      <th>21</th>\n",
       "      <td>TXNM103315</td>\n",
       "      <td>NO</td>\n",
       "      <td>R&amp;R Royalty</td>\n",
       "      <td>1999-07-21 00:00:00</td>\n",
       "      <td>1999-09-01 00:00:00</td>\n",
       "      <td>2009-09-01</td>\n",
       "      <td>NaN</td>\n",
       "      <td>HOUSTON</td>\n",
       "      <td>TX</td>\n",
       "      <td>Expired 2009 -  sold</td>\n",
       "      <td>2009.0</td>\n",
       "      <td>NaN</td>\n",
       "      <td>NaN</td>\n",
       "      <td>DAVY CROCKETT NATL FOREST</td>\n",
       "      <td>TRACT K-1a-II PARCEL #2</td>\n",
       "      <td>SEE EXHIBIT H FOR M&amp;B</td>\n",
       "      <td>9907036</td>\n",
       "      <td>3871.5</td>\n",
       "      <td>0</td>\n",
       "      <td>3871.50</td>\n",
       "      <td>NaN</td>\n",
       "      <td>10.0</td>\n",
       "      <td>0.0</td>\n",
       "      <td>3871.50</td>\n",
       "      <td>0.000000</td>\n",
       "      <td>0.5</td>\n",
       "      <td>NaN</td>\n",
       "      <td>NaN</td>\n",
       "      <td>NaN</td>\n",
       "      <td>NaN</td>\n",
       "      <td>NaN</td>\n",
       "      <td>NaN</td>\n",
       "    </tr>\n",
       "    <tr>\n",
       "      <th>22</th>\n",
       "      <td>ARES50476</td>\n",
       "      <td>NO</td>\n",
       "      <td>R&amp;R Royalty</td>\n",
       "      <td>1999-09-23 00:00:00</td>\n",
       "      <td>1999-11-01 00:00:00</td>\n",
       "      <td>2009-11-01</td>\n",
       "      <td>NaN</td>\n",
       "      <td>SEBASTIAN</td>\n",
       "      <td>AR</td>\n",
       "      <td>Expired 2009 - May be part of 16,327.47 acre E...</td>\n",
       "      <td>2009.0</td>\n",
       "      <td>NaN</td>\n",
       "      <td>NaN</td>\n",
       "      <td>OUICHATA NATL FOREST</td>\n",
       "      <td>T4N, R31W, 5TH PRINCIPAL MERIDIAN</td>\n",
       "      <td>SEC 32, SWNW</td>\n",
       "      <td>ES-09/99 48</td>\n",
       "      <td>215</td>\n",
       "      <td>1720</td>\n",
       "      <td>1935.00</td>\n",
       "      <td>NaN</td>\n",
       "      <td>10.0</td>\n",
       "      <td>0.0</td>\n",
       "      <td>1935.00</td>\n",
       "      <td>0.000000</td>\n",
       "      <td>0.5</td>\n",
       "      <td>NaN</td>\n",
       "      <td>NaN</td>\n",
       "      <td>NaN</td>\n",
       "      <td>NaN</td>\n",
       "      <td>NaN</td>\n",
       "      <td>NaN</td>\n",
       "    </tr>\n",
       "    <tr>\n",
       "      <th>23</th>\n",
       "      <td>LAES50481</td>\n",
       "      <td>NO</td>\n",
       "      <td>R&amp;R Royalty</td>\n",
       "      <td>1999-09-23 00:00:00</td>\n",
       "      <td>1999-11-01 00:00:00</td>\n",
       "      <td>2009-11-01</td>\n",
       "      <td>NaN</td>\n",
       "      <td>CALCASIEU</td>\n",
       "      <td>LA</td>\n",
       "      <td>Expired 2009</td>\n",
       "      <td>2009.0</td>\n",
       "      <td>NaN</td>\n",
       "      <td>NaN</td>\n",
       "      <td>NONE</td>\n",
       "      <td>T8S, R10W,  LOUISIANA MERIDIAN</td>\n",
       "      <td>SEC 1, SWNE</td>\n",
       "      <td>ES-09/99 53</td>\n",
       "      <td>222</td>\n",
       "      <td>15666</td>\n",
       "      <td>15888.00</td>\n",
       "      <td>NaN</td>\n",
       "      <td>10.0</td>\n",
       "      <td>0.0</td>\n",
       "      <td>15888.00</td>\n",
       "      <td>0.000000</td>\n",
       "      <td>0.5</td>\n",
       "      <td>NaN</td>\n",
       "      <td>NaN</td>\n",
       "      <td>NaN</td>\n",
       "      <td>NaN</td>\n",
       "      <td>NaN</td>\n",
       "      <td>NaN</td>\n",
       "    </tr>\n",
       "    <tr>\n",
       "      <th>24</th>\n",
       "      <td>MSES50483</td>\n",
       "      <td>NO</td>\n",
       "      <td>R&amp;R Royalty</td>\n",
       "      <td>1999-09-23 00:00:00</td>\n",
       "      <td>1999-11-01 00:00:00</td>\n",
       "      <td>2009-11-01</td>\n",
       "      <td>NaN</td>\n",
       "      <td>FORREST</td>\n",
       "      <td>MS</td>\n",
       "      <td>Expired 2009</td>\n",
       "      <td>2009.0</td>\n",
       "      <td>NaN</td>\n",
       "      <td>NaN</td>\n",
       "      <td>DESOTO NATL FOREST</td>\n",
       "      <td>T1S, R13W, ST. STEPHENS MERIDIAN</td>\n",
       "      <td>SEC 25</td>\n",
       "      <td>ES-09/99 55</td>\n",
       "      <td>638.5</td>\n",
       "      <td>11753</td>\n",
       "      <td>12391.50</td>\n",
       "      <td>NaN</td>\n",
       "      <td>10.0</td>\n",
       "      <td>0.0</td>\n",
       "      <td>12391.50</td>\n",
       "      <td>0.000000</td>\n",
       "      <td>0.5</td>\n",
       "      <td>NaN</td>\n",
       "      <td>NaN</td>\n",
       "      <td>NaN</td>\n",
       "      <td>NaN</td>\n",
       "      <td>NaN</td>\n",
       "      <td>NaN</td>\n",
       "    </tr>\n",
       "    <tr>\n",
       "      <th>25</th>\n",
       "      <td>NaN</td>\n",
       "      <td>NaN</td>\n",
       "      <td>NaN</td>\n",
       "      <td>NaN</td>\n",
       "      <td>NaN</td>\n",
       "      <td>NaT</td>\n",
       "      <td>NaN</td>\n",
       "      <td>NaN</td>\n",
       "      <td>NaN</td>\n",
       "      <td>NaN</td>\n",
       "      <td>NaN</td>\n",
       "      <td>NaN</td>\n",
       "      <td>NaN</td>\n",
       "      <td>NaN</td>\n",
       "      <td>NaN</td>\n",
       "      <td>NaN</td>\n",
       "      <td>NaN</td>\n",
       "      <td>NaN</td>\n",
       "      <td>NaN</td>\n",
       "      <td>NaN</td>\n",
       "      <td>NaN</td>\n",
       "      <td>NaN</td>\n",
       "      <td>NaN</td>\n",
       "      <td>NaN</td>\n",
       "      <td>NaN</td>\n",
       "      <td>NaN</td>\n",
       "      <td>NaN</td>\n",
       "      <td>NaN</td>\n",
       "      <td>NaN</td>\n",
       "      <td>NaN</td>\n",
       "      <td>NaN</td>\n",
       "      <td>NaN</td>\n",
       "    </tr>\n",
       "    <tr>\n",
       "      <th>26</th>\n",
       "      <td>LAES50520</td>\n",
       "      <td>NO</td>\n",
       "      <td>R&amp;R Royalty</td>\n",
       "      <td>1999-12-16 00:00:00</td>\n",
       "      <td>2000-02-01 00:00:00</td>\n",
       "      <td>2010-02-01</td>\n",
       "      <td>199.75</td>\n",
       "      <td>WEBSTER</td>\n",
       "      <td>LA</td>\n",
       "      <td>Expired 2010</td>\n",
       "      <td>2010.0</td>\n",
       "      <td>NaN</td>\n",
       "      <td>NaN</td>\n",
       "      <td>NONE</td>\n",
       "      <td>T17N, R10W, LOUISIANA MERIDIAN</td>\n",
       "      <td>SEC 20, SENE, N2SW, N2SE</td>\n",
       "      <td>ES-12/99 03</td>\n",
       "      <td>775</td>\n",
       "      <td>54600</td>\n",
       "      <td>55375.00</td>\n",
       "      <td>400.0</td>\n",
       "      <td>10.0</td>\n",
       "      <td>3500.0</td>\n",
       "      <td>58575.00</td>\n",
       "      <td>276.875000</td>\n",
       "      <td>0.5</td>\n",
       "      <td>NaN</td>\n",
       "      <td>NaN</td>\n",
       "      <td>NaN</td>\n",
       "      <td>NaN</td>\n",
       "      <td>NaN</td>\n",
       "      <td>NaN</td>\n",
       "    </tr>\n",
       "    <tr>\n",
       "      <th>27</th>\n",
       "      <td>MSES50524</td>\n",
       "      <td>NO</td>\n",
       "      <td>R&amp;R Royalty</td>\n",
       "      <td>1999-12-16 00:00:00</td>\n",
       "      <td>2000-02-01 00:00:00</td>\n",
       "      <td>2010-02-01</td>\n",
       "      <td>433.54</td>\n",
       "      <td>WAYNE</td>\n",
       "      <td>MS</td>\n",
       "      <td>Expired 2010 - SUBLEASE TERMINATED O/A 11-14-02</td>\n",
       "      <td>2010.0</td>\n",
       "      <td>NaN</td>\n",
       "      <td>NaN</td>\n",
       "      <td>NONE</td>\n",
       "      <td>T7N, R8W, ST, STEPHENS MERIDIAN</td>\n",
       "      <td>SEC 4, SWNE, W2, W2SE</td>\n",
       "      <td>ES-12/99 07</td>\n",
       "      <td>1594</td>\n",
       "      <td>42532</td>\n",
       "      <td>44126.00</td>\n",
       "      <td>868.0</td>\n",
       "      <td>10.0</td>\n",
       "      <td>7595.0</td>\n",
       "      <td>51070.00</td>\n",
       "      <td>101.672811</td>\n",
       "      <td>0.5</td>\n",
       "      <td>NaN</td>\n",
       "      <td>NaN</td>\n",
       "      <td>NaN</td>\n",
       "      <td>NaN</td>\n",
       "      <td>NaN</td>\n",
       "      <td>NaN</td>\n",
       "    </tr>\n",
       "    <tr>\n",
       "      <th>28</th>\n",
       "      <td>MSES50526</td>\n",
       "      <td>NO</td>\n",
       "      <td>R&amp;R Royalty</td>\n",
       "      <td>1999-12-16 00:00:00</td>\n",
       "      <td>2000-02-01 00:00:00</td>\n",
       "      <td>2010-02-01</td>\n",
       "      <td>NaN</td>\n",
       "      <td>CHICKASAW</td>\n",
       "      <td>MS</td>\n",
       "      <td>HBP-Gibraltar pays Royalty - Shut-in payment s...</td>\n",
       "      <td>2010.0</td>\n",
       "      <td>NaN</td>\n",
       "      <td>NaN</td>\n",
       "      <td>TOMBIGBEE NATL FOREST</td>\n",
       "      <td>T12S, R4E, CHICKASAW MERIDIAN</td>\n",
       "      <td>SEC 5, SW, E20ac OF SESE, 7ac IN SE  CORNER OF...</td>\n",
       "      <td>ES-12/99 09</td>\n",
       "      <td>1664</td>\n",
       "      <td>6356</td>\n",
       "      <td>8020.00</td>\n",
       "      <td>NaN</td>\n",
       "      <td>10.0</td>\n",
       "      <td>0.0</td>\n",
       "      <td>8020.00</td>\n",
       "      <td>0.000000</td>\n",
       "      <td>0.5</td>\n",
       "      <td>NaN</td>\n",
       "      <td>NaN</td>\n",
       "      <td>NaN</td>\n",
       "      <td>NaN</td>\n",
       "      <td>NaN</td>\n",
       "      <td>NaN</td>\n",
       "    </tr>\n",
       "    <tr>\n",
       "      <th>29</th>\n",
       "      <td>NaN</td>\n",
       "      <td>NaN</td>\n",
       "      <td>NaN</td>\n",
       "      <td>1999-12-31 00:00:00</td>\n",
       "      <td>1999-12-31 00:00:00</td>\n",
       "      <td>2009-12-31</td>\n",
       "      <td>NaN</td>\n",
       "      <td>NaN</td>\n",
       "      <td>NaN</td>\n",
       "      <td>Indirect Acquisation Cost</td>\n",
       "      <td>NaN</td>\n",
       "      <td>NaN</td>\n",
       "      <td>NaN</td>\n",
       "      <td>NaN</td>\n",
       "      <td>NaN</td>\n",
       "      <td>NaN</td>\n",
       "      <td>NaN</td>\n",
       "      <td>NaN</td>\n",
       "      <td>577.51</td>\n",
       "      <td>577.51</td>\n",
       "      <td>NaN</td>\n",
       "      <td>10.0</td>\n",
       "      <td>0.0</td>\n",
       "      <td>577.51</td>\n",
       "      <td>NaN</td>\n",
       "      <td>NaN</td>\n",
       "      <td>NaN</td>\n",
       "      <td>NaN</td>\n",
       "      <td>NaN</td>\n",
       "      <td>NaN</td>\n",
       "      <td>NaN</td>\n",
       "      <td>NaN</td>\n",
       "    </tr>\n",
       "    <tr>\n",
       "      <th>...</th>\n",
       "      <td>...</td>\n",
       "      <td>...</td>\n",
       "      <td>...</td>\n",
       "      <td>...</td>\n",
       "      <td>...</td>\n",
       "      <td>...</td>\n",
       "      <td>...</td>\n",
       "      <td>...</td>\n",
       "      <td>...</td>\n",
       "      <td>...</td>\n",
       "      <td>...</td>\n",
       "      <td>...</td>\n",
       "      <td>...</td>\n",
       "      <td>...</td>\n",
       "      <td>...</td>\n",
       "      <td>...</td>\n",
       "      <td>...</td>\n",
       "      <td>...</td>\n",
       "      <td>...</td>\n",
       "      <td>...</td>\n",
       "      <td>...</td>\n",
       "      <td>...</td>\n",
       "      <td>...</td>\n",
       "      <td>...</td>\n",
       "      <td>...</td>\n",
       "      <td>...</td>\n",
       "      <td>...</td>\n",
       "      <td>...</td>\n",
       "      <td>...</td>\n",
       "      <td>...</td>\n",
       "      <td>...</td>\n",
       "      <td>...</td>\n",
       "    </tr>\n",
       "    <tr>\n",
       "      <th>2532</th>\n",
       "      <td>ARES059277</td>\n",
       "      <td>YES</td>\n",
       "      <td>Magnum Producing</td>\n",
       "      <td>2018-06-21 00:00:00</td>\n",
       "      <td>2018-08-01 00:00:00</td>\n",
       "      <td>2028-08-01</td>\n",
       "      <td>120.00</td>\n",
       "      <td>CLEBURNE</td>\n",
       "      <td>AR</td>\n",
       "      <td>NaN</td>\n",
       "      <td>2028.0</td>\n",
       "      <td>12N</td>\n",
       "      <td>10W</td>\n",
       "      <td>T12N R10W SEC 15 NWSW SESW SWSE</td>\n",
       "      <td>NaN</td>\n",
       "      <td>NaN</td>\n",
       "      <td>ES-009-06/2018</td>\n",
       "      <td>580</td>\n",
       "      <td>0</td>\n",
       "      <td>580.00</td>\n",
       "      <td>180.0</td>\n",
       "      <td>4.0</td>\n",
       "      <td>720.0</td>\n",
       "      <td>1120.00</td>\n",
       "      <td>4.833333</td>\n",
       "      <td>NaN</td>\n",
       "      <td>0.1</td>\n",
       "      <td>0.1</td>\n",
       "      <td>Instrument # 201904281</td>\n",
       "      <td>NaN</td>\n",
       "      <td>NaN</td>\n",
       "      <td>NaN</td>\n",
       "    </tr>\n",
       "    <tr>\n",
       "      <th>2533</th>\n",
       "      <td>ARES059278</td>\n",
       "      <td>YES</td>\n",
       "      <td>Magnum Producing</td>\n",
       "      <td>2018-06-21 00:00:00</td>\n",
       "      <td>2018-08-01 00:00:00</td>\n",
       "      <td>2028-08-01</td>\n",
       "      <td>40.00</td>\n",
       "      <td>CLEBURNE</td>\n",
       "      <td>AR</td>\n",
       "      <td>NaN</td>\n",
       "      <td>2028.0</td>\n",
       "      <td>12N</td>\n",
       "      <td>12W</td>\n",
       "      <td>T12N R12W SEC 23 NESE</td>\n",
       "      <td>NaN</td>\n",
       "      <td>NaN</td>\n",
       "      <td>ES-010-06/2018</td>\n",
       "      <td>300</td>\n",
       "      <td>0</td>\n",
       "      <td>300.00</td>\n",
       "      <td>60.0</td>\n",
       "      <td>4.0</td>\n",
       "      <td>240.0</td>\n",
       "      <td>480.00</td>\n",
       "      <td>7.500000</td>\n",
       "      <td>NaN</td>\n",
       "      <td>0.1</td>\n",
       "      <td>0.1</td>\n",
       "      <td>Instrument # 201904281</td>\n",
       "      <td>NaN</td>\n",
       "      <td>NaN</td>\n",
       "      <td>NaN</td>\n",
       "    </tr>\n",
       "    <tr>\n",
       "      <th>2534</th>\n",
       "      <td>ARES059279</td>\n",
       "      <td>YES</td>\n",
       "      <td>Magnum Producing</td>\n",
       "      <td>2018-06-21 00:00:00</td>\n",
       "      <td>2018-08-01 00:00:00</td>\n",
       "      <td>2028-08-01</td>\n",
       "      <td>65.00</td>\n",
       "      <td>VAN BUREN</td>\n",
       "      <td>AR</td>\n",
       "      <td>HBP-LEASE COMMITTED TO CA(ARES 55803)-50% - US...</td>\n",
       "      <td>2028.0</td>\n",
       "      <td>9N</td>\n",
       "      <td>12W</td>\n",
       "      <td>T9N R12W SEC21 S2SE that part lying southerly ...</td>\n",
       "      <td>NaN</td>\n",
       "      <td>NaN</td>\n",
       "      <td>ES-011-06/2018</td>\n",
       "      <td>387.5</td>\n",
       "      <td>0</td>\n",
       "      <td>387.50</td>\n",
       "      <td>97.5</td>\n",
       "      <td>4.0</td>\n",
       "      <td>390.0</td>\n",
       "      <td>680.00</td>\n",
       "      <td>5.961538</td>\n",
       "      <td>NaN</td>\n",
       "      <td>0.1</td>\n",
       "      <td>0.1</td>\n",
       "      <td>Book # 2019; Pages # 2761</td>\n",
       "      <td>NaN</td>\n",
       "      <td>NaN</td>\n",
       "      <td>NaN</td>\n",
       "    </tr>\n",
       "    <tr>\n",
       "      <th>2535</th>\n",
       "      <td>ARES059280</td>\n",
       "      <td>YES</td>\n",
       "      <td>Magnum Producing</td>\n",
       "      <td>2018-06-21 00:00:00</td>\n",
       "      <td>2018-08-01 00:00:00</td>\n",
       "      <td>2028-08-01</td>\n",
       "      <td>39.80</td>\n",
       "      <td>VAN BUREN</td>\n",
       "      <td>AR</td>\n",
       "      <td>NaN</td>\n",
       "      <td>2028.0</td>\n",
       "      <td>11N</td>\n",
       "      <td>14W</td>\n",
       "      <td>T11N R14W SEC 2 NENW</td>\n",
       "      <td>NaN</td>\n",
       "      <td>NaN</td>\n",
       "      <td>ES-013-06/2018</td>\n",
       "      <td>300</td>\n",
       "      <td>0</td>\n",
       "      <td>300.00</td>\n",
       "      <td>60.0</td>\n",
       "      <td>4.0</td>\n",
       "      <td>240.0</td>\n",
       "      <td>480.00</td>\n",
       "      <td>7.500000</td>\n",
       "      <td>NaN</td>\n",
       "      <td>0.1</td>\n",
       "      <td>0.1</td>\n",
       "      <td>Book # 2019; Pages # 2761</td>\n",
       "      <td>NaN</td>\n",
       "      <td>NaN</td>\n",
       "      <td>NaN</td>\n",
       "    </tr>\n",
       "    <tr>\n",
       "      <th>2536</th>\n",
       "      <td>ARES059281</td>\n",
       "      <td>YES</td>\n",
       "      <td>Magnum Producing</td>\n",
       "      <td>2018-06-21 00:00:00</td>\n",
       "      <td>2018-08-01 00:00:00</td>\n",
       "      <td>2028-08-01</td>\n",
       "      <td>80.00</td>\n",
       "      <td>VAN BUREN</td>\n",
       "      <td>AR</td>\n",
       "      <td>NaN</td>\n",
       "      <td>2028.0</td>\n",
       "      <td>11N</td>\n",
       "      <td>14W</td>\n",
       "      <td>T11N R14W SEC 4 W2SE</td>\n",
       "      <td>NaN</td>\n",
       "      <td>NaN</td>\n",
       "      <td>ES-014-06/2018</td>\n",
       "      <td>440</td>\n",
       "      <td>0</td>\n",
       "      <td>440.00</td>\n",
       "      <td>120.0</td>\n",
       "      <td>4.0</td>\n",
       "      <td>480.0</td>\n",
       "      <td>800.00</td>\n",
       "      <td>5.500000</td>\n",
       "      <td>NaN</td>\n",
       "      <td>0.1</td>\n",
       "      <td>0.1</td>\n",
       "      <td>Book # 2019; Pages # 2761</td>\n",
       "      <td>NaN</td>\n",
       "      <td>NaN</td>\n",
       "      <td>NaN</td>\n",
       "    </tr>\n",
       "    <tr>\n",
       "      <th>2537</th>\n",
       "      <td>ARES059282</td>\n",
       "      <td>YES</td>\n",
       "      <td>Magnum Producing</td>\n",
       "      <td>2018-06-21 00:00:00</td>\n",
       "      <td>2018-08-01 00:00:00</td>\n",
       "      <td>2028-08-01</td>\n",
       "      <td>364.38</td>\n",
       "      <td>VAN BUREN</td>\n",
       "      <td>AR</td>\n",
       "      <td>NaN</td>\n",
       "      <td>2028.0</td>\n",
       "      <td>11N</td>\n",
       "      <td>14W</td>\n",
       "      <td>T11N R14W Sec 6 S2NW S2NE NWNE N2NW W2SW</td>\n",
       "      <td>NaN</td>\n",
       "      <td>NaN</td>\n",
       "      <td>ES-015-06/2018</td>\n",
       "      <td>1437.5</td>\n",
       "      <td>2555</td>\n",
       "      <td>3992.50</td>\n",
       "      <td>547.5</td>\n",
       "      <td>4.0</td>\n",
       "      <td>2190.0</td>\n",
       "      <td>5635.00</td>\n",
       "      <td>10.968407</td>\n",
       "      <td>NaN</td>\n",
       "      <td>0.1</td>\n",
       "      <td>0.1</td>\n",
       "      <td>Book # 2019; Pages # 2761</td>\n",
       "      <td>NaN</td>\n",
       "      <td>NaN</td>\n",
       "      <td>NaN</td>\n",
       "    </tr>\n",
       "    <tr>\n",
       "      <th>2538</th>\n",
       "      <td>ARES059283</td>\n",
       "      <td>YES</td>\n",
       "      <td>Magnum Producing</td>\n",
       "      <td>2018-06-21 00:00:00</td>\n",
       "      <td>2018-08-01 00:00:00</td>\n",
       "      <td>2028-08-01</td>\n",
       "      <td>122.38</td>\n",
       "      <td>VAN BUREN</td>\n",
       "      <td>AR</td>\n",
       "      <td>NaN</td>\n",
       "      <td>2028.0</td>\n",
       "      <td>11N</td>\n",
       "      <td>14W</td>\n",
       "      <td>T11N R14W SEC 18 W2NW NESW</td>\n",
       "      <td>NaN</td>\n",
       "      <td>NaN</td>\n",
       "      <td>ES-016-06/2018</td>\n",
       "      <td>590.5</td>\n",
       "      <td>0</td>\n",
       "      <td>590.50</td>\n",
       "      <td>184.5</td>\n",
       "      <td>4.0</td>\n",
       "      <td>738.0</td>\n",
       "      <td>1144.00</td>\n",
       "      <td>4.840164</td>\n",
       "      <td>NaN</td>\n",
       "      <td>0.1</td>\n",
       "      <td>0.1</td>\n",
       "      <td>Book # 2019; Pages # 2761</td>\n",
       "      <td>NaN</td>\n",
       "      <td>NaN</td>\n",
       "      <td>NaN</td>\n",
       "    </tr>\n",
       "    <tr>\n",
       "      <th>2539</th>\n",
       "      <td>ARES059285</td>\n",
       "      <td>YES</td>\n",
       "      <td>Magnum Producing</td>\n",
       "      <td>2018-06-21 00:00:00</td>\n",
       "      <td>2018-08-01 00:00:00</td>\n",
       "      <td>2028-08-01</td>\n",
       "      <td>40.00</td>\n",
       "      <td>VAN BUREN</td>\n",
       "      <td>AR</td>\n",
       "      <td>NaN</td>\n",
       "      <td>2028.0</td>\n",
       "      <td>11N</td>\n",
       "      <td>15W</td>\n",
       "      <td>T11N R15W SEC 13 NENE</td>\n",
       "      <td>NaN</td>\n",
       "      <td>NaN</td>\n",
       "      <td>ES-018-06/2018</td>\n",
       "      <td>300</td>\n",
       "      <td>0</td>\n",
       "      <td>300.00</td>\n",
       "      <td>60.0</td>\n",
       "      <td>4.0</td>\n",
       "      <td>240.0</td>\n",
       "      <td>480.00</td>\n",
       "      <td>7.500000</td>\n",
       "      <td>NaN</td>\n",
       "      <td>0.1</td>\n",
       "      <td>0.1</td>\n",
       "      <td>Book # 2019; Pages # 2761</td>\n",
       "      <td>NaN</td>\n",
       "      <td>NaN</td>\n",
       "      <td>NaN</td>\n",
       "    </tr>\n",
       "    <tr>\n",
       "      <th>2540</th>\n",
       "      <td>ARES059286</td>\n",
       "      <td>YES</td>\n",
       "      <td>Magnum Producing</td>\n",
       "      <td>2018-06-21 00:00:00</td>\n",
       "      <td>2018-08-01 00:00:00</td>\n",
       "      <td>2028-08-01</td>\n",
       "      <td>67.50</td>\n",
       "      <td>VAN BUREN</td>\n",
       "      <td>AR</td>\n",
       "      <td>NaN</td>\n",
       "      <td>2028.0</td>\n",
       "      <td>11N</td>\n",
       "      <td>15W</td>\n",
       "      <td>T11N R15W SEC 20 SENW S2SWNW S2NWSWNW NWNWSWNW...</td>\n",
       "      <td>NaN</td>\n",
       "      <td>NaN</td>\n",
       "      <td>ES-019-06/2018</td>\n",
       "      <td>398</td>\n",
       "      <td>0</td>\n",
       "      <td>398.00</td>\n",
       "      <td>102.0</td>\n",
       "      <td>4.0</td>\n",
       "      <td>408.0</td>\n",
       "      <td>704.00</td>\n",
       "      <td>5.852941</td>\n",
       "      <td>NaN</td>\n",
       "      <td>0.1</td>\n",
       "      <td>0.1</td>\n",
       "      <td>Book # 2019; Pages # 2761</td>\n",
       "      <td>NaN</td>\n",
       "      <td>NaN</td>\n",
       "      <td>NaN</td>\n",
       "    </tr>\n",
       "    <tr>\n",
       "      <th>2541</th>\n",
       "      <td>ARES059287</td>\n",
       "      <td>YES</td>\n",
       "      <td>Magnum Producing</td>\n",
       "      <td>2018-06-21 00:00:00</td>\n",
       "      <td>2018-08-01 00:00:00</td>\n",
       "      <td>2028-08-01</td>\n",
       "      <td>40.00</td>\n",
       "      <td>VAN BUREN</td>\n",
       "      <td>AR</td>\n",
       "      <td>NaN</td>\n",
       "      <td>2028.0</td>\n",
       "      <td>11N</td>\n",
       "      <td>15W</td>\n",
       "      <td>T11N R15W SEC 23 SWSE</td>\n",
       "      <td>NaN</td>\n",
       "      <td>NaN</td>\n",
       "      <td>ES-020-06/2018</td>\n",
       "      <td>300</td>\n",
       "      <td>0</td>\n",
       "      <td>300.00</td>\n",
       "      <td>60.0</td>\n",
       "      <td>4.0</td>\n",
       "      <td>240.0</td>\n",
       "      <td>480.00</td>\n",
       "      <td>7.500000</td>\n",
       "      <td>NaN</td>\n",
       "      <td>0.1</td>\n",
       "      <td>0.1</td>\n",
       "      <td>Book # 2019; Pages # 2761</td>\n",
       "      <td>NaN</td>\n",
       "      <td>NaN</td>\n",
       "      <td>NaN</td>\n",
       "    </tr>\n",
       "    <tr>\n",
       "      <th>2542</th>\n",
       "      <td>ARES059288</td>\n",
       "      <td>YES</td>\n",
       "      <td>Magnum Producing</td>\n",
       "      <td>2018-06-21 00:00:00</td>\n",
       "      <td>2018-08-01 00:00:00</td>\n",
       "      <td>2028-08-01</td>\n",
       "      <td>40.00</td>\n",
       "      <td>VAN BUREN</td>\n",
       "      <td>AR</td>\n",
       "      <td>NaN</td>\n",
       "      <td>2028.0</td>\n",
       "      <td>11N</td>\n",
       "      <td>15W</td>\n",
       "      <td>T11N R15W SEC 24 NWNE</td>\n",
       "      <td>NaN</td>\n",
       "      <td>NaN</td>\n",
       "      <td>ES-021-06/2018</td>\n",
       "      <td>300</td>\n",
       "      <td>0</td>\n",
       "      <td>300.00</td>\n",
       "      <td>60.0</td>\n",
       "      <td>4.0</td>\n",
       "      <td>240.0</td>\n",
       "      <td>480.00</td>\n",
       "      <td>7.500000</td>\n",
       "      <td>NaN</td>\n",
       "      <td>0.1</td>\n",
       "      <td>0.1</td>\n",
       "      <td>Book # 2019; Pages # 2761</td>\n",
       "      <td>NaN</td>\n",
       "      <td>NaN</td>\n",
       "      <td>NaN</td>\n",
       "    </tr>\n",
       "    <tr>\n",
       "      <th>2543</th>\n",
       "      <td>ARES059289</td>\n",
       "      <td>YES</td>\n",
       "      <td>Magnum Producing</td>\n",
       "      <td>2018-06-21 00:00:00</td>\n",
       "      <td>2018-08-01 00:00:00</td>\n",
       "      <td>2028-08-01</td>\n",
       "      <td>80.00</td>\n",
       "      <td>VAN BUREN</td>\n",
       "      <td>AR</td>\n",
       "      <td>NaN</td>\n",
       "      <td>2028.0</td>\n",
       "      <td>11N</td>\n",
       "      <td>15W</td>\n",
       "      <td>T11N R15W SEC 26 S2NW</td>\n",
       "      <td>NaN</td>\n",
       "      <td>NaN</td>\n",
       "      <td>ES-022-06/2018</td>\n",
       "      <td>440</td>\n",
       "      <td>0</td>\n",
       "      <td>440.00</td>\n",
       "      <td>120.0</td>\n",
       "      <td>4.0</td>\n",
       "      <td>480.0</td>\n",
       "      <td>800.00</td>\n",
       "      <td>5.500000</td>\n",
       "      <td>NaN</td>\n",
       "      <td>0.1</td>\n",
       "      <td>0.1</td>\n",
       "      <td>Book # 2019; Pages # 2761</td>\n",
       "      <td>NaN</td>\n",
       "      <td>NaN</td>\n",
       "      <td>NaN</td>\n",
       "    </tr>\n",
       "    <tr>\n",
       "      <th>2544</th>\n",
       "      <td>ARES059290</td>\n",
       "      <td>YES</td>\n",
       "      <td>Magnum Producing</td>\n",
       "      <td>2018-06-21 00:00:00</td>\n",
       "      <td>2018-08-01 00:00:00</td>\n",
       "      <td>2028-08-01</td>\n",
       "      <td>120.00</td>\n",
       "      <td>VAN BUREN</td>\n",
       "      <td>AR</td>\n",
       "      <td>NaN</td>\n",
       "      <td>2028.0</td>\n",
       "      <td>11N</td>\n",
       "      <td>15W</td>\n",
       "      <td>T11N R15W SEC 29 SESW S2SE</td>\n",
       "      <td>NaN</td>\n",
       "      <td>NaN</td>\n",
       "      <td>ES-023-06/2018</td>\n",
       "      <td>1300</td>\n",
       "      <td>0</td>\n",
       "      <td>1300.00</td>\n",
       "      <td>180.0</td>\n",
       "      <td>4.0</td>\n",
       "      <td>720.0</td>\n",
       "      <td>1840.00</td>\n",
       "      <td>10.833333</td>\n",
       "      <td>NaN</td>\n",
       "      <td>0.1</td>\n",
       "      <td>0.1</td>\n",
       "      <td>Book # 2019; Pages # 2761</td>\n",
       "      <td>NaN</td>\n",
       "      <td>NaN</td>\n",
       "      <td>NaN</td>\n",
       "    </tr>\n",
       "    <tr>\n",
       "      <th>2545</th>\n",
       "      <td>ARES059291</td>\n",
       "      <td>YES</td>\n",
       "      <td>Magnum Producing</td>\n",
       "      <td>2018-06-21 00:00:00</td>\n",
       "      <td>2018-08-01 00:00:00</td>\n",
       "      <td>2028-08-01</td>\n",
       "      <td>80.00</td>\n",
       "      <td>VAN BUREN</td>\n",
       "      <td>AR</td>\n",
       "      <td>NaN</td>\n",
       "      <td>2028.0</td>\n",
       "      <td>12N</td>\n",
       "      <td>15W</td>\n",
       "      <td>T12N R15W SEC 15 W2NE</td>\n",
       "      <td>NaN</td>\n",
       "      <td>NaN</td>\n",
       "      <td>ES-024-06/2018</td>\n",
       "      <td>440</td>\n",
       "      <td>0</td>\n",
       "      <td>440.00</td>\n",
       "      <td>120.0</td>\n",
       "      <td>4.0</td>\n",
       "      <td>480.0</td>\n",
       "      <td>800.00</td>\n",
       "      <td>5.500000</td>\n",
       "      <td>NaN</td>\n",
       "      <td>0.1</td>\n",
       "      <td>0.1</td>\n",
       "      <td>Book # 2019; Pages # 2761</td>\n",
       "      <td>NaN</td>\n",
       "      <td>NaN</td>\n",
       "      <td>NaN</td>\n",
       "    </tr>\n",
       "    <tr>\n",
       "      <th>2546</th>\n",
       "      <td>ARES059292</td>\n",
       "      <td>YES</td>\n",
       "      <td>Magnum Producing</td>\n",
       "      <td>2018-06-21 00:00:00</td>\n",
       "      <td>2018-08-01 00:00:00</td>\n",
       "      <td>2028-08-01</td>\n",
       "      <td>40.00</td>\n",
       "      <td>VAN BUREN</td>\n",
       "      <td>AR</td>\n",
       "      <td>NaN</td>\n",
       "      <td>2028.0</td>\n",
       "      <td>12N</td>\n",
       "      <td>15W</td>\n",
       "      <td>T12N R15W SEC 26 NWNW</td>\n",
       "      <td>NaN</td>\n",
       "      <td>NaN</td>\n",
       "      <td>ES-025-06/2018</td>\n",
       "      <td>300</td>\n",
       "      <td>0</td>\n",
       "      <td>300.00</td>\n",
       "      <td>60.0</td>\n",
       "      <td>4.0</td>\n",
       "      <td>240.0</td>\n",
       "      <td>480.00</td>\n",
       "      <td>7.500000</td>\n",
       "      <td>NaN</td>\n",
       "      <td>0.1</td>\n",
       "      <td>0.1</td>\n",
       "      <td>Book # 2019; Pages # 2761</td>\n",
       "      <td>NaN</td>\n",
       "      <td>NaN</td>\n",
       "      <td>NaN</td>\n",
       "    </tr>\n",
       "    <tr>\n",
       "      <th>2547</th>\n",
       "      <td>ARES059293</td>\n",
       "      <td>YES</td>\n",
       "      <td>Magnum Producing</td>\n",
       "      <td>2018-06-21 00:00:00</td>\n",
       "      <td>2018-08-01 00:00:00</td>\n",
       "      <td>2028-08-01</td>\n",
       "      <td>86.03</td>\n",
       "      <td>CLEBURNE</td>\n",
       "      <td>AR</td>\n",
       "      <td>NaN</td>\n",
       "      <td>2028.0</td>\n",
       "      <td>9N</td>\n",
       "      <td>11W</td>\n",
       "      <td>T9N R11W SEC 6 N2NE</td>\n",
       "      <td>NaN</td>\n",
       "      <td>NaN</td>\n",
       "      <td>ES-026-06/2018</td>\n",
       "      <td>464.5</td>\n",
       "      <td>0</td>\n",
       "      <td>464.50</td>\n",
       "      <td>130.5</td>\n",
       "      <td>4.0</td>\n",
       "      <td>522.0</td>\n",
       "      <td>856.00</td>\n",
       "      <td>5.401163</td>\n",
       "      <td>NaN</td>\n",
       "      <td>0.1</td>\n",
       "      <td>0.1</td>\n",
       "      <td>Doc# 201904281; Pages# 3;</td>\n",
       "      <td>NaN</td>\n",
       "      <td>NaN</td>\n",
       "      <td>NaN</td>\n",
       "    </tr>\n",
       "    <tr>\n",
       "      <th>2548</th>\n",
       "      <td>ARES059299</td>\n",
       "      <td>YES</td>\n",
       "      <td>Magnum Producing</td>\n",
       "      <td>2018-06-21 00:00:00</td>\n",
       "      <td>2018-08-01 00:00:00</td>\n",
       "      <td>2028-08-01</td>\n",
       "      <td>39.59</td>\n",
       "      <td>VAN BUREN</td>\n",
       "      <td>AR</td>\n",
       "      <td>NaN</td>\n",
       "      <td>2028.0</td>\n",
       "      <td>11N</td>\n",
       "      <td>14W</td>\n",
       "      <td>T11N R14W SEC 1 SWSW</td>\n",
       "      <td>NaN</td>\n",
       "      <td>NaN</td>\n",
       "      <td>ES-012-06/2018</td>\n",
       "      <td>300</td>\n",
       "      <td>0</td>\n",
       "      <td>300.00</td>\n",
       "      <td>60.0</td>\n",
       "      <td>4.0</td>\n",
       "      <td>240.0</td>\n",
       "      <td>480.00</td>\n",
       "      <td>7.500000</td>\n",
       "      <td>NaN</td>\n",
       "      <td>0.1</td>\n",
       "      <td>0.1</td>\n",
       "      <td>Book # 2019; Pages # 2761</td>\n",
       "      <td>NaN</td>\n",
       "      <td>NaN</td>\n",
       "      <td>NaN</td>\n",
       "    </tr>\n",
       "    <tr>\n",
       "      <th>2549</th>\n",
       "      <td>NaN</td>\n",
       "      <td>NaN</td>\n",
       "      <td>NaN</td>\n",
       "      <td>NaN</td>\n",
       "      <td>NaN</td>\n",
       "      <td>NaT</td>\n",
       "      <td>NaN</td>\n",
       "      <td>NaN</td>\n",
       "      <td>NaN</td>\n",
       "      <td>NaN</td>\n",
       "      <td>NaN</td>\n",
       "      <td>NaN</td>\n",
       "      <td>NaN</td>\n",
       "      <td></td>\n",
       "      <td>NaN</td>\n",
       "      <td>NaN</td>\n",
       "      <td>NaN</td>\n",
       "      <td>9455.5</td>\n",
       "      <td>2555</td>\n",
       "      <td>12010.50</td>\n",
       "      <td>NaN</td>\n",
       "      <td>NaN</td>\n",
       "      <td>NaN</td>\n",
       "      <td>NaN</td>\n",
       "      <td>NaN</td>\n",
       "      <td>NaN</td>\n",
       "      <td>NaN</td>\n",
       "      <td>NaN</td>\n",
       "      <td>NaN</td>\n",
       "      <td>NaN</td>\n",
       "      <td>NaN</td>\n",
       "      <td>NaN</td>\n",
       "    </tr>\n",
       "    <tr>\n",
       "      <th>2550</th>\n",
       "      <td>NaN</td>\n",
       "      <td>NaN</td>\n",
       "      <td>NaN</td>\n",
       "      <td>NaN</td>\n",
       "      <td>NaN</td>\n",
       "      <td>NaT</td>\n",
       "      <td>NaN</td>\n",
       "      <td>NaN</td>\n",
       "      <td>NaN</td>\n",
       "      <td>NaN</td>\n",
       "      <td>NaN</td>\n",
       "      <td>NaN</td>\n",
       "      <td>NaN</td>\n",
       "      <td></td>\n",
       "      <td>NaN</td>\n",
       "      <td>NaN</td>\n",
       "      <td>NaN</td>\n",
       "      <td>NaN</td>\n",
       "      <td>NaN</td>\n",
       "      <td>NaN</td>\n",
       "      <td>NaN</td>\n",
       "      <td>NaN</td>\n",
       "      <td>NaN</td>\n",
       "      <td>NaN</td>\n",
       "      <td>NaN</td>\n",
       "      <td>NaN</td>\n",
       "      <td>NaN</td>\n",
       "      <td>NaN</td>\n",
       "      <td>NaN</td>\n",
       "      <td>NaN</td>\n",
       "      <td>NaN</td>\n",
       "      <td>NaN</td>\n",
       "    </tr>\n",
       "    <tr>\n",
       "      <th>2551</th>\n",
       "      <td>NMNM138795</td>\n",
       "      <td>YES</td>\n",
       "      <td>Magnum Producing</td>\n",
       "      <td>2018-09-05 00:00:00</td>\n",
       "      <td>2018-11-01 00:00:00</td>\n",
       "      <td>2028-11-01</td>\n",
       "      <td>640.00</td>\n",
       "      <td>CHAVES</td>\n",
       "      <td>NM</td>\n",
       "      <td>NaN</td>\n",
       "      <td>2028.0</td>\n",
       "      <td>15S</td>\n",
       "      <td>22E</td>\n",
       "      <td>T15S R22E</td>\n",
       "      <td>SEC 15 ALL</td>\n",
       "      <td>NaN</td>\n",
       "      <td>NM-201809-001</td>\n",
       "      <td>2400</td>\n",
       "      <td>4480</td>\n",
       "      <td>6880.00</td>\n",
       "      <td>960.0</td>\n",
       "      <td>4.0</td>\n",
       "      <td>3840.0</td>\n",
       "      <td>9760.00</td>\n",
       "      <td>10.750000</td>\n",
       "      <td>NaN</td>\n",
       "      <td>0.1</td>\n",
       "      <td>0.1</td>\n",
       "      <td>Receipt # 423395; Book # 828; Page # 386 (3)</td>\n",
       "      <td>2020-01-15 00:00:00</td>\n",
       "      <td>0.25</td>\n",
       "      <td>Instrument # 202000364; Pages 1-5;</td>\n",
       "    </tr>\n",
       "    <tr>\n",
       "      <th>2552</th>\n",
       "      <td>NMNM138803</td>\n",
       "      <td>YES</td>\n",
       "      <td>Magnum Producing</td>\n",
       "      <td>2018-09-05 00:00:00</td>\n",
       "      <td>2018-11-01 00:00:00</td>\n",
       "      <td>2028-11-01</td>\n",
       "      <td>40.00</td>\n",
       "      <td>EDDY</td>\n",
       "      <td>NM</td>\n",
       "      <td>NaN</td>\n",
       "      <td>2028.0</td>\n",
       "      <td>21S</td>\n",
       "      <td>23E</td>\n",
       "      <td>T21S R23E</td>\n",
       "      <td>SEC 20 SESE</td>\n",
       "      <td>NaN</td>\n",
       "      <td>NM-201809-009</td>\n",
       "      <td>300</td>\n",
       "      <td>2960</td>\n",
       "      <td>3260.00</td>\n",
       "      <td>60.0</td>\n",
       "      <td>4.0</td>\n",
       "      <td>240.0</td>\n",
       "      <td>3440.00</td>\n",
       "      <td>81.500000</td>\n",
       "      <td>NaN</td>\n",
       "      <td>0.1</td>\n",
       "      <td>0.1</td>\n",
       "      <td>Doc # 1910055; Book # 1126; Page 179 (3);</td>\n",
       "      <td>2020-01-13 00:00:00</td>\n",
       "      <td>0.25</td>\n",
       "      <td>Reception: 2000652; Book # 1132; Page # 0393;</td>\n",
       "    </tr>\n",
       "    <tr>\n",
       "      <th>2553</th>\n",
       "      <td>NMNM138853</td>\n",
       "      <td>YES</td>\n",
       "      <td>Magnum Producing</td>\n",
       "      <td>2018-09-05 00:00:00</td>\n",
       "      <td>2018-11-01 00:00:00</td>\n",
       "      <td>2028-11-01</td>\n",
       "      <td>400.00</td>\n",
       "      <td>CHAVES</td>\n",
       "      <td>NM</td>\n",
       "      <td>NaN</td>\n",
       "      <td>2028.0</td>\n",
       "      <td>11S</td>\n",
       "      <td>31E</td>\n",
       "      <td>T11S R31E</td>\n",
       "      <td>SEC 4 S2SE; SEC 9 N2</td>\n",
       "      <td>NaN</td>\n",
       "      <td>NM-201809-059</td>\n",
       "      <td>1560</td>\n",
       "      <td>60400</td>\n",
       "      <td>61960.00</td>\n",
       "      <td>600.0</td>\n",
       "      <td>4.0</td>\n",
       "      <td>2400.0</td>\n",
       "      <td>63760.00</td>\n",
       "      <td>154.900000</td>\n",
       "      <td>NaN</td>\n",
       "      <td>0.1</td>\n",
       "      <td>0.1</td>\n",
       "      <td>Receipt # 423395; Book # 828; Page # 386 (3)</td>\n",
       "      <td>2020-01-15 00:00:00</td>\n",
       "      <td>0.25</td>\n",
       "      <td>Instrument # 202000364; Pages 1-5;</td>\n",
       "    </tr>\n",
       "    <tr>\n",
       "      <th>2554</th>\n",
       "      <td>NMNM138854</td>\n",
       "      <td>YES</td>\n",
       "      <td>Magnum Producing</td>\n",
       "      <td>2018-09-05 00:00:00</td>\n",
       "      <td>2018-11-01 00:00:00</td>\n",
       "      <td>2028-11-01</td>\n",
       "      <td>408.68</td>\n",
       "      <td>CHAVES</td>\n",
       "      <td>NM</td>\n",
       "      <td>NaN</td>\n",
       "      <td>2028.0</td>\n",
       "      <td>11S</td>\n",
       "      <td>31E</td>\n",
       "      <td>T11S R31E</td>\n",
       "      <td>SEC 5 LOTS 1,2,3,4; SEC 5 S2;</td>\n",
       "      <td>NaN</td>\n",
       "      <td>NM-201809-060</td>\n",
       "      <td>1591.5</td>\n",
       "      <td>15951</td>\n",
       "      <td>17542.50</td>\n",
       "      <td>613.5</td>\n",
       "      <td>4.0</td>\n",
       "      <td>2454.0</td>\n",
       "      <td>19383.00</td>\n",
       "      <td>42.891198</td>\n",
       "      <td>NaN</td>\n",
       "      <td>0.1</td>\n",
       "      <td>0.1</td>\n",
       "      <td>Receipt # 423395; Book # 828; Page # 386 (3)</td>\n",
       "      <td>2020-01-15 00:00:00</td>\n",
       "      <td>0.25</td>\n",
       "      <td>Instrument # 202000364; Pages 1-5;</td>\n",
       "    </tr>\n",
       "    <tr>\n",
       "      <th>2555</th>\n",
       "      <td>NMNM138857</td>\n",
       "      <td>YES</td>\n",
       "      <td>Magnum Producing</td>\n",
       "      <td>2018-09-05 00:00:00</td>\n",
       "      <td>2018-11-01 00:00:00</td>\n",
       "      <td>2028-11-01</td>\n",
       "      <td>600.00</td>\n",
       "      <td>CHAVES</td>\n",
       "      <td>NM</td>\n",
       "      <td>NaN</td>\n",
       "      <td>2028.0</td>\n",
       "      <td>11S</td>\n",
       "      <td>31E</td>\n",
       "      <td>T11S R31E</td>\n",
       "      <td>SEC 17 N2, SW, N2SE, SWSE</td>\n",
       "      <td>NaN</td>\n",
       "      <td>NM-201809-063</td>\n",
       "      <td>2260</td>\n",
       "      <td>32400</td>\n",
       "      <td>34660.00</td>\n",
       "      <td>900.0</td>\n",
       "      <td>4.0</td>\n",
       "      <td>3600.0</td>\n",
       "      <td>37360.00</td>\n",
       "      <td>57.766667</td>\n",
       "      <td>NaN</td>\n",
       "      <td>0.1</td>\n",
       "      <td>0.1</td>\n",
       "      <td>Receipt # 423395; Book # 828; Page # 386 (3)</td>\n",
       "      <td>2020-01-15 00:00:00</td>\n",
       "      <td>0.25</td>\n",
       "      <td>Instrument # 202000364; Pages 1-5;</td>\n",
       "    </tr>\n",
       "    <tr>\n",
       "      <th>2556</th>\n",
       "      <td>NMNM138858</td>\n",
       "      <td>YES</td>\n",
       "      <td>Magnum Producing</td>\n",
       "      <td>2018-09-05 00:00:00</td>\n",
       "      <td>2018-11-01 00:00:00</td>\n",
       "      <td>2028-11-01</td>\n",
       "      <td>240.00</td>\n",
       "      <td>CHAVES</td>\n",
       "      <td>NM</td>\n",
       "      <td>NaN</td>\n",
       "      <td>2028.0</td>\n",
       "      <td>11S</td>\n",
       "      <td>31E</td>\n",
       "      <td>T11S R31E</td>\n",
       "      <td>SEC 34 NW, N2SW</td>\n",
       "      <td>NaN</td>\n",
       "      <td>NM-201809-064</td>\n",
       "      <td>1000</td>\n",
       "      <td>23760</td>\n",
       "      <td>24760.00</td>\n",
       "      <td>360.0</td>\n",
       "      <td>4.0</td>\n",
       "      <td>1440.0</td>\n",
       "      <td>25840.00</td>\n",
       "      <td>103.166667</td>\n",
       "      <td>NaN</td>\n",
       "      <td>0.1</td>\n",
       "      <td>0.1</td>\n",
       "      <td>Receipt # 423395; Book # 828; Page # 386 (3)</td>\n",
       "      <td>2020-01-15 00:00:00</td>\n",
       "      <td>0.25</td>\n",
       "      <td>Instrument # 202000364; Pages 1-5;</td>\n",
       "    </tr>\n",
       "    <tr>\n",
       "      <th>2557</th>\n",
       "      <td>NMNM138863</td>\n",
       "      <td>YES</td>\n",
       "      <td>Magnum Producing</td>\n",
       "      <td>2018-09-05 00:00:00</td>\n",
       "      <td>2018-11-01 00:00:00</td>\n",
       "      <td>2028-11-01</td>\n",
       "      <td>480.00</td>\n",
       "      <td>EDDY</td>\n",
       "      <td>NM</td>\n",
       "      <td>NaN</td>\n",
       "      <td>2028.0</td>\n",
       "      <td>16S</td>\n",
       "      <td>31E</td>\n",
       "      <td>T16S R31E</td>\n",
       "      <td>SEC 26 N2NE, SWNE, W2, NWSE</td>\n",
       "      <td>NaN</td>\n",
       "      <td>NM-201809-069</td>\n",
       "      <td>1840</td>\n",
       "      <td>73920</td>\n",
       "      <td>75760.00</td>\n",
       "      <td>720.0</td>\n",
       "      <td>4.0</td>\n",
       "      <td>2880.0</td>\n",
       "      <td>77920.00</td>\n",
       "      <td>157.833333</td>\n",
       "      <td>NaN</td>\n",
       "      <td>0.1</td>\n",
       "      <td>0.1</td>\n",
       "      <td>Doc # 1910055; Book # 1126; Page 179 (3);</td>\n",
       "      <td>2020-01-13 00:00:00</td>\n",
       "      <td>0.25</td>\n",
       "      <td>Reception: 2000652; Book # 1132; Page # 0393;</td>\n",
       "    </tr>\n",
       "    <tr>\n",
       "      <th>2558</th>\n",
       "      <td>NaN</td>\n",
       "      <td>NaN</td>\n",
       "      <td>NaN</td>\n",
       "      <td>NaN</td>\n",
       "      <td>NaN</td>\n",
       "      <td>NaT</td>\n",
       "      <td>NaN</td>\n",
       "      <td>NaN</td>\n",
       "      <td>NaN</td>\n",
       "      <td>NaN</td>\n",
       "      <td>NaN</td>\n",
       "      <td>NaN</td>\n",
       "      <td>NaN</td>\n",
       "      <td>NaN</td>\n",
       "      <td>NaN</td>\n",
       "      <td>NaN</td>\n",
       "      <td>NaN</td>\n",
       "      <td>10951.5</td>\n",
       "      <td>213871</td>\n",
       "      <td>224822.50</td>\n",
       "      <td>NaN</td>\n",
       "      <td>NaN</td>\n",
       "      <td>NaN</td>\n",
       "      <td>NaN</td>\n",
       "      <td>NaN</td>\n",
       "      <td>NaN</td>\n",
       "      <td>NaN</td>\n",
       "      <td>NaN</td>\n",
       "      <td>NaN</td>\n",
       "      <td>NaN</td>\n",
       "      <td>NaN</td>\n",
       "      <td>NaN</td>\n",
       "    </tr>\n",
       "    <tr>\n",
       "      <th>2559</th>\n",
       "      <td>NaN</td>\n",
       "      <td>NaN</td>\n",
       "      <td>NaN</td>\n",
       "      <td>NaN</td>\n",
       "      <td>NaN</td>\n",
       "      <td>NaT</td>\n",
       "      <td>NaN</td>\n",
       "      <td>NaN</td>\n",
       "      <td>NaN</td>\n",
       "      <td>NaN</td>\n",
       "      <td>NaN</td>\n",
       "      <td>NaN</td>\n",
       "      <td>NaN</td>\n",
       "      <td>NaN</td>\n",
       "      <td>NaN</td>\n",
       "      <td>NaN</td>\n",
       "      <td>NaN</td>\n",
       "      <td>NaN</td>\n",
       "      <td>NaN</td>\n",
       "      <td>NaN</td>\n",
       "      <td>NaN</td>\n",
       "      <td>NaN</td>\n",
       "      <td>NaN</td>\n",
       "      <td>NaN</td>\n",
       "      <td>NaN</td>\n",
       "      <td>NaN</td>\n",
       "      <td>NaN</td>\n",
       "      <td>NaN</td>\n",
       "      <td>NaN</td>\n",
       "      <td>NaN</td>\n",
       "      <td>NaN</td>\n",
       "      <td>NaN</td>\n",
       "    </tr>\n",
       "    <tr>\n",
       "      <th>2560</th>\n",
       "      <td>NaN</td>\n",
       "      <td>NaN</td>\n",
       "      <td>NaN</td>\n",
       "      <td>NaN</td>\n",
       "      <td>NaN</td>\n",
       "      <td>NaT</td>\n",
       "      <td>NaN</td>\n",
       "      <td>NaN</td>\n",
       "      <td>NaN</td>\n",
       "      <td>NaN</td>\n",
       "      <td>NaN</td>\n",
       "      <td>NaN</td>\n",
       "      <td>NaN</td>\n",
       "      <td>NaN</td>\n",
       "      <td>NaN</td>\n",
       "      <td>NaN</td>\n",
       "      <td>NaN</td>\n",
       "      <td>NaN</td>\n",
       "      <td>NaN</td>\n",
       "      <td>NaN</td>\n",
       "      <td>NaN</td>\n",
       "      <td>NaN</td>\n",
       "      <td>NaN</td>\n",
       "      <td>NaN</td>\n",
       "      <td>NaN</td>\n",
       "      <td>NaN</td>\n",
       "      <td>NaN</td>\n",
       "      <td>NaN</td>\n",
       "      <td>NaN</td>\n",
       "      <td>NaN</td>\n",
       "      <td>NaN</td>\n",
       "      <td>NaN</td>\n",
       "    </tr>\n",
       "    <tr>\n",
       "      <th>2561</th>\n",
       "      <td>NaN</td>\n",
       "      <td>NaN</td>\n",
       "      <td>NaN</td>\n",
       "      <td>NaN</td>\n",
       "      <td>NaN</td>\n",
       "      <td>NaT</td>\n",
       "      <td>NaN</td>\n",
       "      <td>NaN</td>\n",
       "      <td>NaN</td>\n",
       "      <td>NaN</td>\n",
       "      <td>NaN</td>\n",
       "      <td>NaN</td>\n",
       "      <td>NaN</td>\n",
       "      <td>NaN</td>\n",
       "      <td>NaN</td>\n",
       "      <td>NaN</td>\n",
       "      <td>NaN</td>\n",
       "      <td>1290</td>\n",
       "      <td>0</td>\n",
       "      <td>1290.00</td>\n",
       "      <td>NaN</td>\n",
       "      <td>NaN</td>\n",
       "      <td>NaN</td>\n",
       "      <td>NaN</td>\n",
       "      <td>NaN</td>\n",
       "      <td>NaN</td>\n",
       "      <td>NaN</td>\n",
       "      <td>NaN</td>\n",
       "      <td>NaN</td>\n",
       "      <td>NaN</td>\n",
       "      <td>NaN</td>\n",
       "      <td>NaN</td>\n",
       "    </tr>\n",
       "  </tbody>\n",
       "</table>\n",
       "<p>2562 rows × 32 columns</p>\n",
       "</div>"
      ],
      "text/plain": [
       "       LEASE NO. PLOTTED           GRANTEE            SALE DATE  \\\n",
       "0     TXNM096140      NO       R&R Royalty  1995-10-19 00:00:00   \n",
       "1            NaN     NaN               NaN                  NaN   \n",
       "2     TXNM103231      NO       R&R Royalty  1999-05-13 00:00:00   \n",
       "3            NaN     NaN               NaN                  NaN   \n",
       "4     TXNM091527      NO       R&R Royalty  1993-07-21 00:00:00   \n",
       "5            NaN     NaN               NaN                  NaN   \n",
       "6     TXNM102849      NO       R&R Royalty  1999-04-21 00:00:00   \n",
       "7            NaN     NaN               NaN                  NaN   \n",
       "8     TXNM103276      NO       R&R Royalty  1999-07-21 00:00:00   \n",
       "9     TXNM103277      NO       R&R Royalty  1999-07-21 00:00:00   \n",
       "10    TXNM103278      NO       R&R Royalty  1999-07-21 00:00:00   \n",
       "11    TXNM103285      NO       R&R Royalty  1999-07-21 00:00:00   \n",
       "12    TXNM103286      NO       R&R Royalty  1999-07-21 00:00:00   \n",
       "13    TXNM103287      NO       R&R Royalty  1999-07-21 00:00:00   \n",
       "14    TXNM103288      NO       R&R Royalty  1999-07-21 00:00:00   \n",
       "15    TXNM103292      NO       R&R Royalty  1999-07-21 00:00:00   \n",
       "16    TXNM103293      NO       R&R Royalty  1999-07-21 00:00:00   \n",
       "17    TXNM103296      NO       R&R Royalty  1999-07-21 00:00:00   \n",
       "18    TXNM103297      NO       R&R Royalty  1999-07-21 00:00:00   \n",
       "19    TXNM103301      NO       R&R Royalty  1999-07-21 00:00:00   \n",
       "20    TXNM103314      NO       R&R Royalty  1999-07-21 00:00:00   \n",
       "21    TXNM103315      NO       R&R Royalty  1999-07-21 00:00:00   \n",
       "22     ARES50476      NO       R&R Royalty  1999-09-23 00:00:00   \n",
       "23     LAES50481      NO       R&R Royalty  1999-09-23 00:00:00   \n",
       "24     MSES50483      NO       R&R Royalty  1999-09-23 00:00:00   \n",
       "25           NaN     NaN               NaN                  NaN   \n",
       "26     LAES50520      NO       R&R Royalty  1999-12-16 00:00:00   \n",
       "27     MSES50524      NO       R&R Royalty  1999-12-16 00:00:00   \n",
       "28     MSES50526      NO       R&R Royalty  1999-12-16 00:00:00   \n",
       "29           NaN     NaN               NaN  1999-12-31 00:00:00   \n",
       "...          ...     ...               ...                  ...   \n",
       "2532  ARES059277     YES  Magnum Producing  2018-06-21 00:00:00   \n",
       "2533  ARES059278     YES  Magnum Producing  2018-06-21 00:00:00   \n",
       "2534  ARES059279     YES  Magnum Producing  2018-06-21 00:00:00   \n",
       "2535  ARES059280     YES  Magnum Producing  2018-06-21 00:00:00   \n",
       "2536  ARES059281     YES  Magnum Producing  2018-06-21 00:00:00   \n",
       "2537  ARES059282     YES  Magnum Producing  2018-06-21 00:00:00   \n",
       "2538  ARES059283     YES  Magnum Producing  2018-06-21 00:00:00   \n",
       "2539  ARES059285     YES  Magnum Producing  2018-06-21 00:00:00   \n",
       "2540  ARES059286     YES  Magnum Producing  2018-06-21 00:00:00   \n",
       "2541  ARES059287     YES  Magnum Producing  2018-06-21 00:00:00   \n",
       "2542  ARES059288     YES  Magnum Producing  2018-06-21 00:00:00   \n",
       "2543  ARES059289     YES  Magnum Producing  2018-06-21 00:00:00   \n",
       "2544  ARES059290     YES  Magnum Producing  2018-06-21 00:00:00   \n",
       "2545  ARES059291     YES  Magnum Producing  2018-06-21 00:00:00   \n",
       "2546  ARES059292     YES  Magnum Producing  2018-06-21 00:00:00   \n",
       "2547  ARES059293     YES  Magnum Producing  2018-06-21 00:00:00   \n",
       "2548  ARES059299     YES  Magnum Producing  2018-06-21 00:00:00   \n",
       "2549         NaN     NaN               NaN                  NaN   \n",
       "2550         NaN     NaN               NaN                  NaN   \n",
       "2551  NMNM138795     YES  Magnum Producing  2018-09-05 00:00:00   \n",
       "2552  NMNM138803     YES  Magnum Producing  2018-09-05 00:00:00   \n",
       "2553  NMNM138853     YES  Magnum Producing  2018-09-05 00:00:00   \n",
       "2554  NMNM138854     YES  Magnum Producing  2018-09-05 00:00:00   \n",
       "2555  NMNM138857     YES  Magnum Producing  2018-09-05 00:00:00   \n",
       "2556  NMNM138858     YES  Magnum Producing  2018-09-05 00:00:00   \n",
       "2557  NMNM138863     YES  Magnum Producing  2018-09-05 00:00:00   \n",
       "2558         NaN     NaN               NaN                  NaN   \n",
       "2559         NaN     NaN               NaN                  NaN   \n",
       "2560         NaN     NaN               NaN                  NaN   \n",
       "2561         NaN     NaN               NaN                  NaN   \n",
       "\n",
       "     EFFECTIVE DATE OF LEASE EXPIRATION DATE   ACRES                COUNTY  \\\n",
       "0        1995-12-01 00:00:00      2005-12-01     NaN           MONTGOMERY    \n",
       "1                        NaN             NaT     NaN                   NaN   \n",
       "2        1999-07-01 00:00:00      2009-07-01     NaN              HOUSTON    \n",
       "3                        NaN             NaT     NaN                   NaN   \n",
       "4        1993-09-01 00:00:00      2003-09-01     NaN               KLEBERG   \n",
       "5                        NaN             NaT     NaN                   NaN   \n",
       "6        1999-06-01 00:00:00      2009-06-01     NaN              KLEBERG    \n",
       "7                        NaN             NaT     NaN                   NaN   \n",
       "8        1999-09-01 00:00:00      2009-09-01     NaN              HOUSTON    \n",
       "9        1999-09-01 00:00:00      2009-09-01     NaN              HOUSTON    \n",
       "10       1999-09-01 00:00:00      2009-09-01     NaN               HOUSTON   \n",
       "11       1999-09-01 00:00:00      2009-09-01     NaN              HOUSTON    \n",
       "12       1999-09-01 00:00:00      2009-09-01     NaN              HOUSTON    \n",
       "13       1999-09-01 00:00:00      2009-09-01     NaN               HOUSTON   \n",
       "14       1999-09-01 00:00:00      2009-09-01     NaN               HOUSTON   \n",
       "15       1999-09-01 00:00:00      2009-09-01     NaN               SABINE    \n",
       "16       1999-09-01 00:00:00      2009-09-01     NaN               SABINE    \n",
       "17       1999-09-01 00:00:00      2009-09-01     NaN         SAN AUGUSTINE   \n",
       "18       1999-09-01 00:00:00      2009-09-01     NaN         SAN AUGUSTINE   \n",
       "19       1999-09-01 00:00:00      2009-09-01     NaN  SAN AUGUSTINE/SABINE   \n",
       "20       1999-09-01 00:00:00      2009-09-01     NaN              HOUSTON    \n",
       "21       1999-09-01 00:00:00      2009-09-01     NaN              HOUSTON    \n",
       "22       1999-11-01 00:00:00      2009-11-01     NaN             SEBASTIAN   \n",
       "23       1999-11-01 00:00:00      2009-11-01     NaN             CALCASIEU   \n",
       "24       1999-11-01 00:00:00      2009-11-01     NaN               FORREST   \n",
       "25                       NaN             NaT     NaN                   NaN   \n",
       "26       2000-02-01 00:00:00      2010-02-01  199.75               WEBSTER   \n",
       "27       2000-02-01 00:00:00      2010-02-01  433.54                 WAYNE   \n",
       "28       2000-02-01 00:00:00      2010-02-01     NaN             CHICKASAW   \n",
       "29       1999-12-31 00:00:00      2009-12-31     NaN                   NaN   \n",
       "...                      ...             ...     ...                   ...   \n",
       "2532     2018-08-01 00:00:00      2028-08-01  120.00              CLEBURNE   \n",
       "2533     2018-08-01 00:00:00      2028-08-01   40.00              CLEBURNE   \n",
       "2534     2018-08-01 00:00:00      2028-08-01   65.00             VAN BUREN   \n",
       "2535     2018-08-01 00:00:00      2028-08-01   39.80             VAN BUREN   \n",
       "2536     2018-08-01 00:00:00      2028-08-01   80.00             VAN BUREN   \n",
       "2537     2018-08-01 00:00:00      2028-08-01  364.38             VAN BUREN   \n",
       "2538     2018-08-01 00:00:00      2028-08-01  122.38             VAN BUREN   \n",
       "2539     2018-08-01 00:00:00      2028-08-01   40.00             VAN BUREN   \n",
       "2540     2018-08-01 00:00:00      2028-08-01   67.50             VAN BUREN   \n",
       "2541     2018-08-01 00:00:00      2028-08-01   40.00             VAN BUREN   \n",
       "2542     2018-08-01 00:00:00      2028-08-01   40.00             VAN BUREN   \n",
       "2543     2018-08-01 00:00:00      2028-08-01   80.00             VAN BUREN   \n",
       "2544     2018-08-01 00:00:00      2028-08-01  120.00             VAN BUREN   \n",
       "2545     2018-08-01 00:00:00      2028-08-01   80.00             VAN BUREN   \n",
       "2546     2018-08-01 00:00:00      2028-08-01   40.00             VAN BUREN   \n",
       "2547     2018-08-01 00:00:00      2028-08-01   86.03              CLEBURNE   \n",
       "2548     2018-08-01 00:00:00      2028-08-01   39.59             VAN BUREN   \n",
       "2549                     NaN             NaT     NaN                   NaN   \n",
       "2550                     NaN             NaT     NaN                   NaN   \n",
       "2551     2018-11-01 00:00:00      2028-11-01  640.00                CHAVES   \n",
       "2552     2018-11-01 00:00:00      2028-11-01   40.00                  EDDY   \n",
       "2553     2018-11-01 00:00:00      2028-11-01  400.00                CHAVES   \n",
       "2554     2018-11-01 00:00:00      2028-11-01  408.68                CHAVES   \n",
       "2555     2018-11-01 00:00:00      2028-11-01  600.00                CHAVES   \n",
       "2556     2018-11-01 00:00:00      2028-11-01  240.00                CHAVES   \n",
       "2557     2018-11-01 00:00:00      2028-11-01  480.00                  EDDY   \n",
       "2558                     NaN             NaT     NaN                   NaN   \n",
       "2559                     NaN             NaT     NaN                   NaN   \n",
       "2560                     NaN             NaT     NaN                   NaN   \n",
       "2561                     NaN             NaT     NaN                   NaN   \n",
       "\n",
       "       ST                                    STATUS/COMMENTS  EXPIRATION YEAR  \\\n",
       "0      TX                                       Expired 2005           2005.0   \n",
       "1     NaN                                                NaN              NaN   \n",
       "2      TX            Expired 2009 - Bought from Dan Gonzales           2009.0   \n",
       "3     NaN                                                NaN              NaN   \n",
       "4      TX                        Expired 2003 | Bid Refunded           2003.0   \n",
       "5     NaN                                                NaN              NaN   \n",
       "6      TX                                       Expired 2009           2009.0   \n",
       "7     NaN                                                NaN              NaN   \n",
       "8      TX                               Expired 2009 -  sold           2009.0   \n",
       "9      TX                               Expired 2009 -  sold           2009.0   \n",
       "10     TX                               Expired 2009 -  sold           2009.0   \n",
       "11     TX                               Expired 2009 -  sold           2009.0   \n",
       "12     TX                               Expired 2009 -  sold           2009.0   \n",
       "13     TX                               Expired 2009 -  sold           2009.0   \n",
       "14     TX                               Expired 2009 -  sold           2009.0   \n",
       "15     TX                                       Expired 2009           2009.0   \n",
       "16     TX                                       Expired 2009           2009.0   \n",
       "17     TX                                       Expired 2009           2009.0   \n",
       "18     TX                                       Expired 2009           2009.0   \n",
       "19     TX                                       Expired 2009           2009.0   \n",
       "20     TX                               Expired 2009 -  sold           2009.0   \n",
       "21     TX                               Expired 2009 -  sold           2009.0   \n",
       "22     AR  Expired 2009 - May be part of 16,327.47 acre E...           2009.0   \n",
       "23     LA                                       Expired 2009           2009.0   \n",
       "24     MS                                       Expired 2009           2009.0   \n",
       "25    NaN                                                NaN              NaN   \n",
       "26     LA                                       Expired 2010           2010.0   \n",
       "27     MS    Expired 2010 - SUBLEASE TERMINATED O/A 11-14-02           2010.0   \n",
       "28     MS  HBP-Gibraltar pays Royalty - Shut-in payment s...           2010.0   \n",
       "29    NaN                          Indirect Acquisation Cost              NaN   \n",
       "...   ...                                                ...              ...   \n",
       "2532   AR                                                NaN           2028.0   \n",
       "2533   AR                                                NaN           2028.0   \n",
       "2534   AR  HBP-LEASE COMMITTED TO CA(ARES 55803)-50% - US...           2028.0   \n",
       "2535   AR                                                NaN           2028.0   \n",
       "2536   AR                                                NaN           2028.0   \n",
       "2537   AR                                                NaN           2028.0   \n",
       "2538   AR                                                NaN           2028.0   \n",
       "2539   AR                                                NaN           2028.0   \n",
       "2540   AR                                                NaN           2028.0   \n",
       "2541   AR                                                NaN           2028.0   \n",
       "2542   AR                                                NaN           2028.0   \n",
       "2543   AR                                                NaN           2028.0   \n",
       "2544   AR                                                NaN           2028.0   \n",
       "2545   AR                                                NaN           2028.0   \n",
       "2546   AR                                                NaN           2028.0   \n",
       "2547   AR                                                NaN           2028.0   \n",
       "2548   AR                                                NaN           2028.0   \n",
       "2549  NaN                                                NaN              NaN   \n",
       "2550  NaN                                                NaN              NaN   \n",
       "2551   NM                                                NaN           2028.0   \n",
       "2552   NM                                                NaN           2028.0   \n",
       "2553   NM                                                NaN           2028.0   \n",
       "2554   NM                                                NaN           2028.0   \n",
       "2555   NM                                                NaN           2028.0   \n",
       "2556   NM                                                NaN           2028.0   \n",
       "2557   NM                                                NaN           2028.0   \n",
       "2558  NaN                                                NaN              NaN   \n",
       "2559  NaN                                                NaN              NaN   \n",
       "2560  NaN                                                NaN              NaN   \n",
       "2561  NaN                                                NaN              NaN   \n",
       "\n",
       "     TOWNSHIP RANGE                                      DESCRIPTION I  \\\n",
       "0         NaN   NaN                          ASSIGNMENT REC'D FROM DAN   \n",
       "1         NaN   NaN                                                NaN   \n",
       "2         NaN   NaN                            SAM HOUSTON NATL FOREST   \n",
       "3         NaN   NaN                                                NaN   \n",
       "4         NaN   NaN                                    KINGSVILLE NAS    \n",
       "5         NaN   NaN                                                NaN   \n",
       "6         NaN   NaN                               TEXAS A&M UNIVERSITY   \n",
       "7         NaN   NaN                                                NaN   \n",
       "8         NaN   NaN                          DAVY CROCKETT NATL FOREST   \n",
       "9         NaN   NaN                          DAVY CROCKETT NATL FOREST   \n",
       "10        NaN   NaN                          DAVY CROCKETT NATL FOREST   \n",
       "11        NaN   NaN                          DAVY CROCKETT NATL FOREST   \n",
       "12        NaN   NaN                          DAVY CROCKETT NATL FOREST   \n",
       "13        NaN   NaN                          DAVY CROCKETT NATL FOREST   \n",
       "14        NaN   NaN                          DAVY CROCKETT NATL FOREST   \n",
       "15        NaN   NaN                                 SABINE NATL FOREST   \n",
       "16        NaN   NaN                                 SABINE NATL FOREST   \n",
       "17        NaN   NaN                               ANGELINA NATL FOREST   \n",
       "18        NaN   NaN                               ANGELINA NATL FOREST   \n",
       "19        NaN   NaN                                 SABINE NATL FOREST   \n",
       "20        NaN   NaN                          DAVY CROCKETT NATL FOREST   \n",
       "21        NaN   NaN                          DAVY CROCKETT NATL FOREST   \n",
       "22        NaN   NaN                               OUICHATA NATL FOREST   \n",
       "23        NaN   NaN                                               NONE   \n",
       "24        NaN   NaN                                 DESOTO NATL FOREST   \n",
       "25        NaN   NaN                                                NaN   \n",
       "26        NaN   NaN                                               NONE   \n",
       "27        NaN   NaN                                               NONE   \n",
       "28        NaN   NaN                              TOMBIGBEE NATL FOREST   \n",
       "29        NaN   NaN                                                NaN   \n",
       "...       ...   ...                                                ...   \n",
       "2532      12N   10W               T12N R10W SEC 15 NWSW SESW SWSE        \n",
       "2533      12N   12W                         T12N R12W SEC 23 NESE        \n",
       "2534       9N   12W  T9N R12W SEC21 S2SE that part lying southerly ...   \n",
       "2535      11N   14W                         T11N R14W SEC 2 NENW         \n",
       "2536      11N   14W                          T11N R14W SEC 4 W2SE        \n",
       "2537      11N   14W      T11N R14W Sec 6 S2NW S2NE NWNE N2NW W2SW        \n",
       "2538      11N   14W                    T11N R14W SEC 18 W2NW NESW        \n",
       "2539      11N   15W                         T11N R15W SEC 13 NENE        \n",
       "2540      11N   15W  T11N R15W SEC 20 SENW S2SWNW S2NWSWNW NWNWSWNW...   \n",
       "2541      11N   15W                         T11N R15W SEC 23 SWSE        \n",
       "2542      11N   15W                         T11N R15W SEC 24 NWNE        \n",
       "2543      11N   15W                         T11N R15W SEC 26 S2NW        \n",
       "2544      11N   15W                    T11N R15W SEC 29 SESW S2SE        \n",
       "2545      12N   15W                         T12N R15W SEC 15 W2NE        \n",
       "2546      12N   15W                         T12N R15W SEC 26 NWNW        \n",
       "2547       9N   11W                           T9N R11W SEC 6 N2NE        \n",
       "2548      11N   14W                          T11N R14W SEC 1 SWSW        \n",
       "2549      NaN   NaN                                                      \n",
       "2550      NaN   NaN                                                      \n",
       "2551      15S   22E                                    T15S R22E         \n",
       "2552      21S   23E                                     T21S R23E        \n",
       "2553      11S   31E                                    T11S R31E         \n",
       "2554      11S   31E                                         T11S R31E    \n",
       "2555      11S   31E                                         T11S R31E    \n",
       "2556      11S   31E                                    T11S R31E         \n",
       "2557      16S   31E                                    T16S R31E         \n",
       "2558      NaN   NaN                                                NaN   \n",
       "2559      NaN   NaN                                                NaN   \n",
       "2560      NaN   NaN                                                NaN   \n",
       "2561      NaN   NaN                                                NaN   \n",
       "\n",
       "                                 DESCRIPTION II  \\\n",
       "0                        TRACTS J22, J22A, J22B   \n",
       "1                                           NaN   \n",
       "2                     ASSIGNMENT REC'D FROM DAN   \n",
       "3                                           NaN   \n",
       "4                            J MINDIOLOA SURVEY   \n",
       "5                                           NaN   \n",
       "6     LOTS 2-8, BLK 5, KING ADDITION-EX 47.75 A   \n",
       "7                                           NaN   \n",
       "8                                    TRACT K-1g   \n",
       "9                          TRACT K-1h PARCEL #1   \n",
       "10                                   TRACT K-1i   \n",
       "11                                    TRACT K-6   \n",
       "12                                   TRACT K-18   \n",
       "13                                   TRACT K-31   \n",
       "14                                  TRACT K-119   \n",
       "15                                   TRACT S1Av   \n",
       "16                                  TRACT S-1Bb   \n",
       "17                        TRACT A-22a PARCEL #2   \n",
       "18                                  TRACT A-22d   \n",
       "19                                  TRACT S-1An   \n",
       "20                      TRACT K-1a-II PARCEL #1   \n",
       "21                      TRACT K-1a-II PARCEL #2   \n",
       "22            T4N, R31W, 5TH PRINCIPAL MERIDIAN   \n",
       "23               T8S, R10W,  LOUISIANA MERIDIAN   \n",
       "24             T1S, R13W, ST. STEPHENS MERIDIAN   \n",
       "25                                          NaN   \n",
       "26               T17N, R10W, LOUISIANA MERIDIAN   \n",
       "27              T7N, R8W, ST, STEPHENS MERIDIAN   \n",
       "28                T12S, R4E, CHICKASAW MERIDIAN   \n",
       "29                                          NaN   \n",
       "...                                         ...   \n",
       "2532                                        NaN   \n",
       "2533                                        NaN   \n",
       "2534                                        NaN   \n",
       "2535                                        NaN   \n",
       "2536                                        NaN   \n",
       "2537                                        NaN   \n",
       "2538                                        NaN   \n",
       "2539                                        NaN   \n",
       "2540                                        NaN   \n",
       "2541                                        NaN   \n",
       "2542                                        NaN   \n",
       "2543                                        NaN   \n",
       "2544                                        NaN   \n",
       "2545                                        NaN   \n",
       "2546                                        NaN   \n",
       "2547                                        NaN   \n",
       "2548                                        NaN   \n",
       "2549                                        NaN   \n",
       "2550                                        NaN   \n",
       "2551                                 SEC 15 ALL   \n",
       "2552                               SEC 20 SESE    \n",
       "2553                       SEC 4 S2SE; SEC 9 N2   \n",
       "2554         SEC 5 LOTS 1,2,3,4; SEC 5 S2;        \n",
       "2555             SEC 17 N2, SW, N2SE, SWSE        \n",
       "2556                            SEC 34 NW, N2SW   \n",
       "2557                SEC 26 N2NE, SWNE, W2, NWSE   \n",
       "2558                                        NaN   \n",
       "2559                                        NaN   \n",
       "2560                                        NaN   \n",
       "2561                                        NaN   \n",
       "\n",
       "                                        DESCRIPTION III       PARCEL NO  \\\n",
       "0                                                   NaN             NaN   \n",
       "1                                                   NaN             NaN   \n",
       "2                                                   NaN             NaN   \n",
       "3                                                   NaN             NaN   \n",
       "4                          LOTS & TRACTS IN SEC 23 & 30             NaN   \n",
       "5                                                   NaN             NaN   \n",
       "6                                                   NaN         9904002   \n",
       "7                                                   NaN             NaN   \n",
       "8                                                   NaN         9907041   \n",
       "9                                 SEE EXHIBIT K FOR M&B         9907042   \n",
       "10                                                  NaN         9907043   \n",
       "11                                                  NaN         9907052   \n",
       "12                                                  NaN         9907053   \n",
       "13                                                  NaN         9907055   \n",
       "14                                                  NaN         9907056   \n",
       "15                                                  NaN         9907061   \n",
       "16                                SEE EXHIBIT L FOR M&B         9907062   \n",
       "17                                                  NaN         9907072   \n",
       "18                                                  NaN         9907073   \n",
       "19                                                  NaN         9907081   \n",
       "20                                SEE EXHIBIT G FOR M&B         9907035   \n",
       "21                                SEE EXHIBIT H FOR M&B         9907036   \n",
       "22                                         SEC 32, SWNW     ES-09/99 48   \n",
       "23                                          SEC 1, SWNE     ES-09/99 53   \n",
       "24                                               SEC 25     ES-09/99 55   \n",
       "25                                                  NaN             NaN   \n",
       "26                             SEC 20, SENE, N2SW, N2SE     ES-12/99 03   \n",
       "27                                SEC 4, SWNE, W2, W2SE     ES-12/99 07   \n",
       "28    SEC 5, SW, E20ac OF SESE, 7ac IN SE  CORNER OF...     ES-12/99 09   \n",
       "29                                                  NaN             NaN   \n",
       "...                                                 ...             ...   \n",
       "2532                                                NaN  ES-009-06/2018   \n",
       "2533                                                NaN  ES-010-06/2018   \n",
       "2534                                                NaN  ES-011-06/2018   \n",
       "2535                                                NaN  ES-013-06/2018   \n",
       "2536                                                NaN  ES-014-06/2018   \n",
       "2537                                                NaN  ES-015-06/2018   \n",
       "2538                                                NaN  ES-016-06/2018   \n",
       "2539                                                NaN  ES-018-06/2018   \n",
       "2540                                                NaN  ES-019-06/2018   \n",
       "2541                                                NaN  ES-020-06/2018   \n",
       "2542                                                NaN  ES-021-06/2018   \n",
       "2543                                                NaN  ES-022-06/2018   \n",
       "2544                                                NaN  ES-023-06/2018   \n",
       "2545                                                NaN  ES-024-06/2018   \n",
       "2546                                                NaN  ES-025-06/2018   \n",
       "2547                                                NaN  ES-026-06/2018   \n",
       "2548                                                NaN  ES-012-06/2018   \n",
       "2549                                                NaN             NaN   \n",
       "2550                                                NaN             NaN   \n",
       "2551                                                NaN   NM-201809-001   \n",
       "2552                                                NaN   NM-201809-009   \n",
       "2553                                                NaN   NM-201809-059   \n",
       "2554                                                NaN   NM-201809-060   \n",
       "2555                                                NaN   NM-201809-063   \n",
       "2556                                                NaN   NM-201809-064   \n",
       "2557                                                NaN   NM-201809-069   \n",
       "2558                                                NaN             NaN   \n",
       "2559                                                NaN             NaN   \n",
       "2560                                                NaN             NaN   \n",
       "2561                                                NaN             NaN   \n",
       "\n",
       "     DUE AT SALE DUE AFTER SALE (REFUNDED)  TOTAL  PAID  AMOUNT OF RENTAL  \\\n",
       "0            NaN                     790.5       790.50               NaN   \n",
       "1            NaN                       NaN          NaN               NaN   \n",
       "2            NaN                    1253.5      1253.50               NaN   \n",
       "3            NaN                       NaN          NaN               NaN   \n",
       "4            NaN                      4200      4200.00               NaN   \n",
       "5            NaN                       NaN          NaN               NaN   \n",
       "6        42612.5                         0     42612.50               NaN   \n",
       "7            NaN                       NaN          NaN               NaN   \n",
       "8         1744.5                         0      1744.50               NaN   \n",
       "9         1436.5                         0      1436.50               NaN   \n",
       "10          2265                         0      2265.00               NaN   \n",
       "11           565                         0       565.00               NaN   \n",
       "12         162.5                         0       162.50               NaN   \n",
       "13           585                         0       585.00               NaN   \n",
       "14         204.5                         0       204.50               NaN   \n",
       "15        3004.5                         0      3004.50               NaN   \n",
       "16          4457                         0      4457.00               NaN   \n",
       "17         603.5                         0       603.50               NaN   \n",
       "18         911.5                         0       911.50               NaN   \n",
       "19        3774.5                         0      3774.50               NaN   \n",
       "20        3898.5                         0      3898.50               NaN   \n",
       "21        3871.5                         0      3871.50               NaN   \n",
       "22           215                      1720      1935.00               NaN   \n",
       "23           222                     15666     15888.00               NaN   \n",
       "24         638.5                     11753     12391.50               NaN   \n",
       "25           NaN                       NaN          NaN               NaN   \n",
       "26           775                     54600     55375.00             400.0   \n",
       "27          1594                     42532     44126.00             868.0   \n",
       "28          1664                      6356      8020.00               NaN   \n",
       "29           NaN                    577.51       577.51               NaN   \n",
       "...          ...                       ...          ...               ...   \n",
       "2532         580                         0       580.00             180.0   \n",
       "2533         300                         0       300.00              60.0   \n",
       "2534       387.5                         0       387.50              97.5   \n",
       "2535         300                         0       300.00              60.0   \n",
       "2536         440                         0       440.00             120.0   \n",
       "2537      1437.5                      2555      3992.50             547.5   \n",
       "2538       590.5                         0       590.50             184.5   \n",
       "2539         300                         0       300.00              60.0   \n",
       "2540         398                         0       398.00             102.0   \n",
       "2541         300                         0       300.00              60.0   \n",
       "2542         300                         0       300.00              60.0   \n",
       "2543         440                         0       440.00             120.0   \n",
       "2544        1300                         0      1300.00             180.0   \n",
       "2545         440                         0       440.00             120.0   \n",
       "2546         300                         0       300.00              60.0   \n",
       "2547       464.5                         0       464.50             130.5   \n",
       "2548         300                         0       300.00              60.0   \n",
       "2549      9455.5                      2555     12010.50               NaN   \n",
       "2550         NaN                       NaN          NaN               NaN   \n",
       "2551        2400                      4480      6880.00             960.0   \n",
       "2552         300                      2960      3260.00              60.0   \n",
       "2553        1560                     60400     61960.00             600.0   \n",
       "2554      1591.5                     15951     17542.50             613.5   \n",
       "2555        2260                     32400     34660.00             900.0   \n",
       "2556        1000                     23760     24760.00             360.0   \n",
       "2557        1840                     73920     75760.00             720.0   \n",
       "2558     10951.5                    213871    224822.50               NaN   \n",
       "2559         NaN                       NaN          NaN               NaN   \n",
       "2560         NaN                       NaN          NaN               NaN   \n",
       "2561        1290                         0      1290.00               NaN   \n",
       "\n",
       "      YEARS RENEWED   RENTALS PAID UP TO DATE  \\\n",
       "0              10.0                       0.0   \n",
       "1               NaN                       NaN   \n",
       "2              10.0                       0.0   \n",
       "3               NaN                       NaN   \n",
       "4              10.0                       0.0   \n",
       "5               NaN                       NaN   \n",
       "6              10.0                       0.0   \n",
       "7               NaN                       NaN   \n",
       "8              10.0                       0.0   \n",
       "9              10.0                       0.0   \n",
       "10             10.0                       0.0   \n",
       "11             10.0                       0.0   \n",
       "12             10.0                       0.0   \n",
       "13             10.0                       0.0   \n",
       "14             10.0                       0.0   \n",
       "15             10.0                       0.0   \n",
       "16             10.0                       0.0   \n",
       "17             10.0                       0.0   \n",
       "18             10.0                       0.0   \n",
       "19             10.0                       0.0   \n",
       "20             10.0                       0.0   \n",
       "21             10.0                       0.0   \n",
       "22             10.0                       0.0   \n",
       "23             10.0                       0.0   \n",
       "24             10.0                       0.0   \n",
       "25              NaN                       NaN   \n",
       "26             10.0                    3500.0   \n",
       "27             10.0                    7595.0   \n",
       "28             10.0                       0.0   \n",
       "29             10.0                       0.0   \n",
       "...             ...                       ...   \n",
       "2532            4.0                     720.0   \n",
       "2533            4.0                     240.0   \n",
       "2534            4.0                     390.0   \n",
       "2535            4.0                     240.0   \n",
       "2536            4.0                     480.0   \n",
       "2537            4.0                    2190.0   \n",
       "2538            4.0                     738.0   \n",
       "2539            4.0                     240.0   \n",
       "2540            4.0                     408.0   \n",
       "2541            4.0                     240.0   \n",
       "2542            4.0                     240.0   \n",
       "2543            4.0                     480.0   \n",
       "2544            4.0                     720.0   \n",
       "2545            4.0                     480.0   \n",
       "2546            4.0                     240.0   \n",
       "2547            4.0                     522.0   \n",
       "2548            4.0                     240.0   \n",
       "2549            NaN                       NaN   \n",
       "2550            NaN                       NaN   \n",
       "2551            4.0                    3840.0   \n",
       "2552            4.0                     240.0   \n",
       "2553            4.0                    2400.0   \n",
       "2554            4.0                    2454.0   \n",
       "2555            4.0                    3600.0   \n",
       "2556            4.0                    1440.0   \n",
       "2557            4.0                    2880.0   \n",
       "2558            NaN                       NaN   \n",
       "2559            NaN                       NaN   \n",
       "2560            NaN                       NaN   \n",
       "2561            NaN                       NaN   \n",
       "\n",
       "      TOTAL INVESTMENT (BONUS + RENTALS)  Estimated Bonus $/Acre UA %  RA%  \\\n",
       "0                                 790.50                0.000000       NaN   \n",
       "1                                    NaN                     NaN  NaN  NaN   \n",
       "2                                1253.50                0.000000  0.5  NaN   \n",
       "3                                    NaN                     NaN  NaN  NaN   \n",
       "4                                4200.00                0.000000  0.5  NaN   \n",
       "5                                    NaN                     NaN  NaN  NaN   \n",
       "6                               42612.50                0.000000  0.5  NaN   \n",
       "7                                    NaN                     NaN  NaN  NaN   \n",
       "8                                1744.50                0.000000  0.5  NaN   \n",
       "9                                1436.50                0.000000  0.5  NaN   \n",
       "10                               2265.00                0.000000  0.5  NaN   \n",
       "11                                565.00                0.000000  0.5  NaN   \n",
       "12                                162.50                0.000000  0.5  NaN   \n",
       "13                                585.00                0.000000  0.5  NaN   \n",
       "14                                204.50                0.000000  0.5  NaN   \n",
       "15                               3004.50                0.000000  0.5  NaN   \n",
       "16                               4457.00                0.000000  0.5  NaN   \n",
       "17                                603.50                0.000000  0.5  NaN   \n",
       "18                                911.50                0.000000  0.5  NaN   \n",
       "19                               3774.50                0.000000  0.5  NaN   \n",
       "20                               3898.50                0.000000  0.5  NaN   \n",
       "21                               3871.50                0.000000  0.5  NaN   \n",
       "22                               1935.00                0.000000  0.5  NaN   \n",
       "23                              15888.00                0.000000  0.5  NaN   \n",
       "24                              12391.50                0.000000  0.5  NaN   \n",
       "25                                   NaN                     NaN  NaN  NaN   \n",
       "26                              58575.00              276.875000  0.5  NaN   \n",
       "27                              51070.00              101.672811  0.5  NaN   \n",
       "28                               8020.00                0.000000  0.5  NaN   \n",
       "29                                577.51                     NaN  NaN  NaN   \n",
       "...                                  ...                     ...  ...  ...   \n",
       "2532                             1120.00                4.833333  NaN  0.1   \n",
       "2533                              480.00                7.500000  NaN  0.1   \n",
       "2534                              680.00                5.961538  NaN  0.1   \n",
       "2535                              480.00                7.500000  NaN  0.1   \n",
       "2536                              800.00                5.500000  NaN  0.1   \n",
       "2537                             5635.00               10.968407  NaN  0.1   \n",
       "2538                             1144.00                4.840164  NaN  0.1   \n",
       "2539                              480.00                7.500000  NaN  0.1   \n",
       "2540                              704.00                5.852941  NaN  0.1   \n",
       "2541                              480.00                7.500000  NaN  0.1   \n",
       "2542                              480.00                7.500000  NaN  0.1   \n",
       "2543                              800.00                5.500000  NaN  0.1   \n",
       "2544                             1840.00               10.833333  NaN  0.1   \n",
       "2545                              800.00                5.500000  NaN  0.1   \n",
       "2546                              480.00                7.500000  NaN  0.1   \n",
       "2547                              856.00                5.401163  NaN  0.1   \n",
       "2548                              480.00                7.500000  NaN  0.1   \n",
       "2549                                 NaN                     NaN  NaN  NaN   \n",
       "2550                                 NaN                     NaN  NaN  NaN   \n",
       "2551                             9760.00               10.750000  NaN  0.1   \n",
       "2552                             3440.00               81.500000  NaN  0.1   \n",
       "2553                            63760.00              154.900000  NaN  0.1   \n",
       "2554                            19383.00               42.891198  NaN  0.1   \n",
       "2555                            37360.00               57.766667  NaN  0.1   \n",
       "2556                            25840.00              103.166667  NaN  0.1   \n",
       "2557                            77920.00              157.833333  NaN  0.1   \n",
       "2558                                 NaN                     NaN  NaN  NaN   \n",
       "2559                                 NaN                     NaN  NaN  NaN   \n",
       "2560                                 NaN                     NaN  NaN  NaN   \n",
       "2561                                 NaN                     NaN  NaN  NaN   \n",
       "\n",
       "      KA%                              RECORDED LEASE   DATE FILED (OVERRIDE)  \\\n",
       "0     NaN                                           NaN                   NaN   \n",
       "1     NaN                                           NaN                   NaN   \n",
       "2     NaN                                           NaN                   NaN   \n",
       "3     NaN                                           NaN                   NaN   \n",
       "4     NaN                                           NaN                   NaN   \n",
       "5     NaN                                           NaN                   NaN   \n",
       "6     NaN                                           NaN                   NaN   \n",
       "7     NaN                                           NaN                   NaN   \n",
       "8     NaN                                           NaN                   NaN   \n",
       "9     NaN                                           NaN                   NaN   \n",
       "10    NaN                                           NaN                   NaN   \n",
       "11    NaN                                           NaN                   NaN   \n",
       "12    NaN                                           NaN                   NaN   \n",
       "13    NaN                                           NaN                   NaN   \n",
       "14    NaN                                           NaN                   NaN   \n",
       "15    NaN                                           NaN                   NaN   \n",
       "16    NaN                                           NaN                   NaN   \n",
       "17    NaN                                           NaN                   NaN   \n",
       "18    NaN                                           NaN                   NaN   \n",
       "19    NaN                                           NaN                   NaN   \n",
       "20    NaN                                           NaN                   NaN   \n",
       "21    NaN                                           NaN                   NaN   \n",
       "22    NaN                                           NaN                   NaN   \n",
       "23    NaN                                           NaN                   NaN   \n",
       "24    NaN                                           NaN                   NaN   \n",
       "25    NaN                                           NaN                   NaN   \n",
       "26    NaN                                           NaN                   NaN   \n",
       "27    NaN                                           NaN                   NaN   \n",
       "28    NaN                                           NaN                   NaN   \n",
       "29    NaN                                           NaN                   NaN   \n",
       "...   ...                                           ...                   ...   \n",
       "2532  0.1                        Instrument # 201904281                   NaN   \n",
       "2533  0.1                        Instrument # 201904281                   NaN   \n",
       "2534  0.1                     Book # 2019; Pages # 2761                   NaN   \n",
       "2535  0.1                     Book # 2019; Pages # 2761                   NaN   \n",
       "2536  0.1                     Book # 2019; Pages # 2761                   NaN   \n",
       "2537  0.1                     Book # 2019; Pages # 2761                   NaN   \n",
       "2538  0.1                     Book # 2019; Pages # 2761                   NaN   \n",
       "2539  0.1                     Book # 2019; Pages # 2761                   NaN   \n",
       "2540  0.1                     Book # 2019; Pages # 2761                   NaN   \n",
       "2541  0.1                     Book # 2019; Pages # 2761                   NaN   \n",
       "2542  0.1                     Book # 2019; Pages # 2761                   NaN   \n",
       "2543  0.1                     Book # 2019; Pages # 2761                   NaN   \n",
       "2544  0.1                     Book # 2019; Pages # 2761                   NaN   \n",
       "2545  0.1                     Book # 2019; Pages # 2761                   NaN   \n",
       "2546  0.1                     Book # 2019; Pages # 2761                   NaN   \n",
       "2547  0.1                     Doc# 201904281; Pages# 3;                   NaN   \n",
       "2548  0.1                     Book # 2019; Pages # 2761                   NaN   \n",
       "2549  NaN                                           NaN                   NaN   \n",
       "2550  NaN                                           NaN                   NaN   \n",
       "2551  0.1  Receipt # 423395; Book # 828; Page # 386 (3)   2020-01-15 00:00:00   \n",
       "2552  0.1     Doc # 1910055; Book # 1126; Page 179 (3);   2020-01-13 00:00:00   \n",
       "2553  0.1  Receipt # 423395; Book # 828; Page # 386 (3)   2020-01-15 00:00:00   \n",
       "2554  0.1  Receipt # 423395; Book # 828; Page # 386 (3)   2020-01-15 00:00:00   \n",
       "2555  0.1  Receipt # 423395; Book # 828; Page # 386 (3)   2020-01-15 00:00:00   \n",
       "2556  0.1  Receipt # 423395; Book # 828; Page # 386 (3)   2020-01-15 00:00:00   \n",
       "2557  0.1     Doc # 1910055; Book # 1126; Page 179 (3);   2020-01-13 00:00:00   \n",
       "2558  NaN                                           NaN                   NaN   \n",
       "2559  NaN                                           NaN                   NaN   \n",
       "2560  NaN                                           NaN                   NaN   \n",
       "2561  NaN                                           NaN                   NaN   \n",
       "\n",
       "      % OF OVERRIDES                             Assignment of ORRI  \n",
       "0                NaN                                            NaN  \n",
       "1                NaN                                            NaN  \n",
       "2                NaN                                            NaN  \n",
       "3                NaN                                            NaN  \n",
       "4                NaN                                            NaN  \n",
       "5                NaN                                            NaN  \n",
       "6                NaN                                            NaN  \n",
       "7                NaN                                            NaN  \n",
       "8                NaN                                            NaN  \n",
       "9                NaN                                            NaN  \n",
       "10               NaN                                            NaN  \n",
       "11               NaN                                            NaN  \n",
       "12               NaN                                            NaN  \n",
       "13               NaN                                            NaN  \n",
       "14               NaN                                            NaN  \n",
       "15               NaN                                            NaN  \n",
       "16               NaN                                            NaN  \n",
       "17               NaN                                            NaN  \n",
       "18               NaN                                            NaN  \n",
       "19               NaN                                            NaN  \n",
       "20               NaN                                            NaN  \n",
       "21               NaN                                            NaN  \n",
       "22               NaN                                            NaN  \n",
       "23               NaN                                            NaN  \n",
       "24               NaN                                            NaN  \n",
       "25               NaN                                            NaN  \n",
       "26               NaN                                            NaN  \n",
       "27               NaN                                            NaN  \n",
       "28               NaN                                            NaN  \n",
       "29               NaN                                            NaN  \n",
       "...              ...                                            ...  \n",
       "2532             NaN                                            NaN  \n",
       "2533             NaN                                            NaN  \n",
       "2534             NaN                                            NaN  \n",
       "2535             NaN                                            NaN  \n",
       "2536             NaN                                            NaN  \n",
       "2537             NaN                                            NaN  \n",
       "2538             NaN                                            NaN  \n",
       "2539             NaN                                            NaN  \n",
       "2540             NaN                                            NaN  \n",
       "2541             NaN                                            NaN  \n",
       "2542             NaN                                            NaN  \n",
       "2543             NaN                                            NaN  \n",
       "2544             NaN                                            NaN  \n",
       "2545             NaN                                            NaN  \n",
       "2546             NaN                                            NaN  \n",
       "2547             NaN                                            NaN  \n",
       "2548             NaN                                            NaN  \n",
       "2549             NaN                                            NaN  \n",
       "2550             NaN                                            NaN  \n",
       "2551            0.25             Instrument # 202000364; Pages 1-5;  \n",
       "2552            0.25  Reception: 2000652; Book # 1132; Page # 0393;  \n",
       "2553            0.25             Instrument # 202000364; Pages 1-5;  \n",
       "2554            0.25             Instrument # 202000364; Pages 1-5;  \n",
       "2555            0.25             Instrument # 202000364; Pages 1-5;  \n",
       "2556            0.25             Instrument # 202000364; Pages 1-5;  \n",
       "2557            0.25  Reception: 2000652; Book # 1132; Page # 0393;  \n",
       "2558             NaN                                            NaN  \n",
       "2559             NaN                                            NaN  \n",
       "2560             NaN                                            NaN  \n",
       "2561             NaN                                            NaN  \n",
       "\n",
       "[2562 rows x 32 columns]"
      ]
     },
     "execution_count": 91,
     "metadata": {},
     "output_type": "execute_result"
    }
   ],
   "source": [
    "pd.options.display.max_columns = 999\n",
    "srcData"
   ]
  },
  {
   "cell_type": "markdown",
   "metadata": {},
   "source": [
    "# Clean Source Data"
   ]
  },
  {
   "cell_type": "markdown",
   "metadata": {},
   "source": [
    "### Dropping Nulls from Lease No."
   ]
  },
  {
   "cell_type": "code",
   "execution_count": 92,
   "metadata": {},
   "outputs": [],
   "source": [
    "cleanData = srcData.dropna(subset = ['LEASE NO.', 'COUNTY', 'ST'], how = 'all')"
   ]
  },
  {
   "cell_type": "code",
   "execution_count": 93,
   "metadata": {},
   "outputs": [
    {
     "data": {
      "text/html": [
       "<div>\n",
       "<style scoped>\n",
       "    .dataframe tbody tr th:only-of-type {\n",
       "        vertical-align: middle;\n",
       "    }\n",
       "\n",
       "    .dataframe tbody tr th {\n",
       "        vertical-align: top;\n",
       "    }\n",
       "\n",
       "    .dataframe thead th {\n",
       "        text-align: right;\n",
       "    }\n",
       "</style>\n",
       "<table border=\"1\" class=\"dataframe\">\n",
       "  <thead>\n",
       "    <tr style=\"text-align: right;\">\n",
       "      <th></th>\n",
       "      <th>LEASE NO.</th>\n",
       "      <th>PLOTTED</th>\n",
       "      <th>GRANTEE</th>\n",
       "      <th>SALE DATE</th>\n",
       "      <th>EFFECTIVE DATE OF LEASE</th>\n",
       "      <th>EXPIRATION DATE</th>\n",
       "      <th>ACRES</th>\n",
       "      <th>COUNTY</th>\n",
       "      <th>ST</th>\n",
       "      <th>STATUS/COMMENTS</th>\n",
       "      <th>EXPIRATION YEAR</th>\n",
       "      <th>TOWNSHIP</th>\n",
       "      <th>RANGE</th>\n",
       "      <th>DESCRIPTION I</th>\n",
       "      <th>DESCRIPTION II</th>\n",
       "      <th>DESCRIPTION III</th>\n",
       "      <th>PARCEL NO</th>\n",
       "      <th>DUE AT SALE</th>\n",
       "      <th>DUE AFTER SALE (REFUNDED)</th>\n",
       "      <th>TOTAL  PAID</th>\n",
       "      <th>AMOUNT OF RENTAL</th>\n",
       "      <th>YEARS RENEWED</th>\n",
       "      <th>RENTALS PAID UP TO DATE</th>\n",
       "      <th>TOTAL INVESTMENT (BONUS + RENTALS)</th>\n",
       "      <th>Estimated Bonus $/Acre</th>\n",
       "      <th>UA %</th>\n",
       "      <th>RA%</th>\n",
       "      <th>KA%</th>\n",
       "      <th>RECORDED LEASE</th>\n",
       "      <th>DATE FILED (OVERRIDE)</th>\n",
       "      <th>% OF OVERRIDES</th>\n",
       "      <th>Assignment of ORRI</th>\n",
       "    </tr>\n",
       "  </thead>\n",
       "  <tbody>\n",
       "    <tr>\n",
       "      <th>0</th>\n",
       "      <td>TXNM096140</td>\n",
       "      <td>NO</td>\n",
       "      <td>R&amp;R Royalty</td>\n",
       "      <td>1995-10-19 00:00:00</td>\n",
       "      <td>1995-12-01 00:00:00</td>\n",
       "      <td>2005-12-01</td>\n",
       "      <td>NaN</td>\n",
       "      <td>MONTGOMERY</td>\n",
       "      <td>TX</td>\n",
       "      <td>Expired 2005</td>\n",
       "      <td>2005.0</td>\n",
       "      <td>NaN</td>\n",
       "      <td>NaN</td>\n",
       "      <td>ASSIGNMENT REC'D FROM DAN</td>\n",
       "      <td>TRACTS J22, J22A, J22B</td>\n",
       "      <td>NaN</td>\n",
       "      <td>NaN</td>\n",
       "      <td>NaN</td>\n",
       "      <td>790.5</td>\n",
       "      <td>790.5</td>\n",
       "      <td>NaN</td>\n",
       "      <td>10.0</td>\n",
       "      <td>0.0</td>\n",
       "      <td>790.5</td>\n",
       "      <td>0.0</td>\n",
       "      <td></td>\n",
       "      <td>NaN</td>\n",
       "      <td>NaN</td>\n",
       "      <td>NaN</td>\n",
       "      <td>NaN</td>\n",
       "      <td>NaN</td>\n",
       "      <td>NaN</td>\n",
       "    </tr>\n",
       "    <tr>\n",
       "      <th>2</th>\n",
       "      <td>TXNM103231</td>\n",
       "      <td>NO</td>\n",
       "      <td>R&amp;R Royalty</td>\n",
       "      <td>1999-05-13 00:00:00</td>\n",
       "      <td>1999-07-01 00:00:00</td>\n",
       "      <td>2009-07-01</td>\n",
       "      <td>NaN</td>\n",
       "      <td>HOUSTON</td>\n",
       "      <td>TX</td>\n",
       "      <td>Expired 2009 - Bought from Dan Gonzales</td>\n",
       "      <td>2009.0</td>\n",
       "      <td>NaN</td>\n",
       "      <td>NaN</td>\n",
       "      <td>SAM HOUSTON NATL FOREST</td>\n",
       "      <td>ASSIGNMENT REC'D FROM DAN</td>\n",
       "      <td>NaN</td>\n",
       "      <td>NaN</td>\n",
       "      <td>NaN</td>\n",
       "      <td>1253.5</td>\n",
       "      <td>1253.5</td>\n",
       "      <td>NaN</td>\n",
       "      <td>10.0</td>\n",
       "      <td>0.0</td>\n",
       "      <td>1253.5</td>\n",
       "      <td>0.0</td>\n",
       "      <td>0.5</td>\n",
       "      <td>NaN</td>\n",
       "      <td>NaN</td>\n",
       "      <td>NaN</td>\n",
       "      <td>NaN</td>\n",
       "      <td>NaN</td>\n",
       "      <td>NaN</td>\n",
       "    </tr>\n",
       "    <tr>\n",
       "      <th>4</th>\n",
       "      <td>TXNM091527</td>\n",
       "      <td>NO</td>\n",
       "      <td>R&amp;R Royalty</td>\n",
       "      <td>1993-07-21 00:00:00</td>\n",
       "      <td>1993-09-01 00:00:00</td>\n",
       "      <td>2003-09-01</td>\n",
       "      <td>NaN</td>\n",
       "      <td>KLEBERG</td>\n",
       "      <td>TX</td>\n",
       "      <td>Expired 2003 | Bid Refunded</td>\n",
       "      <td>2003.0</td>\n",
       "      <td>NaN</td>\n",
       "      <td>NaN</td>\n",
       "      <td>KINGSVILLE NAS</td>\n",
       "      <td>J MINDIOLOA SURVEY</td>\n",
       "      <td>LOTS &amp; TRACTS IN SEC 23 &amp; 30</td>\n",
       "      <td>NaN</td>\n",
       "      <td>NaN</td>\n",
       "      <td>4200</td>\n",
       "      <td>4200.0</td>\n",
       "      <td>NaN</td>\n",
       "      <td>10.0</td>\n",
       "      <td>0.0</td>\n",
       "      <td>4200.0</td>\n",
       "      <td>0.0</td>\n",
       "      <td>0.5</td>\n",
       "      <td>NaN</td>\n",
       "      <td>NaN</td>\n",
       "      <td>NaN</td>\n",
       "      <td>NaN</td>\n",
       "      <td>NaN</td>\n",
       "      <td>NaN</td>\n",
       "    </tr>\n",
       "    <tr>\n",
       "      <th>6</th>\n",
       "      <td>TXNM102849</td>\n",
       "      <td>NO</td>\n",
       "      <td>R&amp;R Royalty</td>\n",
       "      <td>1999-04-21 00:00:00</td>\n",
       "      <td>1999-06-01 00:00:00</td>\n",
       "      <td>2009-06-01</td>\n",
       "      <td>NaN</td>\n",
       "      <td>KLEBERG</td>\n",
       "      <td>TX</td>\n",
       "      <td>Expired 2009</td>\n",
       "      <td>2009.0</td>\n",
       "      <td>NaN</td>\n",
       "      <td>NaN</td>\n",
       "      <td>TEXAS A&amp;M UNIVERSITY</td>\n",
       "      <td>LOTS 2-8, BLK 5, KING ADDITION-EX 47.75 A</td>\n",
       "      <td>NaN</td>\n",
       "      <td>9904002</td>\n",
       "      <td>42612.5</td>\n",
       "      <td>0</td>\n",
       "      <td>42612.5</td>\n",
       "      <td>NaN</td>\n",
       "      <td>10.0</td>\n",
       "      <td>0.0</td>\n",
       "      <td>42612.5</td>\n",
       "      <td>0.0</td>\n",
       "      <td>0.5</td>\n",
       "      <td>NaN</td>\n",
       "      <td>NaN</td>\n",
       "      <td>NaN</td>\n",
       "      <td>NaN</td>\n",
       "      <td>NaN</td>\n",
       "      <td>NaN</td>\n",
       "    </tr>\n",
       "    <tr>\n",
       "      <th>8</th>\n",
       "      <td>TXNM103276</td>\n",
       "      <td>NO</td>\n",
       "      <td>R&amp;R Royalty</td>\n",
       "      <td>1999-07-21 00:00:00</td>\n",
       "      <td>1999-09-01 00:00:00</td>\n",
       "      <td>2009-09-01</td>\n",
       "      <td>NaN</td>\n",
       "      <td>HOUSTON</td>\n",
       "      <td>TX</td>\n",
       "      <td>Expired 2009 -  sold</td>\n",
       "      <td>2009.0</td>\n",
       "      <td>NaN</td>\n",
       "      <td>NaN</td>\n",
       "      <td>DAVY CROCKETT NATL FOREST</td>\n",
       "      <td>TRACT K-1g</td>\n",
       "      <td>NaN</td>\n",
       "      <td>9907041</td>\n",
       "      <td>1744.5</td>\n",
       "      <td>0</td>\n",
       "      <td>1744.5</td>\n",
       "      <td>NaN</td>\n",
       "      <td>10.0</td>\n",
       "      <td>0.0</td>\n",
       "      <td>1744.5</td>\n",
       "      <td>0.0</td>\n",
       "      <td>0.5</td>\n",
       "      <td>NaN</td>\n",
       "      <td>NaN</td>\n",
       "      <td>NaN</td>\n",
       "      <td>NaN</td>\n",
       "      <td>NaN</td>\n",
       "      <td>NaN</td>\n",
       "    </tr>\n",
       "  </tbody>\n",
       "</table>\n",
       "</div>"
      ],
      "text/plain": [
       "    LEASE NO. PLOTTED      GRANTEE            SALE DATE  \\\n",
       "0  TXNM096140      NO  R&R Royalty  1995-10-19 00:00:00   \n",
       "2  TXNM103231      NO  R&R Royalty  1999-05-13 00:00:00   \n",
       "4  TXNM091527      NO  R&R Royalty  1993-07-21 00:00:00   \n",
       "6  TXNM102849      NO  R&R Royalty  1999-04-21 00:00:00   \n",
       "8  TXNM103276      NO  R&R Royalty  1999-07-21 00:00:00   \n",
       "\n",
       "  EFFECTIVE DATE OF LEASE EXPIRATION DATE  ACRES       COUNTY  ST  \\\n",
       "0     1995-12-01 00:00:00      2005-12-01    NaN  MONTGOMERY   TX   \n",
       "2     1999-07-01 00:00:00      2009-07-01    NaN     HOUSTON   TX   \n",
       "4     1993-09-01 00:00:00      2003-09-01    NaN      KLEBERG  TX   \n",
       "6     1999-06-01 00:00:00      2009-06-01    NaN     KLEBERG   TX   \n",
       "8     1999-09-01 00:00:00      2009-09-01    NaN     HOUSTON   TX   \n",
       "\n",
       "                           STATUS/COMMENTS  EXPIRATION YEAR TOWNSHIP RANGE  \\\n",
       "0                             Expired 2005           2005.0      NaN   NaN   \n",
       "2  Expired 2009 - Bought from Dan Gonzales           2009.0      NaN   NaN   \n",
       "4              Expired 2003 | Bid Refunded           2003.0      NaN   NaN   \n",
       "6                             Expired 2009           2009.0      NaN   NaN   \n",
       "8                     Expired 2009 -  sold           2009.0      NaN   NaN   \n",
       "\n",
       "               DESCRIPTION I                             DESCRIPTION II  \\\n",
       "0  ASSIGNMENT REC'D FROM DAN                     TRACTS J22, J22A, J22B   \n",
       "2    SAM HOUSTON NATL FOREST                  ASSIGNMENT REC'D FROM DAN   \n",
       "4            KINGSVILLE NAS                          J MINDIOLOA SURVEY   \n",
       "6       TEXAS A&M UNIVERSITY  LOTS 2-8, BLK 5, KING ADDITION-EX 47.75 A   \n",
       "8  DAVY CROCKETT NATL FOREST                                 TRACT K-1g   \n",
       "\n",
       "                DESCRIPTION III PARCEL NO DUE AT SALE  \\\n",
       "0                           NaN       NaN         NaN   \n",
       "2                           NaN       NaN         NaN   \n",
       "4  LOTS & TRACTS IN SEC 23 & 30       NaN         NaN   \n",
       "6                           NaN   9904002     42612.5   \n",
       "8                           NaN   9907041      1744.5   \n",
       "\n",
       "  DUE AFTER SALE (REFUNDED)  TOTAL  PAID  AMOUNT OF RENTAL  YEARS RENEWED  \\\n",
       "0                     790.5        790.5               NaN           10.0   \n",
       "2                    1253.5       1253.5               NaN           10.0   \n",
       "4                      4200       4200.0               NaN           10.0   \n",
       "6                         0      42612.5               NaN           10.0   \n",
       "8                         0       1744.5               NaN           10.0   \n",
       "\n",
       "    RENTALS PAID UP TO DATE  TOTAL INVESTMENT (BONUS + RENTALS)  \\\n",
       "0                       0.0                               790.5   \n",
       "2                       0.0                              1253.5   \n",
       "4                       0.0                              4200.0   \n",
       "6                       0.0                             42612.5   \n",
       "8                       0.0                              1744.5   \n",
       "\n",
       "   Estimated Bonus $/Acre UA %  RA%  KA% RECORDED LEASE    \\\n",
       "0                     0.0       NaN  NaN              NaN   \n",
       "2                     0.0  0.5  NaN  NaN              NaN   \n",
       "4                     0.0  0.5  NaN  NaN              NaN   \n",
       "6                     0.0  0.5  NaN  NaN              NaN   \n",
       "8                     0.0  0.5  NaN  NaN              NaN   \n",
       "\n",
       "  DATE FILED (OVERRIDE)  % OF OVERRIDES Assignment of ORRI  \n",
       "0                   NaN             NaN                NaN  \n",
       "2                   NaN             NaN                NaN  \n",
       "4                   NaN             NaN                NaN  \n",
       "6                   NaN             NaN                NaN  \n",
       "8                   NaN             NaN                NaN  "
      ]
     },
     "execution_count": 93,
     "metadata": {},
     "output_type": "execute_result"
    }
   ],
   "source": [
    "cleanData.head()"
   ]
  },
  {
   "cell_type": "markdown",
   "metadata": {},
   "source": [
    "### Converting date fields to datetime, then converting to string in yyyy-mm-dd format for sql"
   ]
  },
  {
   "cell_type": "code",
   "execution_count": 94,
   "metadata": {},
   "outputs": [
    {
     "data": {
      "text/plain": [
       "0       1995/10/19\n",
       "2       1999/05/13\n",
       "4       1993/07/21\n",
       "6       1999/04/21\n",
       "8       1999/07/21\n",
       "9       1999/07/21\n",
       "10      1999/07/21\n",
       "11      1999/07/21\n",
       "12      1999/07/21\n",
       "13      1999/07/21\n",
       "14      1999/07/21\n",
       "15      1999/07/21\n",
       "16      1999/07/21\n",
       "17      1999/07/21\n",
       "18      1999/07/21\n",
       "19      1999/07/21\n",
       "20      1999/07/21\n",
       "21      1999/07/21\n",
       "22      1999/09/23\n",
       "23      1999/09/23\n",
       "24      1999/09/23\n",
       "26      1999/12/16\n",
       "27      1999/12/16\n",
       "28      1999/12/16\n",
       "32      2000/03/23\n",
       "33      2000/03/23\n",
       "34      2000/03/23\n",
       "35      2000/03/23\n",
       "36      2000/03/23\n",
       "37      2000/03/23\n",
       "           ...    \n",
       "2524    2018/03/13\n",
       "2525    2018/03/13\n",
       "2526    2018/03/13\n",
       "2527    2018/03/13\n",
       "2528    2018/03/13\n",
       "2531    2018/06/21\n",
       "2532    2018/06/21\n",
       "2533    2018/06/21\n",
       "2534    2018/06/21\n",
       "2535    2018/06/21\n",
       "2536    2018/06/21\n",
       "2537    2018/06/21\n",
       "2538    2018/06/21\n",
       "2539    2018/06/21\n",
       "2540    2018/06/21\n",
       "2541    2018/06/21\n",
       "2542    2018/06/21\n",
       "2543    2018/06/21\n",
       "2544    2018/06/21\n",
       "2545    2018/06/21\n",
       "2546    2018/06/21\n",
       "2547    2018/06/21\n",
       "2548    2018/06/21\n",
       "2551    2018/09/05\n",
       "2552    2018/09/05\n",
       "2553    2018/09/05\n",
       "2554    2018/09/05\n",
       "2555    2018/09/05\n",
       "2556    2018/09/05\n",
       "2557    2018/09/05\n",
       "Name: SALE DATE, Length: 2175, dtype: object"
      ]
     },
     "execution_count": 94,
     "metadata": {},
     "output_type": "execute_result"
    }
   ],
   "source": [
    "cleanData[\"SALE DATE\"].apply(lambda x: x.strftime('%Y/%m/%d') if pd.notnull(x) else '')"
   ]
  },
  {
   "cell_type": "code",
   "execution_count": 95,
   "metadata": {},
   "outputs": [
    {
     "name": "stderr",
     "output_type": "stream",
     "text": [
      "/anaconda3/lib/python3.6/site-packages/ipykernel_launcher.py:6: SettingWithCopyWarning: \n",
      "A value is trying to be set on a copy of a slice from a DataFrame.\n",
      "Try using .loc[row_indexer,col_indexer] = value instead\n",
      "\n",
      "See the caveats in the documentation: http://pandas.pydata.org/pandas-docs/stable/indexing.html#indexing-view-versus-copy\n",
      "  \n",
      "/anaconda3/lib/python3.6/site-packages/ipykernel_launcher.py:7: SettingWithCopyWarning: \n",
      "A value is trying to be set on a copy of a slice from a DataFrame.\n",
      "Try using .loc[row_indexer,col_indexer] = value instead\n",
      "\n",
      "See the caveats in the documentation: http://pandas.pydata.org/pandas-docs/stable/indexing.html#indexing-view-versus-copy\n",
      "  import sys\n"
     ]
    },
    {
     "name": "stdout",
     "output_type": "stream",
     "text": [
      "DATE FILED (OVERRIDE) failed\n"
     ]
    }
   ],
   "source": [
    "#filtering column list with 'date' in name\n",
    "datecols = list(filter(lambda x: 'date' in x.lower(), cleanData.columns))\n",
    "\n",
    "for col in datecols:\n",
    "    try:\n",
    "        cleanData[col] = pd.to_datetime(cleanData[col])\n",
    "        cleanData[col] = cleanData[col].apply(lambda x: x.strftime('%Y/%m/%d') if pd.notnull(x) else '')\n",
    "        #cleanData[col] = cleanData[col].apply(lambda x: x.date())\n",
    "    except: \n",
    "        print(col + \" failed\")"
   ]
  },
  {
   "cell_type": "code",
   "execution_count": 96,
   "metadata": {},
   "outputs": [
    {
     "name": "stdout",
     "output_type": "stream",
     "text": [
      "<class 'pandas.core.frame.DataFrame'>\n",
      "Int64Index: 2175 entries, 0 to 2557\n",
      "Data columns (total 32 columns):\n",
      "LEASE NO.                             2175 non-null object\n",
      "PLOTTED                               2175 non-null object\n",
      "GRANTEE                               2175 non-null object\n",
      "SALE DATE                             2175 non-null object\n",
      "EFFECTIVE DATE OF LEASE               2175 non-null object\n",
      "EXPIRATION DATE                       2175 non-null object\n",
      "ACRES                                 2108 non-null float64\n",
      "COUNTY                                2128 non-null object\n",
      "ST                                    2133 non-null object\n",
      "STATUS/COMMENTS                       908 non-null object\n",
      "EXPIRATION YEAR                       2076 non-null float64\n",
      "TOWNSHIP                              1332 non-null object\n",
      "RANGE                                 1331 non-null object\n",
      "DESCRIPTION I                         1930 non-null object\n",
      "DESCRIPTION II                        1868 non-null object\n",
      "DESCRIPTION III                       844 non-null object\n",
      "PARCEL NO                             1642 non-null object\n",
      "DUE AT SALE                           2053 non-null object\n",
      "DUE AFTER SALE (REFUNDED)             1777 non-null object\n",
      "TOTAL  PAID                           2092 non-null float64\n",
      "AMOUNT OF RENTAL                      2026 non-null float64\n",
      "YEARS RENEWED                         2056 non-null float64\n",
      " RENTALS PAID UP TO DATE              2175 non-null object\n",
      "TOTAL INVESTMENT (BONUS + RENTALS)    2056 non-null float64\n",
      "Estimated Bonus $/Acre                2173 non-null float64\n",
      "UA %                                  763 non-null object\n",
      "RA%                                   1262 non-null float64\n",
      "KA%                                   1177 non-null object\n",
      "RECORDED LEASE                        1680 non-null object\n",
      "DATE FILED (OVERRIDE)                 585 non-null object\n",
      "% OF OVERRIDES                        608 non-null float64\n",
      "Assignment of ORRI                    608 non-null object\n",
      "dtypes: float64(9), object(23)\n",
      "memory usage: 560.7+ KB\n"
     ]
    }
   ],
   "source": [
    "cleanData.info()"
   ]
  },
  {
   "cell_type": "code",
   "execution_count": 97,
   "metadata": {},
   "outputs": [
    {
     "data": {
      "text/html": [
       "<div>\n",
       "<style scoped>\n",
       "    .dataframe tbody tr th:only-of-type {\n",
       "        vertical-align: middle;\n",
       "    }\n",
       "\n",
       "    .dataframe tbody tr th {\n",
       "        vertical-align: top;\n",
       "    }\n",
       "\n",
       "    .dataframe thead th {\n",
       "        text-align: right;\n",
       "    }\n",
       "</style>\n",
       "<table border=\"1\" class=\"dataframe\">\n",
       "  <thead>\n",
       "    <tr style=\"text-align: right;\">\n",
       "      <th></th>\n",
       "      <th>LEASE NO.</th>\n",
       "      <th>PLOTTED</th>\n",
       "      <th>GRANTEE</th>\n",
       "      <th>SALE DATE</th>\n",
       "      <th>EFFECTIVE DATE OF LEASE</th>\n",
       "      <th>EXPIRATION DATE</th>\n",
       "      <th>ACRES</th>\n",
       "      <th>COUNTY</th>\n",
       "      <th>ST</th>\n",
       "      <th>STATUS/COMMENTS</th>\n",
       "      <th>EXPIRATION YEAR</th>\n",
       "      <th>TOWNSHIP</th>\n",
       "      <th>RANGE</th>\n",
       "      <th>DESCRIPTION I</th>\n",
       "      <th>DESCRIPTION II</th>\n",
       "      <th>DESCRIPTION III</th>\n",
       "      <th>PARCEL NO</th>\n",
       "      <th>DUE AT SALE</th>\n",
       "      <th>DUE AFTER SALE (REFUNDED)</th>\n",
       "      <th>TOTAL  PAID</th>\n",
       "      <th>AMOUNT OF RENTAL</th>\n",
       "      <th>YEARS RENEWED</th>\n",
       "      <th>RENTALS PAID UP TO DATE</th>\n",
       "      <th>TOTAL INVESTMENT (BONUS + RENTALS)</th>\n",
       "      <th>Estimated Bonus $/Acre</th>\n",
       "      <th>UA %</th>\n",
       "      <th>RA%</th>\n",
       "      <th>KA%</th>\n",
       "      <th>RECORDED LEASE</th>\n",
       "      <th>DATE FILED (OVERRIDE)</th>\n",
       "      <th>% OF OVERRIDES</th>\n",
       "      <th>Assignment of ORRI</th>\n",
       "    </tr>\n",
       "  </thead>\n",
       "  <tbody>\n",
       "    <tr>\n",
       "      <th>0</th>\n",
       "      <td>TXNM096140</td>\n",
       "      <td>NO</td>\n",
       "      <td>R&amp;R Royalty</td>\n",
       "      <td>1995/10/19</td>\n",
       "      <td>1995/12/01</td>\n",
       "      <td>2005/12/01</td>\n",
       "      <td>NaN</td>\n",
       "      <td>MONTGOMERY</td>\n",
       "      <td>TX</td>\n",
       "      <td>Expired 2005</td>\n",
       "      <td>2005.0</td>\n",
       "      <td>NaN</td>\n",
       "      <td>NaN</td>\n",
       "      <td>ASSIGNMENT REC'D FROM DAN</td>\n",
       "      <td>TRACTS J22, J22A, J22B</td>\n",
       "      <td>NaN</td>\n",
       "      <td>NaN</td>\n",
       "      <td>NaN</td>\n",
       "      <td>790.5</td>\n",
       "      <td>790.5</td>\n",
       "      <td>NaN</td>\n",
       "      <td>10.0</td>\n",
       "      <td>1970/01/01</td>\n",
       "      <td>790.5</td>\n",
       "      <td>0.0</td>\n",
       "      <td></td>\n",
       "      <td>NaN</td>\n",
       "      <td>NaN</td>\n",
       "      <td>NaN</td>\n",
       "      <td>NaN</td>\n",
       "      <td>NaN</td>\n",
       "      <td>NaN</td>\n",
       "    </tr>\n",
       "    <tr>\n",
       "      <th>2</th>\n",
       "      <td>TXNM103231</td>\n",
       "      <td>NO</td>\n",
       "      <td>R&amp;R Royalty</td>\n",
       "      <td>1999/05/13</td>\n",
       "      <td>1999/07/01</td>\n",
       "      <td>2009/07/01</td>\n",
       "      <td>NaN</td>\n",
       "      <td>HOUSTON</td>\n",
       "      <td>TX</td>\n",
       "      <td>Expired 2009 - Bought from Dan Gonzales</td>\n",
       "      <td>2009.0</td>\n",
       "      <td>NaN</td>\n",
       "      <td>NaN</td>\n",
       "      <td>SAM HOUSTON NATL FOREST</td>\n",
       "      <td>ASSIGNMENT REC'D FROM DAN</td>\n",
       "      <td>NaN</td>\n",
       "      <td>NaN</td>\n",
       "      <td>NaN</td>\n",
       "      <td>1253.5</td>\n",
       "      <td>1253.5</td>\n",
       "      <td>NaN</td>\n",
       "      <td>10.0</td>\n",
       "      <td>1970/01/01</td>\n",
       "      <td>1253.5</td>\n",
       "      <td>0.0</td>\n",
       "      <td>0.5</td>\n",
       "      <td>NaN</td>\n",
       "      <td>NaN</td>\n",
       "      <td>NaN</td>\n",
       "      <td>NaN</td>\n",
       "      <td>NaN</td>\n",
       "      <td>NaN</td>\n",
       "    </tr>\n",
       "    <tr>\n",
       "      <th>4</th>\n",
       "      <td>TXNM091527</td>\n",
       "      <td>NO</td>\n",
       "      <td>R&amp;R Royalty</td>\n",
       "      <td>1993/07/21</td>\n",
       "      <td>1993/09/01</td>\n",
       "      <td>2003/09/01</td>\n",
       "      <td>NaN</td>\n",
       "      <td>KLEBERG</td>\n",
       "      <td>TX</td>\n",
       "      <td>Expired 2003 | Bid Refunded</td>\n",
       "      <td>2003.0</td>\n",
       "      <td>NaN</td>\n",
       "      <td>NaN</td>\n",
       "      <td>KINGSVILLE NAS</td>\n",
       "      <td>J MINDIOLOA SURVEY</td>\n",
       "      <td>LOTS &amp; TRACTS IN SEC 23 &amp; 30</td>\n",
       "      <td>NaN</td>\n",
       "      <td>NaN</td>\n",
       "      <td>4200</td>\n",
       "      <td>4200.0</td>\n",
       "      <td>NaN</td>\n",
       "      <td>10.0</td>\n",
       "      <td>1970/01/01</td>\n",
       "      <td>4200.0</td>\n",
       "      <td>0.0</td>\n",
       "      <td>0.5</td>\n",
       "      <td>NaN</td>\n",
       "      <td>NaN</td>\n",
       "      <td>NaN</td>\n",
       "      <td>NaN</td>\n",
       "      <td>NaN</td>\n",
       "      <td>NaN</td>\n",
       "    </tr>\n",
       "    <tr>\n",
       "      <th>6</th>\n",
       "      <td>TXNM102849</td>\n",
       "      <td>NO</td>\n",
       "      <td>R&amp;R Royalty</td>\n",
       "      <td>1999/04/21</td>\n",
       "      <td>1999/06/01</td>\n",
       "      <td>2009/06/01</td>\n",
       "      <td>NaN</td>\n",
       "      <td>KLEBERG</td>\n",
       "      <td>TX</td>\n",
       "      <td>Expired 2009</td>\n",
       "      <td>2009.0</td>\n",
       "      <td>NaN</td>\n",
       "      <td>NaN</td>\n",
       "      <td>TEXAS A&amp;M UNIVERSITY</td>\n",
       "      <td>LOTS 2-8, BLK 5, KING ADDITION-EX 47.75 A</td>\n",
       "      <td>NaN</td>\n",
       "      <td>9904002</td>\n",
       "      <td>42612.5</td>\n",
       "      <td>0</td>\n",
       "      <td>42612.5</td>\n",
       "      <td>NaN</td>\n",
       "      <td>10.0</td>\n",
       "      <td>1970/01/01</td>\n",
       "      <td>42612.5</td>\n",
       "      <td>0.0</td>\n",
       "      <td>0.5</td>\n",
       "      <td>NaN</td>\n",
       "      <td>NaN</td>\n",
       "      <td>NaN</td>\n",
       "      <td>NaN</td>\n",
       "      <td>NaN</td>\n",
       "      <td>NaN</td>\n",
       "    </tr>\n",
       "    <tr>\n",
       "      <th>8</th>\n",
       "      <td>TXNM103276</td>\n",
       "      <td>NO</td>\n",
       "      <td>R&amp;R Royalty</td>\n",
       "      <td>1999/07/21</td>\n",
       "      <td>1999/09/01</td>\n",
       "      <td>2009/09/01</td>\n",
       "      <td>NaN</td>\n",
       "      <td>HOUSTON</td>\n",
       "      <td>TX</td>\n",
       "      <td>Expired 2009 -  sold</td>\n",
       "      <td>2009.0</td>\n",
       "      <td>NaN</td>\n",
       "      <td>NaN</td>\n",
       "      <td>DAVY CROCKETT NATL FOREST</td>\n",
       "      <td>TRACT K-1g</td>\n",
       "      <td>NaN</td>\n",
       "      <td>9907041</td>\n",
       "      <td>1744.5</td>\n",
       "      <td>0</td>\n",
       "      <td>1744.5</td>\n",
       "      <td>NaN</td>\n",
       "      <td>10.0</td>\n",
       "      <td>1970/01/01</td>\n",
       "      <td>1744.5</td>\n",
       "      <td>0.0</td>\n",
       "      <td>0.5</td>\n",
       "      <td>NaN</td>\n",
       "      <td>NaN</td>\n",
       "      <td>NaN</td>\n",
       "      <td>NaN</td>\n",
       "      <td>NaN</td>\n",
       "      <td>NaN</td>\n",
       "    </tr>\n",
       "  </tbody>\n",
       "</table>\n",
       "</div>"
      ],
      "text/plain": [
       "    LEASE NO. PLOTTED      GRANTEE   SALE DATE EFFECTIVE DATE OF LEASE  \\\n",
       "0  TXNM096140      NO  R&R Royalty  1995/10/19              1995/12/01   \n",
       "2  TXNM103231      NO  R&R Royalty  1999/05/13              1999/07/01   \n",
       "4  TXNM091527      NO  R&R Royalty  1993/07/21              1993/09/01   \n",
       "6  TXNM102849      NO  R&R Royalty  1999/04/21              1999/06/01   \n",
       "8  TXNM103276      NO  R&R Royalty  1999/07/21              1999/09/01   \n",
       "\n",
       "  EXPIRATION DATE  ACRES       COUNTY  ST  \\\n",
       "0      2005/12/01    NaN  MONTGOMERY   TX   \n",
       "2      2009/07/01    NaN     HOUSTON   TX   \n",
       "4      2003/09/01    NaN      KLEBERG  TX   \n",
       "6      2009/06/01    NaN     KLEBERG   TX   \n",
       "8      2009/09/01    NaN     HOUSTON   TX   \n",
       "\n",
       "                           STATUS/COMMENTS  EXPIRATION YEAR TOWNSHIP RANGE  \\\n",
       "0                             Expired 2005           2005.0      NaN   NaN   \n",
       "2  Expired 2009 - Bought from Dan Gonzales           2009.0      NaN   NaN   \n",
       "4              Expired 2003 | Bid Refunded           2003.0      NaN   NaN   \n",
       "6                             Expired 2009           2009.0      NaN   NaN   \n",
       "8                     Expired 2009 -  sold           2009.0      NaN   NaN   \n",
       "\n",
       "               DESCRIPTION I                             DESCRIPTION II  \\\n",
       "0  ASSIGNMENT REC'D FROM DAN                     TRACTS J22, J22A, J22B   \n",
       "2    SAM HOUSTON NATL FOREST                  ASSIGNMENT REC'D FROM DAN   \n",
       "4            KINGSVILLE NAS                          J MINDIOLOA SURVEY   \n",
       "6       TEXAS A&M UNIVERSITY  LOTS 2-8, BLK 5, KING ADDITION-EX 47.75 A   \n",
       "8  DAVY CROCKETT NATL FOREST                                 TRACT K-1g   \n",
       "\n",
       "                DESCRIPTION III PARCEL NO DUE AT SALE  \\\n",
       "0                           NaN       NaN         NaN   \n",
       "2                           NaN       NaN         NaN   \n",
       "4  LOTS & TRACTS IN SEC 23 & 30       NaN         NaN   \n",
       "6                           NaN   9904002     42612.5   \n",
       "8                           NaN   9907041      1744.5   \n",
       "\n",
       "  DUE AFTER SALE (REFUNDED)  TOTAL  PAID  AMOUNT OF RENTAL  YEARS RENEWED  \\\n",
       "0                     790.5        790.5               NaN           10.0   \n",
       "2                    1253.5       1253.5               NaN           10.0   \n",
       "4                      4200       4200.0               NaN           10.0   \n",
       "6                         0      42612.5               NaN           10.0   \n",
       "8                         0       1744.5               NaN           10.0   \n",
       "\n",
       "   RENTALS PAID UP TO DATE  TOTAL INVESTMENT (BONUS + RENTALS)  \\\n",
       "0               1970/01/01                               790.5   \n",
       "2               1970/01/01                              1253.5   \n",
       "4               1970/01/01                              4200.0   \n",
       "6               1970/01/01                             42612.5   \n",
       "8               1970/01/01                              1744.5   \n",
       "\n",
       "   Estimated Bonus $/Acre UA %  RA%  KA% RECORDED LEASE    \\\n",
       "0                     0.0       NaN  NaN              NaN   \n",
       "2                     0.0  0.5  NaN  NaN              NaN   \n",
       "4                     0.0  0.5  NaN  NaN              NaN   \n",
       "6                     0.0  0.5  NaN  NaN              NaN   \n",
       "8                     0.0  0.5  NaN  NaN              NaN   \n",
       "\n",
       "  DATE FILED (OVERRIDE)  % OF OVERRIDES Assignment of ORRI  \n",
       "0                   NaN             NaN                NaN  \n",
       "2                   NaN             NaN                NaN  \n",
       "4                   NaN             NaN                NaN  \n",
       "6                   NaN             NaN                NaN  \n",
       "8                   NaN             NaN                NaN  "
      ]
     },
     "execution_count": 97,
     "metadata": {},
     "output_type": "execute_result"
    }
   ],
   "source": [
    "cleanData.head()"
   ]
  },
  {
   "cell_type": "markdown",
   "metadata": {},
   "source": [
    "### Converting Nan's to None to avoid error inserting into SQL"
   ]
  },
  {
   "cell_type": "code",
   "execution_count": 98,
   "metadata": {},
   "outputs": [],
   "source": [
    "#where function is find and replace where the condition is false. replacing pandas nulls with nones for sql injection\n",
    "cleanData= cleanData.where(pd.notnull(cleanData), None)\n",
    "\n",
    "#running where function again to convert blank strings for dates and other fields to be nones\n",
    "#noticed after initial runs, dates with blank strings instead of nones would output date of 0000-00-00\n",
    "cleanData= cleanData.where(cleanData != '', None)"
   ]
  },
  {
   "cell_type": "code",
   "execution_count": 99,
   "metadata": {},
   "outputs": [
    {
     "data": {
      "text/html": [
       "<div>\n",
       "<style scoped>\n",
       "    .dataframe tbody tr th:only-of-type {\n",
       "        vertical-align: middle;\n",
       "    }\n",
       "\n",
       "    .dataframe tbody tr th {\n",
       "        vertical-align: top;\n",
       "    }\n",
       "\n",
       "    .dataframe thead th {\n",
       "        text-align: right;\n",
       "    }\n",
       "</style>\n",
       "<table border=\"1\" class=\"dataframe\">\n",
       "  <thead>\n",
       "    <tr style=\"text-align: right;\">\n",
       "      <th></th>\n",
       "      <th>LEASE NO.</th>\n",
       "      <th>PLOTTED</th>\n",
       "      <th>GRANTEE</th>\n",
       "      <th>SALE DATE</th>\n",
       "      <th>EFFECTIVE DATE OF LEASE</th>\n",
       "      <th>EXPIRATION DATE</th>\n",
       "      <th>ACRES</th>\n",
       "      <th>COUNTY</th>\n",
       "      <th>ST</th>\n",
       "      <th>STATUS/COMMENTS</th>\n",
       "      <th>EXPIRATION YEAR</th>\n",
       "      <th>TOWNSHIP</th>\n",
       "      <th>RANGE</th>\n",
       "      <th>DESCRIPTION I</th>\n",
       "      <th>DESCRIPTION II</th>\n",
       "      <th>DESCRIPTION III</th>\n",
       "      <th>PARCEL NO</th>\n",
       "      <th>DUE AT SALE</th>\n",
       "      <th>DUE AFTER SALE (REFUNDED)</th>\n",
       "      <th>TOTAL  PAID</th>\n",
       "      <th>AMOUNT OF RENTAL</th>\n",
       "      <th>YEARS RENEWED</th>\n",
       "      <th>RENTALS PAID UP TO DATE</th>\n",
       "      <th>TOTAL INVESTMENT (BONUS + RENTALS)</th>\n",
       "      <th>Estimated Bonus $/Acre</th>\n",
       "      <th>UA %</th>\n",
       "      <th>RA%</th>\n",
       "      <th>KA%</th>\n",
       "      <th>RECORDED LEASE</th>\n",
       "      <th>DATE FILED (OVERRIDE)</th>\n",
       "      <th>% OF OVERRIDES</th>\n",
       "      <th>Assignment of ORRI</th>\n",
       "    </tr>\n",
       "  </thead>\n",
       "  <tbody>\n",
       "    <tr>\n",
       "      <th>0</th>\n",
       "      <td>TXNM096140</td>\n",
       "      <td>NO</td>\n",
       "      <td>R&amp;R Royalty</td>\n",
       "      <td>1995/10/19</td>\n",
       "      <td>1995/12/01</td>\n",
       "      <td>2005/12/01</td>\n",
       "      <td>None</td>\n",
       "      <td>MONTGOMERY</td>\n",
       "      <td>TX</td>\n",
       "      <td>Expired 2005</td>\n",
       "      <td>2005</td>\n",
       "      <td>None</td>\n",
       "      <td>None</td>\n",
       "      <td>ASSIGNMENT REC'D FROM DAN</td>\n",
       "      <td>TRACTS J22, J22A, J22B</td>\n",
       "      <td>None</td>\n",
       "      <td>None</td>\n",
       "      <td>None</td>\n",
       "      <td>790.5</td>\n",
       "      <td>790.5</td>\n",
       "      <td>None</td>\n",
       "      <td>10</td>\n",
       "      <td>1970/01/01</td>\n",
       "      <td>790.5</td>\n",
       "      <td>0</td>\n",
       "      <td></td>\n",
       "      <td>None</td>\n",
       "      <td>None</td>\n",
       "      <td>None</td>\n",
       "      <td>None</td>\n",
       "      <td>None</td>\n",
       "      <td>None</td>\n",
       "    </tr>\n",
       "    <tr>\n",
       "      <th>2</th>\n",
       "      <td>TXNM103231</td>\n",
       "      <td>NO</td>\n",
       "      <td>R&amp;R Royalty</td>\n",
       "      <td>1999/05/13</td>\n",
       "      <td>1999/07/01</td>\n",
       "      <td>2009/07/01</td>\n",
       "      <td>None</td>\n",
       "      <td>HOUSTON</td>\n",
       "      <td>TX</td>\n",
       "      <td>Expired 2009 - Bought from Dan Gonzales</td>\n",
       "      <td>2009</td>\n",
       "      <td>None</td>\n",
       "      <td>None</td>\n",
       "      <td>SAM HOUSTON NATL FOREST</td>\n",
       "      <td>ASSIGNMENT REC'D FROM DAN</td>\n",
       "      <td>None</td>\n",
       "      <td>None</td>\n",
       "      <td>None</td>\n",
       "      <td>1253.5</td>\n",
       "      <td>1253.5</td>\n",
       "      <td>None</td>\n",
       "      <td>10</td>\n",
       "      <td>1970/01/01</td>\n",
       "      <td>1253.5</td>\n",
       "      <td>0</td>\n",
       "      <td>0.5</td>\n",
       "      <td>None</td>\n",
       "      <td>None</td>\n",
       "      <td>None</td>\n",
       "      <td>None</td>\n",
       "      <td>None</td>\n",
       "      <td>None</td>\n",
       "    </tr>\n",
       "    <tr>\n",
       "      <th>4</th>\n",
       "      <td>TXNM091527</td>\n",
       "      <td>NO</td>\n",
       "      <td>R&amp;R Royalty</td>\n",
       "      <td>1993/07/21</td>\n",
       "      <td>1993/09/01</td>\n",
       "      <td>2003/09/01</td>\n",
       "      <td>None</td>\n",
       "      <td>KLEBERG</td>\n",
       "      <td>TX</td>\n",
       "      <td>Expired 2003 | Bid Refunded</td>\n",
       "      <td>2003</td>\n",
       "      <td>None</td>\n",
       "      <td>None</td>\n",
       "      <td>KINGSVILLE NAS</td>\n",
       "      <td>J MINDIOLOA SURVEY</td>\n",
       "      <td>LOTS &amp; TRACTS IN SEC 23 &amp; 30</td>\n",
       "      <td>None</td>\n",
       "      <td>None</td>\n",
       "      <td>4200</td>\n",
       "      <td>4200</td>\n",
       "      <td>None</td>\n",
       "      <td>10</td>\n",
       "      <td>1970/01/01</td>\n",
       "      <td>4200</td>\n",
       "      <td>0</td>\n",
       "      <td>0.5</td>\n",
       "      <td>None</td>\n",
       "      <td>None</td>\n",
       "      <td>None</td>\n",
       "      <td>None</td>\n",
       "      <td>None</td>\n",
       "      <td>None</td>\n",
       "    </tr>\n",
       "    <tr>\n",
       "      <th>6</th>\n",
       "      <td>TXNM102849</td>\n",
       "      <td>NO</td>\n",
       "      <td>R&amp;R Royalty</td>\n",
       "      <td>1999/04/21</td>\n",
       "      <td>1999/06/01</td>\n",
       "      <td>2009/06/01</td>\n",
       "      <td>None</td>\n",
       "      <td>KLEBERG</td>\n",
       "      <td>TX</td>\n",
       "      <td>Expired 2009</td>\n",
       "      <td>2009</td>\n",
       "      <td>None</td>\n",
       "      <td>None</td>\n",
       "      <td>TEXAS A&amp;M UNIVERSITY</td>\n",
       "      <td>LOTS 2-8, BLK 5, KING ADDITION-EX 47.75 A</td>\n",
       "      <td>None</td>\n",
       "      <td>9904002</td>\n",
       "      <td>42612.5</td>\n",
       "      <td>0</td>\n",
       "      <td>42612.5</td>\n",
       "      <td>None</td>\n",
       "      <td>10</td>\n",
       "      <td>1970/01/01</td>\n",
       "      <td>42612.5</td>\n",
       "      <td>0</td>\n",
       "      <td>0.5</td>\n",
       "      <td>None</td>\n",
       "      <td>None</td>\n",
       "      <td>None</td>\n",
       "      <td>None</td>\n",
       "      <td>None</td>\n",
       "      <td>None</td>\n",
       "    </tr>\n",
       "    <tr>\n",
       "      <th>8</th>\n",
       "      <td>TXNM103276</td>\n",
       "      <td>NO</td>\n",
       "      <td>R&amp;R Royalty</td>\n",
       "      <td>1999/07/21</td>\n",
       "      <td>1999/09/01</td>\n",
       "      <td>2009/09/01</td>\n",
       "      <td>None</td>\n",
       "      <td>HOUSTON</td>\n",
       "      <td>TX</td>\n",
       "      <td>Expired 2009 -  sold</td>\n",
       "      <td>2009</td>\n",
       "      <td>None</td>\n",
       "      <td>None</td>\n",
       "      <td>DAVY CROCKETT NATL FOREST</td>\n",
       "      <td>TRACT K-1g</td>\n",
       "      <td>None</td>\n",
       "      <td>9907041</td>\n",
       "      <td>1744.5</td>\n",
       "      <td>0</td>\n",
       "      <td>1744.5</td>\n",
       "      <td>None</td>\n",
       "      <td>10</td>\n",
       "      <td>1970/01/01</td>\n",
       "      <td>1744.5</td>\n",
       "      <td>0</td>\n",
       "      <td>0.5</td>\n",
       "      <td>None</td>\n",
       "      <td>None</td>\n",
       "      <td>None</td>\n",
       "      <td>None</td>\n",
       "      <td>None</td>\n",
       "      <td>None</td>\n",
       "    </tr>\n",
       "    <tr>\n",
       "      <th>9</th>\n",
       "      <td>TXNM103277</td>\n",
       "      <td>NO</td>\n",
       "      <td>R&amp;R Royalty</td>\n",
       "      <td>1999/07/21</td>\n",
       "      <td>1999/09/01</td>\n",
       "      <td>2009/09/01</td>\n",
       "      <td>None</td>\n",
       "      <td>HOUSTON</td>\n",
       "      <td>TX</td>\n",
       "      <td>Expired 2009 -  sold</td>\n",
       "      <td>2009</td>\n",
       "      <td>None</td>\n",
       "      <td>None</td>\n",
       "      <td>DAVY CROCKETT NATL FOREST</td>\n",
       "      <td>TRACT K-1h PARCEL #1</td>\n",
       "      <td>SEE EXHIBIT K FOR M&amp;B</td>\n",
       "      <td>9907042</td>\n",
       "      <td>1436.5</td>\n",
       "      <td>0</td>\n",
       "      <td>1436.5</td>\n",
       "      <td>None</td>\n",
       "      <td>10</td>\n",
       "      <td>1970/01/01</td>\n",
       "      <td>1436.5</td>\n",
       "      <td>0</td>\n",
       "      <td>0.5</td>\n",
       "      <td>None</td>\n",
       "      <td>None</td>\n",
       "      <td>None</td>\n",
       "      <td>None</td>\n",
       "      <td>None</td>\n",
       "      <td>None</td>\n",
       "    </tr>\n",
       "    <tr>\n",
       "      <th>10</th>\n",
       "      <td>TXNM103278</td>\n",
       "      <td>NO</td>\n",
       "      <td>R&amp;R Royalty</td>\n",
       "      <td>1999/07/21</td>\n",
       "      <td>1999/09/01</td>\n",
       "      <td>2009/09/01</td>\n",
       "      <td>None</td>\n",
       "      <td>HOUSTON</td>\n",
       "      <td>TX</td>\n",
       "      <td>Expired 2009 -  sold</td>\n",
       "      <td>2009</td>\n",
       "      <td>None</td>\n",
       "      <td>None</td>\n",
       "      <td>DAVY CROCKETT NATL FOREST</td>\n",
       "      <td>TRACT K-1i</td>\n",
       "      <td>None</td>\n",
       "      <td>9907043</td>\n",
       "      <td>2265</td>\n",
       "      <td>0</td>\n",
       "      <td>2265</td>\n",
       "      <td>None</td>\n",
       "      <td>10</td>\n",
       "      <td>1970/01/01</td>\n",
       "      <td>2265</td>\n",
       "      <td>0</td>\n",
       "      <td>0.5</td>\n",
       "      <td>None</td>\n",
       "      <td>None</td>\n",
       "      <td>None</td>\n",
       "      <td>None</td>\n",
       "      <td>None</td>\n",
       "      <td>None</td>\n",
       "    </tr>\n",
       "    <tr>\n",
       "      <th>11</th>\n",
       "      <td>TXNM103285</td>\n",
       "      <td>NO</td>\n",
       "      <td>R&amp;R Royalty</td>\n",
       "      <td>1999/07/21</td>\n",
       "      <td>1999/09/01</td>\n",
       "      <td>2009/09/01</td>\n",
       "      <td>None</td>\n",
       "      <td>HOUSTON</td>\n",
       "      <td>TX</td>\n",
       "      <td>Expired 2009 -  sold</td>\n",
       "      <td>2009</td>\n",
       "      <td>None</td>\n",
       "      <td>None</td>\n",
       "      <td>DAVY CROCKETT NATL FOREST</td>\n",
       "      <td>TRACT K-6</td>\n",
       "      <td>None</td>\n",
       "      <td>9907052</td>\n",
       "      <td>565</td>\n",
       "      <td>0</td>\n",
       "      <td>565</td>\n",
       "      <td>None</td>\n",
       "      <td>10</td>\n",
       "      <td>1970/01/01</td>\n",
       "      <td>565</td>\n",
       "      <td>0</td>\n",
       "      <td>0.5</td>\n",
       "      <td>None</td>\n",
       "      <td>None</td>\n",
       "      <td>None</td>\n",
       "      <td>None</td>\n",
       "      <td>None</td>\n",
       "      <td>None</td>\n",
       "    </tr>\n",
       "    <tr>\n",
       "      <th>12</th>\n",
       "      <td>TXNM103286</td>\n",
       "      <td>NO</td>\n",
       "      <td>R&amp;R Royalty</td>\n",
       "      <td>1999/07/21</td>\n",
       "      <td>1999/09/01</td>\n",
       "      <td>2009/09/01</td>\n",
       "      <td>None</td>\n",
       "      <td>HOUSTON</td>\n",
       "      <td>TX</td>\n",
       "      <td>Expired 2009 -  sold</td>\n",
       "      <td>2009</td>\n",
       "      <td>None</td>\n",
       "      <td>None</td>\n",
       "      <td>DAVY CROCKETT NATL FOREST</td>\n",
       "      <td>TRACT K-18</td>\n",
       "      <td>None</td>\n",
       "      <td>9907053</td>\n",
       "      <td>162.5</td>\n",
       "      <td>0</td>\n",
       "      <td>162.5</td>\n",
       "      <td>None</td>\n",
       "      <td>10</td>\n",
       "      <td>1970/01/01</td>\n",
       "      <td>162.5</td>\n",
       "      <td>0</td>\n",
       "      <td>0.5</td>\n",
       "      <td>None</td>\n",
       "      <td>None</td>\n",
       "      <td>None</td>\n",
       "      <td>None</td>\n",
       "      <td>None</td>\n",
       "      <td>None</td>\n",
       "    </tr>\n",
       "    <tr>\n",
       "      <th>13</th>\n",
       "      <td>TXNM103287</td>\n",
       "      <td>NO</td>\n",
       "      <td>R&amp;R Royalty</td>\n",
       "      <td>1999/07/21</td>\n",
       "      <td>1999/09/01</td>\n",
       "      <td>2009/09/01</td>\n",
       "      <td>None</td>\n",
       "      <td>HOUSTON</td>\n",
       "      <td>TX</td>\n",
       "      <td>Expired 2009 -  sold</td>\n",
       "      <td>2009</td>\n",
       "      <td>None</td>\n",
       "      <td>None</td>\n",
       "      <td>DAVY CROCKETT NATL FOREST</td>\n",
       "      <td>TRACT K-31</td>\n",
       "      <td>None</td>\n",
       "      <td>9907055</td>\n",
       "      <td>585</td>\n",
       "      <td>0</td>\n",
       "      <td>585</td>\n",
       "      <td>None</td>\n",
       "      <td>10</td>\n",
       "      <td>1970/01/01</td>\n",
       "      <td>585</td>\n",
       "      <td>0</td>\n",
       "      <td>0.5</td>\n",
       "      <td>None</td>\n",
       "      <td>None</td>\n",
       "      <td>None</td>\n",
       "      <td>None</td>\n",
       "      <td>None</td>\n",
       "      <td>None</td>\n",
       "    </tr>\n",
       "    <tr>\n",
       "      <th>14</th>\n",
       "      <td>TXNM103288</td>\n",
       "      <td>NO</td>\n",
       "      <td>R&amp;R Royalty</td>\n",
       "      <td>1999/07/21</td>\n",
       "      <td>1999/09/01</td>\n",
       "      <td>2009/09/01</td>\n",
       "      <td>None</td>\n",
       "      <td>HOUSTON</td>\n",
       "      <td>TX</td>\n",
       "      <td>Expired 2009 -  sold</td>\n",
       "      <td>2009</td>\n",
       "      <td>None</td>\n",
       "      <td>None</td>\n",
       "      <td>DAVY CROCKETT NATL FOREST</td>\n",
       "      <td>TRACT K-119</td>\n",
       "      <td>None</td>\n",
       "      <td>9907056</td>\n",
       "      <td>204.5</td>\n",
       "      <td>0</td>\n",
       "      <td>204.5</td>\n",
       "      <td>None</td>\n",
       "      <td>10</td>\n",
       "      <td>1970/01/01</td>\n",
       "      <td>204.5</td>\n",
       "      <td>0</td>\n",
       "      <td>0.5</td>\n",
       "      <td>None</td>\n",
       "      <td>None</td>\n",
       "      <td>None</td>\n",
       "      <td>None</td>\n",
       "      <td>None</td>\n",
       "      <td>None</td>\n",
       "    </tr>\n",
       "    <tr>\n",
       "      <th>15</th>\n",
       "      <td>TXNM103292</td>\n",
       "      <td>NO</td>\n",
       "      <td>R&amp;R Royalty</td>\n",
       "      <td>1999/07/21</td>\n",
       "      <td>1999/09/01</td>\n",
       "      <td>2009/09/01</td>\n",
       "      <td>None</td>\n",
       "      <td>SABINE</td>\n",
       "      <td>TX</td>\n",
       "      <td>Expired 2009</td>\n",
       "      <td>2009</td>\n",
       "      <td>None</td>\n",
       "      <td>None</td>\n",
       "      <td>SABINE NATL FOREST</td>\n",
       "      <td>TRACT S1Av</td>\n",
       "      <td>None</td>\n",
       "      <td>9907061</td>\n",
       "      <td>3004.5</td>\n",
       "      <td>0</td>\n",
       "      <td>3004.5</td>\n",
       "      <td>None</td>\n",
       "      <td>10</td>\n",
       "      <td>1970/01/01</td>\n",
       "      <td>3004.5</td>\n",
       "      <td>0</td>\n",
       "      <td>0.5</td>\n",
       "      <td>None</td>\n",
       "      <td>None</td>\n",
       "      <td>None</td>\n",
       "      <td>None</td>\n",
       "      <td>None</td>\n",
       "      <td>None</td>\n",
       "    </tr>\n",
       "    <tr>\n",
       "      <th>16</th>\n",
       "      <td>TXNM103293</td>\n",
       "      <td>NO</td>\n",
       "      <td>R&amp;R Royalty</td>\n",
       "      <td>1999/07/21</td>\n",
       "      <td>1999/09/01</td>\n",
       "      <td>2009/09/01</td>\n",
       "      <td>None</td>\n",
       "      <td>SABINE</td>\n",
       "      <td>TX</td>\n",
       "      <td>Expired 2009</td>\n",
       "      <td>2009</td>\n",
       "      <td>None</td>\n",
       "      <td>None</td>\n",
       "      <td>SABINE NATL FOREST</td>\n",
       "      <td>TRACT S-1Bb</td>\n",
       "      <td>SEE EXHIBIT L FOR M&amp;B</td>\n",
       "      <td>9907062</td>\n",
       "      <td>4457</td>\n",
       "      <td>0</td>\n",
       "      <td>4457</td>\n",
       "      <td>None</td>\n",
       "      <td>10</td>\n",
       "      <td>1970/01/01</td>\n",
       "      <td>4457</td>\n",
       "      <td>0</td>\n",
       "      <td>0.5</td>\n",
       "      <td>None</td>\n",
       "      <td>None</td>\n",
       "      <td>None</td>\n",
       "      <td>None</td>\n",
       "      <td>None</td>\n",
       "      <td>None</td>\n",
       "    </tr>\n",
       "    <tr>\n",
       "      <th>17</th>\n",
       "      <td>TXNM103296</td>\n",
       "      <td>NO</td>\n",
       "      <td>R&amp;R Royalty</td>\n",
       "      <td>1999/07/21</td>\n",
       "      <td>1999/09/01</td>\n",
       "      <td>2009/09/01</td>\n",
       "      <td>None</td>\n",
       "      <td>SAN AUGUSTINE</td>\n",
       "      <td>TX</td>\n",
       "      <td>Expired 2009</td>\n",
       "      <td>2009</td>\n",
       "      <td>None</td>\n",
       "      <td>None</td>\n",
       "      <td>ANGELINA NATL FOREST</td>\n",
       "      <td>TRACT A-22a PARCEL #2</td>\n",
       "      <td>None</td>\n",
       "      <td>9907072</td>\n",
       "      <td>603.5</td>\n",
       "      <td>0</td>\n",
       "      <td>603.5</td>\n",
       "      <td>None</td>\n",
       "      <td>10</td>\n",
       "      <td>1970/01/01</td>\n",
       "      <td>603.5</td>\n",
       "      <td>0</td>\n",
       "      <td>0.5</td>\n",
       "      <td>None</td>\n",
       "      <td>None</td>\n",
       "      <td>None</td>\n",
       "      <td>None</td>\n",
       "      <td>None</td>\n",
       "      <td>None</td>\n",
       "    </tr>\n",
       "    <tr>\n",
       "      <th>18</th>\n",
       "      <td>TXNM103297</td>\n",
       "      <td>NO</td>\n",
       "      <td>R&amp;R Royalty</td>\n",
       "      <td>1999/07/21</td>\n",
       "      <td>1999/09/01</td>\n",
       "      <td>2009/09/01</td>\n",
       "      <td>None</td>\n",
       "      <td>SAN AUGUSTINE</td>\n",
       "      <td>TX</td>\n",
       "      <td>Expired 2009</td>\n",
       "      <td>2009</td>\n",
       "      <td>None</td>\n",
       "      <td>None</td>\n",
       "      <td>ANGELINA NATL FOREST</td>\n",
       "      <td>TRACT A-22d</td>\n",
       "      <td>None</td>\n",
       "      <td>9907073</td>\n",
       "      <td>911.5</td>\n",
       "      <td>0</td>\n",
       "      <td>911.5</td>\n",
       "      <td>None</td>\n",
       "      <td>10</td>\n",
       "      <td>1970/01/01</td>\n",
       "      <td>911.5</td>\n",
       "      <td>0</td>\n",
       "      <td>0.5</td>\n",
       "      <td>None</td>\n",
       "      <td>None</td>\n",
       "      <td>None</td>\n",
       "      <td>None</td>\n",
       "      <td>None</td>\n",
       "      <td>None</td>\n",
       "    </tr>\n",
       "    <tr>\n",
       "      <th>19</th>\n",
       "      <td>TXNM103301</td>\n",
       "      <td>NO</td>\n",
       "      <td>R&amp;R Royalty</td>\n",
       "      <td>1999/07/21</td>\n",
       "      <td>1999/09/01</td>\n",
       "      <td>2009/09/01</td>\n",
       "      <td>None</td>\n",
       "      <td>SAN AUGUSTINE/SABINE</td>\n",
       "      <td>TX</td>\n",
       "      <td>Expired 2009</td>\n",
       "      <td>2009</td>\n",
       "      <td>None</td>\n",
       "      <td>None</td>\n",
       "      <td>SABINE NATL FOREST</td>\n",
       "      <td>TRACT S-1An</td>\n",
       "      <td>None</td>\n",
       "      <td>9907081</td>\n",
       "      <td>3774.5</td>\n",
       "      <td>0</td>\n",
       "      <td>3774.5</td>\n",
       "      <td>None</td>\n",
       "      <td>10</td>\n",
       "      <td>1970/01/01</td>\n",
       "      <td>3774.5</td>\n",
       "      <td>0</td>\n",
       "      <td>0.5</td>\n",
       "      <td>None</td>\n",
       "      <td>None</td>\n",
       "      <td>None</td>\n",
       "      <td>None</td>\n",
       "      <td>None</td>\n",
       "      <td>None</td>\n",
       "    </tr>\n",
       "    <tr>\n",
       "      <th>20</th>\n",
       "      <td>TXNM103314</td>\n",
       "      <td>NO</td>\n",
       "      <td>R&amp;R Royalty</td>\n",
       "      <td>1999/07/21</td>\n",
       "      <td>1999/09/01</td>\n",
       "      <td>2009/09/01</td>\n",
       "      <td>None</td>\n",
       "      <td>HOUSTON</td>\n",
       "      <td>TX</td>\n",
       "      <td>Expired 2009 -  sold</td>\n",
       "      <td>2009</td>\n",
       "      <td>None</td>\n",
       "      <td>None</td>\n",
       "      <td>DAVY CROCKETT NATL FOREST</td>\n",
       "      <td>TRACT K-1a-II PARCEL #1</td>\n",
       "      <td>SEE EXHIBIT G FOR M&amp;B</td>\n",
       "      <td>9907035</td>\n",
       "      <td>3898.5</td>\n",
       "      <td>0</td>\n",
       "      <td>3898.5</td>\n",
       "      <td>None</td>\n",
       "      <td>10</td>\n",
       "      <td>1970/01/01</td>\n",
       "      <td>3898.5</td>\n",
       "      <td>0</td>\n",
       "      <td>0.5</td>\n",
       "      <td>None</td>\n",
       "      <td>None</td>\n",
       "      <td>None</td>\n",
       "      <td>None</td>\n",
       "      <td>None</td>\n",
       "      <td>None</td>\n",
       "    </tr>\n",
       "    <tr>\n",
       "      <th>21</th>\n",
       "      <td>TXNM103315</td>\n",
       "      <td>NO</td>\n",
       "      <td>R&amp;R Royalty</td>\n",
       "      <td>1999/07/21</td>\n",
       "      <td>1999/09/01</td>\n",
       "      <td>2009/09/01</td>\n",
       "      <td>None</td>\n",
       "      <td>HOUSTON</td>\n",
       "      <td>TX</td>\n",
       "      <td>Expired 2009 -  sold</td>\n",
       "      <td>2009</td>\n",
       "      <td>None</td>\n",
       "      <td>None</td>\n",
       "      <td>DAVY CROCKETT NATL FOREST</td>\n",
       "      <td>TRACT K-1a-II PARCEL #2</td>\n",
       "      <td>SEE EXHIBIT H FOR M&amp;B</td>\n",
       "      <td>9907036</td>\n",
       "      <td>3871.5</td>\n",
       "      <td>0</td>\n",
       "      <td>3871.5</td>\n",
       "      <td>None</td>\n",
       "      <td>10</td>\n",
       "      <td>1970/01/01</td>\n",
       "      <td>3871.5</td>\n",
       "      <td>0</td>\n",
       "      <td>0.5</td>\n",
       "      <td>None</td>\n",
       "      <td>None</td>\n",
       "      <td>None</td>\n",
       "      <td>None</td>\n",
       "      <td>None</td>\n",
       "      <td>None</td>\n",
       "    </tr>\n",
       "    <tr>\n",
       "      <th>22</th>\n",
       "      <td>ARES50476</td>\n",
       "      <td>NO</td>\n",
       "      <td>R&amp;R Royalty</td>\n",
       "      <td>1999/09/23</td>\n",
       "      <td>1999/11/01</td>\n",
       "      <td>2009/11/01</td>\n",
       "      <td>None</td>\n",
       "      <td>SEBASTIAN</td>\n",
       "      <td>AR</td>\n",
       "      <td>Expired 2009 - May be part of 16,327.47 acre E...</td>\n",
       "      <td>2009</td>\n",
       "      <td>None</td>\n",
       "      <td>None</td>\n",
       "      <td>OUICHATA NATL FOREST</td>\n",
       "      <td>T4N, R31W, 5TH PRINCIPAL MERIDIAN</td>\n",
       "      <td>SEC 32, SWNW</td>\n",
       "      <td>ES-09/99 48</td>\n",
       "      <td>215</td>\n",
       "      <td>1720</td>\n",
       "      <td>1935</td>\n",
       "      <td>None</td>\n",
       "      <td>10</td>\n",
       "      <td>1970/01/01</td>\n",
       "      <td>1935</td>\n",
       "      <td>0</td>\n",
       "      <td>0.5</td>\n",
       "      <td>None</td>\n",
       "      <td>None</td>\n",
       "      <td>None</td>\n",
       "      <td>None</td>\n",
       "      <td>None</td>\n",
       "      <td>None</td>\n",
       "    </tr>\n",
       "    <tr>\n",
       "      <th>23</th>\n",
       "      <td>LAES50481</td>\n",
       "      <td>NO</td>\n",
       "      <td>R&amp;R Royalty</td>\n",
       "      <td>1999/09/23</td>\n",
       "      <td>1999/11/01</td>\n",
       "      <td>2009/11/01</td>\n",
       "      <td>None</td>\n",
       "      <td>CALCASIEU</td>\n",
       "      <td>LA</td>\n",
       "      <td>Expired 2009</td>\n",
       "      <td>2009</td>\n",
       "      <td>None</td>\n",
       "      <td>None</td>\n",
       "      <td>NONE</td>\n",
       "      <td>T8S, R10W,  LOUISIANA MERIDIAN</td>\n",
       "      <td>SEC 1, SWNE</td>\n",
       "      <td>ES-09/99 53</td>\n",
       "      <td>222</td>\n",
       "      <td>15666</td>\n",
       "      <td>15888</td>\n",
       "      <td>None</td>\n",
       "      <td>10</td>\n",
       "      <td>1970/01/01</td>\n",
       "      <td>15888</td>\n",
       "      <td>0</td>\n",
       "      <td>0.5</td>\n",
       "      <td>None</td>\n",
       "      <td>None</td>\n",
       "      <td>None</td>\n",
       "      <td>None</td>\n",
       "      <td>None</td>\n",
       "      <td>None</td>\n",
       "    </tr>\n",
       "    <tr>\n",
       "      <th>24</th>\n",
       "      <td>MSES50483</td>\n",
       "      <td>NO</td>\n",
       "      <td>R&amp;R Royalty</td>\n",
       "      <td>1999/09/23</td>\n",
       "      <td>1999/11/01</td>\n",
       "      <td>2009/11/01</td>\n",
       "      <td>None</td>\n",
       "      <td>FORREST</td>\n",
       "      <td>MS</td>\n",
       "      <td>Expired 2009</td>\n",
       "      <td>2009</td>\n",
       "      <td>None</td>\n",
       "      <td>None</td>\n",
       "      <td>DESOTO NATL FOREST</td>\n",
       "      <td>T1S, R13W, ST. STEPHENS MERIDIAN</td>\n",
       "      <td>SEC 25</td>\n",
       "      <td>ES-09/99 55</td>\n",
       "      <td>638.5</td>\n",
       "      <td>11753</td>\n",
       "      <td>12391.5</td>\n",
       "      <td>None</td>\n",
       "      <td>10</td>\n",
       "      <td>1970/01/01</td>\n",
       "      <td>12391.5</td>\n",
       "      <td>0</td>\n",
       "      <td>0.5</td>\n",
       "      <td>None</td>\n",
       "      <td>None</td>\n",
       "      <td>None</td>\n",
       "      <td>None</td>\n",
       "      <td>None</td>\n",
       "      <td>None</td>\n",
       "    </tr>\n",
       "    <tr>\n",
       "      <th>26</th>\n",
       "      <td>LAES50520</td>\n",
       "      <td>NO</td>\n",
       "      <td>R&amp;R Royalty</td>\n",
       "      <td>1999/12/16</td>\n",
       "      <td>2000/02/01</td>\n",
       "      <td>2010/02/01</td>\n",
       "      <td>199.75</td>\n",
       "      <td>WEBSTER</td>\n",
       "      <td>LA</td>\n",
       "      <td>Expired 2010</td>\n",
       "      <td>2010</td>\n",
       "      <td>None</td>\n",
       "      <td>None</td>\n",
       "      <td>NONE</td>\n",
       "      <td>T17N, R10W, LOUISIANA MERIDIAN</td>\n",
       "      <td>SEC 20, SENE, N2SW, N2SE</td>\n",
       "      <td>ES-12/99 03</td>\n",
       "      <td>775</td>\n",
       "      <td>54600</td>\n",
       "      <td>55375</td>\n",
       "      <td>400</td>\n",
       "      <td>10</td>\n",
       "      <td>1970/01/01</td>\n",
       "      <td>58575</td>\n",
       "      <td>276.875</td>\n",
       "      <td>0.5</td>\n",
       "      <td>None</td>\n",
       "      <td>None</td>\n",
       "      <td>None</td>\n",
       "      <td>None</td>\n",
       "      <td>None</td>\n",
       "      <td>None</td>\n",
       "    </tr>\n",
       "    <tr>\n",
       "      <th>27</th>\n",
       "      <td>MSES50524</td>\n",
       "      <td>NO</td>\n",
       "      <td>R&amp;R Royalty</td>\n",
       "      <td>1999/12/16</td>\n",
       "      <td>2000/02/01</td>\n",
       "      <td>2010/02/01</td>\n",
       "      <td>433.54</td>\n",
       "      <td>WAYNE</td>\n",
       "      <td>MS</td>\n",
       "      <td>Expired 2010 - SUBLEASE TERMINATED O/A 11-14-02</td>\n",
       "      <td>2010</td>\n",
       "      <td>None</td>\n",
       "      <td>None</td>\n",
       "      <td>NONE</td>\n",
       "      <td>T7N, R8W, ST, STEPHENS MERIDIAN</td>\n",
       "      <td>SEC 4, SWNE, W2, W2SE</td>\n",
       "      <td>ES-12/99 07</td>\n",
       "      <td>1594</td>\n",
       "      <td>42532</td>\n",
       "      <td>44126</td>\n",
       "      <td>868</td>\n",
       "      <td>10</td>\n",
       "      <td>1970/01/01</td>\n",
       "      <td>51070</td>\n",
       "      <td>101.673</td>\n",
       "      <td>0.5</td>\n",
       "      <td>None</td>\n",
       "      <td>None</td>\n",
       "      <td>None</td>\n",
       "      <td>None</td>\n",
       "      <td>None</td>\n",
       "      <td>None</td>\n",
       "    </tr>\n",
       "    <tr>\n",
       "      <th>28</th>\n",
       "      <td>MSES50526</td>\n",
       "      <td>NO</td>\n",
       "      <td>R&amp;R Royalty</td>\n",
       "      <td>1999/12/16</td>\n",
       "      <td>2000/02/01</td>\n",
       "      <td>2010/02/01</td>\n",
       "      <td>None</td>\n",
       "      <td>CHICKASAW</td>\n",
       "      <td>MS</td>\n",
       "      <td>HBP-Gibraltar pays Royalty - Shut-in payment s...</td>\n",
       "      <td>2010</td>\n",
       "      <td>None</td>\n",
       "      <td>None</td>\n",
       "      <td>TOMBIGBEE NATL FOREST</td>\n",
       "      <td>T12S, R4E, CHICKASAW MERIDIAN</td>\n",
       "      <td>SEC 5, SW, E20ac OF SESE, 7ac IN SE  CORNER OF...</td>\n",
       "      <td>ES-12/99 09</td>\n",
       "      <td>1664</td>\n",
       "      <td>6356</td>\n",
       "      <td>8020</td>\n",
       "      <td>None</td>\n",
       "      <td>10</td>\n",
       "      <td>1970/01/01</td>\n",
       "      <td>8020</td>\n",
       "      <td>0</td>\n",
       "      <td>0.5</td>\n",
       "      <td>None</td>\n",
       "      <td>None</td>\n",
       "      <td>None</td>\n",
       "      <td>None</td>\n",
       "      <td>None</td>\n",
       "      <td>None</td>\n",
       "    </tr>\n",
       "    <tr>\n",
       "      <th>32</th>\n",
       "      <td>MSES050634</td>\n",
       "      <td>NO</td>\n",
       "      <td>R&amp;R Royalty</td>\n",
       "      <td>2000/03/23</td>\n",
       "      <td>None</td>\n",
       "      <td>None</td>\n",
       "      <td>None</td>\n",
       "      <td>None</td>\n",
       "      <td>MS</td>\n",
       "      <td>Refunded 3-16-01. Bid Refunded</td>\n",
       "      <td>None</td>\n",
       "      <td>None</td>\n",
       "      <td>None</td>\n",
       "      <td>None</td>\n",
       "      <td>None</td>\n",
       "      <td>None</td>\n",
       "      <td>None</td>\n",
       "      <td>298.5</td>\n",
       "      <td>-223.5</td>\n",
       "      <td>75</td>\n",
       "      <td>None</td>\n",
       "      <td>None</td>\n",
       "      <td>None</td>\n",
       "      <td>None</td>\n",
       "      <td>0</td>\n",
       "      <td>None</td>\n",
       "      <td>None</td>\n",
       "      <td>None</td>\n",
       "      <td>None</td>\n",
       "      <td>None</td>\n",
       "      <td>None</td>\n",
       "      <td>None</td>\n",
       "    </tr>\n",
       "    <tr>\n",
       "      <th>33</th>\n",
       "      <td>MSES050635</td>\n",
       "      <td>NO</td>\n",
       "      <td>R&amp;R Royalty</td>\n",
       "      <td>2000/03/23</td>\n",
       "      <td>None</td>\n",
       "      <td>None</td>\n",
       "      <td>None</td>\n",
       "      <td>None</td>\n",
       "      <td>MS</td>\n",
       "      <td>Refunded 7-10-00. Bid Refunded</td>\n",
       "      <td>None</td>\n",
       "      <td>None</td>\n",
       "      <td>None</td>\n",
       "      <td>None</td>\n",
       "      <td>None</td>\n",
       "      <td>None</td>\n",
       "      <td>None</td>\n",
       "      <td>745.5</td>\n",
       "      <td>-670.5</td>\n",
       "      <td>75</td>\n",
       "      <td>None</td>\n",
       "      <td>None</td>\n",
       "      <td>None</td>\n",
       "      <td>None</td>\n",
       "      <td>0</td>\n",
       "      <td>None</td>\n",
       "      <td>None</td>\n",
       "      <td>None</td>\n",
       "      <td>None</td>\n",
       "      <td>None</td>\n",
       "      <td>None</td>\n",
       "      <td>None</td>\n",
       "    </tr>\n",
       "    <tr>\n",
       "      <th>34</th>\n",
       "      <td>MSES050636</td>\n",
       "      <td>NO</td>\n",
       "      <td>R&amp;R Royalty</td>\n",
       "      <td>2000/03/23</td>\n",
       "      <td>2000/04/01</td>\n",
       "      <td>2010/04/01</td>\n",
       "      <td>376.8</td>\n",
       "      <td>ADAMS</td>\n",
       "      <td>MS</td>\n",
       "      <td>Expired 2010</td>\n",
       "      <td>2010</td>\n",
       "      <td>None</td>\n",
       "      <td>None</td>\n",
       "      <td>HOMOCHITTO NATL FOREST</td>\n",
       "      <td>T5N, R1W, WASHINGTON MERIDIAN</td>\n",
       "      <td>SEC 6, ALL</td>\n",
       "      <td>ES-03/00 31</td>\n",
       "      <td>640.5</td>\n",
       "      <td>0</td>\n",
       "      <td>640.5</td>\n",
       "      <td>754</td>\n",
       "      <td>10</td>\n",
       "      <td>1970/01/01</td>\n",
       "      <td>6672.5</td>\n",
       "      <td>1.69894</td>\n",
       "      <td>0.5</td>\n",
       "      <td>None</td>\n",
       "      <td>None</td>\n",
       "      <td>None</td>\n",
       "      <td>None</td>\n",
       "      <td>None</td>\n",
       "      <td>None</td>\n",
       "    </tr>\n",
       "    <tr>\n",
       "      <th>35</th>\n",
       "      <td>MSES050637</td>\n",
       "      <td>NO</td>\n",
       "      <td>R&amp;R Royalty</td>\n",
       "      <td>2000/03/23</td>\n",
       "      <td>None</td>\n",
       "      <td>None</td>\n",
       "      <td>None</td>\n",
       "      <td>None</td>\n",
       "      <td>MS</td>\n",
       "      <td>Bid Refunded 7-10-00</td>\n",
       "      <td>None</td>\n",
       "      <td>None</td>\n",
       "      <td>None</td>\n",
       "      <td>None</td>\n",
       "      <td>None</td>\n",
       "      <td>None</td>\n",
       "      <td>None</td>\n",
       "      <td>586.5</td>\n",
       "      <td>-511.5</td>\n",
       "      <td>75</td>\n",
       "      <td>None</td>\n",
       "      <td>None</td>\n",
       "      <td>None</td>\n",
       "      <td>None</td>\n",
       "      <td>0</td>\n",
       "      <td>None</td>\n",
       "      <td>None</td>\n",
       "      <td>None</td>\n",
       "      <td>None</td>\n",
       "      <td>None</td>\n",
       "      <td>None</td>\n",
       "      <td>None</td>\n",
       "    </tr>\n",
       "    <tr>\n",
       "      <th>36</th>\n",
       "      <td>MSES050642</td>\n",
       "      <td>NO</td>\n",
       "      <td>R&amp;R Royalty</td>\n",
       "      <td>2000/03/23</td>\n",
       "      <td>2000/04/01</td>\n",
       "      <td>2010/04/01</td>\n",
       "      <td>152.11</td>\n",
       "      <td>ADAMS</td>\n",
       "      <td>MS</td>\n",
       "      <td>Expired 2010</td>\n",
       "      <td>2010</td>\n",
       "      <td>None</td>\n",
       "      <td>None</td>\n",
       "      <td>HOMOCHITTO NATL FOREST</td>\n",
       "      <td>T5N, R1W, WASHINGTON MERIDIAN</td>\n",
       "      <td>SEC 21, LOTS 5 THRU 8</td>\n",
       "      <td>ES-03/00 37</td>\n",
       "      <td>304.5</td>\n",
       "      <td>0</td>\n",
       "      <td>304.5</td>\n",
       "      <td>306</td>\n",
       "      <td>10</td>\n",
       "      <td>1970/01/01</td>\n",
       "      <td>2752.5</td>\n",
       "      <td>2.00329</td>\n",
       "      <td>0.5</td>\n",
       "      <td>None</td>\n",
       "      <td>None</td>\n",
       "      <td>None</td>\n",
       "      <td>None</td>\n",
       "      <td>None</td>\n",
       "      <td>None</td>\n",
       "    </tr>\n",
       "    <tr>\n",
       "      <th>37</th>\n",
       "      <td>MSES050646</td>\n",
       "      <td>NO</td>\n",
       "      <td>R&amp;R Royalty</td>\n",
       "      <td>2000/03/23</td>\n",
       "      <td>2000/04/01</td>\n",
       "      <td>2010/04/01</td>\n",
       "      <td>39.65</td>\n",
       "      <td>WAYNE</td>\n",
       "      <td>MS</td>\n",
       "      <td>Expired 2010</td>\n",
       "      <td>2010</td>\n",
       "      <td>None</td>\n",
       "      <td>None</td>\n",
       "      <td>DESOTO NATL FOREST</td>\n",
       "      <td>T6N, R7W, ST, STEPHENS MERIDIAN</td>\n",
       "      <td>SEC 30, SWSW</td>\n",
       "      <td>ES-03/00 41</td>\n",
       "      <td>13135</td>\n",
       "      <td>0</td>\n",
       "      <td>13135</td>\n",
       "      <td>80</td>\n",
       "      <td>10</td>\n",
       "      <td>1970/01/01</td>\n",
       "      <td>13775</td>\n",
       "      <td>328.375</td>\n",
       "      <td>0.5</td>\n",
       "      <td>None</td>\n",
       "      <td>None</td>\n",
       "      <td>None</td>\n",
       "      <td>None</td>\n",
       "      <td>None</td>\n",
       "      <td>None</td>\n",
       "    </tr>\n",
       "    <tr>\n",
       "      <th>...</th>\n",
       "      <td>...</td>\n",
       "      <td>...</td>\n",
       "      <td>...</td>\n",
       "      <td>...</td>\n",
       "      <td>...</td>\n",
       "      <td>...</td>\n",
       "      <td>...</td>\n",
       "      <td>...</td>\n",
       "      <td>...</td>\n",
       "      <td>...</td>\n",
       "      <td>...</td>\n",
       "      <td>...</td>\n",
       "      <td>...</td>\n",
       "      <td>...</td>\n",
       "      <td>...</td>\n",
       "      <td>...</td>\n",
       "      <td>...</td>\n",
       "      <td>...</td>\n",
       "      <td>...</td>\n",
       "      <td>...</td>\n",
       "      <td>...</td>\n",
       "      <td>...</td>\n",
       "      <td>...</td>\n",
       "      <td>...</td>\n",
       "      <td>...</td>\n",
       "      <td>...</td>\n",
       "      <td>...</td>\n",
       "      <td>...</td>\n",
       "      <td>...</td>\n",
       "      <td>...</td>\n",
       "      <td>...</td>\n",
       "      <td>...</td>\n",
       "    </tr>\n",
       "    <tr>\n",
       "      <th>2524</th>\n",
       "      <td>MTM110415</td>\n",
       "      <td>YES</td>\n",
       "      <td>Magnum Producing</td>\n",
       "      <td>2018/03/13</td>\n",
       "      <td>2018/05/01</td>\n",
       "      <td>2028/05/01</td>\n",
       "      <td>880</td>\n",
       "      <td>CARBON</td>\n",
       "      <td>MT</td>\n",
       "      <td>NOTICE OF APPEAL WAS FILED BY WILDEARTH GUARDI...</td>\n",
       "      <td>2028</td>\n",
       "      <td>7S</td>\n",
       "      <td>23E</td>\n",
       "      <td>T7S R23E Sec 13 W1/2SW1/4; Sec 14 SE1/4NE1/4, ...</td>\n",
       "      <td>None</td>\n",
       "      <td>None</td>\n",
       "      <td>None</td>\n",
       "      <td>3240</td>\n",
       "      <td>0</td>\n",
       "      <td>3240</td>\n",
       "      <td>1320</td>\n",
       "      <td>4</td>\n",
       "      <td>1970/01/01</td>\n",
       "      <td>7200</td>\n",
       "      <td>3.68182</td>\n",
       "      <td>None</td>\n",
       "      <td>0.1</td>\n",
       "      <td>0.1</td>\n",
       "      <td>Instrument # 377696</td>\n",
       "      <td>2020-03-12 00:00:00</td>\n",
       "      <td>0.25</td>\n",
       "      <td>Instrument # 380538;</td>\n",
       "    </tr>\n",
       "    <tr>\n",
       "      <th>2525</th>\n",
       "      <td>MTM110416</td>\n",
       "      <td>YES</td>\n",
       "      <td>Magnum Producing</td>\n",
       "      <td>2018/03/13</td>\n",
       "      <td>2018/05/01</td>\n",
       "      <td>2028/05/01</td>\n",
       "      <td>2000</td>\n",
       "      <td>CARBON</td>\n",
       "      <td>MT</td>\n",
       "      <td>NOTICE OF APPEAL WAS FILED BY WILDEARTH GUARDI...</td>\n",
       "      <td>2028</td>\n",
       "      <td>7S</td>\n",
       "      <td>23E</td>\n",
       "      <td>T7S R23E Sec 27, NE1/4SW1/4,SE1/4; Sec 31 W1/2...</td>\n",
       "      <td>None</td>\n",
       "      <td>None</td>\n",
       "      <td>None</td>\n",
       "      <td>7160</td>\n",
       "      <td>0</td>\n",
       "      <td>7160</td>\n",
       "      <td>3000</td>\n",
       "      <td>4</td>\n",
       "      <td>1970/01/01</td>\n",
       "      <td>16160</td>\n",
       "      <td>3.58</td>\n",
       "      <td>None</td>\n",
       "      <td>0.1</td>\n",
       "      <td>0.1</td>\n",
       "      <td>Instrument # 377696</td>\n",
       "      <td>2020-03-12 00:00:00</td>\n",
       "      <td>0.25</td>\n",
       "      <td>Instrument # 380538;</td>\n",
       "    </tr>\n",
       "    <tr>\n",
       "      <th>2526</th>\n",
       "      <td>MTM110418</td>\n",
       "      <td>YES</td>\n",
       "      <td>Magnum Producing</td>\n",
       "      <td>2018/03/13</td>\n",
       "      <td>2018/05/01</td>\n",
       "      <td>2028/05/01</td>\n",
       "      <td>2320</td>\n",
       "      <td>CARBON</td>\n",
       "      <td>MT</td>\n",
       "      <td>NOTICE OF APPEAL WAS FILED BY WILDEARTH GUARDI...</td>\n",
       "      <td>2028</td>\n",
       "      <td>8S</td>\n",
       "      <td>23E</td>\n",
       "      <td>T8S R23E Sec 21 SW1/4SW1/4; Sec 27 NW1/4SW1/4,...</td>\n",
       "      <td>Sec 32 ALL; Sec 33 NE1/4, NE1/4NW1/4, S1/2SW1/...</td>\n",
       "      <td>None</td>\n",
       "      <td>None</td>\n",
       "      <td>8280</td>\n",
       "      <td>0</td>\n",
       "      <td>8280</td>\n",
       "      <td>3480</td>\n",
       "      <td>4</td>\n",
       "      <td>1970/01/01</td>\n",
       "      <td>18720</td>\n",
       "      <td>3.56897</td>\n",
       "      <td>None</td>\n",
       "      <td>0.1</td>\n",
       "      <td>0.1</td>\n",
       "      <td>Instrument # 377696</td>\n",
       "      <td>2020-03-12 00:00:00</td>\n",
       "      <td>0.25</td>\n",
       "      <td>Instrument # 380538;</td>\n",
       "    </tr>\n",
       "    <tr>\n",
       "      <th>2527</th>\n",
       "      <td>MTM110420</td>\n",
       "      <td>YES</td>\n",
       "      <td>Magnum Producing</td>\n",
       "      <td>2018/03/13</td>\n",
       "      <td>2018/05/01</td>\n",
       "      <td>2028/05/01</td>\n",
       "      <td>240</td>\n",
       "      <td>CHOUTEAU</td>\n",
       "      <td>MT</td>\n",
       "      <td>NOTICE OF APPEAL WAS FILED BY WILDEARTH GUARDI...</td>\n",
       "      <td>2028</td>\n",
       "      <td>27N</td>\n",
       "      <td>3E</td>\n",
       "      <td>T27N R3E Sec 7 NE1/4SE1/4, S1/2SE1/4; Sec 8 W1...</td>\n",
       "      <td>None</td>\n",
       "      <td>None</td>\n",
       "      <td>None</td>\n",
       "      <td>1000</td>\n",
       "      <td>0</td>\n",
       "      <td>1000</td>\n",
       "      <td>360</td>\n",
       "      <td>4</td>\n",
       "      <td>1970/01/01</td>\n",
       "      <td>2080</td>\n",
       "      <td>4.16667</td>\n",
       "      <td>None</td>\n",
       "      <td>0.1</td>\n",
       "      <td>0.1</td>\n",
       "      <td>Doc #475388; Pages #3</td>\n",
       "      <td>2020-03-27 00:00:00</td>\n",
       "      <td>0.25</td>\n",
       "      <td>Doc # 476830</td>\n",
       "    </tr>\n",
       "    <tr>\n",
       "      <th>2528</th>\n",
       "      <td>MTM110432</td>\n",
       "      <td>YES</td>\n",
       "      <td>Magnum Producing</td>\n",
       "      <td>2018/03/13</td>\n",
       "      <td>2018/05/01</td>\n",
       "      <td>2028/05/01</td>\n",
       "      <td>280</td>\n",
       "      <td>GLACIER</td>\n",
       "      <td>MT</td>\n",
       "      <td>NOTICE OF APPEAL WAS FILED BY WILDEARTH GUARDI...</td>\n",
       "      <td>2028</td>\n",
       "      <td>37N</td>\n",
       "      <td>6W</td>\n",
       "      <td>T37N R6W Sec 26 SW1/4SE1/4; Sec 35 NE1/4, N1/2...</td>\n",
       "      <td>None</td>\n",
       "      <td>None</td>\n",
       "      <td>None</td>\n",
       "      <td>1140</td>\n",
       "      <td>8680</td>\n",
       "      <td>9820</td>\n",
       "      <td>420</td>\n",
       "      <td>4</td>\n",
       "      <td>1970/01/01</td>\n",
       "      <td>11080</td>\n",
       "      <td>35.0714</td>\n",
       "      <td>None</td>\n",
       "      <td>0.1</td>\n",
       "      <td>0.1</td>\n",
       "      <td>Doc # 284058; Book # 59 OG; Page # 405</td>\n",
       "      <td>2020-03-27 00:00:00</td>\n",
       "      <td>0.25</td>\n",
       "      <td>Doc # 285048; Book # 23; Page # 97;</td>\n",
       "    </tr>\n",
       "    <tr>\n",
       "      <th>2531</th>\n",
       "      <td>ARES059276</td>\n",
       "      <td>YES</td>\n",
       "      <td>Magnum Producing</td>\n",
       "      <td>2018/06/21</td>\n",
       "      <td>2018/08/01</td>\n",
       "      <td>2028/08/01</td>\n",
       "      <td>205</td>\n",
       "      <td>CLEBURNE</td>\n",
       "      <td>AR</td>\n",
       "      <td>None</td>\n",
       "      <td>2028</td>\n",
       "      <td>12N</td>\n",
       "      <td>10W</td>\n",
       "      <td>T12N R10W SEC 9 N2SW N2NESWSW N2NWSESW N2NWSWS...</td>\n",
       "      <td>None</td>\n",
       "      <td>None</td>\n",
       "      <td>ES-008-06/2018</td>\n",
       "      <td>877.5</td>\n",
       "      <td>0</td>\n",
       "      <td>877.5</td>\n",
       "      <td>307.5</td>\n",
       "      <td>4</td>\n",
       "      <td>1970/01/01</td>\n",
       "      <td>1800</td>\n",
       "      <td>4.28049</td>\n",
       "      <td>None</td>\n",
       "      <td>0.1</td>\n",
       "      <td>0.1</td>\n",
       "      <td>Instrument # 201904281</td>\n",
       "      <td>None</td>\n",
       "      <td>None</td>\n",
       "      <td>None</td>\n",
       "    </tr>\n",
       "    <tr>\n",
       "      <th>2532</th>\n",
       "      <td>ARES059277</td>\n",
       "      <td>YES</td>\n",
       "      <td>Magnum Producing</td>\n",
       "      <td>2018/06/21</td>\n",
       "      <td>2018/08/01</td>\n",
       "      <td>2028/08/01</td>\n",
       "      <td>120</td>\n",
       "      <td>CLEBURNE</td>\n",
       "      <td>AR</td>\n",
       "      <td>None</td>\n",
       "      <td>2028</td>\n",
       "      <td>12N</td>\n",
       "      <td>10W</td>\n",
       "      <td>T12N R10W SEC 15 NWSW SESW SWSE</td>\n",
       "      <td>None</td>\n",
       "      <td>None</td>\n",
       "      <td>ES-009-06/2018</td>\n",
       "      <td>580</td>\n",
       "      <td>0</td>\n",
       "      <td>580</td>\n",
       "      <td>180</td>\n",
       "      <td>4</td>\n",
       "      <td>1970/01/01</td>\n",
       "      <td>1120</td>\n",
       "      <td>4.83333</td>\n",
       "      <td>None</td>\n",
       "      <td>0.1</td>\n",
       "      <td>0.1</td>\n",
       "      <td>Instrument # 201904281</td>\n",
       "      <td>None</td>\n",
       "      <td>None</td>\n",
       "      <td>None</td>\n",
       "    </tr>\n",
       "    <tr>\n",
       "      <th>2533</th>\n",
       "      <td>ARES059278</td>\n",
       "      <td>YES</td>\n",
       "      <td>Magnum Producing</td>\n",
       "      <td>2018/06/21</td>\n",
       "      <td>2018/08/01</td>\n",
       "      <td>2028/08/01</td>\n",
       "      <td>40</td>\n",
       "      <td>CLEBURNE</td>\n",
       "      <td>AR</td>\n",
       "      <td>None</td>\n",
       "      <td>2028</td>\n",
       "      <td>12N</td>\n",
       "      <td>12W</td>\n",
       "      <td>T12N R12W SEC 23 NESE</td>\n",
       "      <td>None</td>\n",
       "      <td>None</td>\n",
       "      <td>ES-010-06/2018</td>\n",
       "      <td>300</td>\n",
       "      <td>0</td>\n",
       "      <td>300</td>\n",
       "      <td>60</td>\n",
       "      <td>4</td>\n",
       "      <td>1970/01/01</td>\n",
       "      <td>480</td>\n",
       "      <td>7.5</td>\n",
       "      <td>None</td>\n",
       "      <td>0.1</td>\n",
       "      <td>0.1</td>\n",
       "      <td>Instrument # 201904281</td>\n",
       "      <td>None</td>\n",
       "      <td>None</td>\n",
       "      <td>None</td>\n",
       "    </tr>\n",
       "    <tr>\n",
       "      <th>2534</th>\n",
       "      <td>ARES059279</td>\n",
       "      <td>YES</td>\n",
       "      <td>Magnum Producing</td>\n",
       "      <td>2018/06/21</td>\n",
       "      <td>2018/08/01</td>\n",
       "      <td>2028/08/01</td>\n",
       "      <td>65</td>\n",
       "      <td>VAN BUREN</td>\n",
       "      <td>AR</td>\n",
       "      <td>HBP-LEASE COMMITTED TO CA(ARES 55803)-50% - US...</td>\n",
       "      <td>2028</td>\n",
       "      <td>9N</td>\n",
       "      <td>12W</td>\n",
       "      <td>T9N R12W SEC21 S2SE that part lying southerly ...</td>\n",
       "      <td>None</td>\n",
       "      <td>None</td>\n",
       "      <td>ES-011-06/2018</td>\n",
       "      <td>387.5</td>\n",
       "      <td>0</td>\n",
       "      <td>387.5</td>\n",
       "      <td>97.5</td>\n",
       "      <td>4</td>\n",
       "      <td>1970/01/01</td>\n",
       "      <td>680</td>\n",
       "      <td>5.96154</td>\n",
       "      <td>None</td>\n",
       "      <td>0.1</td>\n",
       "      <td>0.1</td>\n",
       "      <td>Book # 2019; Pages # 2761</td>\n",
       "      <td>None</td>\n",
       "      <td>None</td>\n",
       "      <td>None</td>\n",
       "    </tr>\n",
       "    <tr>\n",
       "      <th>2535</th>\n",
       "      <td>ARES059280</td>\n",
       "      <td>YES</td>\n",
       "      <td>Magnum Producing</td>\n",
       "      <td>2018/06/21</td>\n",
       "      <td>2018/08/01</td>\n",
       "      <td>2028/08/01</td>\n",
       "      <td>39.8</td>\n",
       "      <td>VAN BUREN</td>\n",
       "      <td>AR</td>\n",
       "      <td>None</td>\n",
       "      <td>2028</td>\n",
       "      <td>11N</td>\n",
       "      <td>14W</td>\n",
       "      <td>T11N R14W SEC 2 NENW</td>\n",
       "      <td>None</td>\n",
       "      <td>None</td>\n",
       "      <td>ES-013-06/2018</td>\n",
       "      <td>300</td>\n",
       "      <td>0</td>\n",
       "      <td>300</td>\n",
       "      <td>60</td>\n",
       "      <td>4</td>\n",
       "      <td>1970/01/01</td>\n",
       "      <td>480</td>\n",
       "      <td>7.5</td>\n",
       "      <td>None</td>\n",
       "      <td>0.1</td>\n",
       "      <td>0.1</td>\n",
       "      <td>Book # 2019; Pages # 2761</td>\n",
       "      <td>None</td>\n",
       "      <td>None</td>\n",
       "      <td>None</td>\n",
       "    </tr>\n",
       "    <tr>\n",
       "      <th>2536</th>\n",
       "      <td>ARES059281</td>\n",
       "      <td>YES</td>\n",
       "      <td>Magnum Producing</td>\n",
       "      <td>2018/06/21</td>\n",
       "      <td>2018/08/01</td>\n",
       "      <td>2028/08/01</td>\n",
       "      <td>80</td>\n",
       "      <td>VAN BUREN</td>\n",
       "      <td>AR</td>\n",
       "      <td>None</td>\n",
       "      <td>2028</td>\n",
       "      <td>11N</td>\n",
       "      <td>14W</td>\n",
       "      <td>T11N R14W SEC 4 W2SE</td>\n",
       "      <td>None</td>\n",
       "      <td>None</td>\n",
       "      <td>ES-014-06/2018</td>\n",
       "      <td>440</td>\n",
       "      <td>0</td>\n",
       "      <td>440</td>\n",
       "      <td>120</td>\n",
       "      <td>4</td>\n",
       "      <td>1970/01/01</td>\n",
       "      <td>800</td>\n",
       "      <td>5.5</td>\n",
       "      <td>None</td>\n",
       "      <td>0.1</td>\n",
       "      <td>0.1</td>\n",
       "      <td>Book # 2019; Pages # 2761</td>\n",
       "      <td>None</td>\n",
       "      <td>None</td>\n",
       "      <td>None</td>\n",
       "    </tr>\n",
       "    <tr>\n",
       "      <th>2537</th>\n",
       "      <td>ARES059282</td>\n",
       "      <td>YES</td>\n",
       "      <td>Magnum Producing</td>\n",
       "      <td>2018/06/21</td>\n",
       "      <td>2018/08/01</td>\n",
       "      <td>2028/08/01</td>\n",
       "      <td>364.38</td>\n",
       "      <td>VAN BUREN</td>\n",
       "      <td>AR</td>\n",
       "      <td>None</td>\n",
       "      <td>2028</td>\n",
       "      <td>11N</td>\n",
       "      <td>14W</td>\n",
       "      <td>T11N R14W Sec 6 S2NW S2NE NWNE N2NW W2SW</td>\n",
       "      <td>None</td>\n",
       "      <td>None</td>\n",
       "      <td>ES-015-06/2018</td>\n",
       "      <td>1437.5</td>\n",
       "      <td>2555</td>\n",
       "      <td>3992.5</td>\n",
       "      <td>547.5</td>\n",
       "      <td>4</td>\n",
       "      <td>1970/01/01</td>\n",
       "      <td>5635</td>\n",
       "      <td>10.9684</td>\n",
       "      <td>None</td>\n",
       "      <td>0.1</td>\n",
       "      <td>0.1</td>\n",
       "      <td>Book # 2019; Pages # 2761</td>\n",
       "      <td>None</td>\n",
       "      <td>None</td>\n",
       "      <td>None</td>\n",
       "    </tr>\n",
       "    <tr>\n",
       "      <th>2538</th>\n",
       "      <td>ARES059283</td>\n",
       "      <td>YES</td>\n",
       "      <td>Magnum Producing</td>\n",
       "      <td>2018/06/21</td>\n",
       "      <td>2018/08/01</td>\n",
       "      <td>2028/08/01</td>\n",
       "      <td>122.38</td>\n",
       "      <td>VAN BUREN</td>\n",
       "      <td>AR</td>\n",
       "      <td>None</td>\n",
       "      <td>2028</td>\n",
       "      <td>11N</td>\n",
       "      <td>14W</td>\n",
       "      <td>T11N R14W SEC 18 W2NW NESW</td>\n",
       "      <td>None</td>\n",
       "      <td>None</td>\n",
       "      <td>ES-016-06/2018</td>\n",
       "      <td>590.5</td>\n",
       "      <td>0</td>\n",
       "      <td>590.5</td>\n",
       "      <td>184.5</td>\n",
       "      <td>4</td>\n",
       "      <td>1970/01/01</td>\n",
       "      <td>1144</td>\n",
       "      <td>4.84016</td>\n",
       "      <td>None</td>\n",
       "      <td>0.1</td>\n",
       "      <td>0.1</td>\n",
       "      <td>Book # 2019; Pages # 2761</td>\n",
       "      <td>None</td>\n",
       "      <td>None</td>\n",
       "      <td>None</td>\n",
       "    </tr>\n",
       "    <tr>\n",
       "      <th>2539</th>\n",
       "      <td>ARES059285</td>\n",
       "      <td>YES</td>\n",
       "      <td>Magnum Producing</td>\n",
       "      <td>2018/06/21</td>\n",
       "      <td>2018/08/01</td>\n",
       "      <td>2028/08/01</td>\n",
       "      <td>40</td>\n",
       "      <td>VAN BUREN</td>\n",
       "      <td>AR</td>\n",
       "      <td>None</td>\n",
       "      <td>2028</td>\n",
       "      <td>11N</td>\n",
       "      <td>15W</td>\n",
       "      <td>T11N R15W SEC 13 NENE</td>\n",
       "      <td>None</td>\n",
       "      <td>None</td>\n",
       "      <td>ES-018-06/2018</td>\n",
       "      <td>300</td>\n",
       "      <td>0</td>\n",
       "      <td>300</td>\n",
       "      <td>60</td>\n",
       "      <td>4</td>\n",
       "      <td>1970/01/01</td>\n",
       "      <td>480</td>\n",
       "      <td>7.5</td>\n",
       "      <td>None</td>\n",
       "      <td>0.1</td>\n",
       "      <td>0.1</td>\n",
       "      <td>Book # 2019; Pages # 2761</td>\n",
       "      <td>None</td>\n",
       "      <td>None</td>\n",
       "      <td>None</td>\n",
       "    </tr>\n",
       "    <tr>\n",
       "      <th>2540</th>\n",
       "      <td>ARES059286</td>\n",
       "      <td>YES</td>\n",
       "      <td>Magnum Producing</td>\n",
       "      <td>2018/06/21</td>\n",
       "      <td>2018/08/01</td>\n",
       "      <td>2028/08/01</td>\n",
       "      <td>67.5</td>\n",
       "      <td>VAN BUREN</td>\n",
       "      <td>AR</td>\n",
       "      <td>None</td>\n",
       "      <td>2028</td>\n",
       "      <td>11N</td>\n",
       "      <td>15W</td>\n",
       "      <td>T11N R15W SEC 20 SENW S2SWNW S2NWSWNW NWNWSWNW...</td>\n",
       "      <td>None</td>\n",
       "      <td>None</td>\n",
       "      <td>ES-019-06/2018</td>\n",
       "      <td>398</td>\n",
       "      <td>0</td>\n",
       "      <td>398</td>\n",
       "      <td>102</td>\n",
       "      <td>4</td>\n",
       "      <td>1970/01/01</td>\n",
       "      <td>704</td>\n",
       "      <td>5.85294</td>\n",
       "      <td>None</td>\n",
       "      <td>0.1</td>\n",
       "      <td>0.1</td>\n",
       "      <td>Book # 2019; Pages # 2761</td>\n",
       "      <td>None</td>\n",
       "      <td>None</td>\n",
       "      <td>None</td>\n",
       "    </tr>\n",
       "    <tr>\n",
       "      <th>2541</th>\n",
       "      <td>ARES059287</td>\n",
       "      <td>YES</td>\n",
       "      <td>Magnum Producing</td>\n",
       "      <td>2018/06/21</td>\n",
       "      <td>2018/08/01</td>\n",
       "      <td>2028/08/01</td>\n",
       "      <td>40</td>\n",
       "      <td>VAN BUREN</td>\n",
       "      <td>AR</td>\n",
       "      <td>None</td>\n",
       "      <td>2028</td>\n",
       "      <td>11N</td>\n",
       "      <td>15W</td>\n",
       "      <td>T11N R15W SEC 23 SWSE</td>\n",
       "      <td>None</td>\n",
       "      <td>None</td>\n",
       "      <td>ES-020-06/2018</td>\n",
       "      <td>300</td>\n",
       "      <td>0</td>\n",
       "      <td>300</td>\n",
       "      <td>60</td>\n",
       "      <td>4</td>\n",
       "      <td>1970/01/01</td>\n",
       "      <td>480</td>\n",
       "      <td>7.5</td>\n",
       "      <td>None</td>\n",
       "      <td>0.1</td>\n",
       "      <td>0.1</td>\n",
       "      <td>Book # 2019; Pages # 2761</td>\n",
       "      <td>None</td>\n",
       "      <td>None</td>\n",
       "      <td>None</td>\n",
       "    </tr>\n",
       "    <tr>\n",
       "      <th>2542</th>\n",
       "      <td>ARES059288</td>\n",
       "      <td>YES</td>\n",
       "      <td>Magnum Producing</td>\n",
       "      <td>2018/06/21</td>\n",
       "      <td>2018/08/01</td>\n",
       "      <td>2028/08/01</td>\n",
       "      <td>40</td>\n",
       "      <td>VAN BUREN</td>\n",
       "      <td>AR</td>\n",
       "      <td>None</td>\n",
       "      <td>2028</td>\n",
       "      <td>11N</td>\n",
       "      <td>15W</td>\n",
       "      <td>T11N R15W SEC 24 NWNE</td>\n",
       "      <td>None</td>\n",
       "      <td>None</td>\n",
       "      <td>ES-021-06/2018</td>\n",
       "      <td>300</td>\n",
       "      <td>0</td>\n",
       "      <td>300</td>\n",
       "      <td>60</td>\n",
       "      <td>4</td>\n",
       "      <td>1970/01/01</td>\n",
       "      <td>480</td>\n",
       "      <td>7.5</td>\n",
       "      <td>None</td>\n",
       "      <td>0.1</td>\n",
       "      <td>0.1</td>\n",
       "      <td>Book # 2019; Pages # 2761</td>\n",
       "      <td>None</td>\n",
       "      <td>None</td>\n",
       "      <td>None</td>\n",
       "    </tr>\n",
       "    <tr>\n",
       "      <th>2543</th>\n",
       "      <td>ARES059289</td>\n",
       "      <td>YES</td>\n",
       "      <td>Magnum Producing</td>\n",
       "      <td>2018/06/21</td>\n",
       "      <td>2018/08/01</td>\n",
       "      <td>2028/08/01</td>\n",
       "      <td>80</td>\n",
       "      <td>VAN BUREN</td>\n",
       "      <td>AR</td>\n",
       "      <td>None</td>\n",
       "      <td>2028</td>\n",
       "      <td>11N</td>\n",
       "      <td>15W</td>\n",
       "      <td>T11N R15W SEC 26 S2NW</td>\n",
       "      <td>None</td>\n",
       "      <td>None</td>\n",
       "      <td>ES-022-06/2018</td>\n",
       "      <td>440</td>\n",
       "      <td>0</td>\n",
       "      <td>440</td>\n",
       "      <td>120</td>\n",
       "      <td>4</td>\n",
       "      <td>1970/01/01</td>\n",
       "      <td>800</td>\n",
       "      <td>5.5</td>\n",
       "      <td>None</td>\n",
       "      <td>0.1</td>\n",
       "      <td>0.1</td>\n",
       "      <td>Book # 2019; Pages # 2761</td>\n",
       "      <td>None</td>\n",
       "      <td>None</td>\n",
       "      <td>None</td>\n",
       "    </tr>\n",
       "    <tr>\n",
       "      <th>2544</th>\n",
       "      <td>ARES059290</td>\n",
       "      <td>YES</td>\n",
       "      <td>Magnum Producing</td>\n",
       "      <td>2018/06/21</td>\n",
       "      <td>2018/08/01</td>\n",
       "      <td>2028/08/01</td>\n",
       "      <td>120</td>\n",
       "      <td>VAN BUREN</td>\n",
       "      <td>AR</td>\n",
       "      <td>None</td>\n",
       "      <td>2028</td>\n",
       "      <td>11N</td>\n",
       "      <td>15W</td>\n",
       "      <td>T11N R15W SEC 29 SESW S2SE</td>\n",
       "      <td>None</td>\n",
       "      <td>None</td>\n",
       "      <td>ES-023-06/2018</td>\n",
       "      <td>1300</td>\n",
       "      <td>0</td>\n",
       "      <td>1300</td>\n",
       "      <td>180</td>\n",
       "      <td>4</td>\n",
       "      <td>1970/01/01</td>\n",
       "      <td>1840</td>\n",
       "      <td>10.8333</td>\n",
       "      <td>None</td>\n",
       "      <td>0.1</td>\n",
       "      <td>0.1</td>\n",
       "      <td>Book # 2019; Pages # 2761</td>\n",
       "      <td>None</td>\n",
       "      <td>None</td>\n",
       "      <td>None</td>\n",
       "    </tr>\n",
       "    <tr>\n",
       "      <th>2545</th>\n",
       "      <td>ARES059291</td>\n",
       "      <td>YES</td>\n",
       "      <td>Magnum Producing</td>\n",
       "      <td>2018/06/21</td>\n",
       "      <td>2018/08/01</td>\n",
       "      <td>2028/08/01</td>\n",
       "      <td>80</td>\n",
       "      <td>VAN BUREN</td>\n",
       "      <td>AR</td>\n",
       "      <td>None</td>\n",
       "      <td>2028</td>\n",
       "      <td>12N</td>\n",
       "      <td>15W</td>\n",
       "      <td>T12N R15W SEC 15 W2NE</td>\n",
       "      <td>None</td>\n",
       "      <td>None</td>\n",
       "      <td>ES-024-06/2018</td>\n",
       "      <td>440</td>\n",
       "      <td>0</td>\n",
       "      <td>440</td>\n",
       "      <td>120</td>\n",
       "      <td>4</td>\n",
       "      <td>1970/01/01</td>\n",
       "      <td>800</td>\n",
       "      <td>5.5</td>\n",
       "      <td>None</td>\n",
       "      <td>0.1</td>\n",
       "      <td>0.1</td>\n",
       "      <td>Book # 2019; Pages # 2761</td>\n",
       "      <td>None</td>\n",
       "      <td>None</td>\n",
       "      <td>None</td>\n",
       "    </tr>\n",
       "    <tr>\n",
       "      <th>2546</th>\n",
       "      <td>ARES059292</td>\n",
       "      <td>YES</td>\n",
       "      <td>Magnum Producing</td>\n",
       "      <td>2018/06/21</td>\n",
       "      <td>2018/08/01</td>\n",
       "      <td>2028/08/01</td>\n",
       "      <td>40</td>\n",
       "      <td>VAN BUREN</td>\n",
       "      <td>AR</td>\n",
       "      <td>None</td>\n",
       "      <td>2028</td>\n",
       "      <td>12N</td>\n",
       "      <td>15W</td>\n",
       "      <td>T12N R15W SEC 26 NWNW</td>\n",
       "      <td>None</td>\n",
       "      <td>None</td>\n",
       "      <td>ES-025-06/2018</td>\n",
       "      <td>300</td>\n",
       "      <td>0</td>\n",
       "      <td>300</td>\n",
       "      <td>60</td>\n",
       "      <td>4</td>\n",
       "      <td>1970/01/01</td>\n",
       "      <td>480</td>\n",
       "      <td>7.5</td>\n",
       "      <td>None</td>\n",
       "      <td>0.1</td>\n",
       "      <td>0.1</td>\n",
       "      <td>Book # 2019; Pages # 2761</td>\n",
       "      <td>None</td>\n",
       "      <td>None</td>\n",
       "      <td>None</td>\n",
       "    </tr>\n",
       "    <tr>\n",
       "      <th>2547</th>\n",
       "      <td>ARES059293</td>\n",
       "      <td>YES</td>\n",
       "      <td>Magnum Producing</td>\n",
       "      <td>2018/06/21</td>\n",
       "      <td>2018/08/01</td>\n",
       "      <td>2028/08/01</td>\n",
       "      <td>86.03</td>\n",
       "      <td>CLEBURNE</td>\n",
       "      <td>AR</td>\n",
       "      <td>None</td>\n",
       "      <td>2028</td>\n",
       "      <td>9N</td>\n",
       "      <td>11W</td>\n",
       "      <td>T9N R11W SEC 6 N2NE</td>\n",
       "      <td>None</td>\n",
       "      <td>None</td>\n",
       "      <td>ES-026-06/2018</td>\n",
       "      <td>464.5</td>\n",
       "      <td>0</td>\n",
       "      <td>464.5</td>\n",
       "      <td>130.5</td>\n",
       "      <td>4</td>\n",
       "      <td>1970/01/01</td>\n",
       "      <td>856</td>\n",
       "      <td>5.40116</td>\n",
       "      <td>None</td>\n",
       "      <td>0.1</td>\n",
       "      <td>0.1</td>\n",
       "      <td>Doc# 201904281; Pages# 3;</td>\n",
       "      <td>None</td>\n",
       "      <td>None</td>\n",
       "      <td>None</td>\n",
       "    </tr>\n",
       "    <tr>\n",
       "      <th>2548</th>\n",
       "      <td>ARES059299</td>\n",
       "      <td>YES</td>\n",
       "      <td>Magnum Producing</td>\n",
       "      <td>2018/06/21</td>\n",
       "      <td>2018/08/01</td>\n",
       "      <td>2028/08/01</td>\n",
       "      <td>39.59</td>\n",
       "      <td>VAN BUREN</td>\n",
       "      <td>AR</td>\n",
       "      <td>None</td>\n",
       "      <td>2028</td>\n",
       "      <td>11N</td>\n",
       "      <td>14W</td>\n",
       "      <td>T11N R14W SEC 1 SWSW</td>\n",
       "      <td>None</td>\n",
       "      <td>None</td>\n",
       "      <td>ES-012-06/2018</td>\n",
       "      <td>300</td>\n",
       "      <td>0</td>\n",
       "      <td>300</td>\n",
       "      <td>60</td>\n",
       "      <td>4</td>\n",
       "      <td>1970/01/01</td>\n",
       "      <td>480</td>\n",
       "      <td>7.5</td>\n",
       "      <td>None</td>\n",
       "      <td>0.1</td>\n",
       "      <td>0.1</td>\n",
       "      <td>Book # 2019; Pages # 2761</td>\n",
       "      <td>None</td>\n",
       "      <td>None</td>\n",
       "      <td>None</td>\n",
       "    </tr>\n",
       "    <tr>\n",
       "      <th>2551</th>\n",
       "      <td>NMNM138795</td>\n",
       "      <td>YES</td>\n",
       "      <td>Magnum Producing</td>\n",
       "      <td>2018/09/05</td>\n",
       "      <td>2018/11/01</td>\n",
       "      <td>2028/11/01</td>\n",
       "      <td>640</td>\n",
       "      <td>CHAVES</td>\n",
       "      <td>NM</td>\n",
       "      <td>None</td>\n",
       "      <td>2028</td>\n",
       "      <td>15S</td>\n",
       "      <td>22E</td>\n",
       "      <td>T15S R22E</td>\n",
       "      <td>SEC 15 ALL</td>\n",
       "      <td>None</td>\n",
       "      <td>NM-201809-001</td>\n",
       "      <td>2400</td>\n",
       "      <td>4480</td>\n",
       "      <td>6880</td>\n",
       "      <td>960</td>\n",
       "      <td>4</td>\n",
       "      <td>1970/01/01</td>\n",
       "      <td>9760</td>\n",
       "      <td>10.75</td>\n",
       "      <td>None</td>\n",
       "      <td>0.1</td>\n",
       "      <td>0.1</td>\n",
       "      <td>Receipt # 423395; Book # 828; Page # 386 (3)</td>\n",
       "      <td>2020-01-15 00:00:00</td>\n",
       "      <td>0.25</td>\n",
       "      <td>Instrument # 202000364; Pages 1-5;</td>\n",
       "    </tr>\n",
       "    <tr>\n",
       "      <th>2552</th>\n",
       "      <td>NMNM138803</td>\n",
       "      <td>YES</td>\n",
       "      <td>Magnum Producing</td>\n",
       "      <td>2018/09/05</td>\n",
       "      <td>2018/11/01</td>\n",
       "      <td>2028/11/01</td>\n",
       "      <td>40</td>\n",
       "      <td>EDDY</td>\n",
       "      <td>NM</td>\n",
       "      <td>None</td>\n",
       "      <td>2028</td>\n",
       "      <td>21S</td>\n",
       "      <td>23E</td>\n",
       "      <td>T21S R23E</td>\n",
       "      <td>SEC 20 SESE</td>\n",
       "      <td>None</td>\n",
       "      <td>NM-201809-009</td>\n",
       "      <td>300</td>\n",
       "      <td>2960</td>\n",
       "      <td>3260</td>\n",
       "      <td>60</td>\n",
       "      <td>4</td>\n",
       "      <td>1970/01/01</td>\n",
       "      <td>3440</td>\n",
       "      <td>81.5</td>\n",
       "      <td>None</td>\n",
       "      <td>0.1</td>\n",
       "      <td>0.1</td>\n",
       "      <td>Doc # 1910055; Book # 1126; Page 179 (3);</td>\n",
       "      <td>2020-01-13 00:00:00</td>\n",
       "      <td>0.25</td>\n",
       "      <td>Reception: 2000652; Book # 1132; Page # 0393;</td>\n",
       "    </tr>\n",
       "    <tr>\n",
       "      <th>2553</th>\n",
       "      <td>NMNM138853</td>\n",
       "      <td>YES</td>\n",
       "      <td>Magnum Producing</td>\n",
       "      <td>2018/09/05</td>\n",
       "      <td>2018/11/01</td>\n",
       "      <td>2028/11/01</td>\n",
       "      <td>400</td>\n",
       "      <td>CHAVES</td>\n",
       "      <td>NM</td>\n",
       "      <td>None</td>\n",
       "      <td>2028</td>\n",
       "      <td>11S</td>\n",
       "      <td>31E</td>\n",
       "      <td>T11S R31E</td>\n",
       "      <td>SEC 4 S2SE; SEC 9 N2</td>\n",
       "      <td>None</td>\n",
       "      <td>NM-201809-059</td>\n",
       "      <td>1560</td>\n",
       "      <td>60400</td>\n",
       "      <td>61960</td>\n",
       "      <td>600</td>\n",
       "      <td>4</td>\n",
       "      <td>1970/01/01</td>\n",
       "      <td>63760</td>\n",
       "      <td>154.9</td>\n",
       "      <td>None</td>\n",
       "      <td>0.1</td>\n",
       "      <td>0.1</td>\n",
       "      <td>Receipt # 423395; Book # 828; Page # 386 (3)</td>\n",
       "      <td>2020-01-15 00:00:00</td>\n",
       "      <td>0.25</td>\n",
       "      <td>Instrument # 202000364; Pages 1-5;</td>\n",
       "    </tr>\n",
       "    <tr>\n",
       "      <th>2554</th>\n",
       "      <td>NMNM138854</td>\n",
       "      <td>YES</td>\n",
       "      <td>Magnum Producing</td>\n",
       "      <td>2018/09/05</td>\n",
       "      <td>2018/11/01</td>\n",
       "      <td>2028/11/01</td>\n",
       "      <td>408.68</td>\n",
       "      <td>CHAVES</td>\n",
       "      <td>NM</td>\n",
       "      <td>None</td>\n",
       "      <td>2028</td>\n",
       "      <td>11S</td>\n",
       "      <td>31E</td>\n",
       "      <td>T11S R31E</td>\n",
       "      <td>SEC 5 LOTS 1,2,3,4; SEC 5 S2;</td>\n",
       "      <td>None</td>\n",
       "      <td>NM-201809-060</td>\n",
       "      <td>1591.5</td>\n",
       "      <td>15951</td>\n",
       "      <td>17542.5</td>\n",
       "      <td>613.5</td>\n",
       "      <td>4</td>\n",
       "      <td>1970/01/01</td>\n",
       "      <td>19383</td>\n",
       "      <td>42.8912</td>\n",
       "      <td>None</td>\n",
       "      <td>0.1</td>\n",
       "      <td>0.1</td>\n",
       "      <td>Receipt # 423395; Book # 828; Page # 386 (3)</td>\n",
       "      <td>2020-01-15 00:00:00</td>\n",
       "      <td>0.25</td>\n",
       "      <td>Instrument # 202000364; Pages 1-5;</td>\n",
       "    </tr>\n",
       "    <tr>\n",
       "      <th>2555</th>\n",
       "      <td>NMNM138857</td>\n",
       "      <td>YES</td>\n",
       "      <td>Magnum Producing</td>\n",
       "      <td>2018/09/05</td>\n",
       "      <td>2018/11/01</td>\n",
       "      <td>2028/11/01</td>\n",
       "      <td>600</td>\n",
       "      <td>CHAVES</td>\n",
       "      <td>NM</td>\n",
       "      <td>None</td>\n",
       "      <td>2028</td>\n",
       "      <td>11S</td>\n",
       "      <td>31E</td>\n",
       "      <td>T11S R31E</td>\n",
       "      <td>SEC 17 N2, SW, N2SE, SWSE</td>\n",
       "      <td>None</td>\n",
       "      <td>NM-201809-063</td>\n",
       "      <td>2260</td>\n",
       "      <td>32400</td>\n",
       "      <td>34660</td>\n",
       "      <td>900</td>\n",
       "      <td>4</td>\n",
       "      <td>1970/01/01</td>\n",
       "      <td>37360</td>\n",
       "      <td>57.7667</td>\n",
       "      <td>None</td>\n",
       "      <td>0.1</td>\n",
       "      <td>0.1</td>\n",
       "      <td>Receipt # 423395; Book # 828; Page # 386 (3)</td>\n",
       "      <td>2020-01-15 00:00:00</td>\n",
       "      <td>0.25</td>\n",
       "      <td>Instrument # 202000364; Pages 1-5;</td>\n",
       "    </tr>\n",
       "    <tr>\n",
       "      <th>2556</th>\n",
       "      <td>NMNM138858</td>\n",
       "      <td>YES</td>\n",
       "      <td>Magnum Producing</td>\n",
       "      <td>2018/09/05</td>\n",
       "      <td>2018/11/01</td>\n",
       "      <td>2028/11/01</td>\n",
       "      <td>240</td>\n",
       "      <td>CHAVES</td>\n",
       "      <td>NM</td>\n",
       "      <td>None</td>\n",
       "      <td>2028</td>\n",
       "      <td>11S</td>\n",
       "      <td>31E</td>\n",
       "      <td>T11S R31E</td>\n",
       "      <td>SEC 34 NW, N2SW</td>\n",
       "      <td>None</td>\n",
       "      <td>NM-201809-064</td>\n",
       "      <td>1000</td>\n",
       "      <td>23760</td>\n",
       "      <td>24760</td>\n",
       "      <td>360</td>\n",
       "      <td>4</td>\n",
       "      <td>1970/01/01</td>\n",
       "      <td>25840</td>\n",
       "      <td>103.167</td>\n",
       "      <td>None</td>\n",
       "      <td>0.1</td>\n",
       "      <td>0.1</td>\n",
       "      <td>Receipt # 423395; Book # 828; Page # 386 (3)</td>\n",
       "      <td>2020-01-15 00:00:00</td>\n",
       "      <td>0.25</td>\n",
       "      <td>Instrument # 202000364; Pages 1-5;</td>\n",
       "    </tr>\n",
       "    <tr>\n",
       "      <th>2557</th>\n",
       "      <td>NMNM138863</td>\n",
       "      <td>YES</td>\n",
       "      <td>Magnum Producing</td>\n",
       "      <td>2018/09/05</td>\n",
       "      <td>2018/11/01</td>\n",
       "      <td>2028/11/01</td>\n",
       "      <td>480</td>\n",
       "      <td>EDDY</td>\n",
       "      <td>NM</td>\n",
       "      <td>None</td>\n",
       "      <td>2028</td>\n",
       "      <td>16S</td>\n",
       "      <td>31E</td>\n",
       "      <td>T16S R31E</td>\n",
       "      <td>SEC 26 N2NE, SWNE, W2, NWSE</td>\n",
       "      <td>None</td>\n",
       "      <td>NM-201809-069</td>\n",
       "      <td>1840</td>\n",
       "      <td>73920</td>\n",
       "      <td>75760</td>\n",
       "      <td>720</td>\n",
       "      <td>4</td>\n",
       "      <td>1970/01/01</td>\n",
       "      <td>77920</td>\n",
       "      <td>157.833</td>\n",
       "      <td>None</td>\n",
       "      <td>0.1</td>\n",
       "      <td>0.1</td>\n",
       "      <td>Doc # 1910055; Book # 1126; Page 179 (3);</td>\n",
       "      <td>2020-01-13 00:00:00</td>\n",
       "      <td>0.25</td>\n",
       "      <td>Reception: 2000652; Book # 1132; Page # 0393;</td>\n",
       "    </tr>\n",
       "  </tbody>\n",
       "</table>\n",
       "<p>2175 rows × 32 columns</p>\n",
       "</div>"
      ],
      "text/plain": [
       "       LEASE NO. PLOTTED           GRANTEE   SALE DATE  \\\n",
       "0     TXNM096140      NO       R&R Royalty  1995/10/19   \n",
       "2     TXNM103231      NO       R&R Royalty  1999/05/13   \n",
       "4     TXNM091527      NO       R&R Royalty  1993/07/21   \n",
       "6     TXNM102849      NO       R&R Royalty  1999/04/21   \n",
       "8     TXNM103276      NO       R&R Royalty  1999/07/21   \n",
       "9     TXNM103277      NO       R&R Royalty  1999/07/21   \n",
       "10    TXNM103278      NO       R&R Royalty  1999/07/21   \n",
       "11    TXNM103285      NO       R&R Royalty  1999/07/21   \n",
       "12    TXNM103286      NO       R&R Royalty  1999/07/21   \n",
       "13    TXNM103287      NO       R&R Royalty  1999/07/21   \n",
       "14    TXNM103288      NO       R&R Royalty  1999/07/21   \n",
       "15    TXNM103292      NO       R&R Royalty  1999/07/21   \n",
       "16    TXNM103293      NO       R&R Royalty  1999/07/21   \n",
       "17    TXNM103296      NO       R&R Royalty  1999/07/21   \n",
       "18    TXNM103297      NO       R&R Royalty  1999/07/21   \n",
       "19    TXNM103301      NO       R&R Royalty  1999/07/21   \n",
       "20    TXNM103314      NO       R&R Royalty  1999/07/21   \n",
       "21    TXNM103315      NO       R&R Royalty  1999/07/21   \n",
       "22     ARES50476      NO       R&R Royalty  1999/09/23   \n",
       "23     LAES50481      NO       R&R Royalty  1999/09/23   \n",
       "24     MSES50483      NO       R&R Royalty  1999/09/23   \n",
       "26     LAES50520      NO       R&R Royalty  1999/12/16   \n",
       "27     MSES50524      NO       R&R Royalty  1999/12/16   \n",
       "28     MSES50526      NO       R&R Royalty  1999/12/16   \n",
       "32    MSES050634      NO       R&R Royalty  2000/03/23   \n",
       "33    MSES050635      NO       R&R Royalty  2000/03/23   \n",
       "34    MSES050636      NO       R&R Royalty  2000/03/23   \n",
       "35    MSES050637      NO       R&R Royalty  2000/03/23   \n",
       "36    MSES050642      NO       R&R Royalty  2000/03/23   \n",
       "37    MSES050646      NO       R&R Royalty  2000/03/23   \n",
       "...          ...     ...               ...         ...   \n",
       "2524   MTM110415     YES  Magnum Producing  2018/03/13   \n",
       "2525   MTM110416     YES  Magnum Producing  2018/03/13   \n",
       "2526   MTM110418     YES  Magnum Producing  2018/03/13   \n",
       "2527   MTM110420     YES  Magnum Producing  2018/03/13   \n",
       "2528   MTM110432     YES  Magnum Producing  2018/03/13   \n",
       "2531  ARES059276     YES  Magnum Producing  2018/06/21   \n",
       "2532  ARES059277     YES  Magnum Producing  2018/06/21   \n",
       "2533  ARES059278     YES  Magnum Producing  2018/06/21   \n",
       "2534  ARES059279     YES  Magnum Producing  2018/06/21   \n",
       "2535  ARES059280     YES  Magnum Producing  2018/06/21   \n",
       "2536  ARES059281     YES  Magnum Producing  2018/06/21   \n",
       "2537  ARES059282     YES  Magnum Producing  2018/06/21   \n",
       "2538  ARES059283     YES  Magnum Producing  2018/06/21   \n",
       "2539  ARES059285     YES  Magnum Producing  2018/06/21   \n",
       "2540  ARES059286     YES  Magnum Producing  2018/06/21   \n",
       "2541  ARES059287     YES  Magnum Producing  2018/06/21   \n",
       "2542  ARES059288     YES  Magnum Producing  2018/06/21   \n",
       "2543  ARES059289     YES  Magnum Producing  2018/06/21   \n",
       "2544  ARES059290     YES  Magnum Producing  2018/06/21   \n",
       "2545  ARES059291     YES  Magnum Producing  2018/06/21   \n",
       "2546  ARES059292     YES  Magnum Producing  2018/06/21   \n",
       "2547  ARES059293     YES  Magnum Producing  2018/06/21   \n",
       "2548  ARES059299     YES  Magnum Producing  2018/06/21   \n",
       "2551  NMNM138795     YES  Magnum Producing  2018/09/05   \n",
       "2552  NMNM138803     YES  Magnum Producing  2018/09/05   \n",
       "2553  NMNM138853     YES  Magnum Producing  2018/09/05   \n",
       "2554  NMNM138854     YES  Magnum Producing  2018/09/05   \n",
       "2555  NMNM138857     YES  Magnum Producing  2018/09/05   \n",
       "2556  NMNM138858     YES  Magnum Producing  2018/09/05   \n",
       "2557  NMNM138863     YES  Magnum Producing  2018/09/05   \n",
       "\n",
       "     EFFECTIVE DATE OF LEASE EXPIRATION DATE   ACRES                COUNTY  \\\n",
       "0                 1995/12/01      2005/12/01    None           MONTGOMERY    \n",
       "2                 1999/07/01      2009/07/01    None              HOUSTON    \n",
       "4                 1993/09/01      2003/09/01    None               KLEBERG   \n",
       "6                 1999/06/01      2009/06/01    None              KLEBERG    \n",
       "8                 1999/09/01      2009/09/01    None              HOUSTON    \n",
       "9                 1999/09/01      2009/09/01    None              HOUSTON    \n",
       "10                1999/09/01      2009/09/01    None               HOUSTON   \n",
       "11                1999/09/01      2009/09/01    None              HOUSTON    \n",
       "12                1999/09/01      2009/09/01    None              HOUSTON    \n",
       "13                1999/09/01      2009/09/01    None               HOUSTON   \n",
       "14                1999/09/01      2009/09/01    None               HOUSTON   \n",
       "15                1999/09/01      2009/09/01    None               SABINE    \n",
       "16                1999/09/01      2009/09/01    None               SABINE    \n",
       "17                1999/09/01      2009/09/01    None         SAN AUGUSTINE   \n",
       "18                1999/09/01      2009/09/01    None         SAN AUGUSTINE   \n",
       "19                1999/09/01      2009/09/01    None  SAN AUGUSTINE/SABINE   \n",
       "20                1999/09/01      2009/09/01    None              HOUSTON    \n",
       "21                1999/09/01      2009/09/01    None              HOUSTON    \n",
       "22                1999/11/01      2009/11/01    None             SEBASTIAN   \n",
       "23                1999/11/01      2009/11/01    None             CALCASIEU   \n",
       "24                1999/11/01      2009/11/01    None               FORREST   \n",
       "26                2000/02/01      2010/02/01  199.75               WEBSTER   \n",
       "27                2000/02/01      2010/02/01  433.54                 WAYNE   \n",
       "28                2000/02/01      2010/02/01    None             CHICKASAW   \n",
       "32                      None            None    None                  None   \n",
       "33                      None            None    None                  None   \n",
       "34                2000/04/01      2010/04/01   376.8                 ADAMS   \n",
       "35                      None            None    None                  None   \n",
       "36                2000/04/01      2010/04/01  152.11                 ADAMS   \n",
       "37                2000/04/01      2010/04/01   39.65                 WAYNE   \n",
       "...                      ...             ...     ...                   ...   \n",
       "2524              2018/05/01      2028/05/01     880                CARBON   \n",
       "2525              2018/05/01      2028/05/01    2000                CARBON   \n",
       "2526              2018/05/01      2028/05/01    2320                CARBON   \n",
       "2527              2018/05/01      2028/05/01     240              CHOUTEAU   \n",
       "2528              2018/05/01      2028/05/01     280               GLACIER   \n",
       "2531              2018/08/01      2028/08/01     205              CLEBURNE   \n",
       "2532              2018/08/01      2028/08/01     120              CLEBURNE   \n",
       "2533              2018/08/01      2028/08/01      40              CLEBURNE   \n",
       "2534              2018/08/01      2028/08/01      65             VAN BUREN   \n",
       "2535              2018/08/01      2028/08/01    39.8             VAN BUREN   \n",
       "2536              2018/08/01      2028/08/01      80             VAN BUREN   \n",
       "2537              2018/08/01      2028/08/01  364.38             VAN BUREN   \n",
       "2538              2018/08/01      2028/08/01  122.38             VAN BUREN   \n",
       "2539              2018/08/01      2028/08/01      40             VAN BUREN   \n",
       "2540              2018/08/01      2028/08/01    67.5             VAN BUREN   \n",
       "2541              2018/08/01      2028/08/01      40             VAN BUREN   \n",
       "2542              2018/08/01      2028/08/01      40             VAN BUREN   \n",
       "2543              2018/08/01      2028/08/01      80             VAN BUREN   \n",
       "2544              2018/08/01      2028/08/01     120             VAN BUREN   \n",
       "2545              2018/08/01      2028/08/01      80             VAN BUREN   \n",
       "2546              2018/08/01      2028/08/01      40             VAN BUREN   \n",
       "2547              2018/08/01      2028/08/01   86.03              CLEBURNE   \n",
       "2548              2018/08/01      2028/08/01   39.59             VAN BUREN   \n",
       "2551              2018/11/01      2028/11/01     640                CHAVES   \n",
       "2552              2018/11/01      2028/11/01      40                  EDDY   \n",
       "2553              2018/11/01      2028/11/01     400                CHAVES   \n",
       "2554              2018/11/01      2028/11/01  408.68                CHAVES   \n",
       "2555              2018/11/01      2028/11/01     600                CHAVES   \n",
       "2556              2018/11/01      2028/11/01     240                CHAVES   \n",
       "2557              2018/11/01      2028/11/01     480                  EDDY   \n",
       "\n",
       "      ST                                    STATUS/COMMENTS EXPIRATION YEAR  \\\n",
       "0     TX                                       Expired 2005            2005   \n",
       "2     TX            Expired 2009 - Bought from Dan Gonzales            2009   \n",
       "4     TX                        Expired 2003 | Bid Refunded            2003   \n",
       "6     TX                                       Expired 2009            2009   \n",
       "8     TX                               Expired 2009 -  sold            2009   \n",
       "9     TX                               Expired 2009 -  sold            2009   \n",
       "10    TX                               Expired 2009 -  sold            2009   \n",
       "11    TX                               Expired 2009 -  sold            2009   \n",
       "12    TX                               Expired 2009 -  sold            2009   \n",
       "13    TX                               Expired 2009 -  sold            2009   \n",
       "14    TX                               Expired 2009 -  sold            2009   \n",
       "15    TX                                       Expired 2009            2009   \n",
       "16    TX                                       Expired 2009            2009   \n",
       "17    TX                                       Expired 2009            2009   \n",
       "18    TX                                       Expired 2009            2009   \n",
       "19    TX                                       Expired 2009            2009   \n",
       "20    TX                               Expired 2009 -  sold            2009   \n",
       "21    TX                               Expired 2009 -  sold            2009   \n",
       "22    AR  Expired 2009 - May be part of 16,327.47 acre E...            2009   \n",
       "23    LA                                       Expired 2009            2009   \n",
       "24    MS                                       Expired 2009            2009   \n",
       "26    LA                                       Expired 2010            2010   \n",
       "27    MS    Expired 2010 - SUBLEASE TERMINATED O/A 11-14-02            2010   \n",
       "28    MS  HBP-Gibraltar pays Royalty - Shut-in payment s...            2010   \n",
       "32    MS                     Refunded 3-16-01. Bid Refunded            None   \n",
       "33    MS                     Refunded 7-10-00. Bid Refunded            None   \n",
       "34    MS                                       Expired 2010            2010   \n",
       "35    MS                              Bid Refunded 7-10-00             None   \n",
       "36    MS                                       Expired 2010            2010   \n",
       "37    MS                                       Expired 2010            2010   \n",
       "...   ..                                                ...             ...   \n",
       "2524  MT  NOTICE OF APPEAL WAS FILED BY WILDEARTH GUARDI...            2028   \n",
       "2525  MT  NOTICE OF APPEAL WAS FILED BY WILDEARTH GUARDI...            2028   \n",
       "2526  MT  NOTICE OF APPEAL WAS FILED BY WILDEARTH GUARDI...            2028   \n",
       "2527  MT  NOTICE OF APPEAL WAS FILED BY WILDEARTH GUARDI...            2028   \n",
       "2528  MT  NOTICE OF APPEAL WAS FILED BY WILDEARTH GUARDI...            2028   \n",
       "2531  AR                                               None            2028   \n",
       "2532  AR                                               None            2028   \n",
       "2533  AR                                               None            2028   \n",
       "2534  AR  HBP-LEASE COMMITTED TO CA(ARES 55803)-50% - US...            2028   \n",
       "2535  AR                                               None            2028   \n",
       "2536  AR                                               None            2028   \n",
       "2537  AR                                               None            2028   \n",
       "2538  AR                                               None            2028   \n",
       "2539  AR                                               None            2028   \n",
       "2540  AR                                               None            2028   \n",
       "2541  AR                                               None            2028   \n",
       "2542  AR                                               None            2028   \n",
       "2543  AR                                               None            2028   \n",
       "2544  AR                                               None            2028   \n",
       "2545  AR                                               None            2028   \n",
       "2546  AR                                               None            2028   \n",
       "2547  AR                                               None            2028   \n",
       "2548  AR                                               None            2028   \n",
       "2551  NM                                               None            2028   \n",
       "2552  NM                                               None            2028   \n",
       "2553  NM                                               None            2028   \n",
       "2554  NM                                               None            2028   \n",
       "2555  NM                                               None            2028   \n",
       "2556  NM                                               None            2028   \n",
       "2557  NM                                               None            2028   \n",
       "\n",
       "     TOWNSHIP RANGE                                      DESCRIPTION I  \\\n",
       "0        None  None                          ASSIGNMENT REC'D FROM DAN   \n",
       "2        None  None                            SAM HOUSTON NATL FOREST   \n",
       "4        None  None                                    KINGSVILLE NAS    \n",
       "6        None  None                               TEXAS A&M UNIVERSITY   \n",
       "8        None  None                          DAVY CROCKETT NATL FOREST   \n",
       "9        None  None                          DAVY CROCKETT NATL FOREST   \n",
       "10       None  None                          DAVY CROCKETT NATL FOREST   \n",
       "11       None  None                          DAVY CROCKETT NATL FOREST   \n",
       "12       None  None                          DAVY CROCKETT NATL FOREST   \n",
       "13       None  None                          DAVY CROCKETT NATL FOREST   \n",
       "14       None  None                          DAVY CROCKETT NATL FOREST   \n",
       "15       None  None                                 SABINE NATL FOREST   \n",
       "16       None  None                                 SABINE NATL FOREST   \n",
       "17       None  None                               ANGELINA NATL FOREST   \n",
       "18       None  None                               ANGELINA NATL FOREST   \n",
       "19       None  None                                 SABINE NATL FOREST   \n",
       "20       None  None                          DAVY CROCKETT NATL FOREST   \n",
       "21       None  None                          DAVY CROCKETT NATL FOREST   \n",
       "22       None  None                               OUICHATA NATL FOREST   \n",
       "23       None  None                                               NONE   \n",
       "24       None  None                                 DESOTO NATL FOREST   \n",
       "26       None  None                                               NONE   \n",
       "27       None  None                                               NONE   \n",
       "28       None  None                              TOMBIGBEE NATL FOREST   \n",
       "32       None  None                                               None   \n",
       "33       None  None                                               None   \n",
       "34       None  None                             HOMOCHITTO NATL FOREST   \n",
       "35       None  None                                               None   \n",
       "36       None  None                             HOMOCHITTO NATL FOREST   \n",
       "37       None  None                                 DESOTO NATL FOREST   \n",
       "...       ...   ...                                                ...   \n",
       "2524       7S   23E  T7S R23E Sec 13 W1/2SW1/4; Sec 14 SE1/4NE1/4, ...   \n",
       "2525       7S   23E  T7S R23E Sec 27, NE1/4SW1/4,SE1/4; Sec 31 W1/2...   \n",
       "2526       8S   23E  T8S R23E Sec 21 SW1/4SW1/4; Sec 27 NW1/4SW1/4,...   \n",
       "2527      27N    3E  T27N R3E Sec 7 NE1/4SE1/4, S1/2SE1/4; Sec 8 W1...   \n",
       "2528      37N    6W  T37N R6W Sec 26 SW1/4SE1/4; Sec 35 NE1/4, N1/2...   \n",
       "2531      12N   10W  T12N R10W SEC 9 N2SW N2NESWSW N2NWSESW N2NWSWS...   \n",
       "2532      12N   10W               T12N R10W SEC 15 NWSW SESW SWSE        \n",
       "2533      12N   12W                         T12N R12W SEC 23 NESE        \n",
       "2534       9N   12W  T9N R12W SEC21 S2SE that part lying southerly ...   \n",
       "2535      11N   14W                         T11N R14W SEC 2 NENW         \n",
       "2536      11N   14W                          T11N R14W SEC 4 W2SE        \n",
       "2537      11N   14W      T11N R14W Sec 6 S2NW S2NE NWNE N2NW W2SW        \n",
       "2538      11N   14W                    T11N R14W SEC 18 W2NW NESW        \n",
       "2539      11N   15W                         T11N R15W SEC 13 NENE        \n",
       "2540      11N   15W  T11N R15W SEC 20 SENW S2SWNW S2NWSWNW NWNWSWNW...   \n",
       "2541      11N   15W                         T11N R15W SEC 23 SWSE        \n",
       "2542      11N   15W                         T11N R15W SEC 24 NWNE        \n",
       "2543      11N   15W                         T11N R15W SEC 26 S2NW        \n",
       "2544      11N   15W                    T11N R15W SEC 29 SESW S2SE        \n",
       "2545      12N   15W                         T12N R15W SEC 15 W2NE        \n",
       "2546      12N   15W                         T12N R15W SEC 26 NWNW        \n",
       "2547       9N   11W                           T9N R11W SEC 6 N2NE        \n",
       "2548      11N   14W                          T11N R14W SEC 1 SWSW        \n",
       "2551      15S   22E                                    T15S R22E         \n",
       "2552      21S   23E                                     T21S R23E        \n",
       "2553      11S   31E                                    T11S R31E         \n",
       "2554      11S   31E                                         T11S R31E    \n",
       "2555      11S   31E                                         T11S R31E    \n",
       "2556      11S   31E                                    T11S R31E         \n",
       "2557      16S   31E                                    T16S R31E         \n",
       "\n",
       "                                         DESCRIPTION II  \\\n",
       "0                                TRACTS J22, J22A, J22B   \n",
       "2                             ASSIGNMENT REC'D FROM DAN   \n",
       "4                                    J MINDIOLOA SURVEY   \n",
       "6             LOTS 2-8, BLK 5, KING ADDITION-EX 47.75 A   \n",
       "8                                            TRACT K-1g   \n",
       "9                                  TRACT K-1h PARCEL #1   \n",
       "10                                           TRACT K-1i   \n",
       "11                                            TRACT K-6   \n",
       "12                                           TRACT K-18   \n",
       "13                                           TRACT K-31   \n",
       "14                                          TRACT K-119   \n",
       "15                                           TRACT S1Av   \n",
       "16                                          TRACT S-1Bb   \n",
       "17                                TRACT A-22a PARCEL #2   \n",
       "18                                          TRACT A-22d   \n",
       "19                                          TRACT S-1An   \n",
       "20                              TRACT K-1a-II PARCEL #1   \n",
       "21                              TRACT K-1a-II PARCEL #2   \n",
       "22                    T4N, R31W, 5TH PRINCIPAL MERIDIAN   \n",
       "23                       T8S, R10W,  LOUISIANA MERIDIAN   \n",
       "24                     T1S, R13W, ST. STEPHENS MERIDIAN   \n",
       "26                       T17N, R10W, LOUISIANA MERIDIAN   \n",
       "27                      T7N, R8W, ST, STEPHENS MERIDIAN   \n",
       "28                        T12S, R4E, CHICKASAW MERIDIAN   \n",
       "32                                                 None   \n",
       "33                                                 None   \n",
       "34                        T5N, R1W, WASHINGTON MERIDIAN   \n",
       "35                                                 None   \n",
       "36                        T5N, R1W, WASHINGTON MERIDIAN   \n",
       "37                      T6N, R7W, ST, STEPHENS MERIDIAN   \n",
       "...                                                 ...   \n",
       "2524                                               None   \n",
       "2525                                               None   \n",
       "2526  Sec 32 ALL; Sec 33 NE1/4, NE1/4NW1/4, S1/2SW1/...   \n",
       "2527                                               None   \n",
       "2528                                               None   \n",
       "2531                                               None   \n",
       "2532                                               None   \n",
       "2533                                               None   \n",
       "2534                                               None   \n",
       "2535                                               None   \n",
       "2536                                               None   \n",
       "2537                                               None   \n",
       "2538                                               None   \n",
       "2539                                               None   \n",
       "2540                                               None   \n",
       "2541                                               None   \n",
       "2542                                               None   \n",
       "2543                                               None   \n",
       "2544                                               None   \n",
       "2545                                               None   \n",
       "2546                                               None   \n",
       "2547                                               None   \n",
       "2548                                               None   \n",
       "2551                                         SEC 15 ALL   \n",
       "2552                                       SEC 20 SESE    \n",
       "2553                               SEC 4 S2SE; SEC 9 N2   \n",
       "2554                 SEC 5 LOTS 1,2,3,4; SEC 5 S2;        \n",
       "2555                     SEC 17 N2, SW, N2SE, SWSE        \n",
       "2556                                    SEC 34 NW, N2SW   \n",
       "2557                        SEC 26 N2NE, SWNE, W2, NWSE   \n",
       "\n",
       "                                        DESCRIPTION III       PARCEL NO  \\\n",
       "0                                                  None            None   \n",
       "2                                                  None            None   \n",
       "4                          LOTS & TRACTS IN SEC 23 & 30            None   \n",
       "6                                                  None         9904002   \n",
       "8                                                  None         9907041   \n",
       "9                                 SEE EXHIBIT K FOR M&B         9907042   \n",
       "10                                                 None         9907043   \n",
       "11                                                 None         9907052   \n",
       "12                                                 None         9907053   \n",
       "13                                                 None         9907055   \n",
       "14                                                 None         9907056   \n",
       "15                                                 None         9907061   \n",
       "16                                SEE EXHIBIT L FOR M&B         9907062   \n",
       "17                                                 None         9907072   \n",
       "18                                                 None         9907073   \n",
       "19                                                 None         9907081   \n",
       "20                                SEE EXHIBIT G FOR M&B         9907035   \n",
       "21                                SEE EXHIBIT H FOR M&B         9907036   \n",
       "22                                         SEC 32, SWNW     ES-09/99 48   \n",
       "23                                          SEC 1, SWNE     ES-09/99 53   \n",
       "24                                               SEC 25     ES-09/99 55   \n",
       "26                             SEC 20, SENE, N2SW, N2SE     ES-12/99 03   \n",
       "27                                SEC 4, SWNE, W2, W2SE     ES-12/99 07   \n",
       "28    SEC 5, SW, E20ac OF SESE, 7ac IN SE  CORNER OF...     ES-12/99 09   \n",
       "32                                                 None            None   \n",
       "33                                                 None            None   \n",
       "34                                           SEC 6, ALL     ES-03/00 31   \n",
       "35                                                 None            None   \n",
       "36                                SEC 21, LOTS 5 THRU 8     ES-03/00 37   \n",
       "37                                         SEC 30, SWSW     ES-03/00 41   \n",
       "...                                                 ...             ...   \n",
       "2524                                               None            None   \n",
       "2525                                               None            None   \n",
       "2526                                               None            None   \n",
       "2527                                               None            None   \n",
       "2528                                               None            None   \n",
       "2531                                               None  ES-008-06/2018   \n",
       "2532                                               None  ES-009-06/2018   \n",
       "2533                                               None  ES-010-06/2018   \n",
       "2534                                               None  ES-011-06/2018   \n",
       "2535                                               None  ES-013-06/2018   \n",
       "2536                                               None  ES-014-06/2018   \n",
       "2537                                               None  ES-015-06/2018   \n",
       "2538                                               None  ES-016-06/2018   \n",
       "2539                                               None  ES-018-06/2018   \n",
       "2540                                               None  ES-019-06/2018   \n",
       "2541                                               None  ES-020-06/2018   \n",
       "2542                                               None  ES-021-06/2018   \n",
       "2543                                               None  ES-022-06/2018   \n",
       "2544                                               None  ES-023-06/2018   \n",
       "2545                                               None  ES-024-06/2018   \n",
       "2546                                               None  ES-025-06/2018   \n",
       "2547                                               None  ES-026-06/2018   \n",
       "2548                                               None  ES-012-06/2018   \n",
       "2551                                               None   NM-201809-001   \n",
       "2552                                               None   NM-201809-009   \n",
       "2553                                               None   NM-201809-059   \n",
       "2554                                               None   NM-201809-060   \n",
       "2555                                               None   NM-201809-063   \n",
       "2556                                               None   NM-201809-064   \n",
       "2557                                               None   NM-201809-069   \n",
       "\n",
       "     DUE AT SALE DUE AFTER SALE (REFUNDED) TOTAL  PAID AMOUNT OF RENTAL  \\\n",
       "0           None                     790.5       790.5             None   \n",
       "2           None                    1253.5      1253.5             None   \n",
       "4           None                      4200        4200             None   \n",
       "6        42612.5                         0     42612.5             None   \n",
       "8         1744.5                         0      1744.5             None   \n",
       "9         1436.5                         0      1436.5             None   \n",
       "10          2265                         0        2265             None   \n",
       "11           565                         0         565             None   \n",
       "12         162.5                         0       162.5             None   \n",
       "13           585                         0         585             None   \n",
       "14         204.5                         0       204.5             None   \n",
       "15        3004.5                         0      3004.5             None   \n",
       "16          4457                         0        4457             None   \n",
       "17         603.5                         0       603.5             None   \n",
       "18         911.5                         0       911.5             None   \n",
       "19        3774.5                         0      3774.5             None   \n",
       "20        3898.5                         0      3898.5             None   \n",
       "21        3871.5                         0      3871.5             None   \n",
       "22           215                      1720        1935             None   \n",
       "23           222                     15666       15888             None   \n",
       "24         638.5                     11753     12391.5             None   \n",
       "26           775                     54600       55375              400   \n",
       "27          1594                     42532       44126              868   \n",
       "28          1664                      6356        8020             None   \n",
       "32         298.5                    -223.5          75             None   \n",
       "33         745.5                    -670.5          75             None   \n",
       "34         640.5                         0       640.5              754   \n",
       "35         586.5                    -511.5          75             None   \n",
       "36         304.5                         0       304.5              306   \n",
       "37         13135                         0       13135               80   \n",
       "...          ...                       ...         ...              ...   \n",
       "2524        3240                         0        3240             1320   \n",
       "2525        7160                         0        7160             3000   \n",
       "2526        8280                         0        8280             3480   \n",
       "2527        1000                         0        1000              360   \n",
       "2528        1140                      8680        9820              420   \n",
       "2531       877.5                         0       877.5            307.5   \n",
       "2532         580                         0         580              180   \n",
       "2533         300                         0         300               60   \n",
       "2534       387.5                         0       387.5             97.5   \n",
       "2535         300                         0         300               60   \n",
       "2536         440                         0         440              120   \n",
       "2537      1437.5                      2555      3992.5            547.5   \n",
       "2538       590.5                         0       590.5            184.5   \n",
       "2539         300                         0         300               60   \n",
       "2540         398                         0         398              102   \n",
       "2541         300                         0         300               60   \n",
       "2542         300                         0         300               60   \n",
       "2543         440                         0         440              120   \n",
       "2544        1300                         0        1300              180   \n",
       "2545         440                         0         440              120   \n",
       "2546         300                         0         300               60   \n",
       "2547       464.5                         0       464.5            130.5   \n",
       "2548         300                         0         300               60   \n",
       "2551        2400                      4480        6880              960   \n",
       "2552         300                      2960        3260               60   \n",
       "2553        1560                     60400       61960              600   \n",
       "2554      1591.5                     15951     17542.5            613.5   \n",
       "2555        2260                     32400       34660              900   \n",
       "2556        1000                     23760       24760              360   \n",
       "2557        1840                     73920       75760              720   \n",
       "\n",
       "     YEARS RENEWED  RENTALS PAID UP TO DATE  \\\n",
       "0               10               1970/01/01   \n",
       "2               10               1970/01/01   \n",
       "4               10               1970/01/01   \n",
       "6               10               1970/01/01   \n",
       "8               10               1970/01/01   \n",
       "9               10               1970/01/01   \n",
       "10              10               1970/01/01   \n",
       "11              10               1970/01/01   \n",
       "12              10               1970/01/01   \n",
       "13              10               1970/01/01   \n",
       "14              10               1970/01/01   \n",
       "15              10               1970/01/01   \n",
       "16              10               1970/01/01   \n",
       "17              10               1970/01/01   \n",
       "18              10               1970/01/01   \n",
       "19              10               1970/01/01   \n",
       "20              10               1970/01/01   \n",
       "21              10               1970/01/01   \n",
       "22              10               1970/01/01   \n",
       "23              10               1970/01/01   \n",
       "24              10               1970/01/01   \n",
       "26              10               1970/01/01   \n",
       "27              10               1970/01/01   \n",
       "28              10               1970/01/01   \n",
       "32            None                     None   \n",
       "33            None                     None   \n",
       "34              10               1970/01/01   \n",
       "35            None                     None   \n",
       "36              10               1970/01/01   \n",
       "37              10               1970/01/01   \n",
       "...            ...                      ...   \n",
       "2524             4               1970/01/01   \n",
       "2525             4               1970/01/01   \n",
       "2526             4               1970/01/01   \n",
       "2527             4               1970/01/01   \n",
       "2528             4               1970/01/01   \n",
       "2531             4               1970/01/01   \n",
       "2532             4               1970/01/01   \n",
       "2533             4               1970/01/01   \n",
       "2534             4               1970/01/01   \n",
       "2535             4               1970/01/01   \n",
       "2536             4               1970/01/01   \n",
       "2537             4               1970/01/01   \n",
       "2538             4               1970/01/01   \n",
       "2539             4               1970/01/01   \n",
       "2540             4               1970/01/01   \n",
       "2541             4               1970/01/01   \n",
       "2542             4               1970/01/01   \n",
       "2543             4               1970/01/01   \n",
       "2544             4               1970/01/01   \n",
       "2545             4               1970/01/01   \n",
       "2546             4               1970/01/01   \n",
       "2547             4               1970/01/01   \n",
       "2548             4               1970/01/01   \n",
       "2551             4               1970/01/01   \n",
       "2552             4               1970/01/01   \n",
       "2553             4               1970/01/01   \n",
       "2554             4               1970/01/01   \n",
       "2555             4               1970/01/01   \n",
       "2556             4               1970/01/01   \n",
       "2557             4               1970/01/01   \n",
       "\n",
       "     TOTAL INVESTMENT (BONUS + RENTALS) Estimated Bonus $/Acre  UA %   RA%  \\\n",
       "0                                 790.5                      0        None   \n",
       "2                                1253.5                      0   0.5  None   \n",
       "4                                  4200                      0   0.5  None   \n",
       "6                               42612.5                      0   0.5  None   \n",
       "8                                1744.5                      0   0.5  None   \n",
       "9                                1436.5                      0   0.5  None   \n",
       "10                                 2265                      0   0.5  None   \n",
       "11                                  565                      0   0.5  None   \n",
       "12                                162.5                      0   0.5  None   \n",
       "13                                  585                      0   0.5  None   \n",
       "14                                204.5                      0   0.5  None   \n",
       "15                               3004.5                      0   0.5  None   \n",
       "16                                 4457                      0   0.5  None   \n",
       "17                                603.5                      0   0.5  None   \n",
       "18                                911.5                      0   0.5  None   \n",
       "19                               3774.5                      0   0.5  None   \n",
       "20                               3898.5                      0   0.5  None   \n",
       "21                               3871.5                      0   0.5  None   \n",
       "22                                 1935                      0   0.5  None   \n",
       "23                                15888                      0   0.5  None   \n",
       "24                              12391.5                      0   0.5  None   \n",
       "26                                58575                276.875   0.5  None   \n",
       "27                                51070                101.673   0.5  None   \n",
       "28                                 8020                      0   0.5  None   \n",
       "32                                 None                      0  None  None   \n",
       "33                                 None                      0  None  None   \n",
       "34                               6672.5                1.69894   0.5  None   \n",
       "35                                 None                      0  None  None   \n",
       "36                               2752.5                2.00329   0.5  None   \n",
       "37                                13775                328.375   0.5  None   \n",
       "...                                 ...                    ...   ...   ...   \n",
       "2524                               7200                3.68182  None   0.1   \n",
       "2525                              16160                   3.58  None   0.1   \n",
       "2526                              18720                3.56897  None   0.1   \n",
       "2527                               2080                4.16667  None   0.1   \n",
       "2528                              11080                35.0714  None   0.1   \n",
       "2531                               1800                4.28049  None   0.1   \n",
       "2532                               1120                4.83333  None   0.1   \n",
       "2533                                480                    7.5  None   0.1   \n",
       "2534                                680                5.96154  None   0.1   \n",
       "2535                                480                    7.5  None   0.1   \n",
       "2536                                800                    5.5  None   0.1   \n",
       "2537                               5635                10.9684  None   0.1   \n",
       "2538                               1144                4.84016  None   0.1   \n",
       "2539                                480                    7.5  None   0.1   \n",
       "2540                                704                5.85294  None   0.1   \n",
       "2541                                480                    7.5  None   0.1   \n",
       "2542                                480                    7.5  None   0.1   \n",
       "2543                                800                    5.5  None   0.1   \n",
       "2544                               1840                10.8333  None   0.1   \n",
       "2545                                800                    5.5  None   0.1   \n",
       "2546                                480                    7.5  None   0.1   \n",
       "2547                                856                5.40116  None   0.1   \n",
       "2548                                480                    7.5  None   0.1   \n",
       "2551                               9760                  10.75  None   0.1   \n",
       "2552                               3440                   81.5  None   0.1   \n",
       "2553                              63760                  154.9  None   0.1   \n",
       "2554                              19383                42.8912  None   0.1   \n",
       "2555                              37360                57.7667  None   0.1   \n",
       "2556                              25840                103.167  None   0.1   \n",
       "2557                              77920                157.833  None   0.1   \n",
       "\n",
       "       KA%                              RECORDED LEASE    \\\n",
       "0     None                                          None   \n",
       "2     None                                          None   \n",
       "4     None                                          None   \n",
       "6     None                                          None   \n",
       "8     None                                          None   \n",
       "9     None                                          None   \n",
       "10    None                                          None   \n",
       "11    None                                          None   \n",
       "12    None                                          None   \n",
       "13    None                                          None   \n",
       "14    None                                          None   \n",
       "15    None                                          None   \n",
       "16    None                                          None   \n",
       "17    None                                          None   \n",
       "18    None                                          None   \n",
       "19    None                                          None   \n",
       "20    None                                          None   \n",
       "21    None                                          None   \n",
       "22    None                                          None   \n",
       "23    None                                          None   \n",
       "24    None                                          None   \n",
       "26    None                                          None   \n",
       "27    None                                          None   \n",
       "28    None                                          None   \n",
       "32    None                                          None   \n",
       "33    None                                          None   \n",
       "34    None                                          None   \n",
       "35    None                                          None   \n",
       "36    None                                          None   \n",
       "37    None                                          None   \n",
       "...    ...                                           ...   \n",
       "2524   0.1                           Instrument # 377696   \n",
       "2525   0.1                           Instrument # 377696   \n",
       "2526   0.1                           Instrument # 377696   \n",
       "2527   0.1                         Doc #475388; Pages #3   \n",
       "2528   0.1        Doc # 284058; Book # 59 OG; Page # 405   \n",
       "2531   0.1                        Instrument # 201904281   \n",
       "2532   0.1                        Instrument # 201904281   \n",
       "2533   0.1                        Instrument # 201904281   \n",
       "2534   0.1                     Book # 2019; Pages # 2761   \n",
       "2535   0.1                     Book # 2019; Pages # 2761   \n",
       "2536   0.1                     Book # 2019; Pages # 2761   \n",
       "2537   0.1                     Book # 2019; Pages # 2761   \n",
       "2538   0.1                     Book # 2019; Pages # 2761   \n",
       "2539   0.1                     Book # 2019; Pages # 2761   \n",
       "2540   0.1                     Book # 2019; Pages # 2761   \n",
       "2541   0.1                     Book # 2019; Pages # 2761   \n",
       "2542   0.1                     Book # 2019; Pages # 2761   \n",
       "2543   0.1                     Book # 2019; Pages # 2761   \n",
       "2544   0.1                     Book # 2019; Pages # 2761   \n",
       "2545   0.1                     Book # 2019; Pages # 2761   \n",
       "2546   0.1                     Book # 2019; Pages # 2761   \n",
       "2547   0.1                     Doc# 201904281; Pages# 3;   \n",
       "2548   0.1                     Book # 2019; Pages # 2761   \n",
       "2551   0.1  Receipt # 423395; Book # 828; Page # 386 (3)   \n",
       "2552   0.1     Doc # 1910055; Book # 1126; Page 179 (3);   \n",
       "2553   0.1  Receipt # 423395; Book # 828; Page # 386 (3)   \n",
       "2554   0.1  Receipt # 423395; Book # 828; Page # 386 (3)   \n",
       "2555   0.1  Receipt # 423395; Book # 828; Page # 386 (3)   \n",
       "2556   0.1  Receipt # 423395; Book # 828; Page # 386 (3)   \n",
       "2557   0.1     Doc # 1910055; Book # 1126; Page 179 (3);   \n",
       "\n",
       "     DATE FILED (OVERRIDE) % OF OVERRIDES  \\\n",
       "0                     None           None   \n",
       "2                     None           None   \n",
       "4                     None           None   \n",
       "6                     None           None   \n",
       "8                     None           None   \n",
       "9                     None           None   \n",
       "10                    None           None   \n",
       "11                    None           None   \n",
       "12                    None           None   \n",
       "13                    None           None   \n",
       "14                    None           None   \n",
       "15                    None           None   \n",
       "16                    None           None   \n",
       "17                    None           None   \n",
       "18                    None           None   \n",
       "19                    None           None   \n",
       "20                    None           None   \n",
       "21                    None           None   \n",
       "22                    None           None   \n",
       "23                    None           None   \n",
       "24                    None           None   \n",
       "26                    None           None   \n",
       "27                    None           None   \n",
       "28                    None           None   \n",
       "32                    None           None   \n",
       "33                    None           None   \n",
       "34                    None           None   \n",
       "35                    None           None   \n",
       "36                    None           None   \n",
       "37                    None           None   \n",
       "...                    ...            ...   \n",
       "2524   2020-03-12 00:00:00           0.25   \n",
       "2525   2020-03-12 00:00:00           0.25   \n",
       "2526   2020-03-12 00:00:00           0.25   \n",
       "2527   2020-03-27 00:00:00           0.25   \n",
       "2528   2020-03-27 00:00:00           0.25   \n",
       "2531                  None           None   \n",
       "2532                  None           None   \n",
       "2533                  None           None   \n",
       "2534                  None           None   \n",
       "2535                  None           None   \n",
       "2536                  None           None   \n",
       "2537                  None           None   \n",
       "2538                  None           None   \n",
       "2539                  None           None   \n",
       "2540                  None           None   \n",
       "2541                  None           None   \n",
       "2542                  None           None   \n",
       "2543                  None           None   \n",
       "2544                  None           None   \n",
       "2545                  None           None   \n",
       "2546                  None           None   \n",
       "2547                  None           None   \n",
       "2548                  None           None   \n",
       "2551   2020-01-15 00:00:00           0.25   \n",
       "2552   2020-01-13 00:00:00           0.25   \n",
       "2553   2020-01-15 00:00:00           0.25   \n",
       "2554   2020-01-15 00:00:00           0.25   \n",
       "2555   2020-01-15 00:00:00           0.25   \n",
       "2556   2020-01-15 00:00:00           0.25   \n",
       "2557   2020-01-13 00:00:00           0.25   \n",
       "\n",
       "                                 Assignment of ORRI  \n",
       "0                                              None  \n",
       "2                                              None  \n",
       "4                                              None  \n",
       "6                                              None  \n",
       "8                                              None  \n",
       "9                                              None  \n",
       "10                                             None  \n",
       "11                                             None  \n",
       "12                                             None  \n",
       "13                                             None  \n",
       "14                                             None  \n",
       "15                                             None  \n",
       "16                                             None  \n",
       "17                                             None  \n",
       "18                                             None  \n",
       "19                                             None  \n",
       "20                                             None  \n",
       "21                                             None  \n",
       "22                                             None  \n",
       "23                                             None  \n",
       "24                                             None  \n",
       "26                                             None  \n",
       "27                                             None  \n",
       "28                                             None  \n",
       "32                                             None  \n",
       "33                                             None  \n",
       "34                                             None  \n",
       "35                                             None  \n",
       "36                                             None  \n",
       "37                                             None  \n",
       "...                                             ...  \n",
       "2524                           Instrument # 380538;  \n",
       "2525                           Instrument # 380538;  \n",
       "2526                           Instrument # 380538;  \n",
       "2527                                   Doc # 476830  \n",
       "2528            Doc # 285048; Book # 23; Page # 97;  \n",
       "2531                                           None  \n",
       "2532                                           None  \n",
       "2533                                           None  \n",
       "2534                                           None  \n",
       "2535                                           None  \n",
       "2536                                           None  \n",
       "2537                                           None  \n",
       "2538                                           None  \n",
       "2539                                           None  \n",
       "2540                                           None  \n",
       "2541                                           None  \n",
       "2542                                           None  \n",
       "2543                                           None  \n",
       "2544                                           None  \n",
       "2545                                           None  \n",
       "2546                                           None  \n",
       "2547                                           None  \n",
       "2548                                           None  \n",
       "2551             Instrument # 202000364; Pages 1-5;  \n",
       "2552  Reception: 2000652; Book # 1132; Page # 0393;  \n",
       "2553             Instrument # 202000364; Pages 1-5;  \n",
       "2554             Instrument # 202000364; Pages 1-5;  \n",
       "2555             Instrument # 202000364; Pages 1-5;  \n",
       "2556             Instrument # 202000364; Pages 1-5;  \n",
       "2557  Reception: 2000652; Book # 1132; Page # 0393;  \n",
       "\n",
       "[2175 rows x 32 columns]"
      ]
     },
     "execution_count": 99,
     "metadata": {},
     "output_type": "execute_result"
    }
   ],
   "source": [
    "cleanData"
   ]
  },
  {
   "cell_type": "code",
   "execution_count": 100,
   "metadata": {
    "scrolled": false
   },
   "outputs": [
    {
     "data": {
      "text/html": [
       "<div>\n",
       "<style scoped>\n",
       "    .dataframe tbody tr th:only-of-type {\n",
       "        vertical-align: middle;\n",
       "    }\n",
       "\n",
       "    .dataframe tbody tr th {\n",
       "        vertical-align: top;\n",
       "    }\n",
       "\n",
       "    .dataframe thead th {\n",
       "        text-align: right;\n",
       "    }\n",
       "</style>\n",
       "<table border=\"1\" class=\"dataframe\">\n",
       "  <thead>\n",
       "    <tr style=\"text-align: right;\">\n",
       "      <th></th>\n",
       "      <th>LEASE NO.</th>\n",
       "      <th>PLOTTED</th>\n",
       "      <th>GRANTEE</th>\n",
       "      <th>SALE DATE</th>\n",
       "      <th>EFFECTIVE DATE OF LEASE</th>\n",
       "      <th>EXPIRATION DATE</th>\n",
       "      <th>ACRES</th>\n",
       "      <th>COUNTY</th>\n",
       "      <th>ST</th>\n",
       "      <th>STATUS/COMMENTS</th>\n",
       "      <th>EXPIRATION YEAR</th>\n",
       "      <th>TOWNSHIP</th>\n",
       "      <th>RANGE</th>\n",
       "      <th>DESCRIPTION I</th>\n",
       "      <th>DESCRIPTION II</th>\n",
       "      <th>DESCRIPTION III</th>\n",
       "      <th>PARCEL NO</th>\n",
       "      <th>DUE AT SALE</th>\n",
       "      <th>DUE AFTER SALE (REFUNDED)</th>\n",
       "      <th>TOTAL  PAID</th>\n",
       "      <th>AMOUNT OF RENTAL</th>\n",
       "      <th>YEARS RENEWED</th>\n",
       "      <th>RENTALS PAID UP TO DATE</th>\n",
       "      <th>TOTAL INVESTMENT (BONUS + RENTALS)</th>\n",
       "      <th>Estimated Bonus $/Acre</th>\n",
       "      <th>UA %</th>\n",
       "      <th>RA%</th>\n",
       "      <th>KA%</th>\n",
       "      <th>RECORDED LEASE</th>\n",
       "      <th>DATE FILED (OVERRIDE)</th>\n",
       "      <th>% OF OVERRIDES</th>\n",
       "      <th>Assignment of ORRI</th>\n",
       "    </tr>\n",
       "  </thead>\n",
       "  <tbody>\n",
       "    <tr>\n",
       "      <th>0</th>\n",
       "      <td>TXNM096140</td>\n",
       "      <td>NO</td>\n",
       "      <td>R&amp;R Royalty</td>\n",
       "      <td>1995/10/19</td>\n",
       "      <td>1995/12/01</td>\n",
       "      <td>2005/12/01</td>\n",
       "      <td>None</td>\n",
       "      <td>MONTGOMERY</td>\n",
       "      <td>TX</td>\n",
       "      <td>Expired 2005</td>\n",
       "      <td>2005</td>\n",
       "      <td>None</td>\n",
       "      <td>None</td>\n",
       "      <td>ASSIGNMENT REC'D FROM DAN</td>\n",
       "      <td>TRACTS J22, J22A, J22B</td>\n",
       "      <td>None</td>\n",
       "      <td>None</td>\n",
       "      <td>None</td>\n",
       "      <td>790.5</td>\n",
       "      <td>790.5</td>\n",
       "      <td>None</td>\n",
       "      <td>10</td>\n",
       "      <td>1970/01/01</td>\n",
       "      <td>790.5</td>\n",
       "      <td>0</td>\n",
       "      <td></td>\n",
       "      <td>None</td>\n",
       "      <td>None</td>\n",
       "      <td>None</td>\n",
       "      <td>None</td>\n",
       "      <td>None</td>\n",
       "      <td>None</td>\n",
       "    </tr>\n",
       "    <tr>\n",
       "      <th>2</th>\n",
       "      <td>TXNM103231</td>\n",
       "      <td>NO</td>\n",
       "      <td>R&amp;R Royalty</td>\n",
       "      <td>1999/05/13</td>\n",
       "      <td>1999/07/01</td>\n",
       "      <td>2009/07/01</td>\n",
       "      <td>None</td>\n",
       "      <td>HOUSTON</td>\n",
       "      <td>TX</td>\n",
       "      <td>Expired 2009 - Bought from Dan Gonzales</td>\n",
       "      <td>2009</td>\n",
       "      <td>None</td>\n",
       "      <td>None</td>\n",
       "      <td>SAM HOUSTON NATL FOREST</td>\n",
       "      <td>ASSIGNMENT REC'D FROM DAN</td>\n",
       "      <td>None</td>\n",
       "      <td>None</td>\n",
       "      <td>None</td>\n",
       "      <td>1253.5</td>\n",
       "      <td>1253.5</td>\n",
       "      <td>None</td>\n",
       "      <td>10</td>\n",
       "      <td>1970/01/01</td>\n",
       "      <td>1253.5</td>\n",
       "      <td>0</td>\n",
       "      <td>0.5</td>\n",
       "      <td>None</td>\n",
       "      <td>None</td>\n",
       "      <td>None</td>\n",
       "      <td>None</td>\n",
       "      <td>None</td>\n",
       "      <td>None</td>\n",
       "    </tr>\n",
       "    <tr>\n",
       "      <th>4</th>\n",
       "      <td>TXNM091527</td>\n",
       "      <td>NO</td>\n",
       "      <td>R&amp;R Royalty</td>\n",
       "      <td>1993/07/21</td>\n",
       "      <td>1993/09/01</td>\n",
       "      <td>2003/09/01</td>\n",
       "      <td>None</td>\n",
       "      <td>KLEBERG</td>\n",
       "      <td>TX</td>\n",
       "      <td>Expired 2003 | Bid Refunded</td>\n",
       "      <td>2003</td>\n",
       "      <td>None</td>\n",
       "      <td>None</td>\n",
       "      <td>KINGSVILLE NAS</td>\n",
       "      <td>J MINDIOLOA SURVEY</td>\n",
       "      <td>LOTS &amp; TRACTS IN SEC 23 &amp; 30</td>\n",
       "      <td>None</td>\n",
       "      <td>None</td>\n",
       "      <td>4200</td>\n",
       "      <td>4200</td>\n",
       "      <td>None</td>\n",
       "      <td>10</td>\n",
       "      <td>1970/01/01</td>\n",
       "      <td>4200</td>\n",
       "      <td>0</td>\n",
       "      <td>0.5</td>\n",
       "      <td>None</td>\n",
       "      <td>None</td>\n",
       "      <td>None</td>\n",
       "      <td>None</td>\n",
       "      <td>None</td>\n",
       "      <td>None</td>\n",
       "    </tr>\n",
       "    <tr>\n",
       "      <th>6</th>\n",
       "      <td>TXNM102849</td>\n",
       "      <td>NO</td>\n",
       "      <td>R&amp;R Royalty</td>\n",
       "      <td>1999/04/21</td>\n",
       "      <td>1999/06/01</td>\n",
       "      <td>2009/06/01</td>\n",
       "      <td>None</td>\n",
       "      <td>KLEBERG</td>\n",
       "      <td>TX</td>\n",
       "      <td>Expired 2009</td>\n",
       "      <td>2009</td>\n",
       "      <td>None</td>\n",
       "      <td>None</td>\n",
       "      <td>TEXAS A&amp;M UNIVERSITY</td>\n",
       "      <td>LOTS 2-8, BLK 5, KING ADDITION-EX 47.75 A</td>\n",
       "      <td>None</td>\n",
       "      <td>9904002</td>\n",
       "      <td>42612.5</td>\n",
       "      <td>0</td>\n",
       "      <td>42612.5</td>\n",
       "      <td>None</td>\n",
       "      <td>10</td>\n",
       "      <td>1970/01/01</td>\n",
       "      <td>42612.5</td>\n",
       "      <td>0</td>\n",
       "      <td>0.5</td>\n",
       "      <td>None</td>\n",
       "      <td>None</td>\n",
       "      <td>None</td>\n",
       "      <td>None</td>\n",
       "      <td>None</td>\n",
       "      <td>None</td>\n",
       "    </tr>\n",
       "    <tr>\n",
       "      <th>8</th>\n",
       "      <td>TXNM103276</td>\n",
       "      <td>NO</td>\n",
       "      <td>R&amp;R Royalty</td>\n",
       "      <td>1999/07/21</td>\n",
       "      <td>1999/09/01</td>\n",
       "      <td>2009/09/01</td>\n",
       "      <td>None</td>\n",
       "      <td>HOUSTON</td>\n",
       "      <td>TX</td>\n",
       "      <td>Expired 2009 -  sold</td>\n",
       "      <td>2009</td>\n",
       "      <td>None</td>\n",
       "      <td>None</td>\n",
       "      <td>DAVY CROCKETT NATL FOREST</td>\n",
       "      <td>TRACT K-1g</td>\n",
       "      <td>None</td>\n",
       "      <td>9907041</td>\n",
       "      <td>1744.5</td>\n",
       "      <td>0</td>\n",
       "      <td>1744.5</td>\n",
       "      <td>None</td>\n",
       "      <td>10</td>\n",
       "      <td>1970/01/01</td>\n",
       "      <td>1744.5</td>\n",
       "      <td>0</td>\n",
       "      <td>0.5</td>\n",
       "      <td>None</td>\n",
       "      <td>None</td>\n",
       "      <td>None</td>\n",
       "      <td>None</td>\n",
       "      <td>None</td>\n",
       "      <td>None</td>\n",
       "    </tr>\n",
       "    <tr>\n",
       "      <th>9</th>\n",
       "      <td>TXNM103277</td>\n",
       "      <td>NO</td>\n",
       "      <td>R&amp;R Royalty</td>\n",
       "      <td>1999/07/21</td>\n",
       "      <td>1999/09/01</td>\n",
       "      <td>2009/09/01</td>\n",
       "      <td>None</td>\n",
       "      <td>HOUSTON</td>\n",
       "      <td>TX</td>\n",
       "      <td>Expired 2009 -  sold</td>\n",
       "      <td>2009</td>\n",
       "      <td>None</td>\n",
       "      <td>None</td>\n",
       "      <td>DAVY CROCKETT NATL FOREST</td>\n",
       "      <td>TRACT K-1h PARCEL #1</td>\n",
       "      <td>SEE EXHIBIT K FOR M&amp;B</td>\n",
       "      <td>9907042</td>\n",
       "      <td>1436.5</td>\n",
       "      <td>0</td>\n",
       "      <td>1436.5</td>\n",
       "      <td>None</td>\n",
       "      <td>10</td>\n",
       "      <td>1970/01/01</td>\n",
       "      <td>1436.5</td>\n",
       "      <td>0</td>\n",
       "      <td>0.5</td>\n",
       "      <td>None</td>\n",
       "      <td>None</td>\n",
       "      <td>None</td>\n",
       "      <td>None</td>\n",
       "      <td>None</td>\n",
       "      <td>None</td>\n",
       "    </tr>\n",
       "    <tr>\n",
       "      <th>10</th>\n",
       "      <td>TXNM103278</td>\n",
       "      <td>NO</td>\n",
       "      <td>R&amp;R Royalty</td>\n",
       "      <td>1999/07/21</td>\n",
       "      <td>1999/09/01</td>\n",
       "      <td>2009/09/01</td>\n",
       "      <td>None</td>\n",
       "      <td>HOUSTON</td>\n",
       "      <td>TX</td>\n",
       "      <td>Expired 2009 -  sold</td>\n",
       "      <td>2009</td>\n",
       "      <td>None</td>\n",
       "      <td>None</td>\n",
       "      <td>DAVY CROCKETT NATL FOREST</td>\n",
       "      <td>TRACT K-1i</td>\n",
       "      <td>None</td>\n",
       "      <td>9907043</td>\n",
       "      <td>2265</td>\n",
       "      <td>0</td>\n",
       "      <td>2265</td>\n",
       "      <td>None</td>\n",
       "      <td>10</td>\n",
       "      <td>1970/01/01</td>\n",
       "      <td>2265</td>\n",
       "      <td>0</td>\n",
       "      <td>0.5</td>\n",
       "      <td>None</td>\n",
       "      <td>None</td>\n",
       "      <td>None</td>\n",
       "      <td>None</td>\n",
       "      <td>None</td>\n",
       "      <td>None</td>\n",
       "    </tr>\n",
       "    <tr>\n",
       "      <th>11</th>\n",
       "      <td>TXNM103285</td>\n",
       "      <td>NO</td>\n",
       "      <td>R&amp;R Royalty</td>\n",
       "      <td>1999/07/21</td>\n",
       "      <td>1999/09/01</td>\n",
       "      <td>2009/09/01</td>\n",
       "      <td>None</td>\n",
       "      <td>HOUSTON</td>\n",
       "      <td>TX</td>\n",
       "      <td>Expired 2009 -  sold</td>\n",
       "      <td>2009</td>\n",
       "      <td>None</td>\n",
       "      <td>None</td>\n",
       "      <td>DAVY CROCKETT NATL FOREST</td>\n",
       "      <td>TRACT K-6</td>\n",
       "      <td>None</td>\n",
       "      <td>9907052</td>\n",
       "      <td>565</td>\n",
       "      <td>0</td>\n",
       "      <td>565</td>\n",
       "      <td>None</td>\n",
       "      <td>10</td>\n",
       "      <td>1970/01/01</td>\n",
       "      <td>565</td>\n",
       "      <td>0</td>\n",
       "      <td>0.5</td>\n",
       "      <td>None</td>\n",
       "      <td>None</td>\n",
       "      <td>None</td>\n",
       "      <td>None</td>\n",
       "      <td>None</td>\n",
       "      <td>None</td>\n",
       "    </tr>\n",
       "    <tr>\n",
       "      <th>12</th>\n",
       "      <td>TXNM103286</td>\n",
       "      <td>NO</td>\n",
       "      <td>R&amp;R Royalty</td>\n",
       "      <td>1999/07/21</td>\n",
       "      <td>1999/09/01</td>\n",
       "      <td>2009/09/01</td>\n",
       "      <td>None</td>\n",
       "      <td>HOUSTON</td>\n",
       "      <td>TX</td>\n",
       "      <td>Expired 2009 -  sold</td>\n",
       "      <td>2009</td>\n",
       "      <td>None</td>\n",
       "      <td>None</td>\n",
       "      <td>DAVY CROCKETT NATL FOREST</td>\n",
       "      <td>TRACT K-18</td>\n",
       "      <td>None</td>\n",
       "      <td>9907053</td>\n",
       "      <td>162.5</td>\n",
       "      <td>0</td>\n",
       "      <td>162.5</td>\n",
       "      <td>None</td>\n",
       "      <td>10</td>\n",
       "      <td>1970/01/01</td>\n",
       "      <td>162.5</td>\n",
       "      <td>0</td>\n",
       "      <td>0.5</td>\n",
       "      <td>None</td>\n",
       "      <td>None</td>\n",
       "      <td>None</td>\n",
       "      <td>None</td>\n",
       "      <td>None</td>\n",
       "      <td>None</td>\n",
       "    </tr>\n",
       "    <tr>\n",
       "      <th>13</th>\n",
       "      <td>TXNM103287</td>\n",
       "      <td>NO</td>\n",
       "      <td>R&amp;R Royalty</td>\n",
       "      <td>1999/07/21</td>\n",
       "      <td>1999/09/01</td>\n",
       "      <td>2009/09/01</td>\n",
       "      <td>None</td>\n",
       "      <td>HOUSTON</td>\n",
       "      <td>TX</td>\n",
       "      <td>Expired 2009 -  sold</td>\n",
       "      <td>2009</td>\n",
       "      <td>None</td>\n",
       "      <td>None</td>\n",
       "      <td>DAVY CROCKETT NATL FOREST</td>\n",
       "      <td>TRACT K-31</td>\n",
       "      <td>None</td>\n",
       "      <td>9907055</td>\n",
       "      <td>585</td>\n",
       "      <td>0</td>\n",
       "      <td>585</td>\n",
       "      <td>None</td>\n",
       "      <td>10</td>\n",
       "      <td>1970/01/01</td>\n",
       "      <td>585</td>\n",
       "      <td>0</td>\n",
       "      <td>0.5</td>\n",
       "      <td>None</td>\n",
       "      <td>None</td>\n",
       "      <td>None</td>\n",
       "      <td>None</td>\n",
       "      <td>None</td>\n",
       "      <td>None</td>\n",
       "    </tr>\n",
       "    <tr>\n",
       "      <th>14</th>\n",
       "      <td>TXNM103288</td>\n",
       "      <td>NO</td>\n",
       "      <td>R&amp;R Royalty</td>\n",
       "      <td>1999/07/21</td>\n",
       "      <td>1999/09/01</td>\n",
       "      <td>2009/09/01</td>\n",
       "      <td>None</td>\n",
       "      <td>HOUSTON</td>\n",
       "      <td>TX</td>\n",
       "      <td>Expired 2009 -  sold</td>\n",
       "      <td>2009</td>\n",
       "      <td>None</td>\n",
       "      <td>None</td>\n",
       "      <td>DAVY CROCKETT NATL FOREST</td>\n",
       "      <td>TRACT K-119</td>\n",
       "      <td>None</td>\n",
       "      <td>9907056</td>\n",
       "      <td>204.5</td>\n",
       "      <td>0</td>\n",
       "      <td>204.5</td>\n",
       "      <td>None</td>\n",
       "      <td>10</td>\n",
       "      <td>1970/01/01</td>\n",
       "      <td>204.5</td>\n",
       "      <td>0</td>\n",
       "      <td>0.5</td>\n",
       "      <td>None</td>\n",
       "      <td>None</td>\n",
       "      <td>None</td>\n",
       "      <td>None</td>\n",
       "      <td>None</td>\n",
       "      <td>None</td>\n",
       "    </tr>\n",
       "    <tr>\n",
       "      <th>15</th>\n",
       "      <td>TXNM103292</td>\n",
       "      <td>NO</td>\n",
       "      <td>R&amp;R Royalty</td>\n",
       "      <td>1999/07/21</td>\n",
       "      <td>1999/09/01</td>\n",
       "      <td>2009/09/01</td>\n",
       "      <td>None</td>\n",
       "      <td>SABINE</td>\n",
       "      <td>TX</td>\n",
       "      <td>Expired 2009</td>\n",
       "      <td>2009</td>\n",
       "      <td>None</td>\n",
       "      <td>None</td>\n",
       "      <td>SABINE NATL FOREST</td>\n",
       "      <td>TRACT S1Av</td>\n",
       "      <td>None</td>\n",
       "      <td>9907061</td>\n",
       "      <td>3004.5</td>\n",
       "      <td>0</td>\n",
       "      <td>3004.5</td>\n",
       "      <td>None</td>\n",
       "      <td>10</td>\n",
       "      <td>1970/01/01</td>\n",
       "      <td>3004.5</td>\n",
       "      <td>0</td>\n",
       "      <td>0.5</td>\n",
       "      <td>None</td>\n",
       "      <td>None</td>\n",
       "      <td>None</td>\n",
       "      <td>None</td>\n",
       "      <td>None</td>\n",
       "      <td>None</td>\n",
       "    </tr>\n",
       "    <tr>\n",
       "      <th>16</th>\n",
       "      <td>TXNM103293</td>\n",
       "      <td>NO</td>\n",
       "      <td>R&amp;R Royalty</td>\n",
       "      <td>1999/07/21</td>\n",
       "      <td>1999/09/01</td>\n",
       "      <td>2009/09/01</td>\n",
       "      <td>None</td>\n",
       "      <td>SABINE</td>\n",
       "      <td>TX</td>\n",
       "      <td>Expired 2009</td>\n",
       "      <td>2009</td>\n",
       "      <td>None</td>\n",
       "      <td>None</td>\n",
       "      <td>SABINE NATL FOREST</td>\n",
       "      <td>TRACT S-1Bb</td>\n",
       "      <td>SEE EXHIBIT L FOR M&amp;B</td>\n",
       "      <td>9907062</td>\n",
       "      <td>4457</td>\n",
       "      <td>0</td>\n",
       "      <td>4457</td>\n",
       "      <td>None</td>\n",
       "      <td>10</td>\n",
       "      <td>1970/01/01</td>\n",
       "      <td>4457</td>\n",
       "      <td>0</td>\n",
       "      <td>0.5</td>\n",
       "      <td>None</td>\n",
       "      <td>None</td>\n",
       "      <td>None</td>\n",
       "      <td>None</td>\n",
       "      <td>None</td>\n",
       "      <td>None</td>\n",
       "    </tr>\n",
       "    <tr>\n",
       "      <th>17</th>\n",
       "      <td>TXNM103296</td>\n",
       "      <td>NO</td>\n",
       "      <td>R&amp;R Royalty</td>\n",
       "      <td>1999/07/21</td>\n",
       "      <td>1999/09/01</td>\n",
       "      <td>2009/09/01</td>\n",
       "      <td>None</td>\n",
       "      <td>SAN AUGUSTINE</td>\n",
       "      <td>TX</td>\n",
       "      <td>Expired 2009</td>\n",
       "      <td>2009</td>\n",
       "      <td>None</td>\n",
       "      <td>None</td>\n",
       "      <td>ANGELINA NATL FOREST</td>\n",
       "      <td>TRACT A-22a PARCEL #2</td>\n",
       "      <td>None</td>\n",
       "      <td>9907072</td>\n",
       "      <td>603.5</td>\n",
       "      <td>0</td>\n",
       "      <td>603.5</td>\n",
       "      <td>None</td>\n",
       "      <td>10</td>\n",
       "      <td>1970/01/01</td>\n",
       "      <td>603.5</td>\n",
       "      <td>0</td>\n",
       "      <td>0.5</td>\n",
       "      <td>None</td>\n",
       "      <td>None</td>\n",
       "      <td>None</td>\n",
       "      <td>None</td>\n",
       "      <td>None</td>\n",
       "      <td>None</td>\n",
       "    </tr>\n",
       "    <tr>\n",
       "      <th>18</th>\n",
       "      <td>TXNM103297</td>\n",
       "      <td>NO</td>\n",
       "      <td>R&amp;R Royalty</td>\n",
       "      <td>1999/07/21</td>\n",
       "      <td>1999/09/01</td>\n",
       "      <td>2009/09/01</td>\n",
       "      <td>None</td>\n",
       "      <td>SAN AUGUSTINE</td>\n",
       "      <td>TX</td>\n",
       "      <td>Expired 2009</td>\n",
       "      <td>2009</td>\n",
       "      <td>None</td>\n",
       "      <td>None</td>\n",
       "      <td>ANGELINA NATL FOREST</td>\n",
       "      <td>TRACT A-22d</td>\n",
       "      <td>None</td>\n",
       "      <td>9907073</td>\n",
       "      <td>911.5</td>\n",
       "      <td>0</td>\n",
       "      <td>911.5</td>\n",
       "      <td>None</td>\n",
       "      <td>10</td>\n",
       "      <td>1970/01/01</td>\n",
       "      <td>911.5</td>\n",
       "      <td>0</td>\n",
       "      <td>0.5</td>\n",
       "      <td>None</td>\n",
       "      <td>None</td>\n",
       "      <td>None</td>\n",
       "      <td>None</td>\n",
       "      <td>None</td>\n",
       "      <td>None</td>\n",
       "    </tr>\n",
       "    <tr>\n",
       "      <th>19</th>\n",
       "      <td>TXNM103301</td>\n",
       "      <td>NO</td>\n",
       "      <td>R&amp;R Royalty</td>\n",
       "      <td>1999/07/21</td>\n",
       "      <td>1999/09/01</td>\n",
       "      <td>2009/09/01</td>\n",
       "      <td>None</td>\n",
       "      <td>SAN AUGUSTINE/SABINE</td>\n",
       "      <td>TX</td>\n",
       "      <td>Expired 2009</td>\n",
       "      <td>2009</td>\n",
       "      <td>None</td>\n",
       "      <td>None</td>\n",
       "      <td>SABINE NATL FOREST</td>\n",
       "      <td>TRACT S-1An</td>\n",
       "      <td>None</td>\n",
       "      <td>9907081</td>\n",
       "      <td>3774.5</td>\n",
       "      <td>0</td>\n",
       "      <td>3774.5</td>\n",
       "      <td>None</td>\n",
       "      <td>10</td>\n",
       "      <td>1970/01/01</td>\n",
       "      <td>3774.5</td>\n",
       "      <td>0</td>\n",
       "      <td>0.5</td>\n",
       "      <td>None</td>\n",
       "      <td>None</td>\n",
       "      <td>None</td>\n",
       "      <td>None</td>\n",
       "      <td>None</td>\n",
       "      <td>None</td>\n",
       "    </tr>\n",
       "    <tr>\n",
       "      <th>20</th>\n",
       "      <td>TXNM103314</td>\n",
       "      <td>NO</td>\n",
       "      <td>R&amp;R Royalty</td>\n",
       "      <td>1999/07/21</td>\n",
       "      <td>1999/09/01</td>\n",
       "      <td>2009/09/01</td>\n",
       "      <td>None</td>\n",
       "      <td>HOUSTON</td>\n",
       "      <td>TX</td>\n",
       "      <td>Expired 2009 -  sold</td>\n",
       "      <td>2009</td>\n",
       "      <td>None</td>\n",
       "      <td>None</td>\n",
       "      <td>DAVY CROCKETT NATL FOREST</td>\n",
       "      <td>TRACT K-1a-II PARCEL #1</td>\n",
       "      <td>SEE EXHIBIT G FOR M&amp;B</td>\n",
       "      <td>9907035</td>\n",
       "      <td>3898.5</td>\n",
       "      <td>0</td>\n",
       "      <td>3898.5</td>\n",
       "      <td>None</td>\n",
       "      <td>10</td>\n",
       "      <td>1970/01/01</td>\n",
       "      <td>3898.5</td>\n",
       "      <td>0</td>\n",
       "      <td>0.5</td>\n",
       "      <td>None</td>\n",
       "      <td>None</td>\n",
       "      <td>None</td>\n",
       "      <td>None</td>\n",
       "      <td>None</td>\n",
       "      <td>None</td>\n",
       "    </tr>\n",
       "    <tr>\n",
       "      <th>21</th>\n",
       "      <td>TXNM103315</td>\n",
       "      <td>NO</td>\n",
       "      <td>R&amp;R Royalty</td>\n",
       "      <td>1999/07/21</td>\n",
       "      <td>1999/09/01</td>\n",
       "      <td>2009/09/01</td>\n",
       "      <td>None</td>\n",
       "      <td>HOUSTON</td>\n",
       "      <td>TX</td>\n",
       "      <td>Expired 2009 -  sold</td>\n",
       "      <td>2009</td>\n",
       "      <td>None</td>\n",
       "      <td>None</td>\n",
       "      <td>DAVY CROCKETT NATL FOREST</td>\n",
       "      <td>TRACT K-1a-II PARCEL #2</td>\n",
       "      <td>SEE EXHIBIT H FOR M&amp;B</td>\n",
       "      <td>9907036</td>\n",
       "      <td>3871.5</td>\n",
       "      <td>0</td>\n",
       "      <td>3871.5</td>\n",
       "      <td>None</td>\n",
       "      <td>10</td>\n",
       "      <td>1970/01/01</td>\n",
       "      <td>3871.5</td>\n",
       "      <td>0</td>\n",
       "      <td>0.5</td>\n",
       "      <td>None</td>\n",
       "      <td>None</td>\n",
       "      <td>None</td>\n",
       "      <td>None</td>\n",
       "      <td>None</td>\n",
       "      <td>None</td>\n",
       "    </tr>\n",
       "    <tr>\n",
       "      <th>22</th>\n",
       "      <td>ARES50476</td>\n",
       "      <td>NO</td>\n",
       "      <td>R&amp;R Royalty</td>\n",
       "      <td>1999/09/23</td>\n",
       "      <td>1999/11/01</td>\n",
       "      <td>2009/11/01</td>\n",
       "      <td>None</td>\n",
       "      <td>SEBASTIAN</td>\n",
       "      <td>AR</td>\n",
       "      <td>Expired 2009 - May be part of 16,327.47 acre E...</td>\n",
       "      <td>2009</td>\n",
       "      <td>None</td>\n",
       "      <td>None</td>\n",
       "      <td>OUICHATA NATL FOREST</td>\n",
       "      <td>T4N, R31W, 5TH PRINCIPAL MERIDIAN</td>\n",
       "      <td>SEC 32, SWNW</td>\n",
       "      <td>ES-09/99 48</td>\n",
       "      <td>215</td>\n",
       "      <td>1720</td>\n",
       "      <td>1935</td>\n",
       "      <td>None</td>\n",
       "      <td>10</td>\n",
       "      <td>1970/01/01</td>\n",
       "      <td>1935</td>\n",
       "      <td>0</td>\n",
       "      <td>0.5</td>\n",
       "      <td>None</td>\n",
       "      <td>None</td>\n",
       "      <td>None</td>\n",
       "      <td>None</td>\n",
       "      <td>None</td>\n",
       "      <td>None</td>\n",
       "    </tr>\n",
       "    <tr>\n",
       "      <th>23</th>\n",
       "      <td>LAES50481</td>\n",
       "      <td>NO</td>\n",
       "      <td>R&amp;R Royalty</td>\n",
       "      <td>1999/09/23</td>\n",
       "      <td>1999/11/01</td>\n",
       "      <td>2009/11/01</td>\n",
       "      <td>None</td>\n",
       "      <td>CALCASIEU</td>\n",
       "      <td>LA</td>\n",
       "      <td>Expired 2009</td>\n",
       "      <td>2009</td>\n",
       "      <td>None</td>\n",
       "      <td>None</td>\n",
       "      <td>NONE</td>\n",
       "      <td>T8S, R10W,  LOUISIANA MERIDIAN</td>\n",
       "      <td>SEC 1, SWNE</td>\n",
       "      <td>ES-09/99 53</td>\n",
       "      <td>222</td>\n",
       "      <td>15666</td>\n",
       "      <td>15888</td>\n",
       "      <td>None</td>\n",
       "      <td>10</td>\n",
       "      <td>1970/01/01</td>\n",
       "      <td>15888</td>\n",
       "      <td>0</td>\n",
       "      <td>0.5</td>\n",
       "      <td>None</td>\n",
       "      <td>None</td>\n",
       "      <td>None</td>\n",
       "      <td>None</td>\n",
       "      <td>None</td>\n",
       "      <td>None</td>\n",
       "    </tr>\n",
       "    <tr>\n",
       "      <th>24</th>\n",
       "      <td>MSES50483</td>\n",
       "      <td>NO</td>\n",
       "      <td>R&amp;R Royalty</td>\n",
       "      <td>1999/09/23</td>\n",
       "      <td>1999/11/01</td>\n",
       "      <td>2009/11/01</td>\n",
       "      <td>None</td>\n",
       "      <td>FORREST</td>\n",
       "      <td>MS</td>\n",
       "      <td>Expired 2009</td>\n",
       "      <td>2009</td>\n",
       "      <td>None</td>\n",
       "      <td>None</td>\n",
       "      <td>DESOTO NATL FOREST</td>\n",
       "      <td>T1S, R13W, ST. STEPHENS MERIDIAN</td>\n",
       "      <td>SEC 25</td>\n",
       "      <td>ES-09/99 55</td>\n",
       "      <td>638.5</td>\n",
       "      <td>11753</td>\n",
       "      <td>12391.5</td>\n",
       "      <td>None</td>\n",
       "      <td>10</td>\n",
       "      <td>1970/01/01</td>\n",
       "      <td>12391.5</td>\n",
       "      <td>0</td>\n",
       "      <td>0.5</td>\n",
       "      <td>None</td>\n",
       "      <td>None</td>\n",
       "      <td>None</td>\n",
       "      <td>None</td>\n",
       "      <td>None</td>\n",
       "      <td>None</td>\n",
       "    </tr>\n",
       "    <tr>\n",
       "      <th>26</th>\n",
       "      <td>LAES50520</td>\n",
       "      <td>NO</td>\n",
       "      <td>R&amp;R Royalty</td>\n",
       "      <td>1999/12/16</td>\n",
       "      <td>2000/02/01</td>\n",
       "      <td>2010/02/01</td>\n",
       "      <td>199.75</td>\n",
       "      <td>WEBSTER</td>\n",
       "      <td>LA</td>\n",
       "      <td>Expired 2010</td>\n",
       "      <td>2010</td>\n",
       "      <td>None</td>\n",
       "      <td>None</td>\n",
       "      <td>NONE</td>\n",
       "      <td>T17N, R10W, LOUISIANA MERIDIAN</td>\n",
       "      <td>SEC 20, SENE, N2SW, N2SE</td>\n",
       "      <td>ES-12/99 03</td>\n",
       "      <td>775</td>\n",
       "      <td>54600</td>\n",
       "      <td>55375</td>\n",
       "      <td>400</td>\n",
       "      <td>10</td>\n",
       "      <td>1970/01/01</td>\n",
       "      <td>58575</td>\n",
       "      <td>276.875</td>\n",
       "      <td>0.5</td>\n",
       "      <td>None</td>\n",
       "      <td>None</td>\n",
       "      <td>None</td>\n",
       "      <td>None</td>\n",
       "      <td>None</td>\n",
       "      <td>None</td>\n",
       "    </tr>\n",
       "    <tr>\n",
       "      <th>27</th>\n",
       "      <td>MSES50524</td>\n",
       "      <td>NO</td>\n",
       "      <td>R&amp;R Royalty</td>\n",
       "      <td>1999/12/16</td>\n",
       "      <td>2000/02/01</td>\n",
       "      <td>2010/02/01</td>\n",
       "      <td>433.54</td>\n",
       "      <td>WAYNE</td>\n",
       "      <td>MS</td>\n",
       "      <td>Expired 2010 - SUBLEASE TERMINATED O/A 11-14-02</td>\n",
       "      <td>2010</td>\n",
       "      <td>None</td>\n",
       "      <td>None</td>\n",
       "      <td>NONE</td>\n",
       "      <td>T7N, R8W, ST, STEPHENS MERIDIAN</td>\n",
       "      <td>SEC 4, SWNE, W2, W2SE</td>\n",
       "      <td>ES-12/99 07</td>\n",
       "      <td>1594</td>\n",
       "      <td>42532</td>\n",
       "      <td>44126</td>\n",
       "      <td>868</td>\n",
       "      <td>10</td>\n",
       "      <td>1970/01/01</td>\n",
       "      <td>51070</td>\n",
       "      <td>101.673</td>\n",
       "      <td>0.5</td>\n",
       "      <td>None</td>\n",
       "      <td>None</td>\n",
       "      <td>None</td>\n",
       "      <td>None</td>\n",
       "      <td>None</td>\n",
       "      <td>None</td>\n",
       "    </tr>\n",
       "    <tr>\n",
       "      <th>28</th>\n",
       "      <td>MSES50526</td>\n",
       "      <td>NO</td>\n",
       "      <td>R&amp;R Royalty</td>\n",
       "      <td>1999/12/16</td>\n",
       "      <td>2000/02/01</td>\n",
       "      <td>2010/02/01</td>\n",
       "      <td>None</td>\n",
       "      <td>CHICKASAW</td>\n",
       "      <td>MS</td>\n",
       "      <td>HBP-Gibraltar pays Royalty - Shut-in payment s...</td>\n",
       "      <td>2010</td>\n",
       "      <td>None</td>\n",
       "      <td>None</td>\n",
       "      <td>TOMBIGBEE NATL FOREST</td>\n",
       "      <td>T12S, R4E, CHICKASAW MERIDIAN</td>\n",
       "      <td>SEC 5, SW, E20ac OF SESE, 7ac IN SE  CORNER OF...</td>\n",
       "      <td>ES-12/99 09</td>\n",
       "      <td>1664</td>\n",
       "      <td>6356</td>\n",
       "      <td>8020</td>\n",
       "      <td>None</td>\n",
       "      <td>10</td>\n",
       "      <td>1970/01/01</td>\n",
       "      <td>8020</td>\n",
       "      <td>0</td>\n",
       "      <td>0.5</td>\n",
       "      <td>None</td>\n",
       "      <td>None</td>\n",
       "      <td>None</td>\n",
       "      <td>None</td>\n",
       "      <td>None</td>\n",
       "      <td>None</td>\n",
       "    </tr>\n",
       "    <tr>\n",
       "      <th>32</th>\n",
       "      <td>MSES050634</td>\n",
       "      <td>NO</td>\n",
       "      <td>R&amp;R Royalty</td>\n",
       "      <td>2000/03/23</td>\n",
       "      <td>None</td>\n",
       "      <td>None</td>\n",
       "      <td>None</td>\n",
       "      <td>None</td>\n",
       "      <td>MS</td>\n",
       "      <td>Refunded 3-16-01. Bid Refunded</td>\n",
       "      <td>None</td>\n",
       "      <td>None</td>\n",
       "      <td>None</td>\n",
       "      <td>None</td>\n",
       "      <td>None</td>\n",
       "      <td>None</td>\n",
       "      <td>None</td>\n",
       "      <td>298.5</td>\n",
       "      <td>-223.5</td>\n",
       "      <td>75</td>\n",
       "      <td>None</td>\n",
       "      <td>None</td>\n",
       "      <td>None</td>\n",
       "      <td>None</td>\n",
       "      <td>0</td>\n",
       "      <td>None</td>\n",
       "      <td>None</td>\n",
       "      <td>None</td>\n",
       "      <td>None</td>\n",
       "      <td>None</td>\n",
       "      <td>None</td>\n",
       "      <td>None</td>\n",
       "    </tr>\n",
       "    <tr>\n",
       "      <th>33</th>\n",
       "      <td>MSES050635</td>\n",
       "      <td>NO</td>\n",
       "      <td>R&amp;R Royalty</td>\n",
       "      <td>2000/03/23</td>\n",
       "      <td>None</td>\n",
       "      <td>None</td>\n",
       "      <td>None</td>\n",
       "      <td>None</td>\n",
       "      <td>MS</td>\n",
       "      <td>Refunded 7-10-00. Bid Refunded</td>\n",
       "      <td>None</td>\n",
       "      <td>None</td>\n",
       "      <td>None</td>\n",
       "      <td>None</td>\n",
       "      <td>None</td>\n",
       "      <td>None</td>\n",
       "      <td>None</td>\n",
       "      <td>745.5</td>\n",
       "      <td>-670.5</td>\n",
       "      <td>75</td>\n",
       "      <td>None</td>\n",
       "      <td>None</td>\n",
       "      <td>None</td>\n",
       "      <td>None</td>\n",
       "      <td>0</td>\n",
       "      <td>None</td>\n",
       "      <td>None</td>\n",
       "      <td>None</td>\n",
       "      <td>None</td>\n",
       "      <td>None</td>\n",
       "      <td>None</td>\n",
       "      <td>None</td>\n",
       "    </tr>\n",
       "    <tr>\n",
       "      <th>34</th>\n",
       "      <td>MSES050636</td>\n",
       "      <td>NO</td>\n",
       "      <td>R&amp;R Royalty</td>\n",
       "      <td>2000/03/23</td>\n",
       "      <td>2000/04/01</td>\n",
       "      <td>2010/04/01</td>\n",
       "      <td>376.8</td>\n",
       "      <td>ADAMS</td>\n",
       "      <td>MS</td>\n",
       "      <td>Expired 2010</td>\n",
       "      <td>2010</td>\n",
       "      <td>None</td>\n",
       "      <td>None</td>\n",
       "      <td>HOMOCHITTO NATL FOREST</td>\n",
       "      <td>T5N, R1W, WASHINGTON MERIDIAN</td>\n",
       "      <td>SEC 6, ALL</td>\n",
       "      <td>ES-03/00 31</td>\n",
       "      <td>640.5</td>\n",
       "      <td>0</td>\n",
       "      <td>640.5</td>\n",
       "      <td>754</td>\n",
       "      <td>10</td>\n",
       "      <td>1970/01/01</td>\n",
       "      <td>6672.5</td>\n",
       "      <td>1.69894</td>\n",
       "      <td>0.5</td>\n",
       "      <td>None</td>\n",
       "      <td>None</td>\n",
       "      <td>None</td>\n",
       "      <td>None</td>\n",
       "      <td>None</td>\n",
       "      <td>None</td>\n",
       "    </tr>\n",
       "    <tr>\n",
       "      <th>35</th>\n",
       "      <td>MSES050637</td>\n",
       "      <td>NO</td>\n",
       "      <td>R&amp;R Royalty</td>\n",
       "      <td>2000/03/23</td>\n",
       "      <td>None</td>\n",
       "      <td>None</td>\n",
       "      <td>None</td>\n",
       "      <td>None</td>\n",
       "      <td>MS</td>\n",
       "      <td>Bid Refunded 7-10-00</td>\n",
       "      <td>None</td>\n",
       "      <td>None</td>\n",
       "      <td>None</td>\n",
       "      <td>None</td>\n",
       "      <td>None</td>\n",
       "      <td>None</td>\n",
       "      <td>None</td>\n",
       "      <td>586.5</td>\n",
       "      <td>-511.5</td>\n",
       "      <td>75</td>\n",
       "      <td>None</td>\n",
       "      <td>None</td>\n",
       "      <td>None</td>\n",
       "      <td>None</td>\n",
       "      <td>0</td>\n",
       "      <td>None</td>\n",
       "      <td>None</td>\n",
       "      <td>None</td>\n",
       "      <td>None</td>\n",
       "      <td>None</td>\n",
       "      <td>None</td>\n",
       "      <td>None</td>\n",
       "    </tr>\n",
       "    <tr>\n",
       "      <th>36</th>\n",
       "      <td>MSES050642</td>\n",
       "      <td>NO</td>\n",
       "      <td>R&amp;R Royalty</td>\n",
       "      <td>2000/03/23</td>\n",
       "      <td>2000/04/01</td>\n",
       "      <td>2010/04/01</td>\n",
       "      <td>152.11</td>\n",
       "      <td>ADAMS</td>\n",
       "      <td>MS</td>\n",
       "      <td>Expired 2010</td>\n",
       "      <td>2010</td>\n",
       "      <td>None</td>\n",
       "      <td>None</td>\n",
       "      <td>HOMOCHITTO NATL FOREST</td>\n",
       "      <td>T5N, R1W, WASHINGTON MERIDIAN</td>\n",
       "      <td>SEC 21, LOTS 5 THRU 8</td>\n",
       "      <td>ES-03/00 37</td>\n",
       "      <td>304.5</td>\n",
       "      <td>0</td>\n",
       "      <td>304.5</td>\n",
       "      <td>306</td>\n",
       "      <td>10</td>\n",
       "      <td>1970/01/01</td>\n",
       "      <td>2752.5</td>\n",
       "      <td>2.00329</td>\n",
       "      <td>0.5</td>\n",
       "      <td>None</td>\n",
       "      <td>None</td>\n",
       "      <td>None</td>\n",
       "      <td>None</td>\n",
       "      <td>None</td>\n",
       "      <td>None</td>\n",
       "    </tr>\n",
       "    <tr>\n",
       "      <th>37</th>\n",
       "      <td>MSES050646</td>\n",
       "      <td>NO</td>\n",
       "      <td>R&amp;R Royalty</td>\n",
       "      <td>2000/03/23</td>\n",
       "      <td>2000/04/01</td>\n",
       "      <td>2010/04/01</td>\n",
       "      <td>39.65</td>\n",
       "      <td>WAYNE</td>\n",
       "      <td>MS</td>\n",
       "      <td>Expired 2010</td>\n",
       "      <td>2010</td>\n",
       "      <td>None</td>\n",
       "      <td>None</td>\n",
       "      <td>DESOTO NATL FOREST</td>\n",
       "      <td>T6N, R7W, ST, STEPHENS MERIDIAN</td>\n",
       "      <td>SEC 30, SWSW</td>\n",
       "      <td>ES-03/00 41</td>\n",
       "      <td>13135</td>\n",
       "      <td>0</td>\n",
       "      <td>13135</td>\n",
       "      <td>80</td>\n",
       "      <td>10</td>\n",
       "      <td>1970/01/01</td>\n",
       "      <td>13775</td>\n",
       "      <td>328.375</td>\n",
       "      <td>0.5</td>\n",
       "      <td>None</td>\n",
       "      <td>None</td>\n",
       "      <td>None</td>\n",
       "      <td>None</td>\n",
       "      <td>None</td>\n",
       "      <td>None</td>\n",
       "    </tr>\n",
       "    <tr>\n",
       "      <th>39</th>\n",
       "      <td>LAES050702</td>\n",
       "      <td>NO</td>\n",
       "      <td>R&amp;R Royalty</td>\n",
       "      <td>2000/06/29</td>\n",
       "      <td>2000/10/01</td>\n",
       "      <td>2010/10/01</td>\n",
       "      <td>80</td>\n",
       "      <td>ST BERNARD</td>\n",
       "      <td>LA</td>\n",
       "      <td>Expired 2010</td>\n",
       "      <td>2010</td>\n",
       "      <td>None</td>\n",
       "      <td>None</td>\n",
       "      <td>NONE</td>\n",
       "      <td>T14S, R16E, ST HELENA MERIDIAN</td>\n",
       "      <td>SEC 13, N2SW</td>\n",
       "      <td>ES-06/00 29</td>\n",
       "      <td>355</td>\n",
       "      <td>15840</td>\n",
       "      <td>16195</td>\n",
       "      <td>160</td>\n",
       "      <td>10</td>\n",
       "      <td>1970/01/01</td>\n",
       "      <td>17475</td>\n",
       "      <td>202.438</td>\n",
       "      <td>0.5</td>\n",
       "      <td>None</td>\n",
       "      <td>None</td>\n",
       "      <td>None</td>\n",
       "      <td>None</td>\n",
       "      <td>None</td>\n",
       "      <td>None</td>\n",
       "    </tr>\n",
       "    <tr>\n",
       "      <th>40</th>\n",
       "      <td>MSES050710</td>\n",
       "      <td>NO</td>\n",
       "      <td>R&amp;R Royalty</td>\n",
       "      <td>2000/06/29</td>\n",
       "      <td>2000/08/01</td>\n",
       "      <td>2010/08/01</td>\n",
       "      <td>600</td>\n",
       "      <td>WAYNE</td>\n",
       "      <td>MS</td>\n",
       "      <td>Expired 2010</td>\n",
       "      <td>2010</td>\n",
       "      <td>None</td>\n",
       "      <td>None</td>\n",
       "      <td>DESOTO NATL FOREST</td>\n",
       "      <td>T6N,R7W, ST STEPHENS MERIDIAN</td>\n",
       "      <td>SEC 11, NWNE, S2NE,W2,SE</td>\n",
       "      <td>ES-06/00 37</td>\n",
       "      <td>2175</td>\n",
       "      <td>0</td>\n",
       "      <td>2175</td>\n",
       "      <td>1200</td>\n",
       "      <td>10</td>\n",
       "      <td>1970/01/01</td>\n",
       "      <td>11775</td>\n",
       "      <td>3.625</td>\n",
       "      <td>0.5</td>\n",
       "      <td>None</td>\n",
       "      <td>None</td>\n",
       "      <td>None</td>\n",
       "      <td>None</td>\n",
       "      <td>None</td>\n",
       "      <td>None</td>\n",
       "    </tr>\n",
       "    <tr>\n",
       "      <th>41</th>\n",
       "      <td>MSES050711</td>\n",
       "      <td>NO</td>\n",
       "      <td>R&amp;R Royalty</td>\n",
       "      <td>2000/06/29</td>\n",
       "      <td>2000/08/01</td>\n",
       "      <td>2010/08/01</td>\n",
       "      <td>160.4</td>\n",
       "      <td>WAYNE</td>\n",
       "      <td>MS</td>\n",
       "      <td>Expired 2010</td>\n",
       "      <td>2010</td>\n",
       "      <td>None</td>\n",
       "      <td>None</td>\n",
       "      <td>DESOTO NATL FOREST</td>\n",
       "      <td>T6N,R7W, ST STEPHENS MERIDIAN</td>\n",
       "      <td>SEC 27, SENE, W2NW, NESE</td>\n",
       "      <td>ES-06/00 38</td>\n",
       "      <td>638.5</td>\n",
       "      <td>644</td>\n",
       "      <td>1282.5</td>\n",
       "      <td>322</td>\n",
       "      <td>10</td>\n",
       "      <td>1970/01/01</td>\n",
       "      <td>3858.5</td>\n",
       "      <td>8.01562</td>\n",
       "      <td>0.5</td>\n",
       "      <td>None</td>\n",
       "      <td>None</td>\n",
       "      <td>None</td>\n",
       "      <td>None</td>\n",
       "      <td>None</td>\n",
       "      <td>None</td>\n",
       "    </tr>\n",
       "    <tr>\n",
       "      <th>42</th>\n",
       "      <td>MSES050712</td>\n",
       "      <td>NO</td>\n",
       "      <td>R&amp;R Royalty</td>\n",
       "      <td>2000/06/29</td>\n",
       "      <td>2000/08/01</td>\n",
       "      <td>2010/08/01</td>\n",
       "      <td>561.138</td>\n",
       "      <td>WAYNE</td>\n",
       "      <td>MS</td>\n",
       "      <td>Expired 2010</td>\n",
       "      <td>2010</td>\n",
       "      <td>None</td>\n",
       "      <td>None</td>\n",
       "      <td>DESOTO NATL FOREST</td>\n",
       "      <td>T6N,R7W, ST STEPHENS MERIDIAN</td>\n",
       "      <td>SEC 34,NWNE, S2NE,W2, N2SE, SWSE</td>\n",
       "      <td>ES-06/00 39</td>\n",
       "      <td>2042</td>\n",
       "      <td>1124</td>\n",
       "      <td>3166</td>\n",
       "      <td>1124</td>\n",
       "      <td>10</td>\n",
       "      <td>1970/01/01</td>\n",
       "      <td>12158</td>\n",
       "      <td>5.64349</td>\n",
       "      <td>0.5</td>\n",
       "      <td>None</td>\n",
       "      <td>None</td>\n",
       "      <td>None</td>\n",
       "      <td>None</td>\n",
       "      <td>None</td>\n",
       "      <td>None</td>\n",
       "    </tr>\n",
       "    <tr>\n",
       "      <th>43</th>\n",
       "      <td>MSES050713</td>\n",
       "      <td>NO</td>\n",
       "      <td>R&amp;R Royalty</td>\n",
       "      <td>2000/06/29</td>\n",
       "      <td>2000/08/01</td>\n",
       "      <td>2010/08/01</td>\n",
       "      <td>639.5</td>\n",
       "      <td>WAYNE</td>\n",
       "      <td>MS</td>\n",
       "      <td>Expired 2010</td>\n",
       "      <td>2010</td>\n",
       "      <td>None</td>\n",
       "      <td>None</td>\n",
       "      <td>DESOTO NATL FOREST</td>\n",
       "      <td>T6N,R8W, ST STEPHENS MERIDIAN</td>\n",
       "      <td>SEC 1, ALL</td>\n",
       "      <td>ES-06/00 40</td>\n",
       "      <td>2315</td>\n",
       "      <td>2560</td>\n",
       "      <td>4875</td>\n",
       "      <td>1280</td>\n",
       "      <td>10</td>\n",
       "      <td>1970/01/01</td>\n",
       "      <td>15115</td>\n",
       "      <td>7.61719</td>\n",
       "      <td>0.5</td>\n",
       "      <td>None</td>\n",
       "      <td>None</td>\n",
       "      <td>None</td>\n",
       "      <td>None</td>\n",
       "      <td>None</td>\n",
       "      <td>None</td>\n",
       "    </tr>\n",
       "    <tr>\n",
       "      <th>44</th>\n",
       "      <td>MSES050714</td>\n",
       "      <td>NO</td>\n",
       "      <td>R&amp;R Royalty</td>\n",
       "      <td>2000/06/29</td>\n",
       "      <td>2000/08/01</td>\n",
       "      <td>2010/08/01</td>\n",
       "      <td>481.05</td>\n",
       "      <td>WAYNE</td>\n",
       "      <td>MS</td>\n",
       "      <td>Expired 2010</td>\n",
       "      <td>2010</td>\n",
       "      <td>None</td>\n",
       "      <td>None</td>\n",
       "      <td>DESOTO NATL FOREST</td>\n",
       "      <td>T6N,R8W, ST STEPHENS MERIDIAN</td>\n",
       "      <td>SEC 2, N2NE,W2,W2SE</td>\n",
       "      <td>ES-06/00 41</td>\n",
       "      <td>1762</td>\n",
       "      <td>0</td>\n",
       "      <td>1762</td>\n",
       "      <td>964</td>\n",
       "      <td>10</td>\n",
       "      <td>1970/01/01</td>\n",
       "      <td>9474</td>\n",
       "      <td>3.6632</td>\n",
       "      <td>0.5</td>\n",
       "      <td>None</td>\n",
       "      <td>None</td>\n",
       "      <td>None</td>\n",
       "      <td>None</td>\n",
       "      <td>None</td>\n",
       "      <td>None</td>\n",
       "    </tr>\n",
       "    <tr>\n",
       "      <th>45</th>\n",
       "      <td>MSES050715</td>\n",
       "      <td>NO</td>\n",
       "      <td>R&amp;R Royalty</td>\n",
       "      <td>2000/06/29</td>\n",
       "      <td>2000/08/01</td>\n",
       "      <td>2010/08/01</td>\n",
       "      <td>479.25</td>\n",
       "      <td>WAYNE</td>\n",
       "      <td>MS</td>\n",
       "      <td>Expired 2010</td>\n",
       "      <td>2010</td>\n",
       "      <td>None</td>\n",
       "      <td>None</td>\n",
       "      <td>DESOTO NATL FOREST</td>\n",
       "      <td>T6N,R8W, ST STEPHENS MERIDIAN</td>\n",
       "      <td>SEC 4, W2NE,NW,SW, -EX. 1AC</td>\n",
       "      <td>ES-06/00 42</td>\n",
       "      <td>1755</td>\n",
       "      <td>1920</td>\n",
       "      <td>3675</td>\n",
       "      <td>960</td>\n",
       "      <td>10</td>\n",
       "      <td>1970/01/01</td>\n",
       "      <td>11355</td>\n",
       "      <td>7.67223</td>\n",
       "      <td>0.5</td>\n",
       "      <td>None</td>\n",
       "      <td>None</td>\n",
       "      <td>None</td>\n",
       "      <td>None</td>\n",
       "      <td>None</td>\n",
       "      <td>None</td>\n",
       "    </tr>\n",
       "    <tr>\n",
       "      <th>46</th>\n",
       "      <td>MSES050716</td>\n",
       "      <td>NO</td>\n",
       "      <td>R&amp;R Royalty</td>\n",
       "      <td>2000/06/29</td>\n",
       "      <td>2000/08/01</td>\n",
       "      <td>2010/08/01</td>\n",
       "      <td>437.938</td>\n",
       "      <td>WAYNE</td>\n",
       "      <td>MS</td>\n",
       "      <td>Expired 2010</td>\n",
       "      <td>2010</td>\n",
       "      <td>None</td>\n",
       "      <td>None</td>\n",
       "      <td>DESOTO NATL FOREST</td>\n",
       "      <td>T6N,R8W, ST STEPHENS MERIDIAN</td>\n",
       "      <td>SEC 5,NE, SWNW, SW, N2SE</td>\n",
       "      <td>ES-06/00 43</td>\n",
       "      <td>1608</td>\n",
       "      <td>3066</td>\n",
       "      <td>4674</td>\n",
       "      <td>876</td>\n",
       "      <td>10</td>\n",
       "      <td>1970/01/01</td>\n",
       "      <td>11682</td>\n",
       "      <td>10.6712</td>\n",
       "      <td>0.5</td>\n",
       "      <td>None</td>\n",
       "      <td>None</td>\n",
       "      <td>None</td>\n",
       "      <td>None</td>\n",
       "      <td>None</td>\n",
       "      <td>None</td>\n",
       "    </tr>\n",
       "    <tr>\n",
       "      <th>47</th>\n",
       "      <td>MSES050717</td>\n",
       "      <td>NO</td>\n",
       "      <td>R&amp;R Royalty</td>\n",
       "      <td>2000/06/29</td>\n",
       "      <td>2000/08/01</td>\n",
       "      <td>2010/08/01</td>\n",
       "      <td>39.813</td>\n",
       "      <td>WAYNE</td>\n",
       "      <td>MS</td>\n",
       "      <td>Expired 2010</td>\n",
       "      <td>2010</td>\n",
       "      <td>None</td>\n",
       "      <td>None</td>\n",
       "      <td>DESOTO NATL FOREST</td>\n",
       "      <td>T6N,R8W, ST STEPHENS MERIDIAN</td>\n",
       "      <td>SEC 5, SWSE (25% US MI ONLY)</td>\n",
       "      <td>ES-06/00 44</td>\n",
       "      <td>215</td>\n",
       "      <td>0</td>\n",
       "      <td>215</td>\n",
       "      <td>80</td>\n",
       "      <td>10</td>\n",
       "      <td>1970/01/01</td>\n",
       "      <td>855</td>\n",
       "      <td>5.375</td>\n",
       "      <td>0.5</td>\n",
       "      <td>None</td>\n",
       "      <td>None</td>\n",
       "      <td>None</td>\n",
       "      <td>None</td>\n",
       "      <td>None</td>\n",
       "      <td>None</td>\n",
       "    </tr>\n",
       "    <tr>\n",
       "      <th>48</th>\n",
       "      <td>MSES050718</td>\n",
       "      <td>NO</td>\n",
       "      <td>R&amp;R Royalty</td>\n",
       "      <td>2000/06/29</td>\n",
       "      <td>2000/08/01</td>\n",
       "      <td>2010/08/01</td>\n",
       "      <td>475.28</td>\n",
       "      <td>WAYNE</td>\n",
       "      <td>MS</td>\n",
       "      <td>Expired 2010</td>\n",
       "      <td>2010</td>\n",
       "      <td>None</td>\n",
       "      <td>None</td>\n",
       "      <td>DESOTO NATL FOREST</td>\n",
       "      <td>T6N,R8W, ST STEPHENS MERIDIAN</td>\n",
       "      <td>SEC 6, NWNE. S2N2,SW,W2SE,SESE</td>\n",
       "      <td>ES-06/00 45</td>\n",
       "      <td>1741</td>\n",
       "      <td>0</td>\n",
       "      <td>1741</td>\n",
       "      <td>952</td>\n",
       "      <td>10</td>\n",
       "      <td>1970/01/01</td>\n",
       "      <td>9357</td>\n",
       "      <td>3.66526</td>\n",
       "      <td>0.5</td>\n",
       "      <td>None</td>\n",
       "      <td>None</td>\n",
       "      <td>None</td>\n",
       "      <td>None</td>\n",
       "      <td>None</td>\n",
       "      <td>None</td>\n",
       "    </tr>\n",
       "    <tr>\n",
       "      <th>49</th>\n",
       "      <td>MSES050719</td>\n",
       "      <td>NO</td>\n",
       "      <td>R&amp;R Royalty</td>\n",
       "      <td>2000/06/29</td>\n",
       "      <td>2000/08/01</td>\n",
       "      <td>2010/08/01</td>\n",
       "      <td>200</td>\n",
       "      <td>WAYNE</td>\n",
       "      <td>MS</td>\n",
       "      <td>Expired 2010</td>\n",
       "      <td>2010</td>\n",
       "      <td>None</td>\n",
       "      <td>None</td>\n",
       "      <td>DESOTO NATL FOREST</td>\n",
       "      <td>T6N,R8W, ST STEPHENS MERIDIAN</td>\n",
       "      <td>SEC 10, S2NW, N2SW, SWSW</td>\n",
       "      <td>ES-06/00 46</td>\n",
       "      <td>775</td>\n",
       "      <td>1400</td>\n",
       "      <td>2175</td>\n",
       "      <td>400</td>\n",
       "      <td>10</td>\n",
       "      <td>1970/01/01</td>\n",
       "      <td>5375</td>\n",
       "      <td>10.875</td>\n",
       "      <td>0.5</td>\n",
       "      <td>None</td>\n",
       "      <td>None</td>\n",
       "      <td>None</td>\n",
       "      <td>None</td>\n",
       "      <td>None</td>\n",
       "      <td>None</td>\n",
       "    </tr>\n",
       "    <tr>\n",
       "      <th>50</th>\n",
       "      <td>MSES050720</td>\n",
       "      <td>NO</td>\n",
       "      <td>R&amp;R Royalty</td>\n",
       "      <td>2000/06/29</td>\n",
       "      <td>2000/08/01</td>\n",
       "      <td>2010/08/01</td>\n",
       "      <td>642.7</td>\n",
       "      <td>WAYNE</td>\n",
       "      <td>MS</td>\n",
       "      <td>Expired 2010</td>\n",
       "      <td>2010</td>\n",
       "      <td>None</td>\n",
       "      <td>None</td>\n",
       "      <td>DESOTO NATL FOREST</td>\n",
       "      <td>T6N,R8W, ST STEPHENS MERIDIAN</td>\n",
       "      <td>SEC 13, ALL</td>\n",
       "      <td>ES-06/00 47</td>\n",
       "      <td>2325.5</td>\n",
       "      <td>0</td>\n",
       "      <td>2325.5</td>\n",
       "      <td>1286</td>\n",
       "      <td>10</td>\n",
       "      <td>1970/01/01</td>\n",
       "      <td>12613.5</td>\n",
       "      <td>3.61664</td>\n",
       "      <td>0.5</td>\n",
       "      <td>None</td>\n",
       "      <td>None</td>\n",
       "      <td>None</td>\n",
       "      <td>None</td>\n",
       "      <td>None</td>\n",
       "      <td>None</td>\n",
       "    </tr>\n",
       "    <tr>\n",
       "      <th>51</th>\n",
       "      <td>MSES050721</td>\n",
       "      <td>NO</td>\n",
       "      <td>R&amp;R Royalty</td>\n",
       "      <td>2000/06/29</td>\n",
       "      <td>2000/08/01</td>\n",
       "      <td>2010/08/01</td>\n",
       "      <td>637.6</td>\n",
       "      <td>WAYNE</td>\n",
       "      <td>MS</td>\n",
       "      <td>Expired 2010</td>\n",
       "      <td>2010</td>\n",
       "      <td>None</td>\n",
       "      <td>None</td>\n",
       "      <td>DESOTO NATL FOREST</td>\n",
       "      <td>T6N,R8W, ST STEPHENS MERIDIAN</td>\n",
       "      <td>SEC 19, ALL</td>\n",
       "      <td>ES-06/00 48</td>\n",
       "      <td>2308</td>\n",
       "      <td>3828</td>\n",
       "      <td>6136</td>\n",
       "      <td>1276</td>\n",
       "      <td>10</td>\n",
       "      <td>1970/01/01</td>\n",
       "      <td>16344</td>\n",
       "      <td>9.61755</td>\n",
       "      <td>0.5</td>\n",
       "      <td>None</td>\n",
       "      <td>None</td>\n",
       "      <td>None</td>\n",
       "      <td>None</td>\n",
       "      <td>None</td>\n",
       "      <td>None</td>\n",
       "    </tr>\n",
       "    <tr>\n",
       "      <th>52</th>\n",
       "      <td>MSES050722</td>\n",
       "      <td>NO</td>\n",
       "      <td>R&amp;R Royalty</td>\n",
       "      <td>2000/06/29</td>\n",
       "      <td>2000/08/01</td>\n",
       "      <td>2010/08/01</td>\n",
       "      <td>637.8</td>\n",
       "      <td>WAYNE</td>\n",
       "      <td>MS</td>\n",
       "      <td>Expired 2010</td>\n",
       "      <td>2010</td>\n",
       "      <td>None</td>\n",
       "      <td>None</td>\n",
       "      <td>DESOTO NATL FOREST</td>\n",
       "      <td>T6N,R8W, ST STEPHENS MERIDIAN</td>\n",
       "      <td>SEC 20, ALL</td>\n",
       "      <td>ES-06/00 49</td>\n",
       "      <td>2308</td>\n",
       "      <td>3828</td>\n",
       "      <td>6136</td>\n",
       "      <td>1276</td>\n",
       "      <td>10</td>\n",
       "      <td>1970/01/01</td>\n",
       "      <td>16344</td>\n",
       "      <td>9.61755</td>\n",
       "      <td>0.5</td>\n",
       "      <td>None</td>\n",
       "      <td>None</td>\n",
       "      <td>None</td>\n",
       "      <td>None</td>\n",
       "      <td>None</td>\n",
       "      <td>None</td>\n",
       "    </tr>\n",
       "    <tr>\n",
       "      <th>53</th>\n",
       "      <td>MSES050723</td>\n",
       "      <td>NO</td>\n",
       "      <td>R&amp;R Royalty</td>\n",
       "      <td>2000/06/29</td>\n",
       "      <td>2000/08/01</td>\n",
       "      <td>2010/08/01</td>\n",
       "      <td>640.5</td>\n",
       "      <td>WAYNE</td>\n",
       "      <td>MS</td>\n",
       "      <td>Expired 2010</td>\n",
       "      <td>2010</td>\n",
       "      <td>None</td>\n",
       "      <td>None</td>\n",
       "      <td>DESOTO NATL FOREST</td>\n",
       "      <td>T6N,R8W, ST STEPHENS MERIDIAN</td>\n",
       "      <td>SEC 22, ALL</td>\n",
       "      <td>ES-06/00 50</td>\n",
       "      <td>2318.5</td>\n",
       "      <td>0</td>\n",
       "      <td>2318.5</td>\n",
       "      <td>1282</td>\n",
       "      <td>10</td>\n",
       "      <td>1970/01/01</td>\n",
       "      <td>12574.5</td>\n",
       "      <td>3.617</td>\n",
       "      <td>0.5</td>\n",
       "      <td>None</td>\n",
       "      <td>None</td>\n",
       "      <td>None</td>\n",
       "      <td>None</td>\n",
       "      <td>None</td>\n",
       "      <td>None</td>\n",
       "    </tr>\n",
       "    <tr>\n",
       "      <th>54</th>\n",
       "      <td>MSES050724</td>\n",
       "      <td>NO</td>\n",
       "      <td>R&amp;R Royalty</td>\n",
       "      <td>2000/06/29</td>\n",
       "      <td>2000/08/01</td>\n",
       "      <td>2010/08/01</td>\n",
       "      <td>240.45</td>\n",
       "      <td>WAYNE</td>\n",
       "      <td>MS</td>\n",
       "      <td>Expired 2010</td>\n",
       "      <td>2010</td>\n",
       "      <td>None</td>\n",
       "      <td>None</td>\n",
       "      <td>DESOTO NATL FOREST</td>\n",
       "      <td>T6N,R8W, ST STEPHENS MERIDIAN</td>\n",
       "      <td>SEC 23, NE, S2SE</td>\n",
       "      <td>ES-06/00 51</td>\n",
       "      <td>918.5</td>\n",
       "      <td>1446</td>\n",
       "      <td>2364.5</td>\n",
       "      <td>482</td>\n",
       "      <td>10</td>\n",
       "      <td>1970/01/01</td>\n",
       "      <td>6220.5</td>\n",
       "      <td>9.85208</td>\n",
       "      <td>0.5</td>\n",
       "      <td>None</td>\n",
       "      <td>None</td>\n",
       "      <td>None</td>\n",
       "      <td>None</td>\n",
       "      <td>None</td>\n",
       "      <td>None</td>\n",
       "    </tr>\n",
       "    <tr>\n",
       "      <th>55</th>\n",
       "      <td>MSES050725</td>\n",
       "      <td>NO</td>\n",
       "      <td>R&amp;R Royalty</td>\n",
       "      <td>2000/06/29</td>\n",
       "      <td>2000/08/01</td>\n",
       "      <td>2010/08/01</td>\n",
       "      <td>642.4</td>\n",
       "      <td>WAYNE</td>\n",
       "      <td>MS</td>\n",
       "      <td>Expired 2010</td>\n",
       "      <td>2010</td>\n",
       "      <td>None</td>\n",
       "      <td>None</td>\n",
       "      <td>DESOTO NATL FOREST</td>\n",
       "      <td>T6N,R8W, ST STEPHENS MERIDIAN</td>\n",
       "      <td>SEC 24, ALL</td>\n",
       "      <td>ES-06/00 52</td>\n",
       "      <td>2325.5</td>\n",
       "      <td>0</td>\n",
       "      <td>2325.5</td>\n",
       "      <td>1286</td>\n",
       "      <td>10</td>\n",
       "      <td>1970/01/01</td>\n",
       "      <td>12613.5</td>\n",
       "      <td>3.62227</td>\n",
       "      <td>0.5</td>\n",
       "      <td>None</td>\n",
       "      <td>None</td>\n",
       "      <td>None</td>\n",
       "      <td>None</td>\n",
       "      <td>None</td>\n",
       "      <td>None</td>\n",
       "    </tr>\n",
       "    <tr>\n",
       "      <th>56</th>\n",
       "      <td>MSES050726</td>\n",
       "      <td>NO</td>\n",
       "      <td>R&amp;R Royalty</td>\n",
       "      <td>2000/06/29</td>\n",
       "      <td>2000/08/01</td>\n",
       "      <td>2010/08/01</td>\n",
       "      <td>69.938</td>\n",
       "      <td>WAYNE</td>\n",
       "      <td>MS</td>\n",
       "      <td>Expired 2010</td>\n",
       "      <td>2010</td>\n",
       "      <td>None</td>\n",
       "      <td>None</td>\n",
       "      <td>DESOTO NATL FOREST</td>\n",
       "      <td>T6N,R8W, ST STEPHENS MERIDIAN</td>\n",
       "      <td>SEC 26, NWNW, SWNW, -EX 10A</td>\n",
       "      <td>ES-06/00 53</td>\n",
       "      <td>320</td>\n",
       "      <td>1120</td>\n",
       "      <td>1440</td>\n",
       "      <td>140</td>\n",
       "      <td>10</td>\n",
       "      <td>1970/01/01</td>\n",
       "      <td>2560</td>\n",
       "      <td>20.5714</td>\n",
       "      <td>0.5</td>\n",
       "      <td>None</td>\n",
       "      <td>None</td>\n",
       "      <td>None</td>\n",
       "      <td>None</td>\n",
       "      <td>None</td>\n",
       "      <td>None</td>\n",
       "    </tr>\n",
       "    <tr>\n",
       "      <th>57</th>\n",
       "      <td>MSES050727</td>\n",
       "      <td>NO</td>\n",
       "      <td>R&amp;R Royalty</td>\n",
       "      <td>2000/06/29</td>\n",
       "      <td>2000/08/01</td>\n",
       "      <td>2010/08/01</td>\n",
       "      <td>560</td>\n",
       "      <td>WAYNE</td>\n",
       "      <td>MS</td>\n",
       "      <td>Expired 2010</td>\n",
       "      <td>2010</td>\n",
       "      <td>None</td>\n",
       "      <td>None</td>\n",
       "      <td>DESOTO NATL FOREST</td>\n",
       "      <td>T6N,R8W, ST STEPHENS MERIDIAN</td>\n",
       "      <td>SEC 27, NENE,W2E2, W2, NESE</td>\n",
       "      <td>ES-06/00 54</td>\n",
       "      <td>2035</td>\n",
       "      <td>0</td>\n",
       "      <td>2035</td>\n",
       "      <td>1120</td>\n",
       "      <td>10</td>\n",
       "      <td>1970/01/01</td>\n",
       "      <td>10995</td>\n",
       "      <td>3.63393</td>\n",
       "      <td>0.5</td>\n",
       "      <td>None</td>\n",
       "      <td>None</td>\n",
       "      <td>None</td>\n",
       "      <td>None</td>\n",
       "      <td>None</td>\n",
       "      <td>None</td>\n",
       "    </tr>\n",
       "    <tr>\n",
       "      <th>58</th>\n",
       "      <td>MSES050728</td>\n",
       "      <td>NO</td>\n",
       "      <td>R&amp;R Royalty</td>\n",
       "      <td>2000/06/29</td>\n",
       "      <td>2000/08/01</td>\n",
       "      <td>2010/08/01</td>\n",
       "      <td>640</td>\n",
       "      <td>WAYNE</td>\n",
       "      <td>MS</td>\n",
       "      <td>Expired 2010</td>\n",
       "      <td>2010</td>\n",
       "      <td>None</td>\n",
       "      <td>None</td>\n",
       "      <td>DESOTO NATL FOREST</td>\n",
       "      <td>T6N,R8W, ST STEPHENS MERIDIAN</td>\n",
       "      <td>SEC 28, ALL</td>\n",
       "      <td>ES-06/00 55</td>\n",
       "      <td>2315</td>\n",
       "      <td>0</td>\n",
       "      <td>2315</td>\n",
       "      <td>1280</td>\n",
       "      <td>10</td>\n",
       "      <td>1970/01/01</td>\n",
       "      <td>12555</td>\n",
       "      <td>3.61719</td>\n",
       "      <td>0.5</td>\n",
       "      <td>None</td>\n",
       "      <td>None</td>\n",
       "      <td>None</td>\n",
       "      <td>None</td>\n",
       "      <td>None</td>\n",
       "      <td>None</td>\n",
       "    </tr>\n",
       "  </tbody>\n",
       "</table>\n",
       "</div>"
      ],
      "text/plain": [
       "     LEASE NO. PLOTTED      GRANTEE   SALE DATE EFFECTIVE DATE OF LEASE  \\\n",
       "0   TXNM096140      NO  R&R Royalty  1995/10/19              1995/12/01   \n",
       "2   TXNM103231      NO  R&R Royalty  1999/05/13              1999/07/01   \n",
       "4   TXNM091527      NO  R&R Royalty  1993/07/21              1993/09/01   \n",
       "6   TXNM102849      NO  R&R Royalty  1999/04/21              1999/06/01   \n",
       "8   TXNM103276      NO  R&R Royalty  1999/07/21              1999/09/01   \n",
       "9   TXNM103277      NO  R&R Royalty  1999/07/21              1999/09/01   \n",
       "10  TXNM103278      NO  R&R Royalty  1999/07/21              1999/09/01   \n",
       "11  TXNM103285      NO  R&R Royalty  1999/07/21              1999/09/01   \n",
       "12  TXNM103286      NO  R&R Royalty  1999/07/21              1999/09/01   \n",
       "13  TXNM103287      NO  R&R Royalty  1999/07/21              1999/09/01   \n",
       "14  TXNM103288      NO  R&R Royalty  1999/07/21              1999/09/01   \n",
       "15  TXNM103292      NO  R&R Royalty  1999/07/21              1999/09/01   \n",
       "16  TXNM103293      NO  R&R Royalty  1999/07/21              1999/09/01   \n",
       "17  TXNM103296      NO  R&R Royalty  1999/07/21              1999/09/01   \n",
       "18  TXNM103297      NO  R&R Royalty  1999/07/21              1999/09/01   \n",
       "19  TXNM103301      NO  R&R Royalty  1999/07/21              1999/09/01   \n",
       "20  TXNM103314      NO  R&R Royalty  1999/07/21              1999/09/01   \n",
       "21  TXNM103315      NO  R&R Royalty  1999/07/21              1999/09/01   \n",
       "22   ARES50476      NO  R&R Royalty  1999/09/23              1999/11/01   \n",
       "23   LAES50481      NO  R&R Royalty  1999/09/23              1999/11/01   \n",
       "24   MSES50483      NO  R&R Royalty  1999/09/23              1999/11/01   \n",
       "26   LAES50520      NO  R&R Royalty  1999/12/16              2000/02/01   \n",
       "27   MSES50524      NO  R&R Royalty  1999/12/16              2000/02/01   \n",
       "28   MSES50526      NO  R&R Royalty  1999/12/16              2000/02/01   \n",
       "32  MSES050634      NO  R&R Royalty  2000/03/23                    None   \n",
       "33  MSES050635      NO  R&R Royalty  2000/03/23                    None   \n",
       "34  MSES050636      NO  R&R Royalty  2000/03/23              2000/04/01   \n",
       "35  MSES050637      NO  R&R Royalty  2000/03/23                    None   \n",
       "36  MSES050642      NO  R&R Royalty  2000/03/23              2000/04/01   \n",
       "37  MSES050646      NO  R&R Royalty  2000/03/23              2000/04/01   \n",
       "39  LAES050702      NO  R&R Royalty  2000/06/29              2000/10/01   \n",
       "40  MSES050710      NO  R&R Royalty  2000/06/29              2000/08/01   \n",
       "41  MSES050711      NO  R&R Royalty  2000/06/29              2000/08/01   \n",
       "42  MSES050712      NO  R&R Royalty  2000/06/29              2000/08/01   \n",
       "43  MSES050713      NO  R&R Royalty  2000/06/29              2000/08/01   \n",
       "44  MSES050714      NO  R&R Royalty  2000/06/29              2000/08/01   \n",
       "45  MSES050715      NO  R&R Royalty  2000/06/29              2000/08/01   \n",
       "46  MSES050716      NO  R&R Royalty  2000/06/29              2000/08/01   \n",
       "47  MSES050717      NO  R&R Royalty  2000/06/29              2000/08/01   \n",
       "48  MSES050718      NO  R&R Royalty  2000/06/29              2000/08/01   \n",
       "49  MSES050719      NO  R&R Royalty  2000/06/29              2000/08/01   \n",
       "50  MSES050720      NO  R&R Royalty  2000/06/29              2000/08/01   \n",
       "51  MSES050721      NO  R&R Royalty  2000/06/29              2000/08/01   \n",
       "52  MSES050722      NO  R&R Royalty  2000/06/29              2000/08/01   \n",
       "53  MSES050723      NO  R&R Royalty  2000/06/29              2000/08/01   \n",
       "54  MSES050724      NO  R&R Royalty  2000/06/29              2000/08/01   \n",
       "55  MSES050725      NO  R&R Royalty  2000/06/29              2000/08/01   \n",
       "56  MSES050726      NO  R&R Royalty  2000/06/29              2000/08/01   \n",
       "57  MSES050727      NO  R&R Royalty  2000/06/29              2000/08/01   \n",
       "58  MSES050728      NO  R&R Royalty  2000/06/29              2000/08/01   \n",
       "\n",
       "   EXPIRATION DATE    ACRES                COUNTY  ST  \\\n",
       "0       2005/12/01     None           MONTGOMERY   TX   \n",
       "2       2009/07/01     None              HOUSTON   TX   \n",
       "4       2003/09/01     None               KLEBERG  TX   \n",
       "6       2009/06/01     None              KLEBERG   TX   \n",
       "8       2009/09/01     None              HOUSTON   TX   \n",
       "9       2009/09/01     None              HOUSTON   TX   \n",
       "10      2009/09/01     None               HOUSTON  TX   \n",
       "11      2009/09/01     None              HOUSTON   TX   \n",
       "12      2009/09/01     None              HOUSTON   TX   \n",
       "13      2009/09/01     None               HOUSTON  TX   \n",
       "14      2009/09/01     None               HOUSTON  TX   \n",
       "15      2009/09/01     None               SABINE   TX   \n",
       "16      2009/09/01     None               SABINE   TX   \n",
       "17      2009/09/01     None         SAN AUGUSTINE  TX   \n",
       "18      2009/09/01     None         SAN AUGUSTINE  TX   \n",
       "19      2009/09/01     None  SAN AUGUSTINE/SABINE  TX   \n",
       "20      2009/09/01     None              HOUSTON   TX   \n",
       "21      2009/09/01     None              HOUSTON   TX   \n",
       "22      2009/11/01     None             SEBASTIAN  AR   \n",
       "23      2009/11/01     None             CALCASIEU  LA   \n",
       "24      2009/11/01     None               FORREST  MS   \n",
       "26      2010/02/01   199.75               WEBSTER  LA   \n",
       "27      2010/02/01   433.54                 WAYNE  MS   \n",
       "28      2010/02/01     None             CHICKASAW  MS   \n",
       "32            None     None                  None  MS   \n",
       "33            None     None                  None  MS   \n",
       "34      2010/04/01    376.8                 ADAMS  MS   \n",
       "35            None     None                  None  MS   \n",
       "36      2010/04/01   152.11                 ADAMS  MS   \n",
       "37      2010/04/01    39.65                 WAYNE  MS   \n",
       "39      2010/10/01       80            ST BERNARD  LA   \n",
       "40      2010/08/01      600                 WAYNE  MS   \n",
       "41      2010/08/01    160.4                 WAYNE  MS   \n",
       "42      2010/08/01  561.138                 WAYNE  MS   \n",
       "43      2010/08/01    639.5                 WAYNE  MS   \n",
       "44      2010/08/01   481.05                 WAYNE  MS   \n",
       "45      2010/08/01   479.25                 WAYNE  MS   \n",
       "46      2010/08/01  437.938                 WAYNE  MS   \n",
       "47      2010/08/01   39.813                 WAYNE  MS   \n",
       "48      2010/08/01   475.28                 WAYNE  MS   \n",
       "49      2010/08/01      200                 WAYNE  MS   \n",
       "50      2010/08/01    642.7                 WAYNE  MS   \n",
       "51      2010/08/01    637.6                 WAYNE  MS   \n",
       "52      2010/08/01    637.8                 WAYNE  MS   \n",
       "53      2010/08/01    640.5                 WAYNE  MS   \n",
       "54      2010/08/01   240.45                 WAYNE  MS   \n",
       "55      2010/08/01    642.4                 WAYNE  MS   \n",
       "56      2010/08/01   69.938                 WAYNE  MS   \n",
       "57      2010/08/01      560                 WAYNE  MS   \n",
       "58      2010/08/01      640                 WAYNE  MS   \n",
       "\n",
       "                                      STATUS/COMMENTS EXPIRATION YEAR  \\\n",
       "0                                        Expired 2005            2005   \n",
       "2             Expired 2009 - Bought from Dan Gonzales            2009   \n",
       "4                         Expired 2003 | Bid Refunded            2003   \n",
       "6                                        Expired 2009            2009   \n",
       "8                                Expired 2009 -  sold            2009   \n",
       "9                                Expired 2009 -  sold            2009   \n",
       "10                               Expired 2009 -  sold            2009   \n",
       "11                               Expired 2009 -  sold            2009   \n",
       "12                               Expired 2009 -  sold            2009   \n",
       "13                               Expired 2009 -  sold            2009   \n",
       "14                               Expired 2009 -  sold            2009   \n",
       "15                                       Expired 2009            2009   \n",
       "16                                       Expired 2009            2009   \n",
       "17                                       Expired 2009            2009   \n",
       "18                                       Expired 2009            2009   \n",
       "19                                       Expired 2009            2009   \n",
       "20                               Expired 2009 -  sold            2009   \n",
       "21                               Expired 2009 -  sold            2009   \n",
       "22  Expired 2009 - May be part of 16,327.47 acre E...            2009   \n",
       "23                                       Expired 2009            2009   \n",
       "24                                       Expired 2009            2009   \n",
       "26                                       Expired 2010            2010   \n",
       "27    Expired 2010 - SUBLEASE TERMINATED O/A 11-14-02            2010   \n",
       "28  HBP-Gibraltar pays Royalty - Shut-in payment s...            2010   \n",
       "32                     Refunded 3-16-01. Bid Refunded            None   \n",
       "33                     Refunded 7-10-00. Bid Refunded            None   \n",
       "34                                       Expired 2010            2010   \n",
       "35                              Bid Refunded 7-10-00             None   \n",
       "36                                       Expired 2010            2010   \n",
       "37                                       Expired 2010            2010   \n",
       "39                                       Expired 2010            2010   \n",
       "40                                       Expired 2010            2010   \n",
       "41                                       Expired 2010            2010   \n",
       "42                                       Expired 2010            2010   \n",
       "43                                       Expired 2010            2010   \n",
       "44                                       Expired 2010            2010   \n",
       "45                                       Expired 2010            2010   \n",
       "46                                       Expired 2010            2010   \n",
       "47                                       Expired 2010            2010   \n",
       "48                                       Expired 2010            2010   \n",
       "49                                       Expired 2010            2010   \n",
       "50                                       Expired 2010            2010   \n",
       "51                                       Expired 2010            2010   \n",
       "52                                       Expired 2010            2010   \n",
       "53                                       Expired 2010            2010   \n",
       "54                                       Expired 2010            2010   \n",
       "55                                       Expired 2010            2010   \n",
       "56                                       Expired 2010            2010   \n",
       "57                                       Expired 2010            2010   \n",
       "58                                       Expired 2010            2010   \n",
       "\n",
       "   TOWNSHIP RANGE              DESCRIPTION I  \\\n",
       "0      None  None  ASSIGNMENT REC'D FROM DAN   \n",
       "2      None  None    SAM HOUSTON NATL FOREST   \n",
       "4      None  None            KINGSVILLE NAS    \n",
       "6      None  None       TEXAS A&M UNIVERSITY   \n",
       "8      None  None  DAVY CROCKETT NATL FOREST   \n",
       "9      None  None  DAVY CROCKETT NATL FOREST   \n",
       "10     None  None  DAVY CROCKETT NATL FOREST   \n",
       "11     None  None  DAVY CROCKETT NATL FOREST   \n",
       "12     None  None  DAVY CROCKETT NATL FOREST   \n",
       "13     None  None  DAVY CROCKETT NATL FOREST   \n",
       "14     None  None  DAVY CROCKETT NATL FOREST   \n",
       "15     None  None         SABINE NATL FOREST   \n",
       "16     None  None         SABINE NATL FOREST   \n",
       "17     None  None       ANGELINA NATL FOREST   \n",
       "18     None  None       ANGELINA NATL FOREST   \n",
       "19     None  None         SABINE NATL FOREST   \n",
       "20     None  None  DAVY CROCKETT NATL FOREST   \n",
       "21     None  None  DAVY CROCKETT NATL FOREST   \n",
       "22     None  None       OUICHATA NATL FOREST   \n",
       "23     None  None                       NONE   \n",
       "24     None  None         DESOTO NATL FOREST   \n",
       "26     None  None                       NONE   \n",
       "27     None  None                       NONE   \n",
       "28     None  None      TOMBIGBEE NATL FOREST   \n",
       "32     None  None                       None   \n",
       "33     None  None                       None   \n",
       "34     None  None     HOMOCHITTO NATL FOREST   \n",
       "35     None  None                       None   \n",
       "36     None  None     HOMOCHITTO NATL FOREST   \n",
       "37     None  None         DESOTO NATL FOREST   \n",
       "39     None  None                       NONE   \n",
       "40     None  None         DESOTO NATL FOREST   \n",
       "41     None  None         DESOTO NATL FOREST   \n",
       "42     None  None         DESOTO NATL FOREST   \n",
       "43     None  None         DESOTO NATL FOREST   \n",
       "44     None  None         DESOTO NATL FOREST   \n",
       "45     None  None         DESOTO NATL FOREST   \n",
       "46     None  None         DESOTO NATL FOREST   \n",
       "47     None  None         DESOTO NATL FOREST   \n",
       "48     None  None         DESOTO NATL FOREST   \n",
       "49     None  None         DESOTO NATL FOREST   \n",
       "50     None  None         DESOTO NATL FOREST   \n",
       "51     None  None         DESOTO NATL FOREST   \n",
       "52     None  None         DESOTO NATL FOREST   \n",
       "53     None  None         DESOTO NATL FOREST   \n",
       "54     None  None         DESOTO NATL FOREST   \n",
       "55     None  None         DESOTO NATL FOREST   \n",
       "56     None  None         DESOTO NATL FOREST   \n",
       "57     None  None         DESOTO NATL FOREST   \n",
       "58     None  None         DESOTO NATL FOREST   \n",
       "\n",
       "                               DESCRIPTION II  \\\n",
       "0                      TRACTS J22, J22A, J22B   \n",
       "2                   ASSIGNMENT REC'D FROM DAN   \n",
       "4                          J MINDIOLOA SURVEY   \n",
       "6   LOTS 2-8, BLK 5, KING ADDITION-EX 47.75 A   \n",
       "8                                  TRACT K-1g   \n",
       "9                        TRACT K-1h PARCEL #1   \n",
       "10                                 TRACT K-1i   \n",
       "11                                  TRACT K-6   \n",
       "12                                 TRACT K-18   \n",
       "13                                 TRACT K-31   \n",
       "14                                TRACT K-119   \n",
       "15                                 TRACT S1Av   \n",
       "16                                TRACT S-1Bb   \n",
       "17                      TRACT A-22a PARCEL #2   \n",
       "18                                TRACT A-22d   \n",
       "19                                TRACT S-1An   \n",
       "20                    TRACT K-1a-II PARCEL #1   \n",
       "21                    TRACT K-1a-II PARCEL #2   \n",
       "22          T4N, R31W, 5TH PRINCIPAL MERIDIAN   \n",
       "23             T8S, R10W,  LOUISIANA MERIDIAN   \n",
       "24           T1S, R13W, ST. STEPHENS MERIDIAN   \n",
       "26             T17N, R10W, LOUISIANA MERIDIAN   \n",
       "27            T7N, R8W, ST, STEPHENS MERIDIAN   \n",
       "28              T12S, R4E, CHICKASAW MERIDIAN   \n",
       "32                                       None   \n",
       "33                                       None   \n",
       "34              T5N, R1W, WASHINGTON MERIDIAN   \n",
       "35                                       None   \n",
       "36              T5N, R1W, WASHINGTON MERIDIAN   \n",
       "37            T6N, R7W, ST, STEPHENS MERIDIAN   \n",
       "39             T14S, R16E, ST HELENA MERIDIAN   \n",
       "40              T6N,R7W, ST STEPHENS MERIDIAN   \n",
       "41              T6N,R7W, ST STEPHENS MERIDIAN   \n",
       "42              T6N,R7W, ST STEPHENS MERIDIAN   \n",
       "43              T6N,R8W, ST STEPHENS MERIDIAN   \n",
       "44              T6N,R8W, ST STEPHENS MERIDIAN   \n",
       "45              T6N,R8W, ST STEPHENS MERIDIAN   \n",
       "46              T6N,R8W, ST STEPHENS MERIDIAN   \n",
       "47              T6N,R8W, ST STEPHENS MERIDIAN   \n",
       "48              T6N,R8W, ST STEPHENS MERIDIAN   \n",
       "49              T6N,R8W, ST STEPHENS MERIDIAN   \n",
       "50              T6N,R8W, ST STEPHENS MERIDIAN   \n",
       "51              T6N,R8W, ST STEPHENS MERIDIAN   \n",
       "52              T6N,R8W, ST STEPHENS MERIDIAN   \n",
       "53              T6N,R8W, ST STEPHENS MERIDIAN   \n",
       "54              T6N,R8W, ST STEPHENS MERIDIAN   \n",
       "55              T6N,R8W, ST STEPHENS MERIDIAN   \n",
       "56              T6N,R8W, ST STEPHENS MERIDIAN   \n",
       "57              T6N,R8W, ST STEPHENS MERIDIAN   \n",
       "58              T6N,R8W, ST STEPHENS MERIDIAN   \n",
       "\n",
       "                                      DESCRIPTION III    PARCEL NO  \\\n",
       "0                                                None         None   \n",
       "2                                                None         None   \n",
       "4                        LOTS & TRACTS IN SEC 23 & 30         None   \n",
       "6                                                None      9904002   \n",
       "8                                                None      9907041   \n",
       "9                               SEE EXHIBIT K FOR M&B      9907042   \n",
       "10                                               None      9907043   \n",
       "11                                               None      9907052   \n",
       "12                                               None      9907053   \n",
       "13                                               None      9907055   \n",
       "14                                               None      9907056   \n",
       "15                                               None      9907061   \n",
       "16                              SEE EXHIBIT L FOR M&B      9907062   \n",
       "17                                               None      9907072   \n",
       "18                                               None      9907073   \n",
       "19                                               None      9907081   \n",
       "20                              SEE EXHIBIT G FOR M&B      9907035   \n",
       "21                              SEE EXHIBIT H FOR M&B      9907036   \n",
       "22                                       SEC 32, SWNW  ES-09/99 48   \n",
       "23                                        SEC 1, SWNE  ES-09/99 53   \n",
       "24                                             SEC 25  ES-09/99 55   \n",
       "26                           SEC 20, SENE, N2SW, N2SE  ES-12/99 03   \n",
       "27                              SEC 4, SWNE, W2, W2SE  ES-12/99 07   \n",
       "28  SEC 5, SW, E20ac OF SESE, 7ac IN SE  CORNER OF...  ES-12/99 09   \n",
       "32                                               None         None   \n",
       "33                                               None         None   \n",
       "34                                         SEC 6, ALL  ES-03/00 31   \n",
       "35                                               None         None   \n",
       "36                              SEC 21, LOTS 5 THRU 8  ES-03/00 37   \n",
       "37                                       SEC 30, SWSW  ES-03/00 41   \n",
       "39                                       SEC 13, N2SW  ES-06/00 29   \n",
       "40                           SEC 11, NWNE, S2NE,W2,SE  ES-06/00 37   \n",
       "41                           SEC 27, SENE, W2NW, NESE  ES-06/00 38   \n",
       "42                   SEC 34,NWNE, S2NE,W2, N2SE, SWSE  ES-06/00 39   \n",
       "43                                         SEC 1, ALL  ES-06/00 40   \n",
       "44                                SEC 2, N2NE,W2,W2SE  ES-06/00 41   \n",
       "45                        SEC 4, W2NE,NW,SW, -EX. 1AC  ES-06/00 42   \n",
       "46                           SEC 5,NE, SWNW, SW, N2SE  ES-06/00 43   \n",
       "47                       SEC 5, SWSE (25% US MI ONLY)  ES-06/00 44   \n",
       "48                     SEC 6, NWNE. S2N2,SW,W2SE,SESE  ES-06/00 45   \n",
       "49                           SEC 10, S2NW, N2SW, SWSW  ES-06/00 46   \n",
       "50                                        SEC 13, ALL  ES-06/00 47   \n",
       "51                                        SEC 19, ALL  ES-06/00 48   \n",
       "52                                        SEC 20, ALL  ES-06/00 49   \n",
       "53                                        SEC 22, ALL  ES-06/00 50   \n",
       "54                                   SEC 23, NE, S2SE  ES-06/00 51   \n",
       "55                                        SEC 24, ALL  ES-06/00 52   \n",
       "56                        SEC 26, NWNW, SWNW, -EX 10A  ES-06/00 53   \n",
       "57                        SEC 27, NENE,W2E2, W2, NESE  ES-06/00 54   \n",
       "58                                        SEC 28, ALL  ES-06/00 55   \n",
       "\n",
       "   DUE AT SALE DUE AFTER SALE (REFUNDED) TOTAL  PAID AMOUNT OF RENTAL  \\\n",
       "0         None                     790.5       790.5             None   \n",
       "2         None                    1253.5      1253.5             None   \n",
       "4         None                      4200        4200             None   \n",
       "6      42612.5                         0     42612.5             None   \n",
       "8       1744.5                         0      1744.5             None   \n",
       "9       1436.5                         0      1436.5             None   \n",
       "10        2265                         0        2265             None   \n",
       "11         565                         0         565             None   \n",
       "12       162.5                         0       162.5             None   \n",
       "13         585                         0         585             None   \n",
       "14       204.5                         0       204.5             None   \n",
       "15      3004.5                         0      3004.5             None   \n",
       "16        4457                         0        4457             None   \n",
       "17       603.5                         0       603.5             None   \n",
       "18       911.5                         0       911.5             None   \n",
       "19      3774.5                         0      3774.5             None   \n",
       "20      3898.5                         0      3898.5             None   \n",
       "21      3871.5                         0      3871.5             None   \n",
       "22         215                      1720        1935             None   \n",
       "23         222                     15666       15888             None   \n",
       "24       638.5                     11753     12391.5             None   \n",
       "26         775                     54600       55375              400   \n",
       "27        1594                     42532       44126              868   \n",
       "28        1664                      6356        8020             None   \n",
       "32       298.5                    -223.5          75             None   \n",
       "33       745.5                    -670.5          75             None   \n",
       "34       640.5                         0       640.5              754   \n",
       "35       586.5                    -511.5          75             None   \n",
       "36       304.5                         0       304.5              306   \n",
       "37       13135                         0       13135               80   \n",
       "39         355                     15840       16195              160   \n",
       "40        2175                         0        2175             1200   \n",
       "41       638.5                       644      1282.5              322   \n",
       "42        2042                      1124        3166             1124   \n",
       "43        2315                      2560        4875             1280   \n",
       "44        1762                         0        1762              964   \n",
       "45        1755                      1920        3675              960   \n",
       "46        1608                      3066        4674              876   \n",
       "47         215                         0         215               80   \n",
       "48        1741                         0        1741              952   \n",
       "49         775                      1400        2175              400   \n",
       "50      2325.5                         0      2325.5             1286   \n",
       "51        2308                      3828        6136             1276   \n",
       "52        2308                      3828        6136             1276   \n",
       "53      2318.5                         0      2318.5             1282   \n",
       "54       918.5                      1446      2364.5              482   \n",
       "55      2325.5                         0      2325.5             1286   \n",
       "56         320                      1120        1440              140   \n",
       "57        2035                         0        2035             1120   \n",
       "58        2315                         0        2315             1280   \n",
       "\n",
       "   YEARS RENEWED  RENTALS PAID UP TO DATE TOTAL INVESTMENT (BONUS + RENTALS)  \\\n",
       "0             10               1970/01/01                              790.5   \n",
       "2             10               1970/01/01                             1253.5   \n",
       "4             10               1970/01/01                               4200   \n",
       "6             10               1970/01/01                            42612.5   \n",
       "8             10               1970/01/01                             1744.5   \n",
       "9             10               1970/01/01                             1436.5   \n",
       "10            10               1970/01/01                               2265   \n",
       "11            10               1970/01/01                                565   \n",
       "12            10               1970/01/01                              162.5   \n",
       "13            10               1970/01/01                                585   \n",
       "14            10               1970/01/01                              204.5   \n",
       "15            10               1970/01/01                             3004.5   \n",
       "16            10               1970/01/01                               4457   \n",
       "17            10               1970/01/01                              603.5   \n",
       "18            10               1970/01/01                              911.5   \n",
       "19            10               1970/01/01                             3774.5   \n",
       "20            10               1970/01/01                             3898.5   \n",
       "21            10               1970/01/01                             3871.5   \n",
       "22            10               1970/01/01                               1935   \n",
       "23            10               1970/01/01                              15888   \n",
       "24            10               1970/01/01                            12391.5   \n",
       "26            10               1970/01/01                              58575   \n",
       "27            10               1970/01/01                              51070   \n",
       "28            10               1970/01/01                               8020   \n",
       "32          None                     None                               None   \n",
       "33          None                     None                               None   \n",
       "34            10               1970/01/01                             6672.5   \n",
       "35          None                     None                               None   \n",
       "36            10               1970/01/01                             2752.5   \n",
       "37            10               1970/01/01                              13775   \n",
       "39            10               1970/01/01                              17475   \n",
       "40            10               1970/01/01                              11775   \n",
       "41            10               1970/01/01                             3858.5   \n",
       "42            10               1970/01/01                              12158   \n",
       "43            10               1970/01/01                              15115   \n",
       "44            10               1970/01/01                               9474   \n",
       "45            10               1970/01/01                              11355   \n",
       "46            10               1970/01/01                              11682   \n",
       "47            10               1970/01/01                                855   \n",
       "48            10               1970/01/01                               9357   \n",
       "49            10               1970/01/01                               5375   \n",
       "50            10               1970/01/01                            12613.5   \n",
       "51            10               1970/01/01                              16344   \n",
       "52            10               1970/01/01                              16344   \n",
       "53            10               1970/01/01                            12574.5   \n",
       "54            10               1970/01/01                             6220.5   \n",
       "55            10               1970/01/01                            12613.5   \n",
       "56            10               1970/01/01                               2560   \n",
       "57            10               1970/01/01                              10995   \n",
       "58            10               1970/01/01                              12555   \n",
       "\n",
       "   Estimated Bonus $/Acre  UA %   RA%   KA% RECORDED LEASE    \\\n",
       "0                       0        None  None             None   \n",
       "2                       0   0.5  None  None             None   \n",
       "4                       0   0.5  None  None             None   \n",
       "6                       0   0.5  None  None             None   \n",
       "8                       0   0.5  None  None             None   \n",
       "9                       0   0.5  None  None             None   \n",
       "10                      0   0.5  None  None             None   \n",
       "11                      0   0.5  None  None             None   \n",
       "12                      0   0.5  None  None             None   \n",
       "13                      0   0.5  None  None             None   \n",
       "14                      0   0.5  None  None             None   \n",
       "15                      0   0.5  None  None             None   \n",
       "16                      0   0.5  None  None             None   \n",
       "17                      0   0.5  None  None             None   \n",
       "18                      0   0.5  None  None             None   \n",
       "19                      0   0.5  None  None             None   \n",
       "20                      0   0.5  None  None             None   \n",
       "21                      0   0.5  None  None             None   \n",
       "22                      0   0.5  None  None             None   \n",
       "23                      0   0.5  None  None             None   \n",
       "24                      0   0.5  None  None             None   \n",
       "26                276.875   0.5  None  None             None   \n",
       "27                101.673   0.5  None  None             None   \n",
       "28                      0   0.5  None  None             None   \n",
       "32                      0  None  None  None             None   \n",
       "33                      0  None  None  None             None   \n",
       "34                1.69894   0.5  None  None             None   \n",
       "35                      0  None  None  None             None   \n",
       "36                2.00329   0.5  None  None             None   \n",
       "37                328.375   0.5  None  None             None   \n",
       "39                202.438   0.5  None  None             None   \n",
       "40                  3.625   0.5  None  None             None   \n",
       "41                8.01562   0.5  None  None             None   \n",
       "42                5.64349   0.5  None  None             None   \n",
       "43                7.61719   0.5  None  None             None   \n",
       "44                 3.6632   0.5  None  None             None   \n",
       "45                7.67223   0.5  None  None             None   \n",
       "46                10.6712   0.5  None  None             None   \n",
       "47                  5.375   0.5  None  None             None   \n",
       "48                3.66526   0.5  None  None             None   \n",
       "49                 10.875   0.5  None  None             None   \n",
       "50                3.61664   0.5  None  None             None   \n",
       "51                9.61755   0.5  None  None             None   \n",
       "52                9.61755   0.5  None  None             None   \n",
       "53                  3.617   0.5  None  None             None   \n",
       "54                9.85208   0.5  None  None             None   \n",
       "55                3.62227   0.5  None  None             None   \n",
       "56                20.5714   0.5  None  None             None   \n",
       "57                3.63393   0.5  None  None             None   \n",
       "58                3.61719   0.5  None  None             None   \n",
       "\n",
       "   DATE FILED (OVERRIDE) % OF OVERRIDES Assignment of ORRI  \n",
       "0                   None           None               None  \n",
       "2                   None           None               None  \n",
       "4                   None           None               None  \n",
       "6                   None           None               None  \n",
       "8                   None           None               None  \n",
       "9                   None           None               None  \n",
       "10                  None           None               None  \n",
       "11                  None           None               None  \n",
       "12                  None           None               None  \n",
       "13                  None           None               None  \n",
       "14                  None           None               None  \n",
       "15                  None           None               None  \n",
       "16                  None           None               None  \n",
       "17                  None           None               None  \n",
       "18                  None           None               None  \n",
       "19                  None           None               None  \n",
       "20                  None           None               None  \n",
       "21                  None           None               None  \n",
       "22                  None           None               None  \n",
       "23                  None           None               None  \n",
       "24                  None           None               None  \n",
       "26                  None           None               None  \n",
       "27                  None           None               None  \n",
       "28                  None           None               None  \n",
       "32                  None           None               None  \n",
       "33                  None           None               None  \n",
       "34                  None           None               None  \n",
       "35                  None           None               None  \n",
       "36                  None           None               None  \n",
       "37                  None           None               None  \n",
       "39                  None           None               None  \n",
       "40                  None           None               None  \n",
       "41                  None           None               None  \n",
       "42                  None           None               None  \n",
       "43                  None           None               None  \n",
       "44                  None           None               None  \n",
       "45                  None           None               None  \n",
       "46                  None           None               None  \n",
       "47                  None           None               None  \n",
       "48                  None           None               None  \n",
       "49                  None           None               None  \n",
       "50                  None           None               None  \n",
       "51                  None           None               None  \n",
       "52                  None           None               None  \n",
       "53                  None           None               None  \n",
       "54                  None           None               None  \n",
       "55                  None           None               None  \n",
       "56                  None           None               None  \n",
       "57                  None           None               None  \n",
       "58                  None           None               None  "
      ]
     },
     "execution_count": 100,
     "metadata": {},
     "output_type": "execute_result"
    }
   ],
   "source": [
    "cleanData.head(50)"
   ]
  },
  {
   "cell_type": "markdown",
   "metadata": {},
   "source": [
    "### Exporting cleaned data to excel for manual inspection"
   ]
  },
  {
   "cell_type": "code",
   "execution_count": 101,
   "metadata": {},
   "outputs": [],
   "source": [
    "#cleanData.to_excel('testclean.xlsx', index = False)"
   ]
  },
  {
   "cell_type": "code",
   "execution_count": null,
   "metadata": {},
   "outputs": [],
   "source": []
  },
  {
   "cell_type": "markdown",
   "metadata": {},
   "source": [
    "# Prepare Tables and Extract Associated Column Names\n"
   ]
  },
  {
   "cell_type": "code",
   "execution_count": 102,
   "metadata": {},
   "outputs": [
    {
     "data": {
      "text/plain": [
       "Index(['LEASE NO.', 'PLOTTED', 'GRANTEE', 'SALE DATE',\n",
       "       'EFFECTIVE DATE OF LEASE', 'EXPIRATION DATE', 'ACRES', 'COUNTY', 'ST',\n",
       "       'STATUS/COMMENTS', 'EXPIRATION YEAR', 'TOWNSHIP', 'RANGE',\n",
       "       'DESCRIPTION I', 'DESCRIPTION II', 'DESCRIPTION III', 'PARCEL NO',\n",
       "       'DUE AT SALE', 'DUE AFTER SALE (REFUNDED)', 'TOTAL  PAID',\n",
       "       'AMOUNT OF RENTAL', 'YEARS RENEWED', ' RENTALS PAID UP TO DATE',\n",
       "       'TOTAL INVESTMENT (BONUS + RENTALS)', 'Estimated Bonus $/Acre', 'UA %',\n",
       "       'RA%', 'KA%', 'RECORDED LEASE  ', 'DATE FILED (OVERRIDE)',\n",
       "       '% OF OVERRIDES', 'Assignment of ORRI'],\n",
       "      dtype='object')"
      ]
     },
     "execution_count": 102,
     "metadata": {},
     "output_type": "execute_result"
    }
   ],
   "source": [
    "cleanData.columns"
   ]
  },
  {
   "cell_type": "code",
   "execution_count": 103,
   "metadata": {},
   "outputs": [],
   "source": [
    "\n",
    "tableCols = {\n",
    "    \n",
    "'details' : ['LEASE NO.', 'PLOTTED', 'GRANTEE', 'SALE DATE',\n",
    "   'EFFECTIVE DATE OF LEASE', 'EXPIRATION DATE', 'ACRES', 'COUNTY', 'ST',\n",
    "   'STATUS/COMMENTS', 'EXPIRATION YEAR', 'TOWNSHIP', 'RANGE',\n",
    "   'DESCRIPTION I', 'DESCRIPTION II', 'DESCRIPTION III'],\n",
    "\n",
    "'sale_info' : ['LEASE NO.', 'PARCEL NO',\n",
    "   'DUE AT SALE', 'DUE AFTER SALE (REFUNDED)', 'TOTAL  PAID', 'AMOUNT OF RENTAL'],\n",
    "\n",
    "'investment' : ['LEASE NO.', 'YEARS RENEWED', ' RENTALS PAID UP TO DATE',\n",
    "       'TOTAL INVESTMENT (BONUS + RENTALS)', 'Estimated Bonus $/Acre'],\n",
    "\n",
    "'interest' : ['LEASE NO.', 'UA %',\n",
    "       'RA%', 'KA%'],\n",
    "\n",
    "'recording' : ['LEASE NO.', 'RECORDED LEASE  ', 'DATE FILED (OVERRIDE)',\n",
    "       '% OF OVERRIDES', 'Assignment of ORRI'],   \n",
    "}"
   ]
  },
  {
   "cell_type": "code",
   "execution_count": 104,
   "metadata": {},
   "outputs": [
    {
     "data": {
      "text/html": [
       "<div>\n",
       "<style scoped>\n",
       "    .dataframe tbody tr th:only-of-type {\n",
       "        vertical-align: middle;\n",
       "    }\n",
       "\n",
       "    .dataframe tbody tr th {\n",
       "        vertical-align: top;\n",
       "    }\n",
       "\n",
       "    .dataframe thead th {\n",
       "        text-align: right;\n",
       "    }\n",
       "</style>\n",
       "<table border=\"1\" class=\"dataframe\">\n",
       "  <thead>\n",
       "    <tr style=\"text-align: right;\">\n",
       "      <th></th>\n",
       "      <th>LEASE NO.</th>\n",
       "      <th>PLOTTED</th>\n",
       "      <th>GRANTEE</th>\n",
       "      <th>SALE DATE</th>\n",
       "      <th>EFFECTIVE DATE OF LEASE</th>\n",
       "      <th>EXPIRATION DATE</th>\n",
       "      <th>ACRES</th>\n",
       "      <th>COUNTY</th>\n",
       "      <th>ST</th>\n",
       "      <th>STATUS/COMMENTS</th>\n",
       "      <th>EXPIRATION YEAR</th>\n",
       "      <th>TOWNSHIP</th>\n",
       "      <th>RANGE</th>\n",
       "      <th>DESCRIPTION I</th>\n",
       "      <th>DESCRIPTION II</th>\n",
       "      <th>DESCRIPTION III</th>\n",
       "    </tr>\n",
       "  </thead>\n",
       "  <tbody>\n",
       "    <tr>\n",
       "      <th>0</th>\n",
       "      <td>TXNM096140</td>\n",
       "      <td>NO</td>\n",
       "      <td>R&amp;R Royalty</td>\n",
       "      <td>1995/10/19</td>\n",
       "      <td>1995/12/01</td>\n",
       "      <td>2005/12/01</td>\n",
       "      <td>None</td>\n",
       "      <td>MONTGOMERY</td>\n",
       "      <td>TX</td>\n",
       "      <td>Expired 2005</td>\n",
       "      <td>2005</td>\n",
       "      <td>None</td>\n",
       "      <td>None</td>\n",
       "      <td>ASSIGNMENT REC'D FROM DAN</td>\n",
       "      <td>TRACTS J22, J22A, J22B</td>\n",
       "      <td>None</td>\n",
       "    </tr>\n",
       "    <tr>\n",
       "      <th>2</th>\n",
       "      <td>TXNM103231</td>\n",
       "      <td>NO</td>\n",
       "      <td>R&amp;R Royalty</td>\n",
       "      <td>1999/05/13</td>\n",
       "      <td>1999/07/01</td>\n",
       "      <td>2009/07/01</td>\n",
       "      <td>None</td>\n",
       "      <td>HOUSTON</td>\n",
       "      <td>TX</td>\n",
       "      <td>Expired 2009 - Bought from Dan Gonzales</td>\n",
       "      <td>2009</td>\n",
       "      <td>None</td>\n",
       "      <td>None</td>\n",
       "      <td>SAM HOUSTON NATL FOREST</td>\n",
       "      <td>ASSIGNMENT REC'D FROM DAN</td>\n",
       "      <td>None</td>\n",
       "    </tr>\n",
       "    <tr>\n",
       "      <th>4</th>\n",
       "      <td>TXNM091527</td>\n",
       "      <td>NO</td>\n",
       "      <td>R&amp;R Royalty</td>\n",
       "      <td>1993/07/21</td>\n",
       "      <td>1993/09/01</td>\n",
       "      <td>2003/09/01</td>\n",
       "      <td>None</td>\n",
       "      <td>KLEBERG</td>\n",
       "      <td>TX</td>\n",
       "      <td>Expired 2003 | Bid Refunded</td>\n",
       "      <td>2003</td>\n",
       "      <td>None</td>\n",
       "      <td>None</td>\n",
       "      <td>KINGSVILLE NAS</td>\n",
       "      <td>J MINDIOLOA SURVEY</td>\n",
       "      <td>LOTS &amp; TRACTS IN SEC 23 &amp; 30</td>\n",
       "    </tr>\n",
       "    <tr>\n",
       "      <th>6</th>\n",
       "      <td>TXNM102849</td>\n",
       "      <td>NO</td>\n",
       "      <td>R&amp;R Royalty</td>\n",
       "      <td>1999/04/21</td>\n",
       "      <td>1999/06/01</td>\n",
       "      <td>2009/06/01</td>\n",
       "      <td>None</td>\n",
       "      <td>KLEBERG</td>\n",
       "      <td>TX</td>\n",
       "      <td>Expired 2009</td>\n",
       "      <td>2009</td>\n",
       "      <td>None</td>\n",
       "      <td>None</td>\n",
       "      <td>TEXAS A&amp;M UNIVERSITY</td>\n",
       "      <td>LOTS 2-8, BLK 5, KING ADDITION-EX 47.75 A</td>\n",
       "      <td>None</td>\n",
       "    </tr>\n",
       "    <tr>\n",
       "      <th>8</th>\n",
       "      <td>TXNM103276</td>\n",
       "      <td>NO</td>\n",
       "      <td>R&amp;R Royalty</td>\n",
       "      <td>1999/07/21</td>\n",
       "      <td>1999/09/01</td>\n",
       "      <td>2009/09/01</td>\n",
       "      <td>None</td>\n",
       "      <td>HOUSTON</td>\n",
       "      <td>TX</td>\n",
       "      <td>Expired 2009 -  sold</td>\n",
       "      <td>2009</td>\n",
       "      <td>None</td>\n",
       "      <td>None</td>\n",
       "      <td>DAVY CROCKETT NATL FOREST</td>\n",
       "      <td>TRACT K-1g</td>\n",
       "      <td>None</td>\n",
       "    </tr>\n",
       "    <tr>\n",
       "      <th>9</th>\n",
       "      <td>TXNM103277</td>\n",
       "      <td>NO</td>\n",
       "      <td>R&amp;R Royalty</td>\n",
       "      <td>1999/07/21</td>\n",
       "      <td>1999/09/01</td>\n",
       "      <td>2009/09/01</td>\n",
       "      <td>None</td>\n",
       "      <td>HOUSTON</td>\n",
       "      <td>TX</td>\n",
       "      <td>Expired 2009 -  sold</td>\n",
       "      <td>2009</td>\n",
       "      <td>None</td>\n",
       "      <td>None</td>\n",
       "      <td>DAVY CROCKETT NATL FOREST</td>\n",
       "      <td>TRACT K-1h PARCEL #1</td>\n",
       "      <td>SEE EXHIBIT K FOR M&amp;B</td>\n",
       "    </tr>\n",
       "    <tr>\n",
       "      <th>10</th>\n",
       "      <td>TXNM103278</td>\n",
       "      <td>NO</td>\n",
       "      <td>R&amp;R Royalty</td>\n",
       "      <td>1999/07/21</td>\n",
       "      <td>1999/09/01</td>\n",
       "      <td>2009/09/01</td>\n",
       "      <td>None</td>\n",
       "      <td>HOUSTON</td>\n",
       "      <td>TX</td>\n",
       "      <td>Expired 2009 -  sold</td>\n",
       "      <td>2009</td>\n",
       "      <td>None</td>\n",
       "      <td>None</td>\n",
       "      <td>DAVY CROCKETT NATL FOREST</td>\n",
       "      <td>TRACT K-1i</td>\n",
       "      <td>None</td>\n",
       "    </tr>\n",
       "    <tr>\n",
       "      <th>11</th>\n",
       "      <td>TXNM103285</td>\n",
       "      <td>NO</td>\n",
       "      <td>R&amp;R Royalty</td>\n",
       "      <td>1999/07/21</td>\n",
       "      <td>1999/09/01</td>\n",
       "      <td>2009/09/01</td>\n",
       "      <td>None</td>\n",
       "      <td>HOUSTON</td>\n",
       "      <td>TX</td>\n",
       "      <td>Expired 2009 -  sold</td>\n",
       "      <td>2009</td>\n",
       "      <td>None</td>\n",
       "      <td>None</td>\n",
       "      <td>DAVY CROCKETT NATL FOREST</td>\n",
       "      <td>TRACT K-6</td>\n",
       "      <td>None</td>\n",
       "    </tr>\n",
       "    <tr>\n",
       "      <th>12</th>\n",
       "      <td>TXNM103286</td>\n",
       "      <td>NO</td>\n",
       "      <td>R&amp;R Royalty</td>\n",
       "      <td>1999/07/21</td>\n",
       "      <td>1999/09/01</td>\n",
       "      <td>2009/09/01</td>\n",
       "      <td>None</td>\n",
       "      <td>HOUSTON</td>\n",
       "      <td>TX</td>\n",
       "      <td>Expired 2009 -  sold</td>\n",
       "      <td>2009</td>\n",
       "      <td>None</td>\n",
       "      <td>None</td>\n",
       "      <td>DAVY CROCKETT NATL FOREST</td>\n",
       "      <td>TRACT K-18</td>\n",
       "      <td>None</td>\n",
       "    </tr>\n",
       "    <tr>\n",
       "      <th>13</th>\n",
       "      <td>TXNM103287</td>\n",
       "      <td>NO</td>\n",
       "      <td>R&amp;R Royalty</td>\n",
       "      <td>1999/07/21</td>\n",
       "      <td>1999/09/01</td>\n",
       "      <td>2009/09/01</td>\n",
       "      <td>None</td>\n",
       "      <td>HOUSTON</td>\n",
       "      <td>TX</td>\n",
       "      <td>Expired 2009 -  sold</td>\n",
       "      <td>2009</td>\n",
       "      <td>None</td>\n",
       "      <td>None</td>\n",
       "      <td>DAVY CROCKETT NATL FOREST</td>\n",
       "      <td>TRACT K-31</td>\n",
       "      <td>None</td>\n",
       "    </tr>\n",
       "    <tr>\n",
       "      <th>14</th>\n",
       "      <td>TXNM103288</td>\n",
       "      <td>NO</td>\n",
       "      <td>R&amp;R Royalty</td>\n",
       "      <td>1999/07/21</td>\n",
       "      <td>1999/09/01</td>\n",
       "      <td>2009/09/01</td>\n",
       "      <td>None</td>\n",
       "      <td>HOUSTON</td>\n",
       "      <td>TX</td>\n",
       "      <td>Expired 2009 -  sold</td>\n",
       "      <td>2009</td>\n",
       "      <td>None</td>\n",
       "      <td>None</td>\n",
       "      <td>DAVY CROCKETT NATL FOREST</td>\n",
       "      <td>TRACT K-119</td>\n",
       "      <td>None</td>\n",
       "    </tr>\n",
       "    <tr>\n",
       "      <th>15</th>\n",
       "      <td>TXNM103292</td>\n",
       "      <td>NO</td>\n",
       "      <td>R&amp;R Royalty</td>\n",
       "      <td>1999/07/21</td>\n",
       "      <td>1999/09/01</td>\n",
       "      <td>2009/09/01</td>\n",
       "      <td>None</td>\n",
       "      <td>SABINE</td>\n",
       "      <td>TX</td>\n",
       "      <td>Expired 2009</td>\n",
       "      <td>2009</td>\n",
       "      <td>None</td>\n",
       "      <td>None</td>\n",
       "      <td>SABINE NATL FOREST</td>\n",
       "      <td>TRACT S1Av</td>\n",
       "      <td>None</td>\n",
       "    </tr>\n",
       "    <tr>\n",
       "      <th>16</th>\n",
       "      <td>TXNM103293</td>\n",
       "      <td>NO</td>\n",
       "      <td>R&amp;R Royalty</td>\n",
       "      <td>1999/07/21</td>\n",
       "      <td>1999/09/01</td>\n",
       "      <td>2009/09/01</td>\n",
       "      <td>None</td>\n",
       "      <td>SABINE</td>\n",
       "      <td>TX</td>\n",
       "      <td>Expired 2009</td>\n",
       "      <td>2009</td>\n",
       "      <td>None</td>\n",
       "      <td>None</td>\n",
       "      <td>SABINE NATL FOREST</td>\n",
       "      <td>TRACT S-1Bb</td>\n",
       "      <td>SEE EXHIBIT L FOR M&amp;B</td>\n",
       "    </tr>\n",
       "    <tr>\n",
       "      <th>17</th>\n",
       "      <td>TXNM103296</td>\n",
       "      <td>NO</td>\n",
       "      <td>R&amp;R Royalty</td>\n",
       "      <td>1999/07/21</td>\n",
       "      <td>1999/09/01</td>\n",
       "      <td>2009/09/01</td>\n",
       "      <td>None</td>\n",
       "      <td>SAN AUGUSTINE</td>\n",
       "      <td>TX</td>\n",
       "      <td>Expired 2009</td>\n",
       "      <td>2009</td>\n",
       "      <td>None</td>\n",
       "      <td>None</td>\n",
       "      <td>ANGELINA NATL FOREST</td>\n",
       "      <td>TRACT A-22a PARCEL #2</td>\n",
       "      <td>None</td>\n",
       "    </tr>\n",
       "    <tr>\n",
       "      <th>18</th>\n",
       "      <td>TXNM103297</td>\n",
       "      <td>NO</td>\n",
       "      <td>R&amp;R Royalty</td>\n",
       "      <td>1999/07/21</td>\n",
       "      <td>1999/09/01</td>\n",
       "      <td>2009/09/01</td>\n",
       "      <td>None</td>\n",
       "      <td>SAN AUGUSTINE</td>\n",
       "      <td>TX</td>\n",
       "      <td>Expired 2009</td>\n",
       "      <td>2009</td>\n",
       "      <td>None</td>\n",
       "      <td>None</td>\n",
       "      <td>ANGELINA NATL FOREST</td>\n",
       "      <td>TRACT A-22d</td>\n",
       "      <td>None</td>\n",
       "    </tr>\n",
       "    <tr>\n",
       "      <th>19</th>\n",
       "      <td>TXNM103301</td>\n",
       "      <td>NO</td>\n",
       "      <td>R&amp;R Royalty</td>\n",
       "      <td>1999/07/21</td>\n",
       "      <td>1999/09/01</td>\n",
       "      <td>2009/09/01</td>\n",
       "      <td>None</td>\n",
       "      <td>SAN AUGUSTINE/SABINE</td>\n",
       "      <td>TX</td>\n",
       "      <td>Expired 2009</td>\n",
       "      <td>2009</td>\n",
       "      <td>None</td>\n",
       "      <td>None</td>\n",
       "      <td>SABINE NATL FOREST</td>\n",
       "      <td>TRACT S-1An</td>\n",
       "      <td>None</td>\n",
       "    </tr>\n",
       "    <tr>\n",
       "      <th>20</th>\n",
       "      <td>TXNM103314</td>\n",
       "      <td>NO</td>\n",
       "      <td>R&amp;R Royalty</td>\n",
       "      <td>1999/07/21</td>\n",
       "      <td>1999/09/01</td>\n",
       "      <td>2009/09/01</td>\n",
       "      <td>None</td>\n",
       "      <td>HOUSTON</td>\n",
       "      <td>TX</td>\n",
       "      <td>Expired 2009 -  sold</td>\n",
       "      <td>2009</td>\n",
       "      <td>None</td>\n",
       "      <td>None</td>\n",
       "      <td>DAVY CROCKETT NATL FOREST</td>\n",
       "      <td>TRACT K-1a-II PARCEL #1</td>\n",
       "      <td>SEE EXHIBIT G FOR M&amp;B</td>\n",
       "    </tr>\n",
       "    <tr>\n",
       "      <th>21</th>\n",
       "      <td>TXNM103315</td>\n",
       "      <td>NO</td>\n",
       "      <td>R&amp;R Royalty</td>\n",
       "      <td>1999/07/21</td>\n",
       "      <td>1999/09/01</td>\n",
       "      <td>2009/09/01</td>\n",
       "      <td>None</td>\n",
       "      <td>HOUSTON</td>\n",
       "      <td>TX</td>\n",
       "      <td>Expired 2009 -  sold</td>\n",
       "      <td>2009</td>\n",
       "      <td>None</td>\n",
       "      <td>None</td>\n",
       "      <td>DAVY CROCKETT NATL FOREST</td>\n",
       "      <td>TRACT K-1a-II PARCEL #2</td>\n",
       "      <td>SEE EXHIBIT H FOR M&amp;B</td>\n",
       "    </tr>\n",
       "    <tr>\n",
       "      <th>22</th>\n",
       "      <td>ARES50476</td>\n",
       "      <td>NO</td>\n",
       "      <td>R&amp;R Royalty</td>\n",
       "      <td>1999/09/23</td>\n",
       "      <td>1999/11/01</td>\n",
       "      <td>2009/11/01</td>\n",
       "      <td>None</td>\n",
       "      <td>SEBASTIAN</td>\n",
       "      <td>AR</td>\n",
       "      <td>Expired 2009 - May be part of 16,327.47 acre E...</td>\n",
       "      <td>2009</td>\n",
       "      <td>None</td>\n",
       "      <td>None</td>\n",
       "      <td>OUICHATA NATL FOREST</td>\n",
       "      <td>T4N, R31W, 5TH PRINCIPAL MERIDIAN</td>\n",
       "      <td>SEC 32, SWNW</td>\n",
       "    </tr>\n",
       "    <tr>\n",
       "      <th>23</th>\n",
       "      <td>LAES50481</td>\n",
       "      <td>NO</td>\n",
       "      <td>R&amp;R Royalty</td>\n",
       "      <td>1999/09/23</td>\n",
       "      <td>1999/11/01</td>\n",
       "      <td>2009/11/01</td>\n",
       "      <td>None</td>\n",
       "      <td>CALCASIEU</td>\n",
       "      <td>LA</td>\n",
       "      <td>Expired 2009</td>\n",
       "      <td>2009</td>\n",
       "      <td>None</td>\n",
       "      <td>None</td>\n",
       "      <td>NONE</td>\n",
       "      <td>T8S, R10W,  LOUISIANA MERIDIAN</td>\n",
       "      <td>SEC 1, SWNE</td>\n",
       "    </tr>\n",
       "    <tr>\n",
       "      <th>24</th>\n",
       "      <td>MSES50483</td>\n",
       "      <td>NO</td>\n",
       "      <td>R&amp;R Royalty</td>\n",
       "      <td>1999/09/23</td>\n",
       "      <td>1999/11/01</td>\n",
       "      <td>2009/11/01</td>\n",
       "      <td>None</td>\n",
       "      <td>FORREST</td>\n",
       "      <td>MS</td>\n",
       "      <td>Expired 2009</td>\n",
       "      <td>2009</td>\n",
       "      <td>None</td>\n",
       "      <td>None</td>\n",
       "      <td>DESOTO NATL FOREST</td>\n",
       "      <td>T1S, R13W, ST. STEPHENS MERIDIAN</td>\n",
       "      <td>SEC 25</td>\n",
       "    </tr>\n",
       "    <tr>\n",
       "      <th>26</th>\n",
       "      <td>LAES50520</td>\n",
       "      <td>NO</td>\n",
       "      <td>R&amp;R Royalty</td>\n",
       "      <td>1999/12/16</td>\n",
       "      <td>2000/02/01</td>\n",
       "      <td>2010/02/01</td>\n",
       "      <td>199.75</td>\n",
       "      <td>WEBSTER</td>\n",
       "      <td>LA</td>\n",
       "      <td>Expired 2010</td>\n",
       "      <td>2010</td>\n",
       "      <td>None</td>\n",
       "      <td>None</td>\n",
       "      <td>NONE</td>\n",
       "      <td>T17N, R10W, LOUISIANA MERIDIAN</td>\n",
       "      <td>SEC 20, SENE, N2SW, N2SE</td>\n",
       "    </tr>\n",
       "    <tr>\n",
       "      <th>27</th>\n",
       "      <td>MSES50524</td>\n",
       "      <td>NO</td>\n",
       "      <td>R&amp;R Royalty</td>\n",
       "      <td>1999/12/16</td>\n",
       "      <td>2000/02/01</td>\n",
       "      <td>2010/02/01</td>\n",
       "      <td>433.54</td>\n",
       "      <td>WAYNE</td>\n",
       "      <td>MS</td>\n",
       "      <td>Expired 2010 - SUBLEASE TERMINATED O/A 11-14-02</td>\n",
       "      <td>2010</td>\n",
       "      <td>None</td>\n",
       "      <td>None</td>\n",
       "      <td>NONE</td>\n",
       "      <td>T7N, R8W, ST, STEPHENS MERIDIAN</td>\n",
       "      <td>SEC 4, SWNE, W2, W2SE</td>\n",
       "    </tr>\n",
       "    <tr>\n",
       "      <th>28</th>\n",
       "      <td>MSES50526</td>\n",
       "      <td>NO</td>\n",
       "      <td>R&amp;R Royalty</td>\n",
       "      <td>1999/12/16</td>\n",
       "      <td>2000/02/01</td>\n",
       "      <td>2010/02/01</td>\n",
       "      <td>None</td>\n",
       "      <td>CHICKASAW</td>\n",
       "      <td>MS</td>\n",
       "      <td>HBP-Gibraltar pays Royalty - Shut-in payment s...</td>\n",
       "      <td>2010</td>\n",
       "      <td>None</td>\n",
       "      <td>None</td>\n",
       "      <td>TOMBIGBEE NATL FOREST</td>\n",
       "      <td>T12S, R4E, CHICKASAW MERIDIAN</td>\n",
       "      <td>SEC 5, SW, E20ac OF SESE, 7ac IN SE  CORNER OF...</td>\n",
       "    </tr>\n",
       "    <tr>\n",
       "      <th>32</th>\n",
       "      <td>MSES050634</td>\n",
       "      <td>NO</td>\n",
       "      <td>R&amp;R Royalty</td>\n",
       "      <td>2000/03/23</td>\n",
       "      <td>None</td>\n",
       "      <td>None</td>\n",
       "      <td>None</td>\n",
       "      <td>None</td>\n",
       "      <td>MS</td>\n",
       "      <td>Refunded 3-16-01. Bid Refunded</td>\n",
       "      <td>None</td>\n",
       "      <td>None</td>\n",
       "      <td>None</td>\n",
       "      <td>None</td>\n",
       "      <td>None</td>\n",
       "      <td>None</td>\n",
       "    </tr>\n",
       "    <tr>\n",
       "      <th>33</th>\n",
       "      <td>MSES050635</td>\n",
       "      <td>NO</td>\n",
       "      <td>R&amp;R Royalty</td>\n",
       "      <td>2000/03/23</td>\n",
       "      <td>None</td>\n",
       "      <td>None</td>\n",
       "      <td>None</td>\n",
       "      <td>None</td>\n",
       "      <td>MS</td>\n",
       "      <td>Refunded 7-10-00. Bid Refunded</td>\n",
       "      <td>None</td>\n",
       "      <td>None</td>\n",
       "      <td>None</td>\n",
       "      <td>None</td>\n",
       "      <td>None</td>\n",
       "      <td>None</td>\n",
       "    </tr>\n",
       "    <tr>\n",
       "      <th>34</th>\n",
       "      <td>MSES050636</td>\n",
       "      <td>NO</td>\n",
       "      <td>R&amp;R Royalty</td>\n",
       "      <td>2000/03/23</td>\n",
       "      <td>2000/04/01</td>\n",
       "      <td>2010/04/01</td>\n",
       "      <td>376.8</td>\n",
       "      <td>ADAMS</td>\n",
       "      <td>MS</td>\n",
       "      <td>Expired 2010</td>\n",
       "      <td>2010</td>\n",
       "      <td>None</td>\n",
       "      <td>None</td>\n",
       "      <td>HOMOCHITTO NATL FOREST</td>\n",
       "      <td>T5N, R1W, WASHINGTON MERIDIAN</td>\n",
       "      <td>SEC 6, ALL</td>\n",
       "    </tr>\n",
       "    <tr>\n",
       "      <th>35</th>\n",
       "      <td>MSES050637</td>\n",
       "      <td>NO</td>\n",
       "      <td>R&amp;R Royalty</td>\n",
       "      <td>2000/03/23</td>\n",
       "      <td>None</td>\n",
       "      <td>None</td>\n",
       "      <td>None</td>\n",
       "      <td>None</td>\n",
       "      <td>MS</td>\n",
       "      <td>Bid Refunded 7-10-00</td>\n",
       "      <td>None</td>\n",
       "      <td>None</td>\n",
       "      <td>None</td>\n",
       "      <td>None</td>\n",
       "      <td>None</td>\n",
       "      <td>None</td>\n",
       "    </tr>\n",
       "    <tr>\n",
       "      <th>36</th>\n",
       "      <td>MSES050642</td>\n",
       "      <td>NO</td>\n",
       "      <td>R&amp;R Royalty</td>\n",
       "      <td>2000/03/23</td>\n",
       "      <td>2000/04/01</td>\n",
       "      <td>2010/04/01</td>\n",
       "      <td>152.11</td>\n",
       "      <td>ADAMS</td>\n",
       "      <td>MS</td>\n",
       "      <td>Expired 2010</td>\n",
       "      <td>2010</td>\n",
       "      <td>None</td>\n",
       "      <td>None</td>\n",
       "      <td>HOMOCHITTO NATL FOREST</td>\n",
       "      <td>T5N, R1W, WASHINGTON MERIDIAN</td>\n",
       "      <td>SEC 21, LOTS 5 THRU 8</td>\n",
       "    </tr>\n",
       "    <tr>\n",
       "      <th>37</th>\n",
       "      <td>MSES050646</td>\n",
       "      <td>NO</td>\n",
       "      <td>R&amp;R Royalty</td>\n",
       "      <td>2000/03/23</td>\n",
       "      <td>2000/04/01</td>\n",
       "      <td>2010/04/01</td>\n",
       "      <td>39.65</td>\n",
       "      <td>WAYNE</td>\n",
       "      <td>MS</td>\n",
       "      <td>Expired 2010</td>\n",
       "      <td>2010</td>\n",
       "      <td>None</td>\n",
       "      <td>None</td>\n",
       "      <td>DESOTO NATL FOREST</td>\n",
       "      <td>T6N, R7W, ST, STEPHENS MERIDIAN</td>\n",
       "      <td>SEC 30, SWSW</td>\n",
       "    </tr>\n",
       "    <tr>\n",
       "      <th>...</th>\n",
       "      <td>...</td>\n",
       "      <td>...</td>\n",
       "      <td>...</td>\n",
       "      <td>...</td>\n",
       "      <td>...</td>\n",
       "      <td>...</td>\n",
       "      <td>...</td>\n",
       "      <td>...</td>\n",
       "      <td>...</td>\n",
       "      <td>...</td>\n",
       "      <td>...</td>\n",
       "      <td>...</td>\n",
       "      <td>...</td>\n",
       "      <td>...</td>\n",
       "      <td>...</td>\n",
       "      <td>...</td>\n",
       "    </tr>\n",
       "    <tr>\n",
       "      <th>2524</th>\n",
       "      <td>MTM110415</td>\n",
       "      <td>YES</td>\n",
       "      <td>Magnum Producing</td>\n",
       "      <td>2018/03/13</td>\n",
       "      <td>2018/05/01</td>\n",
       "      <td>2028/05/01</td>\n",
       "      <td>880</td>\n",
       "      <td>CARBON</td>\n",
       "      <td>MT</td>\n",
       "      <td>NOTICE OF APPEAL WAS FILED BY WILDEARTH GUARDI...</td>\n",
       "      <td>2028</td>\n",
       "      <td>7S</td>\n",
       "      <td>23E</td>\n",
       "      <td>T7S R23E Sec 13 W1/2SW1/4; Sec 14 SE1/4NE1/4, ...</td>\n",
       "      <td>None</td>\n",
       "      <td>None</td>\n",
       "    </tr>\n",
       "    <tr>\n",
       "      <th>2525</th>\n",
       "      <td>MTM110416</td>\n",
       "      <td>YES</td>\n",
       "      <td>Magnum Producing</td>\n",
       "      <td>2018/03/13</td>\n",
       "      <td>2018/05/01</td>\n",
       "      <td>2028/05/01</td>\n",
       "      <td>2000</td>\n",
       "      <td>CARBON</td>\n",
       "      <td>MT</td>\n",
       "      <td>NOTICE OF APPEAL WAS FILED BY WILDEARTH GUARDI...</td>\n",
       "      <td>2028</td>\n",
       "      <td>7S</td>\n",
       "      <td>23E</td>\n",
       "      <td>T7S R23E Sec 27, NE1/4SW1/4,SE1/4; Sec 31 W1/2...</td>\n",
       "      <td>None</td>\n",
       "      <td>None</td>\n",
       "    </tr>\n",
       "    <tr>\n",
       "      <th>2526</th>\n",
       "      <td>MTM110418</td>\n",
       "      <td>YES</td>\n",
       "      <td>Magnum Producing</td>\n",
       "      <td>2018/03/13</td>\n",
       "      <td>2018/05/01</td>\n",
       "      <td>2028/05/01</td>\n",
       "      <td>2320</td>\n",
       "      <td>CARBON</td>\n",
       "      <td>MT</td>\n",
       "      <td>NOTICE OF APPEAL WAS FILED BY WILDEARTH GUARDI...</td>\n",
       "      <td>2028</td>\n",
       "      <td>8S</td>\n",
       "      <td>23E</td>\n",
       "      <td>T8S R23E Sec 21 SW1/4SW1/4; Sec 27 NW1/4SW1/4,...</td>\n",
       "      <td>Sec 32 ALL; Sec 33 NE1/4, NE1/4NW1/4, S1/2SW1/...</td>\n",
       "      <td>None</td>\n",
       "    </tr>\n",
       "    <tr>\n",
       "      <th>2527</th>\n",
       "      <td>MTM110420</td>\n",
       "      <td>YES</td>\n",
       "      <td>Magnum Producing</td>\n",
       "      <td>2018/03/13</td>\n",
       "      <td>2018/05/01</td>\n",
       "      <td>2028/05/01</td>\n",
       "      <td>240</td>\n",
       "      <td>CHOUTEAU</td>\n",
       "      <td>MT</td>\n",
       "      <td>NOTICE OF APPEAL WAS FILED BY WILDEARTH GUARDI...</td>\n",
       "      <td>2028</td>\n",
       "      <td>27N</td>\n",
       "      <td>3E</td>\n",
       "      <td>T27N R3E Sec 7 NE1/4SE1/4, S1/2SE1/4; Sec 8 W1...</td>\n",
       "      <td>None</td>\n",
       "      <td>None</td>\n",
       "    </tr>\n",
       "    <tr>\n",
       "      <th>2528</th>\n",
       "      <td>MTM110432</td>\n",
       "      <td>YES</td>\n",
       "      <td>Magnum Producing</td>\n",
       "      <td>2018/03/13</td>\n",
       "      <td>2018/05/01</td>\n",
       "      <td>2028/05/01</td>\n",
       "      <td>280</td>\n",
       "      <td>GLACIER</td>\n",
       "      <td>MT</td>\n",
       "      <td>NOTICE OF APPEAL WAS FILED BY WILDEARTH GUARDI...</td>\n",
       "      <td>2028</td>\n",
       "      <td>37N</td>\n",
       "      <td>6W</td>\n",
       "      <td>T37N R6W Sec 26 SW1/4SE1/4; Sec 35 NE1/4, N1/2...</td>\n",
       "      <td>None</td>\n",
       "      <td>None</td>\n",
       "    </tr>\n",
       "    <tr>\n",
       "      <th>2531</th>\n",
       "      <td>ARES059276</td>\n",
       "      <td>YES</td>\n",
       "      <td>Magnum Producing</td>\n",
       "      <td>2018/06/21</td>\n",
       "      <td>2018/08/01</td>\n",
       "      <td>2028/08/01</td>\n",
       "      <td>205</td>\n",
       "      <td>CLEBURNE</td>\n",
       "      <td>AR</td>\n",
       "      <td>None</td>\n",
       "      <td>2028</td>\n",
       "      <td>12N</td>\n",
       "      <td>10W</td>\n",
       "      <td>T12N R10W SEC 9 N2SW N2NESWSW N2NWSESW N2NWSWS...</td>\n",
       "      <td>None</td>\n",
       "      <td>None</td>\n",
       "    </tr>\n",
       "    <tr>\n",
       "      <th>2532</th>\n",
       "      <td>ARES059277</td>\n",
       "      <td>YES</td>\n",
       "      <td>Magnum Producing</td>\n",
       "      <td>2018/06/21</td>\n",
       "      <td>2018/08/01</td>\n",
       "      <td>2028/08/01</td>\n",
       "      <td>120</td>\n",
       "      <td>CLEBURNE</td>\n",
       "      <td>AR</td>\n",
       "      <td>None</td>\n",
       "      <td>2028</td>\n",
       "      <td>12N</td>\n",
       "      <td>10W</td>\n",
       "      <td>T12N R10W SEC 15 NWSW SESW SWSE</td>\n",
       "      <td>None</td>\n",
       "      <td>None</td>\n",
       "    </tr>\n",
       "    <tr>\n",
       "      <th>2533</th>\n",
       "      <td>ARES059278</td>\n",
       "      <td>YES</td>\n",
       "      <td>Magnum Producing</td>\n",
       "      <td>2018/06/21</td>\n",
       "      <td>2018/08/01</td>\n",
       "      <td>2028/08/01</td>\n",
       "      <td>40</td>\n",
       "      <td>CLEBURNE</td>\n",
       "      <td>AR</td>\n",
       "      <td>None</td>\n",
       "      <td>2028</td>\n",
       "      <td>12N</td>\n",
       "      <td>12W</td>\n",
       "      <td>T12N R12W SEC 23 NESE</td>\n",
       "      <td>None</td>\n",
       "      <td>None</td>\n",
       "    </tr>\n",
       "    <tr>\n",
       "      <th>2534</th>\n",
       "      <td>ARES059279</td>\n",
       "      <td>YES</td>\n",
       "      <td>Magnum Producing</td>\n",
       "      <td>2018/06/21</td>\n",
       "      <td>2018/08/01</td>\n",
       "      <td>2028/08/01</td>\n",
       "      <td>65</td>\n",
       "      <td>VAN BUREN</td>\n",
       "      <td>AR</td>\n",
       "      <td>HBP-LEASE COMMITTED TO CA(ARES 55803)-50% - US...</td>\n",
       "      <td>2028</td>\n",
       "      <td>9N</td>\n",
       "      <td>12W</td>\n",
       "      <td>T9N R12W SEC21 S2SE that part lying southerly ...</td>\n",
       "      <td>None</td>\n",
       "      <td>None</td>\n",
       "    </tr>\n",
       "    <tr>\n",
       "      <th>2535</th>\n",
       "      <td>ARES059280</td>\n",
       "      <td>YES</td>\n",
       "      <td>Magnum Producing</td>\n",
       "      <td>2018/06/21</td>\n",
       "      <td>2018/08/01</td>\n",
       "      <td>2028/08/01</td>\n",
       "      <td>39.8</td>\n",
       "      <td>VAN BUREN</td>\n",
       "      <td>AR</td>\n",
       "      <td>None</td>\n",
       "      <td>2028</td>\n",
       "      <td>11N</td>\n",
       "      <td>14W</td>\n",
       "      <td>T11N R14W SEC 2 NENW</td>\n",
       "      <td>None</td>\n",
       "      <td>None</td>\n",
       "    </tr>\n",
       "    <tr>\n",
       "      <th>2536</th>\n",
       "      <td>ARES059281</td>\n",
       "      <td>YES</td>\n",
       "      <td>Magnum Producing</td>\n",
       "      <td>2018/06/21</td>\n",
       "      <td>2018/08/01</td>\n",
       "      <td>2028/08/01</td>\n",
       "      <td>80</td>\n",
       "      <td>VAN BUREN</td>\n",
       "      <td>AR</td>\n",
       "      <td>None</td>\n",
       "      <td>2028</td>\n",
       "      <td>11N</td>\n",
       "      <td>14W</td>\n",
       "      <td>T11N R14W SEC 4 W2SE</td>\n",
       "      <td>None</td>\n",
       "      <td>None</td>\n",
       "    </tr>\n",
       "    <tr>\n",
       "      <th>2537</th>\n",
       "      <td>ARES059282</td>\n",
       "      <td>YES</td>\n",
       "      <td>Magnum Producing</td>\n",
       "      <td>2018/06/21</td>\n",
       "      <td>2018/08/01</td>\n",
       "      <td>2028/08/01</td>\n",
       "      <td>364.38</td>\n",
       "      <td>VAN BUREN</td>\n",
       "      <td>AR</td>\n",
       "      <td>None</td>\n",
       "      <td>2028</td>\n",
       "      <td>11N</td>\n",
       "      <td>14W</td>\n",
       "      <td>T11N R14W Sec 6 S2NW S2NE NWNE N2NW W2SW</td>\n",
       "      <td>None</td>\n",
       "      <td>None</td>\n",
       "    </tr>\n",
       "    <tr>\n",
       "      <th>2538</th>\n",
       "      <td>ARES059283</td>\n",
       "      <td>YES</td>\n",
       "      <td>Magnum Producing</td>\n",
       "      <td>2018/06/21</td>\n",
       "      <td>2018/08/01</td>\n",
       "      <td>2028/08/01</td>\n",
       "      <td>122.38</td>\n",
       "      <td>VAN BUREN</td>\n",
       "      <td>AR</td>\n",
       "      <td>None</td>\n",
       "      <td>2028</td>\n",
       "      <td>11N</td>\n",
       "      <td>14W</td>\n",
       "      <td>T11N R14W SEC 18 W2NW NESW</td>\n",
       "      <td>None</td>\n",
       "      <td>None</td>\n",
       "    </tr>\n",
       "    <tr>\n",
       "      <th>2539</th>\n",
       "      <td>ARES059285</td>\n",
       "      <td>YES</td>\n",
       "      <td>Magnum Producing</td>\n",
       "      <td>2018/06/21</td>\n",
       "      <td>2018/08/01</td>\n",
       "      <td>2028/08/01</td>\n",
       "      <td>40</td>\n",
       "      <td>VAN BUREN</td>\n",
       "      <td>AR</td>\n",
       "      <td>None</td>\n",
       "      <td>2028</td>\n",
       "      <td>11N</td>\n",
       "      <td>15W</td>\n",
       "      <td>T11N R15W SEC 13 NENE</td>\n",
       "      <td>None</td>\n",
       "      <td>None</td>\n",
       "    </tr>\n",
       "    <tr>\n",
       "      <th>2540</th>\n",
       "      <td>ARES059286</td>\n",
       "      <td>YES</td>\n",
       "      <td>Magnum Producing</td>\n",
       "      <td>2018/06/21</td>\n",
       "      <td>2018/08/01</td>\n",
       "      <td>2028/08/01</td>\n",
       "      <td>67.5</td>\n",
       "      <td>VAN BUREN</td>\n",
       "      <td>AR</td>\n",
       "      <td>None</td>\n",
       "      <td>2028</td>\n",
       "      <td>11N</td>\n",
       "      <td>15W</td>\n",
       "      <td>T11N R15W SEC 20 SENW S2SWNW S2NWSWNW NWNWSWNW...</td>\n",
       "      <td>None</td>\n",
       "      <td>None</td>\n",
       "    </tr>\n",
       "    <tr>\n",
       "      <th>2541</th>\n",
       "      <td>ARES059287</td>\n",
       "      <td>YES</td>\n",
       "      <td>Magnum Producing</td>\n",
       "      <td>2018/06/21</td>\n",
       "      <td>2018/08/01</td>\n",
       "      <td>2028/08/01</td>\n",
       "      <td>40</td>\n",
       "      <td>VAN BUREN</td>\n",
       "      <td>AR</td>\n",
       "      <td>None</td>\n",
       "      <td>2028</td>\n",
       "      <td>11N</td>\n",
       "      <td>15W</td>\n",
       "      <td>T11N R15W SEC 23 SWSE</td>\n",
       "      <td>None</td>\n",
       "      <td>None</td>\n",
       "    </tr>\n",
       "    <tr>\n",
       "      <th>2542</th>\n",
       "      <td>ARES059288</td>\n",
       "      <td>YES</td>\n",
       "      <td>Magnum Producing</td>\n",
       "      <td>2018/06/21</td>\n",
       "      <td>2018/08/01</td>\n",
       "      <td>2028/08/01</td>\n",
       "      <td>40</td>\n",
       "      <td>VAN BUREN</td>\n",
       "      <td>AR</td>\n",
       "      <td>None</td>\n",
       "      <td>2028</td>\n",
       "      <td>11N</td>\n",
       "      <td>15W</td>\n",
       "      <td>T11N R15W SEC 24 NWNE</td>\n",
       "      <td>None</td>\n",
       "      <td>None</td>\n",
       "    </tr>\n",
       "    <tr>\n",
       "      <th>2543</th>\n",
       "      <td>ARES059289</td>\n",
       "      <td>YES</td>\n",
       "      <td>Magnum Producing</td>\n",
       "      <td>2018/06/21</td>\n",
       "      <td>2018/08/01</td>\n",
       "      <td>2028/08/01</td>\n",
       "      <td>80</td>\n",
       "      <td>VAN BUREN</td>\n",
       "      <td>AR</td>\n",
       "      <td>None</td>\n",
       "      <td>2028</td>\n",
       "      <td>11N</td>\n",
       "      <td>15W</td>\n",
       "      <td>T11N R15W SEC 26 S2NW</td>\n",
       "      <td>None</td>\n",
       "      <td>None</td>\n",
       "    </tr>\n",
       "    <tr>\n",
       "      <th>2544</th>\n",
       "      <td>ARES059290</td>\n",
       "      <td>YES</td>\n",
       "      <td>Magnum Producing</td>\n",
       "      <td>2018/06/21</td>\n",
       "      <td>2018/08/01</td>\n",
       "      <td>2028/08/01</td>\n",
       "      <td>120</td>\n",
       "      <td>VAN BUREN</td>\n",
       "      <td>AR</td>\n",
       "      <td>None</td>\n",
       "      <td>2028</td>\n",
       "      <td>11N</td>\n",
       "      <td>15W</td>\n",
       "      <td>T11N R15W SEC 29 SESW S2SE</td>\n",
       "      <td>None</td>\n",
       "      <td>None</td>\n",
       "    </tr>\n",
       "    <tr>\n",
       "      <th>2545</th>\n",
       "      <td>ARES059291</td>\n",
       "      <td>YES</td>\n",
       "      <td>Magnum Producing</td>\n",
       "      <td>2018/06/21</td>\n",
       "      <td>2018/08/01</td>\n",
       "      <td>2028/08/01</td>\n",
       "      <td>80</td>\n",
       "      <td>VAN BUREN</td>\n",
       "      <td>AR</td>\n",
       "      <td>None</td>\n",
       "      <td>2028</td>\n",
       "      <td>12N</td>\n",
       "      <td>15W</td>\n",
       "      <td>T12N R15W SEC 15 W2NE</td>\n",
       "      <td>None</td>\n",
       "      <td>None</td>\n",
       "    </tr>\n",
       "    <tr>\n",
       "      <th>2546</th>\n",
       "      <td>ARES059292</td>\n",
       "      <td>YES</td>\n",
       "      <td>Magnum Producing</td>\n",
       "      <td>2018/06/21</td>\n",
       "      <td>2018/08/01</td>\n",
       "      <td>2028/08/01</td>\n",
       "      <td>40</td>\n",
       "      <td>VAN BUREN</td>\n",
       "      <td>AR</td>\n",
       "      <td>None</td>\n",
       "      <td>2028</td>\n",
       "      <td>12N</td>\n",
       "      <td>15W</td>\n",
       "      <td>T12N R15W SEC 26 NWNW</td>\n",
       "      <td>None</td>\n",
       "      <td>None</td>\n",
       "    </tr>\n",
       "    <tr>\n",
       "      <th>2547</th>\n",
       "      <td>ARES059293</td>\n",
       "      <td>YES</td>\n",
       "      <td>Magnum Producing</td>\n",
       "      <td>2018/06/21</td>\n",
       "      <td>2018/08/01</td>\n",
       "      <td>2028/08/01</td>\n",
       "      <td>86.03</td>\n",
       "      <td>CLEBURNE</td>\n",
       "      <td>AR</td>\n",
       "      <td>None</td>\n",
       "      <td>2028</td>\n",
       "      <td>9N</td>\n",
       "      <td>11W</td>\n",
       "      <td>T9N R11W SEC 6 N2NE</td>\n",
       "      <td>None</td>\n",
       "      <td>None</td>\n",
       "    </tr>\n",
       "    <tr>\n",
       "      <th>2548</th>\n",
       "      <td>ARES059299</td>\n",
       "      <td>YES</td>\n",
       "      <td>Magnum Producing</td>\n",
       "      <td>2018/06/21</td>\n",
       "      <td>2018/08/01</td>\n",
       "      <td>2028/08/01</td>\n",
       "      <td>39.59</td>\n",
       "      <td>VAN BUREN</td>\n",
       "      <td>AR</td>\n",
       "      <td>None</td>\n",
       "      <td>2028</td>\n",
       "      <td>11N</td>\n",
       "      <td>14W</td>\n",
       "      <td>T11N R14W SEC 1 SWSW</td>\n",
       "      <td>None</td>\n",
       "      <td>None</td>\n",
       "    </tr>\n",
       "    <tr>\n",
       "      <th>2551</th>\n",
       "      <td>NMNM138795</td>\n",
       "      <td>YES</td>\n",
       "      <td>Magnum Producing</td>\n",
       "      <td>2018/09/05</td>\n",
       "      <td>2018/11/01</td>\n",
       "      <td>2028/11/01</td>\n",
       "      <td>640</td>\n",
       "      <td>CHAVES</td>\n",
       "      <td>NM</td>\n",
       "      <td>None</td>\n",
       "      <td>2028</td>\n",
       "      <td>15S</td>\n",
       "      <td>22E</td>\n",
       "      <td>T15S R22E</td>\n",
       "      <td>SEC 15 ALL</td>\n",
       "      <td>None</td>\n",
       "    </tr>\n",
       "    <tr>\n",
       "      <th>2552</th>\n",
       "      <td>NMNM138803</td>\n",
       "      <td>YES</td>\n",
       "      <td>Magnum Producing</td>\n",
       "      <td>2018/09/05</td>\n",
       "      <td>2018/11/01</td>\n",
       "      <td>2028/11/01</td>\n",
       "      <td>40</td>\n",
       "      <td>EDDY</td>\n",
       "      <td>NM</td>\n",
       "      <td>None</td>\n",
       "      <td>2028</td>\n",
       "      <td>21S</td>\n",
       "      <td>23E</td>\n",
       "      <td>T21S R23E</td>\n",
       "      <td>SEC 20 SESE</td>\n",
       "      <td>None</td>\n",
       "    </tr>\n",
       "    <tr>\n",
       "      <th>2553</th>\n",
       "      <td>NMNM138853</td>\n",
       "      <td>YES</td>\n",
       "      <td>Magnum Producing</td>\n",
       "      <td>2018/09/05</td>\n",
       "      <td>2018/11/01</td>\n",
       "      <td>2028/11/01</td>\n",
       "      <td>400</td>\n",
       "      <td>CHAVES</td>\n",
       "      <td>NM</td>\n",
       "      <td>None</td>\n",
       "      <td>2028</td>\n",
       "      <td>11S</td>\n",
       "      <td>31E</td>\n",
       "      <td>T11S R31E</td>\n",
       "      <td>SEC 4 S2SE; SEC 9 N2</td>\n",
       "      <td>None</td>\n",
       "    </tr>\n",
       "    <tr>\n",
       "      <th>2554</th>\n",
       "      <td>NMNM138854</td>\n",
       "      <td>YES</td>\n",
       "      <td>Magnum Producing</td>\n",
       "      <td>2018/09/05</td>\n",
       "      <td>2018/11/01</td>\n",
       "      <td>2028/11/01</td>\n",
       "      <td>408.68</td>\n",
       "      <td>CHAVES</td>\n",
       "      <td>NM</td>\n",
       "      <td>None</td>\n",
       "      <td>2028</td>\n",
       "      <td>11S</td>\n",
       "      <td>31E</td>\n",
       "      <td>T11S R31E</td>\n",
       "      <td>SEC 5 LOTS 1,2,3,4; SEC 5 S2;</td>\n",
       "      <td>None</td>\n",
       "    </tr>\n",
       "    <tr>\n",
       "      <th>2555</th>\n",
       "      <td>NMNM138857</td>\n",
       "      <td>YES</td>\n",
       "      <td>Magnum Producing</td>\n",
       "      <td>2018/09/05</td>\n",
       "      <td>2018/11/01</td>\n",
       "      <td>2028/11/01</td>\n",
       "      <td>600</td>\n",
       "      <td>CHAVES</td>\n",
       "      <td>NM</td>\n",
       "      <td>None</td>\n",
       "      <td>2028</td>\n",
       "      <td>11S</td>\n",
       "      <td>31E</td>\n",
       "      <td>T11S R31E</td>\n",
       "      <td>SEC 17 N2, SW, N2SE, SWSE</td>\n",
       "      <td>None</td>\n",
       "    </tr>\n",
       "    <tr>\n",
       "      <th>2556</th>\n",
       "      <td>NMNM138858</td>\n",
       "      <td>YES</td>\n",
       "      <td>Magnum Producing</td>\n",
       "      <td>2018/09/05</td>\n",
       "      <td>2018/11/01</td>\n",
       "      <td>2028/11/01</td>\n",
       "      <td>240</td>\n",
       "      <td>CHAVES</td>\n",
       "      <td>NM</td>\n",
       "      <td>None</td>\n",
       "      <td>2028</td>\n",
       "      <td>11S</td>\n",
       "      <td>31E</td>\n",
       "      <td>T11S R31E</td>\n",
       "      <td>SEC 34 NW, N2SW</td>\n",
       "      <td>None</td>\n",
       "    </tr>\n",
       "    <tr>\n",
       "      <th>2557</th>\n",
       "      <td>NMNM138863</td>\n",
       "      <td>YES</td>\n",
       "      <td>Magnum Producing</td>\n",
       "      <td>2018/09/05</td>\n",
       "      <td>2018/11/01</td>\n",
       "      <td>2028/11/01</td>\n",
       "      <td>480</td>\n",
       "      <td>EDDY</td>\n",
       "      <td>NM</td>\n",
       "      <td>None</td>\n",
       "      <td>2028</td>\n",
       "      <td>16S</td>\n",
       "      <td>31E</td>\n",
       "      <td>T16S R31E</td>\n",
       "      <td>SEC 26 N2NE, SWNE, W2, NWSE</td>\n",
       "      <td>None</td>\n",
       "    </tr>\n",
       "  </tbody>\n",
       "</table>\n",
       "<p>2175 rows × 16 columns</p>\n",
       "</div>"
      ],
      "text/plain": [
       "       LEASE NO. PLOTTED           GRANTEE   SALE DATE  \\\n",
       "0     TXNM096140      NO       R&R Royalty  1995/10/19   \n",
       "2     TXNM103231      NO       R&R Royalty  1999/05/13   \n",
       "4     TXNM091527      NO       R&R Royalty  1993/07/21   \n",
       "6     TXNM102849      NO       R&R Royalty  1999/04/21   \n",
       "8     TXNM103276      NO       R&R Royalty  1999/07/21   \n",
       "9     TXNM103277      NO       R&R Royalty  1999/07/21   \n",
       "10    TXNM103278      NO       R&R Royalty  1999/07/21   \n",
       "11    TXNM103285      NO       R&R Royalty  1999/07/21   \n",
       "12    TXNM103286      NO       R&R Royalty  1999/07/21   \n",
       "13    TXNM103287      NO       R&R Royalty  1999/07/21   \n",
       "14    TXNM103288      NO       R&R Royalty  1999/07/21   \n",
       "15    TXNM103292      NO       R&R Royalty  1999/07/21   \n",
       "16    TXNM103293      NO       R&R Royalty  1999/07/21   \n",
       "17    TXNM103296      NO       R&R Royalty  1999/07/21   \n",
       "18    TXNM103297      NO       R&R Royalty  1999/07/21   \n",
       "19    TXNM103301      NO       R&R Royalty  1999/07/21   \n",
       "20    TXNM103314      NO       R&R Royalty  1999/07/21   \n",
       "21    TXNM103315      NO       R&R Royalty  1999/07/21   \n",
       "22     ARES50476      NO       R&R Royalty  1999/09/23   \n",
       "23     LAES50481      NO       R&R Royalty  1999/09/23   \n",
       "24     MSES50483      NO       R&R Royalty  1999/09/23   \n",
       "26     LAES50520      NO       R&R Royalty  1999/12/16   \n",
       "27     MSES50524      NO       R&R Royalty  1999/12/16   \n",
       "28     MSES50526      NO       R&R Royalty  1999/12/16   \n",
       "32    MSES050634      NO       R&R Royalty  2000/03/23   \n",
       "33    MSES050635      NO       R&R Royalty  2000/03/23   \n",
       "34    MSES050636      NO       R&R Royalty  2000/03/23   \n",
       "35    MSES050637      NO       R&R Royalty  2000/03/23   \n",
       "36    MSES050642      NO       R&R Royalty  2000/03/23   \n",
       "37    MSES050646      NO       R&R Royalty  2000/03/23   \n",
       "...          ...     ...               ...         ...   \n",
       "2524   MTM110415     YES  Magnum Producing  2018/03/13   \n",
       "2525   MTM110416     YES  Magnum Producing  2018/03/13   \n",
       "2526   MTM110418     YES  Magnum Producing  2018/03/13   \n",
       "2527   MTM110420     YES  Magnum Producing  2018/03/13   \n",
       "2528   MTM110432     YES  Magnum Producing  2018/03/13   \n",
       "2531  ARES059276     YES  Magnum Producing  2018/06/21   \n",
       "2532  ARES059277     YES  Magnum Producing  2018/06/21   \n",
       "2533  ARES059278     YES  Magnum Producing  2018/06/21   \n",
       "2534  ARES059279     YES  Magnum Producing  2018/06/21   \n",
       "2535  ARES059280     YES  Magnum Producing  2018/06/21   \n",
       "2536  ARES059281     YES  Magnum Producing  2018/06/21   \n",
       "2537  ARES059282     YES  Magnum Producing  2018/06/21   \n",
       "2538  ARES059283     YES  Magnum Producing  2018/06/21   \n",
       "2539  ARES059285     YES  Magnum Producing  2018/06/21   \n",
       "2540  ARES059286     YES  Magnum Producing  2018/06/21   \n",
       "2541  ARES059287     YES  Magnum Producing  2018/06/21   \n",
       "2542  ARES059288     YES  Magnum Producing  2018/06/21   \n",
       "2543  ARES059289     YES  Magnum Producing  2018/06/21   \n",
       "2544  ARES059290     YES  Magnum Producing  2018/06/21   \n",
       "2545  ARES059291     YES  Magnum Producing  2018/06/21   \n",
       "2546  ARES059292     YES  Magnum Producing  2018/06/21   \n",
       "2547  ARES059293     YES  Magnum Producing  2018/06/21   \n",
       "2548  ARES059299     YES  Magnum Producing  2018/06/21   \n",
       "2551  NMNM138795     YES  Magnum Producing  2018/09/05   \n",
       "2552  NMNM138803     YES  Magnum Producing  2018/09/05   \n",
       "2553  NMNM138853     YES  Magnum Producing  2018/09/05   \n",
       "2554  NMNM138854     YES  Magnum Producing  2018/09/05   \n",
       "2555  NMNM138857     YES  Magnum Producing  2018/09/05   \n",
       "2556  NMNM138858     YES  Magnum Producing  2018/09/05   \n",
       "2557  NMNM138863     YES  Magnum Producing  2018/09/05   \n",
       "\n",
       "     EFFECTIVE DATE OF LEASE EXPIRATION DATE   ACRES                COUNTY  \\\n",
       "0                 1995/12/01      2005/12/01    None           MONTGOMERY    \n",
       "2                 1999/07/01      2009/07/01    None              HOUSTON    \n",
       "4                 1993/09/01      2003/09/01    None               KLEBERG   \n",
       "6                 1999/06/01      2009/06/01    None              KLEBERG    \n",
       "8                 1999/09/01      2009/09/01    None              HOUSTON    \n",
       "9                 1999/09/01      2009/09/01    None              HOUSTON    \n",
       "10                1999/09/01      2009/09/01    None               HOUSTON   \n",
       "11                1999/09/01      2009/09/01    None              HOUSTON    \n",
       "12                1999/09/01      2009/09/01    None              HOUSTON    \n",
       "13                1999/09/01      2009/09/01    None               HOUSTON   \n",
       "14                1999/09/01      2009/09/01    None               HOUSTON   \n",
       "15                1999/09/01      2009/09/01    None               SABINE    \n",
       "16                1999/09/01      2009/09/01    None               SABINE    \n",
       "17                1999/09/01      2009/09/01    None         SAN AUGUSTINE   \n",
       "18                1999/09/01      2009/09/01    None         SAN AUGUSTINE   \n",
       "19                1999/09/01      2009/09/01    None  SAN AUGUSTINE/SABINE   \n",
       "20                1999/09/01      2009/09/01    None              HOUSTON    \n",
       "21                1999/09/01      2009/09/01    None              HOUSTON    \n",
       "22                1999/11/01      2009/11/01    None             SEBASTIAN   \n",
       "23                1999/11/01      2009/11/01    None             CALCASIEU   \n",
       "24                1999/11/01      2009/11/01    None               FORREST   \n",
       "26                2000/02/01      2010/02/01  199.75               WEBSTER   \n",
       "27                2000/02/01      2010/02/01  433.54                 WAYNE   \n",
       "28                2000/02/01      2010/02/01    None             CHICKASAW   \n",
       "32                      None            None    None                  None   \n",
       "33                      None            None    None                  None   \n",
       "34                2000/04/01      2010/04/01   376.8                 ADAMS   \n",
       "35                      None            None    None                  None   \n",
       "36                2000/04/01      2010/04/01  152.11                 ADAMS   \n",
       "37                2000/04/01      2010/04/01   39.65                 WAYNE   \n",
       "...                      ...             ...     ...                   ...   \n",
       "2524              2018/05/01      2028/05/01     880                CARBON   \n",
       "2525              2018/05/01      2028/05/01    2000                CARBON   \n",
       "2526              2018/05/01      2028/05/01    2320                CARBON   \n",
       "2527              2018/05/01      2028/05/01     240              CHOUTEAU   \n",
       "2528              2018/05/01      2028/05/01     280               GLACIER   \n",
       "2531              2018/08/01      2028/08/01     205              CLEBURNE   \n",
       "2532              2018/08/01      2028/08/01     120              CLEBURNE   \n",
       "2533              2018/08/01      2028/08/01      40              CLEBURNE   \n",
       "2534              2018/08/01      2028/08/01      65             VAN BUREN   \n",
       "2535              2018/08/01      2028/08/01    39.8             VAN BUREN   \n",
       "2536              2018/08/01      2028/08/01      80             VAN BUREN   \n",
       "2537              2018/08/01      2028/08/01  364.38             VAN BUREN   \n",
       "2538              2018/08/01      2028/08/01  122.38             VAN BUREN   \n",
       "2539              2018/08/01      2028/08/01      40             VAN BUREN   \n",
       "2540              2018/08/01      2028/08/01    67.5             VAN BUREN   \n",
       "2541              2018/08/01      2028/08/01      40             VAN BUREN   \n",
       "2542              2018/08/01      2028/08/01      40             VAN BUREN   \n",
       "2543              2018/08/01      2028/08/01      80             VAN BUREN   \n",
       "2544              2018/08/01      2028/08/01     120             VAN BUREN   \n",
       "2545              2018/08/01      2028/08/01      80             VAN BUREN   \n",
       "2546              2018/08/01      2028/08/01      40             VAN BUREN   \n",
       "2547              2018/08/01      2028/08/01   86.03              CLEBURNE   \n",
       "2548              2018/08/01      2028/08/01   39.59             VAN BUREN   \n",
       "2551              2018/11/01      2028/11/01     640                CHAVES   \n",
       "2552              2018/11/01      2028/11/01      40                  EDDY   \n",
       "2553              2018/11/01      2028/11/01     400                CHAVES   \n",
       "2554              2018/11/01      2028/11/01  408.68                CHAVES   \n",
       "2555              2018/11/01      2028/11/01     600                CHAVES   \n",
       "2556              2018/11/01      2028/11/01     240                CHAVES   \n",
       "2557              2018/11/01      2028/11/01     480                  EDDY   \n",
       "\n",
       "      ST                                    STATUS/COMMENTS EXPIRATION YEAR  \\\n",
       "0     TX                                       Expired 2005            2005   \n",
       "2     TX            Expired 2009 - Bought from Dan Gonzales            2009   \n",
       "4     TX                        Expired 2003 | Bid Refunded            2003   \n",
       "6     TX                                       Expired 2009            2009   \n",
       "8     TX                               Expired 2009 -  sold            2009   \n",
       "9     TX                               Expired 2009 -  sold            2009   \n",
       "10    TX                               Expired 2009 -  sold            2009   \n",
       "11    TX                               Expired 2009 -  sold            2009   \n",
       "12    TX                               Expired 2009 -  sold            2009   \n",
       "13    TX                               Expired 2009 -  sold            2009   \n",
       "14    TX                               Expired 2009 -  sold            2009   \n",
       "15    TX                                       Expired 2009            2009   \n",
       "16    TX                                       Expired 2009            2009   \n",
       "17    TX                                       Expired 2009            2009   \n",
       "18    TX                                       Expired 2009            2009   \n",
       "19    TX                                       Expired 2009            2009   \n",
       "20    TX                               Expired 2009 -  sold            2009   \n",
       "21    TX                               Expired 2009 -  sold            2009   \n",
       "22    AR  Expired 2009 - May be part of 16,327.47 acre E...            2009   \n",
       "23    LA                                       Expired 2009            2009   \n",
       "24    MS                                       Expired 2009            2009   \n",
       "26    LA                                       Expired 2010            2010   \n",
       "27    MS    Expired 2010 - SUBLEASE TERMINATED O/A 11-14-02            2010   \n",
       "28    MS  HBP-Gibraltar pays Royalty - Shut-in payment s...            2010   \n",
       "32    MS                     Refunded 3-16-01. Bid Refunded            None   \n",
       "33    MS                     Refunded 7-10-00. Bid Refunded            None   \n",
       "34    MS                                       Expired 2010            2010   \n",
       "35    MS                              Bid Refunded 7-10-00             None   \n",
       "36    MS                                       Expired 2010            2010   \n",
       "37    MS                                       Expired 2010            2010   \n",
       "...   ..                                                ...             ...   \n",
       "2524  MT  NOTICE OF APPEAL WAS FILED BY WILDEARTH GUARDI...            2028   \n",
       "2525  MT  NOTICE OF APPEAL WAS FILED BY WILDEARTH GUARDI...            2028   \n",
       "2526  MT  NOTICE OF APPEAL WAS FILED BY WILDEARTH GUARDI...            2028   \n",
       "2527  MT  NOTICE OF APPEAL WAS FILED BY WILDEARTH GUARDI...            2028   \n",
       "2528  MT  NOTICE OF APPEAL WAS FILED BY WILDEARTH GUARDI...            2028   \n",
       "2531  AR                                               None            2028   \n",
       "2532  AR                                               None            2028   \n",
       "2533  AR                                               None            2028   \n",
       "2534  AR  HBP-LEASE COMMITTED TO CA(ARES 55803)-50% - US...            2028   \n",
       "2535  AR                                               None            2028   \n",
       "2536  AR                                               None            2028   \n",
       "2537  AR                                               None            2028   \n",
       "2538  AR                                               None            2028   \n",
       "2539  AR                                               None            2028   \n",
       "2540  AR                                               None            2028   \n",
       "2541  AR                                               None            2028   \n",
       "2542  AR                                               None            2028   \n",
       "2543  AR                                               None            2028   \n",
       "2544  AR                                               None            2028   \n",
       "2545  AR                                               None            2028   \n",
       "2546  AR                                               None            2028   \n",
       "2547  AR                                               None            2028   \n",
       "2548  AR                                               None            2028   \n",
       "2551  NM                                               None            2028   \n",
       "2552  NM                                               None            2028   \n",
       "2553  NM                                               None            2028   \n",
       "2554  NM                                               None            2028   \n",
       "2555  NM                                               None            2028   \n",
       "2556  NM                                               None            2028   \n",
       "2557  NM                                               None            2028   \n",
       "\n",
       "     TOWNSHIP RANGE                                      DESCRIPTION I  \\\n",
       "0        None  None                          ASSIGNMENT REC'D FROM DAN   \n",
       "2        None  None                            SAM HOUSTON NATL FOREST   \n",
       "4        None  None                                    KINGSVILLE NAS    \n",
       "6        None  None                               TEXAS A&M UNIVERSITY   \n",
       "8        None  None                          DAVY CROCKETT NATL FOREST   \n",
       "9        None  None                          DAVY CROCKETT NATL FOREST   \n",
       "10       None  None                          DAVY CROCKETT NATL FOREST   \n",
       "11       None  None                          DAVY CROCKETT NATL FOREST   \n",
       "12       None  None                          DAVY CROCKETT NATL FOREST   \n",
       "13       None  None                          DAVY CROCKETT NATL FOREST   \n",
       "14       None  None                          DAVY CROCKETT NATL FOREST   \n",
       "15       None  None                                 SABINE NATL FOREST   \n",
       "16       None  None                                 SABINE NATL FOREST   \n",
       "17       None  None                               ANGELINA NATL FOREST   \n",
       "18       None  None                               ANGELINA NATL FOREST   \n",
       "19       None  None                                 SABINE NATL FOREST   \n",
       "20       None  None                          DAVY CROCKETT NATL FOREST   \n",
       "21       None  None                          DAVY CROCKETT NATL FOREST   \n",
       "22       None  None                               OUICHATA NATL FOREST   \n",
       "23       None  None                                               NONE   \n",
       "24       None  None                                 DESOTO NATL FOREST   \n",
       "26       None  None                                               NONE   \n",
       "27       None  None                                               NONE   \n",
       "28       None  None                              TOMBIGBEE NATL FOREST   \n",
       "32       None  None                                               None   \n",
       "33       None  None                                               None   \n",
       "34       None  None                             HOMOCHITTO NATL FOREST   \n",
       "35       None  None                                               None   \n",
       "36       None  None                             HOMOCHITTO NATL FOREST   \n",
       "37       None  None                                 DESOTO NATL FOREST   \n",
       "...       ...   ...                                                ...   \n",
       "2524       7S   23E  T7S R23E Sec 13 W1/2SW1/4; Sec 14 SE1/4NE1/4, ...   \n",
       "2525       7S   23E  T7S R23E Sec 27, NE1/4SW1/4,SE1/4; Sec 31 W1/2...   \n",
       "2526       8S   23E  T8S R23E Sec 21 SW1/4SW1/4; Sec 27 NW1/4SW1/4,...   \n",
       "2527      27N    3E  T27N R3E Sec 7 NE1/4SE1/4, S1/2SE1/4; Sec 8 W1...   \n",
       "2528      37N    6W  T37N R6W Sec 26 SW1/4SE1/4; Sec 35 NE1/4, N1/2...   \n",
       "2531      12N   10W  T12N R10W SEC 9 N2SW N2NESWSW N2NWSESW N2NWSWS...   \n",
       "2532      12N   10W               T12N R10W SEC 15 NWSW SESW SWSE        \n",
       "2533      12N   12W                         T12N R12W SEC 23 NESE        \n",
       "2534       9N   12W  T9N R12W SEC21 S2SE that part lying southerly ...   \n",
       "2535      11N   14W                         T11N R14W SEC 2 NENW         \n",
       "2536      11N   14W                          T11N R14W SEC 4 W2SE        \n",
       "2537      11N   14W      T11N R14W Sec 6 S2NW S2NE NWNE N2NW W2SW        \n",
       "2538      11N   14W                    T11N R14W SEC 18 W2NW NESW        \n",
       "2539      11N   15W                         T11N R15W SEC 13 NENE        \n",
       "2540      11N   15W  T11N R15W SEC 20 SENW S2SWNW S2NWSWNW NWNWSWNW...   \n",
       "2541      11N   15W                         T11N R15W SEC 23 SWSE        \n",
       "2542      11N   15W                         T11N R15W SEC 24 NWNE        \n",
       "2543      11N   15W                         T11N R15W SEC 26 S2NW        \n",
       "2544      11N   15W                    T11N R15W SEC 29 SESW S2SE        \n",
       "2545      12N   15W                         T12N R15W SEC 15 W2NE        \n",
       "2546      12N   15W                         T12N R15W SEC 26 NWNW        \n",
       "2547       9N   11W                           T9N R11W SEC 6 N2NE        \n",
       "2548      11N   14W                          T11N R14W SEC 1 SWSW        \n",
       "2551      15S   22E                                    T15S R22E         \n",
       "2552      21S   23E                                     T21S R23E        \n",
       "2553      11S   31E                                    T11S R31E         \n",
       "2554      11S   31E                                         T11S R31E    \n",
       "2555      11S   31E                                         T11S R31E    \n",
       "2556      11S   31E                                    T11S R31E         \n",
       "2557      16S   31E                                    T16S R31E         \n",
       "\n",
       "                                         DESCRIPTION II  \\\n",
       "0                                TRACTS J22, J22A, J22B   \n",
       "2                             ASSIGNMENT REC'D FROM DAN   \n",
       "4                                    J MINDIOLOA SURVEY   \n",
       "6             LOTS 2-8, BLK 5, KING ADDITION-EX 47.75 A   \n",
       "8                                            TRACT K-1g   \n",
       "9                                  TRACT K-1h PARCEL #1   \n",
       "10                                           TRACT K-1i   \n",
       "11                                            TRACT K-6   \n",
       "12                                           TRACT K-18   \n",
       "13                                           TRACT K-31   \n",
       "14                                          TRACT K-119   \n",
       "15                                           TRACT S1Av   \n",
       "16                                          TRACT S-1Bb   \n",
       "17                                TRACT A-22a PARCEL #2   \n",
       "18                                          TRACT A-22d   \n",
       "19                                          TRACT S-1An   \n",
       "20                              TRACT K-1a-II PARCEL #1   \n",
       "21                              TRACT K-1a-II PARCEL #2   \n",
       "22                    T4N, R31W, 5TH PRINCIPAL MERIDIAN   \n",
       "23                       T8S, R10W,  LOUISIANA MERIDIAN   \n",
       "24                     T1S, R13W, ST. STEPHENS MERIDIAN   \n",
       "26                       T17N, R10W, LOUISIANA MERIDIAN   \n",
       "27                      T7N, R8W, ST, STEPHENS MERIDIAN   \n",
       "28                        T12S, R4E, CHICKASAW MERIDIAN   \n",
       "32                                                 None   \n",
       "33                                                 None   \n",
       "34                        T5N, R1W, WASHINGTON MERIDIAN   \n",
       "35                                                 None   \n",
       "36                        T5N, R1W, WASHINGTON MERIDIAN   \n",
       "37                      T6N, R7W, ST, STEPHENS MERIDIAN   \n",
       "...                                                 ...   \n",
       "2524                                               None   \n",
       "2525                                               None   \n",
       "2526  Sec 32 ALL; Sec 33 NE1/4, NE1/4NW1/4, S1/2SW1/...   \n",
       "2527                                               None   \n",
       "2528                                               None   \n",
       "2531                                               None   \n",
       "2532                                               None   \n",
       "2533                                               None   \n",
       "2534                                               None   \n",
       "2535                                               None   \n",
       "2536                                               None   \n",
       "2537                                               None   \n",
       "2538                                               None   \n",
       "2539                                               None   \n",
       "2540                                               None   \n",
       "2541                                               None   \n",
       "2542                                               None   \n",
       "2543                                               None   \n",
       "2544                                               None   \n",
       "2545                                               None   \n",
       "2546                                               None   \n",
       "2547                                               None   \n",
       "2548                                               None   \n",
       "2551                                         SEC 15 ALL   \n",
       "2552                                       SEC 20 SESE    \n",
       "2553                               SEC 4 S2SE; SEC 9 N2   \n",
       "2554                 SEC 5 LOTS 1,2,3,4; SEC 5 S2;        \n",
       "2555                     SEC 17 N2, SW, N2SE, SWSE        \n",
       "2556                                    SEC 34 NW, N2SW   \n",
       "2557                        SEC 26 N2NE, SWNE, W2, NWSE   \n",
       "\n",
       "                                        DESCRIPTION III  \n",
       "0                                                  None  \n",
       "2                                                  None  \n",
       "4                          LOTS & TRACTS IN SEC 23 & 30  \n",
       "6                                                  None  \n",
       "8                                                  None  \n",
       "9                                 SEE EXHIBIT K FOR M&B  \n",
       "10                                                 None  \n",
       "11                                                 None  \n",
       "12                                                 None  \n",
       "13                                                 None  \n",
       "14                                                 None  \n",
       "15                                                 None  \n",
       "16                                SEE EXHIBIT L FOR M&B  \n",
       "17                                                 None  \n",
       "18                                                 None  \n",
       "19                                                 None  \n",
       "20                                SEE EXHIBIT G FOR M&B  \n",
       "21                                SEE EXHIBIT H FOR M&B  \n",
       "22                                         SEC 32, SWNW  \n",
       "23                                          SEC 1, SWNE  \n",
       "24                                               SEC 25  \n",
       "26                             SEC 20, SENE, N2SW, N2SE  \n",
       "27                                SEC 4, SWNE, W2, W2SE  \n",
       "28    SEC 5, SW, E20ac OF SESE, 7ac IN SE  CORNER OF...  \n",
       "32                                                 None  \n",
       "33                                                 None  \n",
       "34                                           SEC 6, ALL  \n",
       "35                                                 None  \n",
       "36                                SEC 21, LOTS 5 THRU 8  \n",
       "37                                         SEC 30, SWSW  \n",
       "...                                                 ...  \n",
       "2524                                               None  \n",
       "2525                                               None  \n",
       "2526                                               None  \n",
       "2527                                               None  \n",
       "2528                                               None  \n",
       "2531                                               None  \n",
       "2532                                               None  \n",
       "2533                                               None  \n",
       "2534                                               None  \n",
       "2535                                               None  \n",
       "2536                                               None  \n",
       "2537                                               None  \n",
       "2538                                               None  \n",
       "2539                                               None  \n",
       "2540                                               None  \n",
       "2541                                               None  \n",
       "2542                                               None  \n",
       "2543                                               None  \n",
       "2544                                               None  \n",
       "2545                                               None  \n",
       "2546                                               None  \n",
       "2547                                               None  \n",
       "2548                                               None  \n",
       "2551                                               None  \n",
       "2552                                               None  \n",
       "2553                                               None  \n",
       "2554                                               None  \n",
       "2555                                               None  \n",
       "2556                                               None  \n",
       "2557                                               None  \n",
       "\n",
       "[2175 rows x 16 columns]"
      ]
     },
     "execution_count": 104,
     "metadata": {},
     "output_type": "execute_result"
    }
   ],
   "source": [
    "cleanData[tableCols['details']]"
   ]
  },
  {
   "cell_type": "code",
   "execution_count": null,
   "metadata": {},
   "outputs": [],
   "source": []
  },
  {
   "cell_type": "markdown",
   "metadata": {},
   "source": [
    "# Quick Analytics on Field Lengths for Creating SQL Tables"
   ]
  },
  {
   "cell_type": "code",
   "execution_count": 105,
   "metadata": {},
   "outputs": [
    {
     "data": {
      "text/plain": [
       "259.0"
      ]
     },
     "execution_count": 105,
     "metadata": {},
     "output_type": "execute_result"
    },
    {
     "data": {
      "text/plain": [
       "385.0"
      ]
     },
     "execution_count": 105,
     "metadata": {},
     "output_type": "execute_result"
    },
    {
     "data": {
      "text/plain": [
       "314.0"
      ]
     },
     "execution_count": 105,
     "metadata": {},
     "output_type": "execute_result"
    },
    {
     "data": {
      "text/plain": [
       "217.0"
      ]
     },
     "execution_count": 105,
     "metadata": {},
     "output_type": "execute_result"
    }
   ],
   "source": [
    "cleanData['DESCRIPTION I'].str.len().max()\n",
    "cleanData['DESCRIPTION II'].str.len().max()\n",
    "cleanData['DESCRIPTION III'].str.len().max()\n",
    "cleanData['STATUS/COMMENTS'].str.len().max()"
   ]
  },
  {
   "cell_type": "markdown",
   "metadata": {},
   "source": [
    "# Print Columns in Each Table Name for SQL Paste"
   ]
  },
  {
   "cell_type": "code",
   "execution_count": 106,
   "metadata": {},
   "outputs": [
    {
     "data": {
      "text/plain": [
       "dict_keys(['details', 'sale_info', 'investment', 'interest', 'recording'])"
      ]
     },
     "execution_count": 106,
     "metadata": {},
     "output_type": "execute_result"
    }
   ],
   "source": [
    "tableCols.keys()"
   ]
  },
  {
   "cell_type": "code",
   "execution_count": 107,
   "metadata": {},
   "outputs": [
    {
     "name": "stdout",
     "output_type": "stream",
     "text": [
      "\n",
      "------------\n",
      "details\n",
      "------------\n",
      "LEASE_NO.\n",
      "PLOTTED\n",
      "GRANTEE\n",
      "SALE_DATE\n",
      "EFFECTIVE_DATE_OF_LEASE\n",
      "EXPIRATION_DATE\n",
      "ACRES\n",
      "COUNTY\n",
      "ST\n",
      "STATUS/COMMENTS\n",
      "EXPIRATION_YEAR\n",
      "TOWNSHIP\n",
      "RANGE\n",
      "DESCRIPTION_I\n",
      "DESCRIPTION_II\n",
      "DESCRIPTION_III\n",
      "\n",
      "------------\n",
      "sale_info\n",
      "------------\n",
      "LEASE_NO.\n",
      "PARCEL_NO\n",
      "DUE_AT_SALE\n",
      "DUE_AFTER_SALE_(REFUNDED)\n",
      "TOTAL__PAID\n",
      "AMOUNT_OF_RENTAL\n",
      "\n",
      "------------\n",
      "investment\n",
      "------------\n",
      "LEASE_NO.\n",
      "YEARS_RENEWED\n",
      "_RENTALS_PAID_UP_TO_DATE\n",
      "TOTAL_INVESTMENT_(BONUS_+_RENTALS)\n",
      "Estimated_Bonus_$/Acre\n",
      "\n",
      "------------\n",
      "interest\n",
      "------------\n",
      "LEASE_NO.\n",
      "UA_%\n",
      "RA%\n",
      "KA%\n",
      "\n",
      "------------\n",
      "recording\n",
      "------------\n",
      "LEASE_NO.\n",
      "RECORDED_LEASE__\n",
      "DATE_FILED_(OVERRIDE)\n",
      "%_OF_OVERRIDES\n",
      "Assignment_of_ORRI\n"
     ]
    }
   ],
   "source": [
    "for key in tableCols.keys():\n",
    "    print('\\n------------')\n",
    "    print(key)\n",
    "    print('------------')\n",
    "    for col in tableCols[key]:\n",
    "        print(col.replace(' ', '_'))"
   ]
  },
  {
   "cell_type": "code",
   "execution_count": 108,
   "metadata": {},
   "outputs": [
    {
     "name": "stdout",
     "output_type": "stream",
     "text": [
      "LEASE_NO.\n",
      "PLOTTED\n",
      "GRANTEE\n",
      "SALE_DATE\n",
      "EFFECTIVE_DATE_OF_LEASE\n",
      "EXPIRATION_DATE\n",
      "ACRES\n",
      "COUNTY\n",
      "ST\n",
      "STATUS/COMMENTS\n",
      "EXPIRATION_YEAR\n",
      "TOWNSHIP\n",
      "RANGE\n",
      "DESCRIPTION_I\n",
      "DESCRIPTION_II\n",
      "DESCRIPTION_III\n"
     ]
    }
   ],
   "source": [
    "for col in tableCols['details']:\n",
    "    print(col.replace(' ', '_'))"
   ]
  },
  {
   "cell_type": "code",
   "execution_count": null,
   "metadata": {},
   "outputs": [],
   "source": []
  },
  {
   "cell_type": "markdown",
   "metadata": {},
   "source": [
    "# Connecting to MySQL AWS DB and Inserting"
   ]
  },
  {
   "cell_type": "code",
   "execution_count": 109,
   "metadata": {},
   "outputs": [],
   "source": [
    "import pymysql\n",
    "import pdb"
   ]
  },
  {
   "cell_type": "code",
   "execution_count": 110,
   "metadata": {},
   "outputs": [],
   "source": [
    "db = pymysql.connect(\n",
    "    host='magnumblm.csyuxto9afdd.us-east-2.rds.amazonaws.com', \n",
    "    user = 'admin',\n",
    "    password= 'magnum322',\n",
    "    database = 'MagnumBLMLeases')"
   ]
  },
  {
   "cell_type": "code",
   "execution_count": 111,
   "metadata": {},
   "outputs": [
    {
     "data": {
      "text/plain": [
       "6"
      ]
     },
     "execution_count": 111,
     "metadata": {},
     "output_type": "execute_result"
    },
    {
     "data": {
      "text/plain": [
       "(('details',),\n",
       " ('interest',),\n",
       " ('investment',),\n",
       " ('recording',),\n",
       " ('sale_info',),\n",
       " ('v_activeAcreage',))"
      ]
     },
     "execution_count": 111,
     "metadata": {},
     "output_type": "execute_result"
    }
   ],
   "source": [
    "cursor = db.cursor()\n",
    "\n",
    "\n",
    "cursor.execute('Show Tables')\n",
    "\n",
    "cursor.fetchall()"
   ]
  },
  {
   "cell_type": "code",
   "execution_count": 112,
   "metadata": {},
   "outputs": [],
   "source": [
    "def getDBcolumnNames(table_name, db_connection):\n",
    "    ''' This function will get column names from desired table in its ordinal position by passing sql query.\n",
    "        This function will only work when already connected to desired database\n",
    "    '''\n",
    "\n",
    "    #sql statement to get column names\n",
    "    schemasql = '''\n",
    "    SELECT *\n",
    "    FROM INFORMATION_SCHEMA.COLUMNS\n",
    "    WHERE TABLE_NAME = '{}'\n",
    "    ORDER by ordinal_position;\n",
    "    '''.format(table_name)\n",
    "\n",
    "    cursor = db_connection.cursor()\n",
    "\n",
    "    #executing sql statement and then fetching data from cursor\n",
    "    cursor.execute(schemasql)\n",
    "    dbcolumns = cursor.fetchall()\n",
    "\n",
    "    #retreiving column name from cursor along with ordinal position\n",
    "    sql_col_name = []\n",
    "\n",
    "    for item in dbcolumns:\n",
    "        # item 3 is where col name is found in data fetch object\n",
    "        sql_col_name.append(item[3])\n",
    "\n",
    "    #joining list of columns by comma and converting to string\n",
    "    stringcolnames = ','.join(sql_col_name)\n",
    "\n",
    "    print('Column Names in Database for Table {}'.format(table_name))\n",
    "    print('----------------')\n",
    "\n",
    "    return stringcolnames"
   ]
  },
  {
   "cell_type": "code",
   "execution_count": 113,
   "metadata": {},
   "outputs": [
    {
     "name": "stdout",
     "output_type": "stream",
     "text": [
      "Column Names in Database for Table details\n",
      "----------------\n"
     ]
    },
    {
     "data": {
      "text/plain": [
       "'LEASE_NO,PLOTTED,GRANTEE,SALE_DATE,EFFECTIVE_DATE_OF_LEASE,EXPIRATION_DATE,ACRES,COUNTY,ST,STATUS_COMMENTS,EXPIRATION_YEAR,TOWNSHIP,RANGE_PLSS,DESCRIPTION_I,DESCRIPTION_II,DESCRIPTION_III'"
      ]
     },
     "execution_count": 113,
     "metadata": {},
     "output_type": "execute_result"
    }
   ],
   "source": [
    "getDBcolumnNames('details', db)"
   ]
  },
  {
   "cell_type": "code",
   "execution_count": 127,
   "metadata": {},
   "outputs": [],
   "source": [
    "def generateInsertString(table_name, db_connection, update = True):\n",
    "    \n",
    "    '''This function will generate an insert SQL statement\n",
    "        The file where the function is being called must be connected to a database for function to execute,\n",
    "        the connection object must be passed in to this function\n",
    "    '''\n",
    "\n",
    "    cols = getDBcolumnNames(table_name, db_connection)\n",
    "\n",
    "    #initalizing empty string\n",
    "    valueplaceholders = ''\n",
    "\n",
    "    #for loop to generate placeholder %s\n",
    "    #splitting string column names by comma to get number of columns\n",
    "    for i in range(0, len(getDBcolumnNames(table_name, db_connection).split(','))):\n",
    "        valueplaceholders += '%s,'\n",
    "    # taking string minus 1 position to remove extra comma\n",
    "    valueplaceholders = valueplaceholders[0:len(valueplaceholders)-1]\n",
    "\n",
    "\n",
    "    #final insert string, placeholders will table name, columns from db, and values from datasource/dataframe\n",
    "    insert_sql = 'INSERT INTO {}({}) VALUES ({})'.format(table_name, cols, valueplaceholders)\n",
    "    \n",
    "    # if update is false, then this code to check for duplicate keys and update will not be added to sql string\n",
    "    if update:\n",
    "        updatestring = []\n",
    "        for col in getDBcolumnNames(table_name, db_connection).split(','):\n",
    "            updatestring.append('{} = %s'.format(col))\n",
    "\n",
    "        updatestring = ','.join(updatestring)\n",
    "\n",
    "        insert_sql = insert_sql +' ON DUPLICATE KEY UPDATE ' + updatestring\n",
    "\n",
    "    return insert_sql\n",
    "    "
   ]
  },
  {
   "cell_type": "code",
   "execution_count": 128,
   "metadata": {},
   "outputs": [
    {
     "name": "stdout",
     "output_type": "stream",
     "text": [
      "Column Names in Database for Table details\n",
      "----------------\n",
      "Column Names in Database for Table details\n",
      "----------------\n"
     ]
    },
    {
     "data": {
      "text/plain": [
       "'INSERT INTO details(LEASE_NO,PLOTTED,GRANTEE,SALE_DATE,EFFECTIVE_DATE_OF_LEASE,EXPIRATION_DATE,ACRES,COUNTY,ST,STATUS_COMMENTS,EXPIRATION_YEAR,TOWNSHIP,RANGE_PLSS,DESCRIPTION_I,DESCRIPTION_II,DESCRIPTION_III) VALUES (%s,%s,%s,%s,%s,%s,%s,%s,%s,%s,%s,%s,%s,%s,%s,%s)'"
      ]
     },
     "execution_count": 128,
     "metadata": {},
     "output_type": "execute_result"
    }
   ],
   "source": [
    "generateInsertString('details', db, False)"
   ]
  },
  {
   "cell_type": "code",
   "execution_count": 130,
   "metadata": {},
   "outputs": [
    {
     "name": "stdout",
     "output_type": "stream",
     "text": [
      "Column Names in Database for Table details\n",
      "----------------\n",
      "Column Names in Database for Table details\n",
      "----------------\n",
      "Column Names in Database for Table details\n",
      "----------------\n"
     ]
    },
    {
     "data": {
      "text/plain": [
       "'INSERT INTO details(LEASE_NO,PLOTTED,GRANTEE,SALE_DATE,EFFECTIVE_DATE_OF_LEASE,EXPIRATION_DATE,ACRES,COUNTY,ST,STATUS_COMMENTS,EXPIRATION_YEAR,TOWNSHIP,RANGE_PLSS,DESCRIPTION_I,DESCRIPTION_II,DESCRIPTION_III) VALUES (%s,%s,%s,%s,%s,%s,%s,%s,%s,%s,%s,%s,%s,%s,%s,%s) ON DUPLICATE KEY UPDATE LEASE_NO = %s,PLOTTED = %s,GRANTEE = %s,SALE_DATE = %s,EFFECTIVE_DATE_OF_LEASE = %s,EXPIRATION_DATE = %s,ACRES = %s,COUNTY = %s,ST = %s,STATUS_COMMENTS = %s,EXPIRATION_YEAR = %s,TOWNSHIP = %s,RANGE_PLSS = %s,DESCRIPTION_I = %s,DESCRIPTION_II = %s,DESCRIPTION_III = %s'"
      ]
     },
     "execution_count": 130,
     "metadata": {},
     "output_type": "execute_result"
    }
   ],
   "source": [
    "generateInsertString('details', db)"
   ]
  },
  {
   "cell_type": "code",
   "execution_count": 131,
   "metadata": {},
   "outputs": [],
   "source": [
    "def insertUpdateToTable(source, table_name, db_connection):\n",
    "    '''This function will take source data as a Pandas Dataframe and a table name passed as a string\n",
    "    The table name will filter the source data set to columns mapped to the database columns in the config dictionary\n",
    "    The function will also return failed row numbers for troubeshooting post insert\n",
    "    The function will only work when database connection is established, which must be passed in\n",
    "    '''\n",
    "    \n",
    "    #creating local instance of cursor to avoid errors from using global cursor in main script\n",
    "    cursor = db_connection.cursor()\n",
    "\n",
    "    #empty array to store index number that fails to enter\n",
    "    failedindexes = []\n",
    "\n",
    "    sql = generateInsertString(table_name, db_connection)\n",
    "\n",
    "\n",
    "    for index in range(0, source[tableCols[table_name]].shape[0]):\n",
    "\n",
    "        #storing values for each row in dataframe as list\n",
    "        #will pass this list into cursor execute function\n",
    "        rowvalues = list(source[tableCols[table_name]].iloc[index].values)\n",
    "        \n",
    "        #block of nested for loops with take row values from dataframe and append them to blank list twice.\n",
    "        #values are appended twice to execute insert statment with on duplicate key clause\n",
    "        values = []\n",
    "        for i in range(0,2):\n",
    "            for value in rowvalues:\n",
    "                values.append(value)\n",
    "\n",
    "\n",
    "        try:\n",
    "            cursor.execute(sql, values)\n",
    "\n",
    "            #committing to database every 500 inserts\n",
    "            if index % 500 == 0:\n",
    "                print('committing to db - {} records inserted'.format(index))\n",
    "                db_connection.commit()\n",
    "\n",
    "        except Exception as e:\n",
    "            print('error occured at index {}'.format(index))\n",
    "            print(e)\n",
    "            source[tableCols[table_name]].iloc[index]\n",
    "            failedindexes.append(index)\n",
    "    db_connection.commit()\n",
    "\n",
    "    #closing cursor after end of the full insert, this is to prevent global cursor object\n",
    "    cursor.close()\n",
    "    return failedindexes"
   ]
  },
  {
   "cell_type": "code",
   "execution_count": 136,
   "metadata": {},
   "outputs": [],
   "source": [
    "def bulkInsert(source, table_name, db_connection):\n",
    "    '''This function will take source data as a Pandas Dataframe and a table name passed as a string\n",
    "    The table name will filter the source data set to columns mapped to the database columns in the config dictionary\n",
    "    The function will bulk insert values, which will only work for initial loading of truncated tables. \n",
    "    Updates will not work due to bug in executemany function \n",
    "    The function will only work when database connection is established, which must be passed in\n",
    "    '''\n",
    "    \n",
    "#     pdb.set_trace()\n",
    "    \n",
    "    #creating local instance of cursor to avoid errors from using global cursor in main script\n",
    "    cursor = db_connection.cursor()\n",
    "\n",
    "    #empty array to store index number that fails to enter\n",
    "    failedindexes = []\n",
    "\n",
    "    sql = generateInsertString(table_name, db_connection, update = False)\n",
    "\n",
    "    #initalizing empty array to hold each value array of the bulk insert statement\n",
    "    manyvalues = []\n",
    "\n",
    "    #looping through sliced dataframe from column names\n",
    "    for index in range(0, source[tableCols[table_name]].shape[0]):\n",
    "\n",
    "        #storing values for each row in dataframe as list\n",
    "        #will pass this list into cursor execute function\n",
    "        rowvalues = list(source[tableCols[table_name]].iloc[index].values)\n",
    "        \n",
    "        #after value aray is formed, append to manyvalues array\n",
    "        manyvalues.append(tuple(rowvalues))\n",
    "\n",
    "    try:\n",
    "        #execute many will bulk insert values from dataframe\n",
    "        cursor.executemany(sql, manyvalues)\n",
    "        \n",
    "        #committing to db after bulk insert\n",
    "        db_connection.commit()\n",
    "\n",
    "    except Exception as e:\n",
    "        print('error occured at index {}'.format(index))\n",
    "        print(e)\n",
    "    \n",
    "    #closing cursor after end of the full insert, this is to prevent global cursor object\n",
    "    cursor.close()\n"
   ]
  },
  {
   "cell_type": "code",
   "execution_count": 137,
   "metadata": {},
   "outputs": [
    {
     "name": "stdout",
     "output_type": "stream",
     "text": [
      "Column Names in Database for Table details\n",
      "----------------\n",
      "Column Names in Database for Table details\n",
      "----------------\n",
      "error occured at index 2174\n",
      "(1062, \"Duplicate entry 'TXNM096140' for key 'details.PRIMARY'\")\n",
      "Time elapsed (hh:mm:ss.ms) 0:00:05.322798\n"
     ]
    }
   ],
   "source": [
    "from datetime import datetime \n",
    "\n",
    "start_time = datetime.now() \n",
    "\n",
    "vals = bulkInsert(cleanData, 'details', db)\n",
    "\n",
    "print('Time elapsed (hh:mm:ss.ms) {}'.format(datetime.now() - start_time))"
   ]
  },
  {
   "cell_type": "code",
   "execution_count": 144,
   "metadata": {},
   "outputs": [
    {
     "data": {
      "text/plain": [
       "1"
      ]
     },
     "execution_count": 144,
     "metadata": {},
     "output_type": "execute_result"
    }
   ],
   "source": [
    "cursor.execute('select count(1) from details')\n",
    "x = cursor.fetchone()"
   ]
  },
  {
   "cell_type": "code",
   "execution_count": 147,
   "metadata": {},
   "outputs": [
    {
     "data": {
      "text/plain": [
       "2175"
      ]
     },
     "execution_count": 147,
     "metadata": {},
     "output_type": "execute_result"
    }
   ],
   "source": [
    "x[0]"
   ]
  },
  {
   "cell_type": "markdown",
   "metadata": {},
   "source": [
    "## Logic for Update on Duplicate Key string"
   ]
  },
  {
   "cell_type": "code",
   "execution_count": 291,
   "metadata": {},
   "outputs": [],
   "source": [
    "testcols = getDBcolumnNames('details')\n",
    "\n",
    "testvals = list(cleanData[tableCols['details']].iloc[0].values)"
   ]
  },
  {
   "cell_type": "code",
   "execution_count": 296,
   "metadata": {},
   "outputs": [
    {
     "data": {
      "text/plain": [
       "'LEASE_NO,PLOTTED,GRANTEE,SALE_DATE,EFFECTIVE_DATE_OF_LEASE,EXPIRATION_DATE,ACRES,COUNTY,ST,STATUS_COMMENTS,EXPIRATION_YEAR,TOWNSHIP,RANGE_PLSS,DESCRIPTION_I,DESCRIPTION_II,DESCRIPTION_III'"
      ]
     },
     "execution_count": 296,
     "metadata": {},
     "output_type": "execute_result"
    }
   ],
   "source": [
    "testcols"
   ]
  },
  {
   "cell_type": "code",
   "execution_count": 303,
   "metadata": {},
   "outputs": [
    {
     "data": {
      "text/plain": [
       "'LEASE_NO = %s,PLOTTED = %s,GRANTEE = %s,SALE_DATE = %s,EFFECTIVE_DATE_OF_LEASE = %s,EXPIRATION_DATE = %s,ACRES = %s,COUNTY = %s,ST = %s,STATUS_COMMENTS = %s,EXPIRATION_YEAR = %s,TOWNSHIP = %s,RANGE_PLSS = %s,DESCRIPTION_I = %s,DESCRIPTION_II = %s,DESCRIPTION_III = %s'"
      ]
     },
     "execution_count": 303,
     "metadata": {},
     "output_type": "execute_result"
    }
   ],
   "source": [
    "updatestring = []\n",
    "for index, col in enumerate(getDBcolumnNames('details').split(',')):\n",
    "    updatestring.append('{} = %s'.format(col))\n",
    "\n",
    "','.join(updatestring)\n",
    "        "
   ]
  },
  {
   "cell_type": "markdown",
   "metadata": {},
   "source": [
    "# Testing Insert String"
   ]
  },
  {
   "cell_type": "code",
   "execution_count": 230,
   "metadata": {},
   "outputs": [],
   "source": [
    "# len(getDBcolumnNames('details').split(','))\n",
    "\n",
    "# testDataInsert = cleanData[tableCols['details']].head()\n",
    "\n",
    "# testDataInsert\n",
    "\n",
    "# for index in range(0,testDataInsert.shape[0]):\n",
    "#     sql = generateInsertString('details')\n",
    "#     values = list(testDataInsert.iloc[index].values)\n",
    "    \n",
    "#     cursor.execute(sql, values)\n",
    "# db.commit()"
   ]
  },
  {
   "cell_type": "code",
   "execution_count": 126,
   "metadata": {},
   "outputs": [
    {
     "name": "stdout",
     "output_type": "stream",
     "text": [
      "Column Names in Database for Table details\n",
      "----------------\n",
      "Column Names in Database for Table details\n",
      "----------------\n",
      "Column Names in Database for Table details\n",
      "----------------\n",
      "error occured at index 0\n",
      "(1064, \"You have an error in your SQL syntax; check the manual that corresponds to your MySQL server version for the right syntax to use near 'UPDATELEASE_NO = 'TXNM096140',PLOTTED = 'NO',GRANTEE = 'R&R Royalty',SALE_DATE =' at line 1\")\n",
      "error occured at index 1\n",
      "(1064, \"You have an error in your SQL syntax; check the manual that corresponds to your MySQL server version for the right syntax to use near 'UPDATELEASE_NO = 'TXNM103231',PLOTTED = 'NO',GRANTEE = 'R&R Royalty',SALE_DATE =' at line 1\")\n",
      "error occured at index 2\n",
      "(1064, \"You have an error in your SQL syntax; check the manual that corresponds to your MySQL server version for the right syntax to use near 'UPDATELEASE_NO = 'TXNM091527',PLOTTED = 'NO',GRANTEE = 'R&R Royalty',SALE_DATE =' at line 1\")\n",
      "error occured at index 3\n",
      "(1064, \"You have an error in your SQL syntax; check the manual that corresponds to your MySQL server version for the right syntax to use near 'UPDATELEASE_NO = 'TXNM102849',PLOTTED = 'NO',GRANTEE = 'R&R Royalty',SALE_DATE =' at line 1\")\n",
      "error occured at index 4\n",
      "(1064, \"You have an error in your SQL syntax; check the manual that corresponds to your MySQL server version for the right syntax to use near 'UPDATELEASE_NO = 'TXNM103276',PLOTTED = 'NO',GRANTEE = 'R&R Royalty',SALE_DATE =' at line 1\")\n"
     ]
    },
    {
     "data": {
      "text/plain": [
       "[0, 1, 2, 3, 4]"
      ]
     },
     "execution_count": 126,
     "metadata": {},
     "output_type": "execute_result"
    }
   ],
   "source": [
    "insertUpdateToTable(cleanData.head(), 'details', db)"
   ]
  },
  {
   "cell_type": "code",
   "execution_count": 231,
   "metadata": {},
   "outputs": [
    {
     "name": "stdout",
     "output_type": "stream",
     "text": [
      "committing to db\n",
      "committing to db\n",
      "committing to db\n",
      "error occured at index 127\n",
      "error occured at index 150\n",
      "committing to db\n",
      "committing to db\n",
      "committing to db\n",
      "committing to db\n",
      "committing to db\n",
      "committing to db\n",
      "committing to db\n",
      "committing to db\n",
      "committing to db\n",
      "committing to db\n",
      "error occured at index 694\n",
      "error occured at index 695\n",
      "committing to db\n",
      "committing to db\n",
      "committing to db\n",
      "error occured at index 804\n",
      "committing to db\n",
      "committing to db\n",
      "committing to db\n",
      "error occured at index 985\n",
      "error occured at index 986\n",
      "committing to db\n",
      "committing to db\n",
      "committing to db\n",
      "committing to db\n",
      "committing to db\n",
      "committing to db\n",
      "committing to db\n",
      "committing to db\n",
      "committing to db\n",
      "committing to db\n",
      "committing to db\n",
      "committing to db\n",
      "committing to db\n",
      "committing to db\n",
      "committing to db\n",
      "committing to db\n",
      "committing to db\n",
      "committing to db\n",
      "committing to db\n",
      "error occured at index 1904\n",
      "committing to db\n",
      "committing to db\n",
      "committing to db\n",
      "committing to db\n",
      "committing to db\n"
     ]
    },
    {
     "ename": "NameError",
     "evalue": "name 'res' is not defined",
     "output_type": "error",
     "traceback": [
      "\u001b[0;31m---------------------------------------------------------------------------\u001b[0m",
      "\u001b[0;31mNameError\u001b[0m                                 Traceback (most recent call last)",
      "\u001b[0;32m<timed exec>\u001b[0m in \u001b[0;36m<module>\u001b[0;34m\u001b[0m\n",
      "\u001b[0;31mNameError\u001b[0m: name 'res' is not defined"
     ]
    }
   ],
   "source": [
    "\n",
    "# cursor.execute('TRUNCATE TABLE details;')\n",
    "# db.commit()\n",
    "\n",
    "# failedindexes = []\n",
    "\n",
    "# sql = generateInsertString('details')\n",
    "\n",
    "# for index in range(0,cleanData[tableCols['details']].shape[0]):\n",
    "    \n",
    "#     values = list(cleanData[tableCols['details']].iloc[index].values)\n",
    "    \n",
    "#     try:\n",
    "#         cursor.execute(sql, values)\n",
    "        \n",
    "#         #committing to database every 50 inserts \n",
    "#         if index % 50 == 0:\n",
    "#             print('committing to db')\n",
    "#             db.commit()\n",
    "            \n",
    "        \n",
    "#     except:\n",
    "#         print('error occured at index {}'.format(index))\n",
    "#         cleanData[tableCols['details']].iloc[index]\n",
    "#         failedindexes.append(index)\n",
    "\n",
    "# db.commit()"
   ]
  },
  {
   "cell_type": "code",
   "execution_count": 240,
   "metadata": {
    "scrolled": true
   },
   "outputs": [
    {
     "data": {
      "text/plain": [
       "[127, 150, 694, 695, 804, 985, 986, 1904]"
      ]
     },
     "execution_count": 240,
     "metadata": {},
     "output_type": "execute_result"
    }
   ],
   "source": [
    "failedindexes"
   ]
  },
  {
   "cell_type": "markdown",
   "metadata": {},
   "source": [
    "## Troubleshooting Failed Inserts"
   ]
  },
  {
   "cell_type": "code",
   "execution_count": 241,
   "metadata": {},
   "outputs": [],
   "source": [
    "def testInsert(index):\n",
    "    '''\n",
    "    This function will try to insert query by passing in an index number that is stored in failed index\n",
    "    '''\n",
    "    testinsertstring = generateInsertString('details')\n",
    "    testinsertstring\n",
    "\n",
    "    cleanData[tableCols['details']].iloc[index]\n",
    "    testvals = list(cleanData[tableCols['details']].iloc[index].values)\n",
    "\n",
    "    cursor.execute(testinsertstring, testvals)"
   ]
  },
  {
   "cell_type": "code",
   "execution_count": 242,
   "metadata": {},
   "outputs": [
    {
     "name": "stdout",
     "output_type": "stream",
     "text": [
      "(1062, \"Duplicate entry 'TXNM091527' for key 'details.PRIMARY'\")\n",
      "(1062, \"Duplicate entry 'TXNM096140' for key 'details.PRIMARY'\")\n",
      "(1062, \"Duplicate entry 'TXNM105598' for key 'details.PRIMARY'\")\n",
      "(1062, \"Duplicate entry 'TXNM117621' for key 'details.PRIMARY'\")\n",
      "(1062, \"Duplicate entry 'TXNM120959' for key 'details.PRIMARY'\")\n",
      "(1062, \"Duplicate entry 'ARES54411' for key 'details.PRIMARY'\")\n",
      "(1062, \"Duplicate entry 'OHES56260' for key 'details.PRIMARY'\")\n",
      "(1062, \"Duplicate entry 'MSES 05973' for key 'details.PRIMARY'\")\n"
     ]
    }
   ],
   "source": [
    "for failedindex in iter(failedindexes):\n",
    "    try:\n",
    "        testInsert(failedindex)\n",
    "    except Exception as e: print(e) #will print error upon error\n",
    "      "
   ]
  },
  {
   "cell_type": "code",
   "execution_count": 236,
   "metadata": {},
   "outputs": [
    {
     "data": {
      "text/plain": [
       "array(['TXNM091527', 'TXNM096140', 'TXNM105598', 'TXNM117621',\n",
       "       'TXNM120959', 'ARES54411', 'OHES56260', 'MSES 059735\\n'],\n",
       "      dtype=object)"
      ]
     },
     "execution_count": 236,
     "metadata": {},
     "output_type": "execute_result"
    }
   ],
   "source": [
    "cleanData[cleanData.reset_index().index.isin(failedindexes)]['LEASE NO.'].values"
   ]
  },
  {
   "cell_type": "code",
   "execution_count": 237,
   "metadata": {},
   "outputs": [
    {
     "name": "stderr",
     "output_type": "stream",
     "text": [
      "/anaconda3/lib/python3.6/site-packages/pandas/io/clipboards.py:127: FutureWarning: The signature of `Series.to_csv` was aligned to that of `DataFrame.to_csv`, and argument 'header' will change its default value from False to True: please pass an explicit value to suppress this warning.\n",
      "  obj.to_csv(buf, sep=sep, encoding='utf-8', **kwargs)\n"
     ]
    }
   ],
   "source": [
    "cleanData.loc[cleanData['LEASE NO.'].isin(cleanData[cleanData.reset_index().index.isin(failedindexes)]['LEASE NO.'].values)]['LEASE NO.'].to_clipboard()\n",
    "\n",
    "\n"
   ]
  },
  {
   "cell_type": "code",
   "execution_count": 238,
   "metadata": {},
   "outputs": [
    {
     "data": {
      "text/html": [
       "<div>\n",
       "<style scoped>\n",
       "    .dataframe tbody tr th:only-of-type {\n",
       "        vertical-align: middle;\n",
       "    }\n",
       "\n",
       "    .dataframe tbody tr th {\n",
       "        vertical-align: top;\n",
       "    }\n",
       "\n",
       "    .dataframe thead th {\n",
       "        text-align: right;\n",
       "    }\n",
       "</style>\n",
       "<table border=\"1\" class=\"dataframe\">\n",
       "  <thead>\n",
       "    <tr style=\"text-align: right;\">\n",
       "      <th></th>\n",
       "      <th>LEASE NO.</th>\n",
       "      <th>PLOTTED</th>\n",
       "      <th>GRANTEE</th>\n",
       "      <th>SALE DATE</th>\n",
       "      <th>EFFECTIVE DATE OF LEASE</th>\n",
       "      <th>EXPIRATION DATE</th>\n",
       "      <th>ACRES</th>\n",
       "      <th>COUNTY</th>\n",
       "      <th>ST</th>\n",
       "      <th>STATUS/COMMENTS</th>\n",
       "      <th>EXPIRATION YEAR</th>\n",
       "      <th>TOWNSHIP</th>\n",
       "      <th>RANGE</th>\n",
       "      <th>DESCRIPTION I</th>\n",
       "      <th>DESCRIPTION II</th>\n",
       "      <th>DESCRIPTION III</th>\n",
       "      <th>PARCEL NO</th>\n",
       "      <th>DUE AT SALE</th>\n",
       "      <th>DUE AFTER SALE (REFUNDED)</th>\n",
       "      <th>TOTAL  PAID</th>\n",
       "      <th>AMOUNT OF RENTAL</th>\n",
       "      <th>YEARS RENEWED</th>\n",
       "      <th>RENTALS PAID UP TO DATE</th>\n",
       "      <th>TOTAL INVESTMENT (BONUS + RENTALS)</th>\n",
       "      <th>Estimated Bonus $/Acre</th>\n",
       "      <th>UA %</th>\n",
       "      <th>RA%</th>\n",
       "      <th>KA%</th>\n",
       "      <th>RECORDED LEASE</th>\n",
       "      <th>DATE FILED (OVERRIDE)</th>\n",
       "      <th>% OF OVERRIDES</th>\n",
       "      <th>Assignment of ORRI</th>\n",
       "    </tr>\n",
       "  </thead>\n",
       "  <tbody>\n",
       "    <tr>\n",
       "      <th>155</th>\n",
       "      <td>TXNM091527</td>\n",
       "      <td>NO</td>\n",
       "      <td>R&amp;R Royalty</td>\n",
       "      <td>1993/07/21</td>\n",
       "      <td>None</td>\n",
       "      <td>None</td>\n",
       "      <td>0</td>\n",
       "      <td>None</td>\n",
       "      <td>None</td>\n",
       "      <td>Bid Refunded</td>\n",
       "      <td>None</td>\n",
       "      <td>None</td>\n",
       "      <td>None</td>\n",
       "      <td>None</td>\n",
       "      <td>None</td>\n",
       "      <td>None</td>\n",
       "      <td>None</td>\n",
       "      <td>None</td>\n",
       "      <td>-4200</td>\n",
       "      <td>-4200</td>\n",
       "      <td>None</td>\n",
       "      <td>None</td>\n",
       "      <td>None</td>\n",
       "      <td>None</td>\n",
       "      <td>0</td>\n",
       "      <td>None</td>\n",
       "      <td>None</td>\n",
       "      <td>None</td>\n",
       "      <td>None</td>\n",
       "      <td>None</td>\n",
       "      <td>None</td>\n",
       "      <td>None</td>\n",
       "    </tr>\n",
       "    <tr>\n",
       "      <th>188</th>\n",
       "      <td>TXNM096140</td>\n",
       "      <td>NO</td>\n",
       "      <td>R&amp;R Royalty</td>\n",
       "      <td>1995/10/19</td>\n",
       "      <td>1995/12/01</td>\n",
       "      <td>2005/12/01</td>\n",
       "      <td>None</td>\n",
       "      <td>None</td>\n",
       "      <td>None</td>\n",
       "      <td>Expired 2005</td>\n",
       "      <td>2005</td>\n",
       "      <td>None</td>\n",
       "      <td>None</td>\n",
       "      <td>None</td>\n",
       "      <td>None</td>\n",
       "      <td>None</td>\n",
       "      <td>None</td>\n",
       "      <td>None</td>\n",
       "      <td>-790.5</td>\n",
       "      <td>-790.5</td>\n",
       "      <td>None</td>\n",
       "      <td>10</td>\n",
       "      <td>1970/01/01</td>\n",
       "      <td>-790.5</td>\n",
       "      <td>0</td>\n",
       "      <td>None</td>\n",
       "      <td>None</td>\n",
       "      <td>None</td>\n",
       "      <td>None</td>\n",
       "      <td>None</td>\n",
       "      <td>None</td>\n",
       "      <td>None</td>\n",
       "    </tr>\n",
       "    <tr>\n",
       "      <th>781</th>\n",
       "      <td>TXNM105598</td>\n",
       "      <td>NO</td>\n",
       "      <td>R&amp;R Royalty</td>\n",
       "      <td>None</td>\n",
       "      <td>None</td>\n",
       "      <td>None</td>\n",
       "      <td>None</td>\n",
       "      <td>None</td>\n",
       "      <td>None</td>\n",
       "      <td>COST OF LEASES SOLD TO CHESAPEAKE ENERGY</td>\n",
       "      <td>None</td>\n",
       "      <td>None</td>\n",
       "      <td>None</td>\n",
       "      <td>None</td>\n",
       "      <td>None</td>\n",
       "      <td>None</td>\n",
       "      <td>None</td>\n",
       "      <td>None</td>\n",
       "      <td>None</td>\n",
       "      <td>-11941</td>\n",
       "      <td>None</td>\n",
       "      <td>None</td>\n",
       "      <td>None</td>\n",
       "      <td>None</td>\n",
       "      <td>0</td>\n",
       "      <td>None</td>\n",
       "      <td>None</td>\n",
       "      <td>None</td>\n",
       "      <td>None</td>\n",
       "      <td>None</td>\n",
       "      <td>None</td>\n",
       "      <td>None</td>\n",
       "    </tr>\n",
       "    <tr>\n",
       "      <th>782</th>\n",
       "      <td>TXNM117621</td>\n",
       "      <td>NO</td>\n",
       "      <td>R&amp;R Royalty</td>\n",
       "      <td>None</td>\n",
       "      <td>None</td>\n",
       "      <td>None</td>\n",
       "      <td>None</td>\n",
       "      <td>None</td>\n",
       "      <td>None</td>\n",
       "      <td>COST OF LEASES SOLD TO CHESAPEAKE ENERGY</td>\n",
       "      <td>None</td>\n",
       "      <td>None</td>\n",
       "      <td>None</td>\n",
       "      <td>None</td>\n",
       "      <td>None</td>\n",
       "      <td>None</td>\n",
       "      <td>None</td>\n",
       "      <td>None</td>\n",
       "      <td>None</td>\n",
       "      <td>-10399</td>\n",
       "      <td>None</td>\n",
       "      <td>None</td>\n",
       "      <td>None</td>\n",
       "      <td>None</td>\n",
       "      <td>0</td>\n",
       "      <td>None</td>\n",
       "      <td>None</td>\n",
       "      <td>None</td>\n",
       "      <td>None</td>\n",
       "      <td>None</td>\n",
       "      <td>None</td>\n",
       "      <td>None</td>\n",
       "    </tr>\n",
       "    <tr>\n",
       "      <th>929</th>\n",
       "      <td>TXNM120959</td>\n",
       "      <td>NO</td>\n",
       "      <td>R&amp;R Royalty</td>\n",
       "      <td>2008/07/16</td>\n",
       "      <td>2008/11/01</td>\n",
       "      <td>None</td>\n",
       "      <td>None</td>\n",
       "      <td>None</td>\n",
       "      <td>None</td>\n",
       "      <td>PART CANCELLED;  REFUNDED $42,225. BONUS $42,0...</td>\n",
       "      <td>None</td>\n",
       "      <td>None</td>\n",
       "      <td>None</td>\n",
       "      <td>None</td>\n",
       "      <td>None</td>\n",
       "      <td>None</td>\n",
       "      <td>None</td>\n",
       "      <td>None</td>\n",
       "      <td>None</td>\n",
       "      <td>-42225</td>\n",
       "      <td>None</td>\n",
       "      <td>10</td>\n",
       "      <td>1970/01/01</td>\n",
       "      <td>-42225</td>\n",
       "      <td>0</td>\n",
       "      <td>0.5</td>\n",
       "      <td>None</td>\n",
       "      <td>None</td>\n",
       "      <td>None</td>\n",
       "      <td>None</td>\n",
       "      <td>None</td>\n",
       "      <td>None</td>\n",
       "    </tr>\n",
       "    <tr>\n",
       "      <th>1147</th>\n",
       "      <td>ARES54411</td>\n",
       "      <td>YES</td>\n",
       "      <td>R&amp;R Royalty</td>\n",
       "      <td>None</td>\n",
       "      <td>None</td>\n",
       "      <td>None</td>\n",
       "      <td>None</td>\n",
       "      <td>None</td>\n",
       "      <td>None</td>\n",
       "      <td>REFUNDED BY BLM 8/2010</td>\n",
       "      <td>None</td>\n",
       "      <td>None</td>\n",
       "      <td>None</td>\n",
       "      <td>None</td>\n",
       "      <td>None</td>\n",
       "      <td>None</td>\n",
       "      <td>None</td>\n",
       "      <td>None</td>\n",
       "      <td>None</td>\n",
       "      <td>-1905</td>\n",
       "      <td>None</td>\n",
       "      <td>None</td>\n",
       "      <td>None</td>\n",
       "      <td>None</td>\n",
       "      <td>0</td>\n",
       "      <td>0.5</td>\n",
       "      <td>None</td>\n",
       "      <td>None</td>\n",
       "      <td>None</td>\n",
       "      <td>None</td>\n",
       "      <td>None</td>\n",
       "      <td>None</td>\n",
       "    </tr>\n",
       "    <tr>\n",
       "      <th>1148</th>\n",
       "      <td>OHES56260</td>\n",
       "      <td>YES</td>\n",
       "      <td>R&amp;R Royalty</td>\n",
       "      <td>None</td>\n",
       "      <td>None</td>\n",
       "      <td>None</td>\n",
       "      <td>None</td>\n",
       "      <td>None</td>\n",
       "      <td>None</td>\n",
       "      <td>REFUNDED BY BLM 11/2010</td>\n",
       "      <td>None</td>\n",
       "      <td>None</td>\n",
       "      <td>None</td>\n",
       "      <td>None</td>\n",
       "      <td>None</td>\n",
       "      <td>None</td>\n",
       "      <td>None</td>\n",
       "      <td>None</td>\n",
       "      <td>None</td>\n",
       "      <td>-280</td>\n",
       "      <td>None</td>\n",
       "      <td>None</td>\n",
       "      <td>None</td>\n",
       "      <td>None</td>\n",
       "      <td>0</td>\n",
       "      <td>None</td>\n",
       "      <td>0.1818</td>\n",
       "      <td>None</td>\n",
       "      <td>None</td>\n",
       "      <td>None</td>\n",
       "      <td>None</td>\n",
       "      <td>None</td>\n",
       "    </tr>\n",
       "  </tbody>\n",
       "</table>\n",
       "</div>"
      ],
      "text/plain": [
       "       LEASE NO. PLOTTED      GRANTEE   SALE DATE EFFECTIVE DATE OF LEASE  \\\n",
       "155   TXNM091527      NO  R&R Royalty  1993/07/21                    None   \n",
       "188   TXNM096140      NO  R&R Royalty  1995/10/19              1995/12/01   \n",
       "781   TXNM105598      NO  R&R Royalty        None                    None   \n",
       "782   TXNM117621      NO  R&R Royalty        None                    None   \n",
       "929   TXNM120959      NO  R&R Royalty  2008/07/16              2008/11/01   \n",
       "1147   ARES54411     YES  R&R Royalty        None                    None   \n",
       "1148   OHES56260     YES  R&R Royalty        None                    None   \n",
       "\n",
       "     EXPIRATION DATE ACRES COUNTY    ST  \\\n",
       "155             None     0   None  None   \n",
       "188       2005/12/01  None   None  None   \n",
       "781             None  None   None  None   \n",
       "782             None  None   None  None   \n",
       "929             None  None   None  None   \n",
       "1147            None  None   None  None   \n",
       "1148            None  None   None  None   \n",
       "\n",
       "                                        STATUS/COMMENTS EXPIRATION YEAR  \\\n",
       "155                                        Bid Refunded            None   \n",
       "188                                        Expired 2005            2005   \n",
       "781           COST OF LEASES SOLD TO CHESAPEAKE ENERGY             None   \n",
       "782           COST OF LEASES SOLD TO CHESAPEAKE ENERGY             None   \n",
       "929   PART CANCELLED;  REFUNDED $42,225. BONUS $42,0...            None   \n",
       "1147                             REFUNDED BY BLM 8/2010            None   \n",
       "1148                            REFUNDED BY BLM 11/2010            None   \n",
       "\n",
       "     TOWNSHIP RANGE DESCRIPTION I DESCRIPTION II DESCRIPTION III PARCEL NO  \\\n",
       "155      None  None          None           None            None      None   \n",
       "188      None  None          None           None            None      None   \n",
       "781      None  None          None           None            None      None   \n",
       "782      None  None          None           None            None      None   \n",
       "929      None  None          None           None            None      None   \n",
       "1147     None  None          None           None            None      None   \n",
       "1148     None  None          None           None            None      None   \n",
       "\n",
       "     DUE AT SALE DUE AFTER SALE (REFUNDED) TOTAL  PAID AMOUNT OF RENTAL  \\\n",
       "155         None                     -4200       -4200             None   \n",
       "188         None                    -790.5      -790.5             None   \n",
       "781         None                      None      -11941             None   \n",
       "782         None                      None      -10399             None   \n",
       "929         None                      None      -42225             None   \n",
       "1147        None                      None       -1905             None   \n",
       "1148        None                      None        -280             None   \n",
       "\n",
       "     YEARS RENEWED  RENTALS PAID UP TO DATE  \\\n",
       "155           None                     None   \n",
       "188             10               1970/01/01   \n",
       "781           None                     None   \n",
       "782           None                     None   \n",
       "929             10               1970/01/01   \n",
       "1147          None                     None   \n",
       "1148          None                     None   \n",
       "\n",
       "     TOTAL INVESTMENT (BONUS + RENTALS) Estimated Bonus $/Acre  UA %     RA%  \\\n",
       "155                                None                      0  None    None   \n",
       "188                              -790.5                      0  None    None   \n",
       "781                                None                      0  None    None   \n",
       "782                                None                      0  None    None   \n",
       "929                              -42225                      0   0.5    None   \n",
       "1147                               None                      0   0.5    None   \n",
       "1148                               None                      0  None  0.1818   \n",
       "\n",
       "       KA% RECORDED LEASE   DATE FILED (OVERRIDE) % OF OVERRIDES  \\\n",
       "155   None             None                  None           None   \n",
       "188   None             None                  None           None   \n",
       "781   None             None                  None           None   \n",
       "782   None             None                  None           None   \n",
       "929   None             None                  None           None   \n",
       "1147  None             None                  None           None   \n",
       "1148  None             None                  None           None   \n",
       "\n",
       "     Assignment of ORRI  \n",
       "155                None  \n",
       "188                None  \n",
       "781                None  \n",
       "782                None  \n",
       "929                None  \n",
       "1147               None  \n",
       "1148               None  "
      ]
     },
     "execution_count": 238,
     "metadata": {},
     "output_type": "execute_result"
    }
   ],
   "source": [
    "cleanData[cleanData['LEASE NO.'].duplicated()]"
   ]
  },
  {
   "cell_type": "markdown",
   "metadata": {},
   "source": [
    "# Send Request to Fix Duplicates in Source Data"
   ]
  },
  {
   "cell_type": "code",
   "execution_count": null,
   "metadata": {},
   "outputs": [],
   "source": []
  },
  {
   "cell_type": "markdown",
   "metadata": {},
   "source": [
    "# Quality Control Queries for Details Table"
   ]
  },
  {
   "cell_type": "code",
   "execution_count": 266,
   "metadata": {},
   "outputs": [
    {
     "data": {
      "text/plain": [
       "1"
      ]
     },
     "execution_count": 266,
     "metadata": {},
     "output_type": "execute_result"
    },
    {
     "data": {
      "text/plain": [
       "((datetime.date(1993, 9, 1),),)"
      ]
     },
     "execution_count": 266,
     "metadata": {},
     "output_type": "execute_result"
    }
   ],
   "source": [
    "cursor.execute('''select min(effective_date_of_lease) from details\n",
    "where effective_date_of_lease is not null;''')\n",
    "cursor.fetchall()"
   ]
  },
  {
   "cell_type": "markdown",
   "metadata": {},
   "source": [
    "# Test Loading 1st Child Table - Sale Info"
   ]
  },
  {
   "cell_type": "code",
   "execution_count": 267,
   "metadata": {},
   "outputs": [
    {
     "data": {
      "text/html": [
       "<div>\n",
       "<style scoped>\n",
       "    .dataframe tbody tr th:only-of-type {\n",
       "        vertical-align: middle;\n",
       "    }\n",
       "\n",
       "    .dataframe tbody tr th {\n",
       "        vertical-align: top;\n",
       "    }\n",
       "\n",
       "    .dataframe thead th {\n",
       "        text-align: right;\n",
       "    }\n",
       "</style>\n",
       "<table border=\"1\" class=\"dataframe\">\n",
       "  <thead>\n",
       "    <tr style=\"text-align: right;\">\n",
       "      <th></th>\n",
       "      <th>LEASE NO.</th>\n",
       "      <th>PARCEL NO</th>\n",
       "      <th>DUE AT SALE</th>\n",
       "      <th>DUE AFTER SALE (REFUNDED)</th>\n",
       "      <th>TOTAL  PAID</th>\n",
       "      <th>AMOUNT OF RENTAL</th>\n",
       "    </tr>\n",
       "  </thead>\n",
       "  <tbody>\n",
       "    <tr>\n",
       "      <th>0</th>\n",
       "      <td>TXNM096140</td>\n",
       "      <td>None</td>\n",
       "      <td>None</td>\n",
       "      <td>790.5</td>\n",
       "      <td>790.5</td>\n",
       "      <td>None</td>\n",
       "    </tr>\n",
       "    <tr>\n",
       "      <th>2</th>\n",
       "      <td>TXNM103231</td>\n",
       "      <td>None</td>\n",
       "      <td>None</td>\n",
       "      <td>1253.5</td>\n",
       "      <td>1253.5</td>\n",
       "      <td>None</td>\n",
       "    </tr>\n",
       "    <tr>\n",
       "      <th>4</th>\n",
       "      <td>TXNM091527</td>\n",
       "      <td>None</td>\n",
       "      <td>None</td>\n",
       "      <td>4200</td>\n",
       "      <td>4200</td>\n",
       "      <td>None</td>\n",
       "    </tr>\n",
       "    <tr>\n",
       "      <th>6</th>\n",
       "      <td>TXNM102849</td>\n",
       "      <td>9904002</td>\n",
       "      <td>42612.5</td>\n",
       "      <td>0</td>\n",
       "      <td>42612.5</td>\n",
       "      <td>None</td>\n",
       "    </tr>\n",
       "    <tr>\n",
       "      <th>8</th>\n",
       "      <td>TXNM103276</td>\n",
       "      <td>9907041</td>\n",
       "      <td>1744.5</td>\n",
       "      <td>0</td>\n",
       "      <td>1744.5</td>\n",
       "      <td>None</td>\n",
       "    </tr>\n",
       "  </tbody>\n",
       "</table>\n",
       "</div>"
      ],
      "text/plain": [
       "    LEASE NO. PARCEL NO DUE AT SALE DUE AFTER SALE (REFUNDED) TOTAL  PAID  \\\n",
       "0  TXNM096140      None        None                     790.5       790.5   \n",
       "2  TXNM103231      None        None                    1253.5      1253.5   \n",
       "4  TXNM091527      None        None                      4200        4200   \n",
       "6  TXNM102849   9904002     42612.5                         0     42612.5   \n",
       "8  TXNM103276   9907041      1744.5                         0      1744.5   \n",
       "\n",
       "  AMOUNT OF RENTAL  \n",
       "0             None  \n",
       "2             None  \n",
       "4             None  \n",
       "6             None  \n",
       "8             None  "
      ]
     },
     "execution_count": 267,
     "metadata": {},
     "output_type": "execute_result"
    }
   ],
   "source": [
    "cleanData[tableCols['sale_info']].head()"
   ]
  },
  {
   "cell_type": "code",
   "execution_count": 265,
   "metadata": {},
   "outputs": [
    {
     "data": {
      "text/plain": [
       "'INSERT INTO sale_info(LEASE_NO,PARCEL_NO,DUE_AT_SALE,DUE_AFTER_SALE,TOTAL__PAID,AMOUNT_OF_RENTAL) VALUES (%s,%s,%s,%s,%s,%s)'"
      ]
     },
     "execution_count": 265,
     "metadata": {},
     "output_type": "execute_result"
    }
   ],
   "source": [
    "generateInsertString('sale_info')"
   ]
  },
  {
   "cell_type": "code",
   "execution_count": 268,
   "metadata": {},
   "outputs": [
    {
     "data": {
      "text/plain": [
       "0"
      ]
     },
     "execution_count": 268,
     "metadata": {},
     "output_type": "execute_result"
    },
    {
     "data": {
      "text/plain": [
       "1"
      ]
     },
     "execution_count": 268,
     "metadata": {},
     "output_type": "execute_result"
    },
    {
     "name": "stdout",
     "output_type": "stream",
     "text": [
      "committing to db\n"
     ]
    },
    {
     "data": {
      "text/plain": [
       "1"
      ]
     },
     "execution_count": 268,
     "metadata": {},
     "output_type": "execute_result"
    },
    {
     "data": {
      "text/plain": [
       "1"
      ]
     },
     "execution_count": 268,
     "metadata": {},
     "output_type": "execute_result"
    },
    {
     "data": {
      "text/plain": [
       "1"
      ]
     },
     "execution_count": 268,
     "metadata": {},
     "output_type": "execute_result"
    },
    {
     "data": {
      "text/plain": [
       "1"
      ]
     },
     "execution_count": 268,
     "metadata": {},
     "output_type": "execute_result"
    },
    {
     "data": {
      "text/plain": [
       "1"
      ]
     },
     "execution_count": 268,
     "metadata": {},
     "output_type": "execute_result"
    },
    {
     "data": {
      "text/plain": [
       "1"
      ]
     },
     "execution_count": 268,
     "metadata": {},
     "output_type": "execute_result"
    },
    {
     "data": {
      "text/plain": [
       "1"
      ]
     },
     "execution_count": 268,
     "metadata": {},
     "output_type": "execute_result"
    },
    {
     "data": {
      "text/plain": [
       "1"
      ]
     },
     "execution_count": 268,
     "metadata": {},
     "output_type": "execute_result"
    },
    {
     "data": {
      "text/plain": [
       "1"
      ]
     },
     "execution_count": 268,
     "metadata": {},
     "output_type": "execute_result"
    },
    {
     "data": {
      "text/plain": [
       "1"
      ]
     },
     "execution_count": 268,
     "metadata": {},
     "output_type": "execute_result"
    },
    {
     "data": {
      "text/plain": [
       "1"
      ]
     },
     "execution_count": 268,
     "metadata": {},
     "output_type": "execute_result"
    },
    {
     "data": {
      "text/plain": [
       "1"
      ]
     },
     "execution_count": 268,
     "metadata": {},
     "output_type": "execute_result"
    },
    {
     "data": {
      "text/plain": [
       "1"
      ]
     },
     "execution_count": 268,
     "metadata": {},
     "output_type": "execute_result"
    },
    {
     "data": {
      "text/plain": [
       "1"
      ]
     },
     "execution_count": 268,
     "metadata": {},
     "output_type": "execute_result"
    },
    {
     "data": {
      "text/plain": [
       "1"
      ]
     },
     "execution_count": 268,
     "metadata": {},
     "output_type": "execute_result"
    },
    {
     "data": {
      "text/plain": [
       "1"
      ]
     },
     "execution_count": 268,
     "metadata": {},
     "output_type": "execute_result"
    },
    {
     "data": {
      "text/plain": [
       "1"
      ]
     },
     "execution_count": 268,
     "metadata": {},
     "output_type": "execute_result"
    },
    {
     "data": {
      "text/plain": [
       "1"
      ]
     },
     "execution_count": 268,
     "metadata": {},
     "output_type": "execute_result"
    },
    {
     "data": {
      "text/plain": [
       "1"
      ]
     },
     "execution_count": 268,
     "metadata": {},
     "output_type": "execute_result"
    },
    {
     "data": {
      "text/plain": [
       "1"
      ]
     },
     "execution_count": 268,
     "metadata": {},
     "output_type": "execute_result"
    },
    {
     "data": {
      "text/plain": [
       "1"
      ]
     },
     "execution_count": 268,
     "metadata": {},
     "output_type": "execute_result"
    },
    {
     "data": {
      "text/plain": [
       "1"
      ]
     },
     "execution_count": 268,
     "metadata": {},
     "output_type": "execute_result"
    },
    {
     "data": {
      "text/plain": [
       "1"
      ]
     },
     "execution_count": 268,
     "metadata": {},
     "output_type": "execute_result"
    },
    {
     "data": {
      "text/plain": [
       "1"
      ]
     },
     "execution_count": 268,
     "metadata": {},
     "output_type": "execute_result"
    },
    {
     "data": {
      "text/plain": [
       "1"
      ]
     },
     "execution_count": 268,
     "metadata": {},
     "output_type": "execute_result"
    },
    {
     "data": {
      "text/plain": [
       "1"
      ]
     },
     "execution_count": 268,
     "metadata": {},
     "output_type": "execute_result"
    },
    {
     "data": {
      "text/plain": [
       "1"
      ]
     },
     "execution_count": 268,
     "metadata": {},
     "output_type": "execute_result"
    },
    {
     "data": {
      "text/plain": [
       "1"
      ]
     },
     "execution_count": 268,
     "metadata": {},
     "output_type": "execute_result"
    },
    {
     "data": {
      "text/plain": [
       "1"
      ]
     },
     "execution_count": 268,
     "metadata": {},
     "output_type": "execute_result"
    },
    {
     "data": {
      "text/plain": [
       "1"
      ]
     },
     "execution_count": 268,
     "metadata": {},
     "output_type": "execute_result"
    },
    {
     "data": {
      "text/plain": [
       "1"
      ]
     },
     "execution_count": 268,
     "metadata": {},
     "output_type": "execute_result"
    },
    {
     "data": {
      "text/plain": [
       "1"
      ]
     },
     "execution_count": 268,
     "metadata": {},
     "output_type": "execute_result"
    },
    {
     "data": {
      "text/plain": [
       "1"
      ]
     },
     "execution_count": 268,
     "metadata": {},
     "output_type": "execute_result"
    },
    {
     "data": {
      "text/plain": [
       "1"
      ]
     },
     "execution_count": 268,
     "metadata": {},
     "output_type": "execute_result"
    },
    {
     "data": {
      "text/plain": [
       "1"
      ]
     },
     "execution_count": 268,
     "metadata": {},
     "output_type": "execute_result"
    },
    {
     "data": {
      "text/plain": [
       "1"
      ]
     },
     "execution_count": 268,
     "metadata": {},
     "output_type": "execute_result"
    },
    {
     "data": {
      "text/plain": [
       "1"
      ]
     },
     "execution_count": 268,
     "metadata": {},
     "output_type": "execute_result"
    },
    {
     "data": {
      "text/plain": [
       "1"
      ]
     },
     "execution_count": 268,
     "metadata": {},
     "output_type": "execute_result"
    },
    {
     "data": {
      "text/plain": [
       "1"
      ]
     },
     "execution_count": 268,
     "metadata": {},
     "output_type": "execute_result"
    },
    {
     "data": {
      "text/plain": [
       "1"
      ]
     },
     "execution_count": 268,
     "metadata": {},
     "output_type": "execute_result"
    },
    {
     "data": {
      "text/plain": [
       "1"
      ]
     },
     "execution_count": 268,
     "metadata": {},
     "output_type": "execute_result"
    },
    {
     "data": {
      "text/plain": [
       "1"
      ]
     },
     "execution_count": 268,
     "metadata": {},
     "output_type": "execute_result"
    },
    {
     "data": {
      "text/plain": [
       "1"
      ]
     },
     "execution_count": 268,
     "metadata": {},
     "output_type": "execute_result"
    },
    {
     "data": {
      "text/plain": [
       "1"
      ]
     },
     "execution_count": 268,
     "metadata": {},
     "output_type": "execute_result"
    },
    {
     "data": {
      "text/plain": [
       "1"
      ]
     },
     "execution_count": 268,
     "metadata": {},
     "output_type": "execute_result"
    },
    {
     "data": {
      "text/plain": [
       "1"
      ]
     },
     "execution_count": 268,
     "metadata": {},
     "output_type": "execute_result"
    },
    {
     "data": {
      "text/plain": [
       "1"
      ]
     },
     "execution_count": 268,
     "metadata": {},
     "output_type": "execute_result"
    },
    {
     "data": {
      "text/plain": [
       "1"
      ]
     },
     "execution_count": 268,
     "metadata": {},
     "output_type": "execute_result"
    },
    {
     "data": {
      "text/plain": [
       "1"
      ]
     },
     "execution_count": 268,
     "metadata": {},
     "output_type": "execute_result"
    },
    {
     "data": {
      "text/plain": [
       "1"
      ]
     },
     "execution_count": 268,
     "metadata": {},
     "output_type": "execute_result"
    },
    {
     "name": "stdout",
     "output_type": "stream",
     "text": [
      "committing to db\n"
     ]
    },
    {
     "data": {
      "text/plain": [
       "1"
      ]
     },
     "execution_count": 268,
     "metadata": {},
     "output_type": "execute_result"
    },
    {
     "data": {
      "text/plain": [
       "1"
      ]
     },
     "execution_count": 268,
     "metadata": {},
     "output_type": "execute_result"
    },
    {
     "data": {
      "text/plain": [
       "1"
      ]
     },
     "execution_count": 268,
     "metadata": {},
     "output_type": "execute_result"
    },
    {
     "data": {
      "text/plain": [
       "1"
      ]
     },
     "execution_count": 268,
     "metadata": {},
     "output_type": "execute_result"
    },
    {
     "data": {
      "text/plain": [
       "1"
      ]
     },
     "execution_count": 268,
     "metadata": {},
     "output_type": "execute_result"
    },
    {
     "data": {
      "text/plain": [
       "1"
      ]
     },
     "execution_count": 268,
     "metadata": {},
     "output_type": "execute_result"
    },
    {
     "data": {
      "text/plain": [
       "1"
      ]
     },
     "execution_count": 268,
     "metadata": {},
     "output_type": "execute_result"
    },
    {
     "data": {
      "text/plain": [
       "1"
      ]
     },
     "execution_count": 268,
     "metadata": {},
     "output_type": "execute_result"
    },
    {
     "data": {
      "text/plain": [
       "1"
      ]
     },
     "execution_count": 268,
     "metadata": {},
     "output_type": "execute_result"
    },
    {
     "data": {
      "text/plain": [
       "1"
      ]
     },
     "execution_count": 268,
     "metadata": {},
     "output_type": "execute_result"
    },
    {
     "data": {
      "text/plain": [
       "1"
      ]
     },
     "execution_count": 268,
     "metadata": {},
     "output_type": "execute_result"
    },
    {
     "data": {
      "text/plain": [
       "1"
      ]
     },
     "execution_count": 268,
     "metadata": {},
     "output_type": "execute_result"
    },
    {
     "data": {
      "text/plain": [
       "1"
      ]
     },
     "execution_count": 268,
     "metadata": {},
     "output_type": "execute_result"
    },
    {
     "data": {
      "text/plain": [
       "1"
      ]
     },
     "execution_count": 268,
     "metadata": {},
     "output_type": "execute_result"
    },
    {
     "data": {
      "text/plain": [
       "1"
      ]
     },
     "execution_count": 268,
     "metadata": {},
     "output_type": "execute_result"
    },
    {
     "data": {
      "text/plain": [
       "1"
      ]
     },
     "execution_count": 268,
     "metadata": {},
     "output_type": "execute_result"
    },
    {
     "data": {
      "text/plain": [
       "1"
      ]
     },
     "execution_count": 268,
     "metadata": {},
     "output_type": "execute_result"
    },
    {
     "data": {
      "text/plain": [
       "1"
      ]
     },
     "execution_count": 268,
     "metadata": {},
     "output_type": "execute_result"
    },
    {
     "data": {
      "text/plain": [
       "1"
      ]
     },
     "execution_count": 268,
     "metadata": {},
     "output_type": "execute_result"
    },
    {
     "data": {
      "text/plain": [
       "1"
      ]
     },
     "execution_count": 268,
     "metadata": {},
     "output_type": "execute_result"
    },
    {
     "data": {
      "text/plain": [
       "1"
      ]
     },
     "execution_count": 268,
     "metadata": {},
     "output_type": "execute_result"
    },
    {
     "data": {
      "text/plain": [
       "1"
      ]
     },
     "execution_count": 268,
     "metadata": {},
     "output_type": "execute_result"
    },
    {
     "data": {
      "text/plain": [
       "1"
      ]
     },
     "execution_count": 268,
     "metadata": {},
     "output_type": "execute_result"
    },
    {
     "data": {
      "text/plain": [
       "1"
      ]
     },
     "execution_count": 268,
     "metadata": {},
     "output_type": "execute_result"
    },
    {
     "data": {
      "text/plain": [
       "1"
      ]
     },
     "execution_count": 268,
     "metadata": {},
     "output_type": "execute_result"
    },
    {
     "data": {
      "text/plain": [
       "1"
      ]
     },
     "execution_count": 268,
     "metadata": {},
     "output_type": "execute_result"
    },
    {
     "data": {
      "text/plain": [
       "1"
      ]
     },
     "execution_count": 268,
     "metadata": {},
     "output_type": "execute_result"
    },
    {
     "data": {
      "text/plain": [
       "1"
      ]
     },
     "execution_count": 268,
     "metadata": {},
     "output_type": "execute_result"
    },
    {
     "data": {
      "text/plain": [
       "1"
      ]
     },
     "execution_count": 268,
     "metadata": {},
     "output_type": "execute_result"
    },
    {
     "data": {
      "text/plain": [
       "1"
      ]
     },
     "execution_count": 268,
     "metadata": {},
     "output_type": "execute_result"
    },
    {
     "data": {
      "text/plain": [
       "1"
      ]
     },
     "execution_count": 268,
     "metadata": {},
     "output_type": "execute_result"
    },
    {
     "data": {
      "text/plain": [
       "1"
      ]
     },
     "execution_count": 268,
     "metadata": {},
     "output_type": "execute_result"
    },
    {
     "data": {
      "text/plain": [
       "1"
      ]
     },
     "execution_count": 268,
     "metadata": {},
     "output_type": "execute_result"
    },
    {
     "data": {
      "text/plain": [
       "1"
      ]
     },
     "execution_count": 268,
     "metadata": {},
     "output_type": "execute_result"
    },
    {
     "data": {
      "text/plain": [
       "1"
      ]
     },
     "execution_count": 268,
     "metadata": {},
     "output_type": "execute_result"
    },
    {
     "data": {
      "text/plain": [
       "1"
      ]
     },
     "execution_count": 268,
     "metadata": {},
     "output_type": "execute_result"
    },
    {
     "data": {
      "text/plain": [
       "1"
      ]
     },
     "execution_count": 268,
     "metadata": {},
     "output_type": "execute_result"
    },
    {
     "data": {
      "text/plain": [
       "1"
      ]
     },
     "execution_count": 268,
     "metadata": {},
     "output_type": "execute_result"
    },
    {
     "data": {
      "text/plain": [
       "1"
      ]
     },
     "execution_count": 268,
     "metadata": {},
     "output_type": "execute_result"
    },
    {
     "data": {
      "text/plain": [
       "1"
      ]
     },
     "execution_count": 268,
     "metadata": {},
     "output_type": "execute_result"
    },
    {
     "data": {
      "text/plain": [
       "1"
      ]
     },
     "execution_count": 268,
     "metadata": {},
     "output_type": "execute_result"
    },
    {
     "data": {
      "text/plain": [
       "1"
      ]
     },
     "execution_count": 268,
     "metadata": {},
     "output_type": "execute_result"
    },
    {
     "data": {
      "text/plain": [
       "1"
      ]
     },
     "execution_count": 268,
     "metadata": {},
     "output_type": "execute_result"
    },
    {
     "data": {
      "text/plain": [
       "1"
      ]
     },
     "execution_count": 268,
     "metadata": {},
     "output_type": "execute_result"
    },
    {
     "data": {
      "text/plain": [
       "1"
      ]
     },
     "execution_count": 268,
     "metadata": {},
     "output_type": "execute_result"
    },
    {
     "data": {
      "text/plain": [
       "1"
      ]
     },
     "execution_count": 268,
     "metadata": {},
     "output_type": "execute_result"
    },
    {
     "data": {
      "text/plain": [
       "1"
      ]
     },
     "execution_count": 268,
     "metadata": {},
     "output_type": "execute_result"
    },
    {
     "data": {
      "text/plain": [
       "1"
      ]
     },
     "execution_count": 268,
     "metadata": {},
     "output_type": "execute_result"
    },
    {
     "data": {
      "text/plain": [
       "1"
      ]
     },
     "execution_count": 268,
     "metadata": {},
     "output_type": "execute_result"
    },
    {
     "data": {
      "text/plain": [
       "1"
      ]
     },
     "execution_count": 268,
     "metadata": {},
     "output_type": "execute_result"
    },
    {
     "name": "stdout",
     "output_type": "stream",
     "text": [
      "committing to db\n"
     ]
    },
    {
     "data": {
      "text/plain": [
       "1"
      ]
     },
     "execution_count": 268,
     "metadata": {},
     "output_type": "execute_result"
    },
    {
     "data": {
      "text/plain": [
       "1"
      ]
     },
     "execution_count": 268,
     "metadata": {},
     "output_type": "execute_result"
    },
    {
     "data": {
      "text/plain": [
       "1"
      ]
     },
     "execution_count": 268,
     "metadata": {},
     "output_type": "execute_result"
    },
    {
     "data": {
      "text/plain": [
       "1"
      ]
     },
     "execution_count": 268,
     "metadata": {},
     "output_type": "execute_result"
    },
    {
     "data": {
      "text/plain": [
       "1"
      ]
     },
     "execution_count": 268,
     "metadata": {},
     "output_type": "execute_result"
    },
    {
     "data": {
      "text/plain": [
       "1"
      ]
     },
     "execution_count": 268,
     "metadata": {},
     "output_type": "execute_result"
    },
    {
     "data": {
      "text/plain": [
       "1"
      ]
     },
     "execution_count": 268,
     "metadata": {},
     "output_type": "execute_result"
    },
    {
     "data": {
      "text/plain": [
       "1"
      ]
     },
     "execution_count": 268,
     "metadata": {},
     "output_type": "execute_result"
    },
    {
     "data": {
      "text/plain": [
       "1"
      ]
     },
     "execution_count": 268,
     "metadata": {},
     "output_type": "execute_result"
    },
    {
     "data": {
      "text/plain": [
       "1"
      ]
     },
     "execution_count": 268,
     "metadata": {},
     "output_type": "execute_result"
    },
    {
     "data": {
      "text/plain": [
       "1"
      ]
     },
     "execution_count": 268,
     "metadata": {},
     "output_type": "execute_result"
    },
    {
     "data": {
      "text/plain": [
       "1"
      ]
     },
     "execution_count": 268,
     "metadata": {},
     "output_type": "execute_result"
    },
    {
     "data": {
      "text/plain": [
       "1"
      ]
     },
     "execution_count": 268,
     "metadata": {},
     "output_type": "execute_result"
    },
    {
     "data": {
      "text/plain": [
       "1"
      ]
     },
     "execution_count": 268,
     "metadata": {},
     "output_type": "execute_result"
    },
    {
     "data": {
      "text/plain": [
       "1"
      ]
     },
     "execution_count": 268,
     "metadata": {},
     "output_type": "execute_result"
    },
    {
     "data": {
      "text/plain": [
       "1"
      ]
     },
     "execution_count": 268,
     "metadata": {},
     "output_type": "execute_result"
    },
    {
     "data": {
      "text/plain": [
       "1"
      ]
     },
     "execution_count": 268,
     "metadata": {},
     "output_type": "execute_result"
    },
    {
     "data": {
      "text/plain": [
       "1"
      ]
     },
     "execution_count": 268,
     "metadata": {},
     "output_type": "execute_result"
    },
    {
     "data": {
      "text/plain": [
       "1"
      ]
     },
     "execution_count": 268,
     "metadata": {},
     "output_type": "execute_result"
    },
    {
     "data": {
      "text/plain": [
       "1"
      ]
     },
     "execution_count": 268,
     "metadata": {},
     "output_type": "execute_result"
    },
    {
     "data": {
      "text/plain": [
       "1"
      ]
     },
     "execution_count": 268,
     "metadata": {},
     "output_type": "execute_result"
    },
    {
     "data": {
      "text/plain": [
       "1"
      ]
     },
     "execution_count": 268,
     "metadata": {},
     "output_type": "execute_result"
    },
    {
     "data": {
      "text/plain": [
       "1"
      ]
     },
     "execution_count": 268,
     "metadata": {},
     "output_type": "execute_result"
    },
    {
     "data": {
      "text/plain": [
       "1"
      ]
     },
     "execution_count": 268,
     "metadata": {},
     "output_type": "execute_result"
    },
    {
     "data": {
      "text/plain": [
       "1"
      ]
     },
     "execution_count": 268,
     "metadata": {},
     "output_type": "execute_result"
    },
    {
     "data": {
      "text/plain": [
       "1"
      ]
     },
     "execution_count": 268,
     "metadata": {},
     "output_type": "execute_result"
    },
    {
     "data": {
      "text/plain": [
       "1"
      ]
     },
     "execution_count": 268,
     "metadata": {},
     "output_type": "execute_result"
    },
    {
     "data": {
      "text/plain": [
       "1"
      ]
     },
     "execution_count": 268,
     "metadata": {},
     "output_type": "execute_result"
    },
    {
     "data": {
      "text/plain": [
       "1"
      ]
     },
     "execution_count": 268,
     "metadata": {},
     "output_type": "execute_result"
    },
    {
     "data": {
      "text/plain": [
       "1"
      ]
     },
     "execution_count": 268,
     "metadata": {},
     "output_type": "execute_result"
    },
    {
     "data": {
      "text/plain": [
       "1"
      ]
     },
     "execution_count": 268,
     "metadata": {},
     "output_type": "execute_result"
    },
    {
     "data": {
      "text/plain": [
       "1"
      ]
     },
     "execution_count": 268,
     "metadata": {},
     "output_type": "execute_result"
    },
    {
     "data": {
      "text/plain": [
       "1"
      ]
     },
     "execution_count": 268,
     "metadata": {},
     "output_type": "execute_result"
    },
    {
     "data": {
      "text/plain": [
       "1"
      ]
     },
     "execution_count": 268,
     "metadata": {},
     "output_type": "execute_result"
    },
    {
     "data": {
      "text/plain": [
       "1"
      ]
     },
     "execution_count": 268,
     "metadata": {},
     "output_type": "execute_result"
    },
    {
     "data": {
      "text/plain": [
       "1"
      ]
     },
     "execution_count": 268,
     "metadata": {},
     "output_type": "execute_result"
    },
    {
     "data": {
      "text/plain": [
       "1"
      ]
     },
     "execution_count": 268,
     "metadata": {},
     "output_type": "execute_result"
    },
    {
     "data": {
      "text/plain": [
       "1"
      ]
     },
     "execution_count": 268,
     "metadata": {},
     "output_type": "execute_result"
    },
    {
     "data": {
      "text/plain": [
       "1"
      ]
     },
     "execution_count": 268,
     "metadata": {},
     "output_type": "execute_result"
    },
    {
     "data": {
      "text/plain": [
       "1"
      ]
     },
     "execution_count": 268,
     "metadata": {},
     "output_type": "execute_result"
    },
    {
     "data": {
      "text/plain": [
       "1"
      ]
     },
     "execution_count": 268,
     "metadata": {},
     "output_type": "execute_result"
    },
    {
     "data": {
      "text/plain": [
       "1"
      ]
     },
     "execution_count": 268,
     "metadata": {},
     "output_type": "execute_result"
    },
    {
     "data": {
      "text/plain": [
       "1"
      ]
     },
     "execution_count": 268,
     "metadata": {},
     "output_type": "execute_result"
    },
    {
     "data": {
      "text/plain": [
       "1"
      ]
     },
     "execution_count": 268,
     "metadata": {},
     "output_type": "execute_result"
    },
    {
     "data": {
      "text/plain": [
       "1"
      ]
     },
     "execution_count": 268,
     "metadata": {},
     "output_type": "execute_result"
    },
    {
     "data": {
      "text/plain": [
       "1"
      ]
     },
     "execution_count": 268,
     "metadata": {},
     "output_type": "execute_result"
    },
    {
     "data": {
      "text/plain": [
       "1"
      ]
     },
     "execution_count": 268,
     "metadata": {},
     "output_type": "execute_result"
    },
    {
     "data": {
      "text/plain": [
       "1"
      ]
     },
     "execution_count": 268,
     "metadata": {},
     "output_type": "execute_result"
    },
    {
     "data": {
      "text/plain": [
       "1"
      ]
     },
     "execution_count": 268,
     "metadata": {},
     "output_type": "execute_result"
    },
    {
     "data": {
      "text/plain": [
       "1"
      ]
     },
     "execution_count": 268,
     "metadata": {},
     "output_type": "execute_result"
    },
    {
     "name": "stdout",
     "output_type": "stream",
     "text": [
      "committing to db\n"
     ]
    },
    {
     "data": {
      "text/plain": [
       "1"
      ]
     },
     "execution_count": 268,
     "metadata": {},
     "output_type": "execute_result"
    },
    {
     "data": {
      "text/plain": [
       "1"
      ]
     },
     "execution_count": 268,
     "metadata": {},
     "output_type": "execute_result"
    },
    {
     "data": {
      "text/plain": [
       "1"
      ]
     },
     "execution_count": 268,
     "metadata": {},
     "output_type": "execute_result"
    },
    {
     "data": {
      "text/plain": [
       "1"
      ]
     },
     "execution_count": 268,
     "metadata": {},
     "output_type": "execute_result"
    },
    {
     "data": {
      "text/plain": [
       "1"
      ]
     },
     "execution_count": 268,
     "metadata": {},
     "output_type": "execute_result"
    },
    {
     "data": {
      "text/plain": [
       "1"
      ]
     },
     "execution_count": 268,
     "metadata": {},
     "output_type": "execute_result"
    },
    {
     "data": {
      "text/plain": [
       "1"
      ]
     },
     "execution_count": 268,
     "metadata": {},
     "output_type": "execute_result"
    },
    {
     "data": {
      "text/plain": [
       "1"
      ]
     },
     "execution_count": 268,
     "metadata": {},
     "output_type": "execute_result"
    },
    {
     "data": {
      "text/plain": [
       "1"
      ]
     },
     "execution_count": 268,
     "metadata": {},
     "output_type": "execute_result"
    },
    {
     "data": {
      "text/plain": [
       "1"
      ]
     },
     "execution_count": 268,
     "metadata": {},
     "output_type": "execute_result"
    },
    {
     "data": {
      "text/plain": [
       "1"
      ]
     },
     "execution_count": 268,
     "metadata": {},
     "output_type": "execute_result"
    },
    {
     "data": {
      "text/plain": [
       "1"
      ]
     },
     "execution_count": 268,
     "metadata": {},
     "output_type": "execute_result"
    },
    {
     "data": {
      "text/plain": [
       "1"
      ]
     },
     "execution_count": 268,
     "metadata": {},
     "output_type": "execute_result"
    },
    {
     "data": {
      "text/plain": [
       "1"
      ]
     },
     "execution_count": 268,
     "metadata": {},
     "output_type": "execute_result"
    },
    {
     "data": {
      "text/plain": [
       "1"
      ]
     },
     "execution_count": 268,
     "metadata": {},
     "output_type": "execute_result"
    },
    {
     "data": {
      "text/plain": [
       "1"
      ]
     },
     "execution_count": 268,
     "metadata": {},
     "output_type": "execute_result"
    },
    {
     "data": {
      "text/plain": [
       "1"
      ]
     },
     "execution_count": 268,
     "metadata": {},
     "output_type": "execute_result"
    },
    {
     "data": {
      "text/plain": [
       "1"
      ]
     },
     "execution_count": 268,
     "metadata": {},
     "output_type": "execute_result"
    },
    {
     "data": {
      "text/plain": [
       "1"
      ]
     },
     "execution_count": 268,
     "metadata": {},
     "output_type": "execute_result"
    },
    {
     "data": {
      "text/plain": [
       "1"
      ]
     },
     "execution_count": 268,
     "metadata": {},
     "output_type": "execute_result"
    },
    {
     "data": {
      "text/plain": [
       "1"
      ]
     },
     "execution_count": 268,
     "metadata": {},
     "output_type": "execute_result"
    },
    {
     "data": {
      "text/plain": [
       "1"
      ]
     },
     "execution_count": 268,
     "metadata": {},
     "output_type": "execute_result"
    },
    {
     "data": {
      "text/plain": [
       "1"
      ]
     },
     "execution_count": 268,
     "metadata": {},
     "output_type": "execute_result"
    },
    {
     "data": {
      "text/plain": [
       "1"
      ]
     },
     "execution_count": 268,
     "metadata": {},
     "output_type": "execute_result"
    },
    {
     "data": {
      "text/plain": [
       "1"
      ]
     },
     "execution_count": 268,
     "metadata": {},
     "output_type": "execute_result"
    },
    {
     "data": {
      "text/plain": [
       "1"
      ]
     },
     "execution_count": 268,
     "metadata": {},
     "output_type": "execute_result"
    },
    {
     "data": {
      "text/plain": [
       "1"
      ]
     },
     "execution_count": 268,
     "metadata": {},
     "output_type": "execute_result"
    },
    {
     "data": {
      "text/plain": [
       "1"
      ]
     },
     "execution_count": 268,
     "metadata": {},
     "output_type": "execute_result"
    },
    {
     "data": {
      "text/plain": [
       "1"
      ]
     },
     "execution_count": 268,
     "metadata": {},
     "output_type": "execute_result"
    },
    {
     "data": {
      "text/plain": [
       "1"
      ]
     },
     "execution_count": 268,
     "metadata": {},
     "output_type": "execute_result"
    },
    {
     "data": {
      "text/plain": [
       "1"
      ]
     },
     "execution_count": 268,
     "metadata": {},
     "output_type": "execute_result"
    },
    {
     "data": {
      "text/plain": [
       "1"
      ]
     },
     "execution_count": 268,
     "metadata": {},
     "output_type": "execute_result"
    },
    {
     "data": {
      "text/plain": [
       "1"
      ]
     },
     "execution_count": 268,
     "metadata": {},
     "output_type": "execute_result"
    },
    {
     "data": {
      "text/plain": [
       "1"
      ]
     },
     "execution_count": 268,
     "metadata": {},
     "output_type": "execute_result"
    },
    {
     "data": {
      "text/plain": [
       "1"
      ]
     },
     "execution_count": 268,
     "metadata": {},
     "output_type": "execute_result"
    },
    {
     "data": {
      "text/plain": [
       "1"
      ]
     },
     "execution_count": 268,
     "metadata": {},
     "output_type": "execute_result"
    },
    {
     "data": {
      "text/plain": [
       "1"
      ]
     },
     "execution_count": 268,
     "metadata": {},
     "output_type": "execute_result"
    },
    {
     "data": {
      "text/plain": [
       "1"
      ]
     },
     "execution_count": 268,
     "metadata": {},
     "output_type": "execute_result"
    },
    {
     "data": {
      "text/plain": [
       "1"
      ]
     },
     "execution_count": 268,
     "metadata": {},
     "output_type": "execute_result"
    },
    {
     "data": {
      "text/plain": [
       "1"
      ]
     },
     "execution_count": 268,
     "metadata": {},
     "output_type": "execute_result"
    },
    {
     "data": {
      "text/plain": [
       "1"
      ]
     },
     "execution_count": 268,
     "metadata": {},
     "output_type": "execute_result"
    },
    {
     "data": {
      "text/plain": [
       "1"
      ]
     },
     "execution_count": 268,
     "metadata": {},
     "output_type": "execute_result"
    },
    {
     "data": {
      "text/plain": [
       "1"
      ]
     },
     "execution_count": 268,
     "metadata": {},
     "output_type": "execute_result"
    },
    {
     "data": {
      "text/plain": [
       "1"
      ]
     },
     "execution_count": 268,
     "metadata": {},
     "output_type": "execute_result"
    },
    {
     "data": {
      "text/plain": [
       "1"
      ]
     },
     "execution_count": 268,
     "metadata": {},
     "output_type": "execute_result"
    },
    {
     "data": {
      "text/plain": [
       "1"
      ]
     },
     "execution_count": 268,
     "metadata": {},
     "output_type": "execute_result"
    },
    {
     "data": {
      "text/plain": [
       "1"
      ]
     },
     "execution_count": 268,
     "metadata": {},
     "output_type": "execute_result"
    },
    {
     "data": {
      "text/plain": [
       "1"
      ]
     },
     "execution_count": 268,
     "metadata": {},
     "output_type": "execute_result"
    },
    {
     "data": {
      "text/plain": [
       "1"
      ]
     },
     "execution_count": 268,
     "metadata": {},
     "output_type": "execute_result"
    },
    {
     "data": {
      "text/plain": [
       "1"
      ]
     },
     "execution_count": 268,
     "metadata": {},
     "output_type": "execute_result"
    },
    {
     "name": "stdout",
     "output_type": "stream",
     "text": [
      "committing to db\n"
     ]
    },
    {
     "data": {
      "text/plain": [
       "1"
      ]
     },
     "execution_count": 268,
     "metadata": {},
     "output_type": "execute_result"
    },
    {
     "data": {
      "text/plain": [
       "1"
      ]
     },
     "execution_count": 268,
     "metadata": {},
     "output_type": "execute_result"
    },
    {
     "data": {
      "text/plain": [
       "1"
      ]
     },
     "execution_count": 268,
     "metadata": {},
     "output_type": "execute_result"
    },
    {
     "data": {
      "text/plain": [
       "1"
      ]
     },
     "execution_count": 268,
     "metadata": {},
     "output_type": "execute_result"
    },
    {
     "data": {
      "text/plain": [
       "1"
      ]
     },
     "execution_count": 268,
     "metadata": {},
     "output_type": "execute_result"
    },
    {
     "data": {
      "text/plain": [
       "1"
      ]
     },
     "execution_count": 268,
     "metadata": {},
     "output_type": "execute_result"
    },
    {
     "data": {
      "text/plain": [
       "1"
      ]
     },
     "execution_count": 268,
     "metadata": {},
     "output_type": "execute_result"
    },
    {
     "data": {
      "text/plain": [
       "1"
      ]
     },
     "execution_count": 268,
     "metadata": {},
     "output_type": "execute_result"
    },
    {
     "data": {
      "text/plain": [
       "1"
      ]
     },
     "execution_count": 268,
     "metadata": {},
     "output_type": "execute_result"
    },
    {
     "data": {
      "text/plain": [
       "1"
      ]
     },
     "execution_count": 268,
     "metadata": {},
     "output_type": "execute_result"
    },
    {
     "data": {
      "text/plain": [
       "1"
      ]
     },
     "execution_count": 268,
     "metadata": {},
     "output_type": "execute_result"
    },
    {
     "data": {
      "text/plain": [
       "1"
      ]
     },
     "execution_count": 268,
     "metadata": {},
     "output_type": "execute_result"
    },
    {
     "data": {
      "text/plain": [
       "1"
      ]
     },
     "execution_count": 268,
     "metadata": {},
     "output_type": "execute_result"
    },
    {
     "data": {
      "text/plain": [
       "1"
      ]
     },
     "execution_count": 268,
     "metadata": {},
     "output_type": "execute_result"
    },
    {
     "data": {
      "text/plain": [
       "1"
      ]
     },
     "execution_count": 268,
     "metadata": {},
     "output_type": "execute_result"
    },
    {
     "data": {
      "text/plain": [
       "1"
      ]
     },
     "execution_count": 268,
     "metadata": {},
     "output_type": "execute_result"
    },
    {
     "data": {
      "text/plain": [
       "1"
      ]
     },
     "execution_count": 268,
     "metadata": {},
     "output_type": "execute_result"
    },
    {
     "data": {
      "text/plain": [
       "1"
      ]
     },
     "execution_count": 268,
     "metadata": {},
     "output_type": "execute_result"
    },
    {
     "data": {
      "text/plain": [
       "1"
      ]
     },
     "execution_count": 268,
     "metadata": {},
     "output_type": "execute_result"
    },
    {
     "data": {
      "text/plain": [
       "1"
      ]
     },
     "execution_count": 268,
     "metadata": {},
     "output_type": "execute_result"
    },
    {
     "data": {
      "text/plain": [
       "1"
      ]
     },
     "execution_count": 268,
     "metadata": {},
     "output_type": "execute_result"
    },
    {
     "data": {
      "text/plain": [
       "1"
      ]
     },
     "execution_count": 268,
     "metadata": {},
     "output_type": "execute_result"
    },
    {
     "data": {
      "text/plain": [
       "1"
      ]
     },
     "execution_count": 268,
     "metadata": {},
     "output_type": "execute_result"
    },
    {
     "data": {
      "text/plain": [
       "1"
      ]
     },
     "execution_count": 268,
     "metadata": {},
     "output_type": "execute_result"
    },
    {
     "data": {
      "text/plain": [
       "1"
      ]
     },
     "execution_count": 268,
     "metadata": {},
     "output_type": "execute_result"
    },
    {
     "data": {
      "text/plain": [
       "1"
      ]
     },
     "execution_count": 268,
     "metadata": {},
     "output_type": "execute_result"
    },
    {
     "data": {
      "text/plain": [
       "1"
      ]
     },
     "execution_count": 268,
     "metadata": {},
     "output_type": "execute_result"
    },
    {
     "data": {
      "text/plain": [
       "1"
      ]
     },
     "execution_count": 268,
     "metadata": {},
     "output_type": "execute_result"
    },
    {
     "data": {
      "text/plain": [
       "1"
      ]
     },
     "execution_count": 268,
     "metadata": {},
     "output_type": "execute_result"
    },
    {
     "data": {
      "text/plain": [
       "1"
      ]
     },
     "execution_count": 268,
     "metadata": {},
     "output_type": "execute_result"
    },
    {
     "data": {
      "text/plain": [
       "1"
      ]
     },
     "execution_count": 268,
     "metadata": {},
     "output_type": "execute_result"
    },
    {
     "data": {
      "text/plain": [
       "1"
      ]
     },
     "execution_count": 268,
     "metadata": {},
     "output_type": "execute_result"
    },
    {
     "data": {
      "text/plain": [
       "1"
      ]
     },
     "execution_count": 268,
     "metadata": {},
     "output_type": "execute_result"
    },
    {
     "data": {
      "text/plain": [
       "1"
      ]
     },
     "execution_count": 268,
     "metadata": {},
     "output_type": "execute_result"
    },
    {
     "data": {
      "text/plain": [
       "1"
      ]
     },
     "execution_count": 268,
     "metadata": {},
     "output_type": "execute_result"
    },
    {
     "data": {
      "text/plain": [
       "1"
      ]
     },
     "execution_count": 268,
     "metadata": {},
     "output_type": "execute_result"
    },
    {
     "data": {
      "text/plain": [
       "1"
      ]
     },
     "execution_count": 268,
     "metadata": {},
     "output_type": "execute_result"
    },
    {
     "data": {
      "text/plain": [
       "1"
      ]
     },
     "execution_count": 268,
     "metadata": {},
     "output_type": "execute_result"
    },
    {
     "data": {
      "text/plain": [
       "1"
      ]
     },
     "execution_count": 268,
     "metadata": {},
     "output_type": "execute_result"
    },
    {
     "data": {
      "text/plain": [
       "1"
      ]
     },
     "execution_count": 268,
     "metadata": {},
     "output_type": "execute_result"
    },
    {
     "data": {
      "text/plain": [
       "1"
      ]
     },
     "execution_count": 268,
     "metadata": {},
     "output_type": "execute_result"
    },
    {
     "data": {
      "text/plain": [
       "1"
      ]
     },
     "execution_count": 268,
     "metadata": {},
     "output_type": "execute_result"
    },
    {
     "data": {
      "text/plain": [
       "1"
      ]
     },
     "execution_count": 268,
     "metadata": {},
     "output_type": "execute_result"
    },
    {
     "data": {
      "text/plain": [
       "1"
      ]
     },
     "execution_count": 268,
     "metadata": {},
     "output_type": "execute_result"
    },
    {
     "data": {
      "text/plain": [
       "1"
      ]
     },
     "execution_count": 268,
     "metadata": {},
     "output_type": "execute_result"
    },
    {
     "data": {
      "text/plain": [
       "1"
      ]
     },
     "execution_count": 268,
     "metadata": {},
     "output_type": "execute_result"
    },
    {
     "data": {
      "text/plain": [
       "1"
      ]
     },
     "execution_count": 268,
     "metadata": {},
     "output_type": "execute_result"
    },
    {
     "data": {
      "text/plain": [
       "1"
      ]
     },
     "execution_count": 268,
     "metadata": {},
     "output_type": "execute_result"
    },
    {
     "data": {
      "text/plain": [
       "1"
      ]
     },
     "execution_count": 268,
     "metadata": {},
     "output_type": "execute_result"
    },
    {
     "data": {
      "text/plain": [
       "1"
      ]
     },
     "execution_count": 268,
     "metadata": {},
     "output_type": "execute_result"
    },
    {
     "name": "stdout",
     "output_type": "stream",
     "text": [
      "committing to db\n"
     ]
    },
    {
     "data": {
      "text/plain": [
       "1"
      ]
     },
     "execution_count": 268,
     "metadata": {},
     "output_type": "execute_result"
    },
    {
     "data": {
      "text/plain": [
       "1"
      ]
     },
     "execution_count": 268,
     "metadata": {},
     "output_type": "execute_result"
    },
    {
     "data": {
      "text/plain": [
       "1"
      ]
     },
     "execution_count": 268,
     "metadata": {},
     "output_type": "execute_result"
    },
    {
     "data": {
      "text/plain": [
       "1"
      ]
     },
     "execution_count": 268,
     "metadata": {},
     "output_type": "execute_result"
    },
    {
     "data": {
      "text/plain": [
       "1"
      ]
     },
     "execution_count": 268,
     "metadata": {},
     "output_type": "execute_result"
    },
    {
     "data": {
      "text/plain": [
       "1"
      ]
     },
     "execution_count": 268,
     "metadata": {},
     "output_type": "execute_result"
    },
    {
     "data": {
      "text/plain": [
       "1"
      ]
     },
     "execution_count": 268,
     "metadata": {},
     "output_type": "execute_result"
    },
    {
     "data": {
      "text/plain": [
       "1"
      ]
     },
     "execution_count": 268,
     "metadata": {},
     "output_type": "execute_result"
    },
    {
     "data": {
      "text/plain": [
       "1"
      ]
     },
     "execution_count": 268,
     "metadata": {},
     "output_type": "execute_result"
    },
    {
     "data": {
      "text/plain": [
       "1"
      ]
     },
     "execution_count": 268,
     "metadata": {},
     "output_type": "execute_result"
    },
    {
     "data": {
      "text/plain": [
       "1"
      ]
     },
     "execution_count": 268,
     "metadata": {},
     "output_type": "execute_result"
    },
    {
     "data": {
      "text/plain": [
       "1"
      ]
     },
     "execution_count": 268,
     "metadata": {},
     "output_type": "execute_result"
    },
    {
     "data": {
      "text/plain": [
       "1"
      ]
     },
     "execution_count": 268,
     "metadata": {},
     "output_type": "execute_result"
    },
    {
     "data": {
      "text/plain": [
       "1"
      ]
     },
     "execution_count": 268,
     "metadata": {},
     "output_type": "execute_result"
    },
    {
     "data": {
      "text/plain": [
       "1"
      ]
     },
     "execution_count": 268,
     "metadata": {},
     "output_type": "execute_result"
    },
    {
     "data": {
      "text/plain": [
       "1"
      ]
     },
     "execution_count": 268,
     "metadata": {},
     "output_type": "execute_result"
    },
    {
     "data": {
      "text/plain": [
       "1"
      ]
     },
     "execution_count": 268,
     "metadata": {},
     "output_type": "execute_result"
    },
    {
     "data": {
      "text/plain": [
       "1"
      ]
     },
     "execution_count": 268,
     "metadata": {},
     "output_type": "execute_result"
    },
    {
     "data": {
      "text/plain": [
       "1"
      ]
     },
     "execution_count": 268,
     "metadata": {},
     "output_type": "execute_result"
    },
    {
     "data": {
      "text/plain": [
       "1"
      ]
     },
     "execution_count": 268,
     "metadata": {},
     "output_type": "execute_result"
    },
    {
     "data": {
      "text/plain": [
       "1"
      ]
     },
     "execution_count": 268,
     "metadata": {},
     "output_type": "execute_result"
    },
    {
     "data": {
      "text/plain": [
       "1"
      ]
     },
     "execution_count": 268,
     "metadata": {},
     "output_type": "execute_result"
    },
    {
     "data": {
      "text/plain": [
       "1"
      ]
     },
     "execution_count": 268,
     "metadata": {},
     "output_type": "execute_result"
    },
    {
     "data": {
      "text/plain": [
       "1"
      ]
     },
     "execution_count": 268,
     "metadata": {},
     "output_type": "execute_result"
    },
    {
     "data": {
      "text/plain": [
       "1"
      ]
     },
     "execution_count": 268,
     "metadata": {},
     "output_type": "execute_result"
    },
    {
     "data": {
      "text/plain": [
       "1"
      ]
     },
     "execution_count": 268,
     "metadata": {},
     "output_type": "execute_result"
    },
    {
     "data": {
      "text/plain": [
       "1"
      ]
     },
     "execution_count": 268,
     "metadata": {},
     "output_type": "execute_result"
    },
    {
     "data": {
      "text/plain": [
       "1"
      ]
     },
     "execution_count": 268,
     "metadata": {},
     "output_type": "execute_result"
    },
    {
     "data": {
      "text/plain": [
       "1"
      ]
     },
     "execution_count": 268,
     "metadata": {},
     "output_type": "execute_result"
    },
    {
     "data": {
      "text/plain": [
       "1"
      ]
     },
     "execution_count": 268,
     "metadata": {},
     "output_type": "execute_result"
    },
    {
     "data": {
      "text/plain": [
       "1"
      ]
     },
     "execution_count": 268,
     "metadata": {},
     "output_type": "execute_result"
    },
    {
     "data": {
      "text/plain": [
       "1"
      ]
     },
     "execution_count": 268,
     "metadata": {},
     "output_type": "execute_result"
    },
    {
     "data": {
      "text/plain": [
       "1"
      ]
     },
     "execution_count": 268,
     "metadata": {},
     "output_type": "execute_result"
    },
    {
     "data": {
      "text/plain": [
       "1"
      ]
     },
     "execution_count": 268,
     "metadata": {},
     "output_type": "execute_result"
    },
    {
     "data": {
      "text/plain": [
       "1"
      ]
     },
     "execution_count": 268,
     "metadata": {},
     "output_type": "execute_result"
    },
    {
     "data": {
      "text/plain": [
       "1"
      ]
     },
     "execution_count": 268,
     "metadata": {},
     "output_type": "execute_result"
    },
    {
     "data": {
      "text/plain": [
       "1"
      ]
     },
     "execution_count": 268,
     "metadata": {},
     "output_type": "execute_result"
    },
    {
     "data": {
      "text/plain": [
       "1"
      ]
     },
     "execution_count": 268,
     "metadata": {},
     "output_type": "execute_result"
    },
    {
     "data": {
      "text/plain": [
       "1"
      ]
     },
     "execution_count": 268,
     "metadata": {},
     "output_type": "execute_result"
    },
    {
     "data": {
      "text/plain": [
       "1"
      ]
     },
     "execution_count": 268,
     "metadata": {},
     "output_type": "execute_result"
    },
    {
     "data": {
      "text/plain": [
       "1"
      ]
     },
     "execution_count": 268,
     "metadata": {},
     "output_type": "execute_result"
    },
    {
     "data": {
      "text/plain": [
       "1"
      ]
     },
     "execution_count": 268,
     "metadata": {},
     "output_type": "execute_result"
    },
    {
     "data": {
      "text/plain": [
       "1"
      ]
     },
     "execution_count": 268,
     "metadata": {},
     "output_type": "execute_result"
    },
    {
     "data": {
      "text/plain": [
       "1"
      ]
     },
     "execution_count": 268,
     "metadata": {},
     "output_type": "execute_result"
    },
    {
     "data": {
      "text/plain": [
       "1"
      ]
     },
     "execution_count": 268,
     "metadata": {},
     "output_type": "execute_result"
    },
    {
     "data": {
      "text/plain": [
       "1"
      ]
     },
     "execution_count": 268,
     "metadata": {},
     "output_type": "execute_result"
    },
    {
     "data": {
      "text/plain": [
       "1"
      ]
     },
     "execution_count": 268,
     "metadata": {},
     "output_type": "execute_result"
    },
    {
     "data": {
      "text/plain": [
       "1"
      ]
     },
     "execution_count": 268,
     "metadata": {},
     "output_type": "execute_result"
    },
    {
     "data": {
      "text/plain": [
       "1"
      ]
     },
     "execution_count": 268,
     "metadata": {},
     "output_type": "execute_result"
    },
    {
     "data": {
      "text/plain": [
       "1"
      ]
     },
     "execution_count": 268,
     "metadata": {},
     "output_type": "execute_result"
    },
    {
     "name": "stdout",
     "output_type": "stream",
     "text": [
      "committing to db\n"
     ]
    },
    {
     "data": {
      "text/plain": [
       "1"
      ]
     },
     "execution_count": 268,
     "metadata": {},
     "output_type": "execute_result"
    },
    {
     "data": {
      "text/plain": [
       "1"
      ]
     },
     "execution_count": 268,
     "metadata": {},
     "output_type": "execute_result"
    },
    {
     "data": {
      "text/plain": [
       "1"
      ]
     },
     "execution_count": 268,
     "metadata": {},
     "output_type": "execute_result"
    },
    {
     "data": {
      "text/plain": [
       "1"
      ]
     },
     "execution_count": 268,
     "metadata": {},
     "output_type": "execute_result"
    },
    {
     "data": {
      "text/plain": [
       "1"
      ]
     },
     "execution_count": 268,
     "metadata": {},
     "output_type": "execute_result"
    },
    {
     "data": {
      "text/plain": [
       "1"
      ]
     },
     "execution_count": 268,
     "metadata": {},
     "output_type": "execute_result"
    },
    {
     "data": {
      "text/plain": [
       "1"
      ]
     },
     "execution_count": 268,
     "metadata": {},
     "output_type": "execute_result"
    },
    {
     "data": {
      "text/plain": [
       "1"
      ]
     },
     "execution_count": 268,
     "metadata": {},
     "output_type": "execute_result"
    },
    {
     "data": {
      "text/plain": [
       "1"
      ]
     },
     "execution_count": 268,
     "metadata": {},
     "output_type": "execute_result"
    },
    {
     "data": {
      "text/plain": [
       "1"
      ]
     },
     "execution_count": 268,
     "metadata": {},
     "output_type": "execute_result"
    },
    {
     "data": {
      "text/plain": [
       "1"
      ]
     },
     "execution_count": 268,
     "metadata": {},
     "output_type": "execute_result"
    },
    {
     "data": {
      "text/plain": [
       "1"
      ]
     },
     "execution_count": 268,
     "metadata": {},
     "output_type": "execute_result"
    },
    {
     "data": {
      "text/plain": [
       "1"
      ]
     },
     "execution_count": 268,
     "metadata": {},
     "output_type": "execute_result"
    },
    {
     "data": {
      "text/plain": [
       "1"
      ]
     },
     "execution_count": 268,
     "metadata": {},
     "output_type": "execute_result"
    },
    {
     "data": {
      "text/plain": [
       "1"
      ]
     },
     "execution_count": 268,
     "metadata": {},
     "output_type": "execute_result"
    },
    {
     "data": {
      "text/plain": [
       "1"
      ]
     },
     "execution_count": 268,
     "metadata": {},
     "output_type": "execute_result"
    },
    {
     "data": {
      "text/plain": [
       "1"
      ]
     },
     "execution_count": 268,
     "metadata": {},
     "output_type": "execute_result"
    },
    {
     "data": {
      "text/plain": [
       "1"
      ]
     },
     "execution_count": 268,
     "metadata": {},
     "output_type": "execute_result"
    },
    {
     "data": {
      "text/plain": [
       "1"
      ]
     },
     "execution_count": 268,
     "metadata": {},
     "output_type": "execute_result"
    },
    {
     "data": {
      "text/plain": [
       "1"
      ]
     },
     "execution_count": 268,
     "metadata": {},
     "output_type": "execute_result"
    },
    {
     "data": {
      "text/plain": [
       "1"
      ]
     },
     "execution_count": 268,
     "metadata": {},
     "output_type": "execute_result"
    },
    {
     "data": {
      "text/plain": [
       "1"
      ]
     },
     "execution_count": 268,
     "metadata": {},
     "output_type": "execute_result"
    },
    {
     "data": {
      "text/plain": [
       "1"
      ]
     },
     "execution_count": 268,
     "metadata": {},
     "output_type": "execute_result"
    },
    {
     "data": {
      "text/plain": [
       "1"
      ]
     },
     "execution_count": 268,
     "metadata": {},
     "output_type": "execute_result"
    },
    {
     "data": {
      "text/plain": [
       "1"
      ]
     },
     "execution_count": 268,
     "metadata": {},
     "output_type": "execute_result"
    },
    {
     "data": {
      "text/plain": [
       "1"
      ]
     },
     "execution_count": 268,
     "metadata": {},
     "output_type": "execute_result"
    },
    {
     "data": {
      "text/plain": [
       "1"
      ]
     },
     "execution_count": 268,
     "metadata": {},
     "output_type": "execute_result"
    },
    {
     "data": {
      "text/plain": [
       "1"
      ]
     },
     "execution_count": 268,
     "metadata": {},
     "output_type": "execute_result"
    },
    {
     "data": {
      "text/plain": [
       "1"
      ]
     },
     "execution_count": 268,
     "metadata": {},
     "output_type": "execute_result"
    },
    {
     "data": {
      "text/plain": [
       "1"
      ]
     },
     "execution_count": 268,
     "metadata": {},
     "output_type": "execute_result"
    },
    {
     "data": {
      "text/plain": [
       "1"
      ]
     },
     "execution_count": 268,
     "metadata": {},
     "output_type": "execute_result"
    },
    {
     "data": {
      "text/plain": [
       "1"
      ]
     },
     "execution_count": 268,
     "metadata": {},
     "output_type": "execute_result"
    },
    {
     "data": {
      "text/plain": [
       "1"
      ]
     },
     "execution_count": 268,
     "metadata": {},
     "output_type": "execute_result"
    },
    {
     "data": {
      "text/plain": [
       "1"
      ]
     },
     "execution_count": 268,
     "metadata": {},
     "output_type": "execute_result"
    },
    {
     "data": {
      "text/plain": [
       "1"
      ]
     },
     "execution_count": 268,
     "metadata": {},
     "output_type": "execute_result"
    },
    {
     "data": {
      "text/plain": [
       "1"
      ]
     },
     "execution_count": 268,
     "metadata": {},
     "output_type": "execute_result"
    },
    {
     "data": {
      "text/plain": [
       "1"
      ]
     },
     "execution_count": 268,
     "metadata": {},
     "output_type": "execute_result"
    },
    {
     "data": {
      "text/plain": [
       "1"
      ]
     },
     "execution_count": 268,
     "metadata": {},
     "output_type": "execute_result"
    },
    {
     "data": {
      "text/plain": [
       "1"
      ]
     },
     "execution_count": 268,
     "metadata": {},
     "output_type": "execute_result"
    },
    {
     "data": {
      "text/plain": [
       "1"
      ]
     },
     "execution_count": 268,
     "metadata": {},
     "output_type": "execute_result"
    },
    {
     "data": {
      "text/plain": [
       "1"
      ]
     },
     "execution_count": 268,
     "metadata": {},
     "output_type": "execute_result"
    },
    {
     "data": {
      "text/plain": [
       "1"
      ]
     },
     "execution_count": 268,
     "metadata": {},
     "output_type": "execute_result"
    },
    {
     "data": {
      "text/plain": [
       "1"
      ]
     },
     "execution_count": 268,
     "metadata": {},
     "output_type": "execute_result"
    },
    {
     "data": {
      "text/plain": [
       "1"
      ]
     },
     "execution_count": 268,
     "metadata": {},
     "output_type": "execute_result"
    },
    {
     "data": {
      "text/plain": [
       "1"
      ]
     },
     "execution_count": 268,
     "metadata": {},
     "output_type": "execute_result"
    },
    {
     "data": {
      "text/plain": [
       "1"
      ]
     },
     "execution_count": 268,
     "metadata": {},
     "output_type": "execute_result"
    },
    {
     "data": {
      "text/plain": [
       "1"
      ]
     },
     "execution_count": 268,
     "metadata": {},
     "output_type": "execute_result"
    },
    {
     "data": {
      "text/plain": [
       "1"
      ]
     },
     "execution_count": 268,
     "metadata": {},
     "output_type": "execute_result"
    },
    {
     "data": {
      "text/plain": [
       "1"
      ]
     },
     "execution_count": 268,
     "metadata": {},
     "output_type": "execute_result"
    },
    {
     "data": {
      "text/plain": [
       "1"
      ]
     },
     "execution_count": 268,
     "metadata": {},
     "output_type": "execute_result"
    },
    {
     "name": "stdout",
     "output_type": "stream",
     "text": [
      "committing to db\n"
     ]
    },
    {
     "data": {
      "text/plain": [
       "1"
      ]
     },
     "execution_count": 268,
     "metadata": {},
     "output_type": "execute_result"
    },
    {
     "data": {
      "text/plain": [
       "1"
      ]
     },
     "execution_count": 268,
     "metadata": {},
     "output_type": "execute_result"
    },
    {
     "data": {
      "text/plain": [
       "1"
      ]
     },
     "execution_count": 268,
     "metadata": {},
     "output_type": "execute_result"
    },
    {
     "data": {
      "text/plain": [
       "1"
      ]
     },
     "execution_count": 268,
     "metadata": {},
     "output_type": "execute_result"
    },
    {
     "data": {
      "text/plain": [
       "1"
      ]
     },
     "execution_count": 268,
     "metadata": {},
     "output_type": "execute_result"
    },
    {
     "data": {
      "text/plain": [
       "1"
      ]
     },
     "execution_count": 268,
     "metadata": {},
     "output_type": "execute_result"
    },
    {
     "data": {
      "text/plain": [
       "1"
      ]
     },
     "execution_count": 268,
     "metadata": {},
     "output_type": "execute_result"
    },
    {
     "data": {
      "text/plain": [
       "1"
      ]
     },
     "execution_count": 268,
     "metadata": {},
     "output_type": "execute_result"
    },
    {
     "data": {
      "text/plain": [
       "1"
      ]
     },
     "execution_count": 268,
     "metadata": {},
     "output_type": "execute_result"
    },
    {
     "data": {
      "text/plain": [
       "1"
      ]
     },
     "execution_count": 268,
     "metadata": {},
     "output_type": "execute_result"
    },
    {
     "data": {
      "text/plain": [
       "1"
      ]
     },
     "execution_count": 268,
     "metadata": {},
     "output_type": "execute_result"
    },
    {
     "data": {
      "text/plain": [
       "1"
      ]
     },
     "execution_count": 268,
     "metadata": {},
     "output_type": "execute_result"
    },
    {
     "data": {
      "text/plain": [
       "1"
      ]
     },
     "execution_count": 268,
     "metadata": {},
     "output_type": "execute_result"
    },
    {
     "data": {
      "text/plain": [
       "1"
      ]
     },
     "execution_count": 268,
     "metadata": {},
     "output_type": "execute_result"
    },
    {
     "data": {
      "text/plain": [
       "1"
      ]
     },
     "execution_count": 268,
     "metadata": {},
     "output_type": "execute_result"
    },
    {
     "data": {
      "text/plain": [
       "1"
      ]
     },
     "execution_count": 268,
     "metadata": {},
     "output_type": "execute_result"
    },
    {
     "data": {
      "text/plain": [
       "1"
      ]
     },
     "execution_count": 268,
     "metadata": {},
     "output_type": "execute_result"
    },
    {
     "data": {
      "text/plain": [
       "1"
      ]
     },
     "execution_count": 268,
     "metadata": {},
     "output_type": "execute_result"
    },
    {
     "data": {
      "text/plain": [
       "1"
      ]
     },
     "execution_count": 268,
     "metadata": {},
     "output_type": "execute_result"
    },
    {
     "data": {
      "text/plain": [
       "1"
      ]
     },
     "execution_count": 268,
     "metadata": {},
     "output_type": "execute_result"
    },
    {
     "data": {
      "text/plain": [
       "1"
      ]
     },
     "execution_count": 268,
     "metadata": {},
     "output_type": "execute_result"
    },
    {
     "data": {
      "text/plain": [
       "1"
      ]
     },
     "execution_count": 268,
     "metadata": {},
     "output_type": "execute_result"
    },
    {
     "data": {
      "text/plain": [
       "1"
      ]
     },
     "execution_count": 268,
     "metadata": {},
     "output_type": "execute_result"
    },
    {
     "data": {
      "text/plain": [
       "1"
      ]
     },
     "execution_count": 268,
     "metadata": {},
     "output_type": "execute_result"
    },
    {
     "data": {
      "text/plain": [
       "1"
      ]
     },
     "execution_count": 268,
     "metadata": {},
     "output_type": "execute_result"
    },
    {
     "data": {
      "text/plain": [
       "1"
      ]
     },
     "execution_count": 268,
     "metadata": {},
     "output_type": "execute_result"
    },
    {
     "data": {
      "text/plain": [
       "1"
      ]
     },
     "execution_count": 268,
     "metadata": {},
     "output_type": "execute_result"
    },
    {
     "data": {
      "text/plain": [
       "1"
      ]
     },
     "execution_count": 268,
     "metadata": {},
     "output_type": "execute_result"
    },
    {
     "data": {
      "text/plain": [
       "1"
      ]
     },
     "execution_count": 268,
     "metadata": {},
     "output_type": "execute_result"
    },
    {
     "data": {
      "text/plain": [
       "1"
      ]
     },
     "execution_count": 268,
     "metadata": {},
     "output_type": "execute_result"
    },
    {
     "data": {
      "text/plain": [
       "1"
      ]
     },
     "execution_count": 268,
     "metadata": {},
     "output_type": "execute_result"
    },
    {
     "data": {
      "text/plain": [
       "1"
      ]
     },
     "execution_count": 268,
     "metadata": {},
     "output_type": "execute_result"
    },
    {
     "data": {
      "text/plain": [
       "1"
      ]
     },
     "execution_count": 268,
     "metadata": {},
     "output_type": "execute_result"
    },
    {
     "data": {
      "text/plain": [
       "1"
      ]
     },
     "execution_count": 268,
     "metadata": {},
     "output_type": "execute_result"
    },
    {
     "data": {
      "text/plain": [
       "1"
      ]
     },
     "execution_count": 268,
     "metadata": {},
     "output_type": "execute_result"
    },
    {
     "data": {
      "text/plain": [
       "1"
      ]
     },
     "execution_count": 268,
     "metadata": {},
     "output_type": "execute_result"
    },
    {
     "data": {
      "text/plain": [
       "1"
      ]
     },
     "execution_count": 268,
     "metadata": {},
     "output_type": "execute_result"
    },
    {
     "data": {
      "text/plain": [
       "1"
      ]
     },
     "execution_count": 268,
     "metadata": {},
     "output_type": "execute_result"
    },
    {
     "data": {
      "text/plain": [
       "1"
      ]
     },
     "execution_count": 268,
     "metadata": {},
     "output_type": "execute_result"
    },
    {
     "data": {
      "text/plain": [
       "1"
      ]
     },
     "execution_count": 268,
     "metadata": {},
     "output_type": "execute_result"
    },
    {
     "data": {
      "text/plain": [
       "1"
      ]
     },
     "execution_count": 268,
     "metadata": {},
     "output_type": "execute_result"
    },
    {
     "data": {
      "text/plain": [
       "1"
      ]
     },
     "execution_count": 268,
     "metadata": {},
     "output_type": "execute_result"
    },
    {
     "data": {
      "text/plain": [
       "1"
      ]
     },
     "execution_count": 268,
     "metadata": {},
     "output_type": "execute_result"
    },
    {
     "data": {
      "text/plain": [
       "1"
      ]
     },
     "execution_count": 268,
     "metadata": {},
     "output_type": "execute_result"
    },
    {
     "data": {
      "text/plain": [
       "1"
      ]
     },
     "execution_count": 268,
     "metadata": {},
     "output_type": "execute_result"
    },
    {
     "data": {
      "text/plain": [
       "1"
      ]
     },
     "execution_count": 268,
     "metadata": {},
     "output_type": "execute_result"
    },
    {
     "data": {
      "text/plain": [
       "1"
      ]
     },
     "execution_count": 268,
     "metadata": {},
     "output_type": "execute_result"
    },
    {
     "data": {
      "text/plain": [
       "1"
      ]
     },
     "execution_count": 268,
     "metadata": {},
     "output_type": "execute_result"
    },
    {
     "data": {
      "text/plain": [
       "1"
      ]
     },
     "execution_count": 268,
     "metadata": {},
     "output_type": "execute_result"
    },
    {
     "data": {
      "text/plain": [
       "1"
      ]
     },
     "execution_count": 268,
     "metadata": {},
     "output_type": "execute_result"
    },
    {
     "name": "stdout",
     "output_type": "stream",
     "text": [
      "committing to db\n"
     ]
    },
    {
     "data": {
      "text/plain": [
       "1"
      ]
     },
     "execution_count": 268,
     "metadata": {},
     "output_type": "execute_result"
    },
    {
     "data": {
      "text/plain": [
       "1"
      ]
     },
     "execution_count": 268,
     "metadata": {},
     "output_type": "execute_result"
    },
    {
     "data": {
      "text/plain": [
       "1"
      ]
     },
     "execution_count": 268,
     "metadata": {},
     "output_type": "execute_result"
    },
    {
     "data": {
      "text/plain": [
       "1"
      ]
     },
     "execution_count": 268,
     "metadata": {},
     "output_type": "execute_result"
    },
    {
     "data": {
      "text/plain": [
       "1"
      ]
     },
     "execution_count": 268,
     "metadata": {},
     "output_type": "execute_result"
    },
    {
     "data": {
      "text/plain": [
       "1"
      ]
     },
     "execution_count": 268,
     "metadata": {},
     "output_type": "execute_result"
    },
    {
     "data": {
      "text/plain": [
       "1"
      ]
     },
     "execution_count": 268,
     "metadata": {},
     "output_type": "execute_result"
    },
    {
     "data": {
      "text/plain": [
       "1"
      ]
     },
     "execution_count": 268,
     "metadata": {},
     "output_type": "execute_result"
    },
    {
     "data": {
      "text/plain": [
       "1"
      ]
     },
     "execution_count": 268,
     "metadata": {},
     "output_type": "execute_result"
    },
    {
     "data": {
      "text/plain": [
       "1"
      ]
     },
     "execution_count": 268,
     "metadata": {},
     "output_type": "execute_result"
    },
    {
     "data": {
      "text/plain": [
       "1"
      ]
     },
     "execution_count": 268,
     "metadata": {},
     "output_type": "execute_result"
    },
    {
     "data": {
      "text/plain": [
       "1"
      ]
     },
     "execution_count": 268,
     "metadata": {},
     "output_type": "execute_result"
    },
    {
     "data": {
      "text/plain": [
       "1"
      ]
     },
     "execution_count": 268,
     "metadata": {},
     "output_type": "execute_result"
    },
    {
     "data": {
      "text/plain": [
       "1"
      ]
     },
     "execution_count": 268,
     "metadata": {},
     "output_type": "execute_result"
    },
    {
     "data": {
      "text/plain": [
       "1"
      ]
     },
     "execution_count": 268,
     "metadata": {},
     "output_type": "execute_result"
    },
    {
     "data": {
      "text/plain": [
       "1"
      ]
     },
     "execution_count": 268,
     "metadata": {},
     "output_type": "execute_result"
    },
    {
     "data": {
      "text/plain": [
       "1"
      ]
     },
     "execution_count": 268,
     "metadata": {},
     "output_type": "execute_result"
    },
    {
     "data": {
      "text/plain": [
       "1"
      ]
     },
     "execution_count": 268,
     "metadata": {},
     "output_type": "execute_result"
    },
    {
     "data": {
      "text/plain": [
       "1"
      ]
     },
     "execution_count": 268,
     "metadata": {},
     "output_type": "execute_result"
    },
    {
     "data": {
      "text/plain": [
       "1"
      ]
     },
     "execution_count": 268,
     "metadata": {},
     "output_type": "execute_result"
    },
    {
     "data": {
      "text/plain": [
       "1"
      ]
     },
     "execution_count": 268,
     "metadata": {},
     "output_type": "execute_result"
    },
    {
     "data": {
      "text/plain": [
       "1"
      ]
     },
     "execution_count": 268,
     "metadata": {},
     "output_type": "execute_result"
    },
    {
     "data": {
      "text/plain": [
       "1"
      ]
     },
     "execution_count": 268,
     "metadata": {},
     "output_type": "execute_result"
    },
    {
     "data": {
      "text/plain": [
       "1"
      ]
     },
     "execution_count": 268,
     "metadata": {},
     "output_type": "execute_result"
    },
    {
     "data": {
      "text/plain": [
       "1"
      ]
     },
     "execution_count": 268,
     "metadata": {},
     "output_type": "execute_result"
    },
    {
     "data": {
      "text/plain": [
       "1"
      ]
     },
     "execution_count": 268,
     "metadata": {},
     "output_type": "execute_result"
    },
    {
     "data": {
      "text/plain": [
       "1"
      ]
     },
     "execution_count": 268,
     "metadata": {},
     "output_type": "execute_result"
    },
    {
     "data": {
      "text/plain": [
       "1"
      ]
     },
     "execution_count": 268,
     "metadata": {},
     "output_type": "execute_result"
    },
    {
     "data": {
      "text/plain": [
       "1"
      ]
     },
     "execution_count": 268,
     "metadata": {},
     "output_type": "execute_result"
    },
    {
     "data": {
      "text/plain": [
       "1"
      ]
     },
     "execution_count": 268,
     "metadata": {},
     "output_type": "execute_result"
    },
    {
     "data": {
      "text/plain": [
       "1"
      ]
     },
     "execution_count": 268,
     "metadata": {},
     "output_type": "execute_result"
    },
    {
     "data": {
      "text/plain": [
       "1"
      ]
     },
     "execution_count": 268,
     "metadata": {},
     "output_type": "execute_result"
    },
    {
     "data": {
      "text/plain": [
       "1"
      ]
     },
     "execution_count": 268,
     "metadata": {},
     "output_type": "execute_result"
    },
    {
     "data": {
      "text/plain": [
       "1"
      ]
     },
     "execution_count": 268,
     "metadata": {},
     "output_type": "execute_result"
    },
    {
     "data": {
      "text/plain": [
       "1"
      ]
     },
     "execution_count": 268,
     "metadata": {},
     "output_type": "execute_result"
    },
    {
     "data": {
      "text/plain": [
       "1"
      ]
     },
     "execution_count": 268,
     "metadata": {},
     "output_type": "execute_result"
    },
    {
     "data": {
      "text/plain": [
       "1"
      ]
     },
     "execution_count": 268,
     "metadata": {},
     "output_type": "execute_result"
    },
    {
     "data": {
      "text/plain": [
       "1"
      ]
     },
     "execution_count": 268,
     "metadata": {},
     "output_type": "execute_result"
    },
    {
     "data": {
      "text/plain": [
       "1"
      ]
     },
     "execution_count": 268,
     "metadata": {},
     "output_type": "execute_result"
    },
    {
     "data": {
      "text/plain": [
       "1"
      ]
     },
     "execution_count": 268,
     "metadata": {},
     "output_type": "execute_result"
    },
    {
     "data": {
      "text/plain": [
       "1"
      ]
     },
     "execution_count": 268,
     "metadata": {},
     "output_type": "execute_result"
    },
    {
     "data": {
      "text/plain": [
       "1"
      ]
     },
     "execution_count": 268,
     "metadata": {},
     "output_type": "execute_result"
    },
    {
     "data": {
      "text/plain": [
       "1"
      ]
     },
     "execution_count": 268,
     "metadata": {},
     "output_type": "execute_result"
    },
    {
     "data": {
      "text/plain": [
       "1"
      ]
     },
     "execution_count": 268,
     "metadata": {},
     "output_type": "execute_result"
    },
    {
     "data": {
      "text/plain": [
       "1"
      ]
     },
     "execution_count": 268,
     "metadata": {},
     "output_type": "execute_result"
    },
    {
     "data": {
      "text/plain": [
       "1"
      ]
     },
     "execution_count": 268,
     "metadata": {},
     "output_type": "execute_result"
    },
    {
     "data": {
      "text/plain": [
       "1"
      ]
     },
     "execution_count": 268,
     "metadata": {},
     "output_type": "execute_result"
    },
    {
     "data": {
      "text/plain": [
       "1"
      ]
     },
     "execution_count": 268,
     "metadata": {},
     "output_type": "execute_result"
    },
    {
     "data": {
      "text/plain": [
       "1"
      ]
     },
     "execution_count": 268,
     "metadata": {},
     "output_type": "execute_result"
    },
    {
     "data": {
      "text/plain": [
       "1"
      ]
     },
     "execution_count": 268,
     "metadata": {},
     "output_type": "execute_result"
    },
    {
     "name": "stdout",
     "output_type": "stream",
     "text": [
      "committing to db\n"
     ]
    },
    {
     "data": {
      "text/plain": [
       "1"
      ]
     },
     "execution_count": 268,
     "metadata": {},
     "output_type": "execute_result"
    },
    {
     "data": {
      "text/plain": [
       "1"
      ]
     },
     "execution_count": 268,
     "metadata": {},
     "output_type": "execute_result"
    },
    {
     "data": {
      "text/plain": [
       "1"
      ]
     },
     "execution_count": 268,
     "metadata": {},
     "output_type": "execute_result"
    },
    {
     "data": {
      "text/plain": [
       "1"
      ]
     },
     "execution_count": 268,
     "metadata": {},
     "output_type": "execute_result"
    },
    {
     "data": {
      "text/plain": [
       "1"
      ]
     },
     "execution_count": 268,
     "metadata": {},
     "output_type": "execute_result"
    },
    {
     "data": {
      "text/plain": [
       "1"
      ]
     },
     "execution_count": 268,
     "metadata": {},
     "output_type": "execute_result"
    },
    {
     "data": {
      "text/plain": [
       "1"
      ]
     },
     "execution_count": 268,
     "metadata": {},
     "output_type": "execute_result"
    },
    {
     "data": {
      "text/plain": [
       "1"
      ]
     },
     "execution_count": 268,
     "metadata": {},
     "output_type": "execute_result"
    },
    {
     "data": {
      "text/plain": [
       "1"
      ]
     },
     "execution_count": 268,
     "metadata": {},
     "output_type": "execute_result"
    },
    {
     "data": {
      "text/plain": [
       "1"
      ]
     },
     "execution_count": 268,
     "metadata": {},
     "output_type": "execute_result"
    },
    {
     "data": {
      "text/plain": [
       "1"
      ]
     },
     "execution_count": 268,
     "metadata": {},
     "output_type": "execute_result"
    },
    {
     "data": {
      "text/plain": [
       "1"
      ]
     },
     "execution_count": 268,
     "metadata": {},
     "output_type": "execute_result"
    },
    {
     "data": {
      "text/plain": [
       "1"
      ]
     },
     "execution_count": 268,
     "metadata": {},
     "output_type": "execute_result"
    },
    {
     "data": {
      "text/plain": [
       "1"
      ]
     },
     "execution_count": 268,
     "metadata": {},
     "output_type": "execute_result"
    },
    {
     "data": {
      "text/plain": [
       "1"
      ]
     },
     "execution_count": 268,
     "metadata": {},
     "output_type": "execute_result"
    },
    {
     "data": {
      "text/plain": [
       "1"
      ]
     },
     "execution_count": 268,
     "metadata": {},
     "output_type": "execute_result"
    },
    {
     "data": {
      "text/plain": [
       "1"
      ]
     },
     "execution_count": 268,
     "metadata": {},
     "output_type": "execute_result"
    },
    {
     "data": {
      "text/plain": [
       "1"
      ]
     },
     "execution_count": 268,
     "metadata": {},
     "output_type": "execute_result"
    },
    {
     "data": {
      "text/plain": [
       "1"
      ]
     },
     "execution_count": 268,
     "metadata": {},
     "output_type": "execute_result"
    },
    {
     "data": {
      "text/plain": [
       "1"
      ]
     },
     "execution_count": 268,
     "metadata": {},
     "output_type": "execute_result"
    },
    {
     "data": {
      "text/plain": [
       "1"
      ]
     },
     "execution_count": 268,
     "metadata": {},
     "output_type": "execute_result"
    },
    {
     "data": {
      "text/plain": [
       "1"
      ]
     },
     "execution_count": 268,
     "metadata": {},
     "output_type": "execute_result"
    },
    {
     "data": {
      "text/plain": [
       "1"
      ]
     },
     "execution_count": 268,
     "metadata": {},
     "output_type": "execute_result"
    },
    {
     "data": {
      "text/plain": [
       "1"
      ]
     },
     "execution_count": 268,
     "metadata": {},
     "output_type": "execute_result"
    },
    {
     "data": {
      "text/plain": [
       "1"
      ]
     },
     "execution_count": 268,
     "metadata": {},
     "output_type": "execute_result"
    },
    {
     "data": {
      "text/plain": [
       "1"
      ]
     },
     "execution_count": 268,
     "metadata": {},
     "output_type": "execute_result"
    },
    {
     "data": {
      "text/plain": [
       "1"
      ]
     },
     "execution_count": 268,
     "metadata": {},
     "output_type": "execute_result"
    },
    {
     "data": {
      "text/plain": [
       "1"
      ]
     },
     "execution_count": 268,
     "metadata": {},
     "output_type": "execute_result"
    },
    {
     "data": {
      "text/plain": [
       "1"
      ]
     },
     "execution_count": 268,
     "metadata": {},
     "output_type": "execute_result"
    },
    {
     "data": {
      "text/plain": [
       "1"
      ]
     },
     "execution_count": 268,
     "metadata": {},
     "output_type": "execute_result"
    },
    {
     "data": {
      "text/plain": [
       "1"
      ]
     },
     "execution_count": 268,
     "metadata": {},
     "output_type": "execute_result"
    },
    {
     "data": {
      "text/plain": [
       "1"
      ]
     },
     "execution_count": 268,
     "metadata": {},
     "output_type": "execute_result"
    },
    {
     "data": {
      "text/plain": [
       "1"
      ]
     },
     "execution_count": 268,
     "metadata": {},
     "output_type": "execute_result"
    },
    {
     "data": {
      "text/plain": [
       "1"
      ]
     },
     "execution_count": 268,
     "metadata": {},
     "output_type": "execute_result"
    },
    {
     "data": {
      "text/plain": [
       "1"
      ]
     },
     "execution_count": 268,
     "metadata": {},
     "output_type": "execute_result"
    },
    {
     "data": {
      "text/plain": [
       "1"
      ]
     },
     "execution_count": 268,
     "metadata": {},
     "output_type": "execute_result"
    },
    {
     "data": {
      "text/plain": [
       "1"
      ]
     },
     "execution_count": 268,
     "metadata": {},
     "output_type": "execute_result"
    },
    {
     "data": {
      "text/plain": [
       "1"
      ]
     },
     "execution_count": 268,
     "metadata": {},
     "output_type": "execute_result"
    },
    {
     "data": {
      "text/plain": [
       "1"
      ]
     },
     "execution_count": 268,
     "metadata": {},
     "output_type": "execute_result"
    },
    {
     "data": {
      "text/plain": [
       "1"
      ]
     },
     "execution_count": 268,
     "metadata": {},
     "output_type": "execute_result"
    },
    {
     "data": {
      "text/plain": [
       "1"
      ]
     },
     "execution_count": 268,
     "metadata": {},
     "output_type": "execute_result"
    },
    {
     "data": {
      "text/plain": [
       "1"
      ]
     },
     "execution_count": 268,
     "metadata": {},
     "output_type": "execute_result"
    },
    {
     "data": {
      "text/plain": [
       "1"
      ]
     },
     "execution_count": 268,
     "metadata": {},
     "output_type": "execute_result"
    },
    {
     "data": {
      "text/plain": [
       "1"
      ]
     },
     "execution_count": 268,
     "metadata": {},
     "output_type": "execute_result"
    },
    {
     "data": {
      "text/plain": [
       "1"
      ]
     },
     "execution_count": 268,
     "metadata": {},
     "output_type": "execute_result"
    },
    {
     "data": {
      "text/plain": [
       "1"
      ]
     },
     "execution_count": 268,
     "metadata": {},
     "output_type": "execute_result"
    },
    {
     "data": {
      "text/plain": [
       "1"
      ]
     },
     "execution_count": 268,
     "metadata": {},
     "output_type": "execute_result"
    },
    {
     "data": {
      "text/plain": [
       "1"
      ]
     },
     "execution_count": 268,
     "metadata": {},
     "output_type": "execute_result"
    },
    {
     "data": {
      "text/plain": [
       "1"
      ]
     },
     "execution_count": 268,
     "metadata": {},
     "output_type": "execute_result"
    },
    {
     "data": {
      "text/plain": [
       "1"
      ]
     },
     "execution_count": 268,
     "metadata": {},
     "output_type": "execute_result"
    },
    {
     "name": "stdout",
     "output_type": "stream",
     "text": [
      "committing to db\n"
     ]
    },
    {
     "data": {
      "text/plain": [
       "1"
      ]
     },
     "execution_count": 268,
     "metadata": {},
     "output_type": "execute_result"
    },
    {
     "data": {
      "text/plain": [
       "1"
      ]
     },
     "execution_count": 268,
     "metadata": {},
     "output_type": "execute_result"
    },
    {
     "data": {
      "text/plain": [
       "1"
      ]
     },
     "execution_count": 268,
     "metadata": {},
     "output_type": "execute_result"
    },
    {
     "data": {
      "text/plain": [
       "1"
      ]
     },
     "execution_count": 268,
     "metadata": {},
     "output_type": "execute_result"
    },
    {
     "data": {
      "text/plain": [
       "1"
      ]
     },
     "execution_count": 268,
     "metadata": {},
     "output_type": "execute_result"
    },
    {
     "data": {
      "text/plain": [
       "1"
      ]
     },
     "execution_count": 268,
     "metadata": {},
     "output_type": "execute_result"
    },
    {
     "data": {
      "text/plain": [
       "1"
      ]
     },
     "execution_count": 268,
     "metadata": {},
     "output_type": "execute_result"
    },
    {
     "data": {
      "text/plain": [
       "1"
      ]
     },
     "execution_count": 268,
     "metadata": {},
     "output_type": "execute_result"
    },
    {
     "data": {
      "text/plain": [
       "1"
      ]
     },
     "execution_count": 268,
     "metadata": {},
     "output_type": "execute_result"
    },
    {
     "data": {
      "text/plain": [
       "1"
      ]
     },
     "execution_count": 268,
     "metadata": {},
     "output_type": "execute_result"
    },
    {
     "data": {
      "text/plain": [
       "1"
      ]
     },
     "execution_count": 268,
     "metadata": {},
     "output_type": "execute_result"
    },
    {
     "data": {
      "text/plain": [
       "1"
      ]
     },
     "execution_count": 268,
     "metadata": {},
     "output_type": "execute_result"
    },
    {
     "data": {
      "text/plain": [
       "1"
      ]
     },
     "execution_count": 268,
     "metadata": {},
     "output_type": "execute_result"
    },
    {
     "data": {
      "text/plain": [
       "1"
      ]
     },
     "execution_count": 268,
     "metadata": {},
     "output_type": "execute_result"
    },
    {
     "data": {
      "text/plain": [
       "1"
      ]
     },
     "execution_count": 268,
     "metadata": {},
     "output_type": "execute_result"
    },
    {
     "data": {
      "text/plain": [
       "1"
      ]
     },
     "execution_count": 268,
     "metadata": {},
     "output_type": "execute_result"
    },
    {
     "data": {
      "text/plain": [
       "1"
      ]
     },
     "execution_count": 268,
     "metadata": {},
     "output_type": "execute_result"
    },
    {
     "data": {
      "text/plain": [
       "1"
      ]
     },
     "execution_count": 268,
     "metadata": {},
     "output_type": "execute_result"
    },
    {
     "data": {
      "text/plain": [
       "1"
      ]
     },
     "execution_count": 268,
     "metadata": {},
     "output_type": "execute_result"
    },
    {
     "data": {
      "text/plain": [
       "1"
      ]
     },
     "execution_count": 268,
     "metadata": {},
     "output_type": "execute_result"
    },
    {
     "data": {
      "text/plain": [
       "1"
      ]
     },
     "execution_count": 268,
     "metadata": {},
     "output_type": "execute_result"
    },
    {
     "data": {
      "text/plain": [
       "1"
      ]
     },
     "execution_count": 268,
     "metadata": {},
     "output_type": "execute_result"
    },
    {
     "data": {
      "text/plain": [
       "1"
      ]
     },
     "execution_count": 268,
     "metadata": {},
     "output_type": "execute_result"
    },
    {
     "data": {
      "text/plain": [
       "1"
      ]
     },
     "execution_count": 268,
     "metadata": {},
     "output_type": "execute_result"
    },
    {
     "data": {
      "text/plain": [
       "1"
      ]
     },
     "execution_count": 268,
     "metadata": {},
     "output_type": "execute_result"
    },
    {
     "data": {
      "text/plain": [
       "1"
      ]
     },
     "execution_count": 268,
     "metadata": {},
     "output_type": "execute_result"
    },
    {
     "data": {
      "text/plain": [
       "1"
      ]
     },
     "execution_count": 268,
     "metadata": {},
     "output_type": "execute_result"
    },
    {
     "data": {
      "text/plain": [
       "1"
      ]
     },
     "execution_count": 268,
     "metadata": {},
     "output_type": "execute_result"
    },
    {
     "data": {
      "text/plain": [
       "1"
      ]
     },
     "execution_count": 268,
     "metadata": {},
     "output_type": "execute_result"
    },
    {
     "data": {
      "text/plain": [
       "1"
      ]
     },
     "execution_count": 268,
     "metadata": {},
     "output_type": "execute_result"
    },
    {
     "data": {
      "text/plain": [
       "1"
      ]
     },
     "execution_count": 268,
     "metadata": {},
     "output_type": "execute_result"
    },
    {
     "data": {
      "text/plain": [
       "1"
      ]
     },
     "execution_count": 268,
     "metadata": {},
     "output_type": "execute_result"
    },
    {
     "data": {
      "text/plain": [
       "1"
      ]
     },
     "execution_count": 268,
     "metadata": {},
     "output_type": "execute_result"
    },
    {
     "data": {
      "text/plain": [
       "1"
      ]
     },
     "execution_count": 268,
     "metadata": {},
     "output_type": "execute_result"
    },
    {
     "data": {
      "text/plain": [
       "1"
      ]
     },
     "execution_count": 268,
     "metadata": {},
     "output_type": "execute_result"
    },
    {
     "data": {
      "text/plain": [
       "1"
      ]
     },
     "execution_count": 268,
     "metadata": {},
     "output_type": "execute_result"
    },
    {
     "data": {
      "text/plain": [
       "1"
      ]
     },
     "execution_count": 268,
     "metadata": {},
     "output_type": "execute_result"
    },
    {
     "data": {
      "text/plain": [
       "1"
      ]
     },
     "execution_count": 268,
     "metadata": {},
     "output_type": "execute_result"
    },
    {
     "data": {
      "text/plain": [
       "1"
      ]
     },
     "execution_count": 268,
     "metadata": {},
     "output_type": "execute_result"
    },
    {
     "data": {
      "text/plain": [
       "1"
      ]
     },
     "execution_count": 268,
     "metadata": {},
     "output_type": "execute_result"
    },
    {
     "data": {
      "text/plain": [
       "1"
      ]
     },
     "execution_count": 268,
     "metadata": {},
     "output_type": "execute_result"
    },
    {
     "data": {
      "text/plain": [
       "1"
      ]
     },
     "execution_count": 268,
     "metadata": {},
     "output_type": "execute_result"
    },
    {
     "data": {
      "text/plain": [
       "1"
      ]
     },
     "execution_count": 268,
     "metadata": {},
     "output_type": "execute_result"
    },
    {
     "data": {
      "text/plain": [
       "1"
      ]
     },
     "execution_count": 268,
     "metadata": {},
     "output_type": "execute_result"
    },
    {
     "data": {
      "text/plain": [
       "1"
      ]
     },
     "execution_count": 268,
     "metadata": {},
     "output_type": "execute_result"
    },
    {
     "data": {
      "text/plain": [
       "1"
      ]
     },
     "execution_count": 268,
     "metadata": {},
     "output_type": "execute_result"
    },
    {
     "data": {
      "text/plain": [
       "1"
      ]
     },
     "execution_count": 268,
     "metadata": {},
     "output_type": "execute_result"
    },
    {
     "data": {
      "text/plain": [
       "1"
      ]
     },
     "execution_count": 268,
     "metadata": {},
     "output_type": "execute_result"
    },
    {
     "data": {
      "text/plain": [
       "1"
      ]
     },
     "execution_count": 268,
     "metadata": {},
     "output_type": "execute_result"
    },
    {
     "data": {
      "text/plain": [
       "1"
      ]
     },
     "execution_count": 268,
     "metadata": {},
     "output_type": "execute_result"
    },
    {
     "name": "stdout",
     "output_type": "stream",
     "text": [
      "committing to db\n"
     ]
    },
    {
     "data": {
      "text/plain": [
       "1"
      ]
     },
     "execution_count": 268,
     "metadata": {},
     "output_type": "execute_result"
    },
    {
     "data": {
      "text/plain": [
       "1"
      ]
     },
     "execution_count": 268,
     "metadata": {},
     "output_type": "execute_result"
    },
    {
     "data": {
      "text/plain": [
       "1"
      ]
     },
     "execution_count": 268,
     "metadata": {},
     "output_type": "execute_result"
    },
    {
     "data": {
      "text/plain": [
       "1"
      ]
     },
     "execution_count": 268,
     "metadata": {},
     "output_type": "execute_result"
    },
    {
     "data": {
      "text/plain": [
       "1"
      ]
     },
     "execution_count": 268,
     "metadata": {},
     "output_type": "execute_result"
    },
    {
     "data": {
      "text/plain": [
       "1"
      ]
     },
     "execution_count": 268,
     "metadata": {},
     "output_type": "execute_result"
    },
    {
     "data": {
      "text/plain": [
       "1"
      ]
     },
     "execution_count": 268,
     "metadata": {},
     "output_type": "execute_result"
    },
    {
     "data": {
      "text/plain": [
       "1"
      ]
     },
     "execution_count": 268,
     "metadata": {},
     "output_type": "execute_result"
    },
    {
     "data": {
      "text/plain": [
       "1"
      ]
     },
     "execution_count": 268,
     "metadata": {},
     "output_type": "execute_result"
    },
    {
     "data": {
      "text/plain": [
       "1"
      ]
     },
     "execution_count": 268,
     "metadata": {},
     "output_type": "execute_result"
    },
    {
     "data": {
      "text/plain": [
       "1"
      ]
     },
     "execution_count": 268,
     "metadata": {},
     "output_type": "execute_result"
    },
    {
     "data": {
      "text/plain": [
       "1"
      ]
     },
     "execution_count": 268,
     "metadata": {},
     "output_type": "execute_result"
    },
    {
     "data": {
      "text/plain": [
       "1"
      ]
     },
     "execution_count": 268,
     "metadata": {},
     "output_type": "execute_result"
    },
    {
     "data": {
      "text/plain": [
       "1"
      ]
     },
     "execution_count": 268,
     "metadata": {},
     "output_type": "execute_result"
    },
    {
     "data": {
      "text/plain": [
       "1"
      ]
     },
     "execution_count": 268,
     "metadata": {},
     "output_type": "execute_result"
    },
    {
     "data": {
      "text/plain": [
       "1"
      ]
     },
     "execution_count": 268,
     "metadata": {},
     "output_type": "execute_result"
    },
    {
     "data": {
      "text/plain": [
       "1"
      ]
     },
     "execution_count": 268,
     "metadata": {},
     "output_type": "execute_result"
    },
    {
     "data": {
      "text/plain": [
       "1"
      ]
     },
     "execution_count": 268,
     "metadata": {},
     "output_type": "execute_result"
    },
    {
     "data": {
      "text/plain": [
       "1"
      ]
     },
     "execution_count": 268,
     "metadata": {},
     "output_type": "execute_result"
    },
    {
     "data": {
      "text/plain": [
       "1"
      ]
     },
     "execution_count": 268,
     "metadata": {},
     "output_type": "execute_result"
    },
    {
     "data": {
      "text/plain": [
       "1"
      ]
     },
     "execution_count": 268,
     "metadata": {},
     "output_type": "execute_result"
    },
    {
     "data": {
      "text/plain": [
       "1"
      ]
     },
     "execution_count": 268,
     "metadata": {},
     "output_type": "execute_result"
    },
    {
     "data": {
      "text/plain": [
       "1"
      ]
     },
     "execution_count": 268,
     "metadata": {},
     "output_type": "execute_result"
    },
    {
     "data": {
      "text/plain": [
       "1"
      ]
     },
     "execution_count": 268,
     "metadata": {},
     "output_type": "execute_result"
    },
    {
     "data": {
      "text/plain": [
       "1"
      ]
     },
     "execution_count": 268,
     "metadata": {},
     "output_type": "execute_result"
    },
    {
     "data": {
      "text/plain": [
       "1"
      ]
     },
     "execution_count": 268,
     "metadata": {},
     "output_type": "execute_result"
    },
    {
     "data": {
      "text/plain": [
       "1"
      ]
     },
     "execution_count": 268,
     "metadata": {},
     "output_type": "execute_result"
    },
    {
     "data": {
      "text/plain": [
       "1"
      ]
     },
     "execution_count": 268,
     "metadata": {},
     "output_type": "execute_result"
    },
    {
     "data": {
      "text/plain": [
       "1"
      ]
     },
     "execution_count": 268,
     "metadata": {},
     "output_type": "execute_result"
    },
    {
     "data": {
      "text/plain": [
       "1"
      ]
     },
     "execution_count": 268,
     "metadata": {},
     "output_type": "execute_result"
    },
    {
     "data": {
      "text/plain": [
       "1"
      ]
     },
     "execution_count": 268,
     "metadata": {},
     "output_type": "execute_result"
    },
    {
     "data": {
      "text/plain": [
       "1"
      ]
     },
     "execution_count": 268,
     "metadata": {},
     "output_type": "execute_result"
    },
    {
     "data": {
      "text/plain": [
       "1"
      ]
     },
     "execution_count": 268,
     "metadata": {},
     "output_type": "execute_result"
    },
    {
     "data": {
      "text/plain": [
       "1"
      ]
     },
     "execution_count": 268,
     "metadata": {},
     "output_type": "execute_result"
    },
    {
     "data": {
      "text/plain": [
       "1"
      ]
     },
     "execution_count": 268,
     "metadata": {},
     "output_type": "execute_result"
    },
    {
     "data": {
      "text/plain": [
       "1"
      ]
     },
     "execution_count": 268,
     "metadata": {},
     "output_type": "execute_result"
    },
    {
     "data": {
      "text/plain": [
       "1"
      ]
     },
     "execution_count": 268,
     "metadata": {},
     "output_type": "execute_result"
    },
    {
     "data": {
      "text/plain": [
       "1"
      ]
     },
     "execution_count": 268,
     "metadata": {},
     "output_type": "execute_result"
    },
    {
     "data": {
      "text/plain": [
       "1"
      ]
     },
     "execution_count": 268,
     "metadata": {},
     "output_type": "execute_result"
    },
    {
     "data": {
      "text/plain": [
       "1"
      ]
     },
     "execution_count": 268,
     "metadata": {},
     "output_type": "execute_result"
    },
    {
     "data": {
      "text/plain": [
       "1"
      ]
     },
     "execution_count": 268,
     "metadata": {},
     "output_type": "execute_result"
    },
    {
     "data": {
      "text/plain": [
       "1"
      ]
     },
     "execution_count": 268,
     "metadata": {},
     "output_type": "execute_result"
    },
    {
     "data": {
      "text/plain": [
       "1"
      ]
     },
     "execution_count": 268,
     "metadata": {},
     "output_type": "execute_result"
    },
    {
     "data": {
      "text/plain": [
       "1"
      ]
     },
     "execution_count": 268,
     "metadata": {},
     "output_type": "execute_result"
    },
    {
     "data": {
      "text/plain": [
       "1"
      ]
     },
     "execution_count": 268,
     "metadata": {},
     "output_type": "execute_result"
    },
    {
     "data": {
      "text/plain": [
       "1"
      ]
     },
     "execution_count": 268,
     "metadata": {},
     "output_type": "execute_result"
    },
    {
     "data": {
      "text/plain": [
       "1"
      ]
     },
     "execution_count": 268,
     "metadata": {},
     "output_type": "execute_result"
    },
    {
     "data": {
      "text/plain": [
       "1"
      ]
     },
     "execution_count": 268,
     "metadata": {},
     "output_type": "execute_result"
    },
    {
     "data": {
      "text/plain": [
       "1"
      ]
     },
     "execution_count": 268,
     "metadata": {},
     "output_type": "execute_result"
    },
    {
     "data": {
      "text/plain": [
       "1"
      ]
     },
     "execution_count": 268,
     "metadata": {},
     "output_type": "execute_result"
    },
    {
     "name": "stdout",
     "output_type": "stream",
     "text": [
      "committing to db\n"
     ]
    },
    {
     "data": {
      "text/plain": [
       "1"
      ]
     },
     "execution_count": 268,
     "metadata": {},
     "output_type": "execute_result"
    },
    {
     "data": {
      "text/plain": [
       "1"
      ]
     },
     "execution_count": 268,
     "metadata": {},
     "output_type": "execute_result"
    },
    {
     "data": {
      "text/plain": [
       "1"
      ]
     },
     "execution_count": 268,
     "metadata": {},
     "output_type": "execute_result"
    },
    {
     "data": {
      "text/plain": [
       "1"
      ]
     },
     "execution_count": 268,
     "metadata": {},
     "output_type": "execute_result"
    },
    {
     "data": {
      "text/plain": [
       "1"
      ]
     },
     "execution_count": 268,
     "metadata": {},
     "output_type": "execute_result"
    },
    {
     "data": {
      "text/plain": [
       "1"
      ]
     },
     "execution_count": 268,
     "metadata": {},
     "output_type": "execute_result"
    },
    {
     "data": {
      "text/plain": [
       "1"
      ]
     },
     "execution_count": 268,
     "metadata": {},
     "output_type": "execute_result"
    },
    {
     "data": {
      "text/plain": [
       "1"
      ]
     },
     "execution_count": 268,
     "metadata": {},
     "output_type": "execute_result"
    },
    {
     "data": {
      "text/plain": [
       "1"
      ]
     },
     "execution_count": 268,
     "metadata": {},
     "output_type": "execute_result"
    },
    {
     "data": {
      "text/plain": [
       "1"
      ]
     },
     "execution_count": 268,
     "metadata": {},
     "output_type": "execute_result"
    },
    {
     "data": {
      "text/plain": [
       "1"
      ]
     },
     "execution_count": 268,
     "metadata": {},
     "output_type": "execute_result"
    },
    {
     "data": {
      "text/plain": [
       "1"
      ]
     },
     "execution_count": 268,
     "metadata": {},
     "output_type": "execute_result"
    },
    {
     "data": {
      "text/plain": [
       "1"
      ]
     },
     "execution_count": 268,
     "metadata": {},
     "output_type": "execute_result"
    },
    {
     "data": {
      "text/plain": [
       "1"
      ]
     },
     "execution_count": 268,
     "metadata": {},
     "output_type": "execute_result"
    },
    {
     "data": {
      "text/plain": [
       "1"
      ]
     },
     "execution_count": 268,
     "metadata": {},
     "output_type": "execute_result"
    },
    {
     "data": {
      "text/plain": [
       "1"
      ]
     },
     "execution_count": 268,
     "metadata": {},
     "output_type": "execute_result"
    },
    {
     "data": {
      "text/plain": [
       "1"
      ]
     },
     "execution_count": 268,
     "metadata": {},
     "output_type": "execute_result"
    },
    {
     "data": {
      "text/plain": [
       "1"
      ]
     },
     "execution_count": 268,
     "metadata": {},
     "output_type": "execute_result"
    },
    {
     "data": {
      "text/plain": [
       "1"
      ]
     },
     "execution_count": 268,
     "metadata": {},
     "output_type": "execute_result"
    },
    {
     "data": {
      "text/plain": [
       "1"
      ]
     },
     "execution_count": 268,
     "metadata": {},
     "output_type": "execute_result"
    },
    {
     "data": {
      "text/plain": [
       "1"
      ]
     },
     "execution_count": 268,
     "metadata": {},
     "output_type": "execute_result"
    },
    {
     "data": {
      "text/plain": [
       "1"
      ]
     },
     "execution_count": 268,
     "metadata": {},
     "output_type": "execute_result"
    },
    {
     "data": {
      "text/plain": [
       "1"
      ]
     },
     "execution_count": 268,
     "metadata": {},
     "output_type": "execute_result"
    },
    {
     "data": {
      "text/plain": [
       "1"
      ]
     },
     "execution_count": 268,
     "metadata": {},
     "output_type": "execute_result"
    },
    {
     "data": {
      "text/plain": [
       "1"
      ]
     },
     "execution_count": 268,
     "metadata": {},
     "output_type": "execute_result"
    },
    {
     "data": {
      "text/plain": [
       "1"
      ]
     },
     "execution_count": 268,
     "metadata": {},
     "output_type": "execute_result"
    },
    {
     "data": {
      "text/plain": [
       "1"
      ]
     },
     "execution_count": 268,
     "metadata": {},
     "output_type": "execute_result"
    },
    {
     "data": {
      "text/plain": [
       "1"
      ]
     },
     "execution_count": 268,
     "metadata": {},
     "output_type": "execute_result"
    },
    {
     "data": {
      "text/plain": [
       "1"
      ]
     },
     "execution_count": 268,
     "metadata": {},
     "output_type": "execute_result"
    },
    {
     "data": {
      "text/plain": [
       "1"
      ]
     },
     "execution_count": 268,
     "metadata": {},
     "output_type": "execute_result"
    },
    {
     "data": {
      "text/plain": [
       "1"
      ]
     },
     "execution_count": 268,
     "metadata": {},
     "output_type": "execute_result"
    },
    {
     "data": {
      "text/plain": [
       "1"
      ]
     },
     "execution_count": 268,
     "metadata": {},
     "output_type": "execute_result"
    },
    {
     "data": {
      "text/plain": [
       "1"
      ]
     },
     "execution_count": 268,
     "metadata": {},
     "output_type": "execute_result"
    },
    {
     "data": {
      "text/plain": [
       "1"
      ]
     },
     "execution_count": 268,
     "metadata": {},
     "output_type": "execute_result"
    },
    {
     "data": {
      "text/plain": [
       "1"
      ]
     },
     "execution_count": 268,
     "metadata": {},
     "output_type": "execute_result"
    },
    {
     "data": {
      "text/plain": [
       "1"
      ]
     },
     "execution_count": 268,
     "metadata": {},
     "output_type": "execute_result"
    },
    {
     "data": {
      "text/plain": [
       "1"
      ]
     },
     "execution_count": 268,
     "metadata": {},
     "output_type": "execute_result"
    },
    {
     "data": {
      "text/plain": [
       "1"
      ]
     },
     "execution_count": 268,
     "metadata": {},
     "output_type": "execute_result"
    },
    {
     "data": {
      "text/plain": [
       "1"
      ]
     },
     "execution_count": 268,
     "metadata": {},
     "output_type": "execute_result"
    },
    {
     "data": {
      "text/plain": [
       "1"
      ]
     },
     "execution_count": 268,
     "metadata": {},
     "output_type": "execute_result"
    },
    {
     "data": {
      "text/plain": [
       "1"
      ]
     },
     "execution_count": 268,
     "metadata": {},
     "output_type": "execute_result"
    },
    {
     "data": {
      "text/plain": [
       "1"
      ]
     },
     "execution_count": 268,
     "metadata": {},
     "output_type": "execute_result"
    },
    {
     "data": {
      "text/plain": [
       "1"
      ]
     },
     "execution_count": 268,
     "metadata": {},
     "output_type": "execute_result"
    },
    {
     "data": {
      "text/plain": [
       "1"
      ]
     },
     "execution_count": 268,
     "metadata": {},
     "output_type": "execute_result"
    },
    {
     "data": {
      "text/plain": [
       "1"
      ]
     },
     "execution_count": 268,
     "metadata": {},
     "output_type": "execute_result"
    },
    {
     "data": {
      "text/plain": [
       "1"
      ]
     },
     "execution_count": 268,
     "metadata": {},
     "output_type": "execute_result"
    },
    {
     "data": {
      "text/plain": [
       "1"
      ]
     },
     "execution_count": 268,
     "metadata": {},
     "output_type": "execute_result"
    },
    {
     "data": {
      "text/plain": [
       "1"
      ]
     },
     "execution_count": 268,
     "metadata": {},
     "output_type": "execute_result"
    },
    {
     "data": {
      "text/plain": [
       "1"
      ]
     },
     "execution_count": 268,
     "metadata": {},
     "output_type": "execute_result"
    },
    {
     "data": {
      "text/plain": [
       "1"
      ]
     },
     "execution_count": 268,
     "metadata": {},
     "output_type": "execute_result"
    },
    {
     "name": "stdout",
     "output_type": "stream",
     "text": [
      "committing to db\n"
     ]
    },
    {
     "data": {
      "text/plain": [
       "1"
      ]
     },
     "execution_count": 268,
     "metadata": {},
     "output_type": "execute_result"
    },
    {
     "data": {
      "text/plain": [
       "1"
      ]
     },
     "execution_count": 268,
     "metadata": {},
     "output_type": "execute_result"
    },
    {
     "data": {
      "text/plain": [
       "1"
      ]
     },
     "execution_count": 268,
     "metadata": {},
     "output_type": "execute_result"
    },
    {
     "data": {
      "text/plain": [
       "1"
      ]
     },
     "execution_count": 268,
     "metadata": {},
     "output_type": "execute_result"
    },
    {
     "data": {
      "text/plain": [
       "1"
      ]
     },
     "execution_count": 268,
     "metadata": {},
     "output_type": "execute_result"
    },
    {
     "data": {
      "text/plain": [
       "1"
      ]
     },
     "execution_count": 268,
     "metadata": {},
     "output_type": "execute_result"
    },
    {
     "data": {
      "text/plain": [
       "1"
      ]
     },
     "execution_count": 268,
     "metadata": {},
     "output_type": "execute_result"
    },
    {
     "data": {
      "text/plain": [
       "1"
      ]
     },
     "execution_count": 268,
     "metadata": {},
     "output_type": "execute_result"
    },
    {
     "data": {
      "text/plain": [
       "1"
      ]
     },
     "execution_count": 268,
     "metadata": {},
     "output_type": "execute_result"
    },
    {
     "data": {
      "text/plain": [
       "1"
      ]
     },
     "execution_count": 268,
     "metadata": {},
     "output_type": "execute_result"
    },
    {
     "data": {
      "text/plain": [
       "1"
      ]
     },
     "execution_count": 268,
     "metadata": {},
     "output_type": "execute_result"
    },
    {
     "data": {
      "text/plain": [
       "1"
      ]
     },
     "execution_count": 268,
     "metadata": {},
     "output_type": "execute_result"
    },
    {
     "data": {
      "text/plain": [
       "1"
      ]
     },
     "execution_count": 268,
     "metadata": {},
     "output_type": "execute_result"
    },
    {
     "data": {
      "text/plain": [
       "1"
      ]
     },
     "execution_count": 268,
     "metadata": {},
     "output_type": "execute_result"
    },
    {
     "data": {
      "text/plain": [
       "1"
      ]
     },
     "execution_count": 268,
     "metadata": {},
     "output_type": "execute_result"
    },
    {
     "data": {
      "text/plain": [
       "1"
      ]
     },
     "execution_count": 268,
     "metadata": {},
     "output_type": "execute_result"
    },
    {
     "data": {
      "text/plain": [
       "1"
      ]
     },
     "execution_count": 268,
     "metadata": {},
     "output_type": "execute_result"
    },
    {
     "data": {
      "text/plain": [
       "1"
      ]
     },
     "execution_count": 268,
     "metadata": {},
     "output_type": "execute_result"
    },
    {
     "data": {
      "text/plain": [
       "1"
      ]
     },
     "execution_count": 268,
     "metadata": {},
     "output_type": "execute_result"
    },
    {
     "data": {
      "text/plain": [
       "1"
      ]
     },
     "execution_count": 268,
     "metadata": {},
     "output_type": "execute_result"
    },
    {
     "data": {
      "text/plain": [
       "1"
      ]
     },
     "execution_count": 268,
     "metadata": {},
     "output_type": "execute_result"
    },
    {
     "data": {
      "text/plain": [
       "1"
      ]
     },
     "execution_count": 268,
     "metadata": {},
     "output_type": "execute_result"
    },
    {
     "data": {
      "text/plain": [
       "1"
      ]
     },
     "execution_count": 268,
     "metadata": {},
     "output_type": "execute_result"
    },
    {
     "data": {
      "text/plain": [
       "1"
      ]
     },
     "execution_count": 268,
     "metadata": {},
     "output_type": "execute_result"
    },
    {
     "data": {
      "text/plain": [
       "1"
      ]
     },
     "execution_count": 268,
     "metadata": {},
     "output_type": "execute_result"
    },
    {
     "data": {
      "text/plain": [
       "1"
      ]
     },
     "execution_count": 268,
     "metadata": {},
     "output_type": "execute_result"
    },
    {
     "data": {
      "text/plain": [
       "1"
      ]
     },
     "execution_count": 268,
     "metadata": {},
     "output_type": "execute_result"
    },
    {
     "data": {
      "text/plain": [
       "1"
      ]
     },
     "execution_count": 268,
     "metadata": {},
     "output_type": "execute_result"
    },
    {
     "data": {
      "text/plain": [
       "1"
      ]
     },
     "execution_count": 268,
     "metadata": {},
     "output_type": "execute_result"
    },
    {
     "data": {
      "text/plain": [
       "1"
      ]
     },
     "execution_count": 268,
     "metadata": {},
     "output_type": "execute_result"
    },
    {
     "data": {
      "text/plain": [
       "1"
      ]
     },
     "execution_count": 268,
     "metadata": {},
     "output_type": "execute_result"
    },
    {
     "data": {
      "text/plain": [
       "1"
      ]
     },
     "execution_count": 268,
     "metadata": {},
     "output_type": "execute_result"
    },
    {
     "data": {
      "text/plain": [
       "1"
      ]
     },
     "execution_count": 268,
     "metadata": {},
     "output_type": "execute_result"
    },
    {
     "data": {
      "text/plain": [
       "1"
      ]
     },
     "execution_count": 268,
     "metadata": {},
     "output_type": "execute_result"
    },
    {
     "data": {
      "text/plain": [
       "1"
      ]
     },
     "execution_count": 268,
     "metadata": {},
     "output_type": "execute_result"
    },
    {
     "data": {
      "text/plain": [
       "1"
      ]
     },
     "execution_count": 268,
     "metadata": {},
     "output_type": "execute_result"
    },
    {
     "data": {
      "text/plain": [
       "1"
      ]
     },
     "execution_count": 268,
     "metadata": {},
     "output_type": "execute_result"
    },
    {
     "data": {
      "text/plain": [
       "1"
      ]
     },
     "execution_count": 268,
     "metadata": {},
     "output_type": "execute_result"
    },
    {
     "data": {
      "text/plain": [
       "1"
      ]
     },
     "execution_count": 268,
     "metadata": {},
     "output_type": "execute_result"
    },
    {
     "data": {
      "text/plain": [
       "1"
      ]
     },
     "execution_count": 268,
     "metadata": {},
     "output_type": "execute_result"
    },
    {
     "data": {
      "text/plain": [
       "1"
      ]
     },
     "execution_count": 268,
     "metadata": {},
     "output_type": "execute_result"
    },
    {
     "data": {
      "text/plain": [
       "1"
      ]
     },
     "execution_count": 268,
     "metadata": {},
     "output_type": "execute_result"
    },
    {
     "data": {
      "text/plain": [
       "1"
      ]
     },
     "execution_count": 268,
     "metadata": {},
     "output_type": "execute_result"
    },
    {
     "data": {
      "text/plain": [
       "1"
      ]
     },
     "execution_count": 268,
     "metadata": {},
     "output_type": "execute_result"
    },
    {
     "data": {
      "text/plain": [
       "1"
      ]
     },
     "execution_count": 268,
     "metadata": {},
     "output_type": "execute_result"
    },
    {
     "data": {
      "text/plain": [
       "1"
      ]
     },
     "execution_count": 268,
     "metadata": {},
     "output_type": "execute_result"
    },
    {
     "data": {
      "text/plain": [
       "1"
      ]
     },
     "execution_count": 268,
     "metadata": {},
     "output_type": "execute_result"
    },
    {
     "data": {
      "text/plain": [
       "1"
      ]
     },
     "execution_count": 268,
     "metadata": {},
     "output_type": "execute_result"
    },
    {
     "data": {
      "text/plain": [
       "1"
      ]
     },
     "execution_count": 268,
     "metadata": {},
     "output_type": "execute_result"
    },
    {
     "data": {
      "text/plain": [
       "1"
      ]
     },
     "execution_count": 268,
     "metadata": {},
     "output_type": "execute_result"
    },
    {
     "name": "stdout",
     "output_type": "stream",
     "text": [
      "committing to db\n"
     ]
    },
    {
     "data": {
      "text/plain": [
       "1"
      ]
     },
     "execution_count": 268,
     "metadata": {},
     "output_type": "execute_result"
    },
    {
     "data": {
      "text/plain": [
       "1"
      ]
     },
     "execution_count": 268,
     "metadata": {},
     "output_type": "execute_result"
    },
    {
     "data": {
      "text/plain": [
       "1"
      ]
     },
     "execution_count": 268,
     "metadata": {},
     "output_type": "execute_result"
    },
    {
     "data": {
      "text/plain": [
       "1"
      ]
     },
     "execution_count": 268,
     "metadata": {},
     "output_type": "execute_result"
    },
    {
     "data": {
      "text/plain": [
       "1"
      ]
     },
     "execution_count": 268,
     "metadata": {},
     "output_type": "execute_result"
    },
    {
     "data": {
      "text/plain": [
       "1"
      ]
     },
     "execution_count": 268,
     "metadata": {},
     "output_type": "execute_result"
    },
    {
     "data": {
      "text/plain": [
       "1"
      ]
     },
     "execution_count": 268,
     "metadata": {},
     "output_type": "execute_result"
    },
    {
     "data": {
      "text/plain": [
       "1"
      ]
     },
     "execution_count": 268,
     "metadata": {},
     "output_type": "execute_result"
    },
    {
     "data": {
      "text/plain": [
       "1"
      ]
     },
     "execution_count": 268,
     "metadata": {},
     "output_type": "execute_result"
    },
    {
     "data": {
      "text/plain": [
       "1"
      ]
     },
     "execution_count": 268,
     "metadata": {},
     "output_type": "execute_result"
    },
    {
     "data": {
      "text/plain": [
       "1"
      ]
     },
     "execution_count": 268,
     "metadata": {},
     "output_type": "execute_result"
    },
    {
     "data": {
      "text/plain": [
       "1"
      ]
     },
     "execution_count": 268,
     "metadata": {},
     "output_type": "execute_result"
    },
    {
     "data": {
      "text/plain": [
       "1"
      ]
     },
     "execution_count": 268,
     "metadata": {},
     "output_type": "execute_result"
    },
    {
     "data": {
      "text/plain": [
       "1"
      ]
     },
     "execution_count": 268,
     "metadata": {},
     "output_type": "execute_result"
    },
    {
     "data": {
      "text/plain": [
       "1"
      ]
     },
     "execution_count": 268,
     "metadata": {},
     "output_type": "execute_result"
    },
    {
     "data": {
      "text/plain": [
       "1"
      ]
     },
     "execution_count": 268,
     "metadata": {},
     "output_type": "execute_result"
    },
    {
     "data": {
      "text/plain": [
       "1"
      ]
     },
     "execution_count": 268,
     "metadata": {},
     "output_type": "execute_result"
    },
    {
     "data": {
      "text/plain": [
       "1"
      ]
     },
     "execution_count": 268,
     "metadata": {},
     "output_type": "execute_result"
    },
    {
     "data": {
      "text/plain": [
       "1"
      ]
     },
     "execution_count": 268,
     "metadata": {},
     "output_type": "execute_result"
    },
    {
     "data": {
      "text/plain": [
       "1"
      ]
     },
     "execution_count": 268,
     "metadata": {},
     "output_type": "execute_result"
    },
    {
     "data": {
      "text/plain": [
       "1"
      ]
     },
     "execution_count": 268,
     "metadata": {},
     "output_type": "execute_result"
    },
    {
     "data": {
      "text/plain": [
       "1"
      ]
     },
     "execution_count": 268,
     "metadata": {},
     "output_type": "execute_result"
    },
    {
     "data": {
      "text/plain": [
       "1"
      ]
     },
     "execution_count": 268,
     "metadata": {},
     "output_type": "execute_result"
    },
    {
     "data": {
      "text/plain": [
       "1"
      ]
     },
     "execution_count": 268,
     "metadata": {},
     "output_type": "execute_result"
    },
    {
     "data": {
      "text/plain": [
       "1"
      ]
     },
     "execution_count": 268,
     "metadata": {},
     "output_type": "execute_result"
    },
    {
     "data": {
      "text/plain": [
       "1"
      ]
     },
     "execution_count": 268,
     "metadata": {},
     "output_type": "execute_result"
    },
    {
     "data": {
      "text/plain": [
       "1"
      ]
     },
     "execution_count": 268,
     "metadata": {},
     "output_type": "execute_result"
    },
    {
     "data": {
      "text/plain": [
       "1"
      ]
     },
     "execution_count": 268,
     "metadata": {},
     "output_type": "execute_result"
    },
    {
     "data": {
      "text/plain": [
       "1"
      ]
     },
     "execution_count": 268,
     "metadata": {},
     "output_type": "execute_result"
    },
    {
     "data": {
      "text/plain": [
       "1"
      ]
     },
     "execution_count": 268,
     "metadata": {},
     "output_type": "execute_result"
    },
    {
     "data": {
      "text/plain": [
       "1"
      ]
     },
     "execution_count": 268,
     "metadata": {},
     "output_type": "execute_result"
    },
    {
     "data": {
      "text/plain": [
       "1"
      ]
     },
     "execution_count": 268,
     "metadata": {},
     "output_type": "execute_result"
    },
    {
     "data": {
      "text/plain": [
       "1"
      ]
     },
     "execution_count": 268,
     "metadata": {},
     "output_type": "execute_result"
    },
    {
     "data": {
      "text/plain": [
       "1"
      ]
     },
     "execution_count": 268,
     "metadata": {},
     "output_type": "execute_result"
    },
    {
     "data": {
      "text/plain": [
       "1"
      ]
     },
     "execution_count": 268,
     "metadata": {},
     "output_type": "execute_result"
    },
    {
     "data": {
      "text/plain": [
       "1"
      ]
     },
     "execution_count": 268,
     "metadata": {},
     "output_type": "execute_result"
    },
    {
     "data": {
      "text/plain": [
       "1"
      ]
     },
     "execution_count": 268,
     "metadata": {},
     "output_type": "execute_result"
    },
    {
     "data": {
      "text/plain": [
       "1"
      ]
     },
     "execution_count": 268,
     "metadata": {},
     "output_type": "execute_result"
    },
    {
     "data": {
      "text/plain": [
       "1"
      ]
     },
     "execution_count": 268,
     "metadata": {},
     "output_type": "execute_result"
    },
    {
     "data": {
      "text/plain": [
       "1"
      ]
     },
     "execution_count": 268,
     "metadata": {},
     "output_type": "execute_result"
    },
    {
     "data": {
      "text/plain": [
       "1"
      ]
     },
     "execution_count": 268,
     "metadata": {},
     "output_type": "execute_result"
    },
    {
     "data": {
      "text/plain": [
       "1"
      ]
     },
     "execution_count": 268,
     "metadata": {},
     "output_type": "execute_result"
    },
    {
     "data": {
      "text/plain": [
       "1"
      ]
     },
     "execution_count": 268,
     "metadata": {},
     "output_type": "execute_result"
    },
    {
     "data": {
      "text/plain": [
       "1"
      ]
     },
     "execution_count": 268,
     "metadata": {},
     "output_type": "execute_result"
    },
    {
     "data": {
      "text/plain": [
       "1"
      ]
     },
     "execution_count": 268,
     "metadata": {},
     "output_type": "execute_result"
    },
    {
     "data": {
      "text/plain": [
       "1"
      ]
     },
     "execution_count": 268,
     "metadata": {},
     "output_type": "execute_result"
    },
    {
     "data": {
      "text/plain": [
       "1"
      ]
     },
     "execution_count": 268,
     "metadata": {},
     "output_type": "execute_result"
    },
    {
     "data": {
      "text/plain": [
       "1"
      ]
     },
     "execution_count": 268,
     "metadata": {},
     "output_type": "execute_result"
    },
    {
     "data": {
      "text/plain": [
       "1"
      ]
     },
     "execution_count": 268,
     "metadata": {},
     "output_type": "execute_result"
    },
    {
     "data": {
      "text/plain": [
       "1"
      ]
     },
     "execution_count": 268,
     "metadata": {},
     "output_type": "execute_result"
    },
    {
     "name": "stdout",
     "output_type": "stream",
     "text": [
      "committing to db\n"
     ]
    },
    {
     "data": {
      "text/plain": [
       "1"
      ]
     },
     "execution_count": 268,
     "metadata": {},
     "output_type": "execute_result"
    },
    {
     "data": {
      "text/plain": [
       "1"
      ]
     },
     "execution_count": 268,
     "metadata": {},
     "output_type": "execute_result"
    },
    {
     "data": {
      "text/plain": [
       "1"
      ]
     },
     "execution_count": 268,
     "metadata": {},
     "output_type": "execute_result"
    },
    {
     "data": {
      "text/plain": [
       "1"
      ]
     },
     "execution_count": 268,
     "metadata": {},
     "output_type": "execute_result"
    },
    {
     "data": {
      "text/plain": [
       "1"
      ]
     },
     "execution_count": 268,
     "metadata": {},
     "output_type": "execute_result"
    },
    {
     "data": {
      "text/plain": [
       "1"
      ]
     },
     "execution_count": 268,
     "metadata": {},
     "output_type": "execute_result"
    },
    {
     "data": {
      "text/plain": [
       "1"
      ]
     },
     "execution_count": 268,
     "metadata": {},
     "output_type": "execute_result"
    },
    {
     "data": {
      "text/plain": [
       "1"
      ]
     },
     "execution_count": 268,
     "metadata": {},
     "output_type": "execute_result"
    },
    {
     "data": {
      "text/plain": [
       "1"
      ]
     },
     "execution_count": 268,
     "metadata": {},
     "output_type": "execute_result"
    },
    {
     "data": {
      "text/plain": [
       "1"
      ]
     },
     "execution_count": 268,
     "metadata": {},
     "output_type": "execute_result"
    },
    {
     "data": {
      "text/plain": [
       "1"
      ]
     },
     "execution_count": 268,
     "metadata": {},
     "output_type": "execute_result"
    },
    {
     "data": {
      "text/plain": [
       "1"
      ]
     },
     "execution_count": 268,
     "metadata": {},
     "output_type": "execute_result"
    },
    {
     "data": {
      "text/plain": [
       "1"
      ]
     },
     "execution_count": 268,
     "metadata": {},
     "output_type": "execute_result"
    },
    {
     "data": {
      "text/plain": [
       "1"
      ]
     },
     "execution_count": 268,
     "metadata": {},
     "output_type": "execute_result"
    },
    {
     "data": {
      "text/plain": [
       "1"
      ]
     },
     "execution_count": 268,
     "metadata": {},
     "output_type": "execute_result"
    },
    {
     "data": {
      "text/plain": [
       "1"
      ]
     },
     "execution_count": 268,
     "metadata": {},
     "output_type": "execute_result"
    },
    {
     "data": {
      "text/plain": [
       "1"
      ]
     },
     "execution_count": 268,
     "metadata": {},
     "output_type": "execute_result"
    },
    {
     "data": {
      "text/plain": [
       "1"
      ]
     },
     "execution_count": 268,
     "metadata": {},
     "output_type": "execute_result"
    },
    {
     "data": {
      "text/plain": [
       "1"
      ]
     },
     "execution_count": 268,
     "metadata": {},
     "output_type": "execute_result"
    },
    {
     "data": {
      "text/plain": [
       "1"
      ]
     },
     "execution_count": 268,
     "metadata": {},
     "output_type": "execute_result"
    },
    {
     "data": {
      "text/plain": [
       "1"
      ]
     },
     "execution_count": 268,
     "metadata": {},
     "output_type": "execute_result"
    },
    {
     "data": {
      "text/plain": [
       "1"
      ]
     },
     "execution_count": 268,
     "metadata": {},
     "output_type": "execute_result"
    },
    {
     "data": {
      "text/plain": [
       "1"
      ]
     },
     "execution_count": 268,
     "metadata": {},
     "output_type": "execute_result"
    },
    {
     "data": {
      "text/plain": [
       "1"
      ]
     },
     "execution_count": 268,
     "metadata": {},
     "output_type": "execute_result"
    },
    {
     "data": {
      "text/plain": [
       "1"
      ]
     },
     "execution_count": 268,
     "metadata": {},
     "output_type": "execute_result"
    },
    {
     "data": {
      "text/plain": [
       "1"
      ]
     },
     "execution_count": 268,
     "metadata": {},
     "output_type": "execute_result"
    },
    {
     "data": {
      "text/plain": [
       "1"
      ]
     },
     "execution_count": 268,
     "metadata": {},
     "output_type": "execute_result"
    },
    {
     "data": {
      "text/plain": [
       "1"
      ]
     },
     "execution_count": 268,
     "metadata": {},
     "output_type": "execute_result"
    },
    {
     "data": {
      "text/plain": [
       "1"
      ]
     },
     "execution_count": 268,
     "metadata": {},
     "output_type": "execute_result"
    },
    {
     "data": {
      "text/plain": [
       "1"
      ]
     },
     "execution_count": 268,
     "metadata": {},
     "output_type": "execute_result"
    },
    {
     "data": {
      "text/plain": [
       "1"
      ]
     },
     "execution_count": 268,
     "metadata": {},
     "output_type": "execute_result"
    },
    {
     "data": {
      "text/plain": [
       "1"
      ]
     },
     "execution_count": 268,
     "metadata": {},
     "output_type": "execute_result"
    },
    {
     "data": {
      "text/plain": [
       "1"
      ]
     },
     "execution_count": 268,
     "metadata": {},
     "output_type": "execute_result"
    },
    {
     "data": {
      "text/plain": [
       "1"
      ]
     },
     "execution_count": 268,
     "metadata": {},
     "output_type": "execute_result"
    },
    {
     "data": {
      "text/plain": [
       "1"
      ]
     },
     "execution_count": 268,
     "metadata": {},
     "output_type": "execute_result"
    },
    {
     "data": {
      "text/plain": [
       "1"
      ]
     },
     "execution_count": 268,
     "metadata": {},
     "output_type": "execute_result"
    },
    {
     "data": {
      "text/plain": [
       "1"
      ]
     },
     "execution_count": 268,
     "metadata": {},
     "output_type": "execute_result"
    },
    {
     "data": {
      "text/plain": [
       "1"
      ]
     },
     "execution_count": 268,
     "metadata": {},
     "output_type": "execute_result"
    },
    {
     "data": {
      "text/plain": [
       "1"
      ]
     },
     "execution_count": 268,
     "metadata": {},
     "output_type": "execute_result"
    },
    {
     "data": {
      "text/plain": [
       "1"
      ]
     },
     "execution_count": 268,
     "metadata": {},
     "output_type": "execute_result"
    },
    {
     "data": {
      "text/plain": [
       "1"
      ]
     },
     "execution_count": 268,
     "metadata": {},
     "output_type": "execute_result"
    },
    {
     "data": {
      "text/plain": [
       "1"
      ]
     },
     "execution_count": 268,
     "metadata": {},
     "output_type": "execute_result"
    },
    {
     "data": {
      "text/plain": [
       "1"
      ]
     },
     "execution_count": 268,
     "metadata": {},
     "output_type": "execute_result"
    },
    {
     "data": {
      "text/plain": [
       "1"
      ]
     },
     "execution_count": 268,
     "metadata": {},
     "output_type": "execute_result"
    },
    {
     "data": {
      "text/plain": [
       "1"
      ]
     },
     "execution_count": 268,
     "metadata": {},
     "output_type": "execute_result"
    },
    {
     "data": {
      "text/plain": [
       "1"
      ]
     },
     "execution_count": 268,
     "metadata": {},
     "output_type": "execute_result"
    },
    {
     "data": {
      "text/plain": [
       "1"
      ]
     },
     "execution_count": 268,
     "metadata": {},
     "output_type": "execute_result"
    },
    {
     "data": {
      "text/plain": [
       "1"
      ]
     },
     "execution_count": 268,
     "metadata": {},
     "output_type": "execute_result"
    },
    {
     "data": {
      "text/plain": [
       "1"
      ]
     },
     "execution_count": 268,
     "metadata": {},
     "output_type": "execute_result"
    },
    {
     "data": {
      "text/plain": [
       "1"
      ]
     },
     "execution_count": 268,
     "metadata": {},
     "output_type": "execute_result"
    },
    {
     "name": "stdout",
     "output_type": "stream",
     "text": [
      "committing to db\n"
     ]
    },
    {
     "data": {
      "text/plain": [
       "1"
      ]
     },
     "execution_count": 268,
     "metadata": {},
     "output_type": "execute_result"
    },
    {
     "data": {
      "text/plain": [
       "1"
      ]
     },
     "execution_count": 268,
     "metadata": {},
     "output_type": "execute_result"
    },
    {
     "data": {
      "text/plain": [
       "1"
      ]
     },
     "execution_count": 268,
     "metadata": {},
     "output_type": "execute_result"
    },
    {
     "data": {
      "text/plain": [
       "1"
      ]
     },
     "execution_count": 268,
     "metadata": {},
     "output_type": "execute_result"
    },
    {
     "data": {
      "text/plain": [
       "1"
      ]
     },
     "execution_count": 268,
     "metadata": {},
     "output_type": "execute_result"
    },
    {
     "data": {
      "text/plain": [
       "1"
      ]
     },
     "execution_count": 268,
     "metadata": {},
     "output_type": "execute_result"
    },
    {
     "data": {
      "text/plain": [
       "1"
      ]
     },
     "execution_count": 268,
     "metadata": {},
     "output_type": "execute_result"
    },
    {
     "data": {
      "text/plain": [
       "1"
      ]
     },
     "execution_count": 268,
     "metadata": {},
     "output_type": "execute_result"
    },
    {
     "data": {
      "text/plain": [
       "1"
      ]
     },
     "execution_count": 268,
     "metadata": {},
     "output_type": "execute_result"
    },
    {
     "data": {
      "text/plain": [
       "1"
      ]
     },
     "execution_count": 268,
     "metadata": {},
     "output_type": "execute_result"
    },
    {
     "data": {
      "text/plain": [
       "1"
      ]
     },
     "execution_count": 268,
     "metadata": {},
     "output_type": "execute_result"
    },
    {
     "data": {
      "text/plain": [
       "1"
      ]
     },
     "execution_count": 268,
     "metadata": {},
     "output_type": "execute_result"
    },
    {
     "data": {
      "text/plain": [
       "1"
      ]
     },
     "execution_count": 268,
     "metadata": {},
     "output_type": "execute_result"
    },
    {
     "data": {
      "text/plain": [
       "1"
      ]
     },
     "execution_count": 268,
     "metadata": {},
     "output_type": "execute_result"
    },
    {
     "data": {
      "text/plain": [
       "1"
      ]
     },
     "execution_count": 268,
     "metadata": {},
     "output_type": "execute_result"
    },
    {
     "data": {
      "text/plain": [
       "1"
      ]
     },
     "execution_count": 268,
     "metadata": {},
     "output_type": "execute_result"
    },
    {
     "data": {
      "text/plain": [
       "1"
      ]
     },
     "execution_count": 268,
     "metadata": {},
     "output_type": "execute_result"
    },
    {
     "data": {
      "text/plain": [
       "1"
      ]
     },
     "execution_count": 268,
     "metadata": {},
     "output_type": "execute_result"
    },
    {
     "data": {
      "text/plain": [
       "1"
      ]
     },
     "execution_count": 268,
     "metadata": {},
     "output_type": "execute_result"
    },
    {
     "data": {
      "text/plain": [
       "1"
      ]
     },
     "execution_count": 268,
     "metadata": {},
     "output_type": "execute_result"
    },
    {
     "data": {
      "text/plain": [
       "1"
      ]
     },
     "execution_count": 268,
     "metadata": {},
     "output_type": "execute_result"
    },
    {
     "data": {
      "text/plain": [
       "1"
      ]
     },
     "execution_count": 268,
     "metadata": {},
     "output_type": "execute_result"
    },
    {
     "data": {
      "text/plain": [
       "1"
      ]
     },
     "execution_count": 268,
     "metadata": {},
     "output_type": "execute_result"
    },
    {
     "data": {
      "text/plain": [
       "1"
      ]
     },
     "execution_count": 268,
     "metadata": {},
     "output_type": "execute_result"
    },
    {
     "data": {
      "text/plain": [
       "1"
      ]
     },
     "execution_count": 268,
     "metadata": {},
     "output_type": "execute_result"
    },
    {
     "data": {
      "text/plain": [
       "1"
      ]
     },
     "execution_count": 268,
     "metadata": {},
     "output_type": "execute_result"
    },
    {
     "data": {
      "text/plain": [
       "1"
      ]
     },
     "execution_count": 268,
     "metadata": {},
     "output_type": "execute_result"
    },
    {
     "data": {
      "text/plain": [
       "1"
      ]
     },
     "execution_count": 268,
     "metadata": {},
     "output_type": "execute_result"
    },
    {
     "data": {
      "text/plain": [
       "1"
      ]
     },
     "execution_count": 268,
     "metadata": {},
     "output_type": "execute_result"
    },
    {
     "data": {
      "text/plain": [
       "1"
      ]
     },
     "execution_count": 268,
     "metadata": {},
     "output_type": "execute_result"
    },
    {
     "data": {
      "text/plain": [
       "1"
      ]
     },
     "execution_count": 268,
     "metadata": {},
     "output_type": "execute_result"
    },
    {
     "data": {
      "text/plain": [
       "1"
      ]
     },
     "execution_count": 268,
     "metadata": {},
     "output_type": "execute_result"
    },
    {
     "data": {
      "text/plain": [
       "1"
      ]
     },
     "execution_count": 268,
     "metadata": {},
     "output_type": "execute_result"
    },
    {
     "data": {
      "text/plain": [
       "1"
      ]
     },
     "execution_count": 268,
     "metadata": {},
     "output_type": "execute_result"
    },
    {
     "data": {
      "text/plain": [
       "1"
      ]
     },
     "execution_count": 268,
     "metadata": {},
     "output_type": "execute_result"
    },
    {
     "data": {
      "text/plain": [
       "1"
      ]
     },
     "execution_count": 268,
     "metadata": {},
     "output_type": "execute_result"
    },
    {
     "data": {
      "text/plain": [
       "1"
      ]
     },
     "execution_count": 268,
     "metadata": {},
     "output_type": "execute_result"
    },
    {
     "data": {
      "text/plain": [
       "1"
      ]
     },
     "execution_count": 268,
     "metadata": {},
     "output_type": "execute_result"
    },
    {
     "data": {
      "text/plain": [
       "1"
      ]
     },
     "execution_count": 268,
     "metadata": {},
     "output_type": "execute_result"
    },
    {
     "data": {
      "text/plain": [
       "1"
      ]
     },
     "execution_count": 268,
     "metadata": {},
     "output_type": "execute_result"
    },
    {
     "data": {
      "text/plain": [
       "1"
      ]
     },
     "execution_count": 268,
     "metadata": {},
     "output_type": "execute_result"
    },
    {
     "data": {
      "text/plain": [
       "1"
      ]
     },
     "execution_count": 268,
     "metadata": {},
     "output_type": "execute_result"
    },
    {
     "data": {
      "text/plain": [
       "1"
      ]
     },
     "execution_count": 268,
     "metadata": {},
     "output_type": "execute_result"
    },
    {
     "data": {
      "text/plain": [
       "1"
      ]
     },
     "execution_count": 268,
     "metadata": {},
     "output_type": "execute_result"
    },
    {
     "data": {
      "text/plain": [
       "1"
      ]
     },
     "execution_count": 268,
     "metadata": {},
     "output_type": "execute_result"
    },
    {
     "data": {
      "text/plain": [
       "1"
      ]
     },
     "execution_count": 268,
     "metadata": {},
     "output_type": "execute_result"
    },
    {
     "data": {
      "text/plain": [
       "1"
      ]
     },
     "execution_count": 268,
     "metadata": {},
     "output_type": "execute_result"
    },
    {
     "data": {
      "text/plain": [
       "1"
      ]
     },
     "execution_count": 268,
     "metadata": {},
     "output_type": "execute_result"
    },
    {
     "data": {
      "text/plain": [
       "1"
      ]
     },
     "execution_count": 268,
     "metadata": {},
     "output_type": "execute_result"
    },
    {
     "data": {
      "text/plain": [
       "1"
      ]
     },
     "execution_count": 268,
     "metadata": {},
     "output_type": "execute_result"
    },
    {
     "name": "stdout",
     "output_type": "stream",
     "text": [
      "committing to db\n"
     ]
    },
    {
     "data": {
      "text/plain": [
       "1"
      ]
     },
     "execution_count": 268,
     "metadata": {},
     "output_type": "execute_result"
    },
    {
     "data": {
      "text/plain": [
       "1"
      ]
     },
     "execution_count": 268,
     "metadata": {},
     "output_type": "execute_result"
    },
    {
     "data": {
      "text/plain": [
       "1"
      ]
     },
     "execution_count": 268,
     "metadata": {},
     "output_type": "execute_result"
    },
    {
     "data": {
      "text/plain": [
       "1"
      ]
     },
     "execution_count": 268,
     "metadata": {},
     "output_type": "execute_result"
    },
    {
     "data": {
      "text/plain": [
       "1"
      ]
     },
     "execution_count": 268,
     "metadata": {},
     "output_type": "execute_result"
    },
    {
     "data": {
      "text/plain": [
       "1"
      ]
     },
     "execution_count": 268,
     "metadata": {},
     "output_type": "execute_result"
    },
    {
     "data": {
      "text/plain": [
       "1"
      ]
     },
     "execution_count": 268,
     "metadata": {},
     "output_type": "execute_result"
    },
    {
     "data": {
      "text/plain": [
       "1"
      ]
     },
     "execution_count": 268,
     "metadata": {},
     "output_type": "execute_result"
    },
    {
     "data": {
      "text/plain": [
       "1"
      ]
     },
     "execution_count": 268,
     "metadata": {},
     "output_type": "execute_result"
    },
    {
     "data": {
      "text/plain": [
       "1"
      ]
     },
     "execution_count": 268,
     "metadata": {},
     "output_type": "execute_result"
    },
    {
     "data": {
      "text/plain": [
       "1"
      ]
     },
     "execution_count": 268,
     "metadata": {},
     "output_type": "execute_result"
    },
    {
     "data": {
      "text/plain": [
       "1"
      ]
     },
     "execution_count": 268,
     "metadata": {},
     "output_type": "execute_result"
    },
    {
     "data": {
      "text/plain": [
       "1"
      ]
     },
     "execution_count": 268,
     "metadata": {},
     "output_type": "execute_result"
    },
    {
     "data": {
      "text/plain": [
       "1"
      ]
     },
     "execution_count": 268,
     "metadata": {},
     "output_type": "execute_result"
    },
    {
     "data": {
      "text/plain": [
       "1"
      ]
     },
     "execution_count": 268,
     "metadata": {},
     "output_type": "execute_result"
    },
    {
     "data": {
      "text/plain": [
       "1"
      ]
     },
     "execution_count": 268,
     "metadata": {},
     "output_type": "execute_result"
    },
    {
     "data": {
      "text/plain": [
       "1"
      ]
     },
     "execution_count": 268,
     "metadata": {},
     "output_type": "execute_result"
    },
    {
     "data": {
      "text/plain": [
       "1"
      ]
     },
     "execution_count": 268,
     "metadata": {},
     "output_type": "execute_result"
    },
    {
     "data": {
      "text/plain": [
       "1"
      ]
     },
     "execution_count": 268,
     "metadata": {},
     "output_type": "execute_result"
    },
    {
     "data": {
      "text/plain": [
       "1"
      ]
     },
     "execution_count": 268,
     "metadata": {},
     "output_type": "execute_result"
    },
    {
     "data": {
      "text/plain": [
       "1"
      ]
     },
     "execution_count": 268,
     "metadata": {},
     "output_type": "execute_result"
    },
    {
     "data": {
      "text/plain": [
       "1"
      ]
     },
     "execution_count": 268,
     "metadata": {},
     "output_type": "execute_result"
    },
    {
     "data": {
      "text/plain": [
       "1"
      ]
     },
     "execution_count": 268,
     "metadata": {},
     "output_type": "execute_result"
    },
    {
     "data": {
      "text/plain": [
       "1"
      ]
     },
     "execution_count": 268,
     "metadata": {},
     "output_type": "execute_result"
    },
    {
     "data": {
      "text/plain": [
       "1"
      ]
     },
     "execution_count": 268,
     "metadata": {},
     "output_type": "execute_result"
    },
    {
     "data": {
      "text/plain": [
       "1"
      ]
     },
     "execution_count": 268,
     "metadata": {},
     "output_type": "execute_result"
    },
    {
     "data": {
      "text/plain": [
       "1"
      ]
     },
     "execution_count": 268,
     "metadata": {},
     "output_type": "execute_result"
    },
    {
     "data": {
      "text/plain": [
       "1"
      ]
     },
     "execution_count": 268,
     "metadata": {},
     "output_type": "execute_result"
    },
    {
     "data": {
      "text/plain": [
       "1"
      ]
     },
     "execution_count": 268,
     "metadata": {},
     "output_type": "execute_result"
    },
    {
     "data": {
      "text/plain": [
       "1"
      ]
     },
     "execution_count": 268,
     "metadata": {},
     "output_type": "execute_result"
    },
    {
     "data": {
      "text/plain": [
       "1"
      ]
     },
     "execution_count": 268,
     "metadata": {},
     "output_type": "execute_result"
    },
    {
     "data": {
      "text/plain": [
       "1"
      ]
     },
     "execution_count": 268,
     "metadata": {},
     "output_type": "execute_result"
    },
    {
     "data": {
      "text/plain": [
       "1"
      ]
     },
     "execution_count": 268,
     "metadata": {},
     "output_type": "execute_result"
    },
    {
     "data": {
      "text/plain": [
       "1"
      ]
     },
     "execution_count": 268,
     "metadata": {},
     "output_type": "execute_result"
    },
    {
     "data": {
      "text/plain": [
       "1"
      ]
     },
     "execution_count": 268,
     "metadata": {},
     "output_type": "execute_result"
    },
    {
     "data": {
      "text/plain": [
       "1"
      ]
     },
     "execution_count": 268,
     "metadata": {},
     "output_type": "execute_result"
    },
    {
     "data": {
      "text/plain": [
       "1"
      ]
     },
     "execution_count": 268,
     "metadata": {},
     "output_type": "execute_result"
    },
    {
     "data": {
      "text/plain": [
       "1"
      ]
     },
     "execution_count": 268,
     "metadata": {},
     "output_type": "execute_result"
    },
    {
     "data": {
      "text/plain": [
       "1"
      ]
     },
     "execution_count": 268,
     "metadata": {},
     "output_type": "execute_result"
    },
    {
     "data": {
      "text/plain": [
       "1"
      ]
     },
     "execution_count": 268,
     "metadata": {},
     "output_type": "execute_result"
    },
    {
     "data": {
      "text/plain": [
       "1"
      ]
     },
     "execution_count": 268,
     "metadata": {},
     "output_type": "execute_result"
    },
    {
     "data": {
      "text/plain": [
       "1"
      ]
     },
     "execution_count": 268,
     "metadata": {},
     "output_type": "execute_result"
    },
    {
     "data": {
      "text/plain": [
       "1"
      ]
     },
     "execution_count": 268,
     "metadata": {},
     "output_type": "execute_result"
    },
    {
     "data": {
      "text/plain": [
       "1"
      ]
     },
     "execution_count": 268,
     "metadata": {},
     "output_type": "execute_result"
    },
    {
     "data": {
      "text/plain": [
       "1"
      ]
     },
     "execution_count": 268,
     "metadata": {},
     "output_type": "execute_result"
    },
    {
     "data": {
      "text/plain": [
       "1"
      ]
     },
     "execution_count": 268,
     "metadata": {},
     "output_type": "execute_result"
    },
    {
     "data": {
      "text/plain": [
       "1"
      ]
     },
     "execution_count": 268,
     "metadata": {},
     "output_type": "execute_result"
    },
    {
     "data": {
      "text/plain": [
       "1"
      ]
     },
     "execution_count": 268,
     "metadata": {},
     "output_type": "execute_result"
    },
    {
     "data": {
      "text/plain": [
       "1"
      ]
     },
     "execution_count": 268,
     "metadata": {},
     "output_type": "execute_result"
    },
    {
     "data": {
      "text/plain": [
       "1"
      ]
     },
     "execution_count": 268,
     "metadata": {},
     "output_type": "execute_result"
    },
    {
     "name": "stdout",
     "output_type": "stream",
     "text": [
      "committing to db\n"
     ]
    },
    {
     "data": {
      "text/plain": [
       "1"
      ]
     },
     "execution_count": 268,
     "metadata": {},
     "output_type": "execute_result"
    },
    {
     "data": {
      "text/plain": [
       "1"
      ]
     },
     "execution_count": 268,
     "metadata": {},
     "output_type": "execute_result"
    },
    {
     "data": {
      "text/plain": [
       "1"
      ]
     },
     "execution_count": 268,
     "metadata": {},
     "output_type": "execute_result"
    },
    {
     "data": {
      "text/plain": [
       "1"
      ]
     },
     "execution_count": 268,
     "metadata": {},
     "output_type": "execute_result"
    },
    {
     "data": {
      "text/plain": [
       "1"
      ]
     },
     "execution_count": 268,
     "metadata": {},
     "output_type": "execute_result"
    },
    {
     "data": {
      "text/plain": [
       "1"
      ]
     },
     "execution_count": 268,
     "metadata": {},
     "output_type": "execute_result"
    },
    {
     "data": {
      "text/plain": [
       "1"
      ]
     },
     "execution_count": 268,
     "metadata": {},
     "output_type": "execute_result"
    },
    {
     "data": {
      "text/plain": [
       "1"
      ]
     },
     "execution_count": 268,
     "metadata": {},
     "output_type": "execute_result"
    },
    {
     "data": {
      "text/plain": [
       "1"
      ]
     },
     "execution_count": 268,
     "metadata": {},
     "output_type": "execute_result"
    },
    {
     "data": {
      "text/plain": [
       "1"
      ]
     },
     "execution_count": 268,
     "metadata": {},
     "output_type": "execute_result"
    },
    {
     "data": {
      "text/plain": [
       "1"
      ]
     },
     "execution_count": 268,
     "metadata": {},
     "output_type": "execute_result"
    },
    {
     "data": {
      "text/plain": [
       "1"
      ]
     },
     "execution_count": 268,
     "metadata": {},
     "output_type": "execute_result"
    },
    {
     "data": {
      "text/plain": [
       "1"
      ]
     },
     "execution_count": 268,
     "metadata": {},
     "output_type": "execute_result"
    },
    {
     "data": {
      "text/plain": [
       "1"
      ]
     },
     "execution_count": 268,
     "metadata": {},
     "output_type": "execute_result"
    },
    {
     "data": {
      "text/plain": [
       "1"
      ]
     },
     "execution_count": 268,
     "metadata": {},
     "output_type": "execute_result"
    },
    {
     "data": {
      "text/plain": [
       "1"
      ]
     },
     "execution_count": 268,
     "metadata": {},
     "output_type": "execute_result"
    },
    {
     "data": {
      "text/plain": [
       "1"
      ]
     },
     "execution_count": 268,
     "metadata": {},
     "output_type": "execute_result"
    },
    {
     "data": {
      "text/plain": [
       "1"
      ]
     },
     "execution_count": 268,
     "metadata": {},
     "output_type": "execute_result"
    },
    {
     "data": {
      "text/plain": [
       "1"
      ]
     },
     "execution_count": 268,
     "metadata": {},
     "output_type": "execute_result"
    },
    {
     "data": {
      "text/plain": [
       "1"
      ]
     },
     "execution_count": 268,
     "metadata": {},
     "output_type": "execute_result"
    },
    {
     "data": {
      "text/plain": [
       "1"
      ]
     },
     "execution_count": 268,
     "metadata": {},
     "output_type": "execute_result"
    },
    {
     "data": {
      "text/plain": [
       "1"
      ]
     },
     "execution_count": 268,
     "metadata": {},
     "output_type": "execute_result"
    },
    {
     "data": {
      "text/plain": [
       "1"
      ]
     },
     "execution_count": 268,
     "metadata": {},
     "output_type": "execute_result"
    },
    {
     "data": {
      "text/plain": [
       "1"
      ]
     },
     "execution_count": 268,
     "metadata": {},
     "output_type": "execute_result"
    },
    {
     "data": {
      "text/plain": [
       "1"
      ]
     },
     "execution_count": 268,
     "metadata": {},
     "output_type": "execute_result"
    },
    {
     "data": {
      "text/plain": [
       "1"
      ]
     },
     "execution_count": 268,
     "metadata": {},
     "output_type": "execute_result"
    },
    {
     "data": {
      "text/plain": [
       "1"
      ]
     },
     "execution_count": 268,
     "metadata": {},
     "output_type": "execute_result"
    },
    {
     "data": {
      "text/plain": [
       "1"
      ]
     },
     "execution_count": 268,
     "metadata": {},
     "output_type": "execute_result"
    },
    {
     "data": {
      "text/plain": [
       "1"
      ]
     },
     "execution_count": 268,
     "metadata": {},
     "output_type": "execute_result"
    },
    {
     "data": {
      "text/plain": [
       "1"
      ]
     },
     "execution_count": 268,
     "metadata": {},
     "output_type": "execute_result"
    },
    {
     "data": {
      "text/plain": [
       "1"
      ]
     },
     "execution_count": 268,
     "metadata": {},
     "output_type": "execute_result"
    },
    {
     "data": {
      "text/plain": [
       "1"
      ]
     },
     "execution_count": 268,
     "metadata": {},
     "output_type": "execute_result"
    },
    {
     "data": {
      "text/plain": [
       "1"
      ]
     },
     "execution_count": 268,
     "metadata": {},
     "output_type": "execute_result"
    },
    {
     "data": {
      "text/plain": [
       "1"
      ]
     },
     "execution_count": 268,
     "metadata": {},
     "output_type": "execute_result"
    },
    {
     "data": {
      "text/plain": [
       "1"
      ]
     },
     "execution_count": 268,
     "metadata": {},
     "output_type": "execute_result"
    },
    {
     "data": {
      "text/plain": [
       "1"
      ]
     },
     "execution_count": 268,
     "metadata": {},
     "output_type": "execute_result"
    },
    {
     "data": {
      "text/plain": [
       "1"
      ]
     },
     "execution_count": 268,
     "metadata": {},
     "output_type": "execute_result"
    },
    {
     "data": {
      "text/plain": [
       "1"
      ]
     },
     "execution_count": 268,
     "metadata": {},
     "output_type": "execute_result"
    },
    {
     "data": {
      "text/plain": [
       "1"
      ]
     },
     "execution_count": 268,
     "metadata": {},
     "output_type": "execute_result"
    },
    {
     "data": {
      "text/plain": [
       "1"
      ]
     },
     "execution_count": 268,
     "metadata": {},
     "output_type": "execute_result"
    },
    {
     "data": {
      "text/plain": [
       "1"
      ]
     },
     "execution_count": 268,
     "metadata": {},
     "output_type": "execute_result"
    },
    {
     "data": {
      "text/plain": [
       "1"
      ]
     },
     "execution_count": 268,
     "metadata": {},
     "output_type": "execute_result"
    },
    {
     "data": {
      "text/plain": [
       "1"
      ]
     },
     "execution_count": 268,
     "metadata": {},
     "output_type": "execute_result"
    },
    {
     "data": {
      "text/plain": [
       "1"
      ]
     },
     "execution_count": 268,
     "metadata": {},
     "output_type": "execute_result"
    },
    {
     "data": {
      "text/plain": [
       "1"
      ]
     },
     "execution_count": 268,
     "metadata": {},
     "output_type": "execute_result"
    },
    {
     "data": {
      "text/plain": [
       "1"
      ]
     },
     "execution_count": 268,
     "metadata": {},
     "output_type": "execute_result"
    },
    {
     "data": {
      "text/plain": [
       "1"
      ]
     },
     "execution_count": 268,
     "metadata": {},
     "output_type": "execute_result"
    },
    {
     "data": {
      "text/plain": [
       "1"
      ]
     },
     "execution_count": 268,
     "metadata": {},
     "output_type": "execute_result"
    },
    {
     "data": {
      "text/plain": [
       "1"
      ]
     },
     "execution_count": 268,
     "metadata": {},
     "output_type": "execute_result"
    },
    {
     "data": {
      "text/plain": [
       "1"
      ]
     },
     "execution_count": 268,
     "metadata": {},
     "output_type": "execute_result"
    },
    {
     "name": "stdout",
     "output_type": "stream",
     "text": [
      "committing to db\n"
     ]
    },
    {
     "data": {
      "text/plain": [
       "1"
      ]
     },
     "execution_count": 268,
     "metadata": {},
     "output_type": "execute_result"
    },
    {
     "data": {
      "text/plain": [
       "1"
      ]
     },
     "execution_count": 268,
     "metadata": {},
     "output_type": "execute_result"
    },
    {
     "data": {
      "text/plain": [
       "1"
      ]
     },
     "execution_count": 268,
     "metadata": {},
     "output_type": "execute_result"
    },
    {
     "data": {
      "text/plain": [
       "1"
      ]
     },
     "execution_count": 268,
     "metadata": {},
     "output_type": "execute_result"
    },
    {
     "data": {
      "text/plain": [
       "1"
      ]
     },
     "execution_count": 268,
     "metadata": {},
     "output_type": "execute_result"
    },
    {
     "data": {
      "text/plain": [
       "1"
      ]
     },
     "execution_count": 268,
     "metadata": {},
     "output_type": "execute_result"
    },
    {
     "data": {
      "text/plain": [
       "1"
      ]
     },
     "execution_count": 268,
     "metadata": {},
     "output_type": "execute_result"
    },
    {
     "data": {
      "text/plain": [
       "1"
      ]
     },
     "execution_count": 268,
     "metadata": {},
     "output_type": "execute_result"
    },
    {
     "data": {
      "text/plain": [
       "1"
      ]
     },
     "execution_count": 268,
     "metadata": {},
     "output_type": "execute_result"
    },
    {
     "data": {
      "text/plain": [
       "1"
      ]
     },
     "execution_count": 268,
     "metadata": {},
     "output_type": "execute_result"
    },
    {
     "data": {
      "text/plain": [
       "1"
      ]
     },
     "execution_count": 268,
     "metadata": {},
     "output_type": "execute_result"
    },
    {
     "data": {
      "text/plain": [
       "1"
      ]
     },
     "execution_count": 268,
     "metadata": {},
     "output_type": "execute_result"
    },
    {
     "data": {
      "text/plain": [
       "1"
      ]
     },
     "execution_count": 268,
     "metadata": {},
     "output_type": "execute_result"
    },
    {
     "data": {
      "text/plain": [
       "1"
      ]
     },
     "execution_count": 268,
     "metadata": {},
     "output_type": "execute_result"
    },
    {
     "data": {
      "text/plain": [
       "1"
      ]
     },
     "execution_count": 268,
     "metadata": {},
     "output_type": "execute_result"
    },
    {
     "data": {
      "text/plain": [
       "1"
      ]
     },
     "execution_count": 268,
     "metadata": {},
     "output_type": "execute_result"
    },
    {
     "data": {
      "text/plain": [
       "1"
      ]
     },
     "execution_count": 268,
     "metadata": {},
     "output_type": "execute_result"
    },
    {
     "data": {
      "text/plain": [
       "1"
      ]
     },
     "execution_count": 268,
     "metadata": {},
     "output_type": "execute_result"
    },
    {
     "data": {
      "text/plain": [
       "1"
      ]
     },
     "execution_count": 268,
     "metadata": {},
     "output_type": "execute_result"
    },
    {
     "data": {
      "text/plain": [
       "1"
      ]
     },
     "execution_count": 268,
     "metadata": {},
     "output_type": "execute_result"
    },
    {
     "data": {
      "text/plain": [
       "1"
      ]
     },
     "execution_count": 268,
     "metadata": {},
     "output_type": "execute_result"
    },
    {
     "data": {
      "text/plain": [
       "1"
      ]
     },
     "execution_count": 268,
     "metadata": {},
     "output_type": "execute_result"
    },
    {
     "data": {
      "text/plain": [
       "1"
      ]
     },
     "execution_count": 268,
     "metadata": {},
     "output_type": "execute_result"
    },
    {
     "data": {
      "text/plain": [
       "1"
      ]
     },
     "execution_count": 268,
     "metadata": {},
     "output_type": "execute_result"
    },
    {
     "data": {
      "text/plain": [
       "1"
      ]
     },
     "execution_count": 268,
     "metadata": {},
     "output_type": "execute_result"
    },
    {
     "data": {
      "text/plain": [
       "1"
      ]
     },
     "execution_count": 268,
     "metadata": {},
     "output_type": "execute_result"
    },
    {
     "data": {
      "text/plain": [
       "1"
      ]
     },
     "execution_count": 268,
     "metadata": {},
     "output_type": "execute_result"
    },
    {
     "data": {
      "text/plain": [
       "1"
      ]
     },
     "execution_count": 268,
     "metadata": {},
     "output_type": "execute_result"
    },
    {
     "data": {
      "text/plain": [
       "1"
      ]
     },
     "execution_count": 268,
     "metadata": {},
     "output_type": "execute_result"
    },
    {
     "data": {
      "text/plain": [
       "1"
      ]
     },
     "execution_count": 268,
     "metadata": {},
     "output_type": "execute_result"
    },
    {
     "data": {
      "text/plain": [
       "1"
      ]
     },
     "execution_count": 268,
     "metadata": {},
     "output_type": "execute_result"
    },
    {
     "data": {
      "text/plain": [
       "1"
      ]
     },
     "execution_count": 268,
     "metadata": {},
     "output_type": "execute_result"
    },
    {
     "data": {
      "text/plain": [
       "1"
      ]
     },
     "execution_count": 268,
     "metadata": {},
     "output_type": "execute_result"
    },
    {
     "data": {
      "text/plain": [
       "1"
      ]
     },
     "execution_count": 268,
     "metadata": {},
     "output_type": "execute_result"
    },
    {
     "data": {
      "text/plain": [
       "1"
      ]
     },
     "execution_count": 268,
     "metadata": {},
     "output_type": "execute_result"
    },
    {
     "data": {
      "text/plain": [
       "1"
      ]
     },
     "execution_count": 268,
     "metadata": {},
     "output_type": "execute_result"
    },
    {
     "data": {
      "text/plain": [
       "1"
      ]
     },
     "execution_count": 268,
     "metadata": {},
     "output_type": "execute_result"
    },
    {
     "data": {
      "text/plain": [
       "1"
      ]
     },
     "execution_count": 268,
     "metadata": {},
     "output_type": "execute_result"
    },
    {
     "data": {
      "text/plain": [
       "1"
      ]
     },
     "execution_count": 268,
     "metadata": {},
     "output_type": "execute_result"
    },
    {
     "data": {
      "text/plain": [
       "1"
      ]
     },
     "execution_count": 268,
     "metadata": {},
     "output_type": "execute_result"
    },
    {
     "data": {
      "text/plain": [
       "1"
      ]
     },
     "execution_count": 268,
     "metadata": {},
     "output_type": "execute_result"
    },
    {
     "data": {
      "text/plain": [
       "1"
      ]
     },
     "execution_count": 268,
     "metadata": {},
     "output_type": "execute_result"
    },
    {
     "data": {
      "text/plain": [
       "1"
      ]
     },
     "execution_count": 268,
     "metadata": {},
     "output_type": "execute_result"
    },
    {
     "data": {
      "text/plain": [
       "1"
      ]
     },
     "execution_count": 268,
     "metadata": {},
     "output_type": "execute_result"
    },
    {
     "data": {
      "text/plain": [
       "1"
      ]
     },
     "execution_count": 268,
     "metadata": {},
     "output_type": "execute_result"
    },
    {
     "data": {
      "text/plain": [
       "1"
      ]
     },
     "execution_count": 268,
     "metadata": {},
     "output_type": "execute_result"
    },
    {
     "data": {
      "text/plain": [
       "1"
      ]
     },
     "execution_count": 268,
     "metadata": {},
     "output_type": "execute_result"
    },
    {
     "data": {
      "text/plain": [
       "1"
      ]
     },
     "execution_count": 268,
     "metadata": {},
     "output_type": "execute_result"
    },
    {
     "data": {
      "text/plain": [
       "1"
      ]
     },
     "execution_count": 268,
     "metadata": {},
     "output_type": "execute_result"
    },
    {
     "data": {
      "text/plain": [
       "1"
      ]
     },
     "execution_count": 268,
     "metadata": {},
     "output_type": "execute_result"
    },
    {
     "name": "stdout",
     "output_type": "stream",
     "text": [
      "committing to db\n"
     ]
    },
    {
     "data": {
      "text/plain": [
       "1"
      ]
     },
     "execution_count": 268,
     "metadata": {},
     "output_type": "execute_result"
    },
    {
     "data": {
      "text/plain": [
       "1"
      ]
     },
     "execution_count": 268,
     "metadata": {},
     "output_type": "execute_result"
    },
    {
     "data": {
      "text/plain": [
       "1"
      ]
     },
     "execution_count": 268,
     "metadata": {},
     "output_type": "execute_result"
    },
    {
     "data": {
      "text/plain": [
       "1"
      ]
     },
     "execution_count": 268,
     "metadata": {},
     "output_type": "execute_result"
    },
    {
     "data": {
      "text/plain": [
       "1"
      ]
     },
     "execution_count": 268,
     "metadata": {},
     "output_type": "execute_result"
    },
    {
     "data": {
      "text/plain": [
       "1"
      ]
     },
     "execution_count": 268,
     "metadata": {},
     "output_type": "execute_result"
    },
    {
     "data": {
      "text/plain": [
       "1"
      ]
     },
     "execution_count": 268,
     "metadata": {},
     "output_type": "execute_result"
    },
    {
     "data": {
      "text/plain": [
       "1"
      ]
     },
     "execution_count": 268,
     "metadata": {},
     "output_type": "execute_result"
    },
    {
     "data": {
      "text/plain": [
       "1"
      ]
     },
     "execution_count": 268,
     "metadata": {},
     "output_type": "execute_result"
    },
    {
     "data": {
      "text/plain": [
       "1"
      ]
     },
     "execution_count": 268,
     "metadata": {},
     "output_type": "execute_result"
    },
    {
     "data": {
      "text/plain": [
       "1"
      ]
     },
     "execution_count": 268,
     "metadata": {},
     "output_type": "execute_result"
    },
    {
     "data": {
      "text/plain": [
       "1"
      ]
     },
     "execution_count": 268,
     "metadata": {},
     "output_type": "execute_result"
    },
    {
     "data": {
      "text/plain": [
       "1"
      ]
     },
     "execution_count": 268,
     "metadata": {},
     "output_type": "execute_result"
    },
    {
     "data": {
      "text/plain": [
       "1"
      ]
     },
     "execution_count": 268,
     "metadata": {},
     "output_type": "execute_result"
    },
    {
     "data": {
      "text/plain": [
       "1"
      ]
     },
     "execution_count": 268,
     "metadata": {},
     "output_type": "execute_result"
    },
    {
     "data": {
      "text/plain": [
       "1"
      ]
     },
     "execution_count": 268,
     "metadata": {},
     "output_type": "execute_result"
    },
    {
     "data": {
      "text/plain": [
       "1"
      ]
     },
     "execution_count": 268,
     "metadata": {},
     "output_type": "execute_result"
    },
    {
     "data": {
      "text/plain": [
       "1"
      ]
     },
     "execution_count": 268,
     "metadata": {},
     "output_type": "execute_result"
    },
    {
     "data": {
      "text/plain": [
       "1"
      ]
     },
     "execution_count": 268,
     "metadata": {},
     "output_type": "execute_result"
    },
    {
     "data": {
      "text/plain": [
       "1"
      ]
     },
     "execution_count": 268,
     "metadata": {},
     "output_type": "execute_result"
    },
    {
     "data": {
      "text/plain": [
       "1"
      ]
     },
     "execution_count": 268,
     "metadata": {},
     "output_type": "execute_result"
    },
    {
     "data": {
      "text/plain": [
       "1"
      ]
     },
     "execution_count": 268,
     "metadata": {},
     "output_type": "execute_result"
    },
    {
     "data": {
      "text/plain": [
       "1"
      ]
     },
     "execution_count": 268,
     "metadata": {},
     "output_type": "execute_result"
    },
    {
     "data": {
      "text/plain": [
       "1"
      ]
     },
     "execution_count": 268,
     "metadata": {},
     "output_type": "execute_result"
    },
    {
     "data": {
      "text/plain": [
       "1"
      ]
     },
     "execution_count": 268,
     "metadata": {},
     "output_type": "execute_result"
    },
    {
     "data": {
      "text/plain": [
       "1"
      ]
     },
     "execution_count": 268,
     "metadata": {},
     "output_type": "execute_result"
    },
    {
     "data": {
      "text/plain": [
       "1"
      ]
     },
     "execution_count": 268,
     "metadata": {},
     "output_type": "execute_result"
    },
    {
     "data": {
      "text/plain": [
       "1"
      ]
     },
     "execution_count": 268,
     "metadata": {},
     "output_type": "execute_result"
    },
    {
     "data": {
      "text/plain": [
       "1"
      ]
     },
     "execution_count": 268,
     "metadata": {},
     "output_type": "execute_result"
    },
    {
     "data": {
      "text/plain": [
       "1"
      ]
     },
     "execution_count": 268,
     "metadata": {},
     "output_type": "execute_result"
    },
    {
     "data": {
      "text/plain": [
       "1"
      ]
     },
     "execution_count": 268,
     "metadata": {},
     "output_type": "execute_result"
    },
    {
     "data": {
      "text/plain": [
       "1"
      ]
     },
     "execution_count": 268,
     "metadata": {},
     "output_type": "execute_result"
    },
    {
     "data": {
      "text/plain": [
       "1"
      ]
     },
     "execution_count": 268,
     "metadata": {},
     "output_type": "execute_result"
    },
    {
     "data": {
      "text/plain": [
       "1"
      ]
     },
     "execution_count": 268,
     "metadata": {},
     "output_type": "execute_result"
    },
    {
     "data": {
      "text/plain": [
       "1"
      ]
     },
     "execution_count": 268,
     "metadata": {},
     "output_type": "execute_result"
    },
    {
     "data": {
      "text/plain": [
       "1"
      ]
     },
     "execution_count": 268,
     "metadata": {},
     "output_type": "execute_result"
    },
    {
     "data": {
      "text/plain": [
       "1"
      ]
     },
     "execution_count": 268,
     "metadata": {},
     "output_type": "execute_result"
    },
    {
     "data": {
      "text/plain": [
       "1"
      ]
     },
     "execution_count": 268,
     "metadata": {},
     "output_type": "execute_result"
    },
    {
     "data": {
      "text/plain": [
       "1"
      ]
     },
     "execution_count": 268,
     "metadata": {},
     "output_type": "execute_result"
    },
    {
     "data": {
      "text/plain": [
       "1"
      ]
     },
     "execution_count": 268,
     "metadata": {},
     "output_type": "execute_result"
    },
    {
     "data": {
      "text/plain": [
       "1"
      ]
     },
     "execution_count": 268,
     "metadata": {},
     "output_type": "execute_result"
    },
    {
     "data": {
      "text/plain": [
       "1"
      ]
     },
     "execution_count": 268,
     "metadata": {},
     "output_type": "execute_result"
    },
    {
     "data": {
      "text/plain": [
       "1"
      ]
     },
     "execution_count": 268,
     "metadata": {},
     "output_type": "execute_result"
    },
    {
     "data": {
      "text/plain": [
       "1"
      ]
     },
     "execution_count": 268,
     "metadata": {},
     "output_type": "execute_result"
    },
    {
     "data": {
      "text/plain": [
       "1"
      ]
     },
     "execution_count": 268,
     "metadata": {},
     "output_type": "execute_result"
    },
    {
     "data": {
      "text/plain": [
       "1"
      ]
     },
     "execution_count": 268,
     "metadata": {},
     "output_type": "execute_result"
    },
    {
     "data": {
      "text/plain": [
       "1"
      ]
     },
     "execution_count": 268,
     "metadata": {},
     "output_type": "execute_result"
    },
    {
     "data": {
      "text/plain": [
       "1"
      ]
     },
     "execution_count": 268,
     "metadata": {},
     "output_type": "execute_result"
    },
    {
     "data": {
      "text/plain": [
       "1"
      ]
     },
     "execution_count": 268,
     "metadata": {},
     "output_type": "execute_result"
    },
    {
     "data": {
      "text/plain": [
       "1"
      ]
     },
     "execution_count": 268,
     "metadata": {},
     "output_type": "execute_result"
    },
    {
     "name": "stdout",
     "output_type": "stream",
     "text": [
      "committing to db\n"
     ]
    },
    {
     "data": {
      "text/plain": [
       "1"
      ]
     },
     "execution_count": 268,
     "metadata": {},
     "output_type": "execute_result"
    },
    {
     "data": {
      "text/plain": [
       "1"
      ]
     },
     "execution_count": 268,
     "metadata": {},
     "output_type": "execute_result"
    },
    {
     "data": {
      "text/plain": [
       "1"
      ]
     },
     "execution_count": 268,
     "metadata": {},
     "output_type": "execute_result"
    },
    {
     "data": {
      "text/plain": [
       "1"
      ]
     },
     "execution_count": 268,
     "metadata": {},
     "output_type": "execute_result"
    },
    {
     "data": {
      "text/plain": [
       "1"
      ]
     },
     "execution_count": 268,
     "metadata": {},
     "output_type": "execute_result"
    },
    {
     "data": {
      "text/plain": [
       "1"
      ]
     },
     "execution_count": 268,
     "metadata": {},
     "output_type": "execute_result"
    },
    {
     "data": {
      "text/plain": [
       "1"
      ]
     },
     "execution_count": 268,
     "metadata": {},
     "output_type": "execute_result"
    },
    {
     "data": {
      "text/plain": [
       "1"
      ]
     },
     "execution_count": 268,
     "metadata": {},
     "output_type": "execute_result"
    },
    {
     "data": {
      "text/plain": [
       "1"
      ]
     },
     "execution_count": 268,
     "metadata": {},
     "output_type": "execute_result"
    },
    {
     "data": {
      "text/plain": [
       "1"
      ]
     },
     "execution_count": 268,
     "metadata": {},
     "output_type": "execute_result"
    },
    {
     "data": {
      "text/plain": [
       "1"
      ]
     },
     "execution_count": 268,
     "metadata": {},
     "output_type": "execute_result"
    },
    {
     "data": {
      "text/plain": [
       "1"
      ]
     },
     "execution_count": 268,
     "metadata": {},
     "output_type": "execute_result"
    },
    {
     "data": {
      "text/plain": [
       "1"
      ]
     },
     "execution_count": 268,
     "metadata": {},
     "output_type": "execute_result"
    },
    {
     "data": {
      "text/plain": [
       "1"
      ]
     },
     "execution_count": 268,
     "metadata": {},
     "output_type": "execute_result"
    },
    {
     "data": {
      "text/plain": [
       "1"
      ]
     },
     "execution_count": 268,
     "metadata": {},
     "output_type": "execute_result"
    },
    {
     "data": {
      "text/plain": [
       "1"
      ]
     },
     "execution_count": 268,
     "metadata": {},
     "output_type": "execute_result"
    },
    {
     "data": {
      "text/plain": [
       "1"
      ]
     },
     "execution_count": 268,
     "metadata": {},
     "output_type": "execute_result"
    },
    {
     "data": {
      "text/plain": [
       "1"
      ]
     },
     "execution_count": 268,
     "metadata": {},
     "output_type": "execute_result"
    },
    {
     "data": {
      "text/plain": [
       "1"
      ]
     },
     "execution_count": 268,
     "metadata": {},
     "output_type": "execute_result"
    },
    {
     "data": {
      "text/plain": [
       "1"
      ]
     },
     "execution_count": 268,
     "metadata": {},
     "output_type": "execute_result"
    },
    {
     "data": {
      "text/plain": [
       "1"
      ]
     },
     "execution_count": 268,
     "metadata": {},
     "output_type": "execute_result"
    },
    {
     "data": {
      "text/plain": [
       "1"
      ]
     },
     "execution_count": 268,
     "metadata": {},
     "output_type": "execute_result"
    },
    {
     "data": {
      "text/plain": [
       "1"
      ]
     },
     "execution_count": 268,
     "metadata": {},
     "output_type": "execute_result"
    },
    {
     "data": {
      "text/plain": [
       "1"
      ]
     },
     "execution_count": 268,
     "metadata": {},
     "output_type": "execute_result"
    },
    {
     "data": {
      "text/plain": [
       "1"
      ]
     },
     "execution_count": 268,
     "metadata": {},
     "output_type": "execute_result"
    },
    {
     "data": {
      "text/plain": [
       "1"
      ]
     },
     "execution_count": 268,
     "metadata": {},
     "output_type": "execute_result"
    },
    {
     "data": {
      "text/plain": [
       "1"
      ]
     },
     "execution_count": 268,
     "metadata": {},
     "output_type": "execute_result"
    },
    {
     "data": {
      "text/plain": [
       "1"
      ]
     },
     "execution_count": 268,
     "metadata": {},
     "output_type": "execute_result"
    },
    {
     "data": {
      "text/plain": [
       "1"
      ]
     },
     "execution_count": 268,
     "metadata": {},
     "output_type": "execute_result"
    },
    {
     "data": {
      "text/plain": [
       "1"
      ]
     },
     "execution_count": 268,
     "metadata": {},
     "output_type": "execute_result"
    },
    {
     "data": {
      "text/plain": [
       "1"
      ]
     },
     "execution_count": 268,
     "metadata": {},
     "output_type": "execute_result"
    },
    {
     "data": {
      "text/plain": [
       "1"
      ]
     },
     "execution_count": 268,
     "metadata": {},
     "output_type": "execute_result"
    },
    {
     "data": {
      "text/plain": [
       "1"
      ]
     },
     "execution_count": 268,
     "metadata": {},
     "output_type": "execute_result"
    },
    {
     "data": {
      "text/plain": [
       "1"
      ]
     },
     "execution_count": 268,
     "metadata": {},
     "output_type": "execute_result"
    },
    {
     "data": {
      "text/plain": [
       "1"
      ]
     },
     "execution_count": 268,
     "metadata": {},
     "output_type": "execute_result"
    },
    {
     "data": {
      "text/plain": [
       "1"
      ]
     },
     "execution_count": 268,
     "metadata": {},
     "output_type": "execute_result"
    },
    {
     "data": {
      "text/plain": [
       "1"
      ]
     },
     "execution_count": 268,
     "metadata": {},
     "output_type": "execute_result"
    },
    {
     "data": {
      "text/plain": [
       "1"
      ]
     },
     "execution_count": 268,
     "metadata": {},
     "output_type": "execute_result"
    },
    {
     "data": {
      "text/plain": [
       "1"
      ]
     },
     "execution_count": 268,
     "metadata": {},
     "output_type": "execute_result"
    },
    {
     "data": {
      "text/plain": [
       "1"
      ]
     },
     "execution_count": 268,
     "metadata": {},
     "output_type": "execute_result"
    },
    {
     "data": {
      "text/plain": [
       "1"
      ]
     },
     "execution_count": 268,
     "metadata": {},
     "output_type": "execute_result"
    },
    {
     "data": {
      "text/plain": [
       "1"
      ]
     },
     "execution_count": 268,
     "metadata": {},
     "output_type": "execute_result"
    },
    {
     "data": {
      "text/plain": [
       "1"
      ]
     },
     "execution_count": 268,
     "metadata": {},
     "output_type": "execute_result"
    },
    {
     "data": {
      "text/plain": [
       "1"
      ]
     },
     "execution_count": 268,
     "metadata": {},
     "output_type": "execute_result"
    },
    {
     "data": {
      "text/plain": [
       "1"
      ]
     },
     "execution_count": 268,
     "metadata": {},
     "output_type": "execute_result"
    },
    {
     "data": {
      "text/plain": [
       "1"
      ]
     },
     "execution_count": 268,
     "metadata": {},
     "output_type": "execute_result"
    },
    {
     "data": {
      "text/plain": [
       "1"
      ]
     },
     "execution_count": 268,
     "metadata": {},
     "output_type": "execute_result"
    },
    {
     "data": {
      "text/plain": [
       "1"
      ]
     },
     "execution_count": 268,
     "metadata": {},
     "output_type": "execute_result"
    },
    {
     "data": {
      "text/plain": [
       "1"
      ]
     },
     "execution_count": 268,
     "metadata": {},
     "output_type": "execute_result"
    },
    {
     "data": {
      "text/plain": [
       "1"
      ]
     },
     "execution_count": 268,
     "metadata": {},
     "output_type": "execute_result"
    },
    {
     "name": "stdout",
     "output_type": "stream",
     "text": [
      "committing to db\n"
     ]
    },
    {
     "data": {
      "text/plain": [
       "1"
      ]
     },
     "execution_count": 268,
     "metadata": {},
     "output_type": "execute_result"
    },
    {
     "data": {
      "text/plain": [
       "1"
      ]
     },
     "execution_count": 268,
     "metadata": {},
     "output_type": "execute_result"
    },
    {
     "data": {
      "text/plain": [
       "1"
      ]
     },
     "execution_count": 268,
     "metadata": {},
     "output_type": "execute_result"
    },
    {
     "data": {
      "text/plain": [
       "1"
      ]
     },
     "execution_count": 268,
     "metadata": {},
     "output_type": "execute_result"
    },
    {
     "data": {
      "text/plain": [
       "1"
      ]
     },
     "execution_count": 268,
     "metadata": {},
     "output_type": "execute_result"
    },
    {
     "data": {
      "text/plain": [
       "1"
      ]
     },
     "execution_count": 268,
     "metadata": {},
     "output_type": "execute_result"
    },
    {
     "data": {
      "text/plain": [
       "1"
      ]
     },
     "execution_count": 268,
     "metadata": {},
     "output_type": "execute_result"
    },
    {
     "data": {
      "text/plain": [
       "1"
      ]
     },
     "execution_count": 268,
     "metadata": {},
     "output_type": "execute_result"
    },
    {
     "data": {
      "text/plain": [
       "1"
      ]
     },
     "execution_count": 268,
     "metadata": {},
     "output_type": "execute_result"
    },
    {
     "data": {
      "text/plain": [
       "1"
      ]
     },
     "execution_count": 268,
     "metadata": {},
     "output_type": "execute_result"
    },
    {
     "data": {
      "text/plain": [
       "1"
      ]
     },
     "execution_count": 268,
     "metadata": {},
     "output_type": "execute_result"
    },
    {
     "data": {
      "text/plain": [
       "1"
      ]
     },
     "execution_count": 268,
     "metadata": {},
     "output_type": "execute_result"
    },
    {
     "data": {
      "text/plain": [
       "1"
      ]
     },
     "execution_count": 268,
     "metadata": {},
     "output_type": "execute_result"
    },
    {
     "data": {
      "text/plain": [
       "1"
      ]
     },
     "execution_count": 268,
     "metadata": {},
     "output_type": "execute_result"
    },
    {
     "data": {
      "text/plain": [
       "1"
      ]
     },
     "execution_count": 268,
     "metadata": {},
     "output_type": "execute_result"
    },
    {
     "data": {
      "text/plain": [
       "1"
      ]
     },
     "execution_count": 268,
     "metadata": {},
     "output_type": "execute_result"
    },
    {
     "data": {
      "text/plain": [
       "1"
      ]
     },
     "execution_count": 268,
     "metadata": {},
     "output_type": "execute_result"
    },
    {
     "data": {
      "text/plain": [
       "1"
      ]
     },
     "execution_count": 268,
     "metadata": {},
     "output_type": "execute_result"
    },
    {
     "data": {
      "text/plain": [
       "1"
      ]
     },
     "execution_count": 268,
     "metadata": {},
     "output_type": "execute_result"
    },
    {
     "data": {
      "text/plain": [
       "1"
      ]
     },
     "execution_count": 268,
     "metadata": {},
     "output_type": "execute_result"
    },
    {
     "data": {
      "text/plain": [
       "1"
      ]
     },
     "execution_count": 268,
     "metadata": {},
     "output_type": "execute_result"
    },
    {
     "data": {
      "text/plain": [
       "1"
      ]
     },
     "execution_count": 268,
     "metadata": {},
     "output_type": "execute_result"
    },
    {
     "data": {
      "text/plain": [
       "1"
      ]
     },
     "execution_count": 268,
     "metadata": {},
     "output_type": "execute_result"
    },
    {
     "data": {
      "text/plain": [
       "1"
      ]
     },
     "execution_count": 268,
     "metadata": {},
     "output_type": "execute_result"
    },
    {
     "data": {
      "text/plain": [
       "1"
      ]
     },
     "execution_count": 268,
     "metadata": {},
     "output_type": "execute_result"
    },
    {
     "data": {
      "text/plain": [
       "1"
      ]
     },
     "execution_count": 268,
     "metadata": {},
     "output_type": "execute_result"
    },
    {
     "data": {
      "text/plain": [
       "1"
      ]
     },
     "execution_count": 268,
     "metadata": {},
     "output_type": "execute_result"
    },
    {
     "data": {
      "text/plain": [
       "1"
      ]
     },
     "execution_count": 268,
     "metadata": {},
     "output_type": "execute_result"
    },
    {
     "data": {
      "text/plain": [
       "1"
      ]
     },
     "execution_count": 268,
     "metadata": {},
     "output_type": "execute_result"
    },
    {
     "data": {
      "text/plain": [
       "1"
      ]
     },
     "execution_count": 268,
     "metadata": {},
     "output_type": "execute_result"
    },
    {
     "data": {
      "text/plain": [
       "1"
      ]
     },
     "execution_count": 268,
     "metadata": {},
     "output_type": "execute_result"
    },
    {
     "data": {
      "text/plain": [
       "1"
      ]
     },
     "execution_count": 268,
     "metadata": {},
     "output_type": "execute_result"
    },
    {
     "data": {
      "text/plain": [
       "1"
      ]
     },
     "execution_count": 268,
     "metadata": {},
     "output_type": "execute_result"
    },
    {
     "data": {
      "text/plain": [
       "1"
      ]
     },
     "execution_count": 268,
     "metadata": {},
     "output_type": "execute_result"
    },
    {
     "data": {
      "text/plain": [
       "1"
      ]
     },
     "execution_count": 268,
     "metadata": {},
     "output_type": "execute_result"
    },
    {
     "data": {
      "text/plain": [
       "1"
      ]
     },
     "execution_count": 268,
     "metadata": {},
     "output_type": "execute_result"
    },
    {
     "data": {
      "text/plain": [
       "1"
      ]
     },
     "execution_count": 268,
     "metadata": {},
     "output_type": "execute_result"
    },
    {
     "data": {
      "text/plain": [
       "1"
      ]
     },
     "execution_count": 268,
     "metadata": {},
     "output_type": "execute_result"
    },
    {
     "data": {
      "text/plain": [
       "1"
      ]
     },
     "execution_count": 268,
     "metadata": {},
     "output_type": "execute_result"
    },
    {
     "data": {
      "text/plain": [
       "1"
      ]
     },
     "execution_count": 268,
     "metadata": {},
     "output_type": "execute_result"
    },
    {
     "data": {
      "text/plain": [
       "1"
      ]
     },
     "execution_count": 268,
     "metadata": {},
     "output_type": "execute_result"
    },
    {
     "data": {
      "text/plain": [
       "1"
      ]
     },
     "execution_count": 268,
     "metadata": {},
     "output_type": "execute_result"
    },
    {
     "data": {
      "text/plain": [
       "1"
      ]
     },
     "execution_count": 268,
     "metadata": {},
     "output_type": "execute_result"
    },
    {
     "data": {
      "text/plain": [
       "1"
      ]
     },
     "execution_count": 268,
     "metadata": {},
     "output_type": "execute_result"
    },
    {
     "data": {
      "text/plain": [
       "1"
      ]
     },
     "execution_count": 268,
     "metadata": {},
     "output_type": "execute_result"
    },
    {
     "data": {
      "text/plain": [
       "1"
      ]
     },
     "execution_count": 268,
     "metadata": {},
     "output_type": "execute_result"
    },
    {
     "data": {
      "text/plain": [
       "1"
      ]
     },
     "execution_count": 268,
     "metadata": {},
     "output_type": "execute_result"
    },
    {
     "data": {
      "text/plain": [
       "1"
      ]
     },
     "execution_count": 268,
     "metadata": {},
     "output_type": "execute_result"
    },
    {
     "data": {
      "text/plain": [
       "1"
      ]
     },
     "execution_count": 268,
     "metadata": {},
     "output_type": "execute_result"
    },
    {
     "data": {
      "text/plain": [
       "1"
      ]
     },
     "execution_count": 268,
     "metadata": {},
     "output_type": "execute_result"
    },
    {
     "name": "stdout",
     "output_type": "stream",
     "text": [
      "committing to db\n"
     ]
    },
    {
     "data": {
      "text/plain": [
       "1"
      ]
     },
     "execution_count": 268,
     "metadata": {},
     "output_type": "execute_result"
    },
    {
     "data": {
      "text/plain": [
       "1"
      ]
     },
     "execution_count": 268,
     "metadata": {},
     "output_type": "execute_result"
    },
    {
     "data": {
      "text/plain": [
       "1"
      ]
     },
     "execution_count": 268,
     "metadata": {},
     "output_type": "execute_result"
    },
    {
     "data": {
      "text/plain": [
       "1"
      ]
     },
     "execution_count": 268,
     "metadata": {},
     "output_type": "execute_result"
    },
    {
     "data": {
      "text/plain": [
       "1"
      ]
     },
     "execution_count": 268,
     "metadata": {},
     "output_type": "execute_result"
    },
    {
     "data": {
      "text/plain": [
       "1"
      ]
     },
     "execution_count": 268,
     "metadata": {},
     "output_type": "execute_result"
    },
    {
     "data": {
      "text/plain": [
       "1"
      ]
     },
     "execution_count": 268,
     "metadata": {},
     "output_type": "execute_result"
    },
    {
     "data": {
      "text/plain": [
       "1"
      ]
     },
     "execution_count": 268,
     "metadata": {},
     "output_type": "execute_result"
    },
    {
     "data": {
      "text/plain": [
       "1"
      ]
     },
     "execution_count": 268,
     "metadata": {},
     "output_type": "execute_result"
    },
    {
     "data": {
      "text/plain": [
       "1"
      ]
     },
     "execution_count": 268,
     "metadata": {},
     "output_type": "execute_result"
    },
    {
     "data": {
      "text/plain": [
       "1"
      ]
     },
     "execution_count": 268,
     "metadata": {},
     "output_type": "execute_result"
    },
    {
     "data": {
      "text/plain": [
       "1"
      ]
     },
     "execution_count": 268,
     "metadata": {},
     "output_type": "execute_result"
    },
    {
     "data": {
      "text/plain": [
       "1"
      ]
     },
     "execution_count": 268,
     "metadata": {},
     "output_type": "execute_result"
    },
    {
     "data": {
      "text/plain": [
       "1"
      ]
     },
     "execution_count": 268,
     "metadata": {},
     "output_type": "execute_result"
    },
    {
     "data": {
      "text/plain": [
       "1"
      ]
     },
     "execution_count": 268,
     "metadata": {},
     "output_type": "execute_result"
    },
    {
     "data": {
      "text/plain": [
       "1"
      ]
     },
     "execution_count": 268,
     "metadata": {},
     "output_type": "execute_result"
    },
    {
     "data": {
      "text/plain": [
       "1"
      ]
     },
     "execution_count": 268,
     "metadata": {},
     "output_type": "execute_result"
    },
    {
     "data": {
      "text/plain": [
       "1"
      ]
     },
     "execution_count": 268,
     "metadata": {},
     "output_type": "execute_result"
    },
    {
     "data": {
      "text/plain": [
       "1"
      ]
     },
     "execution_count": 268,
     "metadata": {},
     "output_type": "execute_result"
    },
    {
     "data": {
      "text/plain": [
       "1"
      ]
     },
     "execution_count": 268,
     "metadata": {},
     "output_type": "execute_result"
    },
    {
     "data": {
      "text/plain": [
       "1"
      ]
     },
     "execution_count": 268,
     "metadata": {},
     "output_type": "execute_result"
    },
    {
     "data": {
      "text/plain": [
       "1"
      ]
     },
     "execution_count": 268,
     "metadata": {},
     "output_type": "execute_result"
    },
    {
     "data": {
      "text/plain": [
       "1"
      ]
     },
     "execution_count": 268,
     "metadata": {},
     "output_type": "execute_result"
    },
    {
     "data": {
      "text/plain": [
       "1"
      ]
     },
     "execution_count": 268,
     "metadata": {},
     "output_type": "execute_result"
    },
    {
     "data": {
      "text/plain": [
       "1"
      ]
     },
     "execution_count": 268,
     "metadata": {},
     "output_type": "execute_result"
    },
    {
     "data": {
      "text/plain": [
       "1"
      ]
     },
     "execution_count": 268,
     "metadata": {},
     "output_type": "execute_result"
    },
    {
     "data": {
      "text/plain": [
       "1"
      ]
     },
     "execution_count": 268,
     "metadata": {},
     "output_type": "execute_result"
    },
    {
     "data": {
      "text/plain": [
       "1"
      ]
     },
     "execution_count": 268,
     "metadata": {},
     "output_type": "execute_result"
    },
    {
     "data": {
      "text/plain": [
       "1"
      ]
     },
     "execution_count": 268,
     "metadata": {},
     "output_type": "execute_result"
    },
    {
     "data": {
      "text/plain": [
       "1"
      ]
     },
     "execution_count": 268,
     "metadata": {},
     "output_type": "execute_result"
    },
    {
     "data": {
      "text/plain": [
       "1"
      ]
     },
     "execution_count": 268,
     "metadata": {},
     "output_type": "execute_result"
    },
    {
     "data": {
      "text/plain": [
       "1"
      ]
     },
     "execution_count": 268,
     "metadata": {},
     "output_type": "execute_result"
    },
    {
     "data": {
      "text/plain": [
       "1"
      ]
     },
     "execution_count": 268,
     "metadata": {},
     "output_type": "execute_result"
    },
    {
     "data": {
      "text/plain": [
       "1"
      ]
     },
     "execution_count": 268,
     "metadata": {},
     "output_type": "execute_result"
    },
    {
     "data": {
      "text/plain": [
       "1"
      ]
     },
     "execution_count": 268,
     "metadata": {},
     "output_type": "execute_result"
    },
    {
     "data": {
      "text/plain": [
       "1"
      ]
     },
     "execution_count": 268,
     "metadata": {},
     "output_type": "execute_result"
    },
    {
     "data": {
      "text/plain": [
       "1"
      ]
     },
     "execution_count": 268,
     "metadata": {},
     "output_type": "execute_result"
    },
    {
     "data": {
      "text/plain": [
       "1"
      ]
     },
     "execution_count": 268,
     "metadata": {},
     "output_type": "execute_result"
    },
    {
     "data": {
      "text/plain": [
       "1"
      ]
     },
     "execution_count": 268,
     "metadata": {},
     "output_type": "execute_result"
    },
    {
     "data": {
      "text/plain": [
       "1"
      ]
     },
     "execution_count": 268,
     "metadata": {},
     "output_type": "execute_result"
    },
    {
     "data": {
      "text/plain": [
       "1"
      ]
     },
     "execution_count": 268,
     "metadata": {},
     "output_type": "execute_result"
    },
    {
     "data": {
      "text/plain": [
       "1"
      ]
     },
     "execution_count": 268,
     "metadata": {},
     "output_type": "execute_result"
    },
    {
     "data": {
      "text/plain": [
       "1"
      ]
     },
     "execution_count": 268,
     "metadata": {},
     "output_type": "execute_result"
    },
    {
     "data": {
      "text/plain": [
       "1"
      ]
     },
     "execution_count": 268,
     "metadata": {},
     "output_type": "execute_result"
    },
    {
     "data": {
      "text/plain": [
       "1"
      ]
     },
     "execution_count": 268,
     "metadata": {},
     "output_type": "execute_result"
    },
    {
     "data": {
      "text/plain": [
       "1"
      ]
     },
     "execution_count": 268,
     "metadata": {},
     "output_type": "execute_result"
    },
    {
     "data": {
      "text/plain": [
       "1"
      ]
     },
     "execution_count": 268,
     "metadata": {},
     "output_type": "execute_result"
    },
    {
     "data": {
      "text/plain": [
       "1"
      ]
     },
     "execution_count": 268,
     "metadata": {},
     "output_type": "execute_result"
    },
    {
     "data": {
      "text/plain": [
       "1"
      ]
     },
     "execution_count": 268,
     "metadata": {},
     "output_type": "execute_result"
    },
    {
     "data": {
      "text/plain": [
       "1"
      ]
     },
     "execution_count": 268,
     "metadata": {},
     "output_type": "execute_result"
    },
    {
     "name": "stdout",
     "output_type": "stream",
     "text": [
      "committing to db\n"
     ]
    },
    {
     "data": {
      "text/plain": [
       "1"
      ]
     },
     "execution_count": 268,
     "metadata": {},
     "output_type": "execute_result"
    },
    {
     "data": {
      "text/plain": [
       "1"
      ]
     },
     "execution_count": 268,
     "metadata": {},
     "output_type": "execute_result"
    },
    {
     "data": {
      "text/plain": [
       "1"
      ]
     },
     "execution_count": 268,
     "metadata": {},
     "output_type": "execute_result"
    },
    {
     "data": {
      "text/plain": [
       "1"
      ]
     },
     "execution_count": 268,
     "metadata": {},
     "output_type": "execute_result"
    },
    {
     "data": {
      "text/plain": [
       "1"
      ]
     },
     "execution_count": 268,
     "metadata": {},
     "output_type": "execute_result"
    },
    {
     "data": {
      "text/plain": [
       "1"
      ]
     },
     "execution_count": 268,
     "metadata": {},
     "output_type": "execute_result"
    },
    {
     "data": {
      "text/plain": [
       "1"
      ]
     },
     "execution_count": 268,
     "metadata": {},
     "output_type": "execute_result"
    },
    {
     "data": {
      "text/plain": [
       "1"
      ]
     },
     "execution_count": 268,
     "metadata": {},
     "output_type": "execute_result"
    },
    {
     "data": {
      "text/plain": [
       "1"
      ]
     },
     "execution_count": 268,
     "metadata": {},
     "output_type": "execute_result"
    },
    {
     "data": {
      "text/plain": [
       "1"
      ]
     },
     "execution_count": 268,
     "metadata": {},
     "output_type": "execute_result"
    },
    {
     "data": {
      "text/plain": [
       "1"
      ]
     },
     "execution_count": 268,
     "metadata": {},
     "output_type": "execute_result"
    },
    {
     "data": {
      "text/plain": [
       "1"
      ]
     },
     "execution_count": 268,
     "metadata": {},
     "output_type": "execute_result"
    },
    {
     "data": {
      "text/plain": [
       "1"
      ]
     },
     "execution_count": 268,
     "metadata": {},
     "output_type": "execute_result"
    },
    {
     "data": {
      "text/plain": [
       "1"
      ]
     },
     "execution_count": 268,
     "metadata": {},
     "output_type": "execute_result"
    },
    {
     "data": {
      "text/plain": [
       "1"
      ]
     },
     "execution_count": 268,
     "metadata": {},
     "output_type": "execute_result"
    },
    {
     "data": {
      "text/plain": [
       "1"
      ]
     },
     "execution_count": 268,
     "metadata": {},
     "output_type": "execute_result"
    },
    {
     "data": {
      "text/plain": [
       "1"
      ]
     },
     "execution_count": 268,
     "metadata": {},
     "output_type": "execute_result"
    },
    {
     "data": {
      "text/plain": [
       "1"
      ]
     },
     "execution_count": 268,
     "metadata": {},
     "output_type": "execute_result"
    },
    {
     "data": {
      "text/plain": [
       "1"
      ]
     },
     "execution_count": 268,
     "metadata": {},
     "output_type": "execute_result"
    },
    {
     "data": {
      "text/plain": [
       "1"
      ]
     },
     "execution_count": 268,
     "metadata": {},
     "output_type": "execute_result"
    },
    {
     "data": {
      "text/plain": [
       "1"
      ]
     },
     "execution_count": 268,
     "metadata": {},
     "output_type": "execute_result"
    },
    {
     "data": {
      "text/plain": [
       "1"
      ]
     },
     "execution_count": 268,
     "metadata": {},
     "output_type": "execute_result"
    },
    {
     "data": {
      "text/plain": [
       "1"
      ]
     },
     "execution_count": 268,
     "metadata": {},
     "output_type": "execute_result"
    },
    {
     "data": {
      "text/plain": [
       "1"
      ]
     },
     "execution_count": 268,
     "metadata": {},
     "output_type": "execute_result"
    },
    {
     "data": {
      "text/plain": [
       "1"
      ]
     },
     "execution_count": 268,
     "metadata": {},
     "output_type": "execute_result"
    },
    {
     "data": {
      "text/plain": [
       "1"
      ]
     },
     "execution_count": 268,
     "metadata": {},
     "output_type": "execute_result"
    },
    {
     "data": {
      "text/plain": [
       "1"
      ]
     },
     "execution_count": 268,
     "metadata": {},
     "output_type": "execute_result"
    },
    {
     "data": {
      "text/plain": [
       "1"
      ]
     },
     "execution_count": 268,
     "metadata": {},
     "output_type": "execute_result"
    },
    {
     "data": {
      "text/plain": [
       "1"
      ]
     },
     "execution_count": 268,
     "metadata": {},
     "output_type": "execute_result"
    },
    {
     "data": {
      "text/plain": [
       "1"
      ]
     },
     "execution_count": 268,
     "metadata": {},
     "output_type": "execute_result"
    },
    {
     "data": {
      "text/plain": [
       "1"
      ]
     },
     "execution_count": 268,
     "metadata": {},
     "output_type": "execute_result"
    },
    {
     "data": {
      "text/plain": [
       "1"
      ]
     },
     "execution_count": 268,
     "metadata": {},
     "output_type": "execute_result"
    },
    {
     "data": {
      "text/plain": [
       "1"
      ]
     },
     "execution_count": 268,
     "metadata": {},
     "output_type": "execute_result"
    },
    {
     "data": {
      "text/plain": [
       "1"
      ]
     },
     "execution_count": 268,
     "metadata": {},
     "output_type": "execute_result"
    },
    {
     "data": {
      "text/plain": [
       "1"
      ]
     },
     "execution_count": 268,
     "metadata": {},
     "output_type": "execute_result"
    },
    {
     "data": {
      "text/plain": [
       "1"
      ]
     },
     "execution_count": 268,
     "metadata": {},
     "output_type": "execute_result"
    },
    {
     "data": {
      "text/plain": [
       "1"
      ]
     },
     "execution_count": 268,
     "metadata": {},
     "output_type": "execute_result"
    },
    {
     "data": {
      "text/plain": [
       "1"
      ]
     },
     "execution_count": 268,
     "metadata": {},
     "output_type": "execute_result"
    },
    {
     "data": {
      "text/plain": [
       "1"
      ]
     },
     "execution_count": 268,
     "metadata": {},
     "output_type": "execute_result"
    },
    {
     "data": {
      "text/plain": [
       "1"
      ]
     },
     "execution_count": 268,
     "metadata": {},
     "output_type": "execute_result"
    },
    {
     "data": {
      "text/plain": [
       "1"
      ]
     },
     "execution_count": 268,
     "metadata": {},
     "output_type": "execute_result"
    },
    {
     "data": {
      "text/plain": [
       "1"
      ]
     },
     "execution_count": 268,
     "metadata": {},
     "output_type": "execute_result"
    },
    {
     "data": {
      "text/plain": [
       "1"
      ]
     },
     "execution_count": 268,
     "metadata": {},
     "output_type": "execute_result"
    },
    {
     "data": {
      "text/plain": [
       "1"
      ]
     },
     "execution_count": 268,
     "metadata": {},
     "output_type": "execute_result"
    },
    {
     "data": {
      "text/plain": [
       "1"
      ]
     },
     "execution_count": 268,
     "metadata": {},
     "output_type": "execute_result"
    },
    {
     "data": {
      "text/plain": [
       "1"
      ]
     },
     "execution_count": 268,
     "metadata": {},
     "output_type": "execute_result"
    },
    {
     "data": {
      "text/plain": [
       "1"
      ]
     },
     "execution_count": 268,
     "metadata": {},
     "output_type": "execute_result"
    },
    {
     "data": {
      "text/plain": [
       "1"
      ]
     },
     "execution_count": 268,
     "metadata": {},
     "output_type": "execute_result"
    },
    {
     "data": {
      "text/plain": [
       "1"
      ]
     },
     "execution_count": 268,
     "metadata": {},
     "output_type": "execute_result"
    },
    {
     "data": {
      "text/plain": [
       "1"
      ]
     },
     "execution_count": 268,
     "metadata": {},
     "output_type": "execute_result"
    },
    {
     "name": "stdout",
     "output_type": "stream",
     "text": [
      "committing to db\n"
     ]
    },
    {
     "data": {
      "text/plain": [
       "1"
      ]
     },
     "execution_count": 268,
     "metadata": {},
     "output_type": "execute_result"
    },
    {
     "data": {
      "text/plain": [
       "1"
      ]
     },
     "execution_count": 268,
     "metadata": {},
     "output_type": "execute_result"
    },
    {
     "data": {
      "text/plain": [
       "1"
      ]
     },
     "execution_count": 268,
     "metadata": {},
     "output_type": "execute_result"
    },
    {
     "data": {
      "text/plain": [
       "1"
      ]
     },
     "execution_count": 268,
     "metadata": {},
     "output_type": "execute_result"
    },
    {
     "data": {
      "text/plain": [
       "1"
      ]
     },
     "execution_count": 268,
     "metadata": {},
     "output_type": "execute_result"
    },
    {
     "data": {
      "text/plain": [
       "1"
      ]
     },
     "execution_count": 268,
     "metadata": {},
     "output_type": "execute_result"
    },
    {
     "data": {
      "text/plain": [
       "1"
      ]
     },
     "execution_count": 268,
     "metadata": {},
     "output_type": "execute_result"
    },
    {
     "data": {
      "text/plain": [
       "1"
      ]
     },
     "execution_count": 268,
     "metadata": {},
     "output_type": "execute_result"
    },
    {
     "data": {
      "text/plain": [
       "1"
      ]
     },
     "execution_count": 268,
     "metadata": {},
     "output_type": "execute_result"
    },
    {
     "data": {
      "text/plain": [
       "1"
      ]
     },
     "execution_count": 268,
     "metadata": {},
     "output_type": "execute_result"
    },
    {
     "data": {
      "text/plain": [
       "1"
      ]
     },
     "execution_count": 268,
     "metadata": {},
     "output_type": "execute_result"
    },
    {
     "data": {
      "text/plain": [
       "1"
      ]
     },
     "execution_count": 268,
     "metadata": {},
     "output_type": "execute_result"
    },
    {
     "data": {
      "text/plain": [
       "1"
      ]
     },
     "execution_count": 268,
     "metadata": {},
     "output_type": "execute_result"
    },
    {
     "data": {
      "text/plain": [
       "1"
      ]
     },
     "execution_count": 268,
     "metadata": {},
     "output_type": "execute_result"
    },
    {
     "data": {
      "text/plain": [
       "1"
      ]
     },
     "execution_count": 268,
     "metadata": {},
     "output_type": "execute_result"
    },
    {
     "data": {
      "text/plain": [
       "1"
      ]
     },
     "execution_count": 268,
     "metadata": {},
     "output_type": "execute_result"
    },
    {
     "data": {
      "text/plain": [
       "1"
      ]
     },
     "execution_count": 268,
     "metadata": {},
     "output_type": "execute_result"
    },
    {
     "data": {
      "text/plain": [
       "1"
      ]
     },
     "execution_count": 268,
     "metadata": {},
     "output_type": "execute_result"
    },
    {
     "data": {
      "text/plain": [
       "1"
      ]
     },
     "execution_count": 268,
     "metadata": {},
     "output_type": "execute_result"
    },
    {
     "data": {
      "text/plain": [
       "1"
      ]
     },
     "execution_count": 268,
     "metadata": {},
     "output_type": "execute_result"
    },
    {
     "data": {
      "text/plain": [
       "1"
      ]
     },
     "execution_count": 268,
     "metadata": {},
     "output_type": "execute_result"
    },
    {
     "data": {
      "text/plain": [
       "1"
      ]
     },
     "execution_count": 268,
     "metadata": {},
     "output_type": "execute_result"
    },
    {
     "data": {
      "text/plain": [
       "1"
      ]
     },
     "execution_count": 268,
     "metadata": {},
     "output_type": "execute_result"
    },
    {
     "data": {
      "text/plain": [
       "1"
      ]
     },
     "execution_count": 268,
     "metadata": {},
     "output_type": "execute_result"
    },
    {
     "data": {
      "text/plain": [
       "1"
      ]
     },
     "execution_count": 268,
     "metadata": {},
     "output_type": "execute_result"
    },
    {
     "data": {
      "text/plain": [
       "1"
      ]
     },
     "execution_count": 268,
     "metadata": {},
     "output_type": "execute_result"
    },
    {
     "data": {
      "text/plain": [
       "1"
      ]
     },
     "execution_count": 268,
     "metadata": {},
     "output_type": "execute_result"
    },
    {
     "data": {
      "text/plain": [
       "1"
      ]
     },
     "execution_count": 268,
     "metadata": {},
     "output_type": "execute_result"
    },
    {
     "data": {
      "text/plain": [
       "1"
      ]
     },
     "execution_count": 268,
     "metadata": {},
     "output_type": "execute_result"
    },
    {
     "data": {
      "text/plain": [
       "1"
      ]
     },
     "execution_count": 268,
     "metadata": {},
     "output_type": "execute_result"
    },
    {
     "data": {
      "text/plain": [
       "1"
      ]
     },
     "execution_count": 268,
     "metadata": {},
     "output_type": "execute_result"
    },
    {
     "data": {
      "text/plain": [
       "1"
      ]
     },
     "execution_count": 268,
     "metadata": {},
     "output_type": "execute_result"
    },
    {
     "data": {
      "text/plain": [
       "1"
      ]
     },
     "execution_count": 268,
     "metadata": {},
     "output_type": "execute_result"
    },
    {
     "data": {
      "text/plain": [
       "1"
      ]
     },
     "execution_count": 268,
     "metadata": {},
     "output_type": "execute_result"
    },
    {
     "data": {
      "text/plain": [
       "1"
      ]
     },
     "execution_count": 268,
     "metadata": {},
     "output_type": "execute_result"
    },
    {
     "data": {
      "text/plain": [
       "1"
      ]
     },
     "execution_count": 268,
     "metadata": {},
     "output_type": "execute_result"
    },
    {
     "data": {
      "text/plain": [
       "1"
      ]
     },
     "execution_count": 268,
     "metadata": {},
     "output_type": "execute_result"
    },
    {
     "data": {
      "text/plain": [
       "1"
      ]
     },
     "execution_count": 268,
     "metadata": {},
     "output_type": "execute_result"
    },
    {
     "data": {
      "text/plain": [
       "1"
      ]
     },
     "execution_count": 268,
     "metadata": {},
     "output_type": "execute_result"
    },
    {
     "data": {
      "text/plain": [
       "1"
      ]
     },
     "execution_count": 268,
     "metadata": {},
     "output_type": "execute_result"
    },
    {
     "data": {
      "text/plain": [
       "1"
      ]
     },
     "execution_count": 268,
     "metadata": {},
     "output_type": "execute_result"
    },
    {
     "data": {
      "text/plain": [
       "1"
      ]
     },
     "execution_count": 268,
     "metadata": {},
     "output_type": "execute_result"
    },
    {
     "data": {
      "text/plain": [
       "1"
      ]
     },
     "execution_count": 268,
     "metadata": {},
     "output_type": "execute_result"
    },
    {
     "data": {
      "text/plain": [
       "1"
      ]
     },
     "execution_count": 268,
     "metadata": {},
     "output_type": "execute_result"
    },
    {
     "data": {
      "text/plain": [
       "1"
      ]
     },
     "execution_count": 268,
     "metadata": {},
     "output_type": "execute_result"
    },
    {
     "data": {
      "text/plain": [
       "1"
      ]
     },
     "execution_count": 268,
     "metadata": {},
     "output_type": "execute_result"
    },
    {
     "data": {
      "text/plain": [
       "1"
      ]
     },
     "execution_count": 268,
     "metadata": {},
     "output_type": "execute_result"
    },
    {
     "data": {
      "text/plain": [
       "1"
      ]
     },
     "execution_count": 268,
     "metadata": {},
     "output_type": "execute_result"
    },
    {
     "data": {
      "text/plain": [
       "1"
      ]
     },
     "execution_count": 268,
     "metadata": {},
     "output_type": "execute_result"
    },
    {
     "data": {
      "text/plain": [
       "1"
      ]
     },
     "execution_count": 268,
     "metadata": {},
     "output_type": "execute_result"
    },
    {
     "name": "stdout",
     "output_type": "stream",
     "text": [
      "committing to db\n"
     ]
    },
    {
     "data": {
      "text/plain": [
       "1"
      ]
     },
     "execution_count": 268,
     "metadata": {},
     "output_type": "execute_result"
    },
    {
     "data": {
      "text/plain": [
       "1"
      ]
     },
     "execution_count": 268,
     "metadata": {},
     "output_type": "execute_result"
    },
    {
     "data": {
      "text/plain": [
       "1"
      ]
     },
     "execution_count": 268,
     "metadata": {},
     "output_type": "execute_result"
    },
    {
     "data": {
      "text/plain": [
       "1"
      ]
     },
     "execution_count": 268,
     "metadata": {},
     "output_type": "execute_result"
    },
    {
     "data": {
      "text/plain": [
       "1"
      ]
     },
     "execution_count": 268,
     "metadata": {},
     "output_type": "execute_result"
    },
    {
     "data": {
      "text/plain": [
       "1"
      ]
     },
     "execution_count": 268,
     "metadata": {},
     "output_type": "execute_result"
    },
    {
     "data": {
      "text/plain": [
       "1"
      ]
     },
     "execution_count": 268,
     "metadata": {},
     "output_type": "execute_result"
    },
    {
     "data": {
      "text/plain": [
       "1"
      ]
     },
     "execution_count": 268,
     "metadata": {},
     "output_type": "execute_result"
    },
    {
     "data": {
      "text/plain": [
       "1"
      ]
     },
     "execution_count": 268,
     "metadata": {},
     "output_type": "execute_result"
    },
    {
     "data": {
      "text/plain": [
       "1"
      ]
     },
     "execution_count": 268,
     "metadata": {},
     "output_type": "execute_result"
    },
    {
     "data": {
      "text/plain": [
       "1"
      ]
     },
     "execution_count": 268,
     "metadata": {},
     "output_type": "execute_result"
    },
    {
     "data": {
      "text/plain": [
       "1"
      ]
     },
     "execution_count": 268,
     "metadata": {},
     "output_type": "execute_result"
    },
    {
     "data": {
      "text/plain": [
       "1"
      ]
     },
     "execution_count": 268,
     "metadata": {},
     "output_type": "execute_result"
    },
    {
     "data": {
      "text/plain": [
       "1"
      ]
     },
     "execution_count": 268,
     "metadata": {},
     "output_type": "execute_result"
    },
    {
     "data": {
      "text/plain": [
       "1"
      ]
     },
     "execution_count": 268,
     "metadata": {},
     "output_type": "execute_result"
    },
    {
     "data": {
      "text/plain": [
       "1"
      ]
     },
     "execution_count": 268,
     "metadata": {},
     "output_type": "execute_result"
    },
    {
     "data": {
      "text/plain": [
       "1"
      ]
     },
     "execution_count": 268,
     "metadata": {},
     "output_type": "execute_result"
    },
    {
     "data": {
      "text/plain": [
       "1"
      ]
     },
     "execution_count": 268,
     "metadata": {},
     "output_type": "execute_result"
    },
    {
     "data": {
      "text/plain": [
       "1"
      ]
     },
     "execution_count": 268,
     "metadata": {},
     "output_type": "execute_result"
    },
    {
     "data": {
      "text/plain": [
       "1"
      ]
     },
     "execution_count": 268,
     "metadata": {},
     "output_type": "execute_result"
    },
    {
     "data": {
      "text/plain": [
       "1"
      ]
     },
     "execution_count": 268,
     "metadata": {},
     "output_type": "execute_result"
    },
    {
     "data": {
      "text/plain": [
       "1"
      ]
     },
     "execution_count": 268,
     "metadata": {},
     "output_type": "execute_result"
    },
    {
     "data": {
      "text/plain": [
       "1"
      ]
     },
     "execution_count": 268,
     "metadata": {},
     "output_type": "execute_result"
    },
    {
     "data": {
      "text/plain": [
       "1"
      ]
     },
     "execution_count": 268,
     "metadata": {},
     "output_type": "execute_result"
    },
    {
     "data": {
      "text/plain": [
       "1"
      ]
     },
     "execution_count": 268,
     "metadata": {},
     "output_type": "execute_result"
    },
    {
     "data": {
      "text/plain": [
       "1"
      ]
     },
     "execution_count": 268,
     "metadata": {},
     "output_type": "execute_result"
    },
    {
     "data": {
      "text/plain": [
       "1"
      ]
     },
     "execution_count": 268,
     "metadata": {},
     "output_type": "execute_result"
    },
    {
     "data": {
      "text/plain": [
       "1"
      ]
     },
     "execution_count": 268,
     "metadata": {},
     "output_type": "execute_result"
    },
    {
     "data": {
      "text/plain": [
       "1"
      ]
     },
     "execution_count": 268,
     "metadata": {},
     "output_type": "execute_result"
    },
    {
     "data": {
      "text/plain": [
       "1"
      ]
     },
     "execution_count": 268,
     "metadata": {},
     "output_type": "execute_result"
    },
    {
     "data": {
      "text/plain": [
       "1"
      ]
     },
     "execution_count": 268,
     "metadata": {},
     "output_type": "execute_result"
    },
    {
     "data": {
      "text/plain": [
       "1"
      ]
     },
     "execution_count": 268,
     "metadata": {},
     "output_type": "execute_result"
    },
    {
     "data": {
      "text/plain": [
       "1"
      ]
     },
     "execution_count": 268,
     "metadata": {},
     "output_type": "execute_result"
    },
    {
     "data": {
      "text/plain": [
       "1"
      ]
     },
     "execution_count": 268,
     "metadata": {},
     "output_type": "execute_result"
    },
    {
     "data": {
      "text/plain": [
       "1"
      ]
     },
     "execution_count": 268,
     "metadata": {},
     "output_type": "execute_result"
    },
    {
     "data": {
      "text/plain": [
       "1"
      ]
     },
     "execution_count": 268,
     "metadata": {},
     "output_type": "execute_result"
    },
    {
     "data": {
      "text/plain": [
       "1"
      ]
     },
     "execution_count": 268,
     "metadata": {},
     "output_type": "execute_result"
    },
    {
     "data": {
      "text/plain": [
       "1"
      ]
     },
     "execution_count": 268,
     "metadata": {},
     "output_type": "execute_result"
    },
    {
     "data": {
      "text/plain": [
       "1"
      ]
     },
     "execution_count": 268,
     "metadata": {},
     "output_type": "execute_result"
    },
    {
     "data": {
      "text/plain": [
       "1"
      ]
     },
     "execution_count": 268,
     "metadata": {},
     "output_type": "execute_result"
    },
    {
     "data": {
      "text/plain": [
       "1"
      ]
     },
     "execution_count": 268,
     "metadata": {},
     "output_type": "execute_result"
    },
    {
     "data": {
      "text/plain": [
       "1"
      ]
     },
     "execution_count": 268,
     "metadata": {},
     "output_type": "execute_result"
    },
    {
     "data": {
      "text/plain": [
       "1"
      ]
     },
     "execution_count": 268,
     "metadata": {},
     "output_type": "execute_result"
    },
    {
     "data": {
      "text/plain": [
       "1"
      ]
     },
     "execution_count": 268,
     "metadata": {},
     "output_type": "execute_result"
    },
    {
     "data": {
      "text/plain": [
       "1"
      ]
     },
     "execution_count": 268,
     "metadata": {},
     "output_type": "execute_result"
    },
    {
     "data": {
      "text/plain": [
       "1"
      ]
     },
     "execution_count": 268,
     "metadata": {},
     "output_type": "execute_result"
    },
    {
     "data": {
      "text/plain": [
       "1"
      ]
     },
     "execution_count": 268,
     "metadata": {},
     "output_type": "execute_result"
    },
    {
     "data": {
      "text/plain": [
       "1"
      ]
     },
     "execution_count": 268,
     "metadata": {},
     "output_type": "execute_result"
    },
    {
     "data": {
      "text/plain": [
       "1"
      ]
     },
     "execution_count": 268,
     "metadata": {},
     "output_type": "execute_result"
    },
    {
     "data": {
      "text/plain": [
       "1"
      ]
     },
     "execution_count": 268,
     "metadata": {},
     "output_type": "execute_result"
    },
    {
     "name": "stdout",
     "output_type": "stream",
     "text": [
      "committing to db\n"
     ]
    },
    {
     "data": {
      "text/plain": [
       "1"
      ]
     },
     "execution_count": 268,
     "metadata": {},
     "output_type": "execute_result"
    },
    {
     "data": {
      "text/plain": [
       "1"
      ]
     },
     "execution_count": 268,
     "metadata": {},
     "output_type": "execute_result"
    },
    {
     "data": {
      "text/plain": [
       "1"
      ]
     },
     "execution_count": 268,
     "metadata": {},
     "output_type": "execute_result"
    },
    {
     "data": {
      "text/plain": [
       "1"
      ]
     },
     "execution_count": 268,
     "metadata": {},
     "output_type": "execute_result"
    },
    {
     "data": {
      "text/plain": [
       "1"
      ]
     },
     "execution_count": 268,
     "metadata": {},
     "output_type": "execute_result"
    },
    {
     "data": {
      "text/plain": [
       "1"
      ]
     },
     "execution_count": 268,
     "metadata": {},
     "output_type": "execute_result"
    },
    {
     "data": {
      "text/plain": [
       "1"
      ]
     },
     "execution_count": 268,
     "metadata": {},
     "output_type": "execute_result"
    },
    {
     "data": {
      "text/plain": [
       "1"
      ]
     },
     "execution_count": 268,
     "metadata": {},
     "output_type": "execute_result"
    },
    {
     "data": {
      "text/plain": [
       "1"
      ]
     },
     "execution_count": 268,
     "metadata": {},
     "output_type": "execute_result"
    },
    {
     "data": {
      "text/plain": [
       "1"
      ]
     },
     "execution_count": 268,
     "metadata": {},
     "output_type": "execute_result"
    },
    {
     "data": {
      "text/plain": [
       "1"
      ]
     },
     "execution_count": 268,
     "metadata": {},
     "output_type": "execute_result"
    },
    {
     "data": {
      "text/plain": [
       "1"
      ]
     },
     "execution_count": 268,
     "metadata": {},
     "output_type": "execute_result"
    },
    {
     "data": {
      "text/plain": [
       "1"
      ]
     },
     "execution_count": 268,
     "metadata": {},
     "output_type": "execute_result"
    },
    {
     "data": {
      "text/plain": [
       "1"
      ]
     },
     "execution_count": 268,
     "metadata": {},
     "output_type": "execute_result"
    },
    {
     "data": {
      "text/plain": [
       "1"
      ]
     },
     "execution_count": 268,
     "metadata": {},
     "output_type": "execute_result"
    },
    {
     "data": {
      "text/plain": [
       "1"
      ]
     },
     "execution_count": 268,
     "metadata": {},
     "output_type": "execute_result"
    },
    {
     "data": {
      "text/plain": [
       "1"
      ]
     },
     "execution_count": 268,
     "metadata": {},
     "output_type": "execute_result"
    },
    {
     "data": {
      "text/plain": [
       "1"
      ]
     },
     "execution_count": 268,
     "metadata": {},
     "output_type": "execute_result"
    },
    {
     "data": {
      "text/plain": [
       "1"
      ]
     },
     "execution_count": 268,
     "metadata": {},
     "output_type": "execute_result"
    },
    {
     "data": {
      "text/plain": [
       "1"
      ]
     },
     "execution_count": 268,
     "metadata": {},
     "output_type": "execute_result"
    },
    {
     "data": {
      "text/plain": [
       "1"
      ]
     },
     "execution_count": 268,
     "metadata": {},
     "output_type": "execute_result"
    },
    {
     "data": {
      "text/plain": [
       "1"
      ]
     },
     "execution_count": 268,
     "metadata": {},
     "output_type": "execute_result"
    },
    {
     "data": {
      "text/plain": [
       "1"
      ]
     },
     "execution_count": 268,
     "metadata": {},
     "output_type": "execute_result"
    },
    {
     "data": {
      "text/plain": [
       "1"
      ]
     },
     "execution_count": 268,
     "metadata": {},
     "output_type": "execute_result"
    },
    {
     "data": {
      "text/plain": [
       "1"
      ]
     },
     "execution_count": 268,
     "metadata": {},
     "output_type": "execute_result"
    },
    {
     "data": {
      "text/plain": [
       "1"
      ]
     },
     "execution_count": 268,
     "metadata": {},
     "output_type": "execute_result"
    },
    {
     "data": {
      "text/plain": [
       "1"
      ]
     },
     "execution_count": 268,
     "metadata": {},
     "output_type": "execute_result"
    },
    {
     "data": {
      "text/plain": [
       "1"
      ]
     },
     "execution_count": 268,
     "metadata": {},
     "output_type": "execute_result"
    },
    {
     "data": {
      "text/plain": [
       "1"
      ]
     },
     "execution_count": 268,
     "metadata": {},
     "output_type": "execute_result"
    },
    {
     "data": {
      "text/plain": [
       "1"
      ]
     },
     "execution_count": 268,
     "metadata": {},
     "output_type": "execute_result"
    },
    {
     "data": {
      "text/plain": [
       "1"
      ]
     },
     "execution_count": 268,
     "metadata": {},
     "output_type": "execute_result"
    },
    {
     "data": {
      "text/plain": [
       "1"
      ]
     },
     "execution_count": 268,
     "metadata": {},
     "output_type": "execute_result"
    },
    {
     "data": {
      "text/plain": [
       "1"
      ]
     },
     "execution_count": 268,
     "metadata": {},
     "output_type": "execute_result"
    },
    {
     "data": {
      "text/plain": [
       "1"
      ]
     },
     "execution_count": 268,
     "metadata": {},
     "output_type": "execute_result"
    },
    {
     "data": {
      "text/plain": [
       "1"
      ]
     },
     "execution_count": 268,
     "metadata": {},
     "output_type": "execute_result"
    },
    {
     "data": {
      "text/plain": [
       "1"
      ]
     },
     "execution_count": 268,
     "metadata": {},
     "output_type": "execute_result"
    },
    {
     "data": {
      "text/plain": [
       "1"
      ]
     },
     "execution_count": 268,
     "metadata": {},
     "output_type": "execute_result"
    },
    {
     "data": {
      "text/plain": [
       "1"
      ]
     },
     "execution_count": 268,
     "metadata": {},
     "output_type": "execute_result"
    },
    {
     "data": {
      "text/plain": [
       "1"
      ]
     },
     "execution_count": 268,
     "metadata": {},
     "output_type": "execute_result"
    },
    {
     "data": {
      "text/plain": [
       "1"
      ]
     },
     "execution_count": 268,
     "metadata": {},
     "output_type": "execute_result"
    },
    {
     "data": {
      "text/plain": [
       "1"
      ]
     },
     "execution_count": 268,
     "metadata": {},
     "output_type": "execute_result"
    },
    {
     "data": {
      "text/plain": [
       "1"
      ]
     },
     "execution_count": 268,
     "metadata": {},
     "output_type": "execute_result"
    },
    {
     "data": {
      "text/plain": [
       "1"
      ]
     },
     "execution_count": 268,
     "metadata": {},
     "output_type": "execute_result"
    },
    {
     "data": {
      "text/plain": [
       "1"
      ]
     },
     "execution_count": 268,
     "metadata": {},
     "output_type": "execute_result"
    },
    {
     "data": {
      "text/plain": [
       "1"
      ]
     },
     "execution_count": 268,
     "metadata": {},
     "output_type": "execute_result"
    },
    {
     "data": {
      "text/plain": [
       "1"
      ]
     },
     "execution_count": 268,
     "metadata": {},
     "output_type": "execute_result"
    },
    {
     "data": {
      "text/plain": [
       "1"
      ]
     },
     "execution_count": 268,
     "metadata": {},
     "output_type": "execute_result"
    },
    {
     "data": {
      "text/plain": [
       "1"
      ]
     },
     "execution_count": 268,
     "metadata": {},
     "output_type": "execute_result"
    },
    {
     "data": {
      "text/plain": [
       "1"
      ]
     },
     "execution_count": 268,
     "metadata": {},
     "output_type": "execute_result"
    },
    {
     "data": {
      "text/plain": [
       "1"
      ]
     },
     "execution_count": 268,
     "metadata": {},
     "output_type": "execute_result"
    },
    {
     "name": "stdout",
     "output_type": "stream",
     "text": [
      "committing to db\n"
     ]
    },
    {
     "data": {
      "text/plain": [
       "1"
      ]
     },
     "execution_count": 268,
     "metadata": {},
     "output_type": "execute_result"
    },
    {
     "data": {
      "text/plain": [
       "1"
      ]
     },
     "execution_count": 268,
     "metadata": {},
     "output_type": "execute_result"
    },
    {
     "data": {
      "text/plain": [
       "1"
      ]
     },
     "execution_count": 268,
     "metadata": {},
     "output_type": "execute_result"
    },
    {
     "data": {
      "text/plain": [
       "1"
      ]
     },
     "execution_count": 268,
     "metadata": {},
     "output_type": "execute_result"
    },
    {
     "data": {
      "text/plain": [
       "1"
      ]
     },
     "execution_count": 268,
     "metadata": {},
     "output_type": "execute_result"
    },
    {
     "data": {
      "text/plain": [
       "1"
      ]
     },
     "execution_count": 268,
     "metadata": {},
     "output_type": "execute_result"
    },
    {
     "data": {
      "text/plain": [
       "1"
      ]
     },
     "execution_count": 268,
     "metadata": {},
     "output_type": "execute_result"
    },
    {
     "data": {
      "text/plain": [
       "1"
      ]
     },
     "execution_count": 268,
     "metadata": {},
     "output_type": "execute_result"
    },
    {
     "data": {
      "text/plain": [
       "1"
      ]
     },
     "execution_count": 268,
     "metadata": {},
     "output_type": "execute_result"
    },
    {
     "data": {
      "text/plain": [
       "1"
      ]
     },
     "execution_count": 268,
     "metadata": {},
     "output_type": "execute_result"
    },
    {
     "data": {
      "text/plain": [
       "1"
      ]
     },
     "execution_count": 268,
     "metadata": {},
     "output_type": "execute_result"
    },
    {
     "data": {
      "text/plain": [
       "1"
      ]
     },
     "execution_count": 268,
     "metadata": {},
     "output_type": "execute_result"
    },
    {
     "data": {
      "text/plain": [
       "1"
      ]
     },
     "execution_count": 268,
     "metadata": {},
     "output_type": "execute_result"
    },
    {
     "data": {
      "text/plain": [
       "1"
      ]
     },
     "execution_count": 268,
     "metadata": {},
     "output_type": "execute_result"
    },
    {
     "data": {
      "text/plain": [
       "1"
      ]
     },
     "execution_count": 268,
     "metadata": {},
     "output_type": "execute_result"
    },
    {
     "data": {
      "text/plain": [
       "1"
      ]
     },
     "execution_count": 268,
     "metadata": {},
     "output_type": "execute_result"
    },
    {
     "data": {
      "text/plain": [
       "1"
      ]
     },
     "execution_count": 268,
     "metadata": {},
     "output_type": "execute_result"
    },
    {
     "data": {
      "text/plain": [
       "1"
      ]
     },
     "execution_count": 268,
     "metadata": {},
     "output_type": "execute_result"
    },
    {
     "data": {
      "text/plain": [
       "1"
      ]
     },
     "execution_count": 268,
     "metadata": {},
     "output_type": "execute_result"
    },
    {
     "data": {
      "text/plain": [
       "1"
      ]
     },
     "execution_count": 268,
     "metadata": {},
     "output_type": "execute_result"
    },
    {
     "data": {
      "text/plain": [
       "1"
      ]
     },
     "execution_count": 268,
     "metadata": {},
     "output_type": "execute_result"
    },
    {
     "data": {
      "text/plain": [
       "1"
      ]
     },
     "execution_count": 268,
     "metadata": {},
     "output_type": "execute_result"
    },
    {
     "data": {
      "text/plain": [
       "1"
      ]
     },
     "execution_count": 268,
     "metadata": {},
     "output_type": "execute_result"
    },
    {
     "data": {
      "text/plain": [
       "1"
      ]
     },
     "execution_count": 268,
     "metadata": {},
     "output_type": "execute_result"
    },
    {
     "data": {
      "text/plain": [
       "1"
      ]
     },
     "execution_count": 268,
     "metadata": {},
     "output_type": "execute_result"
    },
    {
     "data": {
      "text/plain": [
       "1"
      ]
     },
     "execution_count": 268,
     "metadata": {},
     "output_type": "execute_result"
    },
    {
     "data": {
      "text/plain": [
       "1"
      ]
     },
     "execution_count": 268,
     "metadata": {},
     "output_type": "execute_result"
    },
    {
     "data": {
      "text/plain": [
       "1"
      ]
     },
     "execution_count": 268,
     "metadata": {},
     "output_type": "execute_result"
    },
    {
     "data": {
      "text/plain": [
       "1"
      ]
     },
     "execution_count": 268,
     "metadata": {},
     "output_type": "execute_result"
    },
    {
     "data": {
      "text/plain": [
       "1"
      ]
     },
     "execution_count": 268,
     "metadata": {},
     "output_type": "execute_result"
    },
    {
     "data": {
      "text/plain": [
       "1"
      ]
     },
     "execution_count": 268,
     "metadata": {},
     "output_type": "execute_result"
    },
    {
     "data": {
      "text/plain": [
       "1"
      ]
     },
     "execution_count": 268,
     "metadata": {},
     "output_type": "execute_result"
    },
    {
     "data": {
      "text/plain": [
       "1"
      ]
     },
     "execution_count": 268,
     "metadata": {},
     "output_type": "execute_result"
    },
    {
     "data": {
      "text/plain": [
       "1"
      ]
     },
     "execution_count": 268,
     "metadata": {},
     "output_type": "execute_result"
    },
    {
     "data": {
      "text/plain": [
       "1"
      ]
     },
     "execution_count": 268,
     "metadata": {},
     "output_type": "execute_result"
    },
    {
     "data": {
      "text/plain": [
       "1"
      ]
     },
     "execution_count": 268,
     "metadata": {},
     "output_type": "execute_result"
    },
    {
     "data": {
      "text/plain": [
       "1"
      ]
     },
     "execution_count": 268,
     "metadata": {},
     "output_type": "execute_result"
    },
    {
     "data": {
      "text/plain": [
       "1"
      ]
     },
     "execution_count": 268,
     "metadata": {},
     "output_type": "execute_result"
    },
    {
     "data": {
      "text/plain": [
       "1"
      ]
     },
     "execution_count": 268,
     "metadata": {},
     "output_type": "execute_result"
    },
    {
     "data": {
      "text/plain": [
       "1"
      ]
     },
     "execution_count": 268,
     "metadata": {},
     "output_type": "execute_result"
    },
    {
     "data": {
      "text/plain": [
       "1"
      ]
     },
     "execution_count": 268,
     "metadata": {},
     "output_type": "execute_result"
    },
    {
     "data": {
      "text/plain": [
       "1"
      ]
     },
     "execution_count": 268,
     "metadata": {},
     "output_type": "execute_result"
    },
    {
     "data": {
      "text/plain": [
       "1"
      ]
     },
     "execution_count": 268,
     "metadata": {},
     "output_type": "execute_result"
    },
    {
     "data": {
      "text/plain": [
       "1"
      ]
     },
     "execution_count": 268,
     "metadata": {},
     "output_type": "execute_result"
    },
    {
     "data": {
      "text/plain": [
       "1"
      ]
     },
     "execution_count": 268,
     "metadata": {},
     "output_type": "execute_result"
    },
    {
     "data": {
      "text/plain": [
       "1"
      ]
     },
     "execution_count": 268,
     "metadata": {},
     "output_type": "execute_result"
    },
    {
     "data": {
      "text/plain": [
       "1"
      ]
     },
     "execution_count": 268,
     "metadata": {},
     "output_type": "execute_result"
    },
    {
     "data": {
      "text/plain": [
       "1"
      ]
     },
     "execution_count": 268,
     "metadata": {},
     "output_type": "execute_result"
    },
    {
     "data": {
      "text/plain": [
       "1"
      ]
     },
     "execution_count": 268,
     "metadata": {},
     "output_type": "execute_result"
    },
    {
     "data": {
      "text/plain": [
       "1"
      ]
     },
     "execution_count": 268,
     "metadata": {},
     "output_type": "execute_result"
    },
    {
     "name": "stdout",
     "output_type": "stream",
     "text": [
      "committing to db\n"
     ]
    },
    {
     "data": {
      "text/plain": [
       "1"
      ]
     },
     "execution_count": 268,
     "metadata": {},
     "output_type": "execute_result"
    },
    {
     "data": {
      "text/plain": [
       "1"
      ]
     },
     "execution_count": 268,
     "metadata": {},
     "output_type": "execute_result"
    },
    {
     "data": {
      "text/plain": [
       "1"
      ]
     },
     "execution_count": 268,
     "metadata": {},
     "output_type": "execute_result"
    },
    {
     "data": {
      "text/plain": [
       "1"
      ]
     },
     "execution_count": 268,
     "metadata": {},
     "output_type": "execute_result"
    },
    {
     "data": {
      "text/plain": [
       "1"
      ]
     },
     "execution_count": 268,
     "metadata": {},
     "output_type": "execute_result"
    },
    {
     "data": {
      "text/plain": [
       "1"
      ]
     },
     "execution_count": 268,
     "metadata": {},
     "output_type": "execute_result"
    },
    {
     "data": {
      "text/plain": [
       "1"
      ]
     },
     "execution_count": 268,
     "metadata": {},
     "output_type": "execute_result"
    },
    {
     "data": {
      "text/plain": [
       "1"
      ]
     },
     "execution_count": 268,
     "metadata": {},
     "output_type": "execute_result"
    },
    {
     "data": {
      "text/plain": [
       "1"
      ]
     },
     "execution_count": 268,
     "metadata": {},
     "output_type": "execute_result"
    },
    {
     "data": {
      "text/plain": [
       "1"
      ]
     },
     "execution_count": 268,
     "metadata": {},
     "output_type": "execute_result"
    },
    {
     "data": {
      "text/plain": [
       "1"
      ]
     },
     "execution_count": 268,
     "metadata": {},
     "output_type": "execute_result"
    },
    {
     "data": {
      "text/plain": [
       "1"
      ]
     },
     "execution_count": 268,
     "metadata": {},
     "output_type": "execute_result"
    },
    {
     "data": {
      "text/plain": [
       "1"
      ]
     },
     "execution_count": 268,
     "metadata": {},
     "output_type": "execute_result"
    },
    {
     "data": {
      "text/plain": [
       "1"
      ]
     },
     "execution_count": 268,
     "metadata": {},
     "output_type": "execute_result"
    },
    {
     "data": {
      "text/plain": [
       "1"
      ]
     },
     "execution_count": 268,
     "metadata": {},
     "output_type": "execute_result"
    },
    {
     "data": {
      "text/plain": [
       "1"
      ]
     },
     "execution_count": 268,
     "metadata": {},
     "output_type": "execute_result"
    },
    {
     "data": {
      "text/plain": [
       "1"
      ]
     },
     "execution_count": 268,
     "metadata": {},
     "output_type": "execute_result"
    },
    {
     "data": {
      "text/plain": [
       "1"
      ]
     },
     "execution_count": 268,
     "metadata": {},
     "output_type": "execute_result"
    },
    {
     "data": {
      "text/plain": [
       "1"
      ]
     },
     "execution_count": 268,
     "metadata": {},
     "output_type": "execute_result"
    },
    {
     "data": {
      "text/plain": [
       "1"
      ]
     },
     "execution_count": 268,
     "metadata": {},
     "output_type": "execute_result"
    },
    {
     "data": {
      "text/plain": [
       "1"
      ]
     },
     "execution_count": 268,
     "metadata": {},
     "output_type": "execute_result"
    },
    {
     "data": {
      "text/plain": [
       "1"
      ]
     },
     "execution_count": 268,
     "metadata": {},
     "output_type": "execute_result"
    },
    {
     "data": {
      "text/plain": [
       "1"
      ]
     },
     "execution_count": 268,
     "metadata": {},
     "output_type": "execute_result"
    },
    {
     "data": {
      "text/plain": [
       "1"
      ]
     },
     "execution_count": 268,
     "metadata": {},
     "output_type": "execute_result"
    },
    {
     "data": {
      "text/plain": [
       "1"
      ]
     },
     "execution_count": 268,
     "metadata": {},
     "output_type": "execute_result"
    },
    {
     "data": {
      "text/plain": [
       "1"
      ]
     },
     "execution_count": 268,
     "metadata": {},
     "output_type": "execute_result"
    },
    {
     "data": {
      "text/plain": [
       "1"
      ]
     },
     "execution_count": 268,
     "metadata": {},
     "output_type": "execute_result"
    },
    {
     "data": {
      "text/plain": [
       "1"
      ]
     },
     "execution_count": 268,
     "metadata": {},
     "output_type": "execute_result"
    },
    {
     "data": {
      "text/plain": [
       "1"
      ]
     },
     "execution_count": 268,
     "metadata": {},
     "output_type": "execute_result"
    },
    {
     "data": {
      "text/plain": [
       "1"
      ]
     },
     "execution_count": 268,
     "metadata": {},
     "output_type": "execute_result"
    },
    {
     "data": {
      "text/plain": [
       "1"
      ]
     },
     "execution_count": 268,
     "metadata": {},
     "output_type": "execute_result"
    },
    {
     "data": {
      "text/plain": [
       "1"
      ]
     },
     "execution_count": 268,
     "metadata": {},
     "output_type": "execute_result"
    },
    {
     "data": {
      "text/plain": [
       "1"
      ]
     },
     "execution_count": 268,
     "metadata": {},
     "output_type": "execute_result"
    },
    {
     "data": {
      "text/plain": [
       "1"
      ]
     },
     "execution_count": 268,
     "metadata": {},
     "output_type": "execute_result"
    },
    {
     "data": {
      "text/plain": [
       "1"
      ]
     },
     "execution_count": 268,
     "metadata": {},
     "output_type": "execute_result"
    },
    {
     "data": {
      "text/plain": [
       "1"
      ]
     },
     "execution_count": 268,
     "metadata": {},
     "output_type": "execute_result"
    },
    {
     "data": {
      "text/plain": [
       "1"
      ]
     },
     "execution_count": 268,
     "metadata": {},
     "output_type": "execute_result"
    },
    {
     "data": {
      "text/plain": [
       "1"
      ]
     },
     "execution_count": 268,
     "metadata": {},
     "output_type": "execute_result"
    },
    {
     "data": {
      "text/plain": [
       "1"
      ]
     },
     "execution_count": 268,
     "metadata": {},
     "output_type": "execute_result"
    },
    {
     "data": {
      "text/plain": [
       "1"
      ]
     },
     "execution_count": 268,
     "metadata": {},
     "output_type": "execute_result"
    },
    {
     "data": {
      "text/plain": [
       "1"
      ]
     },
     "execution_count": 268,
     "metadata": {},
     "output_type": "execute_result"
    },
    {
     "data": {
      "text/plain": [
       "1"
      ]
     },
     "execution_count": 268,
     "metadata": {},
     "output_type": "execute_result"
    },
    {
     "data": {
      "text/plain": [
       "1"
      ]
     },
     "execution_count": 268,
     "metadata": {},
     "output_type": "execute_result"
    },
    {
     "data": {
      "text/plain": [
       "1"
      ]
     },
     "execution_count": 268,
     "metadata": {},
     "output_type": "execute_result"
    },
    {
     "data": {
      "text/plain": [
       "1"
      ]
     },
     "execution_count": 268,
     "metadata": {},
     "output_type": "execute_result"
    },
    {
     "data": {
      "text/plain": [
       "1"
      ]
     },
     "execution_count": 268,
     "metadata": {},
     "output_type": "execute_result"
    },
    {
     "data": {
      "text/plain": [
       "1"
      ]
     },
     "execution_count": 268,
     "metadata": {},
     "output_type": "execute_result"
    },
    {
     "data": {
      "text/plain": [
       "1"
      ]
     },
     "execution_count": 268,
     "metadata": {},
     "output_type": "execute_result"
    },
    {
     "data": {
      "text/plain": [
       "1"
      ]
     },
     "execution_count": 268,
     "metadata": {},
     "output_type": "execute_result"
    },
    {
     "data": {
      "text/plain": [
       "1"
      ]
     },
     "execution_count": 268,
     "metadata": {},
     "output_type": "execute_result"
    },
    {
     "name": "stdout",
     "output_type": "stream",
     "text": [
      "committing to db\n"
     ]
    },
    {
     "data": {
      "text/plain": [
       "1"
      ]
     },
     "execution_count": 268,
     "metadata": {},
     "output_type": "execute_result"
    },
    {
     "data": {
      "text/plain": [
       "1"
      ]
     },
     "execution_count": 268,
     "metadata": {},
     "output_type": "execute_result"
    },
    {
     "data": {
      "text/plain": [
       "1"
      ]
     },
     "execution_count": 268,
     "metadata": {},
     "output_type": "execute_result"
    },
    {
     "data": {
      "text/plain": [
       "1"
      ]
     },
     "execution_count": 268,
     "metadata": {},
     "output_type": "execute_result"
    },
    {
     "data": {
      "text/plain": [
       "1"
      ]
     },
     "execution_count": 268,
     "metadata": {},
     "output_type": "execute_result"
    },
    {
     "data": {
      "text/plain": [
       "1"
      ]
     },
     "execution_count": 268,
     "metadata": {},
     "output_type": "execute_result"
    },
    {
     "data": {
      "text/plain": [
       "1"
      ]
     },
     "execution_count": 268,
     "metadata": {},
     "output_type": "execute_result"
    },
    {
     "data": {
      "text/plain": [
       "1"
      ]
     },
     "execution_count": 268,
     "metadata": {},
     "output_type": "execute_result"
    },
    {
     "data": {
      "text/plain": [
       "1"
      ]
     },
     "execution_count": 268,
     "metadata": {},
     "output_type": "execute_result"
    },
    {
     "data": {
      "text/plain": [
       "1"
      ]
     },
     "execution_count": 268,
     "metadata": {},
     "output_type": "execute_result"
    },
    {
     "data": {
      "text/plain": [
       "1"
      ]
     },
     "execution_count": 268,
     "metadata": {},
     "output_type": "execute_result"
    },
    {
     "data": {
      "text/plain": [
       "1"
      ]
     },
     "execution_count": 268,
     "metadata": {},
     "output_type": "execute_result"
    },
    {
     "data": {
      "text/plain": [
       "1"
      ]
     },
     "execution_count": 268,
     "metadata": {},
     "output_type": "execute_result"
    },
    {
     "data": {
      "text/plain": [
       "1"
      ]
     },
     "execution_count": 268,
     "metadata": {},
     "output_type": "execute_result"
    },
    {
     "data": {
      "text/plain": [
       "1"
      ]
     },
     "execution_count": 268,
     "metadata": {},
     "output_type": "execute_result"
    },
    {
     "data": {
      "text/plain": [
       "1"
      ]
     },
     "execution_count": 268,
     "metadata": {},
     "output_type": "execute_result"
    },
    {
     "data": {
      "text/plain": [
       "1"
      ]
     },
     "execution_count": 268,
     "metadata": {},
     "output_type": "execute_result"
    },
    {
     "data": {
      "text/plain": [
       "1"
      ]
     },
     "execution_count": 268,
     "metadata": {},
     "output_type": "execute_result"
    },
    {
     "data": {
      "text/plain": [
       "1"
      ]
     },
     "execution_count": 268,
     "metadata": {},
     "output_type": "execute_result"
    },
    {
     "data": {
      "text/plain": [
       "1"
      ]
     },
     "execution_count": 268,
     "metadata": {},
     "output_type": "execute_result"
    },
    {
     "data": {
      "text/plain": [
       "1"
      ]
     },
     "execution_count": 268,
     "metadata": {},
     "output_type": "execute_result"
    },
    {
     "data": {
      "text/plain": [
       "1"
      ]
     },
     "execution_count": 268,
     "metadata": {},
     "output_type": "execute_result"
    },
    {
     "data": {
      "text/plain": [
       "1"
      ]
     },
     "execution_count": 268,
     "metadata": {},
     "output_type": "execute_result"
    },
    {
     "data": {
      "text/plain": [
       "1"
      ]
     },
     "execution_count": 268,
     "metadata": {},
     "output_type": "execute_result"
    },
    {
     "data": {
      "text/plain": [
       "1"
      ]
     },
     "execution_count": 268,
     "metadata": {},
     "output_type": "execute_result"
    },
    {
     "data": {
      "text/plain": [
       "1"
      ]
     },
     "execution_count": 268,
     "metadata": {},
     "output_type": "execute_result"
    },
    {
     "data": {
      "text/plain": [
       "1"
      ]
     },
     "execution_count": 268,
     "metadata": {},
     "output_type": "execute_result"
    },
    {
     "data": {
      "text/plain": [
       "1"
      ]
     },
     "execution_count": 268,
     "metadata": {},
     "output_type": "execute_result"
    },
    {
     "data": {
      "text/plain": [
       "1"
      ]
     },
     "execution_count": 268,
     "metadata": {},
     "output_type": "execute_result"
    },
    {
     "data": {
      "text/plain": [
       "1"
      ]
     },
     "execution_count": 268,
     "metadata": {},
     "output_type": "execute_result"
    },
    {
     "data": {
      "text/plain": [
       "1"
      ]
     },
     "execution_count": 268,
     "metadata": {},
     "output_type": "execute_result"
    },
    {
     "data": {
      "text/plain": [
       "1"
      ]
     },
     "execution_count": 268,
     "metadata": {},
     "output_type": "execute_result"
    },
    {
     "data": {
      "text/plain": [
       "1"
      ]
     },
     "execution_count": 268,
     "metadata": {},
     "output_type": "execute_result"
    },
    {
     "data": {
      "text/plain": [
       "1"
      ]
     },
     "execution_count": 268,
     "metadata": {},
     "output_type": "execute_result"
    },
    {
     "data": {
      "text/plain": [
       "1"
      ]
     },
     "execution_count": 268,
     "metadata": {},
     "output_type": "execute_result"
    },
    {
     "data": {
      "text/plain": [
       "1"
      ]
     },
     "execution_count": 268,
     "metadata": {},
     "output_type": "execute_result"
    },
    {
     "data": {
      "text/plain": [
       "1"
      ]
     },
     "execution_count": 268,
     "metadata": {},
     "output_type": "execute_result"
    },
    {
     "data": {
      "text/plain": [
       "1"
      ]
     },
     "execution_count": 268,
     "metadata": {},
     "output_type": "execute_result"
    },
    {
     "data": {
      "text/plain": [
       "1"
      ]
     },
     "execution_count": 268,
     "metadata": {},
     "output_type": "execute_result"
    },
    {
     "data": {
      "text/plain": [
       "1"
      ]
     },
     "execution_count": 268,
     "metadata": {},
     "output_type": "execute_result"
    },
    {
     "data": {
      "text/plain": [
       "1"
      ]
     },
     "execution_count": 268,
     "metadata": {},
     "output_type": "execute_result"
    },
    {
     "data": {
      "text/plain": [
       "1"
      ]
     },
     "execution_count": 268,
     "metadata": {},
     "output_type": "execute_result"
    },
    {
     "data": {
      "text/plain": [
       "1"
      ]
     },
     "execution_count": 268,
     "metadata": {},
     "output_type": "execute_result"
    },
    {
     "data": {
      "text/plain": [
       "1"
      ]
     },
     "execution_count": 268,
     "metadata": {},
     "output_type": "execute_result"
    },
    {
     "data": {
      "text/plain": [
       "1"
      ]
     },
     "execution_count": 268,
     "metadata": {},
     "output_type": "execute_result"
    },
    {
     "data": {
      "text/plain": [
       "1"
      ]
     },
     "execution_count": 268,
     "metadata": {},
     "output_type": "execute_result"
    },
    {
     "data": {
      "text/plain": [
       "1"
      ]
     },
     "execution_count": 268,
     "metadata": {},
     "output_type": "execute_result"
    },
    {
     "data": {
      "text/plain": [
       "1"
      ]
     },
     "execution_count": 268,
     "metadata": {},
     "output_type": "execute_result"
    },
    {
     "data": {
      "text/plain": [
       "1"
      ]
     },
     "execution_count": 268,
     "metadata": {},
     "output_type": "execute_result"
    },
    {
     "data": {
      "text/plain": [
       "1"
      ]
     },
     "execution_count": 268,
     "metadata": {},
     "output_type": "execute_result"
    },
    {
     "name": "stdout",
     "output_type": "stream",
     "text": [
      "committing to db\n"
     ]
    },
    {
     "data": {
      "text/plain": [
       "1"
      ]
     },
     "execution_count": 268,
     "metadata": {},
     "output_type": "execute_result"
    },
    {
     "data": {
      "text/plain": [
       "1"
      ]
     },
     "execution_count": 268,
     "metadata": {},
     "output_type": "execute_result"
    },
    {
     "data": {
      "text/plain": [
       "1"
      ]
     },
     "execution_count": 268,
     "metadata": {},
     "output_type": "execute_result"
    },
    {
     "data": {
      "text/plain": [
       "1"
      ]
     },
     "execution_count": 268,
     "metadata": {},
     "output_type": "execute_result"
    },
    {
     "data": {
      "text/plain": [
       "1"
      ]
     },
     "execution_count": 268,
     "metadata": {},
     "output_type": "execute_result"
    },
    {
     "data": {
      "text/plain": [
       "1"
      ]
     },
     "execution_count": 268,
     "metadata": {},
     "output_type": "execute_result"
    },
    {
     "data": {
      "text/plain": [
       "1"
      ]
     },
     "execution_count": 268,
     "metadata": {},
     "output_type": "execute_result"
    },
    {
     "data": {
      "text/plain": [
       "1"
      ]
     },
     "execution_count": 268,
     "metadata": {},
     "output_type": "execute_result"
    },
    {
     "data": {
      "text/plain": [
       "1"
      ]
     },
     "execution_count": 268,
     "metadata": {},
     "output_type": "execute_result"
    },
    {
     "data": {
      "text/plain": [
       "1"
      ]
     },
     "execution_count": 268,
     "metadata": {},
     "output_type": "execute_result"
    },
    {
     "data": {
      "text/plain": [
       "1"
      ]
     },
     "execution_count": 268,
     "metadata": {},
     "output_type": "execute_result"
    },
    {
     "data": {
      "text/plain": [
       "1"
      ]
     },
     "execution_count": 268,
     "metadata": {},
     "output_type": "execute_result"
    },
    {
     "data": {
      "text/plain": [
       "1"
      ]
     },
     "execution_count": 268,
     "metadata": {},
     "output_type": "execute_result"
    },
    {
     "data": {
      "text/plain": [
       "1"
      ]
     },
     "execution_count": 268,
     "metadata": {},
     "output_type": "execute_result"
    },
    {
     "data": {
      "text/plain": [
       "1"
      ]
     },
     "execution_count": 268,
     "metadata": {},
     "output_type": "execute_result"
    },
    {
     "data": {
      "text/plain": [
       "1"
      ]
     },
     "execution_count": 268,
     "metadata": {},
     "output_type": "execute_result"
    },
    {
     "data": {
      "text/plain": [
       "1"
      ]
     },
     "execution_count": 268,
     "metadata": {},
     "output_type": "execute_result"
    },
    {
     "data": {
      "text/plain": [
       "1"
      ]
     },
     "execution_count": 268,
     "metadata": {},
     "output_type": "execute_result"
    },
    {
     "data": {
      "text/plain": [
       "1"
      ]
     },
     "execution_count": 268,
     "metadata": {},
     "output_type": "execute_result"
    },
    {
     "data": {
      "text/plain": [
       "1"
      ]
     },
     "execution_count": 268,
     "metadata": {},
     "output_type": "execute_result"
    },
    {
     "data": {
      "text/plain": [
       "1"
      ]
     },
     "execution_count": 268,
     "metadata": {},
     "output_type": "execute_result"
    },
    {
     "data": {
      "text/plain": [
       "1"
      ]
     },
     "execution_count": 268,
     "metadata": {},
     "output_type": "execute_result"
    },
    {
     "data": {
      "text/plain": [
       "1"
      ]
     },
     "execution_count": 268,
     "metadata": {},
     "output_type": "execute_result"
    },
    {
     "data": {
      "text/plain": [
       "1"
      ]
     },
     "execution_count": 268,
     "metadata": {},
     "output_type": "execute_result"
    },
    {
     "data": {
      "text/plain": [
       "1"
      ]
     },
     "execution_count": 268,
     "metadata": {},
     "output_type": "execute_result"
    },
    {
     "data": {
      "text/plain": [
       "1"
      ]
     },
     "execution_count": 268,
     "metadata": {},
     "output_type": "execute_result"
    },
    {
     "data": {
      "text/plain": [
       "1"
      ]
     },
     "execution_count": 268,
     "metadata": {},
     "output_type": "execute_result"
    },
    {
     "data": {
      "text/plain": [
       "1"
      ]
     },
     "execution_count": 268,
     "metadata": {},
     "output_type": "execute_result"
    },
    {
     "data": {
      "text/plain": [
       "1"
      ]
     },
     "execution_count": 268,
     "metadata": {},
     "output_type": "execute_result"
    },
    {
     "data": {
      "text/plain": [
       "1"
      ]
     },
     "execution_count": 268,
     "metadata": {},
     "output_type": "execute_result"
    },
    {
     "data": {
      "text/plain": [
       "1"
      ]
     },
     "execution_count": 268,
     "metadata": {},
     "output_type": "execute_result"
    },
    {
     "data": {
      "text/plain": [
       "1"
      ]
     },
     "execution_count": 268,
     "metadata": {},
     "output_type": "execute_result"
    },
    {
     "data": {
      "text/plain": [
       "1"
      ]
     },
     "execution_count": 268,
     "metadata": {},
     "output_type": "execute_result"
    },
    {
     "data": {
      "text/plain": [
       "1"
      ]
     },
     "execution_count": 268,
     "metadata": {},
     "output_type": "execute_result"
    },
    {
     "data": {
      "text/plain": [
       "1"
      ]
     },
     "execution_count": 268,
     "metadata": {},
     "output_type": "execute_result"
    },
    {
     "data": {
      "text/plain": [
       "1"
      ]
     },
     "execution_count": 268,
     "metadata": {},
     "output_type": "execute_result"
    },
    {
     "data": {
      "text/plain": [
       "1"
      ]
     },
     "execution_count": 268,
     "metadata": {},
     "output_type": "execute_result"
    },
    {
     "data": {
      "text/plain": [
       "1"
      ]
     },
     "execution_count": 268,
     "metadata": {},
     "output_type": "execute_result"
    },
    {
     "data": {
      "text/plain": [
       "1"
      ]
     },
     "execution_count": 268,
     "metadata": {},
     "output_type": "execute_result"
    },
    {
     "data": {
      "text/plain": [
       "1"
      ]
     },
     "execution_count": 268,
     "metadata": {},
     "output_type": "execute_result"
    },
    {
     "data": {
      "text/plain": [
       "1"
      ]
     },
     "execution_count": 268,
     "metadata": {},
     "output_type": "execute_result"
    },
    {
     "data": {
      "text/plain": [
       "1"
      ]
     },
     "execution_count": 268,
     "metadata": {},
     "output_type": "execute_result"
    },
    {
     "data": {
      "text/plain": [
       "1"
      ]
     },
     "execution_count": 268,
     "metadata": {},
     "output_type": "execute_result"
    },
    {
     "data": {
      "text/plain": [
       "1"
      ]
     },
     "execution_count": 268,
     "metadata": {},
     "output_type": "execute_result"
    },
    {
     "data": {
      "text/plain": [
       "1"
      ]
     },
     "execution_count": 268,
     "metadata": {},
     "output_type": "execute_result"
    },
    {
     "data": {
      "text/plain": [
       "1"
      ]
     },
     "execution_count": 268,
     "metadata": {},
     "output_type": "execute_result"
    },
    {
     "data": {
      "text/plain": [
       "1"
      ]
     },
     "execution_count": 268,
     "metadata": {},
     "output_type": "execute_result"
    },
    {
     "data": {
      "text/plain": [
       "1"
      ]
     },
     "execution_count": 268,
     "metadata": {},
     "output_type": "execute_result"
    },
    {
     "data": {
      "text/plain": [
       "1"
      ]
     },
     "execution_count": 268,
     "metadata": {},
     "output_type": "execute_result"
    },
    {
     "data": {
      "text/plain": [
       "1"
      ]
     },
     "execution_count": 268,
     "metadata": {},
     "output_type": "execute_result"
    },
    {
     "name": "stdout",
     "output_type": "stream",
     "text": [
      "committing to db\n"
     ]
    },
    {
     "data": {
      "text/plain": [
       "1"
      ]
     },
     "execution_count": 268,
     "metadata": {},
     "output_type": "execute_result"
    },
    {
     "data": {
      "text/plain": [
       "1"
      ]
     },
     "execution_count": 268,
     "metadata": {},
     "output_type": "execute_result"
    },
    {
     "data": {
      "text/plain": [
       "1"
      ]
     },
     "execution_count": 268,
     "metadata": {},
     "output_type": "execute_result"
    },
    {
     "data": {
      "text/plain": [
       "1"
      ]
     },
     "execution_count": 268,
     "metadata": {},
     "output_type": "execute_result"
    },
    {
     "data": {
      "text/plain": [
       "1"
      ]
     },
     "execution_count": 268,
     "metadata": {},
     "output_type": "execute_result"
    },
    {
     "data": {
      "text/plain": [
       "1"
      ]
     },
     "execution_count": 268,
     "metadata": {},
     "output_type": "execute_result"
    },
    {
     "data": {
      "text/plain": [
       "1"
      ]
     },
     "execution_count": 268,
     "metadata": {},
     "output_type": "execute_result"
    },
    {
     "data": {
      "text/plain": [
       "1"
      ]
     },
     "execution_count": 268,
     "metadata": {},
     "output_type": "execute_result"
    },
    {
     "data": {
      "text/plain": [
       "1"
      ]
     },
     "execution_count": 268,
     "metadata": {},
     "output_type": "execute_result"
    },
    {
     "data": {
      "text/plain": [
       "1"
      ]
     },
     "execution_count": 268,
     "metadata": {},
     "output_type": "execute_result"
    },
    {
     "data": {
      "text/plain": [
       "1"
      ]
     },
     "execution_count": 268,
     "metadata": {},
     "output_type": "execute_result"
    },
    {
     "data": {
      "text/plain": [
       "1"
      ]
     },
     "execution_count": 268,
     "metadata": {},
     "output_type": "execute_result"
    },
    {
     "data": {
      "text/plain": [
       "1"
      ]
     },
     "execution_count": 268,
     "metadata": {},
     "output_type": "execute_result"
    },
    {
     "data": {
      "text/plain": [
       "1"
      ]
     },
     "execution_count": 268,
     "metadata": {},
     "output_type": "execute_result"
    },
    {
     "data": {
      "text/plain": [
       "1"
      ]
     },
     "execution_count": 268,
     "metadata": {},
     "output_type": "execute_result"
    },
    {
     "data": {
      "text/plain": [
       "1"
      ]
     },
     "execution_count": 268,
     "metadata": {},
     "output_type": "execute_result"
    },
    {
     "data": {
      "text/plain": [
       "1"
      ]
     },
     "execution_count": 268,
     "metadata": {},
     "output_type": "execute_result"
    },
    {
     "data": {
      "text/plain": [
       "1"
      ]
     },
     "execution_count": 268,
     "metadata": {},
     "output_type": "execute_result"
    },
    {
     "data": {
      "text/plain": [
       "1"
      ]
     },
     "execution_count": 268,
     "metadata": {},
     "output_type": "execute_result"
    },
    {
     "data": {
      "text/plain": [
       "1"
      ]
     },
     "execution_count": 268,
     "metadata": {},
     "output_type": "execute_result"
    },
    {
     "data": {
      "text/plain": [
       "1"
      ]
     },
     "execution_count": 268,
     "metadata": {},
     "output_type": "execute_result"
    },
    {
     "data": {
      "text/plain": [
       "1"
      ]
     },
     "execution_count": 268,
     "metadata": {},
     "output_type": "execute_result"
    },
    {
     "data": {
      "text/plain": [
       "1"
      ]
     },
     "execution_count": 268,
     "metadata": {},
     "output_type": "execute_result"
    },
    {
     "data": {
      "text/plain": [
       "1"
      ]
     },
     "execution_count": 268,
     "metadata": {},
     "output_type": "execute_result"
    },
    {
     "data": {
      "text/plain": [
       "1"
      ]
     },
     "execution_count": 268,
     "metadata": {},
     "output_type": "execute_result"
    },
    {
     "data": {
      "text/plain": [
       "1"
      ]
     },
     "execution_count": 268,
     "metadata": {},
     "output_type": "execute_result"
    },
    {
     "data": {
      "text/plain": [
       "1"
      ]
     },
     "execution_count": 268,
     "metadata": {},
     "output_type": "execute_result"
    },
    {
     "data": {
      "text/plain": [
       "1"
      ]
     },
     "execution_count": 268,
     "metadata": {},
     "output_type": "execute_result"
    },
    {
     "data": {
      "text/plain": [
       "1"
      ]
     },
     "execution_count": 268,
     "metadata": {},
     "output_type": "execute_result"
    },
    {
     "data": {
      "text/plain": [
       "1"
      ]
     },
     "execution_count": 268,
     "metadata": {},
     "output_type": "execute_result"
    },
    {
     "data": {
      "text/plain": [
       "1"
      ]
     },
     "execution_count": 268,
     "metadata": {},
     "output_type": "execute_result"
    },
    {
     "data": {
      "text/plain": [
       "1"
      ]
     },
     "execution_count": 268,
     "metadata": {},
     "output_type": "execute_result"
    },
    {
     "data": {
      "text/plain": [
       "1"
      ]
     },
     "execution_count": 268,
     "metadata": {},
     "output_type": "execute_result"
    },
    {
     "data": {
      "text/plain": [
       "1"
      ]
     },
     "execution_count": 268,
     "metadata": {},
     "output_type": "execute_result"
    },
    {
     "data": {
      "text/plain": [
       "1"
      ]
     },
     "execution_count": 268,
     "metadata": {},
     "output_type": "execute_result"
    },
    {
     "data": {
      "text/plain": [
       "1"
      ]
     },
     "execution_count": 268,
     "metadata": {},
     "output_type": "execute_result"
    },
    {
     "data": {
      "text/plain": [
       "1"
      ]
     },
     "execution_count": 268,
     "metadata": {},
     "output_type": "execute_result"
    },
    {
     "data": {
      "text/plain": [
       "1"
      ]
     },
     "execution_count": 268,
     "metadata": {},
     "output_type": "execute_result"
    },
    {
     "data": {
      "text/plain": [
       "1"
      ]
     },
     "execution_count": 268,
     "metadata": {},
     "output_type": "execute_result"
    },
    {
     "data": {
      "text/plain": [
       "1"
      ]
     },
     "execution_count": 268,
     "metadata": {},
     "output_type": "execute_result"
    },
    {
     "data": {
      "text/plain": [
       "1"
      ]
     },
     "execution_count": 268,
     "metadata": {},
     "output_type": "execute_result"
    },
    {
     "data": {
      "text/plain": [
       "1"
      ]
     },
     "execution_count": 268,
     "metadata": {},
     "output_type": "execute_result"
    },
    {
     "data": {
      "text/plain": [
       "1"
      ]
     },
     "execution_count": 268,
     "metadata": {},
     "output_type": "execute_result"
    },
    {
     "data": {
      "text/plain": [
       "1"
      ]
     },
     "execution_count": 268,
     "metadata": {},
     "output_type": "execute_result"
    },
    {
     "data": {
      "text/plain": [
       "1"
      ]
     },
     "execution_count": 268,
     "metadata": {},
     "output_type": "execute_result"
    },
    {
     "data": {
      "text/plain": [
       "1"
      ]
     },
     "execution_count": 268,
     "metadata": {},
     "output_type": "execute_result"
    },
    {
     "data": {
      "text/plain": [
       "1"
      ]
     },
     "execution_count": 268,
     "metadata": {},
     "output_type": "execute_result"
    },
    {
     "data": {
      "text/plain": [
       "1"
      ]
     },
     "execution_count": 268,
     "metadata": {},
     "output_type": "execute_result"
    },
    {
     "data": {
      "text/plain": [
       "1"
      ]
     },
     "execution_count": 268,
     "metadata": {},
     "output_type": "execute_result"
    },
    {
     "data": {
      "text/plain": [
       "1"
      ]
     },
     "execution_count": 268,
     "metadata": {},
     "output_type": "execute_result"
    },
    {
     "name": "stdout",
     "output_type": "stream",
     "text": [
      "committing to db\n"
     ]
    },
    {
     "data": {
      "text/plain": [
       "1"
      ]
     },
     "execution_count": 268,
     "metadata": {},
     "output_type": "execute_result"
    },
    {
     "data": {
      "text/plain": [
       "1"
      ]
     },
     "execution_count": 268,
     "metadata": {},
     "output_type": "execute_result"
    },
    {
     "data": {
      "text/plain": [
       "1"
      ]
     },
     "execution_count": 268,
     "metadata": {},
     "output_type": "execute_result"
    },
    {
     "data": {
      "text/plain": [
       "1"
      ]
     },
     "execution_count": 268,
     "metadata": {},
     "output_type": "execute_result"
    },
    {
     "data": {
      "text/plain": [
       "1"
      ]
     },
     "execution_count": 268,
     "metadata": {},
     "output_type": "execute_result"
    },
    {
     "data": {
      "text/plain": [
       "1"
      ]
     },
     "execution_count": 268,
     "metadata": {},
     "output_type": "execute_result"
    },
    {
     "data": {
      "text/plain": [
       "1"
      ]
     },
     "execution_count": 268,
     "metadata": {},
     "output_type": "execute_result"
    },
    {
     "data": {
      "text/plain": [
       "1"
      ]
     },
     "execution_count": 268,
     "metadata": {},
     "output_type": "execute_result"
    },
    {
     "data": {
      "text/plain": [
       "1"
      ]
     },
     "execution_count": 268,
     "metadata": {},
     "output_type": "execute_result"
    },
    {
     "data": {
      "text/plain": [
       "1"
      ]
     },
     "execution_count": 268,
     "metadata": {},
     "output_type": "execute_result"
    },
    {
     "data": {
      "text/plain": [
       "1"
      ]
     },
     "execution_count": 268,
     "metadata": {},
     "output_type": "execute_result"
    },
    {
     "data": {
      "text/plain": [
       "1"
      ]
     },
     "execution_count": 268,
     "metadata": {},
     "output_type": "execute_result"
    },
    {
     "data": {
      "text/plain": [
       "1"
      ]
     },
     "execution_count": 268,
     "metadata": {},
     "output_type": "execute_result"
    },
    {
     "data": {
      "text/plain": [
       "1"
      ]
     },
     "execution_count": 268,
     "metadata": {},
     "output_type": "execute_result"
    },
    {
     "data": {
      "text/plain": [
       "1"
      ]
     },
     "execution_count": 268,
     "metadata": {},
     "output_type": "execute_result"
    },
    {
     "data": {
      "text/plain": [
       "1"
      ]
     },
     "execution_count": 268,
     "metadata": {},
     "output_type": "execute_result"
    },
    {
     "data": {
      "text/plain": [
       "1"
      ]
     },
     "execution_count": 268,
     "metadata": {},
     "output_type": "execute_result"
    },
    {
     "data": {
      "text/plain": [
       "1"
      ]
     },
     "execution_count": 268,
     "metadata": {},
     "output_type": "execute_result"
    },
    {
     "data": {
      "text/plain": [
       "1"
      ]
     },
     "execution_count": 268,
     "metadata": {},
     "output_type": "execute_result"
    },
    {
     "data": {
      "text/plain": [
       "1"
      ]
     },
     "execution_count": 268,
     "metadata": {},
     "output_type": "execute_result"
    },
    {
     "data": {
      "text/plain": [
       "1"
      ]
     },
     "execution_count": 268,
     "metadata": {},
     "output_type": "execute_result"
    },
    {
     "data": {
      "text/plain": [
       "1"
      ]
     },
     "execution_count": 268,
     "metadata": {},
     "output_type": "execute_result"
    },
    {
     "data": {
      "text/plain": [
       "1"
      ]
     },
     "execution_count": 268,
     "metadata": {},
     "output_type": "execute_result"
    },
    {
     "data": {
      "text/plain": [
       "1"
      ]
     },
     "execution_count": 268,
     "metadata": {},
     "output_type": "execute_result"
    },
    {
     "data": {
      "text/plain": [
       "1"
      ]
     },
     "execution_count": 268,
     "metadata": {},
     "output_type": "execute_result"
    },
    {
     "data": {
      "text/plain": [
       "1"
      ]
     },
     "execution_count": 268,
     "metadata": {},
     "output_type": "execute_result"
    },
    {
     "data": {
      "text/plain": [
       "1"
      ]
     },
     "execution_count": 268,
     "metadata": {},
     "output_type": "execute_result"
    },
    {
     "data": {
      "text/plain": [
       "1"
      ]
     },
     "execution_count": 268,
     "metadata": {},
     "output_type": "execute_result"
    },
    {
     "data": {
      "text/plain": [
       "1"
      ]
     },
     "execution_count": 268,
     "metadata": {},
     "output_type": "execute_result"
    },
    {
     "data": {
      "text/plain": [
       "1"
      ]
     },
     "execution_count": 268,
     "metadata": {},
     "output_type": "execute_result"
    },
    {
     "data": {
      "text/plain": [
       "1"
      ]
     },
     "execution_count": 268,
     "metadata": {},
     "output_type": "execute_result"
    },
    {
     "data": {
      "text/plain": [
       "1"
      ]
     },
     "execution_count": 268,
     "metadata": {},
     "output_type": "execute_result"
    },
    {
     "data": {
      "text/plain": [
       "1"
      ]
     },
     "execution_count": 268,
     "metadata": {},
     "output_type": "execute_result"
    },
    {
     "data": {
      "text/plain": [
       "1"
      ]
     },
     "execution_count": 268,
     "metadata": {},
     "output_type": "execute_result"
    },
    {
     "data": {
      "text/plain": [
       "1"
      ]
     },
     "execution_count": 268,
     "metadata": {},
     "output_type": "execute_result"
    },
    {
     "data": {
      "text/plain": [
       "1"
      ]
     },
     "execution_count": 268,
     "metadata": {},
     "output_type": "execute_result"
    },
    {
     "data": {
      "text/plain": [
       "1"
      ]
     },
     "execution_count": 268,
     "metadata": {},
     "output_type": "execute_result"
    },
    {
     "data": {
      "text/plain": [
       "1"
      ]
     },
     "execution_count": 268,
     "metadata": {},
     "output_type": "execute_result"
    },
    {
     "data": {
      "text/plain": [
       "1"
      ]
     },
     "execution_count": 268,
     "metadata": {},
     "output_type": "execute_result"
    },
    {
     "data": {
      "text/plain": [
       "1"
      ]
     },
     "execution_count": 268,
     "metadata": {},
     "output_type": "execute_result"
    },
    {
     "data": {
      "text/plain": [
       "1"
      ]
     },
     "execution_count": 268,
     "metadata": {},
     "output_type": "execute_result"
    },
    {
     "data": {
      "text/plain": [
       "1"
      ]
     },
     "execution_count": 268,
     "metadata": {},
     "output_type": "execute_result"
    },
    {
     "data": {
      "text/plain": [
       "1"
      ]
     },
     "execution_count": 268,
     "metadata": {},
     "output_type": "execute_result"
    },
    {
     "data": {
      "text/plain": [
       "1"
      ]
     },
     "execution_count": 268,
     "metadata": {},
     "output_type": "execute_result"
    },
    {
     "data": {
      "text/plain": [
       "1"
      ]
     },
     "execution_count": 268,
     "metadata": {},
     "output_type": "execute_result"
    },
    {
     "data": {
      "text/plain": [
       "1"
      ]
     },
     "execution_count": 268,
     "metadata": {},
     "output_type": "execute_result"
    },
    {
     "data": {
      "text/plain": [
       "1"
      ]
     },
     "execution_count": 268,
     "metadata": {},
     "output_type": "execute_result"
    },
    {
     "data": {
      "text/plain": [
       "1"
      ]
     },
     "execution_count": 268,
     "metadata": {},
     "output_type": "execute_result"
    },
    {
     "data": {
      "text/plain": [
       "1"
      ]
     },
     "execution_count": 268,
     "metadata": {},
     "output_type": "execute_result"
    },
    {
     "data": {
      "text/plain": [
       "1"
      ]
     },
     "execution_count": 268,
     "metadata": {},
     "output_type": "execute_result"
    },
    {
     "name": "stdout",
     "output_type": "stream",
     "text": [
      "committing to db\n"
     ]
    },
    {
     "data": {
      "text/plain": [
       "1"
      ]
     },
     "execution_count": 268,
     "metadata": {},
     "output_type": "execute_result"
    },
    {
     "data": {
      "text/plain": [
       "1"
      ]
     },
     "execution_count": 268,
     "metadata": {},
     "output_type": "execute_result"
    },
    {
     "data": {
      "text/plain": [
       "1"
      ]
     },
     "execution_count": 268,
     "metadata": {},
     "output_type": "execute_result"
    },
    {
     "data": {
      "text/plain": [
       "1"
      ]
     },
     "execution_count": 268,
     "metadata": {},
     "output_type": "execute_result"
    },
    {
     "data": {
      "text/plain": [
       "1"
      ]
     },
     "execution_count": 268,
     "metadata": {},
     "output_type": "execute_result"
    },
    {
     "data": {
      "text/plain": [
       "1"
      ]
     },
     "execution_count": 268,
     "metadata": {},
     "output_type": "execute_result"
    },
    {
     "data": {
      "text/plain": [
       "1"
      ]
     },
     "execution_count": 268,
     "metadata": {},
     "output_type": "execute_result"
    },
    {
     "data": {
      "text/plain": [
       "1"
      ]
     },
     "execution_count": 268,
     "metadata": {},
     "output_type": "execute_result"
    },
    {
     "data": {
      "text/plain": [
       "1"
      ]
     },
     "execution_count": 268,
     "metadata": {},
     "output_type": "execute_result"
    },
    {
     "data": {
      "text/plain": [
       "1"
      ]
     },
     "execution_count": 268,
     "metadata": {},
     "output_type": "execute_result"
    },
    {
     "data": {
      "text/plain": [
       "1"
      ]
     },
     "execution_count": 268,
     "metadata": {},
     "output_type": "execute_result"
    },
    {
     "data": {
      "text/plain": [
       "1"
      ]
     },
     "execution_count": 268,
     "metadata": {},
     "output_type": "execute_result"
    },
    {
     "data": {
      "text/plain": [
       "1"
      ]
     },
     "execution_count": 268,
     "metadata": {},
     "output_type": "execute_result"
    },
    {
     "data": {
      "text/plain": [
       "1"
      ]
     },
     "execution_count": 268,
     "metadata": {},
     "output_type": "execute_result"
    },
    {
     "data": {
      "text/plain": [
       "1"
      ]
     },
     "execution_count": 268,
     "metadata": {},
     "output_type": "execute_result"
    },
    {
     "data": {
      "text/plain": [
       "1"
      ]
     },
     "execution_count": 268,
     "metadata": {},
     "output_type": "execute_result"
    },
    {
     "data": {
      "text/plain": [
       "1"
      ]
     },
     "execution_count": 268,
     "metadata": {},
     "output_type": "execute_result"
    },
    {
     "data": {
      "text/plain": [
       "1"
      ]
     },
     "execution_count": 268,
     "metadata": {},
     "output_type": "execute_result"
    },
    {
     "data": {
      "text/plain": [
       "1"
      ]
     },
     "execution_count": 268,
     "metadata": {},
     "output_type": "execute_result"
    },
    {
     "data": {
      "text/plain": [
       "1"
      ]
     },
     "execution_count": 268,
     "metadata": {},
     "output_type": "execute_result"
    },
    {
     "data": {
      "text/plain": [
       "1"
      ]
     },
     "execution_count": 268,
     "metadata": {},
     "output_type": "execute_result"
    },
    {
     "data": {
      "text/plain": [
       "1"
      ]
     },
     "execution_count": 268,
     "metadata": {},
     "output_type": "execute_result"
    },
    {
     "data": {
      "text/plain": [
       "1"
      ]
     },
     "execution_count": 268,
     "metadata": {},
     "output_type": "execute_result"
    },
    {
     "data": {
      "text/plain": [
       "1"
      ]
     },
     "execution_count": 268,
     "metadata": {},
     "output_type": "execute_result"
    },
    {
     "data": {
      "text/plain": [
       "1"
      ]
     },
     "execution_count": 268,
     "metadata": {},
     "output_type": "execute_result"
    },
    {
     "data": {
      "text/plain": [
       "1"
      ]
     },
     "execution_count": 268,
     "metadata": {},
     "output_type": "execute_result"
    },
    {
     "data": {
      "text/plain": [
       "1"
      ]
     },
     "execution_count": 268,
     "metadata": {},
     "output_type": "execute_result"
    },
    {
     "data": {
      "text/plain": [
       "1"
      ]
     },
     "execution_count": 268,
     "metadata": {},
     "output_type": "execute_result"
    },
    {
     "data": {
      "text/plain": [
       "1"
      ]
     },
     "execution_count": 268,
     "metadata": {},
     "output_type": "execute_result"
    },
    {
     "data": {
      "text/plain": [
       "1"
      ]
     },
     "execution_count": 268,
     "metadata": {},
     "output_type": "execute_result"
    },
    {
     "data": {
      "text/plain": [
       "1"
      ]
     },
     "execution_count": 268,
     "metadata": {},
     "output_type": "execute_result"
    },
    {
     "data": {
      "text/plain": [
       "1"
      ]
     },
     "execution_count": 268,
     "metadata": {},
     "output_type": "execute_result"
    },
    {
     "data": {
      "text/plain": [
       "1"
      ]
     },
     "execution_count": 268,
     "metadata": {},
     "output_type": "execute_result"
    },
    {
     "data": {
      "text/plain": [
       "1"
      ]
     },
     "execution_count": 268,
     "metadata": {},
     "output_type": "execute_result"
    },
    {
     "data": {
      "text/plain": [
       "1"
      ]
     },
     "execution_count": 268,
     "metadata": {},
     "output_type": "execute_result"
    },
    {
     "data": {
      "text/plain": [
       "1"
      ]
     },
     "execution_count": 268,
     "metadata": {},
     "output_type": "execute_result"
    },
    {
     "data": {
      "text/plain": [
       "1"
      ]
     },
     "execution_count": 268,
     "metadata": {},
     "output_type": "execute_result"
    },
    {
     "data": {
      "text/plain": [
       "1"
      ]
     },
     "execution_count": 268,
     "metadata": {},
     "output_type": "execute_result"
    },
    {
     "data": {
      "text/plain": [
       "1"
      ]
     },
     "execution_count": 268,
     "metadata": {},
     "output_type": "execute_result"
    },
    {
     "data": {
      "text/plain": [
       "1"
      ]
     },
     "execution_count": 268,
     "metadata": {},
     "output_type": "execute_result"
    },
    {
     "data": {
      "text/plain": [
       "1"
      ]
     },
     "execution_count": 268,
     "metadata": {},
     "output_type": "execute_result"
    },
    {
     "data": {
      "text/plain": [
       "1"
      ]
     },
     "execution_count": 268,
     "metadata": {},
     "output_type": "execute_result"
    },
    {
     "data": {
      "text/plain": [
       "1"
      ]
     },
     "execution_count": 268,
     "metadata": {},
     "output_type": "execute_result"
    },
    {
     "data": {
      "text/plain": [
       "1"
      ]
     },
     "execution_count": 268,
     "metadata": {},
     "output_type": "execute_result"
    },
    {
     "data": {
      "text/plain": [
       "1"
      ]
     },
     "execution_count": 268,
     "metadata": {},
     "output_type": "execute_result"
    },
    {
     "data": {
      "text/plain": [
       "1"
      ]
     },
     "execution_count": 268,
     "metadata": {},
     "output_type": "execute_result"
    },
    {
     "data": {
      "text/plain": [
       "1"
      ]
     },
     "execution_count": 268,
     "metadata": {},
     "output_type": "execute_result"
    },
    {
     "data": {
      "text/plain": [
       "1"
      ]
     },
     "execution_count": 268,
     "metadata": {},
     "output_type": "execute_result"
    },
    {
     "data": {
      "text/plain": [
       "1"
      ]
     },
     "execution_count": 268,
     "metadata": {},
     "output_type": "execute_result"
    },
    {
     "data": {
      "text/plain": [
       "1"
      ]
     },
     "execution_count": 268,
     "metadata": {},
     "output_type": "execute_result"
    },
    {
     "name": "stdout",
     "output_type": "stream",
     "text": [
      "committing to db\n"
     ]
    },
    {
     "data": {
      "text/plain": [
       "1"
      ]
     },
     "execution_count": 268,
     "metadata": {},
     "output_type": "execute_result"
    },
    {
     "data": {
      "text/plain": [
       "1"
      ]
     },
     "execution_count": 268,
     "metadata": {},
     "output_type": "execute_result"
    },
    {
     "data": {
      "text/plain": [
       "1"
      ]
     },
     "execution_count": 268,
     "metadata": {},
     "output_type": "execute_result"
    },
    {
     "data": {
      "text/plain": [
       "1"
      ]
     },
     "execution_count": 268,
     "metadata": {},
     "output_type": "execute_result"
    },
    {
     "data": {
      "text/plain": [
       "1"
      ]
     },
     "execution_count": 268,
     "metadata": {},
     "output_type": "execute_result"
    },
    {
     "data": {
      "text/plain": [
       "1"
      ]
     },
     "execution_count": 268,
     "metadata": {},
     "output_type": "execute_result"
    },
    {
     "data": {
      "text/plain": [
       "1"
      ]
     },
     "execution_count": 268,
     "metadata": {},
     "output_type": "execute_result"
    },
    {
     "data": {
      "text/plain": [
       "1"
      ]
     },
     "execution_count": 268,
     "metadata": {},
     "output_type": "execute_result"
    },
    {
     "data": {
      "text/plain": [
       "1"
      ]
     },
     "execution_count": 268,
     "metadata": {},
     "output_type": "execute_result"
    },
    {
     "data": {
      "text/plain": [
       "1"
      ]
     },
     "execution_count": 268,
     "metadata": {},
     "output_type": "execute_result"
    },
    {
     "data": {
      "text/plain": [
       "1"
      ]
     },
     "execution_count": 268,
     "metadata": {},
     "output_type": "execute_result"
    },
    {
     "data": {
      "text/plain": [
       "1"
      ]
     },
     "execution_count": 268,
     "metadata": {},
     "output_type": "execute_result"
    },
    {
     "data": {
      "text/plain": [
       "1"
      ]
     },
     "execution_count": 268,
     "metadata": {},
     "output_type": "execute_result"
    },
    {
     "data": {
      "text/plain": [
       "1"
      ]
     },
     "execution_count": 268,
     "metadata": {},
     "output_type": "execute_result"
    },
    {
     "data": {
      "text/plain": [
       "1"
      ]
     },
     "execution_count": 268,
     "metadata": {},
     "output_type": "execute_result"
    },
    {
     "data": {
      "text/plain": [
       "1"
      ]
     },
     "execution_count": 268,
     "metadata": {},
     "output_type": "execute_result"
    },
    {
     "data": {
      "text/plain": [
       "1"
      ]
     },
     "execution_count": 268,
     "metadata": {},
     "output_type": "execute_result"
    },
    {
     "data": {
      "text/plain": [
       "1"
      ]
     },
     "execution_count": 268,
     "metadata": {},
     "output_type": "execute_result"
    },
    {
     "data": {
      "text/plain": [
       "1"
      ]
     },
     "execution_count": 268,
     "metadata": {},
     "output_type": "execute_result"
    },
    {
     "data": {
      "text/plain": [
       "1"
      ]
     },
     "execution_count": 268,
     "metadata": {},
     "output_type": "execute_result"
    },
    {
     "data": {
      "text/plain": [
       "1"
      ]
     },
     "execution_count": 268,
     "metadata": {},
     "output_type": "execute_result"
    },
    {
     "data": {
      "text/plain": [
       "1"
      ]
     },
     "execution_count": 268,
     "metadata": {},
     "output_type": "execute_result"
    },
    {
     "data": {
      "text/plain": [
       "1"
      ]
     },
     "execution_count": 268,
     "metadata": {},
     "output_type": "execute_result"
    },
    {
     "data": {
      "text/plain": [
       "1"
      ]
     },
     "execution_count": 268,
     "metadata": {},
     "output_type": "execute_result"
    },
    {
     "data": {
      "text/plain": [
       "1"
      ]
     },
     "execution_count": 268,
     "metadata": {},
     "output_type": "execute_result"
    },
    {
     "data": {
      "text/plain": [
       "1"
      ]
     },
     "execution_count": 268,
     "metadata": {},
     "output_type": "execute_result"
    },
    {
     "data": {
      "text/plain": [
       "1"
      ]
     },
     "execution_count": 268,
     "metadata": {},
     "output_type": "execute_result"
    },
    {
     "data": {
      "text/plain": [
       "1"
      ]
     },
     "execution_count": 268,
     "metadata": {},
     "output_type": "execute_result"
    },
    {
     "data": {
      "text/plain": [
       "1"
      ]
     },
     "execution_count": 268,
     "metadata": {},
     "output_type": "execute_result"
    },
    {
     "data": {
      "text/plain": [
       "1"
      ]
     },
     "execution_count": 268,
     "metadata": {},
     "output_type": "execute_result"
    },
    {
     "data": {
      "text/plain": [
       "1"
      ]
     },
     "execution_count": 268,
     "metadata": {},
     "output_type": "execute_result"
    },
    {
     "data": {
      "text/plain": [
       "1"
      ]
     },
     "execution_count": 268,
     "metadata": {},
     "output_type": "execute_result"
    },
    {
     "data": {
      "text/plain": [
       "1"
      ]
     },
     "execution_count": 268,
     "metadata": {},
     "output_type": "execute_result"
    },
    {
     "data": {
      "text/plain": [
       "1"
      ]
     },
     "execution_count": 268,
     "metadata": {},
     "output_type": "execute_result"
    },
    {
     "data": {
      "text/plain": [
       "1"
      ]
     },
     "execution_count": 268,
     "metadata": {},
     "output_type": "execute_result"
    },
    {
     "data": {
      "text/plain": [
       "1"
      ]
     },
     "execution_count": 268,
     "metadata": {},
     "output_type": "execute_result"
    },
    {
     "data": {
      "text/plain": [
       "1"
      ]
     },
     "execution_count": 268,
     "metadata": {},
     "output_type": "execute_result"
    },
    {
     "data": {
      "text/plain": [
       "1"
      ]
     },
     "execution_count": 268,
     "metadata": {},
     "output_type": "execute_result"
    },
    {
     "data": {
      "text/plain": [
       "1"
      ]
     },
     "execution_count": 268,
     "metadata": {},
     "output_type": "execute_result"
    },
    {
     "data": {
      "text/plain": [
       "1"
      ]
     },
     "execution_count": 268,
     "metadata": {},
     "output_type": "execute_result"
    },
    {
     "data": {
      "text/plain": [
       "1"
      ]
     },
     "execution_count": 268,
     "metadata": {},
     "output_type": "execute_result"
    },
    {
     "data": {
      "text/plain": [
       "1"
      ]
     },
     "execution_count": 268,
     "metadata": {},
     "output_type": "execute_result"
    },
    {
     "data": {
      "text/plain": [
       "1"
      ]
     },
     "execution_count": 268,
     "metadata": {},
     "output_type": "execute_result"
    },
    {
     "data": {
      "text/plain": [
       "1"
      ]
     },
     "execution_count": 268,
     "metadata": {},
     "output_type": "execute_result"
    },
    {
     "data": {
      "text/plain": [
       "1"
      ]
     },
     "execution_count": 268,
     "metadata": {},
     "output_type": "execute_result"
    },
    {
     "data": {
      "text/plain": [
       "1"
      ]
     },
     "execution_count": 268,
     "metadata": {},
     "output_type": "execute_result"
    },
    {
     "data": {
      "text/plain": [
       "1"
      ]
     },
     "execution_count": 268,
     "metadata": {},
     "output_type": "execute_result"
    },
    {
     "data": {
      "text/plain": [
       "1"
      ]
     },
     "execution_count": 268,
     "metadata": {},
     "output_type": "execute_result"
    },
    {
     "data": {
      "text/plain": [
       "1"
      ]
     },
     "execution_count": 268,
     "metadata": {},
     "output_type": "execute_result"
    },
    {
     "data": {
      "text/plain": [
       "1"
      ]
     },
     "execution_count": 268,
     "metadata": {},
     "output_type": "execute_result"
    },
    {
     "name": "stdout",
     "output_type": "stream",
     "text": [
      "committing to db\n"
     ]
    },
    {
     "data": {
      "text/plain": [
       "1"
      ]
     },
     "execution_count": 268,
     "metadata": {},
     "output_type": "execute_result"
    },
    {
     "data": {
      "text/plain": [
       "1"
      ]
     },
     "execution_count": 268,
     "metadata": {},
     "output_type": "execute_result"
    },
    {
     "data": {
      "text/plain": [
       "1"
      ]
     },
     "execution_count": 268,
     "metadata": {},
     "output_type": "execute_result"
    },
    {
     "data": {
      "text/plain": [
       "1"
      ]
     },
     "execution_count": 268,
     "metadata": {},
     "output_type": "execute_result"
    },
    {
     "data": {
      "text/plain": [
       "1"
      ]
     },
     "execution_count": 268,
     "metadata": {},
     "output_type": "execute_result"
    },
    {
     "data": {
      "text/plain": [
       "1"
      ]
     },
     "execution_count": 268,
     "metadata": {},
     "output_type": "execute_result"
    },
    {
     "data": {
      "text/plain": [
       "1"
      ]
     },
     "execution_count": 268,
     "metadata": {},
     "output_type": "execute_result"
    },
    {
     "data": {
      "text/plain": [
       "1"
      ]
     },
     "execution_count": 268,
     "metadata": {},
     "output_type": "execute_result"
    },
    {
     "data": {
      "text/plain": [
       "1"
      ]
     },
     "execution_count": 268,
     "metadata": {},
     "output_type": "execute_result"
    },
    {
     "data": {
      "text/plain": [
       "1"
      ]
     },
     "execution_count": 268,
     "metadata": {},
     "output_type": "execute_result"
    },
    {
     "data": {
      "text/plain": [
       "1"
      ]
     },
     "execution_count": 268,
     "metadata": {},
     "output_type": "execute_result"
    },
    {
     "data": {
      "text/plain": [
       "1"
      ]
     },
     "execution_count": 268,
     "metadata": {},
     "output_type": "execute_result"
    },
    {
     "data": {
      "text/plain": [
       "1"
      ]
     },
     "execution_count": 268,
     "metadata": {},
     "output_type": "execute_result"
    },
    {
     "data": {
      "text/plain": [
       "1"
      ]
     },
     "execution_count": 268,
     "metadata": {},
     "output_type": "execute_result"
    },
    {
     "data": {
      "text/plain": [
       "1"
      ]
     },
     "execution_count": 268,
     "metadata": {},
     "output_type": "execute_result"
    },
    {
     "data": {
      "text/plain": [
       "1"
      ]
     },
     "execution_count": 268,
     "metadata": {},
     "output_type": "execute_result"
    },
    {
     "data": {
      "text/plain": [
       "1"
      ]
     },
     "execution_count": 268,
     "metadata": {},
     "output_type": "execute_result"
    },
    {
     "data": {
      "text/plain": [
       "1"
      ]
     },
     "execution_count": 268,
     "metadata": {},
     "output_type": "execute_result"
    },
    {
     "data": {
      "text/plain": [
       "1"
      ]
     },
     "execution_count": 268,
     "metadata": {},
     "output_type": "execute_result"
    },
    {
     "data": {
      "text/plain": [
       "1"
      ]
     },
     "execution_count": 268,
     "metadata": {},
     "output_type": "execute_result"
    },
    {
     "data": {
      "text/plain": [
       "1"
      ]
     },
     "execution_count": 268,
     "metadata": {},
     "output_type": "execute_result"
    },
    {
     "data": {
      "text/plain": [
       "1"
      ]
     },
     "execution_count": 268,
     "metadata": {},
     "output_type": "execute_result"
    },
    {
     "data": {
      "text/plain": [
       "1"
      ]
     },
     "execution_count": 268,
     "metadata": {},
     "output_type": "execute_result"
    },
    {
     "data": {
      "text/plain": [
       "1"
      ]
     },
     "execution_count": 268,
     "metadata": {},
     "output_type": "execute_result"
    },
    {
     "data": {
      "text/plain": [
       "1"
      ]
     },
     "execution_count": 268,
     "metadata": {},
     "output_type": "execute_result"
    },
    {
     "data": {
      "text/plain": [
       "1"
      ]
     },
     "execution_count": 268,
     "metadata": {},
     "output_type": "execute_result"
    },
    {
     "data": {
      "text/plain": [
       "1"
      ]
     },
     "execution_count": 268,
     "metadata": {},
     "output_type": "execute_result"
    },
    {
     "data": {
      "text/plain": [
       "1"
      ]
     },
     "execution_count": 268,
     "metadata": {},
     "output_type": "execute_result"
    },
    {
     "data": {
      "text/plain": [
       "1"
      ]
     },
     "execution_count": 268,
     "metadata": {},
     "output_type": "execute_result"
    },
    {
     "data": {
      "text/plain": [
       "1"
      ]
     },
     "execution_count": 268,
     "metadata": {},
     "output_type": "execute_result"
    },
    {
     "data": {
      "text/plain": [
       "1"
      ]
     },
     "execution_count": 268,
     "metadata": {},
     "output_type": "execute_result"
    },
    {
     "data": {
      "text/plain": [
       "1"
      ]
     },
     "execution_count": 268,
     "metadata": {},
     "output_type": "execute_result"
    },
    {
     "data": {
      "text/plain": [
       "1"
      ]
     },
     "execution_count": 268,
     "metadata": {},
     "output_type": "execute_result"
    },
    {
     "data": {
      "text/plain": [
       "1"
      ]
     },
     "execution_count": 268,
     "metadata": {},
     "output_type": "execute_result"
    },
    {
     "data": {
      "text/plain": [
       "1"
      ]
     },
     "execution_count": 268,
     "metadata": {},
     "output_type": "execute_result"
    },
    {
     "data": {
      "text/plain": [
       "1"
      ]
     },
     "execution_count": 268,
     "metadata": {},
     "output_type": "execute_result"
    },
    {
     "data": {
      "text/plain": [
       "1"
      ]
     },
     "execution_count": 268,
     "metadata": {},
     "output_type": "execute_result"
    },
    {
     "data": {
      "text/plain": [
       "1"
      ]
     },
     "execution_count": 268,
     "metadata": {},
     "output_type": "execute_result"
    },
    {
     "data": {
      "text/plain": [
       "1"
      ]
     },
     "execution_count": 268,
     "metadata": {},
     "output_type": "execute_result"
    },
    {
     "data": {
      "text/plain": [
       "1"
      ]
     },
     "execution_count": 268,
     "metadata": {},
     "output_type": "execute_result"
    },
    {
     "data": {
      "text/plain": [
       "1"
      ]
     },
     "execution_count": 268,
     "metadata": {},
     "output_type": "execute_result"
    },
    {
     "data": {
      "text/plain": [
       "1"
      ]
     },
     "execution_count": 268,
     "metadata": {},
     "output_type": "execute_result"
    },
    {
     "data": {
      "text/plain": [
       "1"
      ]
     },
     "execution_count": 268,
     "metadata": {},
     "output_type": "execute_result"
    },
    {
     "data": {
      "text/plain": [
       "1"
      ]
     },
     "execution_count": 268,
     "metadata": {},
     "output_type": "execute_result"
    },
    {
     "data": {
      "text/plain": [
       "1"
      ]
     },
     "execution_count": 268,
     "metadata": {},
     "output_type": "execute_result"
    },
    {
     "data": {
      "text/plain": [
       "1"
      ]
     },
     "execution_count": 268,
     "metadata": {},
     "output_type": "execute_result"
    },
    {
     "data": {
      "text/plain": [
       "1"
      ]
     },
     "execution_count": 268,
     "metadata": {},
     "output_type": "execute_result"
    },
    {
     "data": {
      "text/plain": [
       "1"
      ]
     },
     "execution_count": 268,
     "metadata": {},
     "output_type": "execute_result"
    },
    {
     "data": {
      "text/plain": [
       "1"
      ]
     },
     "execution_count": 268,
     "metadata": {},
     "output_type": "execute_result"
    },
    {
     "data": {
      "text/plain": [
       "1"
      ]
     },
     "execution_count": 268,
     "metadata": {},
     "output_type": "execute_result"
    },
    {
     "name": "stdout",
     "output_type": "stream",
     "text": [
      "committing to db\n"
     ]
    },
    {
     "data": {
      "text/plain": [
       "1"
      ]
     },
     "execution_count": 268,
     "metadata": {},
     "output_type": "execute_result"
    },
    {
     "data": {
      "text/plain": [
       "1"
      ]
     },
     "execution_count": 268,
     "metadata": {},
     "output_type": "execute_result"
    },
    {
     "data": {
      "text/plain": [
       "1"
      ]
     },
     "execution_count": 268,
     "metadata": {},
     "output_type": "execute_result"
    },
    {
     "data": {
      "text/plain": [
       "1"
      ]
     },
     "execution_count": 268,
     "metadata": {},
     "output_type": "execute_result"
    },
    {
     "data": {
      "text/plain": [
       "1"
      ]
     },
     "execution_count": 268,
     "metadata": {},
     "output_type": "execute_result"
    },
    {
     "data": {
      "text/plain": [
       "1"
      ]
     },
     "execution_count": 268,
     "metadata": {},
     "output_type": "execute_result"
    },
    {
     "data": {
      "text/plain": [
       "1"
      ]
     },
     "execution_count": 268,
     "metadata": {},
     "output_type": "execute_result"
    },
    {
     "data": {
      "text/plain": [
       "1"
      ]
     },
     "execution_count": 268,
     "metadata": {},
     "output_type": "execute_result"
    },
    {
     "data": {
      "text/plain": [
       "1"
      ]
     },
     "execution_count": 268,
     "metadata": {},
     "output_type": "execute_result"
    },
    {
     "data": {
      "text/plain": [
       "1"
      ]
     },
     "execution_count": 268,
     "metadata": {},
     "output_type": "execute_result"
    },
    {
     "data": {
      "text/plain": [
       "1"
      ]
     },
     "execution_count": 268,
     "metadata": {},
     "output_type": "execute_result"
    },
    {
     "data": {
      "text/plain": [
       "1"
      ]
     },
     "execution_count": 268,
     "metadata": {},
     "output_type": "execute_result"
    },
    {
     "data": {
      "text/plain": [
       "1"
      ]
     },
     "execution_count": 268,
     "metadata": {},
     "output_type": "execute_result"
    },
    {
     "data": {
      "text/plain": [
       "1"
      ]
     },
     "execution_count": 268,
     "metadata": {},
     "output_type": "execute_result"
    },
    {
     "data": {
      "text/plain": [
       "1"
      ]
     },
     "execution_count": 268,
     "metadata": {},
     "output_type": "execute_result"
    },
    {
     "data": {
      "text/plain": [
       "1"
      ]
     },
     "execution_count": 268,
     "metadata": {},
     "output_type": "execute_result"
    },
    {
     "data": {
      "text/plain": [
       "1"
      ]
     },
     "execution_count": 268,
     "metadata": {},
     "output_type": "execute_result"
    },
    {
     "data": {
      "text/plain": [
       "1"
      ]
     },
     "execution_count": 268,
     "metadata": {},
     "output_type": "execute_result"
    },
    {
     "data": {
      "text/plain": [
       "1"
      ]
     },
     "execution_count": 268,
     "metadata": {},
     "output_type": "execute_result"
    },
    {
     "data": {
      "text/plain": [
       "1"
      ]
     },
     "execution_count": 268,
     "metadata": {},
     "output_type": "execute_result"
    },
    {
     "data": {
      "text/plain": [
       "1"
      ]
     },
     "execution_count": 268,
     "metadata": {},
     "output_type": "execute_result"
    },
    {
     "data": {
      "text/plain": [
       "1"
      ]
     },
     "execution_count": 268,
     "metadata": {},
     "output_type": "execute_result"
    },
    {
     "data": {
      "text/plain": [
       "1"
      ]
     },
     "execution_count": 268,
     "metadata": {},
     "output_type": "execute_result"
    },
    {
     "data": {
      "text/plain": [
       "1"
      ]
     },
     "execution_count": 268,
     "metadata": {},
     "output_type": "execute_result"
    },
    {
     "data": {
      "text/plain": [
       "1"
      ]
     },
     "execution_count": 268,
     "metadata": {},
     "output_type": "execute_result"
    },
    {
     "data": {
      "text/plain": [
       "1"
      ]
     },
     "execution_count": 268,
     "metadata": {},
     "output_type": "execute_result"
    },
    {
     "data": {
      "text/plain": [
       "1"
      ]
     },
     "execution_count": 268,
     "metadata": {},
     "output_type": "execute_result"
    },
    {
     "data": {
      "text/plain": [
       "1"
      ]
     },
     "execution_count": 268,
     "metadata": {},
     "output_type": "execute_result"
    },
    {
     "data": {
      "text/plain": [
       "1"
      ]
     },
     "execution_count": 268,
     "metadata": {},
     "output_type": "execute_result"
    },
    {
     "data": {
      "text/plain": [
       "1"
      ]
     },
     "execution_count": 268,
     "metadata": {},
     "output_type": "execute_result"
    },
    {
     "data": {
      "text/plain": [
       "1"
      ]
     },
     "execution_count": 268,
     "metadata": {},
     "output_type": "execute_result"
    },
    {
     "data": {
      "text/plain": [
       "1"
      ]
     },
     "execution_count": 268,
     "metadata": {},
     "output_type": "execute_result"
    },
    {
     "data": {
      "text/plain": [
       "1"
      ]
     },
     "execution_count": 268,
     "metadata": {},
     "output_type": "execute_result"
    },
    {
     "data": {
      "text/plain": [
       "1"
      ]
     },
     "execution_count": 268,
     "metadata": {},
     "output_type": "execute_result"
    },
    {
     "data": {
      "text/plain": [
       "1"
      ]
     },
     "execution_count": 268,
     "metadata": {},
     "output_type": "execute_result"
    },
    {
     "data": {
      "text/plain": [
       "1"
      ]
     },
     "execution_count": 268,
     "metadata": {},
     "output_type": "execute_result"
    },
    {
     "data": {
      "text/plain": [
       "1"
      ]
     },
     "execution_count": 268,
     "metadata": {},
     "output_type": "execute_result"
    },
    {
     "data": {
      "text/plain": [
       "1"
      ]
     },
     "execution_count": 268,
     "metadata": {},
     "output_type": "execute_result"
    },
    {
     "data": {
      "text/plain": [
       "1"
      ]
     },
     "execution_count": 268,
     "metadata": {},
     "output_type": "execute_result"
    },
    {
     "data": {
      "text/plain": [
       "1"
      ]
     },
     "execution_count": 268,
     "metadata": {},
     "output_type": "execute_result"
    },
    {
     "data": {
      "text/plain": [
       "1"
      ]
     },
     "execution_count": 268,
     "metadata": {},
     "output_type": "execute_result"
    },
    {
     "data": {
      "text/plain": [
       "1"
      ]
     },
     "execution_count": 268,
     "metadata": {},
     "output_type": "execute_result"
    },
    {
     "data": {
      "text/plain": [
       "1"
      ]
     },
     "execution_count": 268,
     "metadata": {},
     "output_type": "execute_result"
    },
    {
     "data": {
      "text/plain": [
       "1"
      ]
     },
     "execution_count": 268,
     "metadata": {},
     "output_type": "execute_result"
    },
    {
     "data": {
      "text/plain": [
       "1"
      ]
     },
     "execution_count": 268,
     "metadata": {},
     "output_type": "execute_result"
    },
    {
     "data": {
      "text/plain": [
       "1"
      ]
     },
     "execution_count": 268,
     "metadata": {},
     "output_type": "execute_result"
    },
    {
     "data": {
      "text/plain": [
       "1"
      ]
     },
     "execution_count": 268,
     "metadata": {},
     "output_type": "execute_result"
    },
    {
     "data": {
      "text/plain": [
       "1"
      ]
     },
     "execution_count": 268,
     "metadata": {},
     "output_type": "execute_result"
    },
    {
     "data": {
      "text/plain": [
       "1"
      ]
     },
     "execution_count": 268,
     "metadata": {},
     "output_type": "execute_result"
    },
    {
     "data": {
      "text/plain": [
       "1"
      ]
     },
     "execution_count": 268,
     "metadata": {},
     "output_type": "execute_result"
    },
    {
     "name": "stdout",
     "output_type": "stream",
     "text": [
      "committing to db\n"
     ]
    },
    {
     "data": {
      "text/plain": [
       "1"
      ]
     },
     "execution_count": 268,
     "metadata": {},
     "output_type": "execute_result"
    },
    {
     "data": {
      "text/plain": [
       "1"
      ]
     },
     "execution_count": 268,
     "metadata": {},
     "output_type": "execute_result"
    },
    {
     "data": {
      "text/plain": [
       "1"
      ]
     },
     "execution_count": 268,
     "metadata": {},
     "output_type": "execute_result"
    },
    {
     "data": {
      "text/plain": [
       "1"
      ]
     },
     "execution_count": 268,
     "metadata": {},
     "output_type": "execute_result"
    },
    {
     "data": {
      "text/plain": [
       "1"
      ]
     },
     "execution_count": 268,
     "metadata": {},
     "output_type": "execute_result"
    },
    {
     "data": {
      "text/plain": [
       "1"
      ]
     },
     "execution_count": 268,
     "metadata": {},
     "output_type": "execute_result"
    },
    {
     "data": {
      "text/plain": [
       "1"
      ]
     },
     "execution_count": 268,
     "metadata": {},
     "output_type": "execute_result"
    },
    {
     "data": {
      "text/plain": [
       "1"
      ]
     },
     "execution_count": 268,
     "metadata": {},
     "output_type": "execute_result"
    },
    {
     "data": {
      "text/plain": [
       "1"
      ]
     },
     "execution_count": 268,
     "metadata": {},
     "output_type": "execute_result"
    },
    {
     "data": {
      "text/plain": [
       "1"
      ]
     },
     "execution_count": 268,
     "metadata": {},
     "output_type": "execute_result"
    },
    {
     "data": {
      "text/plain": [
       "1"
      ]
     },
     "execution_count": 268,
     "metadata": {},
     "output_type": "execute_result"
    },
    {
     "data": {
      "text/plain": [
       "1"
      ]
     },
     "execution_count": 268,
     "metadata": {},
     "output_type": "execute_result"
    },
    {
     "data": {
      "text/plain": [
       "1"
      ]
     },
     "execution_count": 268,
     "metadata": {},
     "output_type": "execute_result"
    },
    {
     "data": {
      "text/plain": [
       "1"
      ]
     },
     "execution_count": 268,
     "metadata": {},
     "output_type": "execute_result"
    },
    {
     "data": {
      "text/plain": [
       "1"
      ]
     },
     "execution_count": 268,
     "metadata": {},
     "output_type": "execute_result"
    },
    {
     "data": {
      "text/plain": [
       "1"
      ]
     },
     "execution_count": 268,
     "metadata": {},
     "output_type": "execute_result"
    },
    {
     "data": {
      "text/plain": [
       "1"
      ]
     },
     "execution_count": 268,
     "metadata": {},
     "output_type": "execute_result"
    },
    {
     "data": {
      "text/plain": [
       "1"
      ]
     },
     "execution_count": 268,
     "metadata": {},
     "output_type": "execute_result"
    },
    {
     "data": {
      "text/plain": [
       "1"
      ]
     },
     "execution_count": 268,
     "metadata": {},
     "output_type": "execute_result"
    },
    {
     "data": {
      "text/plain": [
       "1"
      ]
     },
     "execution_count": 268,
     "metadata": {},
     "output_type": "execute_result"
    },
    {
     "data": {
      "text/plain": [
       "1"
      ]
     },
     "execution_count": 268,
     "metadata": {},
     "output_type": "execute_result"
    },
    {
     "data": {
      "text/plain": [
       "1"
      ]
     },
     "execution_count": 268,
     "metadata": {},
     "output_type": "execute_result"
    },
    {
     "data": {
      "text/plain": [
       "1"
      ]
     },
     "execution_count": 268,
     "metadata": {},
     "output_type": "execute_result"
    },
    {
     "data": {
      "text/plain": [
       "1"
      ]
     },
     "execution_count": 268,
     "metadata": {},
     "output_type": "execute_result"
    },
    {
     "data": {
      "text/plain": [
       "1"
      ]
     },
     "execution_count": 268,
     "metadata": {},
     "output_type": "execute_result"
    },
    {
     "data": {
      "text/plain": [
       "1"
      ]
     },
     "execution_count": 268,
     "metadata": {},
     "output_type": "execute_result"
    },
    {
     "data": {
      "text/plain": [
       "1"
      ]
     },
     "execution_count": 268,
     "metadata": {},
     "output_type": "execute_result"
    },
    {
     "data": {
      "text/plain": [
       "1"
      ]
     },
     "execution_count": 268,
     "metadata": {},
     "output_type": "execute_result"
    },
    {
     "data": {
      "text/plain": [
       "1"
      ]
     },
     "execution_count": 268,
     "metadata": {},
     "output_type": "execute_result"
    },
    {
     "data": {
      "text/plain": [
       "1"
      ]
     },
     "execution_count": 268,
     "metadata": {},
     "output_type": "execute_result"
    },
    {
     "data": {
      "text/plain": [
       "1"
      ]
     },
     "execution_count": 268,
     "metadata": {},
     "output_type": "execute_result"
    },
    {
     "data": {
      "text/plain": [
       "1"
      ]
     },
     "execution_count": 268,
     "metadata": {},
     "output_type": "execute_result"
    },
    {
     "data": {
      "text/plain": [
       "1"
      ]
     },
     "execution_count": 268,
     "metadata": {},
     "output_type": "execute_result"
    },
    {
     "data": {
      "text/plain": [
       "1"
      ]
     },
     "execution_count": 268,
     "metadata": {},
     "output_type": "execute_result"
    },
    {
     "data": {
      "text/plain": [
       "1"
      ]
     },
     "execution_count": 268,
     "metadata": {},
     "output_type": "execute_result"
    },
    {
     "data": {
      "text/plain": [
       "1"
      ]
     },
     "execution_count": 268,
     "metadata": {},
     "output_type": "execute_result"
    },
    {
     "data": {
      "text/plain": [
       "1"
      ]
     },
     "execution_count": 268,
     "metadata": {},
     "output_type": "execute_result"
    },
    {
     "data": {
      "text/plain": [
       "1"
      ]
     },
     "execution_count": 268,
     "metadata": {},
     "output_type": "execute_result"
    },
    {
     "data": {
      "text/plain": [
       "1"
      ]
     },
     "execution_count": 268,
     "metadata": {},
     "output_type": "execute_result"
    },
    {
     "data": {
      "text/plain": [
       "1"
      ]
     },
     "execution_count": 268,
     "metadata": {},
     "output_type": "execute_result"
    },
    {
     "data": {
      "text/plain": [
       "1"
      ]
     },
     "execution_count": 268,
     "metadata": {},
     "output_type": "execute_result"
    },
    {
     "data": {
      "text/plain": [
       "1"
      ]
     },
     "execution_count": 268,
     "metadata": {},
     "output_type": "execute_result"
    },
    {
     "data": {
      "text/plain": [
       "1"
      ]
     },
     "execution_count": 268,
     "metadata": {},
     "output_type": "execute_result"
    },
    {
     "data": {
      "text/plain": [
       "1"
      ]
     },
     "execution_count": 268,
     "metadata": {},
     "output_type": "execute_result"
    },
    {
     "data": {
      "text/plain": [
       "1"
      ]
     },
     "execution_count": 268,
     "metadata": {},
     "output_type": "execute_result"
    },
    {
     "data": {
      "text/plain": [
       "1"
      ]
     },
     "execution_count": 268,
     "metadata": {},
     "output_type": "execute_result"
    },
    {
     "data": {
      "text/plain": [
       "1"
      ]
     },
     "execution_count": 268,
     "metadata": {},
     "output_type": "execute_result"
    },
    {
     "data": {
      "text/plain": [
       "1"
      ]
     },
     "execution_count": 268,
     "metadata": {},
     "output_type": "execute_result"
    },
    {
     "data": {
      "text/plain": [
       "1"
      ]
     },
     "execution_count": 268,
     "metadata": {},
     "output_type": "execute_result"
    },
    {
     "data": {
      "text/plain": [
       "1"
      ]
     },
     "execution_count": 268,
     "metadata": {},
     "output_type": "execute_result"
    },
    {
     "name": "stdout",
     "output_type": "stream",
     "text": [
      "committing to db\n"
     ]
    },
    {
     "data": {
      "text/plain": [
       "1"
      ]
     },
     "execution_count": 268,
     "metadata": {},
     "output_type": "execute_result"
    },
    {
     "data": {
      "text/plain": [
       "1"
      ]
     },
     "execution_count": 268,
     "metadata": {},
     "output_type": "execute_result"
    },
    {
     "data": {
      "text/plain": [
       "1"
      ]
     },
     "execution_count": 268,
     "metadata": {},
     "output_type": "execute_result"
    },
    {
     "data": {
      "text/plain": [
       "1"
      ]
     },
     "execution_count": 268,
     "metadata": {},
     "output_type": "execute_result"
    },
    {
     "data": {
      "text/plain": [
       "1"
      ]
     },
     "execution_count": 268,
     "metadata": {},
     "output_type": "execute_result"
    },
    {
     "data": {
      "text/plain": [
       "1"
      ]
     },
     "execution_count": 268,
     "metadata": {},
     "output_type": "execute_result"
    },
    {
     "data": {
      "text/plain": [
       "1"
      ]
     },
     "execution_count": 268,
     "metadata": {},
     "output_type": "execute_result"
    },
    {
     "data": {
      "text/plain": [
       "1"
      ]
     },
     "execution_count": 268,
     "metadata": {},
     "output_type": "execute_result"
    },
    {
     "data": {
      "text/plain": [
       "1"
      ]
     },
     "execution_count": 268,
     "metadata": {},
     "output_type": "execute_result"
    },
    {
     "data": {
      "text/plain": [
       "1"
      ]
     },
     "execution_count": 268,
     "metadata": {},
     "output_type": "execute_result"
    },
    {
     "data": {
      "text/plain": [
       "1"
      ]
     },
     "execution_count": 268,
     "metadata": {},
     "output_type": "execute_result"
    },
    {
     "data": {
      "text/plain": [
       "1"
      ]
     },
     "execution_count": 268,
     "metadata": {},
     "output_type": "execute_result"
    },
    {
     "data": {
      "text/plain": [
       "1"
      ]
     },
     "execution_count": 268,
     "metadata": {},
     "output_type": "execute_result"
    },
    {
     "data": {
      "text/plain": [
       "1"
      ]
     },
     "execution_count": 268,
     "metadata": {},
     "output_type": "execute_result"
    },
    {
     "data": {
      "text/plain": [
       "1"
      ]
     },
     "execution_count": 268,
     "metadata": {},
     "output_type": "execute_result"
    },
    {
     "data": {
      "text/plain": [
       "1"
      ]
     },
     "execution_count": 268,
     "metadata": {},
     "output_type": "execute_result"
    },
    {
     "data": {
      "text/plain": [
       "1"
      ]
     },
     "execution_count": 268,
     "metadata": {},
     "output_type": "execute_result"
    },
    {
     "data": {
      "text/plain": [
       "1"
      ]
     },
     "execution_count": 268,
     "metadata": {},
     "output_type": "execute_result"
    },
    {
     "data": {
      "text/plain": [
       "1"
      ]
     },
     "execution_count": 268,
     "metadata": {},
     "output_type": "execute_result"
    },
    {
     "data": {
      "text/plain": [
       "1"
      ]
     },
     "execution_count": 268,
     "metadata": {},
     "output_type": "execute_result"
    },
    {
     "data": {
      "text/plain": [
       "1"
      ]
     },
     "execution_count": 268,
     "metadata": {},
     "output_type": "execute_result"
    },
    {
     "data": {
      "text/plain": [
       "1"
      ]
     },
     "execution_count": 268,
     "metadata": {},
     "output_type": "execute_result"
    },
    {
     "data": {
      "text/plain": [
       "1"
      ]
     },
     "execution_count": 268,
     "metadata": {},
     "output_type": "execute_result"
    },
    {
     "data": {
      "text/plain": [
       "1"
      ]
     },
     "execution_count": 268,
     "metadata": {},
     "output_type": "execute_result"
    },
    {
     "data": {
      "text/plain": [
       "1"
      ]
     },
     "execution_count": 268,
     "metadata": {},
     "output_type": "execute_result"
    },
    {
     "data": {
      "text/plain": [
       "1"
      ]
     },
     "execution_count": 268,
     "metadata": {},
     "output_type": "execute_result"
    },
    {
     "data": {
      "text/plain": [
       "1"
      ]
     },
     "execution_count": 268,
     "metadata": {},
     "output_type": "execute_result"
    },
    {
     "data": {
      "text/plain": [
       "1"
      ]
     },
     "execution_count": 268,
     "metadata": {},
     "output_type": "execute_result"
    },
    {
     "data": {
      "text/plain": [
       "1"
      ]
     },
     "execution_count": 268,
     "metadata": {},
     "output_type": "execute_result"
    },
    {
     "data": {
      "text/plain": [
       "1"
      ]
     },
     "execution_count": 268,
     "metadata": {},
     "output_type": "execute_result"
    },
    {
     "data": {
      "text/plain": [
       "1"
      ]
     },
     "execution_count": 268,
     "metadata": {},
     "output_type": "execute_result"
    },
    {
     "data": {
      "text/plain": [
       "1"
      ]
     },
     "execution_count": 268,
     "metadata": {},
     "output_type": "execute_result"
    },
    {
     "data": {
      "text/plain": [
       "1"
      ]
     },
     "execution_count": 268,
     "metadata": {},
     "output_type": "execute_result"
    },
    {
     "data": {
      "text/plain": [
       "1"
      ]
     },
     "execution_count": 268,
     "metadata": {},
     "output_type": "execute_result"
    },
    {
     "data": {
      "text/plain": [
       "1"
      ]
     },
     "execution_count": 268,
     "metadata": {},
     "output_type": "execute_result"
    },
    {
     "data": {
      "text/plain": [
       "1"
      ]
     },
     "execution_count": 268,
     "metadata": {},
     "output_type": "execute_result"
    },
    {
     "data": {
      "text/plain": [
       "1"
      ]
     },
     "execution_count": 268,
     "metadata": {},
     "output_type": "execute_result"
    },
    {
     "data": {
      "text/plain": [
       "1"
      ]
     },
     "execution_count": 268,
     "metadata": {},
     "output_type": "execute_result"
    },
    {
     "data": {
      "text/plain": [
       "1"
      ]
     },
     "execution_count": 268,
     "metadata": {},
     "output_type": "execute_result"
    },
    {
     "data": {
      "text/plain": [
       "1"
      ]
     },
     "execution_count": 268,
     "metadata": {},
     "output_type": "execute_result"
    },
    {
     "data": {
      "text/plain": [
       "1"
      ]
     },
     "execution_count": 268,
     "metadata": {},
     "output_type": "execute_result"
    },
    {
     "data": {
      "text/plain": [
       "1"
      ]
     },
     "execution_count": 268,
     "metadata": {},
     "output_type": "execute_result"
    },
    {
     "data": {
      "text/plain": [
       "1"
      ]
     },
     "execution_count": 268,
     "metadata": {},
     "output_type": "execute_result"
    },
    {
     "data": {
      "text/plain": [
       "1"
      ]
     },
     "execution_count": 268,
     "metadata": {},
     "output_type": "execute_result"
    },
    {
     "data": {
      "text/plain": [
       "1"
      ]
     },
     "execution_count": 268,
     "metadata": {},
     "output_type": "execute_result"
    },
    {
     "data": {
      "text/plain": [
       "1"
      ]
     },
     "execution_count": 268,
     "metadata": {},
     "output_type": "execute_result"
    },
    {
     "data": {
      "text/plain": [
       "1"
      ]
     },
     "execution_count": 268,
     "metadata": {},
     "output_type": "execute_result"
    },
    {
     "data": {
      "text/plain": [
       "1"
      ]
     },
     "execution_count": 268,
     "metadata": {},
     "output_type": "execute_result"
    },
    {
     "data": {
      "text/plain": [
       "1"
      ]
     },
     "execution_count": 268,
     "metadata": {},
     "output_type": "execute_result"
    },
    {
     "data": {
      "text/plain": [
       "1"
      ]
     },
     "execution_count": 268,
     "metadata": {},
     "output_type": "execute_result"
    },
    {
     "name": "stdout",
     "output_type": "stream",
     "text": [
      "committing to db\n"
     ]
    },
    {
     "data": {
      "text/plain": [
       "1"
      ]
     },
     "execution_count": 268,
     "metadata": {},
     "output_type": "execute_result"
    },
    {
     "data": {
      "text/plain": [
       "1"
      ]
     },
     "execution_count": 268,
     "metadata": {},
     "output_type": "execute_result"
    },
    {
     "data": {
      "text/plain": [
       "1"
      ]
     },
     "execution_count": 268,
     "metadata": {},
     "output_type": "execute_result"
    },
    {
     "data": {
      "text/plain": [
       "1"
      ]
     },
     "execution_count": 268,
     "metadata": {},
     "output_type": "execute_result"
    },
    {
     "data": {
      "text/plain": [
       "1"
      ]
     },
     "execution_count": 268,
     "metadata": {},
     "output_type": "execute_result"
    },
    {
     "data": {
      "text/plain": [
       "1"
      ]
     },
     "execution_count": 268,
     "metadata": {},
     "output_type": "execute_result"
    },
    {
     "data": {
      "text/plain": [
       "1"
      ]
     },
     "execution_count": 268,
     "metadata": {},
     "output_type": "execute_result"
    },
    {
     "data": {
      "text/plain": [
       "1"
      ]
     },
     "execution_count": 268,
     "metadata": {},
     "output_type": "execute_result"
    },
    {
     "data": {
      "text/plain": [
       "1"
      ]
     },
     "execution_count": 268,
     "metadata": {},
     "output_type": "execute_result"
    },
    {
     "data": {
      "text/plain": [
       "1"
      ]
     },
     "execution_count": 268,
     "metadata": {},
     "output_type": "execute_result"
    },
    {
     "data": {
      "text/plain": [
       "1"
      ]
     },
     "execution_count": 268,
     "metadata": {},
     "output_type": "execute_result"
    },
    {
     "data": {
      "text/plain": [
       "1"
      ]
     },
     "execution_count": 268,
     "metadata": {},
     "output_type": "execute_result"
    },
    {
     "data": {
      "text/plain": [
       "1"
      ]
     },
     "execution_count": 268,
     "metadata": {},
     "output_type": "execute_result"
    },
    {
     "data": {
      "text/plain": [
       "1"
      ]
     },
     "execution_count": 268,
     "metadata": {},
     "output_type": "execute_result"
    },
    {
     "data": {
      "text/plain": [
       "1"
      ]
     },
     "execution_count": 268,
     "metadata": {},
     "output_type": "execute_result"
    },
    {
     "data": {
      "text/plain": [
       "1"
      ]
     },
     "execution_count": 268,
     "metadata": {},
     "output_type": "execute_result"
    },
    {
     "data": {
      "text/plain": [
       "1"
      ]
     },
     "execution_count": 268,
     "metadata": {},
     "output_type": "execute_result"
    },
    {
     "data": {
      "text/plain": [
       "1"
      ]
     },
     "execution_count": 268,
     "metadata": {},
     "output_type": "execute_result"
    },
    {
     "data": {
      "text/plain": [
       "1"
      ]
     },
     "execution_count": 268,
     "metadata": {},
     "output_type": "execute_result"
    },
    {
     "data": {
      "text/plain": [
       "1"
      ]
     },
     "execution_count": 268,
     "metadata": {},
     "output_type": "execute_result"
    },
    {
     "data": {
      "text/plain": [
       "1"
      ]
     },
     "execution_count": 268,
     "metadata": {},
     "output_type": "execute_result"
    },
    {
     "data": {
      "text/plain": [
       "1"
      ]
     },
     "execution_count": 268,
     "metadata": {},
     "output_type": "execute_result"
    },
    {
     "data": {
      "text/plain": [
       "1"
      ]
     },
     "execution_count": 268,
     "metadata": {},
     "output_type": "execute_result"
    },
    {
     "data": {
      "text/plain": [
       "1"
      ]
     },
     "execution_count": 268,
     "metadata": {},
     "output_type": "execute_result"
    },
    {
     "data": {
      "text/plain": [
       "1"
      ]
     },
     "execution_count": 268,
     "metadata": {},
     "output_type": "execute_result"
    },
    {
     "data": {
      "text/plain": [
       "1"
      ]
     },
     "execution_count": 268,
     "metadata": {},
     "output_type": "execute_result"
    },
    {
     "data": {
      "text/plain": [
       "1"
      ]
     },
     "execution_count": 268,
     "metadata": {},
     "output_type": "execute_result"
    },
    {
     "data": {
      "text/plain": [
       "1"
      ]
     },
     "execution_count": 268,
     "metadata": {},
     "output_type": "execute_result"
    },
    {
     "data": {
      "text/plain": [
       "1"
      ]
     },
     "execution_count": 268,
     "metadata": {},
     "output_type": "execute_result"
    },
    {
     "data": {
      "text/plain": [
       "1"
      ]
     },
     "execution_count": 268,
     "metadata": {},
     "output_type": "execute_result"
    },
    {
     "data": {
      "text/plain": [
       "1"
      ]
     },
     "execution_count": 268,
     "metadata": {},
     "output_type": "execute_result"
    },
    {
     "data": {
      "text/plain": [
       "1"
      ]
     },
     "execution_count": 268,
     "metadata": {},
     "output_type": "execute_result"
    },
    {
     "data": {
      "text/plain": [
       "1"
      ]
     },
     "execution_count": 268,
     "metadata": {},
     "output_type": "execute_result"
    },
    {
     "data": {
      "text/plain": [
       "1"
      ]
     },
     "execution_count": 268,
     "metadata": {},
     "output_type": "execute_result"
    },
    {
     "data": {
      "text/plain": [
       "1"
      ]
     },
     "execution_count": 268,
     "metadata": {},
     "output_type": "execute_result"
    },
    {
     "data": {
      "text/plain": [
       "1"
      ]
     },
     "execution_count": 268,
     "metadata": {},
     "output_type": "execute_result"
    },
    {
     "data": {
      "text/plain": [
       "1"
      ]
     },
     "execution_count": 268,
     "metadata": {},
     "output_type": "execute_result"
    },
    {
     "data": {
      "text/plain": [
       "1"
      ]
     },
     "execution_count": 268,
     "metadata": {},
     "output_type": "execute_result"
    },
    {
     "data": {
      "text/plain": [
       "1"
      ]
     },
     "execution_count": 268,
     "metadata": {},
     "output_type": "execute_result"
    },
    {
     "data": {
      "text/plain": [
       "1"
      ]
     },
     "execution_count": 268,
     "metadata": {},
     "output_type": "execute_result"
    },
    {
     "data": {
      "text/plain": [
       "1"
      ]
     },
     "execution_count": 268,
     "metadata": {},
     "output_type": "execute_result"
    },
    {
     "data": {
      "text/plain": [
       "1"
      ]
     },
     "execution_count": 268,
     "metadata": {},
     "output_type": "execute_result"
    },
    {
     "data": {
      "text/plain": [
       "1"
      ]
     },
     "execution_count": 268,
     "metadata": {},
     "output_type": "execute_result"
    },
    {
     "data": {
      "text/plain": [
       "1"
      ]
     },
     "execution_count": 268,
     "metadata": {},
     "output_type": "execute_result"
    },
    {
     "data": {
      "text/plain": [
       "1"
      ]
     },
     "execution_count": 268,
     "metadata": {},
     "output_type": "execute_result"
    },
    {
     "data": {
      "text/plain": [
       "1"
      ]
     },
     "execution_count": 268,
     "metadata": {},
     "output_type": "execute_result"
    },
    {
     "data": {
      "text/plain": [
       "1"
      ]
     },
     "execution_count": 268,
     "metadata": {},
     "output_type": "execute_result"
    },
    {
     "data": {
      "text/plain": [
       "1"
      ]
     },
     "execution_count": 268,
     "metadata": {},
     "output_type": "execute_result"
    },
    {
     "data": {
      "text/plain": [
       "1"
      ]
     },
     "execution_count": 268,
     "metadata": {},
     "output_type": "execute_result"
    },
    {
     "data": {
      "text/plain": [
       "1"
      ]
     },
     "execution_count": 268,
     "metadata": {},
     "output_type": "execute_result"
    },
    {
     "name": "stdout",
     "output_type": "stream",
     "text": [
      "committing to db\n"
     ]
    },
    {
     "data": {
      "text/plain": [
       "1"
      ]
     },
     "execution_count": 268,
     "metadata": {},
     "output_type": "execute_result"
    },
    {
     "data": {
      "text/plain": [
       "1"
      ]
     },
     "execution_count": 268,
     "metadata": {},
     "output_type": "execute_result"
    },
    {
     "data": {
      "text/plain": [
       "1"
      ]
     },
     "execution_count": 268,
     "metadata": {},
     "output_type": "execute_result"
    },
    {
     "data": {
      "text/plain": [
       "1"
      ]
     },
     "execution_count": 268,
     "metadata": {},
     "output_type": "execute_result"
    },
    {
     "data": {
      "text/plain": [
       "1"
      ]
     },
     "execution_count": 268,
     "metadata": {},
     "output_type": "execute_result"
    },
    {
     "data": {
      "text/plain": [
       "1"
      ]
     },
     "execution_count": 268,
     "metadata": {},
     "output_type": "execute_result"
    },
    {
     "data": {
      "text/plain": [
       "1"
      ]
     },
     "execution_count": 268,
     "metadata": {},
     "output_type": "execute_result"
    },
    {
     "data": {
      "text/plain": [
       "1"
      ]
     },
     "execution_count": 268,
     "metadata": {},
     "output_type": "execute_result"
    },
    {
     "data": {
      "text/plain": [
       "1"
      ]
     },
     "execution_count": 268,
     "metadata": {},
     "output_type": "execute_result"
    },
    {
     "data": {
      "text/plain": [
       "1"
      ]
     },
     "execution_count": 268,
     "metadata": {},
     "output_type": "execute_result"
    },
    {
     "data": {
      "text/plain": [
       "1"
      ]
     },
     "execution_count": 268,
     "metadata": {},
     "output_type": "execute_result"
    },
    {
     "data": {
      "text/plain": [
       "1"
      ]
     },
     "execution_count": 268,
     "metadata": {},
     "output_type": "execute_result"
    },
    {
     "data": {
      "text/plain": [
       "1"
      ]
     },
     "execution_count": 268,
     "metadata": {},
     "output_type": "execute_result"
    },
    {
     "data": {
      "text/plain": [
       "1"
      ]
     },
     "execution_count": 268,
     "metadata": {},
     "output_type": "execute_result"
    },
    {
     "data": {
      "text/plain": [
       "1"
      ]
     },
     "execution_count": 268,
     "metadata": {},
     "output_type": "execute_result"
    },
    {
     "data": {
      "text/plain": [
       "1"
      ]
     },
     "execution_count": 268,
     "metadata": {},
     "output_type": "execute_result"
    },
    {
     "data": {
      "text/plain": [
       "1"
      ]
     },
     "execution_count": 268,
     "metadata": {},
     "output_type": "execute_result"
    },
    {
     "data": {
      "text/plain": [
       "1"
      ]
     },
     "execution_count": 268,
     "metadata": {},
     "output_type": "execute_result"
    },
    {
     "data": {
      "text/plain": [
       "1"
      ]
     },
     "execution_count": 268,
     "metadata": {},
     "output_type": "execute_result"
    },
    {
     "data": {
      "text/plain": [
       "1"
      ]
     },
     "execution_count": 268,
     "metadata": {},
     "output_type": "execute_result"
    },
    {
     "data": {
      "text/plain": [
       "1"
      ]
     },
     "execution_count": 268,
     "metadata": {},
     "output_type": "execute_result"
    },
    {
     "data": {
      "text/plain": [
       "1"
      ]
     },
     "execution_count": 268,
     "metadata": {},
     "output_type": "execute_result"
    },
    {
     "data": {
      "text/plain": [
       "1"
      ]
     },
     "execution_count": 268,
     "metadata": {},
     "output_type": "execute_result"
    },
    {
     "data": {
      "text/plain": [
       "1"
      ]
     },
     "execution_count": 268,
     "metadata": {},
     "output_type": "execute_result"
    },
    {
     "data": {
      "text/plain": [
       "1"
      ]
     },
     "execution_count": 268,
     "metadata": {},
     "output_type": "execute_result"
    },
    {
     "data": {
      "text/plain": [
       "1"
      ]
     },
     "execution_count": 268,
     "metadata": {},
     "output_type": "execute_result"
    },
    {
     "data": {
      "text/plain": [
       "1"
      ]
     },
     "execution_count": 268,
     "metadata": {},
     "output_type": "execute_result"
    },
    {
     "data": {
      "text/plain": [
       "1"
      ]
     },
     "execution_count": 268,
     "metadata": {},
     "output_type": "execute_result"
    },
    {
     "data": {
      "text/plain": [
       "1"
      ]
     },
     "execution_count": 268,
     "metadata": {},
     "output_type": "execute_result"
    },
    {
     "data": {
      "text/plain": [
       "1"
      ]
     },
     "execution_count": 268,
     "metadata": {},
     "output_type": "execute_result"
    },
    {
     "data": {
      "text/plain": [
       "1"
      ]
     },
     "execution_count": 268,
     "metadata": {},
     "output_type": "execute_result"
    },
    {
     "data": {
      "text/plain": [
       "1"
      ]
     },
     "execution_count": 268,
     "metadata": {},
     "output_type": "execute_result"
    },
    {
     "data": {
      "text/plain": [
       "1"
      ]
     },
     "execution_count": 268,
     "metadata": {},
     "output_type": "execute_result"
    },
    {
     "data": {
      "text/plain": [
       "1"
      ]
     },
     "execution_count": 268,
     "metadata": {},
     "output_type": "execute_result"
    },
    {
     "data": {
      "text/plain": [
       "1"
      ]
     },
     "execution_count": 268,
     "metadata": {},
     "output_type": "execute_result"
    },
    {
     "data": {
      "text/plain": [
       "1"
      ]
     },
     "execution_count": 268,
     "metadata": {},
     "output_type": "execute_result"
    },
    {
     "data": {
      "text/plain": [
       "1"
      ]
     },
     "execution_count": 268,
     "metadata": {},
     "output_type": "execute_result"
    },
    {
     "data": {
      "text/plain": [
       "1"
      ]
     },
     "execution_count": 268,
     "metadata": {},
     "output_type": "execute_result"
    },
    {
     "data": {
      "text/plain": [
       "1"
      ]
     },
     "execution_count": 268,
     "metadata": {},
     "output_type": "execute_result"
    },
    {
     "data": {
      "text/plain": [
       "1"
      ]
     },
     "execution_count": 268,
     "metadata": {},
     "output_type": "execute_result"
    },
    {
     "data": {
      "text/plain": [
       "1"
      ]
     },
     "execution_count": 268,
     "metadata": {},
     "output_type": "execute_result"
    },
    {
     "data": {
      "text/plain": [
       "1"
      ]
     },
     "execution_count": 268,
     "metadata": {},
     "output_type": "execute_result"
    },
    {
     "data": {
      "text/plain": [
       "1"
      ]
     },
     "execution_count": 268,
     "metadata": {},
     "output_type": "execute_result"
    },
    {
     "data": {
      "text/plain": [
       "1"
      ]
     },
     "execution_count": 268,
     "metadata": {},
     "output_type": "execute_result"
    },
    {
     "data": {
      "text/plain": [
       "1"
      ]
     },
     "execution_count": 268,
     "metadata": {},
     "output_type": "execute_result"
    },
    {
     "data": {
      "text/plain": [
       "1"
      ]
     },
     "execution_count": 268,
     "metadata": {},
     "output_type": "execute_result"
    },
    {
     "data": {
      "text/plain": [
       "1"
      ]
     },
     "execution_count": 268,
     "metadata": {},
     "output_type": "execute_result"
    },
    {
     "data": {
      "text/plain": [
       "1"
      ]
     },
     "execution_count": 268,
     "metadata": {},
     "output_type": "execute_result"
    },
    {
     "data": {
      "text/plain": [
       "1"
      ]
     },
     "execution_count": 268,
     "metadata": {},
     "output_type": "execute_result"
    },
    {
     "data": {
      "text/plain": [
       "1"
      ]
     },
     "execution_count": 268,
     "metadata": {},
     "output_type": "execute_result"
    },
    {
     "name": "stdout",
     "output_type": "stream",
     "text": [
      "committing to db\n"
     ]
    },
    {
     "data": {
      "text/plain": [
       "1"
      ]
     },
     "execution_count": 268,
     "metadata": {},
     "output_type": "execute_result"
    },
    {
     "data": {
      "text/plain": [
       "1"
      ]
     },
     "execution_count": 268,
     "metadata": {},
     "output_type": "execute_result"
    },
    {
     "data": {
      "text/plain": [
       "1"
      ]
     },
     "execution_count": 268,
     "metadata": {},
     "output_type": "execute_result"
    },
    {
     "data": {
      "text/plain": [
       "1"
      ]
     },
     "execution_count": 268,
     "metadata": {},
     "output_type": "execute_result"
    },
    {
     "data": {
      "text/plain": [
       "1"
      ]
     },
     "execution_count": 268,
     "metadata": {},
     "output_type": "execute_result"
    },
    {
     "data": {
      "text/plain": [
       "1"
      ]
     },
     "execution_count": 268,
     "metadata": {},
     "output_type": "execute_result"
    },
    {
     "data": {
      "text/plain": [
       "1"
      ]
     },
     "execution_count": 268,
     "metadata": {},
     "output_type": "execute_result"
    },
    {
     "data": {
      "text/plain": [
       "1"
      ]
     },
     "execution_count": 268,
     "metadata": {},
     "output_type": "execute_result"
    },
    {
     "data": {
      "text/plain": [
       "1"
      ]
     },
     "execution_count": 268,
     "metadata": {},
     "output_type": "execute_result"
    },
    {
     "data": {
      "text/plain": [
       "1"
      ]
     },
     "execution_count": 268,
     "metadata": {},
     "output_type": "execute_result"
    },
    {
     "data": {
      "text/plain": [
       "1"
      ]
     },
     "execution_count": 268,
     "metadata": {},
     "output_type": "execute_result"
    },
    {
     "data": {
      "text/plain": [
       "1"
      ]
     },
     "execution_count": 268,
     "metadata": {},
     "output_type": "execute_result"
    },
    {
     "data": {
      "text/plain": [
       "1"
      ]
     },
     "execution_count": 268,
     "metadata": {},
     "output_type": "execute_result"
    },
    {
     "data": {
      "text/plain": [
       "1"
      ]
     },
     "execution_count": 268,
     "metadata": {},
     "output_type": "execute_result"
    },
    {
     "data": {
      "text/plain": [
       "1"
      ]
     },
     "execution_count": 268,
     "metadata": {},
     "output_type": "execute_result"
    },
    {
     "data": {
      "text/plain": [
       "1"
      ]
     },
     "execution_count": 268,
     "metadata": {},
     "output_type": "execute_result"
    },
    {
     "data": {
      "text/plain": [
       "1"
      ]
     },
     "execution_count": 268,
     "metadata": {},
     "output_type": "execute_result"
    },
    {
     "data": {
      "text/plain": [
       "1"
      ]
     },
     "execution_count": 268,
     "metadata": {},
     "output_type": "execute_result"
    },
    {
     "data": {
      "text/plain": [
       "1"
      ]
     },
     "execution_count": 268,
     "metadata": {},
     "output_type": "execute_result"
    },
    {
     "data": {
      "text/plain": [
       "1"
      ]
     },
     "execution_count": 268,
     "metadata": {},
     "output_type": "execute_result"
    },
    {
     "data": {
      "text/plain": [
       "1"
      ]
     },
     "execution_count": 268,
     "metadata": {},
     "output_type": "execute_result"
    },
    {
     "data": {
      "text/plain": [
       "1"
      ]
     },
     "execution_count": 268,
     "metadata": {},
     "output_type": "execute_result"
    },
    {
     "data": {
      "text/plain": [
       "1"
      ]
     },
     "execution_count": 268,
     "metadata": {},
     "output_type": "execute_result"
    },
    {
     "data": {
      "text/plain": [
       "1"
      ]
     },
     "execution_count": 268,
     "metadata": {},
     "output_type": "execute_result"
    },
    {
     "data": {
      "text/plain": [
       "1"
      ]
     },
     "execution_count": 268,
     "metadata": {},
     "output_type": "execute_result"
    },
    {
     "data": {
      "text/plain": [
       "1"
      ]
     },
     "execution_count": 268,
     "metadata": {},
     "output_type": "execute_result"
    },
    {
     "data": {
      "text/plain": [
       "1"
      ]
     },
     "execution_count": 268,
     "metadata": {},
     "output_type": "execute_result"
    },
    {
     "data": {
      "text/plain": [
       "1"
      ]
     },
     "execution_count": 268,
     "metadata": {},
     "output_type": "execute_result"
    },
    {
     "data": {
      "text/plain": [
       "1"
      ]
     },
     "execution_count": 268,
     "metadata": {},
     "output_type": "execute_result"
    },
    {
     "data": {
      "text/plain": [
       "1"
      ]
     },
     "execution_count": 268,
     "metadata": {},
     "output_type": "execute_result"
    },
    {
     "data": {
      "text/plain": [
       "1"
      ]
     },
     "execution_count": 268,
     "metadata": {},
     "output_type": "execute_result"
    },
    {
     "data": {
      "text/plain": [
       "1"
      ]
     },
     "execution_count": 268,
     "metadata": {},
     "output_type": "execute_result"
    },
    {
     "data": {
      "text/plain": [
       "1"
      ]
     },
     "execution_count": 268,
     "metadata": {},
     "output_type": "execute_result"
    },
    {
     "data": {
      "text/plain": [
       "1"
      ]
     },
     "execution_count": 268,
     "metadata": {},
     "output_type": "execute_result"
    },
    {
     "data": {
      "text/plain": [
       "1"
      ]
     },
     "execution_count": 268,
     "metadata": {},
     "output_type": "execute_result"
    },
    {
     "data": {
      "text/plain": [
       "1"
      ]
     },
     "execution_count": 268,
     "metadata": {},
     "output_type": "execute_result"
    },
    {
     "data": {
      "text/plain": [
       "1"
      ]
     },
     "execution_count": 268,
     "metadata": {},
     "output_type": "execute_result"
    },
    {
     "data": {
      "text/plain": [
       "1"
      ]
     },
     "execution_count": 268,
     "metadata": {},
     "output_type": "execute_result"
    },
    {
     "data": {
      "text/plain": [
       "1"
      ]
     },
     "execution_count": 268,
     "metadata": {},
     "output_type": "execute_result"
    },
    {
     "data": {
      "text/plain": [
       "1"
      ]
     },
     "execution_count": 268,
     "metadata": {},
     "output_type": "execute_result"
    },
    {
     "data": {
      "text/plain": [
       "1"
      ]
     },
     "execution_count": 268,
     "metadata": {},
     "output_type": "execute_result"
    },
    {
     "data": {
      "text/plain": [
       "1"
      ]
     },
     "execution_count": 268,
     "metadata": {},
     "output_type": "execute_result"
    },
    {
     "data": {
      "text/plain": [
       "1"
      ]
     },
     "execution_count": 268,
     "metadata": {},
     "output_type": "execute_result"
    },
    {
     "data": {
      "text/plain": [
       "1"
      ]
     },
     "execution_count": 268,
     "metadata": {},
     "output_type": "execute_result"
    },
    {
     "data": {
      "text/plain": [
       "1"
      ]
     },
     "execution_count": 268,
     "metadata": {},
     "output_type": "execute_result"
    },
    {
     "data": {
      "text/plain": [
       "1"
      ]
     },
     "execution_count": 268,
     "metadata": {},
     "output_type": "execute_result"
    },
    {
     "data": {
      "text/plain": [
       "1"
      ]
     },
     "execution_count": 268,
     "metadata": {},
     "output_type": "execute_result"
    },
    {
     "data": {
      "text/plain": [
       "1"
      ]
     },
     "execution_count": 268,
     "metadata": {},
     "output_type": "execute_result"
    },
    {
     "data": {
      "text/plain": [
       "1"
      ]
     },
     "execution_count": 268,
     "metadata": {},
     "output_type": "execute_result"
    },
    {
     "data": {
      "text/plain": [
       "1"
      ]
     },
     "execution_count": 268,
     "metadata": {},
     "output_type": "execute_result"
    },
    {
     "name": "stdout",
     "output_type": "stream",
     "text": [
      "committing to db\n"
     ]
    },
    {
     "data": {
      "text/plain": [
       "1"
      ]
     },
     "execution_count": 268,
     "metadata": {},
     "output_type": "execute_result"
    },
    {
     "data": {
      "text/plain": [
       "1"
      ]
     },
     "execution_count": 268,
     "metadata": {},
     "output_type": "execute_result"
    },
    {
     "data": {
      "text/plain": [
       "1"
      ]
     },
     "execution_count": 268,
     "metadata": {},
     "output_type": "execute_result"
    },
    {
     "data": {
      "text/plain": [
       "1"
      ]
     },
     "execution_count": 268,
     "metadata": {},
     "output_type": "execute_result"
    },
    {
     "data": {
      "text/plain": [
       "1"
      ]
     },
     "execution_count": 268,
     "metadata": {},
     "output_type": "execute_result"
    },
    {
     "data": {
      "text/plain": [
       "1"
      ]
     },
     "execution_count": 268,
     "metadata": {},
     "output_type": "execute_result"
    },
    {
     "data": {
      "text/plain": [
       "1"
      ]
     },
     "execution_count": 268,
     "metadata": {},
     "output_type": "execute_result"
    },
    {
     "data": {
      "text/plain": [
       "1"
      ]
     },
     "execution_count": 268,
     "metadata": {},
     "output_type": "execute_result"
    },
    {
     "data": {
      "text/plain": [
       "1"
      ]
     },
     "execution_count": 268,
     "metadata": {},
     "output_type": "execute_result"
    },
    {
     "data": {
      "text/plain": [
       "1"
      ]
     },
     "execution_count": 268,
     "metadata": {},
     "output_type": "execute_result"
    },
    {
     "data": {
      "text/plain": [
       "1"
      ]
     },
     "execution_count": 268,
     "metadata": {},
     "output_type": "execute_result"
    },
    {
     "data": {
      "text/plain": [
       "1"
      ]
     },
     "execution_count": 268,
     "metadata": {},
     "output_type": "execute_result"
    },
    {
     "data": {
      "text/plain": [
       "1"
      ]
     },
     "execution_count": 268,
     "metadata": {},
     "output_type": "execute_result"
    },
    {
     "data": {
      "text/plain": [
       "1"
      ]
     },
     "execution_count": 268,
     "metadata": {},
     "output_type": "execute_result"
    },
    {
     "data": {
      "text/plain": [
       "1"
      ]
     },
     "execution_count": 268,
     "metadata": {},
     "output_type": "execute_result"
    },
    {
     "data": {
      "text/plain": [
       "1"
      ]
     },
     "execution_count": 268,
     "metadata": {},
     "output_type": "execute_result"
    },
    {
     "data": {
      "text/plain": [
       "1"
      ]
     },
     "execution_count": 268,
     "metadata": {},
     "output_type": "execute_result"
    },
    {
     "data": {
      "text/plain": [
       "1"
      ]
     },
     "execution_count": 268,
     "metadata": {},
     "output_type": "execute_result"
    },
    {
     "data": {
      "text/plain": [
       "1"
      ]
     },
     "execution_count": 268,
     "metadata": {},
     "output_type": "execute_result"
    },
    {
     "data": {
      "text/plain": [
       "1"
      ]
     },
     "execution_count": 268,
     "metadata": {},
     "output_type": "execute_result"
    },
    {
     "data": {
      "text/plain": [
       "1"
      ]
     },
     "execution_count": 268,
     "metadata": {},
     "output_type": "execute_result"
    },
    {
     "data": {
      "text/plain": [
       "1"
      ]
     },
     "execution_count": 268,
     "metadata": {},
     "output_type": "execute_result"
    },
    {
     "data": {
      "text/plain": [
       "1"
      ]
     },
     "execution_count": 268,
     "metadata": {},
     "output_type": "execute_result"
    },
    {
     "data": {
      "text/plain": [
       "1"
      ]
     },
     "execution_count": 268,
     "metadata": {},
     "output_type": "execute_result"
    },
    {
     "data": {
      "text/plain": [
       "1"
      ]
     },
     "execution_count": 268,
     "metadata": {},
     "output_type": "execute_result"
    },
    {
     "data": {
      "text/plain": [
       "1"
      ]
     },
     "execution_count": 268,
     "metadata": {},
     "output_type": "execute_result"
    },
    {
     "data": {
      "text/plain": [
       "1"
      ]
     },
     "execution_count": 268,
     "metadata": {},
     "output_type": "execute_result"
    },
    {
     "data": {
      "text/plain": [
       "1"
      ]
     },
     "execution_count": 268,
     "metadata": {},
     "output_type": "execute_result"
    },
    {
     "data": {
      "text/plain": [
       "1"
      ]
     },
     "execution_count": 268,
     "metadata": {},
     "output_type": "execute_result"
    },
    {
     "data": {
      "text/plain": [
       "1"
      ]
     },
     "execution_count": 268,
     "metadata": {},
     "output_type": "execute_result"
    },
    {
     "data": {
      "text/plain": [
       "1"
      ]
     },
     "execution_count": 268,
     "metadata": {},
     "output_type": "execute_result"
    }
   ],
   "source": [
    "\n",
    "cursor.execute('TRUNCATE TABLE sale_info;')\n",
    "db.commit()\n",
    "\n",
    "failedindexes = []\n",
    "\n",
    "sql = generateInsertString('sale_info')\n",
    "\n",
    "for index in range(0,cleanData[tableCols['sale_info']].shape[0]):\n",
    "    \n",
    "    values = list(cleanData[tableCols['sale_info']].iloc[index].values)\n",
    "    \n",
    "    try:\n",
    "        cursor.execute(sql, values)\n",
    "        \n",
    "        #committing to database every 50 inserts \n",
    "        if index % 50 == 0:\n",
    "            print('committing to db')\n",
    "            db.commit()\n",
    "            \n",
    "        \n",
    "    except:\n",
    "        print('error occured at index {}'.format(index))\n",
    "        cleanData[tableCols['sale_info']].iloc[index]\n",
    "        failedindexes.append(index)\n",
    "\n",
    "db.commit()"
   ]
  },
  {
   "cell_type": "code",
   "execution_count": 275,
   "metadata": {},
   "outputs": [
    {
     "name": "stdout",
     "output_type": "stream",
     "text": [
      "committing to db - 0 records inserted\n",
      "committing to db - 100 records inserted\n",
      "committing to db - 200 records inserted\n",
      "committing to db - 300 records inserted\n",
      "committing to db - 400 records inserted\n",
      "committing to db - 500 records inserted\n",
      "committing to db - 600 records inserted\n",
      "committing to db - 700 records inserted\n",
      "committing to db - 800 records inserted\n",
      "committing to db - 900 records inserted\n",
      "committing to db - 1000 records inserted\n",
      "committing to db - 1100 records inserted\n",
      "committing to db - 1200 records inserted\n",
      "committing to db - 1300 records inserted\n",
      "committing to db - 1400 records inserted\n",
      "committing to db - 1500 records inserted\n",
      "committing to db - 1600 records inserted\n",
      "committing to db - 1700 records inserted\n",
      "committing to db - 1800 records inserted\n",
      "committing to db - 1900 records inserted\n",
      "committing to db - 2000 records inserted\n",
      "committing to db - 2100 records inserted\n"
     ]
    },
    {
     "data": {
      "text/plain": [
       "[]"
      ]
     },
     "execution_count": 275,
     "metadata": {},
     "output_type": "execute_result"
    }
   ],
   "source": [
    "insertToDb(cleanData, 'sale_info')"
   ]
  },
  {
   "cell_type": "code",
   "execution_count": 43,
   "metadata": {},
   "outputs": [
    {
     "data": {
      "text/html": [
       "<div>\n",
       "<style scoped>\n",
       "    .dataframe tbody tr th:only-of-type {\n",
       "        vertical-align: middle;\n",
       "    }\n",
       "\n",
       "    .dataframe tbody tr th {\n",
       "        vertical-align: top;\n",
       "    }\n",
       "\n",
       "    .dataframe thead th {\n",
       "        text-align: right;\n",
       "    }\n",
       "</style>\n",
       "<table border=\"1\" class=\"dataframe\">\n",
       "  <thead>\n",
       "    <tr style=\"text-align: right;\">\n",
       "      <th></th>\n",
       "      <th>LEASE_NO</th>\n",
       "      <th>PLOTTED</th>\n",
       "      <th>GRANTEE</th>\n",
       "      <th>SALE_DATE</th>\n",
       "      <th>EFFECTIVE_DATE_OF_LEASE</th>\n",
       "      <th>EXPIRATION_DATE</th>\n",
       "      <th>ACRES</th>\n",
       "      <th>COUNTY</th>\n",
       "      <th>ST</th>\n",
       "      <th>STATUS_COMMENTS</th>\n",
       "      <th>EXPIRATION_YEAR</th>\n",
       "      <th>TOWNSHIP</th>\n",
       "      <th>RANGE_PLSS</th>\n",
       "      <th>DESCRIPTION_I</th>\n",
       "      <th>DESCRIPTION_II</th>\n",
       "      <th>DESCRIPTION_III</th>\n",
       "    </tr>\n",
       "  </thead>\n",
       "  <tbody>\n",
       "    <tr>\n",
       "      <th>0</th>\n",
       "      <td>ALES51293</td>\n",
       "      <td>NO</td>\n",
       "      <td>R&amp;R Royalty</td>\n",
       "      <td>2002-03-28</td>\n",
       "      <td>2002-05-01</td>\n",
       "      <td>2012-05-01</td>\n",
       "      <td>80.25</td>\n",
       "      <td>LAMAR</td>\n",
       "      <td>AL</td>\n",
       "      <td>Expired 2012</td>\n",
       "      <td>0000-00-00</td>\n",
       "      <td>None</td>\n",
       "      <td>None</td>\n",
       "      <td>SEE STIPULATIONS &amp; LSE NOTICE</td>\n",
       "      <td>T16S,R16W HUNTSVILLE MERIDIAN</td>\n",
       "      <td>SEC 5, N2NE</td>\n",
       "    </tr>\n",
       "    <tr>\n",
       "      <th>1</th>\n",
       "      <td>ALES51294</td>\n",
       "      <td>NO</td>\n",
       "      <td>R&amp;R Royalty</td>\n",
       "      <td>2002-03-28</td>\n",
       "      <td>2002-05-01</td>\n",
       "      <td>2012-05-01</td>\n",
       "      <td>80.70</td>\n",
       "      <td>LAMAR</td>\n",
       "      <td>AL</td>\n",
       "      <td>Expired 2012</td>\n",
       "      <td>0000-00-00</td>\n",
       "      <td>None</td>\n",
       "      <td>None</td>\n",
       "      <td>SEE STIPULATIONS &amp; LSE NOTICE</td>\n",
       "      <td>T16S,R16W HUNTSVILLE MERIDIAN</td>\n",
       "      <td>SEC 11, NESW; SEC 20, NWNE</td>\n",
       "    </tr>\n",
       "    <tr>\n",
       "      <th>2</th>\n",
       "      <td>ALES55113</td>\n",
       "      <td>YES</td>\n",
       "      <td>R&amp;R Royalty</td>\n",
       "      <td>2007-12-20</td>\n",
       "      <td>2008-02-01</td>\n",
       "      <td>2018-02-01</td>\n",
       "      <td>161.55</td>\n",
       "      <td>COVINGTON</td>\n",
       "      <td>AL</td>\n",
       "      <td>EXP. AGREEMENT - PRUET 3D/CRAIN- EXPIRED</td>\n",
       "      <td>0000-00-00</td>\n",
       "      <td>None</td>\n",
       "      <td>None</td>\n",
       "      <td>CONECUH NATL FOREST</td>\n",
       "      <td>T1N,R15E,ST.STEPHENS MERIDAN</td>\n",
       "      <td>SEC 5, N2NW; SEC 6, SESW; SEC 8, NWSW</td>\n",
       "    </tr>\n",
       "    <tr>\n",
       "      <th>3</th>\n",
       "      <td>ALES55116</td>\n",
       "      <td>YES</td>\n",
       "      <td>R&amp;R Royalty</td>\n",
       "      <td>2007-12-20</td>\n",
       "      <td>2008-02-01</td>\n",
       "      <td>2018-02-01</td>\n",
       "      <td>1470.17</td>\n",
       "      <td>COVINGTON</td>\n",
       "      <td>AL</td>\n",
       "      <td>None</td>\n",
       "      <td>0000-00-00</td>\n",
       "      <td>None</td>\n",
       "      <td>None</td>\n",
       "      <td>CONECUH NATL FOREST</td>\n",
       "      <td>T1N,R15E,ST.STEPHENS MERIDAN</td>\n",
       "      <td>ACREAGE IN SEC 15, 16, 18, 21 &amp; 22; SEE LSE FO...</td>\n",
       "    </tr>\n",
       "    <tr>\n",
       "      <th>4</th>\n",
       "      <td>ALES55117</td>\n",
       "      <td>YES</td>\n",
       "      <td>R&amp;R Royalty</td>\n",
       "      <td>2007-12-20</td>\n",
       "      <td>2008-02-01</td>\n",
       "      <td>2018-02-01</td>\n",
       "      <td>479.55</td>\n",
       "      <td>COVINGTON</td>\n",
       "      <td>AL</td>\n",
       "      <td>None</td>\n",
       "      <td>0000-00-00</td>\n",
       "      <td>None</td>\n",
       "      <td>None</td>\n",
       "      <td>CONECUH NATL FOREST</td>\n",
       "      <td>T1N,R15E,ST.STEPHENS MERIDAN</td>\n",
       "      <td>SEC 27,SENW,SW; SEC 28,E2NE; SEC 33, NENE; SEC...</td>\n",
       "    </tr>\n",
       "    <tr>\n",
       "      <th>5</th>\n",
       "      <td>ALES55118</td>\n",
       "      <td>YES</td>\n",
       "      <td>R&amp;R Royalty</td>\n",
       "      <td>2007-12-20</td>\n",
       "      <td>2008-02-01</td>\n",
       "      <td>2018-02-01</td>\n",
       "      <td>685.17</td>\n",
       "      <td>ESCAMBIA</td>\n",
       "      <td>AL</td>\n",
       "      <td>LEASE AMENDED. 320 ACR. CANC. SEC.11 REMOVED. ...</td>\n",
       "      <td>0000-00-00</td>\n",
       "      <td>None</td>\n",
       "      <td>None</td>\n",
       "      <td>CONECUH NATL FOREST</td>\n",
       "      <td>T2N,R13E,ST.STEPHENS MERIDAN</td>\n",
       "      <td>SEC 8,N2NW,E2SE; SEC 9,SENE, S2; SEC15,N2,SW,W2SE</td>\n",
       "    </tr>\n",
       "    <tr>\n",
       "      <th>6</th>\n",
       "      <td>ALES55119</td>\n",
       "      <td>YES</td>\n",
       "      <td>R&amp;R Royalty</td>\n",
       "      <td>2007-12-20</td>\n",
       "      <td>2008-02-01</td>\n",
       "      <td>2018-02-01</td>\n",
       "      <td>1720.42</td>\n",
       "      <td>ESCAMBIA</td>\n",
       "      <td>AL</td>\n",
       "      <td>None</td>\n",
       "      <td>0000-00-00</td>\n",
       "      <td>None</td>\n",
       "      <td>None</td>\n",
       "      <td>CONECUH NATL FOREST</td>\n",
       "      <td>T2N,R13E,ST.STEPHENS MERIDAN</td>\n",
       "      <td>SEC 16,ALL; SEC 19,E2SW; SEC20,W2NE,SENE,NW,SE...</td>\n",
       "    </tr>\n",
       "    <tr>\n",
       "      <th>7</th>\n",
       "      <td>ALES55121</td>\n",
       "      <td>YES</td>\n",
       "      <td>R&amp;R Royalty</td>\n",
       "      <td>2007-12-20</td>\n",
       "      <td>2008-02-01</td>\n",
       "      <td>2018-02-01</td>\n",
       "      <td>1480.33</td>\n",
       "      <td>ESCAMBIA</td>\n",
       "      <td>AL</td>\n",
       "      <td>EXP. AGREEMENT - PRUET 3D/CRAIN- EXPIRED</td>\n",
       "      <td>0000-00-00</td>\n",
       "      <td>None</td>\n",
       "      <td>None</td>\n",
       "      <td>CONECUH NATL FOREST</td>\n",
       "      <td>T2N,R13E,ST.STEPHENS MERIDAN</td>\n",
       "      <td>SEC 27,ALL; SEC 28,ALL; SEC29 SENW,SW</td>\n",
       "    </tr>\n",
       "    <tr>\n",
       "      <th>8</th>\n",
       "      <td>ALES55122</td>\n",
       "      <td>YES</td>\n",
       "      <td>R&amp;R Royalty</td>\n",
       "      <td>2007-12-20</td>\n",
       "      <td>2008-02-01</td>\n",
       "      <td>2018-02-01</td>\n",
       "      <td>1860.00</td>\n",
       "      <td>ESCAMBIA</td>\n",
       "      <td>AL</td>\n",
       "      <td>None</td>\n",
       "      <td>0000-00-00</td>\n",
       "      <td>None</td>\n",
       "      <td>None</td>\n",
       "      <td>CONECUH NATL FOREST</td>\n",
       "      <td>T2N,R13E,ST.STEPHENS MERIDAN</td>\n",
       "      <td>SEC 30,E2SE, E2E2W2SE; SEC32,E2; SEC33,ALL; SE...</td>\n",
       "    </tr>\n",
       "    <tr>\n",
       "      <th>9</th>\n",
       "      <td>ALES55123</td>\n",
       "      <td>YES</td>\n",
       "      <td>R&amp;R Royalty</td>\n",
       "      <td>2007-12-20</td>\n",
       "      <td>2008-02-01</td>\n",
       "      <td>2018-02-01</td>\n",
       "      <td>2316.75</td>\n",
       "      <td>COVINGTON</td>\n",
       "      <td>AL</td>\n",
       "      <td>None</td>\n",
       "      <td>0000-00-00</td>\n",
       "      <td>None</td>\n",
       "      <td>None</td>\n",
       "      <td>CONECUH NATL FOREST</td>\n",
       "      <td>T2N,R15E,ST.STEPHENS MERIDIAN</td>\n",
       "      <td>SEC 2,SWN2,SWNW,S2; SEC 3,ALL; SEC4,ALL; SEC 5...</td>\n",
       "    </tr>\n",
       "    <tr>\n",
       "      <th>10</th>\n",
       "      <td>ALES55124</td>\n",
       "      <td>YES</td>\n",
       "      <td>R&amp;R Royalty</td>\n",
       "      <td>2007-12-20</td>\n",
       "      <td>2008-02-01</td>\n",
       "      <td>2018-02-01</td>\n",
       "      <td>788.96</td>\n",
       "      <td>COVINGTON</td>\n",
       "      <td>AL</td>\n",
       "      <td>None</td>\n",
       "      <td>0000-00-00</td>\n",
       "      <td>None</td>\n",
       "      <td>None</td>\n",
       "      <td>CONECUH NATL FOREST</td>\n",
       "      <td>T2N,R15E,ST.STEPHENS MERIDIAN</td>\n",
       "      <td>SEC 6,SE; SEC 7,SWNW,S2; SEC 8,NE, Pt.E2NW,SW,...</td>\n",
       "    </tr>\n",
       "    <tr>\n",
       "      <th>11</th>\n",
       "      <td>ALES55125</td>\n",
       "      <td>YES</td>\n",
       "      <td>R&amp;R Royalty</td>\n",
       "      <td>2007-12-20</td>\n",
       "      <td>2008-02-01</td>\n",
       "      <td>2018-02-01</td>\n",
       "      <td>1968.96</td>\n",
       "      <td>COVINGTON</td>\n",
       "      <td>AL</td>\n",
       "      <td>None</td>\n",
       "      <td>0000-00-00</td>\n",
       "      <td>None</td>\n",
       "      <td>None</td>\n",
       "      <td>CONECUH NATL FOREST</td>\n",
       "      <td>T2N,R15E,ST.STEPHENS MERIDIAN</td>\n",
       "      <td>SEC 11, ALL; SEC 12,NE,SWNW,W2SW,SESW,SWSE; SE...</td>\n",
       "    </tr>\n",
       "    <tr>\n",
       "      <th>12</th>\n",
       "      <td>ALES55126</td>\n",
       "      <td>YES</td>\n",
       "      <td>R&amp;R Royalty</td>\n",
       "      <td>2007-12-20</td>\n",
       "      <td>2008-02-01</td>\n",
       "      <td>2018-02-01</td>\n",
       "      <td>1081.11</td>\n",
       "      <td>COVINGTON</td>\n",
       "      <td>AL</td>\n",
       "      <td>None</td>\n",
       "      <td>0000-00-00</td>\n",
       "      <td>None</td>\n",
       "      <td>None</td>\n",
       "      <td>CONECUH NATL FOREST</td>\n",
       "      <td>T2N,R15E,ST.STEPHENS MERIDIAN</td>\n",
       "      <td>SEC 15,PT.OF.NW; SEC 16,ALL; SEC 17,SEN2,PT.OF...</td>\n",
       "    </tr>\n",
       "    <tr>\n",
       "      <th>13</th>\n",
       "      <td>ALES55128</td>\n",
       "      <td>YES</td>\n",
       "      <td>R&amp;R Royalty</td>\n",
       "      <td>2007-12-20</td>\n",
       "      <td>2008-02-01</td>\n",
       "      <td>2018-02-01</td>\n",
       "      <td>1783.17</td>\n",
       "      <td>COVINGTON</td>\n",
       "      <td>AL</td>\n",
       "      <td>None</td>\n",
       "      <td>0000-00-00</td>\n",
       "      <td>None</td>\n",
       "      <td>None</td>\n",
       "      <td>CONECUH NATL FOREST</td>\n",
       "      <td>T2N,R15E,ST.STEPHENS MERIDIAN</td>\n",
       "      <td>SEC 22,W2SE.LESS.4.03.ACRES.LYING.IN.NWSE; SEC...</td>\n",
       "    </tr>\n",
       "    <tr>\n",
       "      <th>14</th>\n",
       "      <td>ALES55129</td>\n",
       "      <td>YES</td>\n",
       "      <td>R&amp;R Royalty</td>\n",
       "      <td>2007-12-20</td>\n",
       "      <td>2008-02-01</td>\n",
       "      <td>2018-02-01</td>\n",
       "      <td>920.78</td>\n",
       "      <td>COVINGTON</td>\n",
       "      <td>AL</td>\n",
       "      <td>None</td>\n",
       "      <td>0000-00-00</td>\n",
       "      <td>None</td>\n",
       "      <td>None</td>\n",
       "      <td>CONECUH NATL FOREST</td>\n",
       "      <td>T2N,R15E,ST.STEPHENS MERIDIAN</td>\n",
       "      <td>SEC 26, ALL; SEC28 - SEE LEASE FOR DETAILS (NO...</td>\n",
       "    </tr>\n",
       "    <tr>\n",
       "      <th>15</th>\n",
       "      <td>ALES55130</td>\n",
       "      <td>YES</td>\n",
       "      <td>R&amp;R Royalty</td>\n",
       "      <td>2007-12-20</td>\n",
       "      <td>2008-02-01</td>\n",
       "      <td>2018-02-01</td>\n",
       "      <td>200.00</td>\n",
       "      <td>COVINGTON</td>\n",
       "      <td>AL</td>\n",
       "      <td>None</td>\n",
       "      <td>0000-00-00</td>\n",
       "      <td>None</td>\n",
       "      <td>None</td>\n",
       "      <td>CONECUH NATL FOREST</td>\n",
       "      <td>T2N,R15E,ST.STEPHENS MERIDIAN</td>\n",
       "      <td>SEC 29, SW,NWSE</td>\n",
       "    </tr>\n",
       "    <tr>\n",
       "      <th>16</th>\n",
       "      <td>ALES55131</td>\n",
       "      <td>YES</td>\n",
       "      <td>R&amp;R Royalty</td>\n",
       "      <td>2007-12-20</td>\n",
       "      <td>2008-02-01</td>\n",
       "      <td>2018-02-01</td>\n",
       "      <td>80.00</td>\n",
       "      <td>COVINGTON</td>\n",
       "      <td>AL</td>\n",
       "      <td>None</td>\n",
       "      <td>0000-00-00</td>\n",
       "      <td>None</td>\n",
       "      <td>None</td>\n",
       "      <td>CONECUH NATL FOREST</td>\n",
       "      <td>T2N,R15E,ST.STEPHENS MERIDIAN</td>\n",
       "      <td>SEC 32,S2SW</td>\n",
       "    </tr>\n",
       "    <tr>\n",
       "      <th>17</th>\n",
       "      <td>ALES55132</td>\n",
       "      <td>YES</td>\n",
       "      <td>R&amp;R Royalty</td>\n",
       "      <td>2007-12-20</td>\n",
       "      <td>2008-02-01</td>\n",
       "      <td>2018-02-01</td>\n",
       "      <td>1516.00</td>\n",
       "      <td>COVINGTON</td>\n",
       "      <td>AL</td>\n",
       "      <td>None</td>\n",
       "      <td>0000-00-00</td>\n",
       "      <td>None</td>\n",
       "      <td>None</td>\n",
       "      <td>CONECUH NATL FOREST</td>\n",
       "      <td>T2N,R15E,ST.STEPHENS MERIDIAN</td>\n",
       "      <td>SEC 34,ALL; SEC 35,ALL; SEC36,W2NW,SENW,NESW L...</td>\n",
       "    </tr>\n",
       "    <tr>\n",
       "      <th>18</th>\n",
       "      <td>ALES55138</td>\n",
       "      <td>YES</td>\n",
       "      <td>R&amp;R Royalty</td>\n",
       "      <td>2007-12-20</td>\n",
       "      <td>2008-02-01</td>\n",
       "      <td>2018-02-01</td>\n",
       "      <td>154.30</td>\n",
       "      <td>SHELBY</td>\n",
       "      <td>AL</td>\n",
       "      <td>None</td>\n",
       "      <td>0000-00-00</td>\n",
       "      <td>None</td>\n",
       "      <td>None</td>\n",
       "      <td>TALLADEGA, NATL FOREST</td>\n",
       "      <td>T18S,R1E,HUNTSVILLE MERIDIAN</td>\n",
       "      <td>SEC 32, SE</td>\n",
       "    </tr>\n",
       "    <tr>\n",
       "      <th>19</th>\n",
       "      <td>ALES55311</td>\n",
       "      <td>YES</td>\n",
       "      <td>R&amp;R Royalty</td>\n",
       "      <td>2008-06-19</td>\n",
       "      <td>2008-09-01</td>\n",
       "      <td>2018-09-01</td>\n",
       "      <td>550.48</td>\n",
       "      <td>Escambia</td>\n",
       "      <td>AL</td>\n",
       "      <td>EXP. AGREEMENT - PRUET 3D/CRAIN</td>\n",
       "      <td>0000-00-00</td>\n",
       "      <td>None</td>\n",
       "      <td>None</td>\n",
       "      <td>Conecuh National Forest</td>\n",
       "      <td>T2N R13E St. Stephens Meridian</td>\n",
       "      <td>Sec. 22, NWNENE, S2NENE, SENE, W2NE, E2NW, S2;...</td>\n",
       "    </tr>\n",
       "    <tr>\n",
       "      <th>20</th>\n",
       "      <td>ALES55543</td>\n",
       "      <td>YES</td>\n",
       "      <td>R&amp;R Royalty</td>\n",
       "      <td>2008-12-18</td>\n",
       "      <td>2009-02-01</td>\n",
       "      <td>2019-02-01</td>\n",
       "      <td>160.00</td>\n",
       "      <td>Escambia</td>\n",
       "      <td>AL</td>\n",
       "      <td>LEASE ACREAGE AMENDED. TO BE REFUNDED: EXCESS ...</td>\n",
       "      <td>0000-00-00</td>\n",
       "      <td>1N</td>\n",
       "      <td>13E</td>\n",
       "      <td>BLM; Conecuh National Forest</td>\n",
       "      <td>T0010N, R0130E; 25 Meridian</td>\n",
       "      <td>Sec. 003, N2NE, N2SE</td>\n",
       "    </tr>\n",
       "    <tr>\n",
       "      <th>21</th>\n",
       "      <td>ALES55546</td>\n",
       "      <td>YES</td>\n",
       "      <td>R&amp;R Royalty</td>\n",
       "      <td>2008-12-18</td>\n",
       "      <td>2009-02-01</td>\n",
       "      <td>2019-02-01</td>\n",
       "      <td>640.00</td>\n",
       "      <td>Escambia</td>\n",
       "      <td>AL</td>\n",
       "      <td>EXPIRED 2019</td>\n",
       "      <td>0000-00-00</td>\n",
       "      <td>1N</td>\n",
       "      <td>13E</td>\n",
       "      <td>BLM; Conecuh National Forest</td>\n",
       "      <td>T0010N, R0130E; 25 Meridian</td>\n",
       "      <td>Sec. 021, All</td>\n",
       "    </tr>\n",
       "    <tr>\n",
       "      <th>22</th>\n",
       "      <td>ALES55549</td>\n",
       "      <td>YES</td>\n",
       "      <td>Magnum Producing</td>\n",
       "      <td>2008-12-18</td>\n",
       "      <td>2009-02-01</td>\n",
       "      <td>2019-02-01</td>\n",
       "      <td>40.01</td>\n",
       "      <td>HALE</td>\n",
       "      <td>AL</td>\n",
       "      <td>BOUGHT FROM MEADE HUFFORD</td>\n",
       "      <td>0000-00-00</td>\n",
       "      <td>22N</td>\n",
       "      <td>6E</td>\n",
       "      <td>T22N R6E ST STEPHENS MERIDIAN SEC 2 SWSW</td>\n",
       "      <td>None</td>\n",
       "      <td>None</td>\n",
       "    </tr>\n",
       "    <tr>\n",
       "      <th>23</th>\n",
       "      <td>ALES55550</td>\n",
       "      <td>YES</td>\n",
       "      <td>Magnum Producing</td>\n",
       "      <td>2008-12-18</td>\n",
       "      <td>2009-02-01</td>\n",
       "      <td>2019-02-01</td>\n",
       "      <td>160.00</td>\n",
       "      <td>HALE</td>\n",
       "      <td>AL</td>\n",
       "      <td>BOUGHT FROM MEADE HUFFORD</td>\n",
       "      <td>0000-00-00</td>\n",
       "      <td>22N</td>\n",
       "      <td>6E</td>\n",
       "      <td>T22N R6E ST STEPHENS MERIDIAN SEC 15 NW</td>\n",
       "      <td>None</td>\n",
       "      <td>None</td>\n",
       "    </tr>\n",
       "    <tr>\n",
       "      <th>24</th>\n",
       "      <td>ALES55551</td>\n",
       "      <td>YES</td>\n",
       "      <td>R&amp;R Royalty</td>\n",
       "      <td>2008-12-18</td>\n",
       "      <td>2009-02-01</td>\n",
       "      <td>2019-02-01</td>\n",
       "      <td>160.00</td>\n",
       "      <td>Perry</td>\n",
       "      <td>AL</td>\n",
       "      <td>EXPIRED 2019</td>\n",
       "      <td>0000-00-00</td>\n",
       "      <td>22N</td>\n",
       "      <td>7E</td>\n",
       "      <td>BLM; Talledega National Forest</td>\n",
       "      <td>T0220N; R0070E; 25 Meridian</td>\n",
       "      <td>Sec. 021, SW</td>\n",
       "    </tr>\n",
       "    <tr>\n",
       "      <th>25</th>\n",
       "      <td>ALES55552</td>\n",
       "      <td>YES</td>\n",
       "      <td>Magnum Producing</td>\n",
       "      <td>2008-12-18</td>\n",
       "      <td>2009-02-01</td>\n",
       "      <td>2019-02-01</td>\n",
       "      <td>428.23</td>\n",
       "      <td>BIBB</td>\n",
       "      <td>AL</td>\n",
       "      <td>BOUGHT FROM MEADE HUFFORD</td>\n",
       "      <td>0000-00-00</td>\n",
       "      <td>23N</td>\n",
       "      <td>7E</td>\n",
       "      <td>T23N R7E ST STEPHENS MERIDIAN SEC 5 NWNW S2NW ...</td>\n",
       "      <td>None</td>\n",
       "      <td>None</td>\n",
       "    </tr>\n",
       "    <tr>\n",
       "      <th>26</th>\n",
       "      <td>ALES55553</td>\n",
       "      <td>YES</td>\n",
       "      <td>Magnum Producing</td>\n",
       "      <td>2008-12-18</td>\n",
       "      <td>2009-02-01</td>\n",
       "      <td>2019-02-01</td>\n",
       "      <td>477.28</td>\n",
       "      <td>BIBB</td>\n",
       "      <td>AL</td>\n",
       "      <td>BOUGHT FROM MEADE HUFFORD</td>\n",
       "      <td>0000-00-00</td>\n",
       "      <td>23N</td>\n",
       "      <td>7E</td>\n",
       "      <td>T23N R7E ST STEPHENS MERIDIAN SEC 7 N2NE SWNE ...</td>\n",
       "      <td>None</td>\n",
       "      <td>None</td>\n",
       "    </tr>\n",
       "    <tr>\n",
       "      <th>27</th>\n",
       "      <td>ALES55554</td>\n",
       "      <td>YES</td>\n",
       "      <td>Magnum Producing</td>\n",
       "      <td>2008-12-18</td>\n",
       "      <td>2009-02-01</td>\n",
       "      <td>2019-02-01</td>\n",
       "      <td>40.00</td>\n",
       "      <td>BIBB</td>\n",
       "      <td>AL</td>\n",
       "      <td>BOUGHT FROM MEADE HUFFORD</td>\n",
       "      <td>0000-00-00</td>\n",
       "      <td>23N</td>\n",
       "      <td>7E</td>\n",
       "      <td>T23N R7E ST STEPHENS MERIDIAN SEC 17 SWNW N2SW...</td>\n",
       "      <td>None</td>\n",
       "      <td>None</td>\n",
       "    </tr>\n",
       "    <tr>\n",
       "      <th>28</th>\n",
       "      <td>ALES55555</td>\n",
       "      <td>YES</td>\n",
       "      <td>Magnum Producing</td>\n",
       "      <td>2008-12-18</td>\n",
       "      <td>2009-02-01</td>\n",
       "      <td>2019-02-01</td>\n",
       "      <td>40.36</td>\n",
       "      <td>BIBB</td>\n",
       "      <td>AL</td>\n",
       "      <td>BOUGHT FROM MEADE HUFFORD</td>\n",
       "      <td>0000-00-00</td>\n",
       "      <td>23N</td>\n",
       "      <td>7E</td>\n",
       "      <td>T23N R7E ST STEPHENS MERIDIAN SEC 19 NENE</td>\n",
       "      <td>None</td>\n",
       "      <td>None</td>\n",
       "    </tr>\n",
       "    <tr>\n",
       "      <th>29</th>\n",
       "      <td>ALES56200</td>\n",
       "      <td>YES</td>\n",
       "      <td>R&amp;R Royalty</td>\n",
       "      <td>2010-03-18</td>\n",
       "      <td>2010-06-01</td>\n",
       "      <td>2020-06-01</td>\n",
       "      <td>122.00</td>\n",
       "      <td>CONECUH</td>\n",
       "      <td>AL</td>\n",
       "      <td>None</td>\n",
       "      <td>0000-00-00</td>\n",
       "      <td>5N</td>\n",
       "      <td>13E</td>\n",
       "      <td>ST STEPHENS MERIDIAN, T5N, R13E</td>\n",
       "      <td>SEC 32, N2SE,NESW+2A.E.OF.ROAD.IN.NWSW</td>\n",
       "      <td>None</td>\n",
       "    </tr>\n",
       "    <tr>\n",
       "      <th>...</th>\n",
       "      <td>...</td>\n",
       "      <td>...</td>\n",
       "      <td>...</td>\n",
       "      <td>...</td>\n",
       "      <td>...</td>\n",
       "      <td>...</td>\n",
       "      <td>...</td>\n",
       "      <td>...</td>\n",
       "      <td>...</td>\n",
       "      <td>...</td>\n",
       "      <td>...</td>\n",
       "      <td>...</td>\n",
       "      <td>...</td>\n",
       "      <td>...</td>\n",
       "      <td>...</td>\n",
       "      <td>...</td>\n",
       "    </tr>\n",
       "    <tr>\n",
       "      <th>2144</th>\n",
       "      <td>WYW189665</td>\n",
       "      <td>YES</td>\n",
       "      <td>R&amp;R Royalty</td>\n",
       "      <td>2019-12-11</td>\n",
       "      <td>2020-02-01</td>\n",
       "      <td>2030-02-01</td>\n",
       "      <td>2298.62</td>\n",
       "      <td>SUBLETTE</td>\n",
       "      <td>WY</td>\n",
       "      <td>Receipt Not yet received</td>\n",
       "      <td>0000-00-00</td>\n",
       "      <td>29N</td>\n",
       "      <td>106W</td>\n",
       "      <td>6TH MERIDIAN</td>\n",
       "      <td>Sec. 007 LOTS 1-4; Sec. 007 E2, E2W2; Sec. 017...</td>\n",
       "      <td>Sec. 019 LOTS 1, 2, 4; Sec. 019 SENE, NENW, E2...</td>\n",
       "    </tr>\n",
       "    <tr>\n",
       "      <th>2145</th>\n",
       "      <td>WYW189666</td>\n",
       "      <td>YES</td>\n",
       "      <td>R&amp;R Royalty</td>\n",
       "      <td>2019-12-11</td>\n",
       "      <td>2020-02-01</td>\n",
       "      <td>2030-02-01</td>\n",
       "      <td>2560.00</td>\n",
       "      <td>SUBLETTE</td>\n",
       "      <td>WY</td>\n",
       "      <td>Receipt Not yet received</td>\n",
       "      <td>0000-00-00</td>\n",
       "      <td>29N</td>\n",
       "      <td>106W</td>\n",
       "      <td>6TH MERIDIAN</td>\n",
       "      <td>Sec. 010 ALL; Sec. 011 ALL; Sec. 013 ALL; Sec....</td>\n",
       "      <td>None</td>\n",
       "    </tr>\n",
       "    <tr>\n",
       "      <th>2146</th>\n",
       "      <td>WYW189667</td>\n",
       "      <td>YES</td>\n",
       "      <td>R&amp;R Royalty</td>\n",
       "      <td>2019-12-11</td>\n",
       "      <td>2020-02-01</td>\n",
       "      <td>2030-02-01</td>\n",
       "      <td>1474.50</td>\n",
       "      <td>SUBLETTE</td>\n",
       "      <td>WY</td>\n",
       "      <td>Receipt Not yet received</td>\n",
       "      <td>0000-00-00</td>\n",
       "      <td>29N</td>\n",
       "      <td>106W</td>\n",
       "      <td>6TH MERIDIAN</td>\n",
       "      <td>Sec. 015 ALL; Sec. 019 LOTS 3;Sec. 019 N2NE, S...</td>\n",
       "      <td>None</td>\n",
       "    </tr>\n",
       "    <tr>\n",
       "      <th>2147</th>\n",
       "      <td>WYW189668</td>\n",
       "      <td>YES</td>\n",
       "      <td>R&amp;R Royalty</td>\n",
       "      <td>2019-12-11</td>\n",
       "      <td>2020-02-01</td>\n",
       "      <td>2030-02-01</td>\n",
       "      <td>2520.00</td>\n",
       "      <td>SUBLETTE</td>\n",
       "      <td>WY</td>\n",
       "      <td>Receipt Not yet received</td>\n",
       "      <td>0000-00-00</td>\n",
       "      <td>29N</td>\n",
       "      <td>106W</td>\n",
       "      <td>6TH MERIDIAN</td>\n",
       "      <td>Sec. 020 NE, N2NW, SENW, S2; Sec. 021 ALL; Sec...</td>\n",
       "      <td>None</td>\n",
       "    </tr>\n",
       "    <tr>\n",
       "      <th>2148</th>\n",
       "      <td>WYW189670</td>\n",
       "      <td>YES</td>\n",
       "      <td>R&amp;R Royalty</td>\n",
       "      <td>2019-12-11</td>\n",
       "      <td>2020-02-01</td>\n",
       "      <td>2030-02-01</td>\n",
       "      <td>1920.00</td>\n",
       "      <td>SUBLETTE</td>\n",
       "      <td>WY</td>\n",
       "      <td>Receipt Not yet received</td>\n",
       "      <td>0000-00-00</td>\n",
       "      <td>29N</td>\n",
       "      <td>106W</td>\n",
       "      <td>6TH MERIDIAN</td>\n",
       "      <td>Sec. 027 ALL; Sec. 032 ALL; Sec. 033 ALL;</td>\n",
       "      <td>None</td>\n",
       "    </tr>\n",
       "    <tr>\n",
       "      <th>2149</th>\n",
       "      <td>WYW189672</td>\n",
       "      <td>YES</td>\n",
       "      <td>R&amp;R Royalty</td>\n",
       "      <td>2019-12-11</td>\n",
       "      <td>2020-02-01</td>\n",
       "      <td>2030-02-01</td>\n",
       "      <td>1835.46</td>\n",
       "      <td>SUBLETTE</td>\n",
       "      <td>WY</td>\n",
       "      <td>Receipt Not yet received</td>\n",
       "      <td>0000-00-00</td>\n",
       "      <td>30N</td>\n",
       "      <td>109W</td>\n",
       "      <td>6TH MERIDIAN</td>\n",
       "      <td>Sec. 003 LOTS 1-4; Sec. 003 S2N2, S2; Sec. 004...</td>\n",
       "      <td>None</td>\n",
       "    </tr>\n",
       "    <tr>\n",
       "      <th>2150</th>\n",
       "      <td>WYW189673</td>\n",
       "      <td>YES</td>\n",
       "      <td>R&amp;R Royalty</td>\n",
       "      <td>2019-12-11</td>\n",
       "      <td>2020-02-01</td>\n",
       "      <td>2030-02-01</td>\n",
       "      <td>2400.00</td>\n",
       "      <td>SUBLETTE</td>\n",
       "      <td>WY</td>\n",
       "      <td>Receipt Not yet received</td>\n",
       "      <td>0000-00-00</td>\n",
       "      <td>30N</td>\n",
       "      <td>109W</td>\n",
       "      <td>6TH MERIDIAN</td>\n",
       "      <td>Sec. 011 ALL; Sec. 012 W2, SE; Sec. 014 ALL; S...</td>\n",
       "      <td>None</td>\n",
       "    </tr>\n",
       "    <tr>\n",
       "      <th>2151</th>\n",
       "      <td>WYW189796</td>\n",
       "      <td>NO</td>\n",
       "      <td>R&amp;R Royalty</td>\n",
       "      <td>2020-03-24</td>\n",
       "      <td>2020-06-01</td>\n",
       "      <td>2030-06-01</td>\n",
       "      <td>1360.00</td>\n",
       "      <td>NIOBRARA</td>\n",
       "      <td>WY</td>\n",
       "      <td>None</td>\n",
       "      <td>0000-00-00</td>\n",
       "      <td>36N</td>\n",
       "      <td>66W</td>\n",
       "      <td>6TH PM</td>\n",
       "      <td>Section: 026 E2;Section: 027 SENE, N2NW, SWNW,...</td>\n",
       "      <td>None</td>\n",
       "    </tr>\n",
       "    <tr>\n",
       "      <th>2152</th>\n",
       "      <td>WYW189797</td>\n",
       "      <td>NO</td>\n",
       "      <td>R&amp;R Royalty</td>\n",
       "      <td>2020-03-24</td>\n",
       "      <td>2020-06-01</td>\n",
       "      <td>2030-06-01</td>\n",
       "      <td>1320.00</td>\n",
       "      <td>NIOBRARA</td>\n",
       "      <td>WY</td>\n",
       "      <td>None</td>\n",
       "      <td>0000-00-00</td>\n",
       "      <td>36N</td>\n",
       "      <td>66W</td>\n",
       "      <td>6TH PM</td>\n",
       "      <td>Section: 033 ALL ; Section: 034 NENE, W2; Sect...</td>\n",
       "      <td>None</td>\n",
       "    </tr>\n",
       "    <tr>\n",
       "      <th>2153</th>\n",
       "      <td>WYW189804</td>\n",
       "      <td>NO</td>\n",
       "      <td>R&amp;R Royalty</td>\n",
       "      <td>2020-03-24</td>\n",
       "      <td>2020-10-01</td>\n",
       "      <td>2030-10-01</td>\n",
       "      <td>320.00</td>\n",
       "      <td>CONVERSE</td>\n",
       "      <td>WY</td>\n",
       "      <td>None</td>\n",
       "      <td>0000-00-00</td>\n",
       "      <td>37N</td>\n",
       "      <td>71W</td>\n",
       "      <td>6TH PM</td>\n",
       "      <td>Section: 003 S2.</td>\n",
       "      <td>None</td>\n",
       "    </tr>\n",
       "    <tr>\n",
       "      <th>2154</th>\n",
       "      <td>WYW189807</td>\n",
       "      <td>NO</td>\n",
       "      <td>R&amp;R Royalty</td>\n",
       "      <td>2020-03-24</td>\n",
       "      <td>2020-06-01</td>\n",
       "      <td>2030-06-01</td>\n",
       "      <td>1519.54</td>\n",
       "      <td>CONVERSE</td>\n",
       "      <td>WY</td>\n",
       "      <td>HBP-MINIMUM ROYALTY STATUS AS PER CANDACE MERR...</td>\n",
       "      <td>0000-00-00</td>\n",
       "      <td>39N</td>\n",
       "      <td>71W</td>\n",
       "      <td>6TH PM</td>\n",
       "      <td>Section: 003 LOTS 2;Section: 003 S2NE, NESE, S...</td>\n",
       "      <td>None</td>\n",
       "    </tr>\n",
       "    <tr>\n",
       "      <th>2155</th>\n",
       "      <td>WYW189810</td>\n",
       "      <td>NO</td>\n",
       "      <td>R&amp;R Royalty</td>\n",
       "      <td>2020-03-24</td>\n",
       "      <td>2020-06-01</td>\n",
       "      <td>2030-06-01</td>\n",
       "      <td>240.00</td>\n",
       "      <td>CONVERSE</td>\n",
       "      <td>WY</td>\n",
       "      <td>None</td>\n",
       "      <td>None</td>\n",
       "      <td>39N</td>\n",
       "      <td>71W</td>\n",
       "      <td>6TH PM</td>\n",
       "      <td>Section: 014 W2NE, SE.</td>\n",
       "      <td>None</td>\n",
       "    </tr>\n",
       "    <tr>\n",
       "      <th>2156</th>\n",
       "      <td>WYW189811</td>\n",
       "      <td>NO</td>\n",
       "      <td>R&amp;R Royalty</td>\n",
       "      <td>2020-03-24</td>\n",
       "      <td>2020-06-01</td>\n",
       "      <td>2030-06-01</td>\n",
       "      <td>320.00</td>\n",
       "      <td>CONVERSE</td>\n",
       "      <td>WY</td>\n",
       "      <td>None</td>\n",
       "      <td>0000-00-00</td>\n",
       "      <td>39N</td>\n",
       "      <td>71W</td>\n",
       "      <td>6TH PM</td>\n",
       "      <td>Section: 014 W2.</td>\n",
       "      <td>None</td>\n",
       "    </tr>\n",
       "    <tr>\n",
       "      <th>2157</th>\n",
       "      <td>WYW189812</td>\n",
       "      <td>NO</td>\n",
       "      <td>R&amp;R Royalty</td>\n",
       "      <td>2020-03-24</td>\n",
       "      <td>2020-06-01</td>\n",
       "      <td>2030-06-01</td>\n",
       "      <td>240.00</td>\n",
       "      <td>CONVERSE</td>\n",
       "      <td>WY</td>\n",
       "      <td>None</td>\n",
       "      <td>0000-00-00</td>\n",
       "      <td>39N</td>\n",
       "      <td>71W</td>\n",
       "      <td>6TH PM</td>\n",
       "      <td>Section: 017 NE;Section: 028 N2NE.</td>\n",
       "      <td>None</td>\n",
       "    </tr>\n",
       "    <tr>\n",
       "      <th>2158</th>\n",
       "      <td>WYW189814</td>\n",
       "      <td>NO</td>\n",
       "      <td>R&amp;R Royalty</td>\n",
       "      <td>2020-03-24</td>\n",
       "      <td>2020-06-01</td>\n",
       "      <td>2030-06-01</td>\n",
       "      <td>480.00</td>\n",
       "      <td>CONVERSE</td>\n",
       "      <td>WY</td>\n",
       "      <td>None</td>\n",
       "      <td>0000-00-00</td>\n",
       "      <td>39N</td>\n",
       "      <td>71W</td>\n",
       "      <td>6TH PM</td>\n",
       "      <td>Section: 020 N2, SESW, NESE, S2SE.</td>\n",
       "      <td>None</td>\n",
       "    </tr>\n",
       "    <tr>\n",
       "      <th>2159</th>\n",
       "      <td>WYW189815</td>\n",
       "      <td>NO</td>\n",
       "      <td>R&amp;R Royalty</td>\n",
       "      <td>2020-03-24</td>\n",
       "      <td>2020-06-01</td>\n",
       "      <td>2030-06-01</td>\n",
       "      <td>320.00</td>\n",
       "      <td>CONVERSE</td>\n",
       "      <td>WY</td>\n",
       "      <td>None</td>\n",
       "      <td>0000-00-00</td>\n",
       "      <td>39N</td>\n",
       "      <td>71W</td>\n",
       "      <td>6TH PM</td>\n",
       "      <td>Section: 021 N2.</td>\n",
       "      <td>None</td>\n",
       "    </tr>\n",
       "    <tr>\n",
       "      <th>2160</th>\n",
       "      <td>WYW189816</td>\n",
       "      <td>NO</td>\n",
       "      <td>R&amp;R Royalty</td>\n",
       "      <td>2020-03-24</td>\n",
       "      <td>2020-06-01</td>\n",
       "      <td>2030-06-01</td>\n",
       "      <td>320.00</td>\n",
       "      <td>CONVERSE</td>\n",
       "      <td>WY</td>\n",
       "      <td>None</td>\n",
       "      <td>0000-00-00</td>\n",
       "      <td>39N</td>\n",
       "      <td>71W</td>\n",
       "      <td>6TH PM</td>\n",
       "      <td>Section: 022 N2.</td>\n",
       "      <td>None</td>\n",
       "    </tr>\n",
       "    <tr>\n",
       "      <th>2161</th>\n",
       "      <td>WYW189819</td>\n",
       "      <td>NO</td>\n",
       "      <td>R&amp;R Royalty</td>\n",
       "      <td>2020-03-24</td>\n",
       "      <td>2020-06-01</td>\n",
       "      <td>2030-06-01</td>\n",
       "      <td>198.32</td>\n",
       "      <td>CAMPBELL</td>\n",
       "      <td>WY</td>\n",
       "      <td>None</td>\n",
       "      <td>0000-00-00</td>\n",
       "      <td>46N</td>\n",
       "      <td>72W</td>\n",
       "      <td>6TH PM</td>\n",
       "      <td>Section: 013 LOTS 10,11,12,13;Section: 024 LOT...</td>\n",
       "      <td>None</td>\n",
       "    </tr>\n",
       "    <tr>\n",
       "      <th>2162</th>\n",
       "      <td>WYW189820</td>\n",
       "      <td>NO</td>\n",
       "      <td>R&amp;R Royalty</td>\n",
       "      <td>2020-03-24</td>\n",
       "      <td>2020-06-01</td>\n",
       "      <td>2030-06-01</td>\n",
       "      <td>40.00</td>\n",
       "      <td>CONVERSE</td>\n",
       "      <td>WY</td>\n",
       "      <td>None</td>\n",
       "      <td>0000-00-00</td>\n",
       "      <td>38N</td>\n",
       "      <td>73W</td>\n",
       "      <td>6TH PM</td>\n",
       "      <td>Section: 003 SWNW.</td>\n",
       "      <td>None</td>\n",
       "    </tr>\n",
       "    <tr>\n",
       "      <th>2163</th>\n",
       "      <td>WYW189821</td>\n",
       "      <td>NO</td>\n",
       "      <td>R&amp;R Royalty</td>\n",
       "      <td>2020-03-24</td>\n",
       "      <td>2020-06-01</td>\n",
       "      <td>2030-06-01</td>\n",
       "      <td>80.00</td>\n",
       "      <td>CONVERSE</td>\n",
       "      <td>WY</td>\n",
       "      <td>None</td>\n",
       "      <td>0000-00-00</td>\n",
       "      <td>38N</td>\n",
       "      <td>73W</td>\n",
       "      <td>6TH PM</td>\n",
       "      <td>Section: 004 SENE, SWNW.</td>\n",
       "      <td>None</td>\n",
       "    </tr>\n",
       "    <tr>\n",
       "      <th>2164</th>\n",
       "      <td>WYW189822</td>\n",
       "      <td>NO</td>\n",
       "      <td>R&amp;R Royalty</td>\n",
       "      <td>2020-03-24</td>\n",
       "      <td>2020-06-01</td>\n",
       "      <td>2030-06-01</td>\n",
       "      <td>160.00</td>\n",
       "      <td>CONVERSE</td>\n",
       "      <td>WY</td>\n",
       "      <td>None</td>\n",
       "      <td>0000-00-00</td>\n",
       "      <td>38N</td>\n",
       "      <td>73W</td>\n",
       "      <td>6TH PM</td>\n",
       "      <td>Section: 005 SENE, NESE, S2SE.</td>\n",
       "      <td>None</td>\n",
       "    </tr>\n",
       "    <tr>\n",
       "      <th>2165</th>\n",
       "      <td>WYW189825</td>\n",
       "      <td>NO</td>\n",
       "      <td>R&amp;R Royalty</td>\n",
       "      <td>2020-03-24</td>\n",
       "      <td>2020-06-01</td>\n",
       "      <td>2030-06-01</td>\n",
       "      <td>80.00</td>\n",
       "      <td>CONVERSE</td>\n",
       "      <td>WY</td>\n",
       "      <td>HBP - COMMITTED TO WYW180786 - SAMSON RESOURCE...</td>\n",
       "      <td>0000-00-00</td>\n",
       "      <td>38N</td>\n",
       "      <td>73W</td>\n",
       "      <td>6TH PM</td>\n",
       "      <td>Section: 018 SENE, SESW.</td>\n",
       "      <td>None</td>\n",
       "    </tr>\n",
       "    <tr>\n",
       "      <th>2166</th>\n",
       "      <td>WYW189826</td>\n",
       "      <td>NO</td>\n",
       "      <td>R&amp;R Royalty</td>\n",
       "      <td>2020-03-24</td>\n",
       "      <td>2020-06-01</td>\n",
       "      <td>2030-06-01</td>\n",
       "      <td>2278.30</td>\n",
       "      <td>CONVERSE</td>\n",
       "      <td>WY</td>\n",
       "      <td>None</td>\n",
       "      <td>0000-00-00</td>\n",
       "      <td>34N</td>\n",
       "      <td>74W</td>\n",
       "      <td>6TH PM</td>\n",
       "      <td>Section: 026 NENE,S2NE,W2NW, N2SW, SESW, NESE;...</td>\n",
       "      <td>None</td>\n",
       "    </tr>\n",
       "    <tr>\n",
       "      <th>2167</th>\n",
       "      <td>WYW189827</td>\n",
       "      <td>NO</td>\n",
       "      <td>R&amp;R Royalty</td>\n",
       "      <td>2020-03-24</td>\n",
       "      <td>2020-06-01</td>\n",
       "      <td>2030-06-01</td>\n",
       "      <td>920.00</td>\n",
       "      <td>CONVERSE</td>\n",
       "      <td>WY</td>\n",
       "      <td>None</td>\n",
       "      <td>0000-00-00</td>\n",
       "      <td>34N</td>\n",
       "      <td>74W</td>\n",
       "      <td>6TH PM</td>\n",
       "      <td>Section: 034 N2, N2SW, SESE;Section: 035 N2, SE.</td>\n",
       "      <td>None</td>\n",
       "    </tr>\n",
       "    <tr>\n",
       "      <th>2168</th>\n",
       "      <td>WYW189830</td>\n",
       "      <td>NO</td>\n",
       "      <td>R&amp;R Royalty</td>\n",
       "      <td>2020-03-24</td>\n",
       "      <td>2020-06-01</td>\n",
       "      <td>2030-06-01</td>\n",
       "      <td>1231.86</td>\n",
       "      <td>CARBON</td>\n",
       "      <td>WY</td>\n",
       "      <td>None</td>\n",
       "      <td>0000-00-00</td>\n",
       "      <td>19N</td>\n",
       "      <td>91W</td>\n",
       "      <td>6TH PM</td>\n",
       "      <td>Section: 002 LOTS 1,2,3,4,5,6,7,8,9,10,11,12,1...</td>\n",
       "      <td>None</td>\n",
       "    </tr>\n",
       "    <tr>\n",
       "      <th>2169</th>\n",
       "      <td>WYW189850</td>\n",
       "      <td>NO</td>\n",
       "      <td>R&amp;R Royalty</td>\n",
       "      <td>2020-03-24</td>\n",
       "      <td>2020-06-01</td>\n",
       "      <td>2030-06-01</td>\n",
       "      <td>276.54</td>\n",
       "      <td>SWEETWATER</td>\n",
       "      <td>WY</td>\n",
       "      <td>None</td>\n",
       "      <td>0000-00-00</td>\n",
       "      <td>14N</td>\n",
       "      <td>94W</td>\n",
       "      <td>6TH PM</td>\n",
       "      <td>Section: 031 LOTS 2,3,4;Section: 031 E2W2.</td>\n",
       "      <td>None</td>\n",
       "    </tr>\n",
       "    <tr>\n",
       "      <th>2170</th>\n",
       "      <td>WYW189851</td>\n",
       "      <td>NO</td>\n",
       "      <td>R&amp;R Royalty</td>\n",
       "      <td>2020-03-24</td>\n",
       "      <td>2020-06-01</td>\n",
       "      <td>2030-06-01</td>\n",
       "      <td>648.52</td>\n",
       "      <td>SWEETWATER</td>\n",
       "      <td>WY</td>\n",
       "      <td>None</td>\n",
       "      <td>0000-00-00</td>\n",
       "      <td>21N</td>\n",
       "      <td>94W</td>\n",
       "      <td>6TH PM</td>\n",
       "      <td>Section: 024 LOTS 1,2,3,4,5,6,7,8,9,10,11,12,1...</td>\n",
       "      <td>None</td>\n",
       "    </tr>\n",
       "    <tr>\n",
       "      <th>2171</th>\n",
       "      <td>WYW189891</td>\n",
       "      <td>NO</td>\n",
       "      <td>R&amp;R Royalty</td>\n",
       "      <td>2020-03-24</td>\n",
       "      <td>2020-06-01</td>\n",
       "      <td>2030-06-01</td>\n",
       "      <td>2298.76</td>\n",
       "      <td>SUBLETTE</td>\n",
       "      <td>WY</td>\n",
       "      <td>None</td>\n",
       "      <td>0000-00-00</td>\n",
       "      <td>28N</td>\n",
       "      <td>112W</td>\n",
       "      <td>6TH PM</td>\n",
       "      <td>Section: 002 LOTS 1,2,3,4,5,6,7,8,9,10,11,12;S...</td>\n",
       "      <td>None</td>\n",
       "    </tr>\n",
       "    <tr>\n",
       "      <th>2172</th>\n",
       "      <td>WYW189892</td>\n",
       "      <td>NO</td>\n",
       "      <td>R&amp;R Royalty</td>\n",
       "      <td>2020-03-24</td>\n",
       "      <td>2020-06-01</td>\n",
       "      <td>2030-06-01</td>\n",
       "      <td>1160.00</td>\n",
       "      <td>SUBLETTE</td>\n",
       "      <td>WY</td>\n",
       "      <td>None</td>\n",
       "      <td>0000-00-00</td>\n",
       "      <td>29N</td>\n",
       "      <td>112W</td>\n",
       "      <td>6TH PM</td>\n",
       "      <td>Section: 011 SWSW;Section: 014 S2NE,W2, SWSE, ...</td>\n",
       "      <td>None</td>\n",
       "    </tr>\n",
       "    <tr>\n",
       "      <th>2173</th>\n",
       "      <td>WYW189893</td>\n",
       "      <td>NO</td>\n",
       "      <td>R&amp;R Royalty</td>\n",
       "      <td>2020-03-24</td>\n",
       "      <td>2020-06-01</td>\n",
       "      <td>2030-06-01</td>\n",
       "      <td>75.70</td>\n",
       "      <td>SUBLETTE</td>\n",
       "      <td>WY</td>\n",
       "      <td>None</td>\n",
       "      <td>0000-00-00</td>\n",
       "      <td>28N</td>\n",
       "      <td>113W</td>\n",
       "      <td>6TH PM</td>\n",
       "      <td>Section: 013 LOTS 4;Section: 024 LOTS 1.</td>\n",
       "      <td>None</td>\n",
       "    </tr>\n",
       "  </tbody>\n",
       "</table>\n",
       "<p>2174 rows × 16 columns</p>\n",
       "</div>"
      ],
      "text/plain": [
       "       LEASE_NO PLOTTED           GRANTEE   SALE_DATE EFFECTIVE_DATE_OF_LEASE  \\\n",
       "0     ALES51293      NO       R&R Royalty  2002-03-28              2002-05-01   \n",
       "1     ALES51294      NO       R&R Royalty  2002-03-28              2002-05-01   \n",
       "2     ALES55113     YES       R&R Royalty  2007-12-20              2008-02-01   \n",
       "3     ALES55116     YES       R&R Royalty  2007-12-20              2008-02-01   \n",
       "4     ALES55117     YES       R&R Royalty  2007-12-20              2008-02-01   \n",
       "5     ALES55118     YES       R&R Royalty  2007-12-20              2008-02-01   \n",
       "6     ALES55119     YES       R&R Royalty  2007-12-20              2008-02-01   \n",
       "7     ALES55121     YES       R&R Royalty  2007-12-20              2008-02-01   \n",
       "8     ALES55122     YES       R&R Royalty  2007-12-20              2008-02-01   \n",
       "9     ALES55123     YES       R&R Royalty  2007-12-20              2008-02-01   \n",
       "10    ALES55124     YES       R&R Royalty  2007-12-20              2008-02-01   \n",
       "11    ALES55125     YES       R&R Royalty  2007-12-20              2008-02-01   \n",
       "12    ALES55126     YES       R&R Royalty  2007-12-20              2008-02-01   \n",
       "13    ALES55128     YES       R&R Royalty  2007-12-20              2008-02-01   \n",
       "14    ALES55129     YES       R&R Royalty  2007-12-20              2008-02-01   \n",
       "15    ALES55130     YES       R&R Royalty  2007-12-20              2008-02-01   \n",
       "16    ALES55131     YES       R&R Royalty  2007-12-20              2008-02-01   \n",
       "17    ALES55132     YES       R&R Royalty  2007-12-20              2008-02-01   \n",
       "18    ALES55138     YES       R&R Royalty  2007-12-20              2008-02-01   \n",
       "19    ALES55311     YES       R&R Royalty  2008-06-19              2008-09-01   \n",
       "20    ALES55543     YES       R&R Royalty  2008-12-18              2009-02-01   \n",
       "21    ALES55546     YES       R&R Royalty  2008-12-18              2009-02-01   \n",
       "22    ALES55549     YES  Magnum Producing  2008-12-18              2009-02-01   \n",
       "23    ALES55550     YES  Magnum Producing  2008-12-18              2009-02-01   \n",
       "24    ALES55551     YES       R&R Royalty  2008-12-18              2009-02-01   \n",
       "25    ALES55552     YES  Magnum Producing  2008-12-18              2009-02-01   \n",
       "26    ALES55553     YES  Magnum Producing  2008-12-18              2009-02-01   \n",
       "27    ALES55554     YES  Magnum Producing  2008-12-18              2009-02-01   \n",
       "28    ALES55555     YES  Magnum Producing  2008-12-18              2009-02-01   \n",
       "29    ALES56200     YES       R&R Royalty  2010-03-18              2010-06-01   \n",
       "...         ...     ...               ...         ...                     ...   \n",
       "2144  WYW189665     YES       R&R Royalty  2019-12-11              2020-02-01   \n",
       "2145  WYW189666     YES       R&R Royalty  2019-12-11              2020-02-01   \n",
       "2146  WYW189667     YES       R&R Royalty  2019-12-11              2020-02-01   \n",
       "2147  WYW189668     YES       R&R Royalty  2019-12-11              2020-02-01   \n",
       "2148  WYW189670     YES       R&R Royalty  2019-12-11              2020-02-01   \n",
       "2149  WYW189672     YES       R&R Royalty  2019-12-11              2020-02-01   \n",
       "2150  WYW189673     YES       R&R Royalty  2019-12-11              2020-02-01   \n",
       "2151  WYW189796      NO       R&R Royalty  2020-03-24              2020-06-01   \n",
       "2152  WYW189797      NO       R&R Royalty  2020-03-24              2020-06-01   \n",
       "2153  WYW189804      NO       R&R Royalty  2020-03-24              2020-10-01   \n",
       "2154  WYW189807      NO       R&R Royalty  2020-03-24              2020-06-01   \n",
       "2155  WYW189810      NO       R&R Royalty  2020-03-24              2020-06-01   \n",
       "2156  WYW189811      NO       R&R Royalty  2020-03-24              2020-06-01   \n",
       "2157  WYW189812      NO       R&R Royalty  2020-03-24              2020-06-01   \n",
       "2158  WYW189814      NO       R&R Royalty  2020-03-24              2020-06-01   \n",
       "2159  WYW189815      NO       R&R Royalty  2020-03-24              2020-06-01   \n",
       "2160  WYW189816      NO       R&R Royalty  2020-03-24              2020-06-01   \n",
       "2161  WYW189819      NO       R&R Royalty  2020-03-24              2020-06-01   \n",
       "2162  WYW189820      NO       R&R Royalty  2020-03-24              2020-06-01   \n",
       "2163  WYW189821      NO       R&R Royalty  2020-03-24              2020-06-01   \n",
       "2164  WYW189822      NO       R&R Royalty  2020-03-24              2020-06-01   \n",
       "2165  WYW189825      NO       R&R Royalty  2020-03-24              2020-06-01   \n",
       "2166  WYW189826      NO       R&R Royalty  2020-03-24              2020-06-01   \n",
       "2167  WYW189827      NO       R&R Royalty  2020-03-24              2020-06-01   \n",
       "2168  WYW189830      NO       R&R Royalty  2020-03-24              2020-06-01   \n",
       "2169  WYW189850      NO       R&R Royalty  2020-03-24              2020-06-01   \n",
       "2170  WYW189851      NO       R&R Royalty  2020-03-24              2020-06-01   \n",
       "2171  WYW189891      NO       R&R Royalty  2020-03-24              2020-06-01   \n",
       "2172  WYW189892      NO       R&R Royalty  2020-03-24              2020-06-01   \n",
       "2173  WYW189893      NO       R&R Royalty  2020-03-24              2020-06-01   \n",
       "\n",
       "     EXPIRATION_DATE    ACRES      COUNTY  ST  \\\n",
       "0         2012-05-01    80.25       LAMAR  AL   \n",
       "1         2012-05-01    80.70       LAMAR  AL   \n",
       "2         2018-02-01   161.55   COVINGTON  AL   \n",
       "3         2018-02-01  1470.17   COVINGTON  AL   \n",
       "4         2018-02-01   479.55   COVINGTON  AL   \n",
       "5         2018-02-01   685.17    ESCAMBIA  AL   \n",
       "6         2018-02-01  1720.42    ESCAMBIA  AL   \n",
       "7         2018-02-01  1480.33    ESCAMBIA  AL   \n",
       "8         2018-02-01  1860.00    ESCAMBIA  AL   \n",
       "9         2018-02-01  2316.75   COVINGTON  AL   \n",
       "10        2018-02-01   788.96   COVINGTON  AL   \n",
       "11        2018-02-01  1968.96   COVINGTON  AL   \n",
       "12        2018-02-01  1081.11   COVINGTON  AL   \n",
       "13        2018-02-01  1783.17   COVINGTON  AL   \n",
       "14        2018-02-01   920.78   COVINGTON  AL   \n",
       "15        2018-02-01   200.00   COVINGTON  AL   \n",
       "16        2018-02-01    80.00   COVINGTON  AL   \n",
       "17        2018-02-01  1516.00   COVINGTON  AL   \n",
       "18        2018-02-01   154.30      SHELBY  AL   \n",
       "19        2018-09-01   550.48    Escambia  AL   \n",
       "20        2019-02-01   160.00    Escambia  AL   \n",
       "21        2019-02-01   640.00    Escambia  AL   \n",
       "22        2019-02-01    40.01        HALE  AL   \n",
       "23        2019-02-01   160.00        HALE  AL   \n",
       "24        2019-02-01   160.00       Perry  AL   \n",
       "25        2019-02-01   428.23        BIBB  AL   \n",
       "26        2019-02-01   477.28        BIBB  AL   \n",
       "27        2019-02-01    40.00        BIBB  AL   \n",
       "28        2019-02-01    40.36        BIBB  AL   \n",
       "29        2020-06-01   122.00     CONECUH  AL   \n",
       "...              ...      ...         ...  ..   \n",
       "2144      2030-02-01  2298.62    SUBLETTE  WY   \n",
       "2145      2030-02-01  2560.00    SUBLETTE  WY   \n",
       "2146      2030-02-01  1474.50    SUBLETTE  WY   \n",
       "2147      2030-02-01  2520.00    SUBLETTE  WY   \n",
       "2148      2030-02-01  1920.00    SUBLETTE  WY   \n",
       "2149      2030-02-01  1835.46    SUBLETTE  WY   \n",
       "2150      2030-02-01  2400.00    SUBLETTE  WY   \n",
       "2151      2030-06-01  1360.00    NIOBRARA  WY   \n",
       "2152      2030-06-01  1320.00    NIOBRARA  WY   \n",
       "2153      2030-10-01   320.00    CONVERSE  WY   \n",
       "2154      2030-06-01  1519.54    CONVERSE  WY   \n",
       "2155      2030-06-01   240.00    CONVERSE  WY   \n",
       "2156      2030-06-01   320.00    CONVERSE  WY   \n",
       "2157      2030-06-01   240.00    CONVERSE  WY   \n",
       "2158      2030-06-01   480.00    CONVERSE  WY   \n",
       "2159      2030-06-01   320.00    CONVERSE  WY   \n",
       "2160      2030-06-01   320.00    CONVERSE  WY   \n",
       "2161      2030-06-01   198.32    CAMPBELL  WY   \n",
       "2162      2030-06-01    40.00    CONVERSE  WY   \n",
       "2163      2030-06-01    80.00    CONVERSE  WY   \n",
       "2164      2030-06-01   160.00    CONVERSE  WY   \n",
       "2165      2030-06-01    80.00    CONVERSE  WY   \n",
       "2166      2030-06-01  2278.30    CONVERSE  WY   \n",
       "2167      2030-06-01   920.00    CONVERSE  WY   \n",
       "2168      2030-06-01  1231.86      CARBON  WY   \n",
       "2169      2030-06-01   276.54  SWEETWATER  WY   \n",
       "2170      2030-06-01   648.52  SWEETWATER  WY   \n",
       "2171      2030-06-01  2298.76    SUBLETTE  WY   \n",
       "2172      2030-06-01  1160.00    SUBLETTE  WY   \n",
       "2173      2030-06-01    75.70    SUBLETTE  WY   \n",
       "\n",
       "                                        STATUS_COMMENTS EXPIRATION_YEAR  \\\n",
       "0                                          Expired 2012      0000-00-00   \n",
       "1                                          Expired 2012      0000-00-00   \n",
       "2              EXP. AGREEMENT - PRUET 3D/CRAIN- EXPIRED      0000-00-00   \n",
       "3                                                  None      0000-00-00   \n",
       "4                                                  None      0000-00-00   \n",
       "5     LEASE AMENDED. 320 ACR. CANC. SEC.11 REMOVED. ...      0000-00-00   \n",
       "6                                                  None      0000-00-00   \n",
       "7              EXP. AGREEMENT - PRUET 3D/CRAIN- EXPIRED      0000-00-00   \n",
       "8                                                  None      0000-00-00   \n",
       "9                                                  None      0000-00-00   \n",
       "10                                                 None      0000-00-00   \n",
       "11                                                 None      0000-00-00   \n",
       "12                                                 None      0000-00-00   \n",
       "13                                                 None      0000-00-00   \n",
       "14                                                 None      0000-00-00   \n",
       "15                                                 None      0000-00-00   \n",
       "16                                                 None      0000-00-00   \n",
       "17                                                 None      0000-00-00   \n",
       "18                                                 None      0000-00-00   \n",
       "19                      EXP. AGREEMENT - PRUET 3D/CRAIN      0000-00-00   \n",
       "20    LEASE ACREAGE AMENDED. TO BE REFUNDED: EXCESS ...      0000-00-00   \n",
       "21                                         EXPIRED 2019      0000-00-00   \n",
       "22                            BOUGHT FROM MEADE HUFFORD      0000-00-00   \n",
       "23                            BOUGHT FROM MEADE HUFFORD      0000-00-00   \n",
       "24                                         EXPIRED 2019      0000-00-00   \n",
       "25                            BOUGHT FROM MEADE HUFFORD      0000-00-00   \n",
       "26                            BOUGHT FROM MEADE HUFFORD      0000-00-00   \n",
       "27                            BOUGHT FROM MEADE HUFFORD      0000-00-00   \n",
       "28                            BOUGHT FROM MEADE HUFFORD      0000-00-00   \n",
       "29                                                 None      0000-00-00   \n",
       "...                                                 ...             ...   \n",
       "2144                          Receipt Not yet received       0000-00-00   \n",
       "2145                          Receipt Not yet received       0000-00-00   \n",
       "2146                          Receipt Not yet received       0000-00-00   \n",
       "2147                          Receipt Not yet received       0000-00-00   \n",
       "2148                          Receipt Not yet received       0000-00-00   \n",
       "2149                          Receipt Not yet received       0000-00-00   \n",
       "2150                          Receipt Not yet received       0000-00-00   \n",
       "2151                                               None      0000-00-00   \n",
       "2152                                               None      0000-00-00   \n",
       "2153                                               None      0000-00-00   \n",
       "2154  HBP-MINIMUM ROYALTY STATUS AS PER CANDACE MERR...      0000-00-00   \n",
       "2155                                               None            None   \n",
       "2156                                               None      0000-00-00   \n",
       "2157                                               None      0000-00-00   \n",
       "2158                                               None      0000-00-00   \n",
       "2159                                               None      0000-00-00   \n",
       "2160                                               None      0000-00-00   \n",
       "2161                                               None      0000-00-00   \n",
       "2162                                               None      0000-00-00   \n",
       "2163                                               None      0000-00-00   \n",
       "2164                                               None      0000-00-00   \n",
       "2165  HBP - COMMITTED TO WYW180786 - SAMSON RESOURCE...      0000-00-00   \n",
       "2166                                               None      0000-00-00   \n",
       "2167                                               None      0000-00-00   \n",
       "2168                                               None      0000-00-00   \n",
       "2169                                               None      0000-00-00   \n",
       "2170                                               None      0000-00-00   \n",
       "2171                                               None      0000-00-00   \n",
       "2172                                               None      0000-00-00   \n",
       "2173                                               None      0000-00-00   \n",
       "\n",
       "     TOWNSHIP RANGE_PLSS                                      DESCRIPTION_I  \\\n",
       "0        None       None                      SEE STIPULATIONS & LSE NOTICE   \n",
       "1        None       None                      SEE STIPULATIONS & LSE NOTICE   \n",
       "2        None       None                                CONECUH NATL FOREST   \n",
       "3        None       None                                CONECUH NATL FOREST   \n",
       "4        None       None                                CONECUH NATL FOREST   \n",
       "5        None       None                                CONECUH NATL FOREST   \n",
       "6        None       None                                CONECUH NATL FOREST   \n",
       "7        None       None                                CONECUH NATL FOREST   \n",
       "8        None       None                                CONECUH NATL FOREST   \n",
       "9        None       None                                CONECUH NATL FOREST   \n",
       "10       None       None                                CONECUH NATL FOREST   \n",
       "11       None       None                                CONECUH NATL FOREST   \n",
       "12       None       None                                CONECUH NATL FOREST   \n",
       "13       None       None                                CONECUH NATL FOREST   \n",
       "14       None       None                                CONECUH NATL FOREST   \n",
       "15       None       None                                CONECUH NATL FOREST   \n",
       "16       None       None                                CONECUH NATL FOREST   \n",
       "17       None       None                                CONECUH NATL FOREST   \n",
       "18       None       None                             TALLADEGA, NATL FOREST   \n",
       "19       None       None                            Conecuh National Forest   \n",
       "20         1N        13E                       BLM; Conecuh National Forest   \n",
       "21         1N        13E                       BLM; Conecuh National Forest   \n",
       "22        22N         6E       T22N R6E ST STEPHENS MERIDIAN SEC 2 SWSW       \n",
       "23        22N         6E        T22N R6E ST STEPHENS MERIDIAN SEC 15 NW       \n",
       "24        22N         7E                     BLM; Talledega National Forest   \n",
       "25        23N         7E  T23N R7E ST STEPHENS MERIDIAN SEC 5 NWNW S2NW ...   \n",
       "26        23N         7E  T23N R7E ST STEPHENS MERIDIAN SEC 7 N2NE SWNE ...   \n",
       "27        23N         7E  T23N R7E ST STEPHENS MERIDIAN SEC 17 SWNW N2SW...   \n",
       "28        23N         7E      T23N R7E ST STEPHENS MERIDIAN SEC 19 NENE       \n",
       "29         5N        13E                    ST STEPHENS MERIDIAN, T5N, R13E   \n",
       "...       ...        ...                                                ...   \n",
       "2144      29N       106W                                       6TH MERIDIAN   \n",
       "2145      29N       106W                                       6TH MERIDIAN   \n",
       "2146      29N       106W                                       6TH MERIDIAN   \n",
       "2147      29N       106W                                       6TH MERIDIAN   \n",
       "2148      29N       106W                                       6TH MERIDIAN   \n",
       "2149      30N       109W                                       6TH MERIDIAN   \n",
       "2150      30N       109W                                       6TH MERIDIAN   \n",
       "2151      36N        66W                                             6TH PM   \n",
       "2152      36N        66W                                             6TH PM   \n",
       "2153      37N        71W                                             6TH PM   \n",
       "2154      39N        71W                                             6TH PM   \n",
       "2155      39N        71W                                             6TH PM   \n",
       "2156      39N        71W                                             6TH PM   \n",
       "2157      39N        71W                                             6TH PM   \n",
       "2158      39N        71W                                             6TH PM   \n",
       "2159      39N        71W                                             6TH PM   \n",
       "2160      39N        71W                                             6TH PM   \n",
       "2161      46N        72W                                             6TH PM   \n",
       "2162      38N        73W                                             6TH PM   \n",
       "2163      38N        73W                                             6TH PM   \n",
       "2164      38N        73W                                             6TH PM   \n",
       "2165      38N        73W                                             6TH PM   \n",
       "2166      34N        74W                                             6TH PM   \n",
       "2167      34N        74W                                             6TH PM   \n",
       "2168      19N        91W                                             6TH PM   \n",
       "2169      14N        94W                                             6TH PM   \n",
       "2170      21N        94W                                             6TH PM   \n",
       "2171      28N       112W                                             6TH PM   \n",
       "2172      29N       112W                                             6TH PM   \n",
       "2173      28N       113W                                             6TH PM   \n",
       "\n",
       "                                         DESCRIPTION_II  \\\n",
       "0                         T16S,R16W HUNTSVILLE MERIDIAN   \n",
       "1                         T16S,R16W HUNTSVILLE MERIDIAN   \n",
       "2                          T1N,R15E,ST.STEPHENS MERIDAN   \n",
       "3                          T1N,R15E,ST.STEPHENS MERIDAN   \n",
       "4                          T1N,R15E,ST.STEPHENS MERIDAN   \n",
       "5                          T2N,R13E,ST.STEPHENS MERIDAN   \n",
       "6                          T2N,R13E,ST.STEPHENS MERIDAN   \n",
       "7                          T2N,R13E,ST.STEPHENS MERIDAN   \n",
       "8                          T2N,R13E,ST.STEPHENS MERIDAN   \n",
       "9                         T2N,R15E,ST.STEPHENS MERIDIAN   \n",
       "10                        T2N,R15E,ST.STEPHENS MERIDIAN   \n",
       "11                        T2N,R15E,ST.STEPHENS MERIDIAN   \n",
       "12                        T2N,R15E,ST.STEPHENS MERIDIAN   \n",
       "13                        T2N,R15E,ST.STEPHENS MERIDIAN   \n",
       "14                        T2N,R15E,ST.STEPHENS MERIDIAN   \n",
       "15                        T2N,R15E,ST.STEPHENS MERIDIAN   \n",
       "16                        T2N,R15E,ST.STEPHENS MERIDIAN   \n",
       "17                        T2N,R15E,ST.STEPHENS MERIDIAN   \n",
       "18                         T18S,R1E,HUNTSVILLE MERIDIAN   \n",
       "19                       T2N R13E St. Stephens Meridian   \n",
       "20                          T0010N, R0130E; 25 Meridian   \n",
       "21                          T0010N, R0130E; 25 Meridian   \n",
       "22                                                 None   \n",
       "23                                                 None   \n",
       "24                          T0220N; R0070E; 25 Meridian   \n",
       "25                                                 None   \n",
       "26                                                 None   \n",
       "27                                                 None   \n",
       "28                                                 None   \n",
       "29               SEC 32, N2SE,NESW+2A.E.OF.ROAD.IN.NWSW   \n",
       "...                                                 ...   \n",
       "2144  Sec. 007 LOTS 1-4; Sec. 007 E2, E2W2; Sec. 017...   \n",
       "2145  Sec. 010 ALL; Sec. 011 ALL; Sec. 013 ALL; Sec....   \n",
       "2146  Sec. 015 ALL; Sec. 019 LOTS 3;Sec. 019 N2NE, S...   \n",
       "2147  Sec. 020 NE, N2NW, SENW, S2; Sec. 021 ALL; Sec...   \n",
       "2148          Sec. 027 ALL; Sec. 032 ALL; Sec. 033 ALL;   \n",
       "2149  Sec. 003 LOTS 1-4; Sec. 003 S2N2, S2; Sec. 004...   \n",
       "2150  Sec. 011 ALL; Sec. 012 W2, SE; Sec. 014 ALL; S...   \n",
       "2151  Section: 026 E2;Section: 027 SENE, N2NW, SWNW,...   \n",
       "2152  Section: 033 ALL ; Section: 034 NENE, W2; Sect...   \n",
       "2153                                   Section: 003 S2.   \n",
       "2154  Section: 003 LOTS 2;Section: 003 S2NE, NESE, S...   \n",
       "2155                             Section: 014 W2NE, SE.   \n",
       "2156                                   Section: 014 W2.   \n",
       "2157                 Section: 017 NE;Section: 028 N2NE.   \n",
       "2158                 Section: 020 N2, SESW, NESE, S2SE.   \n",
       "2159                                   Section: 021 N2.   \n",
       "2160                                   Section: 022 N2.   \n",
       "2161  Section: 013 LOTS 10,11,12,13;Section: 024 LOT...   \n",
       "2162                                 Section: 003 SWNW.   \n",
       "2163                           Section: 004 SENE, SWNW.   \n",
       "2164                     Section: 005 SENE, NESE, S2SE.   \n",
       "2165                           Section: 018 SENE, SESW.   \n",
       "2166  Section: 026 NENE,S2NE,W2NW, N2SW, SESW, NESE;...   \n",
       "2167   Section: 034 N2, N2SW, SESE;Section: 035 N2, SE.   \n",
       "2168  Section: 002 LOTS 1,2,3,4,5,6,7,8,9,10,11,12,1...   \n",
       "2169         Section: 031 LOTS 2,3,4;Section: 031 E2W2.   \n",
       "2170  Section: 024 LOTS 1,2,3,4,5,6,7,8,9,10,11,12,1...   \n",
       "2171  Section: 002 LOTS 1,2,3,4,5,6,7,8,9,10,11,12;S...   \n",
       "2172  Section: 011 SWSW;Section: 014 S2NE,W2, SWSE, ...   \n",
       "2173           Section: 013 LOTS 4;Section: 024 LOTS 1.   \n",
       "\n",
       "                                        DESCRIPTION_III  \n",
       "0                                           SEC 5, N2NE  \n",
       "1                            SEC 11, NESW; SEC 20, NWNE  \n",
       "2                 SEC 5, N2NW; SEC 6, SESW; SEC 8, NWSW  \n",
       "3     ACREAGE IN SEC 15, 16, 18, 21 & 22; SEE LSE FO...  \n",
       "4     SEC 27,SENW,SW; SEC 28,E2NE; SEC 33, NENE; SEC...  \n",
       "5     SEC 8,N2NW,E2SE; SEC 9,SENE, S2; SEC15,N2,SW,W2SE  \n",
       "6     SEC 16,ALL; SEC 19,E2SW; SEC20,W2NE,SENE,NW,SE...  \n",
       "7                 SEC 27,ALL; SEC 28,ALL; SEC29 SENW,SW  \n",
       "8     SEC 30,E2SE, E2E2W2SE; SEC32,E2; SEC33,ALL; SE...  \n",
       "9     SEC 2,SWN2,SWNW,S2; SEC 3,ALL; SEC4,ALL; SEC 5...  \n",
       "10    SEC 6,SE; SEC 7,SWNW,S2; SEC 8,NE, Pt.E2NW,SW,...  \n",
       "11    SEC 11, ALL; SEC 12,NE,SWNW,W2SW,SESW,SWSE; SE...  \n",
       "12    SEC 15,PT.OF.NW; SEC 16,ALL; SEC 17,SEN2,PT.OF...  \n",
       "13    SEC 22,W2SE.LESS.4.03.ACRES.LYING.IN.NWSE; SEC...  \n",
       "14    SEC 26, ALL; SEC28 - SEE LEASE FOR DETAILS (NO...  \n",
       "15                                      SEC 29, SW,NWSE  \n",
       "16                                          SEC 32,S2SW  \n",
       "17    SEC 34,ALL; SEC 35,ALL; SEC36,W2NW,SENW,NESW L...  \n",
       "18                                           SEC 32, SE  \n",
       "19    Sec. 22, NWNENE, S2NENE, SENE, W2NE, E2NW, S2;...  \n",
       "20                                 Sec. 003, N2NE, N2SE  \n",
       "21                                        Sec. 021, All  \n",
       "22                                                 None  \n",
       "23                                                 None  \n",
       "24                                         Sec. 021, SW  \n",
       "25                                                 None  \n",
       "26                                                 None  \n",
       "27                                                 None  \n",
       "28                                                 None  \n",
       "29                                                 None  \n",
       "...                                                 ...  \n",
       "2144  Sec. 019 LOTS 1, 2, 4; Sec. 019 SENE, NENW, E2...  \n",
       "2145                                               None  \n",
       "2146                                               None  \n",
       "2147                                               None  \n",
       "2148                                               None  \n",
       "2149                                               None  \n",
       "2150                                               None  \n",
       "2151                                               None  \n",
       "2152                                               None  \n",
       "2153                                               None  \n",
       "2154                                               None  \n",
       "2155                                               None  \n",
       "2156                                               None  \n",
       "2157                                               None  \n",
       "2158                                               None  \n",
       "2159                                               None  \n",
       "2160                                               None  \n",
       "2161                                               None  \n",
       "2162                                               None  \n",
       "2163                                               None  \n",
       "2164                                               None  \n",
       "2165                                               None  \n",
       "2166                                               None  \n",
       "2167                                               None  \n",
       "2168                                               None  \n",
       "2169                                               None  \n",
       "2170                                               None  \n",
       "2171                                               None  \n",
       "2172                                               None  \n",
       "2173                                               None  \n",
       "\n",
       "[2174 rows x 16 columns]"
      ]
     },
     "execution_count": 43,
     "metadata": {},
     "output_type": "execute_result"
    }
   ],
   "source": [
    "pd.read_sql('select * from details', db)"
   ]
  },
  {
   "cell_type": "code",
   "execution_count": 252,
   "metadata": {},
   "outputs": [],
   "source": [
    "db.close()"
   ]
  },
  {
   "cell_type": "code",
   "execution_count": null,
   "metadata": {},
   "outputs": [],
   "source": []
  }
 ],
 "metadata": {
  "kernelspec": {
   "display_name": "Python 3",
   "language": "python",
   "name": "python3"
  },
  "language_info": {
   "codemirror_mode": {
    "name": "ipython",
    "version": 3
   },
   "file_extension": ".py",
   "mimetype": "text/x-python",
   "name": "python",
   "nbconvert_exporter": "python",
   "pygments_lexer": "ipython3",
   "version": "3.6.10"
  }
 },
 "nbformat": 4,
 "nbformat_minor": 4
}
